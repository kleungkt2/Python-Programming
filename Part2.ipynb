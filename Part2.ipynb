{
 "cells": [
  {
   "cell_type": "code",
   "execution_count": null,
   "metadata": {},
   "outputs": [],
   "source": []
  },
  {
   "cell_type": "code",
   "execution_count": 10,
   "metadata": {},
   "outputs": [
    {
     "ename": "IndentationError",
     "evalue": "unexpected indent (<ipython-input-10-e7051273d63a>, line 32)",
     "output_type": "error",
     "traceback": [
      "\u001b[0;36m  File \u001b[0;32m\"<ipython-input-10-e7051273d63a>\"\u001b[0;36m, line \u001b[0;32m32\u001b[0m\n\u001b[0;31m    if answer == \"yes\":\u001b[0m\n\u001b[0m    ^\u001b[0m\n\u001b[0;31mIndentationError\u001b[0m\u001b[0;31m:\u001b[0m unexpected indent\n"
     ]
    }
   ],
   "source": [
    "import getpass\n",
    "accounts = { \n",
    "            \"James\":\"Kwok\",\n",
    "            \"Charles\":\"Wong\",\n",
    "            \"Bosco\":\"Tam\"\n",
    "            }\n",
    "username = \"\"\n",
    "def CheckForPassword(username,password):\n",
    "    while username not in accounts:\n",
    "        if username == \"\":\n",
    "            username = input(\"Username: \")\n",
    "        else:\n",
    "            username = input(\"%s does not exist.\\nUsername: \" % username)\n",
    "    password = \"\"\n",
    "    for i in range(3):\n",
    "        if password != accounts[username]:\n",
    "            if i == 0:\n",
    "                password = getpass.getpass(\"Password: \")\n",
    "            else:\n",
    "                password = getpass.getpass(\"Login failed\\nPassword: \")\n",
    "        else:\n",
    "            print(\"Hello, {}\".format(username))\n",
    "            \n",
    "    else:\n",
    "        print(\"Login failed! Exceed attempt limit.\")\n",
    "\n",
    "        \n",
    "def ChangePassword(new_pw,account):\n",
    "    new_pw = password\n",
    "\n",
    "answer = input(\"Change Password?\")\n",
    "if answer == \"yes\":\n",
    "    new_pw=input(\"New Password:\")\n",
    "    ChangePassword(new_pw,password)\n",
    "elif answer ==\"no\"\n",
    "    print(\"Can access data now.\")        \n",
    "        break\n",
    "else:\n",
    "    print(\"Incorrect answer, please try again\")\n",
    "    continue\n",
    "            \n",
    "\n"
   ]
  },
  {
   "cell_type": "code",
   "execution_count": 4,
   "metadata": {},
   "outputs": [
    {
     "name": "stdout",
     "output_type": "stream",
     "text": [
      "5\n",
      "2\n",
      "3\n",
      "Q\n"
     ]
    }
   ],
   "source": [
    "import random\n",
    "\n",
    "\n",
    "for i in range(4):\n",
    "    card = random.randint(1, 14)\n",
    "    if card == 11:\n",
    "        print(\"J\")\n",
    "    elif card == 12:\n",
    "        print(\"Q\")\n",
    "    elif card == 13:\n",
    "        print(\"K\")\n",
    "    elif card == 14:\n",
    "        print(\"A\")\n",
    "    else:\n",
    "        print(card)\n",
    "        \n",
    "        "
   ]
  },
  {
   "cell_type": "code",
   "execution_count": null,
   "metadata": {},
   "outputs": [],
   "source": []
  }
 ],
 "metadata": {
  "kernelspec": {
   "display_name": "Python 3",
   "language": "python",
   "name": "python3"
  },
  "language_info": {
   "codemirror_mode": {
    "name": "ipython",
    "version": 3
   },
   "file_extension": ".py",
   "mimetype": "text/x-python",
   "name": "python",
   "nbconvert_exporter": "python",
   "pygments_lexer": "ipython3",
   "version": "3.7.4"
  }
 },
 "nbformat": 4,
 "nbformat_minor": 4
}
