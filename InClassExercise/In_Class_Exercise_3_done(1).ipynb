{
  "nbformat": 4,
  "nbformat_minor": 0,
  "metadata": {
    "colab": {
      "name": "In_Class_Exercise_3_done.ipynb",
      "provenance": [],
      "collapsed_sections": [],
      "toc_visible": true
    },
    "kernelspec": {
      "display_name": "Python 3",
      "language": "python",
      "name": "python3"
    },
    "language_info": {
      "codemirror_mode": {
        "name": "ipython",
        "version": 3
      },
      "file_extension": ".py",
      "mimetype": "text/x-python",
      "name": "python",
      "nbconvert_exporter": "python",
      "pygments_lexer": "ipython3",
      "version": "3.8.3"
    },
    "widgets": {
      "application/vnd.jupyter.widget-state+json": {
        "a4a61e97897a40c2afdc8bef094d0000": {
          "model_module": "@jupyter-widgets/controls",
          "model_name": "IntSliderModel",
          "state": {
            "_view_name": "IntSliderView",
            "style": "IPY_MODEL_4bd92927069c4bf4aaebcbc8b64f3e61",
            "_dom_classes": [],
            "description": "input",
            "step": 1,
            "_model_name": "IntSliderModel",
            "orientation": "horizontal",
            "max": 10,
            "_view_module": "@jupyter-widgets/controls",
            "_model_module_version": "1.5.0",
            "value": 4,
            "_view_count": null,
            "disabled": false,
            "_view_module_version": "1.5.0",
            "min": 0,
            "continuous_update": true,
            "readout_format": "d",
            "description_tooltip": null,
            "readout": true,
            "_model_module": "@jupyter-widgets/controls",
            "layout": "IPY_MODEL_00e5beea912e47cc9427791730d3bb71"
          }
        },
        "4bd92927069c4bf4aaebcbc8b64f3e61": {
          "model_module": "@jupyter-widgets/controls",
          "model_name": "SliderStyleModel",
          "state": {
            "_view_name": "StyleView",
            "handle_color": null,
            "_model_name": "SliderStyleModel",
            "description_width": "",
            "_view_module": "@jupyter-widgets/base",
            "_model_module_version": "1.5.0",
            "_view_count": null,
            "_view_module_version": "1.2.0",
            "_model_module": "@jupyter-widgets/controls"
          }
        },
        "00e5beea912e47cc9427791730d3bb71": {
          "model_module": "@jupyter-widgets/base",
          "model_name": "LayoutModel",
          "state": {
            "_view_name": "LayoutView",
            "grid_template_rows": null,
            "right": null,
            "justify_content": null,
            "_view_module": "@jupyter-widgets/base",
            "overflow": null,
            "_model_module_version": "1.2.0",
            "_view_count": null,
            "flex_flow": null,
            "width": null,
            "min_width": null,
            "border": null,
            "align_items": null,
            "bottom": null,
            "_model_module": "@jupyter-widgets/base",
            "top": null,
            "grid_column": null,
            "overflow_y": null,
            "overflow_x": null,
            "grid_auto_flow": null,
            "grid_area": null,
            "grid_template_columns": null,
            "flex": null,
            "_model_name": "LayoutModel",
            "justify_items": null,
            "grid_row": null,
            "max_height": null,
            "align_content": null,
            "visibility": null,
            "align_self": null,
            "height": null,
            "min_height": null,
            "padding": null,
            "grid_auto_rows": null,
            "grid_gap": null,
            "max_width": null,
            "order": null,
            "_view_module_version": "1.2.0",
            "grid_template_areas": null,
            "object_position": null,
            "object_fit": null,
            "grid_auto_columns": null,
            "margin": null,
            "display": null,
            "left": null
          }
        },
        "23393475362a4a55911448e4b4167ca3": {
          "model_module": "@jupyter-widgets/controls",
          "model_name": "IntSliderModel",
          "state": {
            "_view_name": "IntSliderView",
            "style": "IPY_MODEL_586550d03d62462098e679cc733739b8",
            "_dom_classes": [],
            "description": "a",
            "step": 1,
            "_model_name": "IntSliderModel",
            "orientation": "horizontal",
            "max": 10,
            "_view_module": "@jupyter-widgets/controls",
            "_model_module_version": "1.5.0",
            "value": 0,
            "_view_count": null,
            "disabled": false,
            "_view_module_version": "1.5.0",
            "min": 0,
            "continuous_update": true,
            "readout_format": "d",
            "description_tooltip": null,
            "readout": true,
            "_model_module": "@jupyter-widgets/controls",
            "layout": "IPY_MODEL_dbbaee623cbd4145b6001fcbda90f42e"
          }
        },
        "586550d03d62462098e679cc733739b8": {
          "model_module": "@jupyter-widgets/controls",
          "model_name": "SliderStyleModel",
          "state": {
            "_view_name": "StyleView",
            "handle_color": null,
            "_model_name": "SliderStyleModel",
            "description_width": "",
            "_view_module": "@jupyter-widgets/base",
            "_model_module_version": "1.5.0",
            "_view_count": null,
            "_view_module_version": "1.2.0",
            "_model_module": "@jupyter-widgets/controls"
          }
        },
        "dbbaee623cbd4145b6001fcbda90f42e": {
          "model_module": "@jupyter-widgets/base",
          "model_name": "LayoutModel",
          "state": {
            "_view_name": "LayoutView",
            "grid_template_rows": null,
            "right": null,
            "justify_content": null,
            "_view_module": "@jupyter-widgets/base",
            "overflow": null,
            "_model_module_version": "1.2.0",
            "_view_count": null,
            "flex_flow": null,
            "width": null,
            "min_width": null,
            "border": null,
            "align_items": null,
            "bottom": null,
            "_model_module": "@jupyter-widgets/base",
            "top": null,
            "grid_column": null,
            "overflow_y": null,
            "overflow_x": null,
            "grid_auto_flow": null,
            "grid_area": null,
            "grid_template_columns": null,
            "flex": null,
            "_model_name": "LayoutModel",
            "justify_items": null,
            "grid_row": null,
            "max_height": null,
            "align_content": null,
            "visibility": null,
            "align_self": null,
            "height": null,
            "min_height": null,
            "padding": null,
            "grid_auto_rows": null,
            "grid_gap": null,
            "max_width": null,
            "order": null,
            "_view_module_version": "1.2.0",
            "grid_template_areas": null,
            "object_position": null,
            "object_fit": null,
            "grid_auto_columns": null,
            "margin": null,
            "display": null,
            "left": null
          }
        },
        "97c4a6833e0b48869b64ea30ebf5edb7": {
          "model_module": "@jupyter-widgets/controls",
          "model_name": "IntSliderModel",
          "state": {
            "_view_name": "IntSliderView",
            "style": "IPY_MODEL_8cf8e95d8b8b48a3a558fc2a8c8f4dc8",
            "_dom_classes": [],
            "description": "b",
            "step": 1,
            "_model_name": "IntSliderModel",
            "orientation": "horizontal",
            "max": 10,
            "_view_module": "@jupyter-widgets/controls",
            "_model_module_version": "1.5.0",
            "value": 0,
            "_view_count": null,
            "disabled": false,
            "_view_module_version": "1.5.0",
            "min": 0,
            "continuous_update": true,
            "readout_format": "d",
            "description_tooltip": null,
            "readout": true,
            "_model_module": "@jupyter-widgets/controls",
            "layout": "IPY_MODEL_6972537caca240a4aaa8c307bbbdb41d"
          }
        },
        "8cf8e95d8b8b48a3a558fc2a8c8f4dc8": {
          "model_module": "@jupyter-widgets/controls",
          "model_name": "SliderStyleModel",
          "state": {
            "_view_name": "StyleView",
            "handle_color": null,
            "_model_name": "SliderStyleModel",
            "description_width": "",
            "_view_module": "@jupyter-widgets/base",
            "_model_module_version": "1.5.0",
            "_view_count": null,
            "_view_module_version": "1.2.0",
            "_model_module": "@jupyter-widgets/controls"
          }
        },
        "6972537caca240a4aaa8c307bbbdb41d": {
          "model_module": "@jupyter-widgets/base",
          "model_name": "LayoutModel",
          "state": {
            "_view_name": "LayoutView",
            "grid_template_rows": null,
            "right": null,
            "justify_content": null,
            "_view_module": "@jupyter-widgets/base",
            "overflow": null,
            "_model_module_version": "1.2.0",
            "_view_count": null,
            "flex_flow": null,
            "width": null,
            "min_width": null,
            "border": null,
            "align_items": null,
            "bottom": null,
            "_model_module": "@jupyter-widgets/base",
            "top": null,
            "grid_column": null,
            "overflow_y": null,
            "overflow_x": null,
            "grid_auto_flow": null,
            "grid_area": null,
            "grid_template_columns": null,
            "flex": null,
            "_model_name": "LayoutModel",
            "justify_items": null,
            "grid_row": null,
            "max_height": null,
            "align_content": null,
            "visibility": null,
            "align_self": null,
            "height": null,
            "min_height": null,
            "padding": null,
            "grid_auto_rows": null,
            "grid_gap": null,
            "max_width": null,
            "order": null,
            "_view_module_version": "1.2.0",
            "grid_template_areas": null,
            "object_position": null,
            "object_fit": null,
            "grid_auto_columns": null,
            "margin": null,
            "display": null,
            "left": null
          }
        },
        "0f505b44a4054b64a2edc11be4449eb5": {
          "model_module": "@jupyter-widgets/output",
          "model_name": "OutputModel",
          "state": {
            "_view_name": "OutputView",
            "msg_id": "",
            "_dom_classes": [],
            "_model_name": "OutputModel",
            "outputs": [
              {
                "output_type": "stream",
                "metadata": {
                  "tags": []
                },
                "text": "a=0 is greater than or equal to b=0\n",
                "stream": "stdout"
              }
            ],
            "_view_module": "@jupyter-widgets/output",
            "_model_module_version": "1.0.0",
            "_view_count": null,
            "_view_module_version": "1.0.0",
            "layout": "IPY_MODEL_700dc7a4cd6143928bcbbf193c68b473",
            "_model_module": "@jupyter-widgets/output"
          }
        },
        "700dc7a4cd6143928bcbbf193c68b473": {
          "model_module": "@jupyter-widgets/base",
          "model_name": "LayoutModel",
          "state": {
            "_view_name": "LayoutView",
            "grid_template_rows": null,
            "right": null,
            "justify_content": null,
            "_view_module": "@jupyter-widgets/base",
            "overflow": null,
            "_model_module_version": "1.2.0",
            "_view_count": null,
            "flex_flow": null,
            "width": null,
            "min_width": null,
            "border": null,
            "align_items": null,
            "bottom": null,
            "_model_module": "@jupyter-widgets/base",
            "top": null,
            "grid_column": null,
            "overflow_y": null,
            "overflow_x": null,
            "grid_auto_flow": null,
            "grid_area": null,
            "grid_template_columns": null,
            "flex": null,
            "_model_name": "LayoutModel",
            "justify_items": null,
            "grid_row": null,
            "max_height": null,
            "align_content": null,
            "visibility": null,
            "align_self": null,
            "height": null,
            "min_height": null,
            "padding": null,
            "grid_auto_rows": null,
            "grid_gap": null,
            "max_width": null,
            "order": null,
            "_view_module_version": "1.2.0",
            "grid_template_areas": null,
            "object_position": null,
            "object_fit": null,
            "grid_auto_columns": null,
            "margin": null,
            "display": null,
            "left": null
          }
        },
        "9c216838a96e4b328423f9075fe4f010": {
          "model_module": "@jupyter-widgets/controls",
          "model_name": "IntSliderModel",
          "state": {
            "_view_name": "IntSliderView",
            "style": "IPY_MODEL_3f6d91c0a57a4623bd8354502fb5914f",
            "_dom_classes": [],
            "description": "a",
            "step": 1,
            "_model_name": "IntSliderModel",
            "orientation": "horizontal",
            "max": 100,
            "_view_module": "@jupyter-widgets/controls",
            "_model_module_version": "1.5.0",
            "value": 47,
            "_view_count": null,
            "disabled": false,
            "_view_module_version": "1.5.0",
            "min": 0,
            "continuous_update": true,
            "readout_format": "d",
            "description_tooltip": null,
            "readout": true,
            "_model_module": "@jupyter-widgets/controls",
            "layout": "IPY_MODEL_8983b65fb9164f849c04fb524ead8dff"
          }
        },
        "3f6d91c0a57a4623bd8354502fb5914f": {
          "model_module": "@jupyter-widgets/controls",
          "model_name": "SliderStyleModel",
          "state": {
            "_view_name": "StyleView",
            "handle_color": null,
            "_model_name": "SliderStyleModel",
            "description_width": "",
            "_view_module": "@jupyter-widgets/base",
            "_model_module_version": "1.5.0",
            "_view_count": null,
            "_view_module_version": "1.2.0",
            "_model_module": "@jupyter-widgets/controls"
          }
        },
        "8983b65fb9164f849c04fb524ead8dff": {
          "model_module": "@jupyter-widgets/base",
          "model_name": "LayoutModel",
          "state": {
            "_view_name": "LayoutView",
            "grid_template_rows": null,
            "right": null,
            "justify_content": null,
            "_view_module": "@jupyter-widgets/base",
            "overflow": null,
            "_model_module_version": "1.2.0",
            "_view_count": null,
            "flex_flow": null,
            "width": null,
            "min_width": null,
            "border": null,
            "align_items": null,
            "bottom": null,
            "_model_module": "@jupyter-widgets/base",
            "top": null,
            "grid_column": null,
            "overflow_y": null,
            "overflow_x": null,
            "grid_auto_flow": null,
            "grid_area": null,
            "grid_template_columns": null,
            "flex": null,
            "_model_name": "LayoutModel",
            "justify_items": null,
            "grid_row": null,
            "max_height": null,
            "align_content": null,
            "visibility": null,
            "align_self": null,
            "height": null,
            "min_height": null,
            "padding": null,
            "grid_auto_rows": null,
            "grid_gap": null,
            "max_width": null,
            "order": null,
            "_view_module_version": "1.2.0",
            "grid_template_areas": null,
            "object_position": null,
            "object_fit": null,
            "grid_auto_columns": null,
            "margin": null,
            "display": null,
            "left": null
          }
        },
        "55a813dc801f458ab17d3fc5ce61a7d7": {
          "model_module": "@jupyter-widgets/controls",
          "model_name": "IntSliderModel",
          "state": {
            "_view_name": "IntSliderView",
            "style": "IPY_MODEL_83175b7e7800425e810ce1b2871018c9",
            "_dom_classes": [],
            "description": "b",
            "step": 1,
            "_model_name": "IntSliderModel",
            "orientation": "horizontal",
            "max": 100,
            "_view_module": "@jupyter-widgets/controls",
            "_model_module_version": "1.5.0",
            "value": 52,
            "_view_count": null,
            "disabled": false,
            "_view_module_version": "1.5.0",
            "min": 0,
            "continuous_update": true,
            "readout_format": "d",
            "description_tooltip": null,
            "readout": true,
            "_model_module": "@jupyter-widgets/controls",
            "layout": "IPY_MODEL_a9d71fcc54f743aa9eb7fe8d183682ee"
          }
        },
        "83175b7e7800425e810ce1b2871018c9": {
          "model_module": "@jupyter-widgets/controls",
          "model_name": "SliderStyleModel",
          "state": {
            "_view_name": "StyleView",
            "handle_color": null,
            "_model_name": "SliderStyleModel",
            "description_width": "",
            "_view_module": "@jupyter-widgets/base",
            "_model_module_version": "1.5.0",
            "_view_count": null,
            "_view_module_version": "1.2.0",
            "_model_module": "@jupyter-widgets/controls"
          }
        },
        "a9d71fcc54f743aa9eb7fe8d183682ee": {
          "model_module": "@jupyter-widgets/base",
          "model_name": "LayoutModel",
          "state": {
            "_view_name": "LayoutView",
            "grid_template_rows": null,
            "right": null,
            "justify_content": null,
            "_view_module": "@jupyter-widgets/base",
            "overflow": null,
            "_model_module_version": "1.2.0",
            "_view_count": null,
            "flex_flow": null,
            "width": null,
            "min_width": null,
            "border": null,
            "align_items": null,
            "bottom": null,
            "_model_module": "@jupyter-widgets/base",
            "top": null,
            "grid_column": null,
            "overflow_y": null,
            "overflow_x": null,
            "grid_auto_flow": null,
            "grid_area": null,
            "grid_template_columns": null,
            "flex": null,
            "_model_name": "LayoutModel",
            "justify_items": null,
            "grid_row": null,
            "max_height": null,
            "align_content": null,
            "visibility": null,
            "align_self": null,
            "height": null,
            "min_height": null,
            "padding": null,
            "grid_auto_rows": null,
            "grid_gap": null,
            "max_width": null,
            "order": null,
            "_view_module_version": "1.2.0",
            "grid_template_areas": null,
            "object_position": null,
            "object_fit": null,
            "grid_auto_columns": null,
            "margin": null,
            "display": null,
            "left": null
          }
        },
        "d427a2dd408541be91d926a44d8d3b59": {
          "model_module": "@jupyter-widgets/output",
          "model_name": "OutputModel",
          "state": {
            "_view_name": "OutputView",
            "msg_id": "",
            "_dom_classes": [],
            "_model_name": "OutputModel",
            "outputs": [
              {
                "output_type": "stream",
                "metadata": {
                  "tags": []
                },
                "text": "Product result: 2444\n",
                "stream": "stdout"
              }
            ],
            "_view_module": "@jupyter-widgets/output",
            "_model_module_version": "1.0.0",
            "_view_count": null,
            "_view_module_version": "1.0.0",
            "layout": "IPY_MODEL_b3325c61d5684a5ca65a03388e4a916a",
            "_model_module": "@jupyter-widgets/output"
          }
        },
        "b3325c61d5684a5ca65a03388e4a916a": {
          "model_module": "@jupyter-widgets/base",
          "model_name": "LayoutModel",
          "state": {
            "_view_name": "LayoutView",
            "grid_template_rows": null,
            "right": null,
            "justify_content": null,
            "_view_module": "@jupyter-widgets/base",
            "overflow": null,
            "_model_module_version": "1.2.0",
            "_view_count": null,
            "flex_flow": null,
            "width": null,
            "min_width": null,
            "border": null,
            "align_items": null,
            "bottom": null,
            "_model_module": "@jupyter-widgets/base",
            "top": null,
            "grid_column": null,
            "overflow_y": null,
            "overflow_x": null,
            "grid_auto_flow": null,
            "grid_area": null,
            "grid_template_columns": null,
            "flex": null,
            "_model_name": "LayoutModel",
            "justify_items": null,
            "grid_row": null,
            "max_height": null,
            "align_content": null,
            "visibility": null,
            "align_self": null,
            "height": null,
            "min_height": null,
            "padding": null,
            "grid_auto_rows": null,
            "grid_gap": null,
            "max_width": null,
            "order": null,
            "_view_module_version": "1.2.0",
            "grid_template_areas": null,
            "object_position": null,
            "object_fit": null,
            "grid_auto_columns": null,
            "margin": null,
            "display": null,
            "left": null
          }
        }
      }
    }
  },
  "cells": [
    {
      "cell_type": "markdown",
      "metadata": {
        "id": "LPRYsq_O1sly"
      },
      "source": [
        "## Section 1: Warm-up Questions"
      ]
    },
    {
      "cell_type": "markdown",
      "metadata": {
        "id": "Y9J_XTRRxvHH"
      },
      "source": [
        "**Question 1. Element-wise text concatenation** \n",
        "\n",
        "Suppose you are given two lists, with their elements at the corresponding position representing the first name and the last name of the same person:\n",
        "\n",
        "```python\n",
        "first_names = ['Alice', 'Bob', 'Carol', 'David']\n",
        "last_names = ['Alligator', 'Bear', 'Chimpanzee', 'Deer']\n",
        "```\n",
        "\n",
        "Write a lambda expression, name it `concat_names`, and call it with the two lists above to form a list of full names. The expected output is as follows:\n",
        "\n",
        "\n",
        "```python\n",
        "['Alice Alligator', 'Bob Bear', 'Carol Chimpanzee', 'David Deer']\n",
        "```"
      ]
    },
    {
      "cell_type": "code",
      "metadata": {
        "id": "qg0m23G2xvHH",
        "colab": {
          "base_uri": "https://localhost:8080/"
        },
        "outputId": "d543afea-d17e-42bc-8fb3-89aa7aecb257"
      },
      "source": [
        "first_names = ['Alice','Bob','Carol','David']\n",
        "last_names = ['Alligator','Bear','Chimpanzee','Deer']\n",
        "\n",
        "# Write your code below\n",
        "concat_names = lambda a,b : [a[i] + ' ' + b[i] for i in range(len(a))]\n",
        "#or cancat_names = lambda a,b : x + ' ' + y for x, y in zip(a,b)\n",
        "print(concat_names(first_names, last_names))"
      ],
      "execution_count": null,
      "outputs": [
        {
          "output_type": "stream",
          "text": [
            "['Alice Alligator', 'Bob Bear', 'Carol Chimpanzee', 'David Deer']\n"
          ],
          "name": "stdout"
        }
      ]
    },
    {
      "cell_type": "markdown",
      "metadata": {
        "id": "gO5fbOf_5Mr2"
      },
      "source": [
        "---\n",
        "\n",
        "**Question 2. Use of `lambda`s as function arguments** \n",
        "\n",
        "Given a nested list representing gradebooks of different courses:\n",
        "\n",
        "```python\n",
        "gradebooks = [[['Troy', 92], ['Alice', 95]], [['James', 89], ['Charles', 100], ['Bryn', 59]]]\n",
        "```\n",
        "\n",
        "- Using the builtin `sorted()` function, write code to sort courses by course mean. The expected output is\n",
        "```python\n",
        "[[['James', 89], ['Charles', 100], ['Bryn', 59]], [['Troy', 92], ['Alice', 95]]]\n",
        "```\n",
        "- Using the builtin `sorted()` function, write code to sort students of each course by score in descending order. The expected output is\n",
        "```python\n",
        "[[['Alice', 95], ['Troy', 92]], [['Charles', 100], ['James', 89], ['Bryn', 59]]]\n",
        "```"
      ]
    },
    {
      "cell_type": "code",
      "metadata": {
        "id": "Yn0q5mhE7h2y",
        "colab": {
          "base_uri": "https://localhost:8080/"
        },
        "outputId": "db054ff6-477f-4360-9f40-e1bdbc6cd610"
      },
      "source": [
        "gradebooks = [[['Troy', 92], ['Alice', 95]], [['James', 89], ['Charles', 100], ['Bryn', 59]]]\n",
        "\n",
        "# Write your code below\n",
        "task1 = sorted(gradebooks, key = lambda course: sum([score for student, score in course])/ len(course))\n",
        "print(task1)\n",
        "task2 = [sorted(course, key = lambda x : x [1], reverse = True) for course in gradebooks]\n",
        "print(task2)"
      ],
      "execution_count": null,
      "outputs": [
        {
          "output_type": "stream",
          "text": [
            "[[['James', 89], ['Charles', 100], ['Bryn', 59]], [['Troy', 92], ['Alice', 95]]]\n",
            "[[['Alice', 95], ['Troy', 92]], [['Charles', 100], ['James', 89], ['Bryn', 59]]]\n"
          ],
          "name": "stdout"
        }
      ]
    },
    {
      "cell_type": "markdown",
      "metadata": {
        "id": "vAUBScjhrjA_"
      },
      "source": [
        "---\n",
        "\n",
        "**Question 3. Namespaces and Inheritance Search**\n",
        "\n",
        "Suppose that after running part of a program, the following objects and namespaces are created:\n",
        "\n",
        "<img src=\"https://drive.google.com/uc?export=download&id=1fNqROXxfsU_uzLNjEoT6P4UAhM9bVV1M\" width=500/>\n",
        "\n",
        "Note that there are 3 variables defined in the global namespace: `n`, `A`, and `a`.\n",
        "\n",
        "The code for the `A.foo` function is:\n",
        "\n",
        "```python\n",
        "def foo(self):\n",
        "    return n + self.n\n",
        "```\n",
        "The code for the `A.bar` function is:\n",
        "```python\n",
        "def bar(self):\n",
        "    return self.n + A.n + a.n + n\n",
        "```    \n",
        "\n",
        "And the code for the `A.__init__` function is:\n",
        "\n",
        "```python\n",
        "def __init__(self, x):\n",
        "    self.n = x\n",
        "```        \n",
        "\n",
        "What values are printed if the code below is executed, starting from the state represented by the diagram above?\n",
        "\n",
        "- `a.foo()`\n",
        "Answer: 12\n",
        "- `a.bar()`\n",
        "Answer: 20"
      ]
    },
    {
      "cell_type": "code",
      "metadata": {
        "colab": {
          "base_uri": "https://localhost:8080/"
        },
        "id": "yQSvsgwLDbml",
        "outputId": "33ae31cb-8c44-4304-986d-a57e63ba2fd1"
      },
      "source": [
        "n = 7\n",
        "class A:\n",
        "  n = 3\n",
        "  def foo(self):\n",
        "    return n + self.n\n",
        "  def bar(self):\n",
        "    return self.n + A.n + a.n + n\n",
        "  def __init__(self ,x):\n",
        "    self.n = x\n",
        "a = A(5)\n",
        "a.foo(), a.bar()"
      ],
      "execution_count": null,
      "outputs": [
        {
          "output_type": "execute_result",
          "data": {
            "text/plain": [
              "(12, 20)"
            ]
          },
          "metadata": {
            "tags": []
          },
          "execution_count": 4
        }
      ]
    },
    {
      "cell_type": "markdown",
      "metadata": {
        "id": "LOvK79aiEbfh"
      },
      "source": [
        "\n",
        "## Section 2\n",
        "\n",
        "\n",
        "For each question below, please write the corresponding code and then run the code to show the output. \n",
        "\n",
        "\n",
        "\n"
      ]
    },
    {
      "cell_type": "markdown",
      "metadata": {
        "id": "PzusxNtL12fu"
      },
      "source": [
        "\n",
        "**Question 1**\n",
        "\n",
        "Many programming languages implement a function called `sum()`, which returns the sum of an arbitrary sequence of numbers.\n",
        "\n",
        "Define a function `mySum` that allows us to sum up any number of numeric values. For example:\n",
        "\n",
        "- We should be able to call `mySum(1, 12, 89, 5)` with 4 arguments or `mySum(*range(100))` with 100 arguments. \n",
        "- Calling `mySum()` with no arguments returns zero.\n",
        "\n",
        "The built-in function `sum()` is not allowed to use in the function body."
      ]
    },
    {
      "cell_type": "code",
      "metadata": {
        "id": "LJIylDFMOF2a"
      },
      "source": [
        "# Write your function definition below\n",
        "def mySum(*listX):\n",
        "  if not listX:\n",
        "    return 0\n",
        "  total = 0\n",
        "  for item in listX:\n",
        "    total += item\n",
        "  return total"
      ],
      "execution_count": 1,
      "outputs": []
    },
    {
      "cell_type": "code",
      "metadata": {
        "colab": {
          "base_uri": "https://localhost:8080/"
        },
        "id": "J9Osf5xBs_Ys",
        "outputId": "3b1836e0-2d27-4fa7-d54c-4a04aa786fbb"
      },
      "source": [
        "mySum(1, 12, 89, 5)"
      ],
      "execution_count": 2,
      "outputs": [
        {
          "output_type": "execute_result",
          "data": {
            "text/plain": [
              "107"
            ]
          },
          "metadata": {
            "tags": []
          },
          "execution_count": 2
        }
      ]
    },
    {
      "cell_type": "code",
      "metadata": {
        "colab": {
          "base_uri": "https://localhost:8080/"
        },
        "id": "QKmC22RutCWR",
        "outputId": "cab995ef-915f-4c23-975a-84aa1da65121"
      },
      "source": [
        "mySum(*range(100))"
      ],
      "execution_count": 3,
      "outputs": [
        {
          "output_type": "execute_result",
          "data": {
            "text/plain": [
              "4950"
            ]
          },
          "metadata": {
            "tags": []
          },
          "execution_count": 3
        }
      ]
    },
    {
      "cell_type": "code",
      "metadata": {
        "colab": {
          "base_uri": "https://localhost:8080/"
        },
        "id": "5v81ZSBetEe_",
        "outputId": "defdb1e4-4af7-44a0-e7d3-867b0ede1e52"
      },
      "source": [
        "mySum()"
      ],
      "execution_count": 4,
      "outputs": [
        {
          "output_type": "execute_result",
          "data": {
            "text/plain": [
              "0"
            ]
          },
          "metadata": {
            "tags": []
          },
          "execution_count": 4
        }
      ]
    },
    {
      "cell_type": "markdown",
      "metadata": {
        "id": "heHERBTxOva-"
      },
      "source": [
        "---\n",
        "\n",
        "**Question 2**\n",
        "\n",
        "Parallel processing of multiple sequences is a powerful functionality for data analysis. \n",
        "\n",
        "Define a function `mySumParallel(seqs)` that applies `mySum()` defined in **Question 1** to an arbitrary collection of sequences of numeric values in parallel. This function returns a list of sums of all sequences in the passed-in collection.\n",
        "\n",
        "For example, calling `mySumParallel(collection)` where `collection = [[1, 12, 89, 5], range(100), range(2, 9, 3)]` returns `[107, 4950, 15]`.\n",
        "\n"
      ]
    },
    {
      "cell_type": "code",
      "metadata": {
        "id": "awki1rUvOgz3"
      },
      "source": [
        "collection = [[1, 12, 89, 5], range(100), range(2, 9, 3)]\n",
        "\n",
        "# Write your function definition below\n",
        "def mySumParallel(seqs):\n",
        "  result = []\n",
        "  for elem in seqs:\n",
        "    result.append(mySum(*elem))\n",
        "  return result\n",
        "\n"
      ],
      "execution_count": 5,
      "outputs": []
    },
    {
      "cell_type": "code",
      "metadata": {
        "colab": {
          "base_uri": "https://localhost:8080/"
        },
        "id": "wowLjK_ltMEz",
        "outputId": "a2750e91-6de7-473d-f4d4-76c7ae00e32a"
      },
      "source": [
        "mySumParallel(collection)"
      ],
      "execution_count": 6,
      "outputs": [
        {
          "output_type": "execute_result",
          "data": {
            "text/plain": [
              "[107, 4950, 15]"
            ]
          },
          "metadata": {
            "tags": []
          },
          "execution_count": 6
        }
      ]
    },
    {
      "cell_type": "markdown",
      "metadata": {
        "id": "9KX718YvSJrp"
      },
      "source": [
        "---\n",
        "\n",
        "**Question 3**\n",
        "\n",
        "Further define a function `myParallel(aggfunc, seqs)` that allows any aggregation function to be applied to an arbitrary collection of sequences of numeric values.\n",
        "\n",
        "For example, calling `myParallel(mySum, collection)` yields `[107, 4950, 15]`, while calling `myParallel(max, collection)` yields `[89, 99, 8]`."
      ]
    },
    {
      "cell_type": "code",
      "metadata": {
        "id": "uXdszPh8SoeT"
      },
      "source": [
        "# Write your function definition below\n",
        "def myParallel(aggfunc, seqs):\n",
        "  result = []\n",
        "  for elem in seqs:\n",
        "    result.append(aggfunc(*elem))\n",
        "  return result\n",
        "\n",
        "\n",
        "\n"
      ],
      "execution_count": 9,
      "outputs": []
    },
    {
      "cell_type": "code",
      "metadata": {
        "colab": {
          "base_uri": "https://localhost:8080/"
        },
        "id": "HEPHUFsQtOrA",
        "outputId": "d69935d8-9d27-4da0-fcba-cb374159d630"
      },
      "source": [
        "print(\"myParallel(mySum, collection):{}\".format(myParallel(mySum, collection)))"
      ],
      "execution_count": 10,
      "outputs": [
        {
          "output_type": "stream",
          "text": [
            "myParallel(mySum, collection):[107, 4950, 15]\n"
          ],
          "name": "stdout"
        }
      ]
    },
    {
      "cell_type": "code",
      "metadata": {
        "colab": {
          "base_uri": "https://localhost:8080/"
        },
        "id": "lbi1_o6wtRrl",
        "outputId": "9b2012b3-30f7-4ec5-a9fa-583101511a98"
      },
      "source": [
        "print(\"myParallel(max, collection):{}\".format(myParallel(max, collection)))"
      ],
      "execution_count": 11,
      "outputs": [
        {
          "output_type": "stream",
          "text": [
            "myParallel(max, collection):[89, 99, 8]\n"
          ],
          "name": "stdout"
        }
      ]
    },
    {
      "cell_type": "markdown",
      "metadata": {
        "id": "lAb1IBpm7zSF"
      },
      "source": [
        "---\n",
        "\n",
        "**Question 4. Matrix Construction** \n",
        "\n",
        "\n",
        "In mathematics, a matrix is a 2-dimensional (tabular) array of numbers or symbols arranged in rows and columns. The following is the notation of a 3 by 2 matrix (3 rows and 2 columns) containing the numbers from 1 to 6:\n",
        "\n",
        "\\begin{align}\n",
        "\\\\\n",
        "matrixA & =\n",
        " \\begin{pmatrix}\n",
        "  1 & 2  \\\\\n",
        "  3 & 4  \\\\\n",
        "  5 & 6 \\\\\n",
        " \\end{pmatrix}\n",
        "\\end{align}\n",
        "\n",
        "In Python, we can represent this 2-dimensional array with the nested list\n",
        "\n",
        "```python\n",
        "matrixA = [[1, 2], [3, 4], [5, 6]]\n",
        "```\n",
        "where the number of first-level elements represent the number of rows and the number of second-level elements represent the number of columns.\n",
        "\n",
        " \n",
        "Write a function `create_matrix` that takes a sequence of integers and two additional numbers that specify the shape of the matrix (i.e., the number of rows and columns, respectively) to create a nested list representing the matrix filled by these integers row-wise.\n",
        "  \n",
        "  For example, calling `create_matrix(*range(4, 19), rows=3, cols=5)` returns a nested list representing the following 3 (rows) by 5 (columns) matrix:\n",
        "\\begin{align}\n",
        "\\\\\n",
        " \\begin{pmatrix}\n",
        "  4 & 5 & 6 & 7 & 8 \\\\\n",
        "  9 & 10 & 11 & 12 & 13  \\\\\n",
        "  14 & 15 & 16 & 17 & 18 \\\\\n",
        " \\end{pmatrix}\n",
        "\\end{align}    \n",
        "  Also include exception handling so that the function prints an error message if the number of intergers does not match the product of the number of rows and that of columns. For example, calling `create_matrix(2, 3, 14, 15, rows=3, cols=2)` prints \n",
        " ```\n",
        "The number of elememnts does not match the shape of the matrix.\n",
        "``` \n"
      ]
    },
    {
      "cell_type": "code",
      "metadata": {
        "id": "DhNJVHM3C2TJ",
        "colab": {
          "base_uri": "https://localhost:8080/"
        },
        "outputId": "89222176-98c6-46c2-e159-f2279746c6c5"
      },
      "source": [
        "# Write your function definition below\n",
        "def create_matrix(*seqs, rows, cols):\n",
        "  if rows * cols != len(seqs):\n",
        "    print(\"The number of elements does not match the shape of the matrix.\")\n",
        "    return\n",
        "  else:\n",
        "    return [[seqs[b * cols + a] for a in range(cols)] for b in range(rows)]\n",
        "create_matrix(*range(4, 19), rows=3, cols=5)  "
      ],
      "execution_count": null,
      "outputs": [
        {
          "output_type": "execute_result",
          "data": {
            "text/plain": [
              "[[4, 5, 6, 7, 8], [9, 10, 11, 12, 13], [14, 15, 16, 17, 18]]"
            ]
          },
          "metadata": {
            "tags": []
          },
          "execution_count": 32
        }
      ]
    },
    {
      "cell_type": "markdown",
      "metadata": {
        "id": "f8bYfwuwxvHL"
      },
      "source": [
        "---\n",
        "\n",
        "\n",
        " \n",
        "**Question 5**\n",
        "\n",
        "Suppose a music streaming service uses two lists to maintain a user's favorite songs and the corresponding ratings, respectively:\n",
        "\n",
        "```python\n",
        "songs = ['Back to Black', 'Poker Face', 'Yellow', 'Lolipop', 'All Too Well', 'Delicate', 'Moves Like Jagger']\n",
        "ratings = [9.5, 8, 9, 8, 10, 7.5, 8]\n",
        "```\n",
        "\n",
        "Write a **signle expression** to create a playlist, which orders the user's favorite songs based on their ratings. And if a tie is observed, include the lastest one first (the one closest to the end of the list).\n",
        "\n",
        "The expected output should look like the following:\n",
        "\n",
        "```python\n",
        "['All Too Well', 'Back to Black', 'Yellow', 'Moves Like Jagger', 'Lolipop', 'Poker Face', 'Delicate']\n",
        "```\n",
        "\n",
        "- Hint: use the slicing notation `[-1::-1]` to reverse the order of elements in `songs` and `ratings`."
      ]
    },
    {
      "cell_type": "code",
      "metadata": {
        "id": "r9CZNAgbxvHM",
        "colab": {
          "base_uri": "https://localhost:8080/"
        },
        "outputId": "bdcce426-0423-41bd-e466-44f1d22c00f4"
      },
      "source": [
        "songs = ['Back to Black', 'Poker Face', 'Yellow', 'Lolipop', 'All Too Well', 'Delicate', 'Moves Like Jagger']\n",
        "ratings = [9.5, 8, 9, 8, 10, 7.5, 8]\n",
        "playlist = [name for name, score in sorted(zip(songs, ratings), key = lambda x: x[1])][-1::-1] \n",
        "print(playlist)\n",
        "# Write your code below\n",
        "\n",
        "\n"
      ],
      "execution_count": null,
      "outputs": [
        {
          "output_type": "stream",
          "text": [
            "['All Too Well', 'Back to Black', 'Yellow', 'Moves Like Jagger', 'Lolipop', 'Poker Face', 'Delicate']\n"
          ],
          "name": "stdout"
        }
      ]
    },
    {
      "cell_type": "markdown",
      "metadata": {
        "id": "vVZVTRti6XBr"
      },
      "source": [
        "---\n",
        "\n",
        "**Question 6. Use of `ipywidgets` (bonus question)** \n",
        "\n",
        "\n",
        "The Jupyter notebook and its IPython kernel support the creation of interactive HTML widgets (i.e., elements of graphical user interface). These widgets allow us to control the code and the data by responding to events and invoking specified handlers.\n",
        "\n",
        "In order to incorporate widgets in the notebook, we have to import the `ipywidgets` module first, as shown below:\n"
      ]
    },
    {
      "cell_type": "code",
      "metadata": {
        "id": "K_XXo_Uo6Va_"
      },
      "source": [
        "import ipywidgets"
      ],
      "execution_count": null,
      "outputs": []
    },
    {
      "cell_type": "markdown",
      "metadata": {
        "id": "379yuSHC8d_U"
      },
      "source": [
        "To add a slider that selects an integer in a range, we create an `IntSlider` instance by passing an initial value, the minimum and maximum values, the interval size (step), and the description to the `IntSlider` class's constructor:"
      ]
    },
    {
      "cell_type": "code",
      "metadata": {
        "colab": {
          "base_uri": "https://localhost:8080/"
        },
        "id": "zx49KSs89YvB",
        "outputId": "3157836b-290b-4b5b-ce8b-63bf32465bbe"
      },
      "source": [
        "help(ipywidgets.IntSlider.__init__)"
      ],
      "execution_count": null,
      "outputs": [
        {
          "output_type": "stream",
          "text": [
            "Help on function __init__ in module ipywidgets.widgets.widget_int:\n",
            "\n",
            "__init__(self, value=None, min=None, max=None, step=None, **kwargs)\n",
            "    Parameters\n",
            "    ----------\n",
            "    value: integer\n",
            "        The initial value.\n",
            "    min: integer\n",
            "        The lower limit for the value.\n",
            "    max: integer\n",
            "        The upper limit for the value.\n",
            "    step: integer\n",
            "        The step between allowed values.\n",
            "\n"
          ],
          "name": "stdout"
        }
      ]
    },
    {
      "cell_type": "code",
      "metadata": {
        "id": "cJz4IClR8mYi"
      },
      "source": [
        "slider = ipywidgets.IntSlider(\n",
        "    min=0,\n",
        "    max=10,\n",
        "    step=1,\n",
        "    description='input',\n",
        "    value=3\n",
        ")"
      ],
      "execution_count": null,
      "outputs": []
    },
    {
      "cell_type": "markdown",
      "metadata": {
        "id": "MI-mFQ5TFWqW"
      },
      "source": [
        "The IPython.display.display function can be used to render the slider:"
      ]
    },
    {
      "cell_type": "code",
      "metadata": {
        "colab": {
          "base_uri": "https://localhost:8080/",
          "height": 49,
          "referenced_widgets": [
            "a4a61e97897a40c2afdc8bef094d0000",
            "4bd92927069c4bf4aaebcbc8b64f3e61",
            "00e5beea912e47cc9427791730d3bb71"
          ]
        },
        "id": "85-vyffDFb30",
        "outputId": "2368573f-5051-4f08-cccc-da0c414f6089"
      },
      "source": [
        "from IPython.display import display\n",
        "display(slider)"
      ],
      "execution_count": null,
      "outputs": [
        {
          "output_type": "display_data",
          "data": {
            "application/vnd.jupyter.widget-view+json": {
              "model_id": "a4a61e97897a40c2afdc8bef094d0000",
              "version_minor": 0,
              "version_major": 2
            },
            "text/plain": [
              "IntSlider(value=3, description='input', max=10)"
            ]
          },
          "metadata": {
            "tags": []
          }
        }
      ]
    },
    {
      "cell_type": "markdown",
      "metadata": {
        "id": "8FLl2-Tl-Zwl"
      },
      "source": [
        "If we want to use `slider` to pick an input for producing a certain output interactively, we can use the `interactive_output` function that connects the widget controls to a function that renders the output:\n"
      ]
    },
    {
      "cell_type": "code",
      "metadata": {
        "colab": {
          "base_uri": "https://localhost:8080/"
        },
        "id": "C1AemKWz8nJx",
        "outputId": "32435bbb-6445-456d-a64a-5f8abbd2c515"
      },
      "source": [
        "help(ipywidgets.interactive_output)"
      ],
      "execution_count": null,
      "outputs": [
        {
          "output_type": "stream",
          "text": [
            "Help on function interactive_output in module ipywidgets.widgets.interaction:\n",
            "\n",
            "interactive_output(f, controls)\n",
            "    Connect widget controls to a function.\n",
            "    \n",
            "    This function does not generate a user interface for the widgets (unlike `interact`).\n",
            "    This enables customisation of the widget user interface layout.\n",
            "    The user interface layout must be defined and displayed manually.\n",
            "\n"
          ],
          "name": "stdout"
        }
      ]
    },
    {
      "cell_type": "code",
      "metadata": {
        "id": "lS8N2jHRBJaO"
      },
      "source": [
        "input_a = ipywidgets.IntSlider(max=10, description='a')     \n",
        "input_b = ipywidgets.IntSlider(max=10, description='b')\n",
        "\n",
        "def f(a, b):\n",
        "    if a < b: print('a={} is less than b={}'.format(a, b))    \n",
        "    else: print('a={} is greater than or equal to b={}'.format(a, b))\n",
        "\n",
        "# The controls arguement specifies how inputs from the two sliders are passed into the call to the function f\n",
        "output = ipywidgets.interactive_output(f, {'a': input_a, 'b': input_b})    "
      ],
      "execution_count": null,
      "outputs": []
    },
    {
      "cell_type": "markdown",
      "metadata": {
        "id": "1IX-eFuyESfp"
      },
      "source": [
        "Call the `IPython.display.display` function to render the 3 widget elements simultaneously:"
      ]
    },
    {
      "cell_type": "code",
      "metadata": {
        "colab": {
          "base_uri": "https://localhost:8080/",
          "height": 96,
          "referenced_widgets": [
            "23393475362a4a55911448e4b4167ca3",
            "586550d03d62462098e679cc733739b8",
            "dbbaee623cbd4145b6001fcbda90f42e",
            "97c4a6833e0b48869b64ea30ebf5edb7",
            "8cf8e95d8b8b48a3a558fc2a8c8f4dc8",
            "6972537caca240a4aaa8c307bbbdb41d",
            "0f505b44a4054b64a2edc11be4449eb5",
            "700dc7a4cd6143928bcbbf193c68b473"
          ]
        },
        "id": "vUsEfJWQDQyD",
        "outputId": "bbc69107-2018-4294-bbb3-3a48fe06c31e"
      },
      "source": [
        "display(input_a, input_b, output)"
      ],
      "execution_count": null,
      "outputs": [
        {
          "output_type": "display_data",
          "data": {
            "application/vnd.jupyter.widget-view+json": {
              "model_id": "23393475362a4a55911448e4b4167ca3",
              "version_minor": 0,
              "version_major": 2
            },
            "text/plain": [
              "IntSlider(value=0, description='a', max=10)"
            ]
          },
          "metadata": {
            "tags": []
          }
        },
        {
          "output_type": "display_data",
          "data": {
            "application/vnd.jupyter.widget-view+json": {
              "model_id": "97c4a6833e0b48869b64ea30ebf5edb7",
              "version_minor": 0,
              "version_major": 2
            },
            "text/plain": [
              "IntSlider(value=0, description='b', max=10)"
            ]
          },
          "metadata": {
            "tags": []
          }
        },
        {
          "output_type": "display_data",
          "data": {
            "application/vnd.jupyter.widget-view+json": {
              "model_id": "0f505b44a4054b64a2edc11be4449eb5",
              "version_minor": 0,
              "version_major": 2
            },
            "text/plain": [
              "Output()"
            ]
          },
          "metadata": {
            "tags": []
          }
        }
      ]
    },
    {
      "cell_type": "markdown",
      "metadata": {
        "id": "vWet1h_5bRB2"
      },
      "source": [
        "Revise the code above to create a widget that takes inputs from two sliders and calculates the product of integers from 0~100 (both inclusive)."
      ]
    },
    {
      "cell_type": "code",
      "metadata": {
        "id": "wbzvroe4cm28",
        "colab": {
          "base_uri": "https://localhost:8080/",
          "height": 96,
          "referenced_widgets": [
            "9c216838a96e4b328423f9075fe4f010",
            "3f6d91c0a57a4623bd8354502fb5914f",
            "8983b65fb9164f849c04fb524ead8dff",
            "55a813dc801f458ab17d3fc5ce61a7d7",
            "83175b7e7800425e810ce1b2871018c9",
            "a9d71fcc54f743aa9eb7fe8d183682ee",
            "d427a2dd408541be91d926a44d8d3b59",
            "b3325c61d5684a5ca65a03388e4a916a"
          ]
        },
        "outputId": "2fb7b26d-e4bc-4b1e-df7c-3703c8270f16"
      },
      "source": [
        "# Write your code below\n",
        "input_a = ipywidgets.IntSlider(max=100, description='a')     \n",
        "input_b = ipywidgets.IntSlider(max=100, description='b')\n",
        "\n",
        "def f(a, b):\n",
        "    print(\"Product result: {}\".format(a*b))\n",
        "\n",
        "# The controls arguement specifies how inputs from the two sliders are passed into the call to the function f\n",
        "output = ipywidgets.interactive_output(f, {'a': input_a, 'b': input_b})   \n",
        "display(input_a, input_b, output)"
      ],
      "execution_count": null,
      "outputs": [
        {
          "output_type": "display_data",
          "data": {
            "application/vnd.jupyter.widget-view+json": {
              "model_id": "9c216838a96e4b328423f9075fe4f010",
              "version_minor": 0,
              "version_major": 2
            },
            "text/plain": [
              "IntSlider(value=0, description='a')"
            ]
          },
          "metadata": {
            "tags": []
          }
        },
        {
          "output_type": "display_data",
          "data": {
            "application/vnd.jupyter.widget-view+json": {
              "model_id": "55a813dc801f458ab17d3fc5ce61a7d7",
              "version_minor": 0,
              "version_major": 2
            },
            "text/plain": [
              "IntSlider(value=0, description='b')"
            ]
          },
          "metadata": {
            "tags": []
          }
        },
        {
          "output_type": "display_data",
          "data": {
            "application/vnd.jupyter.widget-view+json": {
              "model_id": "d427a2dd408541be91d926a44d8d3b59",
              "version_minor": 0,
              "version_major": 2
            },
            "text/plain": [
              "Output()"
            ]
          },
          "metadata": {
            "tags": []
          }
        }
      ]
    },
    {
      "cell_type": "markdown",
      "metadata": {
        "id": "EGJupE3ldYUS"
      },
      "source": [
        "You can refer to this [website](https://ipywidgets.readthedocs.io/en/latest/index.html) for more information on Jupyter widgets."
      ]
    }
  ]
}