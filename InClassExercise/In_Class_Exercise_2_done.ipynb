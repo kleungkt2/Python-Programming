{
  "nbformat": 4,
  "nbformat_minor": 0,
  "metadata": {
    "colab": {
      "name": "Copy of In-Class Exercise 2.ipynb",
      "provenance": [],
      "collapsed_sections": [],
      "machine_shape": "hm"
    },
    "kernelspec": {
      "display_name": "Python 3",
      "language": "python",
      "name": "python3"
    },
    "language_info": {
      "codemirror_mode": {
        "name": "ipython",
        "version": 3
      },
      "file_extension": ".py",
      "mimetype": "text/x-python",
      "name": "python",
      "nbconvert_exporter": "python",
      "pygments_lexer": "ipython3",
      "version": "3.8.3"
    }
  },
  "cells": [
    {
      "cell_type": "markdown",
      "metadata": {
        "id": "buh8GAO7FdP_"
      },
      "source": [
        "# Exercise on Dictionaries and Control Structures\n"
      ]
    },
    {
      "cell_type": "markdown",
      "metadata": {
        "id": "lLEIDcjy8D3R"
      },
      "source": [
        "## Section 1: Warm-up Questions\n",
        "\n",
        "Each multiple choice has a **SINGLE** correct answer unless explicitly stated otherwise. Put **x** inside **[ ]** to mark your choice."
      ]
    },
    {
      "cell_type": "markdown",
      "metadata": {
        "id": "MrE3UBRJ4d-T"
      },
      "source": [
        "**Question 1**\n",
        "\n",
        " Given \n",
        "\n",
        "```python\n",
        "a = {'first': 'third', 'second': {0: False, 1: True}, 'third': [True, False, 0], 0: {0, 1, 2}}\n",
        "```\n",
        "\n",
        "Which of the following will output `0`?\n",
        "\n",
        "\n",
        "- [ ] A. `a[0]`\n",
        "- [X] B. `a[a['first']][2]`\n",
        "- [ ] C. `a['second'][0]`\n",
        "- [ ] D. `a[0][0]`"
      ]
    },
    {
      "cell_type": "markdown",
      "metadata": {
        "id": "utLx9BcK6ojE"
      },
      "source": [
        "\n",
        "**Question 2**\n",
        "\n",
        "What's printed when `x = 0` and `y = 5`?\n",
        "\n",
        "```python\n",
        "x = float(input(\"Enter a number for x: \"))\n",
        "y = float(input(\"Enter a number for y: \"))\n",
        "if x == y:\n",
        "    if y != 0:\n",
        "        print(\"x / y is\", x/y)\n",
        "elif x < y:\n",
        "    print(\"x is smaller\")\n",
        "else:\n",
        "    print(\"y is smaller\")\n",
        "```\n",
        "\n",
        "- [X] `x is smaller`\n",
        "- [ ] `y is smaller`\n",
        "- [ ] `x / y is 0.0`\n",
        "- [ ] `x / y is 0`\n",
        "\n"
      ]
    },
    {
      "cell_type": "markdown",
      "metadata": {
        "id": "D1d_VnbS7Hkm"
      },
      "source": [
        "**Question 3**\n",
        "\n",
        "What is printed when the below code is run?\n",
        "\n",
        "```python\n",
        "sounds = {'sound1': 'meow', 'sound2': 'woof', 'sound3': 'quack'}\n",
        "\n",
        "if 'meow' in sounds: \n",
        "    print('meow1', end='\\t') \n",
        "if 'woof' in sounds.values(): \n",
        "    print('woof', end='\\t') \n",
        "elif 'meow' in sounds.values():   \n",
        "    print('meow2', end='\\t') \n",
        "else: print('quack', end='\\t')\n",
        "```\n",
        "\n",
        "- [ ] `meow1    woof    meow2`\n",
        "- [ ] `woof    meow2`\n",
        "- [X] `woof`\n",
        "- [ ] `meow1`\n",
        "\n",
        "\n"
      ]
    },
    {
      "cell_type": "markdown",
      "metadata": {
        "id": "UJ4kT4mH7A7I"
      },
      "source": [
        "**Question 4**\n",
        "\n",
        "What is printed when the below code is run?\n",
        "\n",
        "```python\n",
        "mysum = 0\n",
        "for i in range(5, 11, 2):\n",
        "    mysum += i\n",
        "    if mysum == 5:\n",
        "        break\n",
        "        mysum += 1\n",
        "print(mysum)\n",
        "```\n",
        " \n",
        "- [X] 5\n",
        "- [ ] 6\n",
        "- [ ] 21\n",
        "- [ ] 24\n",
        "\n",
        " "
      ]
    },
    {
      "cell_type": "markdown",
      "metadata": {
        "id": "37kMywox4d-V"
      },
      "source": [
        "**Question 5**\n",
        "\n",
        "Suppose we have two variables defined as follows:\n",
        "\n",
        "```python\n",
        "a = {1: 'one', 2: 'two', 3: 'three'}\n",
        "b = 'python'\n",
        "```\n",
        "\n",
        "What will be the output of `list(zip(a, b))`?\n",
        "\n",
        "- [ ] An error message due to unmatched lengths\n",
        "- [ ] `[('one', 'python'), ('two', 'python'), ('three', 'python')]`\n",
        "- [X] `[(1, 'p'), (2, 'y'), (3, 't')]`\n",
        "- [ ] `[('one', 'p'), ('two', 'y'), ('three', 't')]`\n"
      ]
    },
    {
      "cell_type": "markdown",
      "metadata": {
        "id": "0xyYJhgc4d-V"
      },
      "source": [
        "**Question 6**\n",
        "\n",
        "\n",
        "Consider a nested dictionary representing gradebooks of different ISOM courses:\n",
        "\n",
        "```python\n",
        "gradebooks = {'business analytics': {'Alice': 95, 'Troy': 92}, \n",
        "              'Python programming': {'James': 89, 'Charles': 100, 'Bryn': 69, 'Alice': 100}, \n",
        "              'R programming': {'Troy': 93, 'James': 100, 'Charles': 88}}\n",
        "```\n",
        "\n",
        "- Create a dictionary with each entry representing a course and the maximum score for that course. The result should look like (the order of entries may vary with respect to the Python version you use):\n",
        "\n",
        "```python\n",
        "{'business analytics': 95, 'Python programming': 100, 'R programming': 100}\n",
        "```\n",
        "\n",
        "- Find the maximum score (i.e., 100) among all the students from all the courses \n",
        "\n",
        "\n",
        "- Use a dictionary comprehension to create a dictionary with each entry representing a course and all students receiving the maximum score for that course. The result should be\n",
        "```python\n",
        "{'business analytics': ['Alice'], 'Python programming': ['Charles', 'Alice'], 'R programming': ['James']}\n",
        "```"
      ]
    },
    {
      "cell_type": "code",
      "metadata": {
        "colab": {
          "base_uri": "https://localhost:8080/"
        },
        "id": "4xsdsjZ-4d-W",
        "outputId": "d8980c00-088a-4add-edba-7224d43ee33b"
      },
      "source": [
        "gradebooks = {'business analytics': {'Alice': 95, 'Troy': 92}, \n",
        "              'Python programming': {'James': 89, 'Charles': 100, 'Bryn': 69, 'Alice': 100}, \n",
        "              'R programming': {'Troy': 93, 'James': 100, 'Charles': 88}}\n",
        "\n",
        "\n",
        "# Write your code below\n",
        "{course: max(people.values()) for (course, people) in gradebooks.items()}\n",
        "\n"
      ],
      "execution_count": null,
      "outputs": [
        {
          "output_type": "execute_result",
          "data": {
            "text/plain": [
              "{'Python programming': 100, 'R programming': 100, 'business analytics': 95}"
            ]
          },
          "metadata": {
            "tags": []
          },
          "execution_count": 16
        }
      ]
    },
    {
      "cell_type": "code",
      "metadata": {
        "colab": {
          "base_uri": "https://localhost:8080/"
        },
        "id": "eRWEIKYO6hnQ",
        "outputId": "46b26358-178e-4573-d668-17958c90b21c"
      },
      "source": [
        "max({course: max(people.values()) for (course, people) in gradebooks.items()}.values())"
      ],
      "execution_count": null,
      "outputs": [
        {
          "output_type": "execute_result",
          "data": {
            "text/plain": [
              "100"
            ]
          },
          "metadata": {
            "tags": []
          },
          "execution_count": 17
        }
      ]
    },
    {
      "cell_type": "code",
      "metadata": {
        "colab": {
          "base_uri": "https://localhost:8080/"
        },
        "id": "yssg9blZ8BWn",
        "outputId": "1db9ca4a-5b2a-4061-ae63-7be51064b49b"
      },
      "source": [
        "{course : [name for name,score in gradebook.items() if score == max(gradebook.values()) ] for course, gradebook in gradebooks.items()  }\r\n"
      ],
      "execution_count": null,
      "outputs": [
        {
          "output_type": "execute_result",
          "data": {
            "text/plain": [
              "{'Python programming': ['Charles', 'Alice'],\n",
              " 'R programming': ['James'],\n",
              " 'business analytics': ['Alice']}"
            ]
          },
          "metadata": {
            "tags": []
          },
          "execution_count": 18
        }
      ]
    },
    {
      "cell_type": "markdown",
      "metadata": {
        "id": "uhEpBs4a4d-W"
      },
      "source": [
        " \n",
        "**Question 7**\n",
        "\n",
        "Suppose a music streaming service uses two lists to maintain a user's favorite songs and the corresponding ratings, respectively:\n",
        "\n",
        "```python\n",
        "songs = ['Back to Black', 'Poker Face', 'Yellow', 'Lolipop', 'All Too Well', 'Delicate', 'Moves Like Jagger']\n",
        "ratings = [9.5, 8, 9, 8, 10, 7.5, 8]\n",
        "```\n",
        "\n",
        "Write code to create a playlist, which orders the user's favorite songs based on their ratings. And if a tie is observed, include the lastest one first (the one closest to the end of the list).\n",
        "\n",
        "The expected output should look like the following:\n",
        "\n",
        "```python\n",
        "['All Too Well', 'Back to Black', 'Yellow', 'Moves Like Jagger', 'Lolipop', 'Poker Face', 'Delicate']\n",
        "```\n"
      ]
    },
    {
      "cell_type": "code",
      "metadata": {
        "colab": {
          "base_uri": "https://localhost:8080/"
        },
        "id": "8txfn8Bp4d-X",
        "outputId": "381c4ece-0af0-4caa-e172-8a18d16f65ce"
      },
      "source": [
        "songs = ['Back to Black', 'Poker Face', 'Yellow', 'Lolipop', 'All Too Well', 'Delicate', 'Moves Like Jagger']\n",
        "ratings = [9.5, 8, 9, 8, 10, 7.5, 8]\n",
        "# Write your code below\n",
        "playlist = []\n",
        "songs_ratings = dict(zip(songs, ratings))\n",
        "for i in range(len(songs_ratings)):\n",
        "  current_max_rating = 0\n",
        "  current_max_song = ''\n",
        "  for song,rating in songs_ratings.items():\n",
        "    if rating >= current_max_rating:\n",
        "      current_max_rating = rating\n",
        "      current_max_song = song\n",
        "  del songs_ratings[current_max_song]\n",
        "  playlist.append(current_max_song)\n",
        "print(playlist)\n"
      ],
      "execution_count": null,
      "outputs": [
        {
          "output_type": "stream",
          "text": [
            "['All Too Well', 'Back to Black', 'Yellow', 'Moves Like Jagger', 'Lolipop', 'Poker Face', 'Delicate']\n"
          ],
          "name": "stdout"
        }
      ]
    },
    {
      "cell_type": "code",
      "metadata": {
        "id": "ijqSuu29DyBl"
      },
      "source": [
        "#another solution demonstrated in class\r\n",
        "'''\r\n",
        "songs = ['Back to Black', 'Poker Face', 'Yellow', 'Lolipop', 'All Too Well', 'Delicate', 'Moves Like Jagger']\r\n",
        "ratings = [9.5, 8, 9, 8, 10, 7.5, 8]\r\n",
        "playlist = []\r\n",
        "while songs:\r\n",
        "  indices = [index for index, rating in enumerate(ratings) if ratings == max(ratings)]\r\n",
        "  playlist = playlist + [song for index, song in enumerate(songs) if index in indices]\r\n",
        "  ratings = [rating for index, rating in enumerate(ratings) if index not in indices]\r\n",
        "  songs = [song for index,song in enumerate(songs) if index not in indices]\r\n",
        "print(playlist)\r\n",
        "'''"
      ],
      "execution_count": null,
      "outputs": []
    },
    {
      "cell_type": "markdown",
      "metadata": {
        "id": "SEk7SnrK7wGH"
      },
      "source": [
        "---\n",
        "\n",
        "\n",
        "\n",
        "## Section 2\n",
        "\n",
        "\n",
        "For each question below, please write the corresponding code and then run the code to show the output. "
      ]
    },
    {
      "cell_type": "markdown",
      "metadata": {
        "id": "bXFCetDwFZfs"
      },
      "source": [
        "**Question 1**\n",
        "\n",
        "Given an arbitrary list of numbers, e.g., `[6, 2, 3, 4, 6, 7, 9, 0, 12, 4, 6, 3, 6, 2, 7, 89, 4]`:\n",
        "\n",
        "Use a `for` loop to calculate the mean of numbers in `x`. Built-in functions such as `len()` and `sum()` are not allowed to use.\n",
        "\n",
        "- Hint: use 2 accumulator variables, one for tallying the sum and the other for counting the number."
      ]
    },
    {
      "cell_type": "code",
      "metadata": {
        "colab": {
          "base_uri": "https://localhost:8080/"
        },
        "id": "a-y7yrWBBvMY",
        "outputId": "da327c31-4b2d-4c67-9043-08deda5cf39a"
      },
      "source": [
        "# Write your code below\n",
        "\n",
        "total_value = 0\n",
        "num_value = 0\n",
        "\n",
        "given_list = [6, 2, 3, 4, 6, 7, 9, 0, 12, 4, 6, 3, 6, 2, 7, 89, 4]\n",
        "for number in given_list:\n",
        "  total_value += number\n",
        "  num_value += 1\n",
        "print(total_value / num_value)"
      ],
      "execution_count": null,
      "outputs": [
        {
          "output_type": "stream",
          "text": [
            "10.0\n"
          ],
          "name": "stdout"
        }
      ]
    },
    {
      "cell_type": "markdown",
      "metadata": {
        "id": "AOJ0STkoF90j"
      },
      "source": [
        "**Question 2**\n",
        "\n",
        "Given an arbitrary list of numbers, e.g., `[95, 92, 89, 100, 71, 67, 59, 82, 75, 29]`，write code to find the largest score that is below 90 without the use of a sorting function or method.\n",
        "\n",
        "Hint: use a variable to hold the maximum among numbers having been traversed."
      ]
    },
    {
      "cell_type": "code",
      "metadata": {
        "colab": {
          "base_uri": "https://localhost:8080/"
        },
        "id": "2ZQX8pen7iIP",
        "outputId": "7addafb9-f5d4-4730-83e7-16485717c7d7"
      },
      "source": [
        "# Write your code below\n",
        "given_list = [95, 92, 89, 100, 71, 67, 59, 82, 75, 29]\n",
        "hold_max = 0\n",
        "for num in given_list:\n",
        "  if num > hold_max and num < 90:\n",
        "    hold_max = num\n",
        "print(hold_max)\n",
        "\n",
        "\n"
      ],
      "execution_count": null,
      "outputs": [
        {
          "output_type": "stream",
          "text": [
            "89\n"
          ],
          "name": "stdout"
        }
      ]
    },
    {
      "cell_type": "markdown",
      "metadata": {
        "id": "MCquqR-q4d-Y"
      },
      "source": [
        "**Question 3**\n",
        "\n",
        "Assume you are creating a map for a game scene, and you plan to use a dictionary to store the coordinates of the items on the screen, for example, at coordinate (1, 3) there is a tree; at coordinate (4, 8) there is a bird, etc. Name the dictionary `dicmap`, and print `dicmap` out as follows: \n",
        "\n",
        "```python\n",
        "{(4, 8): 'Bird', (2, 2): 'Pond', (6, 2): 'Dog', (9, 3): 'Frog', (7, 1): 'Dog', (8, 4): 'Cat', (1, 3): 'Tree' }\n",
        "```\n",
        "\n",
        "- Find out what item is at coordinate (2, 2).\n",
        "- Replace the item at coordinate (8, 4) with `'Dog'`.\n",
        "- Find out how many dogs there are on the map.\n",
        "- Find out the coordinate of the 2nd `'Dog'` in the dictionary. \n",
        "\n",
        "  - hint: first use a list comprehension to select all coordinates where a dog is located.\n"
      ]
    },
    {
      "cell_type": "code",
      "metadata": {
        "colab": {
          "base_uri": "https://localhost:8080/"
        },
        "id": "gotK-iIi4d-Z",
        "outputId": "bd8609fb-f33c-4d2e-9815-71024afe3d54"
      },
      "source": [
        "dicmap = {(4, 8): 'Bird', (2, 2): 'Pond', (6, 2): 'Dog', (9, 3): 'Frog', (7, 1): 'Dog', (8, 4): 'Cat', (1, 3): 'Tree' }\n",
        "\n",
        "# Write your code below\n",
        "# Task 1:\n",
        "print(\"Task 1: Find out what item is at coordinate (2,2):\\n{}\".format(dicmap[(2,2)]))\n",
        "temp = dicmap\n",
        "temp[(8,4)] = 'Dog'\n",
        "print(\"Task 2: Replace the item at coordinate (8,4) with 'Dog':\\n{}\".format(temp))\n",
        "cnt = list(dicmap.values()).count('Dog')\n",
        "print(\"Task 3: Find out how many dogs there are on the map:\\n{}\".format(cnt))\n",
        "dog_list = [coordinate for coordinate, item in dicmap.items() if item == 'Dog']\n",
        "print(\"Task 4: Find out the coordinate of the 2nd 'Dog' in the dictionary:\\n{}\".format(dog_list[1]))"
      ],
      "execution_count": 17,
      "outputs": [
        {
          "output_type": "stream",
          "text": [
            "Task 1: Find out what item is at coordinate (2,2):\n",
            "Pond\n",
            "Task 2: Replace the item at coordinate (8,4) with 'Dog':\n",
            "{(4, 8): 'Bird', (2, 2): 'Pond', (6, 2): 'Dog', (9, 3): 'Frog', (7, 1): 'Dog', (8, 4): 'Dog', (1, 3): 'Tree'}\n",
            "Task 3: Find out how many dogs there are on the map:\n",
            "3\n",
            "Task 4: Find out the coordinate of the 2nd 'Dog' in the dictionary:\n",
            "(7, 1)\n"
          ],
          "name": "stdout"
        }
      ]
    },
    {
      "cell_type": "markdown",
      "metadata": {
        "id": "W4iJsabYZyDG"
      },
      "source": [
        "**Question 4**\n",
        "\n",
        "Given a sentence: \n",
        "\n",
        "```python\n",
        "s = \"python is a high-level language for general-purpose programming\"\n",
        "```\n",
        "- Use a comprehension to find the index numbers of all `'a'`s. This problem presents a common data analysis task with textual data. Hint: `enumerate()`.\n",
        "\n",
        "- Break the sentence into words using the space character as a delimiter and store the resultant list of words in a Python list. The list should look like:\n",
        "```python\n",
        "['python', 'is', 'a', 'high-level', 'language', 'for', 'general-purpose', 'programming']\n",
        "```\n",
        "- Use `enumerate()` to create a list of tuples, `idx_words`, with each tuple's 1st element tracking the index number of its word. `idx_words` should look like the following:\n",
        "```python\n",
        "[(0, 'python'), (1, 'is'), (2, 'a'), (3, 'high-level'), (4, 'language'), (5, 'for'), (6, 'general-purpose'), (7, 'programming')]\n",
        "```\n",
        "\n",
        "    \n"
      ]
    },
    {
      "cell_type": "code",
      "metadata": {
        "colab": {
          "base_uri": "https://localhost:8080/"
        },
        "id": "L4oFr_xvbO3p",
        "outputId": "eb50a7e8-9b8f-4550-b9da-6f3746ce807e"
      },
      "source": [
        "# Write your code below\n",
        "s = \"python is a high-level language for general-purpose programming\"\n",
        "indices = [index for index, char in enumerate(s) if char == 'a']\n",
        "print(\"Task 1: Use a comprehension to find the index numbers of all 'a's:\\n{}\".format(indices))\n",
        "print(\"Task 2: Break the sentence into words using the space character as a delimiter and store the resultant list of words in a Python list:\\n{}\".format(s.split(' ')))\n",
        "task3 = [(index,word ) for index, word in enumerate(s.split(' '))]\n",
        "print(\"Task 3: Use enumerate() to create a list of tuples, idx_words, with each tuple's 1st element tracking the index number of its word:\\n{}\".format(task3))"
      ],
      "execution_count": 16,
      "outputs": [
        {
          "output_type": "stream",
          "text": [
            "Task 1: Use a comprehension to find the index numbers of all 'a's:\n",
            "[10, 24, 28, 41, 57]\n",
            "Task 2: Break the sentence into words using the space character as a delimiter and store the resultant list of words in a Python list:\n",
            "['python', 'is', 'a', 'high-level', 'language', 'for', 'general-purpose', 'programming']\n",
            "Task 3: Use enumerate() to create a list of tuples, idx_words, with each tuple's 1st element tracking the index number of its word:\n",
            "[(0, 'python'), (1, 'is'), (2, 'a'), (3, 'high-level'), (4, 'language'), (5, 'for'), (6, 'general-purpose'), (7, 'programming')]\n"
          ],
          "name": "stdout"
        }
      ]
    },
    {
      "cell_type": "markdown",
      "metadata": {
        "id": "nT4_V6j-LjEd"
      },
      "source": [
        "**Question 5**\n",
        "\n",
        "Given\n",
        "```python\n",
        "list1 = [1, 2, 3, 4, 5] \n",
        "```\n",
        "Write either a `for` loop or `while` loop to create a new list, named `pair_list`, to include all the combinations of 2 elements from `list1`, i.e., `[[1, 2], [1, 3], [1, 4], [1, 5], [2, 3], [2, 4], [2, 5], [3, 4], [3, 5], [4, 5]]`.\n",
        " \n",
        "\n",
        "Hint: use nested loops:\n",
        "\n",
        " 1. the outer loop steps through list items.\n",
        " \n",
        " 2. at each iteration of the outer loop, the inner loop iterates over the subsequence following the current item of the outer loop.\n",
        " \n",
        " 3. the major difficulty arises from constructing the sequence to be iterated over every time when the inner loop is triggered. At the 1st iteration of the outer loop, the sequence to be iterated over for the inner loop is `[2, 3, 4, 5]`; at the 2nd iteration, it is `[3, 4, 5]`; and so on.\n",
        " \n",
        " 4. if you attempt to implement the task with a for loop, think about using `enumerate()` to generate the index of the current item being processed by the outer iteration, and use it in slicing to construct the iterable used by the inner loop.\n",
        " \n",
        " 5. if you attempt to implement the task with a while loop, you need 2 counter variables, one used as the index for the outer loop and the other for the inner loop. \n"
      ]
    },
    {
      "cell_type": "code",
      "metadata": {
        "id": "05riXcKq2TDN",
        "colab": {
          "base_uri": "https://localhost:8080/"
        },
        "outputId": "a6fbbd33-a286-4572-c65c-cbd27d040803"
      },
      "source": [
        "# Write your code below\n",
        "list1 = [1,2,3,4,5]\n",
        "pair_list = []\n",
        "for index, num1 in enumerate(list1):\n",
        "  for num2 in list1[index+1:]:\n",
        "    pair_list.append([num1, num2])\n",
        "print(pair_list)\n",
        "\n"
      ],
      "execution_count": 15,
      "outputs": [
        {
          "output_type": "stream",
          "text": [
            "[[1, 2], [1, 3], [1, 4], [1, 5], [2, 3], [2, 4], [2, 5], [3, 4], [3, 5], [4, 5]]\n"
          ],
          "name": "stdout"
        }
      ]
    },
    {
      "cell_type": "markdown",
      "metadata": {
        "id": "5idDJMJx4d-b"
      },
      "source": [
        "\n",
        "---\n",
        "\n",
        "**Question 6**\n",
        "\n",
        "Assume that a firm uses a nested dictionary to maintain the information on annual sales made from various sales strategies for 2018, 2019, and 2020. \n",
        "\n",
        "```python\n",
        "sales_3_years = {'2018': {\"Radio Sales\": 5000, \"TV Sales\": 26000, \"Direct-Mail Sales\": 1000, \"Telephone Sales\": 26000},\n",
        "                 '2019': {\"TV Sales\": 26000, \"Online Sales\": 37000, \"Telephone Sales\": 9000, \"Radio Sales\": 3000},\n",
        "                 '2020': {\"Telephone Sales\": 8000, \"TV Sales\": 19000, \"Online Sales\": 107000}}\n",
        "```\n",
        "\n",
        "\n",
        " \n",
        "\n",
        "- Write a comprehension to output the annual sales made from all sales strategies for each year. Your output should look like the following (Hint: use `sum()` on the return value of `.values()`):\n",
        "\n",
        "```python\n",
        "{'2018': 58000, '2019': 75000, '2020': 134000}\n",
        "```\n",
        "\n",
        "- Write a comprehension to figure out which strategy creates the highest sales for each year. Your output should look like the following:\n",
        "\n",
        "```python\n",
        "{'2018': ['TV Sales', 'Telephone Sales'], '2019': ['Online Sales'], '2020': ['Online Sales']}\n",
        "```\n",
        "\n",
        "- Write a (possibly nested) for loop to answer: How many distinct strategies have been used? What are the total sales made from them for the 3 consecutive years? Store your result in a dictionary that looks like the following (the order in which entries are listed can be different):\n",
        "\n",
        "```python\n",
        "{'Radio Sales': 8000, 'TV Sales': 71000, 'Direct-Mail Sales': 1000, 'Telephone Sales': 43000, 'Online Sales': 144000}\n",
        "```\n"
      ]
    },
    {
      "cell_type": "code",
      "metadata": {
        "id": "IV3T4Sp84d-b",
        "colab": {
          "base_uri": "https://localhost:8080/"
        },
        "outputId": "18ed022d-a580-47bc-a9b5-cec5eda509d0"
      },
      "source": [
        "sales_3_years = {'2018': {\"Radio Sales\": 5000, \"TV Sales\": 26000, \"Direct-Mail Sales\": 1000, \"Telephone Sales\": 26000},\n",
        "                 '2019': {\"TV Sales\": 26000, \"Online Sales\": 37000, \"Telephone Sales\": 9000, \"Radio Sales\": 3000},\n",
        "                 '2020': {\"Telephone Sales\": 8000, \"TV Sales\": 19000, \"Online Sales\": 107000}}\n",
        "\n",
        "task1 = {year: sum(info.values()) for year, info in sales_3_years.items()}\n",
        "print(\"Task1: Write a comprehension to output the annual sales made from all sales strategies for each year:\\n{}\".format(task1))\n",
        "# Write your code below\n",
        "task2 = {year: [name for name, sales in info.items() if sales == max(info.values())] for year, info in sales_3_years.items()}\n",
        "print(\"Task2: Write a comprehension to figure out which strategy creates the highest sales for each year:\\n{}\".format(task2))\n",
        "#task 3:\n",
        "result_dict = {}\n",
        "for year, info in sales_3_years.items():\n",
        "  for name, sales in info.items():\n",
        "    if name in result_dict:\n",
        "      result_dict[name] += sales\n",
        "    else:\n",
        "      result_dict[name] = sales\n",
        "print(\"Task3: How many distinct strategies have been used:\\n{}\\nWhat are the total sales made from them for the 3 consecutive years:\\n{}\".format(len(result_dict),result_dict))\n",
        "\n",
        "\n",
        "\n"
      ],
      "execution_count": 12,
      "outputs": [
        {
          "output_type": "stream",
          "text": [
            "Task1: Write a comprehension to output the annual sales made from all sales strategies for each year:\n",
            "{'2018': 58000, '2019': 75000, '2020': 134000}\n",
            "Task2: Write a comprehension to figure out which strategy creates the highest sales for each year:\n",
            "{'2018': ['TV Sales', 'Telephone Sales'], '2019': ['Online Sales'], '2020': ['Online Sales']}\n",
            "Task3: How many distinct strategies have been used:\n",
            "5\n",
            "What are the total sales made from them for the 3 consecutive years:\n",
            "{'Radio Sales': 8000, 'TV Sales': 71000, 'Direct-Mail Sales': 1000, 'Telephone Sales': 43000, 'Online Sales': 144000}\n"
          ],
          "name": "stdout"
        }
      ]
    },
    {
      "cell_type": "markdown",
      "metadata": {
        "id": "guggZCN74d-b"
      },
      "source": [
        "**Question 7**\n",
        "\n",
        "Suppose we use a dictionary to maintain gradebooks for several IS courses:\n",
        "\n",
        "```python\n",
        "IS_gradebooks = {'ISOM2020': [59, 100, 80, 55, 95, 87, 95, 98, 74, 69, 92, 94, 75, 97, 43, 57],\n",
        "                 'ISOM3400': [98, 73, 45, 88, 72, 94, 82, 100, 89, 52], \n",
        "                 'ISOM3600': [24, 44, 100, 81, 91, 93, 87, 72, 55],\n",
        "                 'ISOM4200': [90, 56, 78, 67, 90, 93]}\n",
        "```\n",
        "\n",
        "Write a dictionary comprehension to count how many students earned scores below 60 for each course. The expected output should look like the following:\n",
        "\n",
        "```python\n",
        "{'ISOM2020': 4, 'ISOM3400': 2, 'ISOM3600': 3, 'ISOM4200': 1}\n",
        "```"
      ]
    },
    {
      "cell_type": "code",
      "metadata": {
        "id": "h3kkDLAi4d-c",
        "colab": {
          "base_uri": "https://localhost:8080/"
        },
        "outputId": "09b82383-bb3a-422d-f2f4-c6094f3b4103"
      },
      "source": [
        "IS_gradebooks = {'ISOM2020': [59, 100, 80, 55, 95, 87, 95, 98, 74, 69, 92, 94, 75, 97, 43, 57],\n",
        "                 'ISOM3400': [98, 73, 45, 88, 72, 94, 82, 100, 89, 52], \n",
        "                 'ISOM3600': [24, 44, 100, 81, 91, 93, 87, 72, 55],\n",
        "                 'ISOM4200': [90, 56, 78, 67, 90, 93]}\n",
        "\n",
        "# Write your code below\n",
        "#optional\n",
        "{course: len([mark for mark in marks if mark < 60]) for course, marks in IS_gradebooks.items()}\n"
      ],
      "execution_count": 14,
      "outputs": [
        {
          "output_type": "execute_result",
          "data": {
            "text/plain": [
              "{'ISOM2020': 4, 'ISOM3400': 2, 'ISOM3600': 3, 'ISOM4200': 1}"
            ]
          },
          "metadata": {
            "tags": []
          },
          "execution_count": 14
        }
      ]
    },
    {
      "cell_type": "code",
      "metadata": {
        "id": "rDg-gxoDFizN"
      },
      "source": [
        ""
      ],
      "execution_count": null,
      "outputs": []
    }
  ]
}