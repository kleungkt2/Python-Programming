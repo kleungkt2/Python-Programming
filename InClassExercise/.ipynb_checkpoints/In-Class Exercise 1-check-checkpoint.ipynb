{
 "cells": [
  {
   "cell_type": "markdown",
   "metadata": {
    "colab_type": "text",
    "id": "9MgnZnwizPU0"
   },
   "source": [
    "# Python Basics, Lists, and Tuples\n",
    "\n",
    "\n",
    "\n",
    "\n",
    "\n"
   ]
  },
  {
   "cell_type": "markdown",
   "metadata": {
    "colab_type": "text",
    "id": "A_i7gvg0x80M"
   },
   "source": [
    "### Section 1: \n",
    "\n",
    "For multiple choice questions, put **x** inside **[ ]** to mark your choice.\n",
    "\n"
   ]
  },
  {
   "cell_type": "markdown",
   "metadata": {
    "colab_type": "text",
    "id": "GB4nwmv9UnMT"
   },
   "source": [
    "1) Which of the options is equivalent to `3*3**3`?\n",
    "\n",
    "    \n",
    "- [ ] `9 ** 3`\n",
    "- [ ] `3 * 9`\n",
    "- [x] `3 * 27`\n",
    "- [ ] `3 ** (3 * 3)`"
   ]
  },
  {
   "cell_type": "markdown",
   "metadata": {
    "colab_type": "text",
    "id": "7jXAbrC5VH0S"
   },
   "source": [
    "2) What is the output of evaluating `2**1/2`?\n",
    "\n",
    "\n",
    "- [ ] 1.4142135 (i.e., square root 2)\n",
    "- [ ] 1\n",
    "- [x] 1.0\n",
    "- [ ] Error\n"
   ]
  },
  {
   "cell_type": "markdown",
   "metadata": {
    "colab_type": "text",
    "id": "mH6zNu3FVjnq"
   },
   "source": [
    "3) Which of the following are valid names for Python variables? (*more than one correct choice*)\n",
    "\n",
    "- [x] `_X`\n",
    "- [x] `Fall19`\n",
    "- [ ] `2020Fall`\n",
    "- [x] `student_name`\n",
    "- [ ] `email-address`\n",
    "- [ ] `h&m`\n",
    "- [ ] `elif`\n"
   ]
  },
  {
   "cell_type": "markdown",
   "metadata": {
    "colab_type": "text",
    "id": "Yjd2uOlXbQEB"
   },
   "source": [
    "4) Given the assignment `courseCode = \"ISOM 3400\"` being made, which of the following **CANNOT** assign the department code `\"ISOM\"` to the variable `dept`?\n",
    "\n",
    "\n",
    "\n",
    "- [ ] `dept = courseCode[:4]`\n",
    "- [ ] `dept = courseCode[0:4]`\n",
    "- [x] `dept = courseCode[:-4]`\n",
    "- [ ] `dept = courseCode[-9:4]`\n"
   ]
  },
  {
   "cell_type": "markdown",
   "metadata": {
    "colab_type": "text",
    "id": "IrCqyfr4cpRe"
   },
   "source": [
    "5) Which of the following options can update the string variable `x` to `\"ISOM3400\"`? \n",
    "\n",
    "```\n",
    "x = \"ISOM3401\"\n",
    "```\n",
    "\n",
    "- [ ] `x = x[:-1] + 0`\n",
    "- [x] `x = x[:-1] + \"0\"`\n",
    "- [ ] `x[-1] = '0'`\n",
    "- [ ] `x = x - 1`\n"
   ]
  },
  {
   "cell_type": "markdown",
   "metadata": {},
   "source": [
    "6) Given `numbers = [1, 2, 5, 6]`, which of the following code could fill in the missing integers between 2 and 5, while keeping `numbers` flat?\n",
    "\n",
    "- [ ] `numbers[2:3] = [3, 4]`\n",
    "- [ ] `numbers[2] = [3, 4]`\n",
    "- [ ] `numbers.insert(2, [3, 4])`\n",
    "- [x] `numbers[2:2] = [3, 4]`"
   ]
  },
  {
   "cell_type": "markdown",
   "metadata": {},
   "source": [
    "7) Consider the following diagram:\n",
    "\n",
    "<img src=\"https://drive.google.com/uc?export=download&id=1rD0R9It0PELP3u-w0CXCRmHUhDawe5B0\" width=500/>\n",
    "\n",
    "\n",
    "What should be the list display used in the following assignment to produce the structure shown above? \n",
    "\n"
   ]
  },
  {
   "cell_type": "code",
   "execution_count": 2,
   "metadata": {},
   "outputs": [],
   "source": [
    "x = [3, [1], [1,2], [[4]]]"
   ]
  },
  {
   "cell_type": "markdown",
   "metadata": {},
   "source": [
    "8) What is the value of `L3` after you execute the code below?\n",
    "\n",
    "```python\n",
    "L1 = ['re']\n",
    "L2 = ['mi']\n",
    "L3 = ['do']\n",
    "L4 = L1 + L2\n",
    "L3.extend(L4)\n",
    "L3.sort()\n",
    "del L3[0]\n",
    "L3.append(['fa','la'])\n",
    "```\n",
    "\n",
    "\n",
    "- [x] `['mi', 're', ['fa', 'la']]`\n",
    "- [ ] `['mi', 're', 'fa', 'la']`\n",
    "- [ ] `['re', 'mi', ['fa', 'la']]`\n",
    "- [ ] `['do', 'mi', ['fa', 'la']]`"
   ]
  },
  {
   "cell_type": "code",
   "execution_count": 1,
   "metadata": {},
   "outputs": [
    {
     "name": "stdout",
     "output_type": "stream",
     "text": [
      "['mi', 're', ['fa', 'la']]\n"
     ]
    }
   ],
   "source": [
    "L1 = ['re']\n",
    "L2 = ['mi']\n",
    "L3 = ['do']\n",
    "L4 = L1 + L2\n",
    "L3.extend(L4)\n",
    "L3.sort()\n",
    "del L3[0]\n",
    "L3.append(['fa','la'])\n",
    "print(L3)"
   ]
  },
  {
   "cell_type": "markdown",
   "metadata": {
    "colab_type": "text",
    "id": "o3iwCUovzPU5"
   },
   "source": [
    "## Section 2:\n",
    "\n",
    "\n",
    "\n",
    "For each question below, please write the corresponding code and then run the code to show the output.  \n",
    "\n"
   ]
  },
  {
   "cell_type": "markdown",
   "metadata": {
    "colab_type": "text",
    "id": "M0haEX4zx4HY"
   },
   "source": [
    "**Question 1**\n",
    "\n",
    "- Define a variable `x` by assigning a value of 3.14 to it;\n",
    "- Add a comment on the same line that states \"x is pai\";\n",
    "- Find out the type of `x`."
   ]
  },
  {
   "cell_type": "code",
   "execution_count": 26,
   "metadata": {},
   "outputs": [
    {
     "data": {
      "text/plain": [
       "float"
      ]
     },
     "execution_count": 26,
     "metadata": {},
     "output_type": "execute_result"
    }
   ],
   "source": [
    "x = 3.14 #x is pai\n",
    "type(x)"
   ]
  },
  {
   "cell_type": "markdown",
   "metadata": {
    "colab_type": "text",
    "id": "7ytzCdAVzPVE"
   },
   "source": [
    "**Question 2**\n",
    "- Assign a value of 2 to `x` and a value of 3 to `y`;\n",
    "- Assign the result of `x + y` to `z`; \n",
    "- Use `print()` to generate the output that looks like: \n",
    "\n",
    "```\n",
    "x = 2; y = 3; z = 5; x * y = 6\n",
    "```"
   ]
  },
  {
   "cell_type": "code",
   "execution_count": 27,
   "metadata": {},
   "outputs": [
    {
     "name": "stdout",
     "output_type": "stream",
     "text": [
      "x = 2; y = 3; z = 5; x * y = 6\n"
     ]
    }
   ],
   "source": [
    "x = 2\n",
    "y = 3\n",
    "z = x + y\n",
    "print(\"x = {}; y = {}; z = {}; x * y = {}\".format(x, y, z, x * y))"
   ]
  },
  {
   "cell_type": "markdown",
   "metadata": {
    "colab_type": "text",
    "id": "-lufxl84e86t"
   },
   "source": [
    "**Question 3**\n",
    "\n",
    "Write **ONE** line of code that prints two lines as follows: \n",
    "\n",
    "`It's the best day in Tim's life!`\n",
    "<br>`He scored the highest when playing \"Super Mario Run\"!`"
   ]
  },
  {
   "cell_type": "code",
   "execution_count": 28,
   "metadata": {},
   "outputs": [
    {
     "name": "stdout",
     "output_type": "stream",
     "text": [
      "It's the best day in Tim's life!\n",
      "He scored the highest when playing \"Super Mario Run\"!\n"
     ]
    }
   ],
   "source": [
    "print(\"It's the best day in Tim's life!\\nHe scored the highest when playing \\\"Super Mario Run\\\"!\")"
   ]
  },
  {
   "cell_type": "markdown",
   "metadata": {
    "colab_type": "text",
    "id": "vSGP5PQxs3G-"
   },
   "source": [
    "\n",
    "**Question 4**\n",
    "\n",
    "- Assign a string `\"Super Mario\"` to a variable `game` and a string `\"Apple Bee Cat\"` to a variable `game2`;\n",
    "- Compare which one is longer, `game` or `game2`. Return `True` if `game` is longer or `False` if `game2` is longer. \n",
    "\n",
    "-  Count how many 'A/a's there are in `game2`, including uppercase \"A\" and lowercase \"a\". Print the following: \n",
    "  \n",
    "  ```There are a total of 2 \"A/a\"s in 'Apple Bee Cat'```\n",
    "\n",
    "- Count how many times letter `\"e\"` has appeared in `game` and `game2` together."
   ]
  },
  {
   "cell_type": "code",
   "execution_count": 62,
   "metadata": {},
   "outputs": [],
   "source": [
    "game = \"Super Mario\"\n",
    "game2 = \"Apple Bee Cat\""
   ]
  },
  {
   "cell_type": "code",
   "execution_count": 56,
   "metadata": {},
   "outputs": [
    {
     "data": {
      "text/plain": [
       "False"
      ]
     },
     "execution_count": 56,
     "metadata": {},
     "output_type": "execute_result"
    }
   ],
   "source": [
    "len(game) > len(game2)"
   ]
  },
  {
   "cell_type": "code",
   "execution_count": 58,
   "metadata": {
    "scrolled": true
   },
   "outputs": [
    {
     "name": "stdout",
     "output_type": "stream",
     "text": [
      "There are a total of 2 \"A/a\"s in 'Apple Bee Cat'\n"
     ]
    }
   ],
   "source": [
    "x = game2.count('A') + game.count('a')\n",
    "print(\"There are a total of {} \\\"A/a\\\"s in 'Apple Bee Cat'\".format(x))"
   ]
  },
  {
   "cell_type": "code",
   "execution_count": 61,
   "metadata": {},
   "outputs": [
    {
     "data": {
      "text/plain": [
       "4"
      ]
     },
     "execution_count": 61,
     "metadata": {},
     "output_type": "execute_result"
    }
   ],
   "source": [
    "game.count('e') + game2.count('e')"
   ]
  },
  {
   "cell_type": "markdown",
   "metadata": {
    "colab_type": "text",
    "id": "bMByZjhJgXOf"
   },
   "source": [
    "**Question 5** \n",
    "\n",
    "***Tokenization*** is often the first step in text analytics. It is the process of breaking down a text paragraph into smaller chunks such as words or sentences.\n",
    "\n",
    "\n",
    "<br>\n",
    "\n",
    "Use `dir()` and `help()` to find a string method that can split the following string into its constituent words. (hint: the delimiter to use is `' '`).\n",
    "\n",
    "<br>\n",
    "\n",
    "`Business analytics refers to the practices for continuous iterative exploration and investigation of past business performance to gain insight and drive business planning`\n",
    "\n",
    "<br>\n",
    "\n",
    "\n",
    "The expected output looks like: \n",
    "\n",
    "```python\n",
    "['Business', 'analytics', 'refers', 'to', 'the', 'practices', 'for', 'continuous', 'iterative', 'exploration', 'and',\n",
    " 'investigation', 'of', 'past', 'business', 'performance', 'to', 'gain', 'insight', 'and', 'drive', 'business', \n",
    " 'planning']\n",
    "```"
   ]
  },
  {
   "cell_type": "code",
   "execution_count": 32,
   "metadata": {},
   "outputs": [
    {
     "name": "stdout",
     "output_type": "stream",
     "text": [
      "['Business', 'analytics', 'refers', 'to', 'the', 'practices', 'for', 'continuous', 'iterative', 'exploration', 'and', 'investigation', 'of', 'past', 'business', 'performance', 'to', 'gain', 'insight', 'and', 'drive', 'business', 'planning']\n"
     ]
    }
   ],
   "source": [
    "s = \"Business analytics refers to the practices for continuous iterative exploration and investigation of past business performance to gain insight and drive business planning\"\n",
    "print(s.split(' '))"
   ]
  },
  {
   "cell_type": "markdown",
   "metadata": {},
   "source": [
    "**Question 6**\n",
    "\n",
    "With machine learning and data science emerging, sometimes we can get the data in the format of list of numbers but with string as data type.\n",
    "\n",
    "- Use the `list()` function to convert an appropriate string to a list with \"0\" to \"9\" characters and call it `clist`. Print `clist` and it should look like: \n",
    "```python\n",
    "['0', '1', '2', '3', '4', '5', '6', '7', '8', '9']\n",
    "```\n",
    "\n",
    "- Add an element `'10'` to the end of `clist`. Print `clist` and it should look like:\n",
    "```python\n",
    "['0', '1', '2', '3', '4', '5', '6', '7', '8', '9', '10']\n",
    "```\n",
    "- Sort strings in `clist` numerically, or in other words, by corresponding numeric value. After sorting, the content of `clist` should look like: \n",
    "```python\n",
    "['10', '9', '8', '7', '6', '5', '4', '3', '2', '1', '0']\n",
    "```\n",
    "\n",
    "\n",
    "-  Use the built-in `max` and `min` functions to find the strings that have the maximum and minimum numerical values (`'10'` and `'0'` are expected), respectively. \n",
    "\n",
    "  - hint: use `help()` to figure out what keyword argument(s) is needed."
   ]
  },
  {
   "cell_type": "code",
   "execution_count": 63,
   "metadata": {},
   "outputs": [
    {
     "name": "stdout",
     "output_type": "stream",
     "text": [
      "maximum value: 10\n",
      "minimum value: 0\n",
      "clist: ['10', '9', '8', '7', '6', '5', '4', '3', '2', '1', '0']\n"
     ]
    }
   ],
   "source": [
    "clist = list(\"0123456789\")\n",
    "clist.append(\"10\")\n",
    "clist.sort(key = int, reverse = True)\n",
    "print(\"maximum value: {}\".format(max(clist, key = int)))\n",
    "print(\"minimum value: {}\".format(min(clist, key = int)))\n",
    "print(\"clist: {}\".format(clist))"
   ]
  },
  {
   "cell_type": "markdown",
   "metadata": {},
   "source": [
    "**Question 7**\n",
    "\n",
    "Given a list of words defined as follows\n",
    "\n",
    "```python\n",
    "words = ['this', 'that', 'the', 'for', 'is', 'if', 'is', 'if', 'this', 'that', 'that', 'for', 'is', 'a', 'a', 'the']\n",
    "```\n",
    "\n",
    "- Create a new list to store all the occurrences of the words having occurred more than twice in `words`. The order of the occurrences should be retained in this new list. The value of the new list should look like:\n",
    "\n",
    "  ```python\n",
    " ['that', 'is', 'is', 'that', 'that', 'is']\n",
    "  ```\n",
    "\n",
    " \n",
    " \n",
    "\n",
    "- Compute the frequencies of the words in `words` using a list comprehension. The resulting list, `word_freq`, should contain a sequence of 2-element tuples, each with the first being a word in `words` and the second the count of the word. The content of `word_freq` should look like as follows:\n",
    "\n",
    "```python\n",
    "[('this', 2), ('for', 2), ('the', 2), ('is', 3), ('if', 2), ('a', 2), ('that', 3)]\n",
    "```\n",
    "Hint: \n",
    "   1. Use `set(words)` after `in` keyword in the list comprehension. `set(words)` creates a Python set that contains only the unique values in `words`. This is a very useful trick to remove duplicates of a list all at once.\n",
    "   2. The output expression of the list comprehension should be a tuple display."
   ]
  },
  {
   "cell_type": "code",
   "execution_count": 67,
   "metadata": {},
   "outputs": [
    {
     "name": "stdout",
     "output_type": "stream",
     "text": [
      "new list with occurrence more than 2: ['that', 'is', 'is', 'that', 'that', 'is']\n",
      "word_freq: [('a', 2), ('for', 2), ('if', 2), ('that', 3), ('the', 2), ('this', 2), ('is', 3)]\n"
     ]
    }
   ],
   "source": [
    "words = ['this', 'that', 'the', 'for', 'is', 'if', 'is', 'if', 'this', 'that', 'that', 'for', 'is', 'a', 'a', 'the']\n",
    "new_list = [i for i in words if words.count(i) > 2]\n",
    "word_freq = [(i, words.count(i)) for i in set(words)]\n",
    "print(\"new list with occurrence more than 2: {}\".format(new_list))\n",
    "print(\"word_freq: {}\".format(word_freq))\n"
   ]
  },
  {
   "cell_type": "markdown",
   "metadata": {},
   "source": [
    "**Question 8**\n",
    "\n",
    "Suppose we use a nested list to maintain gradebooks for several IS courses as follows: \n",
    "\n",
    "```python\n",
    "IS_gradebooks = [['ISOM2020', [59, 100, 80, 55, 95, 87, 95, 98, 74, 69, 92, 94, 75, 97, 43, 57]],\n",
    " ['ISOM3400', [98, 73, 45, 88, 72, 94, 82, 100, 89, 52]], \n",
    " ['ISOM3600', [24, 44, 100, 81, 91, 93, 87, 72]], \n",
    " ['ISOM4200', [90, 56, 78, 67, 90, 93]]]\n",
    "\n",
    "```\n",
    "\n",
    "Write a list comprehension to create a new nested list which maintains the mean score for each course. Use sequence unpacking whenever possible.\n",
    "\n",
    "The expected output should look like the follow:\n",
    "\n",
    "```python\n",
    "[['ISOM2020', 79.375], ['ISOM3400', 79.3], ['ISOM3600', 74.0], ['ISOM4200', 79.0]]\n",
    "```"
   ]
  },
  {
   "cell_type": "code",
   "execution_count": 74,
   "metadata": {},
   "outputs": [
    {
     "name": "stdout",
     "output_type": "stream",
     "text": [
      "[['ISOM2020', 79.375], ['ISOM3400', 79.3], ['ISOM3600', 74.0], ['ISOM4200', 79.0]]\n"
     ]
    }
   ],
   "source": [
    "IS_gradebooks = [['ISOM2020', [59, 100, 80, 55, 95, 87, 95, 98, 74, 69, 92, 94, 75, 97, 43, 57]],\n",
    " ['ISOM3400', [98, 73, 45, 88, 72, 94, 82, 100, 89, 52]], \n",
    " ['ISOM3600', [24, 44, 100, 81, 91, 93, 87, 72]], \n",
    " ['ISOM4200', [90, 56, 78, 67, 90, 93]]]\n",
    "print([[name, sum(mark)/len(mark)] for name, mark in IS_gradebooks])"
   ]
  }
 ],
 "metadata": {
  "colab": {
   "collapsed_sections": [],
   "name": "1 Python Basics Exercise.ipynb",
   "provenance": [
    {
     "file_id": "1thDHzafQ5S7I3oAB7d3w_csk_ihzCjR_",
     "timestamp": 1563633241712
    }
   ]
  },
  "kernelspec": {
   "display_name": "Python 3",
   "language": "python",
   "name": "python3"
  },
  "language_info": {
   "codemirror_mode": {
    "name": "ipython",
    "version": 3
   },
   "file_extension": ".py",
   "mimetype": "text/x-python",
   "name": "python",
   "nbconvert_exporter": "python",
   "pygments_lexer": "ipython3",
   "version": "3.8.5"
  }
 },
 "nbformat": 4,
 "nbformat_minor": 1
}
