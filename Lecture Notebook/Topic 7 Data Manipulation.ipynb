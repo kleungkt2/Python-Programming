{
 "cells": [
  {
   "cell_type": "code",
   "execution_count": 52,
   "metadata": {
    "colab": {},
    "colab_type": "code",
    "id": "eeFcBq7bdGWy"
   },
   "outputs": [],
   "source": [
    "import numpy as np\n",
    "import seaborn as sns\n",
    "import matplotlib.pyplot as plt\n",
    "plt.style.use('seaborn-white')\n",
    "import inspect\n",
    "import pandas as pd\n",
    "pd.options.display.max_rows = 10\n",
    "\n",
    "%config InlineBackend.figure_format=\"retina\"\n",
    "\n",
    "class display(object):\n",
    "    \"\"\"Display HTML representation of multiple objects\"\"\"\n",
    "    template = \"\"\"<div style=\"float: left; padding: 10px;\">\n",
    "    <p>{0}</p>{1}\n",
    "    </div>\"\"\"\n",
    "    def __init__(self, *args):\n",
    "        self.args = args\n",
    "        \n",
    "    def _repr_html_(self):\n",
    "        return '\\n'.join(self.template.format(a, eval(a)._repr_html_())\n",
    "                         for a in self.args)\n",
    "    \n",
    "    def __repr__(self):\n",
    "        return '\\n\\n'.join(a + '\\n' + repr(eval(a))\n",
    "                           for a in self.args)\n",
    "       "
   ]
  },
  {
   "cell_type": "markdown",
   "metadata": {
    "colab_type": "text",
    "id": "cr_lUENJdGW1"
   },
   "source": [
    "# Data Manipulation with Pandas\n",
    "\n",
    "\n",
    "\n",
    "\n",
    "[Pandas](http://pandas.pydata.org/) is a Python library that provides rich data structures and functions designed to make working with *structured data* fast, easy, and expressive.\n",
    "\n",
    "\n",
    "<img src=\"https://pandas.pydata.org/static/img/pandas.svg\"  width=\"380px\">\n",
    "\n",
    "- It provides two main data structures: the `Series` which holds a **1-dimensional sequence** of ***homogeneous*** values, and the `DataFrame`, which holds a ***tabular***, ***heterogeneous*** dataset. \n",
    "\n",
    "- It also contains a large number of functions and methods to manipulate and summarize `Series` and `DataFrame` objects.\n",
    "\n",
    "\n",
    "\n",
    "Pandas is built on top of NumPy and makes it easy to use in NumPy-centric applications.\n",
    "\n"
   ]
  },
  {
   "cell_type": "code",
   "execution_count": 2,
   "metadata": {
    "colab": {},
    "colab_type": "code",
    "id": "yU_LgG6WdGW2"
   },
   "outputs": [],
   "source": [
    "import pandas as pd  # abbreviated as pd conventionally"
   ]
  },
  {
   "cell_type": "code",
   "execution_count": 3,
   "metadata": {
    "colab": {},
    "colab_type": "code",
    "id": "Uv3PBPdW8mU6",
    "outputId": "d93728ef-a515-408d-b33a-e4320e561dfe"
   },
   "outputs": [
    {
     "data": {
      "text/plain": [
       "'1.0.5'"
      ]
     },
     "execution_count": 3,
     "metadata": {},
     "output_type": "execute_result"
    }
   ],
   "source": [
    "pd.__version__"
   ]
  },
  {
   "cell_type": "markdown",
   "metadata": {
    "colab_type": "text",
    "id": "5duyb3h1dGW6"
   },
   "source": [
    "\n",
    "---\n",
    "\n",
    "# 1 `Series`\n",
    "\n",
    "\n",
    "A pandas [`Series`](http://pandas.pydata.org/pandas-docs/stable/reference/api/pandas.Series.html) is a ***1-dimensional*** array of ***labeled*** data, and can be thought of either as \n",
    "\n",
    "- a generalization of a NumPy array, or\n",
    "\n",
    "- a specialization of a Python dictionary\n",
    "\n",
    "and can thereby be created accordingly."
   ]
  },
  {
   "cell_type": "code",
   "execution_count": 4,
   "metadata": {},
   "outputs": [
    {
     "data": {
      "text/plain": [
       "0    4\n",
       "1    7\n",
       "2    5\n",
       "3    3\n",
       "dtype: int64"
      ]
     },
     "execution_count": 4,
     "metadata": {},
     "output_type": "execute_result"
    }
   ],
   "source": [
    "ser1 = pd.Series([4, 7, 5, 3]); ser1"
   ]
  },
  {
   "cell_type": "code",
   "execution_count": 5,
   "metadata": {
    "colab": {},
    "colab_type": "code",
    "id": "Vp8L3rLs8mU8",
    "outputId": "e87ae876-3d60-4c48-abfc-991457266fe6"
   },
   "outputs": [
    {
     "data": {
      "text/plain": [
       "Thu    4\n",
       "Sun    7\n",
       "Fri    5\n",
       "Wed    3\n",
       "dtype: int64"
      ]
     },
     "execution_count": 5,
     "metadata": {},
     "output_type": "execute_result"
    }
   ],
   "source": [
    "ser1 = pd.Series([4, 7, 5, 3], index=['Thu', 'Sun', 'Fri', 'Wed']); ser1"
   ]
  },
  {
   "cell_type": "markdown",
   "metadata": {
    "cell_style": "center",
    "colab_type": "text",
    "id": "BpiLxFpBdGXK"
   },
   "source": [
    "<div class=\"alert alert-info\"> If the index argument takes no inputs, the resulting Series will be indexed by sequential integers as expected.</div>"
   ]
  },
  {
   "cell_type": "markdown",
   "metadata": {
    "colab_type": "text",
    "id": "qprIm67QdGW-"
   },
   "source": [
    "The `Series` object wraps both a sequence of values and a sequence of index labels, which we can access with the `values` and `index` attributes:"
   ]
  },
  {
   "cell_type": "code",
   "execution_count": 0,
   "metadata": {
    "cell_style": "split",
    "colab": {},
    "colab_type": "code",
    "id": "6zQolnrLdGW-",
    "outputId": "0ed19db0-e7ba-402c-e953-a4e5d5ce4f9b",
    "scrolled": true
   },
   "outputs": [
    {
     "data": {
      "text/plain": [
       "array([4, 7, 5, 3], dtype=int64)"
      ]
     },
     "execution_count": 5,
     "metadata": {
      "tags": []
     },
     "output_type": "execute_result"
    }
   ],
   "source": [
    "# The values are simply a familiar NumPy array\n",
    "ser1.values  "
   ]
  },
  {
   "cell_type": "code",
   "execution_count": 0,
   "metadata": {
    "cell_style": "split",
    "colab": {},
    "colab_type": "code",
    "id": "RO4GGCWOdGXB",
    "outputId": "6bf79b2b-c1c3-4d88-c114-32fb685d4074"
   },
   "outputs": [
    {
     "data": {
      "text/plain": [
       "Index(['Thu', 'Sun', 'Fri', 'Wed'], dtype='object')"
      ]
     },
     "execution_count": 6,
     "metadata": {
      "tags": []
     },
     "output_type": "execute_result"
    }
   ],
   "source": [
    "ser1.index"
   ]
  },
  {
   "cell_type": "markdown",
   "metadata": {
    "colab_type": "text",
    "id": "PUC-AGv68mVF"
   },
   "source": [
    "<div class=\"alert alert-info\">The index is an array-like object of type pd.Index, which will be discussed in one optional section momentarily.</div>\n",
    "\n"
   ]
  },
  {
   "cell_type": "markdown",
   "metadata": {
    "colab_type": "text",
    "id": "wFQ4VCDrdGXP"
   },
   "source": [
    "Apart from making data more readable, the explicit index definition gives the `Series` object additional capabilities.\n",
    "\n",
    "E.g., dictionary-style and array-style item access can be mixed:"
   ]
  },
  {
   "cell_type": "code",
   "execution_count": 0,
   "metadata": {
    "cell_style": "center",
    "colab": {},
    "colab_type": "code",
    "id": "53Y1VAUKdGXQ",
    "outputId": "ab6639f8-ac9f-404d-82b0-172dbe734b1a"
   },
   "outputs": [
    {
     "data": {
      "text/plain": [
       "4"
      ]
     },
     "execution_count": 13,
     "metadata": {
      "tags": []
     },
     "output_type": "execute_result"
    }
   ],
   "source": [
    "ser1['Thu']"
   ]
  },
  {
   "cell_type": "code",
   "execution_count": 40,
   "metadata": {
    "cell_style": "center",
    "colab": {},
    "colab_type": "code",
    "id": "dO48uFlNdGXT",
    "outputId": "8eab0d0c-1575-4bd0-ca89-eeb6331e4efd"
   },
   "outputs": [
    {
     "data": {
      "text/plain": [
       "Sun    7\n",
       "Fri    5\n",
       "Wed    3\n",
       "dtype: int64"
      ]
     },
     "execution_count": 40,
     "metadata": {},
     "output_type": "execute_result"
    }
   ],
   "source": [
    "ser1['Sun':'Wed']               # the end index is included"
   ]
  },
  {
   "cell_type": "code",
   "execution_count": 0,
   "metadata": {
    "cell_style": "center",
    "colab": {},
    "colab_type": "code",
    "id": "TVJQh3B9dGXV",
    "outputId": "6ef70df9-e0a7-422d-f89f-fbe2e099bdf8"
   },
   "outputs": [
    {
     "data": {
      "text/plain": [
       "Sun    7\n",
       "Wed    3\n",
       "Fri    5\n",
       "dtype: int64"
      ]
     },
     "execution_count": 15,
     "metadata": {
      "tags": []
     },
     "output_type": "execute_result"
    }
   ],
   "source": [
    "ser1[['Sun', 'Wed', 'Fri']]     # an instance of array-like fancy indexing with explicitly defined index"
   ]
  },
  {
   "cell_type": "markdown",
   "metadata": {
    "colab_type": "text",
    "id": "Nt-5dxCgdGXD"
   },
   "source": [
    "The values of a `Series` are indexed by an ***implicit Python-style*** index (***location-based*** indexing) as well:"
   ]
  },
  {
   "cell_type": "code",
   "execution_count": 8,
   "metadata": {},
   "outputs": [
    {
     "data": {
      "text/plain": [
       "4"
      ]
     },
     "execution_count": 8,
     "metadata": {},
     "output_type": "execute_result"
    }
   ],
   "source": [
    "ser1[0]"
   ]
  },
  {
   "cell_type": "code",
   "execution_count": 10,
   "metadata": {
    "cell_style": "center",
    "colab": {},
    "colab_type": "code",
    "id": "WuIyR6uddGXG",
    "outputId": "a5255bf4-c811-4b61-fae3-482abb5621c3"
   },
   "outputs": [
    {
     "data": {
      "text/plain": [
       "Sun    7\n",
       "Fri    5\n",
       "Wed    3\n",
       "dtype: int64"
      ]
     },
     "execution_count": 10,
     "metadata": {},
     "output_type": "execute_result"
    }
   ],
   "source": [
    "ser1[1:4]          # the end index is excluded"
   ]
  },
  {
   "cell_type": "code",
   "execution_count": 11,
   "metadata": {
    "colab": {},
    "colab_type": "code",
    "id": "7SbEQY7MdGXI",
    "outputId": "56043e5b-1636-4631-b5b9-7bfdde3444be"
   },
   "outputs": [
    {
     "data": {
      "text/plain": [
       "Sun    7\n",
       "Wed    3\n",
       "Fri    5\n",
       "dtype: int64"
      ]
     },
     "execution_count": 11,
     "metadata": {},
     "output_type": "execute_result"
    }
   ],
   "source": [
    "ser1[[1, 3, 2]]   # an instance of array-like fancy indexing with implicitly defined index"
   ]
  },
  {
   "cell_type": "markdown",
   "metadata": {
    "colab_type": "text",
    "id": "WvDrauE5dGXg"
   },
   "source": [
    "\n",
    "<div class=\"alert alert-info\">These slicing and indexing conventions can be a source of confusion. To avoid potential confusions, pandas provides some special indexer attributes that explicitly expose certain indexing schemes. </div>\n",
    "\n",
    "The `Series`-as-dictionary analogy becomes clearer by constructing a `Series` directly from a Python dictionary:"
   ]
  },
  {
   "cell_type": "code",
   "execution_count": 0,
   "metadata": {
    "colab": {},
    "colab_type": "code",
    "id": "XUYjt6WvdGXi",
    "outputId": "a1f1cef2-867f-446c-941b-7574d062665f"
   },
   "outputs": [
    {
     "data": {
      "text/plain": [
       "Wan Chai    150900\n",
       "North       310800\n",
       "Sai Kung    448600\n",
       "Sha Tin     648200\n",
       "dtype: int64"
      ]
     },
     "execution_count": 20,
     "metadata": {
      "tags": []
     },
     "output_type": "execute_result"
    }
   ],
   "source": [
    "distr_pop_dict = {'Wan Chai': 150900, 'North': 310800, 'Sai Kung': 448600, 'Sha Tin': 648200}\n",
    "distr_pop = pd.Series(distr_pop_dict); distr_pop"
   ]
  },
  {
   "cell_type": "markdown",
   "metadata": {
    "colab_type": "text",
    "id": "FCOnn9xGdGXn"
   },
   "source": [
    "<div class=\"alert alert-info\">While a dictionary is a structure that maps arbitrary keys to a set of arbitrary values, a Series is a structure which maps typed keys to a set of typed values. The type information of a Pandas Series makes it much more efficient than Python dictionaries for certain operations.</div>"
   ]
  },
  {
   "cell_type": "markdown",
   "metadata": {
    "colab_type": "text",
    "id": "edGS73XbdGXo"
   },
   "source": [
    "---\n",
    "\n",
    "## Constructing `Series`\n",
    "\n",
    "Various ways of constructing a `Series` are just some version of the following:\n",
    "\n",
    "<pre>\n",
    "pd.Series(data, index=index)\n",
    "</pre>\n",
    "\n",
    "where `index` is an optional argument, and `data` can be one of many entities. For example：\n",
    "\n",
    "- `data` can be a list or NumPy array, in which case index defaults to an integer sequence;\n",
    "- `data` can be a dictionary, in which `index` defaults to the dictionary keys. In this case, the `index` can be explicitly set to identify keys that populate a `Series`."
   ]
  },
  {
   "cell_type": "code",
   "execution_count": 13,
   "metadata": {
    "cell_style": "split"
   },
   "outputs": [
    {
     "data": {
      "text/plain": [
       "0    4\n",
       "1    7\n",
       "2    5\n",
       "3    3\n",
       "dtype: int64"
      ]
     },
     "execution_count": 13,
     "metadata": {},
     "output_type": "execute_result"
    }
   ],
   "source": [
    "pd.Series([4, 7, 5, 3])"
   ]
  },
  {
   "cell_type": "code",
   "execution_count": 44,
   "metadata": {
    "cell_style": "split",
    "colab": {},
    "colab_type": "code",
    "id": "HVXMfbBSdGXp",
    "outputId": "63bb01ce-56d0-4c62-c55d-4d957e72d2b8"
   },
   "outputs": [
    {
     "data": {
      "text/plain": [
       "3    c\n",
       "2    a\n",
       "3    c\n",
       "dtype: object"
      ]
     },
     "execution_count": 44,
     "metadata": {},
     "output_type": "execute_result"
    }
   ],
   "source": [
    "pd.Series({2: 'a', 1: 'b', 3: 'c'}, \n",
    "          index=[3, 2, 3])"
   ]
  },
  {
   "cell_type": "markdown",
   "metadata": {
    "colab_type": "text",
    "id": "14Kvwm-ddGXq"
   },
   "source": [
    "\n",
    "\n",
    "---\n",
    "# 2 `DataFrame`s\n",
    "\n",
    "A [`DataFrame`](http://pandas.pydata.org/pandas-docs/stable/reference/api/pandas.DataFrame.html) represents a ***tabular*** data structure containing an ***ordered*** collection of columns, each of which can be a different value type (numeric, string, Boolean, etc.). \n",
    "\n"
   ]
  },
  {
   "cell_type": "markdown",
   "metadata": {
    "cell_style": "split",
    "colab_type": "text",
    "hide_input": false,
    "id": "ZxOvCZWhdGXr"
   },
   "source": [
    "\n",
    "\n",
    "\n",
    "<table border=\"1\" class=\"dataframe\">\n",
    "  <thead>\n",
    "    <tr style=\"text-align: right;\">\n",
    "      <th></th>\n",
    "      <th>population</th>\n",
    "      <th>area</th>\n",
    "    </tr>\n",
    "  </thead>\n",
    "  <tbody>\n",
    "    <tr>\n",
    "      <th>North</th>\n",
    "      <td>310800</td>\n",
    "      <td>136.61</td>\n",
    "    </tr>\n",
    "    <tr>\n",
    "      <th>Sai Kung</th>\n",
    "      <td>448600</td>\n",
    "      <td>129.65</td>\n",
    "    </tr>\n",
    "    <tr>\n",
    "      <th>Sha Tin</th>\n",
    "      <td>648200</td>\n",
    "      <td>68.71</td>\n",
    "    </tr>\n",
    "    <tr>\n",
    "      <th>Wan Chai</th>\n",
    "      <td>150900</td>\n",
    "      <td>9.83</td>\n",
    "    </tr>\n",
    "  </tbody>\n",
    "</table>\n",
    "\n",
    "\n"
   ]
  },
  {
   "cell_type": "markdown",
   "metadata": {
    "cell_style": "split",
    "colab_type": "text",
    "id": "s6jN07CzdGXs"
   },
   "source": [
    "A `DataFrame` can also be thought of either as \n",
    "\n",
    "- a generalization of a NumPy array, or\n",
    "\n",
    "- a specialization of a Python dictionary\n",
    "\n",
    "and can thereby be created accordingly.\n",
    "\n",
    "\n"
   ]
  },
  {
   "cell_type": "markdown",
   "metadata": {
    "colab_type": "text",
    "id": "aLMHfFZodGXs"
   },
   "source": [
    "\n",
    "In the `DataFrame`-as-dictionary analogy, the `DataFrame` maps names to a sequence of aligned `Series` objects, each being a column of the tabular structure. "
   ]
  },
  {
   "cell_type": "code",
   "execution_count": 45,
   "metadata": {
    "cell_style": "split",
    "colab": {},
    "colab_type": "code",
    "id": "kvgI3rbVdGXt",
    "outputId": "fb85193b-eef5-4a32-a69a-357f3e9aa5db"
   },
   "outputs": [
    {
     "data": {
      "text/plain": [
       "Sai Kung    129.65\n",
       "North       136.61\n",
       "Wan Chai      9.83\n",
       "Sha Tin      68.71\n",
       "dtype: float64"
      ]
     },
     "execution_count": 45,
     "metadata": {},
     "output_type": "execute_result"
    }
   ],
   "source": [
    "distr_area_dict = {'Sai Kung': 129.65, \n",
    "                   'North': 136.61, \n",
    "                   'Wan Chai': 9.83, \n",
    "                   'Sha Tin': 68.71}\n",
    "distr_area = pd.Series(distr_area_dict); distr_area"
   ]
  },
  {
   "cell_type": "code",
   "execution_count": 46,
   "metadata": {
    "cell_style": "split",
    "colab": {},
    "colab_type": "code",
    "id": "afZyE45y8mVo",
    "outputId": "24c8ce84-62a6-49a6-e1e6-3550e380c1d7"
   },
   "outputs": [
    {
     "data": {
      "text/plain": [
       "Wan Chai    150900\n",
       "North       310800\n",
       "Sai Kung    448600\n",
       "Sha Tin     648200\n",
       "dtype: int64"
      ]
     },
     "execution_count": 46,
     "metadata": {},
     "output_type": "execute_result"
    }
   ],
   "source": [
    "distr_pop_dict = {'Wan Chai': 150900, \n",
    "                  'North': 310800, \n",
    "                  'Sai Kung': 448600, \n",
    "                  'Sha Tin': 648200}\n",
    "distr_pop = pd.Series(distr_pop_dict); distr_pop"
   ]
  },
  {
   "cell_type": "markdown",
   "metadata": {
    "colab_type": "text",
    "id": "pjO3vdSQdGXw"
   },
   "source": [
    "If we use a dictionary to construct a `DataFrame` object based on these two `Series` objects, their data are ***aligned via index labels***, which are sorted in the result:"
   ]
  },
  {
   "cell_type": "code",
   "execution_count": 47,
   "metadata": {
    "colab": {},
    "colab_type": "code",
    "id": "OdDOBBEqdGXx",
    "outputId": "dadcfa7e-c125-4eb1-d37f-5aec1ed900eb"
   },
   "outputs": [
    {
     "data": {
      "text/html": [
       "<div>\n",
       "<style scoped>\n",
       "    .dataframe tbody tr th:only-of-type {\n",
       "        vertical-align: middle;\n",
       "    }\n",
       "\n",
       "    .dataframe tbody tr th {\n",
       "        vertical-align: top;\n",
       "    }\n",
       "\n",
       "    .dataframe thead th {\n",
       "        text-align: right;\n",
       "    }\n",
       "</style>\n",
       "<table border=\"1\" class=\"dataframe\">\n",
       "  <thead>\n",
       "    <tr style=\"text-align: right;\">\n",
       "      <th></th>\n",
       "      <th>population</th>\n",
       "      <th>area</th>\n",
       "    </tr>\n",
       "  </thead>\n",
       "  <tbody>\n",
       "    <tr>\n",
       "      <th>North</th>\n",
       "      <td>310800</td>\n",
       "      <td>136.61</td>\n",
       "    </tr>\n",
       "    <tr>\n",
       "      <th>Sai Kung</th>\n",
       "      <td>448600</td>\n",
       "      <td>129.65</td>\n",
       "    </tr>\n",
       "    <tr>\n",
       "      <th>Sha Tin</th>\n",
       "      <td>648200</td>\n",
       "      <td>68.71</td>\n",
       "    </tr>\n",
       "    <tr>\n",
       "      <th>Wan Chai</th>\n",
       "      <td>150900</td>\n",
       "      <td>9.83</td>\n",
       "    </tr>\n",
       "  </tbody>\n",
       "</table>\n",
       "</div>"
      ],
      "text/plain": [
       "          population    area\n",
       "North         310800  136.61\n",
       "Sai Kung      448600  129.65\n",
       "Sha Tin       648200   68.71\n",
       "Wan Chai      150900    9.83"
      ]
     },
     "execution_count": 47,
     "metadata": {},
     "output_type": "execute_result"
    }
   ],
   "source": [
    "district = pd.DataFrame({'population': distr_pop, 'area': distr_area}); district"
   ]
  },
  {
   "cell_type": "markdown",
   "metadata": {
    "colab_type": "text",
    "id": "A-WPbkFDdGXz"
   },
   "source": [
    "Like the `Series`, the `DataFrame` has an `index` attribute that gives access to the `index` labels. Additionally, it has a `columns` attribute, which is an `Index` object holding the `column` labels:\n"
   ]
  },
  {
   "cell_type": "code",
   "execution_count": 48,
   "metadata": {
    "cell_style": "split",
    "colab": {},
    "colab_type": "code",
    "id": "i0sF5JfEdGXz",
    "outputId": "6a89afbe-1e2f-456b-87f3-75f6cc6b3611"
   },
   "outputs": [
    {
     "data": {
      "text/plain": [
       "Index(['North', 'Sai Kung', 'Sha Tin', 'Wan Chai'], dtype='object')"
      ]
     },
     "execution_count": 48,
     "metadata": {},
     "output_type": "execute_result"
    }
   ],
   "source": [
    "district.index"
   ]
  },
  {
   "cell_type": "code",
   "execution_count": 49,
   "metadata": {
    "cell_style": "split",
    "colab": {},
    "colab_type": "code",
    "id": "E8U6kDuKdGX2",
    "outputId": "303c14e0-7c61-423e-fc15-86d0fdc0d222"
   },
   "outputs": [
    {
     "data": {
      "text/plain": [
       "Index(['population', 'area'], dtype='object')"
      ]
     },
     "execution_count": 49,
     "metadata": {},
     "output_type": "execute_result"
    }
   ],
   "source": [
    "district.columns"
   ]
  },
  {
   "cell_type": "markdown",
   "metadata": {
    "colab_type": "text",
    "id": "ccvJn8MkdGX4"
   },
   "source": [
    "\n",
    "Therefore, a `DataFrame` is an analog of a 2-dimensional array where both the rows and columns have a generalized index for accessing the data.\n",
    " "
   ]
  },
  {
   "cell_type": "code",
   "execution_count": 0,
   "metadata": {
    "cell_style": "split",
    "colab": {},
    "colab_type": "code",
    "id": "zwBGhuFEdGX4",
    "outputId": "2dca56b0-80f8-4649-fe6f-702a2e17a397"
   },
   "outputs": [
    {
     "data": {
      "text/plain": [
       "North       136.61\n",
       "Sai Kung    129.65\n",
       "Sha Tin      68.71\n",
       "Wan Chai      9.83\n",
       "Name: area, dtype: float64"
      ]
     },
     "execution_count": 27,
     "metadata": {
      "tags": []
     },
     "output_type": "execute_result"
    }
   ],
   "source": [
    "district['area']   # return the corresponding column"
   ]
  },
  {
   "cell_type": "code",
   "execution_count": 0,
   "metadata": {
    "cell_style": "split",
    "colab": {},
    "colab_type": "code",
    "id": "KqybzBen8mVz",
    "outputId": "b36d19c6-efc4-40e9-9315-ca1572481778"
   },
   "outputs": [
    {
     "data": {
      "text/plain": [
       "North       136.61\n",
       "Sai Kung    129.65\n",
       "Sha Tin      68.71\n",
       "Wan Chai      9.83\n",
       "Name: area, dtype: float64"
      ]
     },
     "execution_count": 26,
     "metadata": {
      "tags": []
     },
     "output_type": "execute_result"
    }
   ],
   "source": [
    "district.area "
   ]
  },
  {
   "cell_type": "markdown",
   "metadata": {
    "colab_type": "text",
    "id": "dzuld3LydGX6"
   },
   "source": [
    "But `district['North']` returns a key error. More details on indexing `DataFrame`s later.\n",
    "\n",
    "---\n",
    "\n",
    "## 2.1 Constructing `DataFrame`s\n",
    "\n",
    "In addition to constructing a `DataFrame` from a dictionary of `Series`, many other ways are available to do so:"
   ]
  },
  {
   "cell_type": "code",
   "execution_count": 0,
   "metadata": {
    "colab": {},
    "colab_type": "code",
    "id": "icrDivjvdGX7",
    "outputId": "d012dfd2-13d5-4ebf-9030-bea60c86b0e3"
   },
   "outputs": [
    {
     "data": {
      "text/html": [
       "<div>\n",
       "<style scoped>\n",
       "    .dataframe tbody tr th:only-of-type {\n",
       "        vertical-align: middle;\n",
       "    }\n",
       "\n",
       "    .dataframe tbody tr th {\n",
       "        vertical-align: top;\n",
       "    }\n",
       "\n",
       "    .dataframe thead th {\n",
       "        text-align: right;\n",
       "    }\n",
       "</style>\n",
       "<table border=\"1\" class=\"dataframe\">\n",
       "  <thead>\n",
       "    <tr style=\"text-align: right;\">\n",
       "      <th></th>\n",
       "      <th>population</th>\n",
       "    </tr>\n",
       "  </thead>\n",
       "  <tbody>\n",
       "    <tr>\n",
       "      <th>Wan Chai</th>\n",
       "      <td>150900</td>\n",
       "    </tr>\n",
       "    <tr>\n",
       "      <th>North</th>\n",
       "      <td>310800</td>\n",
       "    </tr>\n",
       "    <tr>\n",
       "      <th>Sai Kung</th>\n",
       "      <td>448600</td>\n",
       "    </tr>\n",
       "    <tr>\n",
       "      <th>Sha Tin</th>\n",
       "      <td>648200</td>\n",
       "    </tr>\n",
       "  </tbody>\n",
       "</table>\n",
       "</div>"
      ],
      "text/plain": [
       "          population\n",
       "Wan Chai      150900\n",
       "North         310800\n",
       "Sai Kung      448600\n",
       "Sha Tin       648200"
      ]
     },
     "execution_count": 91,
     "metadata": {
      "tags": []
     },
     "output_type": "execute_result"
    }
   ],
   "source": [
    "pd.DataFrame(distr_pop, columns=['population'])  # from Series objects"
   ]
  },
  {
   "cell_type": "code",
   "execution_count": 0,
   "metadata": {
    "colab": {},
    "colab_type": "code",
    "id": "brOTueFUdGX9",
    "outputId": "acd59718-7db1-4a7d-ab8d-e72d6621ff62"
   },
   "outputs": [
    {
     "data": {
      "text/html": [
       "<div>\n",
       "<style scoped>\n",
       "    .dataframe tbody tr th:only-of-type {\n",
       "        vertical-align: middle;\n",
       "    }\n",
       "\n",
       "    .dataframe tbody tr th {\n",
       "        vertical-align: top;\n",
       "    }\n",
       "\n",
       "    .dataframe thead th {\n",
       "        text-align: right;\n",
       "    }\n",
       "</style>\n",
       "<table border=\"1\" class=\"dataframe\">\n",
       "  <thead>\n",
       "    <tr style=\"text-align: right;\">\n",
       "      <th></th>\n",
       "      <th>a</th>\n",
       "      <th>b</th>\n",
       "    </tr>\n",
       "  </thead>\n",
       "  <tbody>\n",
       "    <tr>\n",
       "      <th>0</th>\n",
       "      <td>0</td>\n",
       "      <td>0</td>\n",
       "    </tr>\n",
       "    <tr>\n",
       "      <th>1</th>\n",
       "      <td>1</td>\n",
       "      <td>2</td>\n",
       "    </tr>\n",
       "    <tr>\n",
       "      <th>2</th>\n",
       "      <td>2</td>\n",
       "      <td>4</td>\n",
       "    </tr>\n",
       "  </tbody>\n",
       "</table>\n",
       "</div>"
      ],
      "text/plain": [
       "   a  b\n",
       "0  0  0\n",
       "1  1  2\n",
       "2  2  4"
      ]
     },
     "execution_count": 51,
     "metadata": {
      "tags": []
     },
     "output_type": "execute_result"
    }
   ],
   "source": [
    "pd.DataFrame([{'a': i, 'b': 2 * i} for i in range(3)])  # from a list of dictionaries"
   ]
  },
  {
   "cell_type": "code",
   "execution_count": 0,
   "metadata": {
    "colab": {},
    "colab_type": "code",
    "id": "DFEYTcmYdGX_",
    "outputId": "ec20647c-2030-42ff-f14e-f09be353a645"
   },
   "outputs": [
    {
     "data": {
      "text/html": [
       "<div>\n",
       "<style scoped>\n",
       "    .dataframe tbody tr th:only-of-type {\n",
       "        vertical-align: middle;\n",
       "    }\n",
       "\n",
       "    .dataframe tbody tr th {\n",
       "        vertical-align: top;\n",
       "    }\n",
       "\n",
       "    .dataframe thead th {\n",
       "        text-align: right;\n",
       "    }\n",
       "</style>\n",
       "<table border=\"1\" class=\"dataframe\">\n",
       "  <thead>\n",
       "    <tr style=\"text-align: right;\">\n",
       "      <th></th>\n",
       "      <th>foo</th>\n",
       "      <th>bar</th>\n",
       "    </tr>\n",
       "  </thead>\n",
       "  <tbody>\n",
       "    <tr>\n",
       "      <th>a</th>\n",
       "      <td>0.606169</td>\n",
       "      <td>0.180135</td>\n",
       "    </tr>\n",
       "    <tr>\n",
       "      <th>b</th>\n",
       "      <td>0.354715</td>\n",
       "      <td>0.272737</td>\n",
       "    </tr>\n",
       "    <tr>\n",
       "      <th>c</th>\n",
       "      <td>0.890877</td>\n",
       "      <td>0.241373</td>\n",
       "    </tr>\n",
       "  </tbody>\n",
       "</table>\n",
       "</div>"
      ],
      "text/plain": [
       "        foo       bar\n",
       "a  0.606169  0.180135\n",
       "b  0.354715  0.272737\n",
       "c  0.890877  0.241373"
      ]
     },
     "execution_count": 59,
     "metadata": {
      "tags": []
     },
     "output_type": "execute_result"
    }
   ],
   "source": [
    "pd.DataFrame(np.random.rand(3, 2), columns=['foo', 'bar'], index=['a', 'b', 'c'])  # from a 2-dimensional NumPy array"
   ]
  },
  {
   "cell_type": "markdown",
   "metadata": {
    "colab_type": "text",
    "id": "qz_uKFY9dGYE"
   },
   "source": [
    "\n",
    "---\n",
    "\n",
    "### The `Index` Object (Optional)\n",
    "\n",
    "Both the `Series` and `DataFrame` objects contain an explicit index that allows us to reference and modify data. \n",
    "\n",
    "This `Index` object is an interesting structure in itself, and it can be thought of \n",
    "\n",
    " - either as an ***immutable*** array or \n",
    " \n",
    " - as an ordered set (technically a multi-set, as Index objects may contain repeated values). \n",
    " "
   ]
  },
  {
   "cell_type": "code",
   "execution_count": 0,
   "metadata": {
    "colab": {},
    "colab_type": "code",
    "id": "CllBXtGfdGYE"
   },
   "outputs": [],
   "source": [
    "ind_a = pd.Index([2, 3, 5, 7, 11])    # construct an Index from a list of integers"
   ]
  },
  {
   "cell_type": "code",
   "execution_count": 0,
   "metadata": {
    "colab": {},
    "colab_type": "code",
    "id": "9eUjeUS8dGYG",
    "outputId": "428469ba-04b7-43a1-bdc6-761b2ebfd982"
   },
   "outputs": [
    {
     "data": {
      "text/plain": [
       "3"
      ]
     },
     "execution_count": 69,
     "metadata": {
      "tags": []
     },
     "output_type": "execute_result"
    }
   ],
   "source": [
    "ind_a[1]                              # indexing as an array"
   ]
  },
  {
   "cell_type": "code",
   "execution_count": 0,
   "metadata": {
    "colab": {},
    "colab_type": "code",
    "id": "EHPqM4BFdGYJ",
    "outputId": "dfa3bd0b-a5bc-4c93-8837-80f1f56301b7"
   },
   "outputs": [
    {
     "data": {
      "text/plain": [
       "(5, (5,), 1)"
      ]
     },
     "execution_count": 70,
     "metadata": {
      "tags": []
     },
     "output_type": "execute_result"
    }
   ],
   "source": [
    "ind_a.size, ind_a.shape, ind_a.ndim   # attributes familiar from NumPy arrays"
   ]
  },
  {
   "cell_type": "code",
   "execution_count": 0,
   "metadata": {
    "colab": {},
    "colab_type": "code",
    "id": "xLjS5px9dGYL",
    "outputId": "d7b48222-9401-47b6-ea11-b436f189174f"
   },
   "outputs": [
    {
     "ename": "TypeError",
     "evalue": "Index does not support mutable operations",
     "output_type": "error",
     "traceback": [
      "\u001b[1;31m---------------------------------------------------------------------------\u001b[0m",
      "\u001b[1;31mTypeError\u001b[0m                                 Traceback (most recent call last)",
      "\u001b[1;32m<ipython-input-5-fee7f7e354c3>\u001b[0m in \u001b[0;36m<module>\u001b[1;34m\u001b[0m\n\u001b[1;32m----> 1\u001b[1;33m \u001b[0mind_a\u001b[0m\u001b[1;33m[\u001b[0m\u001b[1;36m1\u001b[0m\u001b[1;33m]\u001b[0m \u001b[1;33m=\u001b[0m \u001b[1;36m0\u001b[0m    \u001b[1;31m# immutable\u001b[0m\u001b[1;33m\u001b[0m\u001b[1;33m\u001b[0m\u001b[0m\n\u001b[0m",
      "\u001b[1;32m~\\Anaconda3\\lib\\site-packages\\pandas\\core\\indexes\\base.py\u001b[0m in \u001b[0;36m__setitem__\u001b[1;34m(self, key, value)\u001b[0m\n\u001b[0;32m   3936\u001b[0m \u001b[1;33m\u001b[0m\u001b[0m\n\u001b[0;32m   3937\u001b[0m     \u001b[1;32mdef\u001b[0m \u001b[0m__setitem__\u001b[0m\u001b[1;33m(\u001b[0m\u001b[0mself\u001b[0m\u001b[1;33m,\u001b[0m \u001b[0mkey\u001b[0m\u001b[1;33m,\u001b[0m \u001b[0mvalue\u001b[0m\u001b[1;33m)\u001b[0m\u001b[1;33m:\u001b[0m\u001b[1;33m\u001b[0m\u001b[1;33m\u001b[0m\u001b[0m\n\u001b[1;32m-> 3938\u001b[1;33m         \u001b[1;32mraise\u001b[0m \u001b[0mTypeError\u001b[0m\u001b[1;33m(\u001b[0m\u001b[1;34m\"Index does not support mutable operations\"\u001b[0m\u001b[1;33m)\u001b[0m\u001b[1;33m\u001b[0m\u001b[1;33m\u001b[0m\u001b[0m\n\u001b[0m\u001b[0;32m   3939\u001b[0m \u001b[1;33m\u001b[0m\u001b[0m\n\u001b[0;32m   3940\u001b[0m     \u001b[1;32mdef\u001b[0m \u001b[0m__getitem__\u001b[0m\u001b[1;33m(\u001b[0m\u001b[0mself\u001b[0m\u001b[1;33m,\u001b[0m \u001b[0mkey\u001b[0m\u001b[1;33m)\u001b[0m\u001b[1;33m:\u001b[0m\u001b[1;33m\u001b[0m\u001b[1;33m\u001b[0m\u001b[0m\n",
      "\u001b[1;31mTypeError\u001b[0m: Index does not support mutable operations"
     ]
    }
   ],
   "source": [
    "ind_a[1] = 0    # immutable"
   ]
  },
  {
   "cell_type": "code",
   "execution_count": 0,
   "metadata": {
    "colab": {},
    "colab_type": "code",
    "id": "QNVI4FoAdGYN"
   },
   "outputs": [],
   "source": [
    "ind_b = pd.Index([1, 3, 5, 7, 9])"
   ]
  },
  {
   "cell_type": "code",
   "execution_count": 0,
   "metadata": {
    "colab": {},
    "colab_type": "code",
    "id": "KvSrpShZdGYO",
    "outputId": "34dc02eb-2edd-40a0-ee55-449da6549797"
   },
   "outputs": [
    {
     "data": {
      "text/plain": [
       "(Int64Index([3, 5, 7], dtype='int64'),\n",
       " Int64Index([1, 2, 3, 5, 7, 9, 11], dtype='int64'),\n",
       " Int64Index([3, 5, 7], dtype='int64'))"
      ]
     },
     "execution_count": 74,
     "metadata": {
      "tags": []
     },
     "output_type": "execute_result"
    }
   ],
   "source": [
    "ind_a & ind_b, ind_a | ind_b, ind_a.intersection(ind_b)  # set operations and methods "
   ]
  },
  {
   "cell_type": "markdown",
   "metadata": {
    "colab_type": "text",
    "id": "n9aeaNrcdGYS"
   },
   "source": [
    "\n",
    "---\n",
    "\n",
    "## 2.2 Data Selection in `DataFrame`s\n",
    "\n",
    "\n",
    "The `DataFrame`-as-dictionary and -as-array analogies can be helpful to keep in mind as we explore data selection within this structure.\n",
    "\n"
   ]
  },
  {
   "cell_type": "code",
   "execution_count": 0,
   "metadata": {
    "cell_style": "split",
    "colab": {},
    "colab_type": "code",
    "id": "jQ4UPpMRdGYS",
    "outputId": "3ecb04a8-f11d-4609-c180-24416c50c0b1"
   },
   "outputs": [
    {
     "data": {
      "text/html": [
       "<div>\n",
       "<style scoped>\n",
       "    .dataframe tbody tr th:only-of-type {\n",
       "        vertical-align: middle;\n",
       "    }\n",
       "\n",
       "    .dataframe tbody tr th {\n",
       "        vertical-align: top;\n",
       "    }\n",
       "\n",
       "    .dataframe thead th {\n",
       "        text-align: right;\n",
       "    }\n",
       "</style>\n",
       "<table border=\"1\" class=\"dataframe\">\n",
       "  <thead>\n",
       "    <tr style=\"text-align: right;\">\n",
       "      <th></th>\n",
       "      <th>population</th>\n",
       "      <th>area</th>\n",
       "    </tr>\n",
       "  </thead>\n",
       "  <tbody>\n",
       "    <tr>\n",
       "      <th>North</th>\n",
       "      <td>310800</td>\n",
       "      <td>136.61</td>\n",
       "    </tr>\n",
       "    <tr>\n",
       "      <th>Sai Kung</th>\n",
       "      <td>448600</td>\n",
       "      <td>129.65</td>\n",
       "    </tr>\n",
       "    <tr>\n",
       "      <th>Sha Tin</th>\n",
       "      <td>648200</td>\n",
       "      <td>68.71</td>\n",
       "    </tr>\n",
       "    <tr>\n",
       "      <th>Wan Chai</th>\n",
       "      <td>150900</td>\n",
       "      <td>9.83</td>\n",
       "    </tr>\n",
       "  </tbody>\n",
       "</table>\n",
       "</div>"
      ],
      "text/plain": [
       "          population    area\n",
       "North         310800  136.61\n",
       "Sai Kung      448600  129.65\n",
       "Sha Tin       648200   68.71\n",
       "Wan Chai      150900    9.83"
      ]
     },
     "execution_count": 28,
     "metadata": {
      "tags": []
     },
     "output_type": "execute_result"
    }
   ],
   "source": [
    "district"
   ]
  },
  {
   "cell_type": "code",
   "execution_count": 0,
   "metadata": {
    "cell_style": "split",
    "colab": {},
    "colab_type": "code",
    "id": "hOG3OEcodGYV",
    "outputId": "3cfe1fde-bc3e-4d92-cd60-ec5970da1ffa"
   },
   "outputs": [
    {
     "data": {
      "text/plain": [
       "North       136.61\n",
       "Sai Kung    129.65\n",
       "Sha Tin      68.71\n",
       "Wan Chai      9.83\n",
       "Name: area, dtype: float64"
      ]
     },
     "execution_count": 29,
     "metadata": {
      "tags": []
     },
     "output_type": "execute_result"
    }
   ],
   "source": [
    "district['area']    "
   ]
  },
  {
   "cell_type": "code",
   "execution_count": 22,
   "metadata": {
    "colab": {},
    "colab_type": "code",
    "id": "DH_Iv0FhdGYX",
    "outputId": "28bfec62-0179-4bd7-9825-dd8b3f28fb06"
   },
   "outputs": [
    {
     "data": {
      "text/html": [
       "<div>\n",
       "<style scoped>\n",
       "    .dataframe tbody tr th:only-of-type {\n",
       "        vertical-align: middle;\n",
       "    }\n",
       "\n",
       "    .dataframe tbody tr th {\n",
       "        vertical-align: top;\n",
       "    }\n",
       "\n",
       "    .dataframe thead th {\n",
       "        text-align: right;\n",
       "    }\n",
       "</style>\n",
       "<table border=\"1\" class=\"dataframe\">\n",
       "  <thead>\n",
       "    <tr style=\"text-align: right;\">\n",
       "      <th></th>\n",
       "      <th>population</th>\n",
       "      <th>area</th>\n",
       "      <th>density</th>\n",
       "    </tr>\n",
       "  </thead>\n",
       "  <tbody>\n",
       "    <tr>\n",
       "      <th>North</th>\n",
       "      <td>310800</td>\n",
       "      <td>136.61</td>\n",
       "      <td>2275.089671</td>\n",
       "    </tr>\n",
       "    <tr>\n",
       "      <th>Sai Kung</th>\n",
       "      <td>448600</td>\n",
       "      <td>129.65</td>\n",
       "      <td>3460.084844</td>\n",
       "    </tr>\n",
       "    <tr>\n",
       "      <th>Sha Tin</th>\n",
       "      <td>648200</td>\n",
       "      <td>68.71</td>\n",
       "      <td>9433.852423</td>\n",
       "    </tr>\n",
       "    <tr>\n",
       "      <th>Wan Chai</th>\n",
       "      <td>150900</td>\n",
       "      <td>9.83</td>\n",
       "      <td>15350.966429</td>\n",
       "    </tr>\n",
       "  </tbody>\n",
       "</table>\n",
       "</div>"
      ],
      "text/plain": [
       "          population    area       density\n",
       "North         310800  136.61   2275.089671\n",
       "Sai Kung      448600  129.65   3460.084844\n",
       "Sha Tin       648200   68.71   9433.852423\n",
       "Wan Chai      150900    9.83  15350.966429"
      ]
     },
     "execution_count": 22,
     "metadata": {},
     "output_type": "execute_result"
    }
   ],
   "source": [
    "district['density'] = district['population'] / district['area']  # can also be used to modify the object\n",
    "district"
   ]
  },
  {
   "cell_type": "markdown",
   "metadata": {
    "colab_type": "text",
    "id": "DFi8xPWvdGYb"
   },
   "source": [
    "For array-style indexing, because both implicit and explict indexing schemes work with `DataFrame`s, the ambiguity about which indexing scheme Python actually uses sometimes arises.\n",
    "\n"
   ]
  },
  {
   "cell_type": "markdown",
   "metadata": {
    "colab_type": "text",
    "id": "Y7Gn7YW_dGYc"
   },
   "source": [
    "Pandas provids two special indexer attributes,`loc` and `iloc`, that explicitly expose the indexing schemes to apply:\n",
    "\n",
    "\n",
    "- The `loc` attribute allows indexing and slicing that always references the explicit index (***label-based*** indexing):\n"
   ]
  },
  {
   "cell_type": "code",
   "execution_count": 23,
   "metadata": {},
   "outputs": [
    {
     "data": {
      "text/html": [
       "<div>\n",
       "<style scoped>\n",
       "    .dataframe tbody tr th:only-of-type {\n",
       "        vertical-align: middle;\n",
       "    }\n",
       "\n",
       "    .dataframe tbody tr th {\n",
       "        vertical-align: top;\n",
       "    }\n",
       "\n",
       "    .dataframe thead th {\n",
       "        text-align: right;\n",
       "    }\n",
       "</style>\n",
       "<table border=\"1\" class=\"dataframe\">\n",
       "  <thead>\n",
       "    <tr style=\"text-align: right;\">\n",
       "      <th></th>\n",
       "      <th>population</th>\n",
       "      <th>area</th>\n",
       "      <th>density</th>\n",
       "    </tr>\n",
       "  </thead>\n",
       "  <tbody>\n",
       "    <tr>\n",
       "      <th>North</th>\n",
       "      <td>310800</td>\n",
       "      <td>136.61</td>\n",
       "      <td>2275.089671</td>\n",
       "    </tr>\n",
       "    <tr>\n",
       "      <th>Sai Kung</th>\n",
       "      <td>448600</td>\n",
       "      <td>129.65</td>\n",
       "      <td>3460.084844</td>\n",
       "    </tr>\n",
       "    <tr>\n",
       "      <th>Sha Tin</th>\n",
       "      <td>648200</td>\n",
       "      <td>68.71</td>\n",
       "      <td>9433.852423</td>\n",
       "    </tr>\n",
       "    <tr>\n",
       "      <th>Wan Chai</th>\n",
       "      <td>150900</td>\n",
       "      <td>9.83</td>\n",
       "      <td>15350.966429</td>\n",
       "    </tr>\n",
       "  </tbody>\n",
       "</table>\n",
       "</div>"
      ],
      "text/plain": [
       "          population    area       density\n",
       "North         310800  136.61   2275.089671\n",
       "Sai Kung      448600  129.65   3460.084844\n",
       "Sha Tin       648200   68.71   9433.852423\n",
       "Wan Chai      150900    9.83  15350.966429"
      ]
     },
     "execution_count": 23,
     "metadata": {},
     "output_type": "execute_result"
    }
   ],
   "source": [
    "district"
   ]
  },
  {
   "cell_type": "code",
   "execution_count": 24,
   "metadata": {
    "cell_style": "split",
    "colab": {},
    "colab_type": "code",
    "id": "BA4iaMZrdGYc",
    "outputId": "f511a0e2-5f76-42cf-b9fe-5244b969e52c"
   },
   "outputs": [
    {
     "data": {
      "text/html": [
       "<div>\n",
       "<style scoped>\n",
       "    .dataframe tbody tr th:only-of-type {\n",
       "        vertical-align: middle;\n",
       "    }\n",
       "\n",
       "    .dataframe tbody tr th {\n",
       "        vertical-align: top;\n",
       "    }\n",
       "\n",
       "    .dataframe thead th {\n",
       "        text-align: right;\n",
       "    }\n",
       "</style>\n",
       "<table border=\"1\" class=\"dataframe\">\n",
       "  <thead>\n",
       "    <tr style=\"text-align: right;\">\n",
       "      <th></th>\n",
       "      <th>population</th>\n",
       "      <th>area</th>\n",
       "    </tr>\n",
       "  </thead>\n",
       "  <tbody>\n",
       "    <tr>\n",
       "      <th>Sai Kung</th>\n",
       "      <td>448600</td>\n",
       "      <td>129.65</td>\n",
       "    </tr>\n",
       "    <tr>\n",
       "      <th>Sha Tin</th>\n",
       "      <td>648200</td>\n",
       "      <td>68.71</td>\n",
       "    </tr>\n",
       "    <tr>\n",
       "      <th>Wan Chai</th>\n",
       "      <td>150900</td>\n",
       "      <td>9.83</td>\n",
       "    </tr>\n",
       "  </tbody>\n",
       "</table>\n",
       "</div>"
      ],
      "text/plain": [
       "          population    area\n",
       "Sai Kung      448600  129.65\n",
       "Sha Tin       648200   68.71\n",
       "Wan Chai      150900    9.83"
      ]
     },
     "execution_count": 24,
     "metadata": {},
     "output_type": "execute_result"
    }
   ],
   "source": [
    "district.loc['Sai Kung':'Wan Chai', :'area']"
   ]
  },
  {
   "cell_type": "code",
   "execution_count": 25,
   "metadata": {
    "cell_style": "split",
    "colab": {},
    "colab_type": "code",
    "id": "DExCstxjdGYf",
    "outputId": "91e6caa4-945b-425d-fdf9-97f67f23782f"
   },
   "outputs": [
    {
     "data": {
      "text/html": [
       "<div>\n",
       "<style scoped>\n",
       "    .dataframe tbody tr th:only-of-type {\n",
       "        vertical-align: middle;\n",
       "    }\n",
       "\n",
       "    .dataframe tbody tr th {\n",
       "        vertical-align: top;\n",
       "    }\n",
       "\n",
       "    .dataframe thead th {\n",
       "        text-align: right;\n",
       "    }\n",
       "</style>\n",
       "<table border=\"1\" class=\"dataframe\">\n",
       "  <thead>\n",
       "    <tr style=\"text-align: right;\">\n",
       "      <th></th>\n",
       "      <th>population</th>\n",
       "      <th>area</th>\n",
       "      <th>density</th>\n",
       "    </tr>\n",
       "  </thead>\n",
       "  <tbody>\n",
       "    <tr>\n",
       "      <th>Sai Kung</th>\n",
       "      <td>448600</td>\n",
       "      <td>129.65</td>\n",
       "      <td>3460.084844</td>\n",
       "    </tr>\n",
       "    <tr>\n",
       "      <th>Sha Tin</th>\n",
       "      <td>648200</td>\n",
       "      <td>68.71</td>\n",
       "      <td>9433.852423</td>\n",
       "    </tr>\n",
       "    <tr>\n",
       "      <th>Wan Chai</th>\n",
       "      <td>150900</td>\n",
       "      <td>9.83</td>\n",
       "      <td>15350.966429</td>\n",
       "    </tr>\n",
       "  </tbody>\n",
       "</table>\n",
       "</div>"
      ],
      "text/plain": [
       "          population    area       density\n",
       "Sai Kung      448600  129.65   3460.084844\n",
       "Sha Tin       648200   68.71   9433.852423\n",
       "Wan Chai      150900    9.83  15350.966429"
      ]
     },
     "execution_count": 25,
     "metadata": {},
     "output_type": "execute_result"
    }
   ],
   "source": [
    "district.loc['Sai Kung':'Wan Chai']"
   ]
  },
  {
   "cell_type": "code",
   "execution_count": 26,
   "metadata": {
    "cell_style": "split",
    "colab": {},
    "colab_type": "code",
    "id": "stvLLsCBdGYg",
    "outputId": "28c8790d-98ee-4ef1-a101-b0e50eb5ab3e"
   },
   "outputs": [
    {
     "data": {
      "text/html": [
       "<div>\n",
       "<style scoped>\n",
       "    .dataframe tbody tr th:only-of-type {\n",
       "        vertical-align: middle;\n",
       "    }\n",
       "\n",
       "    .dataframe tbody tr th {\n",
       "        vertical-align: top;\n",
       "    }\n",
       "\n",
       "    .dataframe thead th {\n",
       "        text-align: right;\n",
       "    }\n",
       "</style>\n",
       "<table border=\"1\" class=\"dataframe\">\n",
       "  <thead>\n",
       "    <tr style=\"text-align: right;\">\n",
       "      <th></th>\n",
       "      <th>population</th>\n",
       "      <th>density</th>\n",
       "    </tr>\n",
       "  </thead>\n",
       "  <tbody>\n",
       "    <tr>\n",
       "      <th>Sai Kung</th>\n",
       "      <td>448600</td>\n",
       "      <td>3460.084844</td>\n",
       "    </tr>\n",
       "    <tr>\n",
       "      <th>Wan Chai</th>\n",
       "      <td>150900</td>\n",
       "      <td>15350.966429</td>\n",
       "    </tr>\n",
       "  </tbody>\n",
       "</table>\n",
       "</div>"
      ],
      "text/plain": [
       "          population       density\n",
       "Sai Kung      448600   3460.084844\n",
       "Wan Chai      150900  15350.966429"
      ]
     },
     "execution_count": 26,
     "metadata": {},
     "output_type": "execute_result"
    }
   ],
   "source": [
    "district.loc[['Sai Kung', 'Wan Chai'], \n",
    "             ['population', 'density']]"
   ]
  },
  {
   "cell_type": "code",
   "execution_count": 36,
   "metadata": {
    "cell_style": "split",
    "colab": {},
    "colab_type": "code",
    "id": "g3gB6wGvdGYk",
    "outputId": "8c1457fc-27af-470d-8cdd-3976b9c14437"
   },
   "outputs": [
    {
     "data": {
      "text/html": [
       "<div>\n",
       "<style scoped>\n",
       "    .dataframe tbody tr th:only-of-type {\n",
       "        vertical-align: middle;\n",
       "    }\n",
       "\n",
       "    .dataframe tbody tr th {\n",
       "        vertical-align: top;\n",
       "    }\n",
       "\n",
       "    .dataframe thead th {\n",
       "        text-align: right;\n",
       "    }\n",
       "</style>\n",
       "<table border=\"1\" class=\"dataframe\">\n",
       "  <thead>\n",
       "    <tr style=\"text-align: right;\">\n",
       "      <th></th>\n",
       "      <th>population</th>\n",
       "      <th>area</th>\n",
       "    </tr>\n",
       "  </thead>\n",
       "  <tbody>\n",
       "    <tr>\n",
       "      <th>North</th>\n",
       "      <td>310800</td>\n",
       "      <td>136.61</td>\n",
       "    </tr>\n",
       "    <tr>\n",
       "      <th>Sai Kung</th>\n",
       "      <td>448600</td>\n",
       "      <td>129.65</td>\n",
       "    </tr>\n",
       "  </tbody>\n",
       "</table>\n",
       "</div>"
      ],
      "text/plain": [
       "          population    area\n",
       "North         310800  136.61\n",
       "Sai Kung      448600  129.65"
      ]
     },
     "execution_count": 36,
     "metadata": {},
     "output_type": "execute_result"
    }
   ],
   "source": [
    "district.loc[(district.area > 100).values, \n",
    "             [True, True, False]]"
   ]
  },
  {
   "cell_type": "code",
   "execution_count": 31,
   "metadata": {
    "colab": {},
    "colab_type": "code",
    "id": "YYAiQEG6dGYn",
    "outputId": "1b207a4e-d1d7-4631-dd85-cdb6251a86f9",
    "scrolled": true
   },
   "outputs": [
    {
     "data": {
      "text/html": [
       "<div>\n",
       "<style scoped>\n",
       "    .dataframe tbody tr th:only-of-type {\n",
       "        vertical-align: middle;\n",
       "    }\n",
       "\n",
       "    .dataframe tbody tr th {\n",
       "        vertical-align: top;\n",
       "    }\n",
       "\n",
       "    .dataframe thead th {\n",
       "        text-align: right;\n",
       "    }\n",
       "</style>\n",
       "<table border=\"1\" class=\"dataframe\">\n",
       "  <thead>\n",
       "    <tr style=\"text-align: right;\">\n",
       "      <th></th>\n",
       "      <th>population</th>\n",
       "      <th>area</th>\n",
       "      <th>density</th>\n",
       "    </tr>\n",
       "  </thead>\n",
       "  <tbody>\n",
       "    <tr>\n",
       "      <th>Sai Kung</th>\n",
       "      <td>448600</td>\n",
       "      <td>129.65</td>\n",
       "      <td>3460.084844</td>\n",
       "    </tr>\n",
       "    <tr>\n",
       "      <th>Sha Tin</th>\n",
       "      <td>648200</td>\n",
       "      <td>68.71</td>\n",
       "      <td>9433.852423</td>\n",
       "    </tr>\n",
       "  </tbody>\n",
       "</table>\n",
       "</div>"
      ],
      "text/plain": [
       "          population    area      density\n",
       "Sai Kung      448600  129.65  3460.084844\n",
       "Sha Tin       648200   68.71  9433.852423"
      ]
     },
     "execution_count": 31,
     "metadata": {},
     "output_type": "execute_result"
    }
   ],
   "source": [
    " # take a function that expects a DataFrame and outputs a Boolean array\n",
    "    \n",
    "district.loc[lambda x: [i.startswith('S') for i in x.index], :]  "
   ]
  },
  {
   "cell_type": "markdown",
   "metadata": {
    "colab_type": "text",
    "id": "K76qH-PcdGYo"
   },
   "source": [
    "-  The `iloc` attribute allows indexing and slicing that always references the implicit Python-style index (***location-based*** indexing):"
   ]
  },
  {
   "cell_type": "code",
   "execution_count": 0,
   "metadata": {
    "cell_style": "split",
    "colab": {},
    "colab_type": "code",
    "id": "iI2cWX6xdGYp",
    "outputId": "a5c26b43-b137-48e3-c4b5-ef04f180f265"
   },
   "outputs": [
    {
     "data": {
      "text/html": [
       "<div>\n",
       "<style scoped>\n",
       "    .dataframe tbody tr th:only-of-type {\n",
       "        vertical-align: middle;\n",
       "    }\n",
       "\n",
       "    .dataframe tbody tr th {\n",
       "        vertical-align: top;\n",
       "    }\n",
       "\n",
       "    .dataframe thead th {\n",
       "        text-align: right;\n",
       "    }\n",
       "</style>\n",
       "<table border=\"1\" class=\"dataframe\">\n",
       "  <thead>\n",
       "    <tr style=\"text-align: right;\">\n",
       "      <th></th>\n",
       "      <th>population</th>\n",
       "      <th>area</th>\n",
       "    </tr>\n",
       "  </thead>\n",
       "  <tbody>\n",
       "    <tr>\n",
       "      <th>Sai Kung</th>\n",
       "      <td>448600</td>\n",
       "      <td>129.65</td>\n",
       "    </tr>\n",
       "    <tr>\n",
       "      <th>Sha Tin</th>\n",
       "      <td>648200</td>\n",
       "      <td>68.71</td>\n",
       "    </tr>\n",
       "  </tbody>\n",
       "</table>\n",
       "</div>"
      ],
      "text/plain": [
       "          population    area\n",
       "Sai Kung      448600  129.65\n",
       "Sha Tin       648200   68.71"
      ]
     },
     "execution_count": 98,
     "metadata": {
      "tags": []
     },
     "output_type": "execute_result"
    }
   ],
   "source": [
    "district.iloc[1:3, :2]"
   ]
  },
  {
   "cell_type": "code",
   "execution_count": 32,
   "metadata": {
    "cell_style": "split",
    "colab": {},
    "colab_type": "code",
    "id": "g9DmWp_hdGYw",
    "outputId": "a2ad27ab-0960-4ad0-b4de-338730a0695a"
   },
   "outputs": [
    {
     "data": {
      "text/html": [
       "<div>\n",
       "<style scoped>\n",
       "    .dataframe tbody tr th:only-of-type {\n",
       "        vertical-align: middle;\n",
       "    }\n",
       "\n",
       "    .dataframe tbody tr th {\n",
       "        vertical-align: top;\n",
       "    }\n",
       "\n",
       "    .dataframe thead th {\n",
       "        text-align: right;\n",
       "    }\n",
       "</style>\n",
       "<table border=\"1\" class=\"dataframe\">\n",
       "  <thead>\n",
       "    <tr style=\"text-align: right;\">\n",
       "      <th></th>\n",
       "      <th>area</th>\n",
       "      <th>density</th>\n",
       "    </tr>\n",
       "  </thead>\n",
       "  <tbody>\n",
       "    <tr>\n",
       "      <th>Sai Kung</th>\n",
       "      <td>129.65</td>\n",
       "      <td>3460.084844</td>\n",
       "    </tr>\n",
       "    <tr>\n",
       "      <th>Wan Chai</th>\n",
       "      <td>9.83</td>\n",
       "      <td>15350.966429</td>\n",
       "    </tr>\n",
       "  </tbody>\n",
       "</table>\n",
       "</div>"
      ],
      "text/plain": [
       "            area       density\n",
       "Sai Kung  129.65   3460.084844\n",
       "Wan Chai    9.83  15350.966429"
      ]
     },
     "execution_count": 32,
     "metadata": {},
     "output_type": "execute_result"
    }
   ],
   "source": [
    "district.iloc[[1, 3], 1:]"
   ]
  },
  {
   "cell_type": "code",
   "execution_count": 35,
   "metadata": {
    "cell_style": "center",
    "colab": {},
    "colab_type": "code",
    "id": "wuPmilQLdGYy",
    "outputId": "5756dc41-f2f3-4b73-c47a-3975bec7af19",
    "scrolled": true
   },
   "outputs": [
    {
     "data": {
      "text/html": [
       "<div>\n",
       "<style scoped>\n",
       "    .dataframe tbody tr th:only-of-type {\n",
       "        vertical-align: middle;\n",
       "    }\n",
       "\n",
       "    .dataframe tbody tr th {\n",
       "        vertical-align: top;\n",
       "    }\n",
       "\n",
       "    .dataframe thead th {\n",
       "        text-align: right;\n",
       "    }\n",
       "</style>\n",
       "<table border=\"1\" class=\"dataframe\">\n",
       "  <thead>\n",
       "    <tr style=\"text-align: right;\">\n",
       "      <th></th>\n",
       "      <th>population</th>\n",
       "      <th>area</th>\n",
       "    </tr>\n",
       "  </thead>\n",
       "  <tbody>\n",
       "    <tr>\n",
       "      <th>Wan Chai</th>\n",
       "      <td>150900</td>\n",
       "      <td>9.83</td>\n",
       "    </tr>\n",
       "  </tbody>\n",
       "</table>\n",
       "</div>"
      ],
      "text/plain": [
       "          population  area\n",
       "Wan Chai      150900  9.83"
      ]
     },
     "execution_count": 35,
     "metadata": {},
     "output_type": "execute_result"
    }
   ],
   "source": [
    "district.iloc[(district.density > 10000).values, [True, True, False]]"
   ]
  },
  {
   "cell_type": "code",
   "execution_count": 0,
   "metadata": {
    "cell_style": "center",
    "colab": {},
    "colab_type": "code",
    "id": "4hQFuJmYdGY1",
    "outputId": "25d7de48-ec00-4b6b-fde1-0fc69161fe18"
   },
   "outputs": [
    {
     "data": {
      "text/html": [
       "<div>\n",
       "<style scoped>\n",
       "    .dataframe tbody tr th:only-of-type {\n",
       "        vertical-align: middle;\n",
       "    }\n",
       "\n",
       "    .dataframe tbody tr th {\n",
       "        vertical-align: top;\n",
       "    }\n",
       "\n",
       "    .dataframe thead th {\n",
       "        text-align: right;\n",
       "    }\n",
       "</style>\n",
       "<table border=\"1\" class=\"dataframe\">\n",
       "  <thead>\n",
       "    <tr style=\"text-align: right;\">\n",
       "      <th></th>\n",
       "      <th>area</th>\n",
       "    </tr>\n",
       "  </thead>\n",
       "  <tbody>\n",
       "    <tr>\n",
       "      <th>North</th>\n",
       "      <td>136.61</td>\n",
       "    </tr>\n",
       "    <tr>\n",
       "      <th>Sha Tin</th>\n",
       "      <td>68.71</td>\n",
       "    </tr>\n",
       "  </tbody>\n",
       "</table>\n",
       "</div>"
      ],
      "text/plain": [
       "           area\n",
       "North    136.61\n",
       "Sha Tin   68.71"
      ]
     },
     "execution_count": 114,
     "metadata": {
      "tags": []
     },
     "output_type": "execute_result"
    }
   ],
   "source": [
    "district.iloc[lambda x: [i for i in range(len(x)) if i % 2 == 0], lambda x: [i.startswith('a') for i in x.columns]]"
   ]
  },
  {
   "cell_type": "markdown",
   "metadata": {
    "colab_type": "text",
    "id": "xQ0_MZl1dGY2"
   },
   "source": [
    "\n",
    "---\n",
    "\n",
    "## 2.3 Vectorized Operations on `DataFrame`s\n",
    "\n",
    "Because pandas is built on top of NumPy, arithmetic and relational operators and NumPy ufuncs work on `Series` and `DataFrame` objects as they do with Numpy arrays.\n",
    "\n"
   ]
  },
  {
   "cell_type": "code",
   "execution_count": 51,
   "metadata": {
    "colab": {},
    "colab_type": "code",
    "id": "57DlCeWmdGY3"
   },
   "outputs": [],
   "source": [
    "rng = np.random.RandomState(42)\n",
    "df_a = pd.DataFrame(rng.randint(0, 20, (2, 2)), columns=list('AB'))"
   ]
  },
  {
   "cell_type": "code",
   "execution_count": 16,
   "metadata": {
    "cell_style": "split",
    "colab": {},
    "colab_type": "code",
    "id": "YVa6Zc_PdGY4",
    "outputId": "ca140f15-b31a-46cb-f728-082d6ef4fff9"
   },
   "outputs": [
    {
     "data": {
      "text/html": [
       "<div>\n",
       "<style scoped>\n",
       "    .dataframe tbody tr th:only-of-type {\n",
       "        vertical-align: middle;\n",
       "    }\n",
       "\n",
       "    .dataframe tbody tr th {\n",
       "        vertical-align: top;\n",
       "    }\n",
       "\n",
       "    .dataframe thead th {\n",
       "        text-align: right;\n",
       "    }\n",
       "</style>\n",
       "<table border=\"1\" class=\"dataframe\">\n",
       "  <thead>\n",
       "    <tr style=\"text-align: right;\">\n",
       "      <th></th>\n",
       "      <th>A</th>\n",
       "      <th>B</th>\n",
       "    </tr>\n",
       "  </thead>\n",
       "  <tbody>\n",
       "    <tr>\n",
       "      <th>0</th>\n",
       "      <td>6</td>\n",
       "      <td>19</td>\n",
       "    </tr>\n",
       "    <tr>\n",
       "      <th>1</th>\n",
       "      <td>14</td>\n",
       "      <td>10</td>\n",
       "    </tr>\n",
       "  </tbody>\n",
       "</table>\n",
       "</div>"
      ],
      "text/plain": [
       "    A   B\n",
       "0   6  19\n",
       "1  14  10"
      ]
     },
     "execution_count": 16,
     "metadata": {},
     "output_type": "execute_result"
    }
   ],
   "source": [
    "df_a"
   ]
  },
  {
   "cell_type": "code",
   "execution_count": 0,
   "metadata": {
    "cell_style": "split",
    "colab": {},
    "colab_type": "code",
    "id": "w4bYLR3ZdGY6",
    "outputId": "fb0e2db6-d192-4d42-fc06-cd7d6f567336"
   },
   "outputs": [
    {
     "data": {
      "text/html": [
       "<div>\n",
       "<style scoped>\n",
       "    .dataframe tbody tr th:only-of-type {\n",
       "        vertical-align: middle;\n",
       "    }\n",
       "\n",
       "    .dataframe tbody tr th {\n",
       "        vertical-align: top;\n",
       "    }\n",
       "\n",
       "    .dataframe thead th {\n",
       "        text-align: right;\n",
       "    }\n",
       "</style>\n",
       "<table border=\"1\" class=\"dataframe\">\n",
       "  <thead>\n",
       "    <tr style=\"text-align: right;\">\n",
       "      <th></th>\n",
       "      <th>A</th>\n",
       "      <th>B</th>\n",
       "    </tr>\n",
       "  </thead>\n",
       "  <tbody>\n",
       "    <tr>\n",
       "      <th>0</th>\n",
       "      <td>False</td>\n",
       "      <td>True</td>\n",
       "    </tr>\n",
       "    <tr>\n",
       "      <th>1</th>\n",
       "      <td>True</td>\n",
       "      <td>False</td>\n",
       "    </tr>\n",
       "  </tbody>\n",
       "</table>\n",
       "</div>"
      ],
      "text/plain": [
       "       A      B\n",
       "0  False   True\n",
       "1   True  False"
      ]
     },
     "execution_count": 7,
     "metadata": {
      "tags": []
     },
     "output_type": "execute_result"
    }
   ],
   "source": [
    "df_a > 10 "
   ]
  },
  {
   "cell_type": "code",
   "execution_count": 0,
   "metadata": {
    "cell_style": "split",
    "colab": {},
    "colab_type": "code",
    "id": "EIGDzYrE8mWt",
    "outputId": "e2b44764-c1a0-495f-dc44-88723fa4dd36"
   },
   "outputs": [
    {
     "data": {
      "text/html": [
       "<div>\n",
       "<style scoped>\n",
       "    .dataframe tbody tr th:only-of-type {\n",
       "        vertical-align: middle;\n",
       "    }\n",
       "\n",
       "    .dataframe tbody tr th {\n",
       "        vertical-align: top;\n",
       "    }\n",
       "\n",
       "    .dataframe thead th {\n",
       "        text-align: right;\n",
       "    }\n",
       "</style>\n",
       "<table border=\"1\" class=\"dataframe\">\n",
       "  <thead>\n",
       "    <tr style=\"text-align: right;\">\n",
       "      <th></th>\n",
       "      <th>A</th>\n",
       "      <th>B</th>\n",
       "    </tr>\n",
       "  </thead>\n",
       "  <tbody>\n",
       "    <tr>\n",
       "      <th>0</th>\n",
       "      <td>12</td>\n",
       "      <td>38</td>\n",
       "    </tr>\n",
       "    <tr>\n",
       "      <th>1</th>\n",
       "      <td>28</td>\n",
       "      <td>20</td>\n",
       "    </tr>\n",
       "  </tbody>\n",
       "</table>\n",
       "</div>"
      ],
      "text/plain": [
       "    A   B\n",
       "0  12  38\n",
       "1  28  20"
      ]
     },
     "execution_count": 21,
     "metadata": {
      "tags": []
     },
     "output_type": "execute_result"
    }
   ],
   "source": [
    "df_a * 2"
   ]
  },
  {
   "cell_type": "code",
   "execution_count": 11,
   "metadata": {
    "cell_style": "split",
    "colab": {},
    "colab_type": "code",
    "id": "j1tZnPLodGY-",
    "outputId": "81fc68b2-f07f-4088-ebf8-a3fc35ad8bf0"
   },
   "outputs": [
    {
     "data": {
      "text/html": [
       "<div>\n",
       "<style scoped>\n",
       "    .dataframe tbody tr th:only-of-type {\n",
       "        vertical-align: middle;\n",
       "    }\n",
       "\n",
       "    .dataframe tbody tr th {\n",
       "        vertical-align: top;\n",
       "    }\n",
       "\n",
       "    .dataframe thead th {\n",
       "        text-align: right;\n",
       "    }\n",
       "</style>\n",
       "<table border=\"1\" class=\"dataframe\">\n",
       "  <thead>\n",
       "    <tr style=\"text-align: right;\">\n",
       "      <th></th>\n",
       "      <th>A</th>\n",
       "      <th>B</th>\n",
       "    </tr>\n",
       "  </thead>\n",
       "  <tbody>\n",
       "    <tr>\n",
       "      <th>0</th>\n",
       "      <td>2.449490</td>\n",
       "      <td>4.358899</td>\n",
       "    </tr>\n",
       "    <tr>\n",
       "      <th>1</th>\n",
       "      <td>3.741657</td>\n",
       "      <td>3.162278</td>\n",
       "    </tr>\n",
       "  </tbody>\n",
       "</table>\n",
       "</div>"
      ],
      "text/plain": [
       "          A         B\n",
       "0  2.449490  4.358899\n",
       "1  3.741657  3.162278"
      ]
     },
     "execution_count": 11,
     "metadata": {},
     "output_type": "execute_result"
    }
   ],
   "source": [
    "np.sqrt(df_a)"
   ]
  },
  {
   "cell_type": "markdown",
   "metadata": {
    "colab_type": "text",
    "id": "9aYAvgp0dGZA"
   },
   "source": [
    "For binary operations on two `Series` or `DataFrame` objects, pandas will align indices (and columns for `DataFrame`s) in the process of performing the operation:"
   ]
  },
  {
   "cell_type": "code",
   "execution_count": 0,
   "metadata": {
    "colab": {},
    "colab_type": "code",
    "id": "GqeRhWzxdGZA",
    "outputId": "0dfd86cc-aa75-427e-f992-84e99d66c87a"
   },
   "outputs": [
    {
     "data": {
      "text/html": [
       "<div style=\"float: left; padding: 10px;\">\n",
       "    <p>df_a</p><div>\n",
       "<style scoped>\n",
       "    .dataframe tbody tr th:only-of-type {\n",
       "        vertical-align: middle;\n",
       "    }\n",
       "\n",
       "    .dataframe tbody tr th {\n",
       "        vertical-align: top;\n",
       "    }\n",
       "\n",
       "    .dataframe thead th {\n",
       "        text-align: right;\n",
       "    }\n",
       "</style>\n",
       "<table border=\"1\" class=\"dataframe\">\n",
       "  <thead>\n",
       "    <tr style=\"text-align: right;\">\n",
       "      <th></th>\n",
       "      <th>A</th>\n",
       "      <th>B</th>\n",
       "    </tr>\n",
       "  </thead>\n",
       "  <tbody>\n",
       "    <tr>\n",
       "      <th>0</th>\n",
       "      <td>6</td>\n",
       "      <td>19</td>\n",
       "    </tr>\n",
       "    <tr>\n",
       "      <th>1</th>\n",
       "      <td>14</td>\n",
       "      <td>10</td>\n",
       "    </tr>\n",
       "  </tbody>\n",
       "</table>\n",
       "</div>\n",
       "    </div>\n",
       "<div style=\"float: left; padding: 10px;\">\n",
       "    <p>df_b</p><div>\n",
       "<style scoped>\n",
       "    .dataframe tbody tr th:only-of-type {\n",
       "        vertical-align: middle;\n",
       "    }\n",
       "\n",
       "    .dataframe tbody tr th {\n",
       "        vertical-align: top;\n",
       "    }\n",
       "\n",
       "    .dataframe thead th {\n",
       "        text-align: right;\n",
       "    }\n",
       "</style>\n",
       "<table border=\"1\" class=\"dataframe\">\n",
       "  <thead>\n",
       "    <tr style=\"text-align: right;\">\n",
       "      <th></th>\n",
       "      <th>B</th>\n",
       "      <th>A</th>\n",
       "      <th>C</th>\n",
       "    </tr>\n",
       "  </thead>\n",
       "  <tbody>\n",
       "    <tr>\n",
       "      <th>0</th>\n",
       "      <td>7</td>\n",
       "      <td>4</td>\n",
       "      <td>6</td>\n",
       "    </tr>\n",
       "    <tr>\n",
       "      <th>1</th>\n",
       "      <td>9</td>\n",
       "      <td>2</td>\n",
       "      <td>6</td>\n",
       "    </tr>\n",
       "    <tr>\n",
       "      <th>2</th>\n",
       "      <td>7</td>\n",
       "      <td>4</td>\n",
       "      <td>3</td>\n",
       "    </tr>\n",
       "  </tbody>\n",
       "</table>\n",
       "</div>\n",
       "    </div>\n",
       "<div style=\"float: left; padding: 10px;\">\n",
       "    <p>df_a + df_b</p><div>\n",
       "<style scoped>\n",
       "    .dataframe tbody tr th:only-of-type {\n",
       "        vertical-align: middle;\n",
       "    }\n",
       "\n",
       "    .dataframe tbody tr th {\n",
       "        vertical-align: top;\n",
       "    }\n",
       "\n",
       "    .dataframe thead th {\n",
       "        text-align: right;\n",
       "    }\n",
       "</style>\n",
       "<table border=\"1\" class=\"dataframe\">\n",
       "  <thead>\n",
       "    <tr style=\"text-align: right;\">\n",
       "      <th></th>\n",
       "      <th>A</th>\n",
       "      <th>B</th>\n",
       "      <th>C</th>\n",
       "    </tr>\n",
       "  </thead>\n",
       "  <tbody>\n",
       "    <tr>\n",
       "      <th>0</th>\n",
       "      <td>10.0</td>\n",
       "      <td>26.0</td>\n",
       "      <td>NaN</td>\n",
       "    </tr>\n",
       "    <tr>\n",
       "      <th>1</th>\n",
       "      <td>16.0</td>\n",
       "      <td>19.0</td>\n",
       "      <td>NaN</td>\n",
       "    </tr>\n",
       "    <tr>\n",
       "      <th>2</th>\n",
       "      <td>NaN</td>\n",
       "      <td>NaN</td>\n",
       "      <td>NaN</td>\n",
       "    </tr>\n",
       "  </tbody>\n",
       "</table>\n",
       "</div>\n",
       "    </div>"
      ],
      "text/plain": [
       "df_a\n",
       "    A   B\n",
       "0   6  19\n",
       "1  14  10\n",
       "\n",
       "df_b\n",
       "   B  A  C\n",
       "0  7  4  6\n",
       "1  9  2  6\n",
       "2  7  4  3\n",
       "\n",
       "df_a + df_b\n",
       "      A     B   C\n",
       "0  10.0  26.0 NaN\n",
       "1  16.0  19.0 NaN\n",
       "2   NaN   NaN NaN"
      ]
     },
     "execution_count": 23,
     "metadata": {
      "tags": []
     },
     "output_type": "execute_result"
    }
   ],
   "source": [
    "df_b = pd.DataFrame(rng.randint(0, 10, (3, 3)), columns=list('BAC'))\n",
    "display('df_a', 'df_b', 'df_a + df_b')"
   ]
  },
  {
   "cell_type": "markdown",
   "metadata": {
    "colab_type": "text",
    "id": "UqIuJt5fdGZC"
   },
   "source": [
    "<div class='alert alert-info'>Notice that indices and columns are aligned correctly irrespective of their orders in the two source objects, and indices and columns in the result are sorted. The result contains the union of indices and colums. </div>\n",
    "\n",
    "Any item for which one or the other does not have an entry is marked with `NaN`, or \"Not a Number,\" which is how pandas marks **missing** or **null values**.\n",
    "\n",
    "\n",
    "--- \n",
    "\n",
    "### Applying Abitrary Functions Element-wise (Optional)\n",
    "\n",
    "`DataFrame` objects' [`applymap()`](https://pandas.pydata.org/pandas-docs/stable/reference/api/pandas.DataFrame.applymap.html) method (`Series` objects' [`map()`](https://pandas.pydata.org/pandas-docs/stable/reference/api/pandas.Series.map.html) method) vectorizes an arbitrary function taking a single value and returning a single value:\n",
    "\n",
    "\n",
    "\n",
    "\n"
   ]
  },
  {
   "cell_type": "code",
   "execution_count": 0,
   "metadata": {
    "cell_style": "split",
    "colab": {},
    "colab_type": "code",
    "id": "6X_xSwFLdGZD",
    "outputId": "4a27dc91-5a9e-4d25-e594-39107fbc3ca8",
    "scrolled": true
   },
   "outputs": [
    {
     "data": {
      "text/html": [
       "<div>\n",
       "<style scoped>\n",
       "    .dataframe tbody tr th:only-of-type {\n",
       "        vertical-align: middle;\n",
       "    }\n",
       "\n",
       "    .dataframe tbody tr th {\n",
       "        vertical-align: top;\n",
       "    }\n",
       "\n",
       "    .dataframe thead th {\n",
       "        text-align: right;\n",
       "    }\n",
       "</style>\n",
       "<table border=\"1\" class=\"dataframe\">\n",
       "  <thead>\n",
       "    <tr style=\"text-align: right;\">\n",
       "      <th></th>\n",
       "      <th>B</th>\n",
       "      <th>A</th>\n",
       "      <th>C</th>\n",
       "    </tr>\n",
       "  </thead>\n",
       "  <tbody>\n",
       "    <tr>\n",
       "      <th>0</th>\n",
       "      <td>&lt;class 'int'&gt;</td>\n",
       "      <td>&lt;class 'int'&gt;</td>\n",
       "      <td>&lt;class 'int'&gt;</td>\n",
       "    </tr>\n",
       "    <tr>\n",
       "      <th>1</th>\n",
       "      <td>&lt;class 'int'&gt;</td>\n",
       "      <td>&lt;class 'int'&gt;</td>\n",
       "      <td>&lt;class 'int'&gt;</td>\n",
       "    </tr>\n",
       "    <tr>\n",
       "      <th>2</th>\n",
       "      <td>&lt;class 'int'&gt;</td>\n",
       "      <td>&lt;class 'int'&gt;</td>\n",
       "      <td>&lt;class 'int'&gt;</td>\n",
       "    </tr>\n",
       "  </tbody>\n",
       "</table>\n",
       "</div>"
      ],
      "text/plain": [
       "               B              A              C\n",
       "0  <class 'int'>  <class 'int'>  <class 'int'>\n",
       "1  <class 'int'>  <class 'int'>  <class 'int'>\n",
       "2  <class 'int'>  <class 'int'>  <class 'int'>"
      ]
     },
     "execution_count": 41,
     "metadata": {
      "tags": []
     },
     "output_type": "execute_result"
    }
   ],
   "source": [
    "df_b.applymap(type)"
   ]
  },
  {
   "cell_type": "code",
   "execution_count": 0,
   "metadata": {
    "cell_style": "split",
    "colab": {},
    "colab_type": "code",
    "id": "sx1vl7GUdGZF",
    "outputId": "ef50a255-1315-4f5d-c090-fc7a3a78861c"
   },
   "outputs": [
    {
     "data": {
      "text/plain": [
       "0    week_4\n",
       "1    week_2\n",
       "2    week_4\n",
       "Name: A, dtype: object"
      ]
     },
     "execution_count": 27,
     "metadata": {
      "tags": []
     },
     "output_type": "execute_result"
    }
   ],
   "source": [
    "df_b['A'].map(lambda x: 'week_' + str(x))"
   ]
  },
  {
   "cell_type": "markdown",
   "metadata": {
    "colab_type": "text",
    "id": "LJMVU4nU8mW5"
   },
   "source": [
    "---\n",
    "\n",
    "## 2.4 Handling Missing Values"
   ]
  },
  {
   "cell_type": "code",
   "execution_count": 18,
   "metadata": {
    "colab": {},
    "colab_type": "code",
    "id": "PMCPChKl8mW5",
    "outputId": "df6fc05c-8c87-4cf3-8a19-450cdc6d035d"
   },
   "outputs": [
    {
     "data": {
      "text/html": [
       "<div>\n",
       "<style scoped>\n",
       "    .dataframe tbody tr th:only-of-type {\n",
       "        vertical-align: middle;\n",
       "    }\n",
       "\n",
       "    .dataframe tbody tr th {\n",
       "        vertical-align: top;\n",
       "    }\n",
       "\n",
       "    .dataframe thead th {\n",
       "        text-align: right;\n",
       "    }\n",
       "</style>\n",
       "<table border=\"1\" class=\"dataframe\">\n",
       "  <thead>\n",
       "    <tr style=\"text-align: right;\">\n",
       "      <th></th>\n",
       "      <th>A</th>\n",
       "      <th>B</th>\n",
       "      <th>C</th>\n",
       "    </tr>\n",
       "  </thead>\n",
       "  <tbody>\n",
       "    <tr>\n",
       "      <th>0</th>\n",
       "      <td>1.0</td>\n",
       "      <td>5.0</td>\n",
       "      <td>4</td>\n",
       "    </tr>\n",
       "    <tr>\n",
       "      <th>1</th>\n",
       "      <td>2.0</td>\n",
       "      <td>NaN</td>\n",
       "      <td>5</td>\n",
       "    </tr>\n",
       "    <tr>\n",
       "      <th>2</th>\n",
       "      <td>NaN</td>\n",
       "      <td>NaN</td>\n",
       "      <td>6</td>\n",
       "    </tr>\n",
       "  </tbody>\n",
       "</table>\n",
       "</div>"
      ],
      "text/plain": [
       "     A    B  C\n",
       "0  1.0  5.0  4\n",
       "1  2.0  NaN  5\n",
       "2  NaN  NaN  6"
      ]
     },
     "execution_count": 18,
     "metadata": {},
     "output_type": "execute_result"
    }
   ],
   "source": [
    "df_w_nan = pd.DataFrame({'A':[1, 2, np.nan],  'B':[5, np.nan, np.nan], 'C':[4, 5, 6]}); df_w_nan"
   ]
  },
  {
   "cell_type": "markdown",
   "metadata": {
    "colab_type": "text",
    "id": "WxrkQ2wKdGZH"
   },
   "source": [
    "\n",
    "Pandas provides several useful methods for detecting, removing, and replacing missing values in pandas data structures:\n",
    "\n",
    "- [`isnull()`](https://pandas.pydata.org/pandas-docs/stable/reference/api/pandas.DataFrame.isna.html) generates a boolean mask indicating missing values, while [`notnull()`](https://pandas.pydata.org/pandas-docs/stable/reference/api/pandas.DataFrame.notna.html) produces the opposite:\n"
   ]
  },
  {
   "cell_type": "code",
   "execution_count": 0,
   "metadata": {
    "cell_style": "split",
    "colab": {},
    "colab_type": "code",
    "id": "kYRcEYES8mW9",
    "outputId": "56b43be0-6c77-436c-c19a-934cd3446ffe"
   },
   "outputs": [
    {
     "data": {
      "text/html": [
       "<div>\n",
       "<style scoped>\n",
       "    .dataframe tbody tr th:only-of-type {\n",
       "        vertical-align: middle;\n",
       "    }\n",
       "\n",
       "    .dataframe tbody tr th {\n",
       "        vertical-align: top;\n",
       "    }\n",
       "\n",
       "    .dataframe thead th {\n",
       "        text-align: right;\n",
       "    }\n",
       "</style>\n",
       "<table border=\"1\" class=\"dataframe\">\n",
       "  <thead>\n",
       "    <tr style=\"text-align: right;\">\n",
       "      <th></th>\n",
       "      <th>A</th>\n",
       "      <th>B</th>\n",
       "      <th>C</th>\n",
       "    </tr>\n",
       "  </thead>\n",
       "  <tbody>\n",
       "    <tr>\n",
       "      <th>0</th>\n",
       "      <td>False</td>\n",
       "      <td>False</td>\n",
       "      <td>False</td>\n",
       "    </tr>\n",
       "    <tr>\n",
       "      <th>1</th>\n",
       "      <td>False</td>\n",
       "      <td>True</td>\n",
       "      <td>False</td>\n",
       "    </tr>\n",
       "    <tr>\n",
       "      <th>2</th>\n",
       "      <td>True</td>\n",
       "      <td>True</td>\n",
       "      <td>False</td>\n",
       "    </tr>\n",
       "  </tbody>\n",
       "</table>\n",
       "</div>"
      ],
      "text/plain": [
       "       A      B      C\n",
       "0  False  False  False\n",
       "1  False   True  False\n",
       "2   True   True  False"
      ]
     },
     "execution_count": 41,
     "metadata": {
      "tags": []
     },
     "output_type": "execute_result"
    }
   ],
   "source": [
    "df_w_nan.isnull()"
   ]
  },
  {
   "cell_type": "code",
   "execution_count": 0,
   "metadata": {
    "cell_style": "split",
    "colab": {},
    "colab_type": "code",
    "id": "xkXQSA9K8mW_",
    "outputId": "4884cc23-5e1d-4c3f-f40b-375a2bd4b5e0"
   },
   "outputs": [
    {
     "data": {
      "text/html": [
       "<div>\n",
       "<style scoped>\n",
       "    .dataframe tbody tr th:only-of-type {\n",
       "        vertical-align: middle;\n",
       "    }\n",
       "\n",
       "    .dataframe tbody tr th {\n",
       "        vertical-align: top;\n",
       "    }\n",
       "\n",
       "    .dataframe thead th {\n",
       "        text-align: right;\n",
       "    }\n",
       "</style>\n",
       "<table border=\"1\" class=\"dataframe\">\n",
       "  <thead>\n",
       "    <tr style=\"text-align: right;\">\n",
       "      <th></th>\n",
       "      <th>A</th>\n",
       "      <th>B</th>\n",
       "      <th>C</th>\n",
       "    </tr>\n",
       "  </thead>\n",
       "  <tbody>\n",
       "    <tr>\n",
       "      <th>0</th>\n",
       "      <td>True</td>\n",
       "      <td>True</td>\n",
       "      <td>True</td>\n",
       "    </tr>\n",
       "    <tr>\n",
       "      <th>1</th>\n",
       "      <td>True</td>\n",
       "      <td>False</td>\n",
       "      <td>True</td>\n",
       "    </tr>\n",
       "    <tr>\n",
       "      <th>2</th>\n",
       "      <td>False</td>\n",
       "      <td>False</td>\n",
       "      <td>True</td>\n",
       "    </tr>\n",
       "  </tbody>\n",
       "</table>\n",
       "</div>"
      ],
      "text/plain": [
       "       A      B     C\n",
       "0   True   True  True\n",
       "1   True  False  True\n",
       "2  False  False  True"
      ]
     },
     "execution_count": 42,
     "metadata": {
      "tags": []
     },
     "output_type": "execute_result"
    }
   ],
   "source": [
    "df_w_nan.notnull()"
   ]
  },
  {
   "cell_type": "markdown",
   "metadata": {
    "colab_type": "text",
    "id": "JHC_6HHQ8mXB"
   },
   "source": [
    "\n",
    "- [`dropna()`](https://pandas.pydata.org/pandas-docs/stable/reference/api/pandas.DataFrame.dropna.html) returns a filtered version of the data:"
   ]
  },
  {
   "cell_type": "code",
   "execution_count": 0,
   "metadata": {
    "cell_style": "split",
    "colab": {},
    "colab_type": "code",
    "id": "FpDN3MRx8mXC",
    "outputId": "b2daf68c-9964-4e51-c4ca-530d978ae0a9"
   },
   "outputs": [
    {
     "data": {
      "text/html": [
       "<div>\n",
       "<style scoped>\n",
       "    .dataframe tbody tr th:only-of-type {\n",
       "        vertical-align: middle;\n",
       "    }\n",
       "\n",
       "    .dataframe tbody tr th {\n",
       "        vertical-align: top;\n",
       "    }\n",
       "\n",
       "    .dataframe thead th {\n",
       "        text-align: right;\n",
       "    }\n",
       "</style>\n",
       "<table border=\"1\" class=\"dataframe\">\n",
       "  <thead>\n",
       "    <tr style=\"text-align: right;\">\n",
       "      <th></th>\n",
       "      <th>A</th>\n",
       "      <th>B</th>\n",
       "      <th>C</th>\n",
       "    </tr>\n",
       "  </thead>\n",
       "  <tbody>\n",
       "    <tr>\n",
       "      <th>0</th>\n",
       "      <td>1.0</td>\n",
       "      <td>5.0</td>\n",
       "      <td>4</td>\n",
       "    </tr>\n",
       "  </tbody>\n",
       "</table>\n",
       "</div>"
      ],
      "text/plain": [
       "     A    B  C\n",
       "0  1.0  5.0  4"
      ]
     },
     "execution_count": 43,
     "metadata": {
      "tags": []
     },
     "output_type": "execute_result"
    }
   ],
   "source": [
    "df_w_nan.dropna(axis=0)"
   ]
  },
  {
   "cell_type": "code",
   "execution_count": 0,
   "metadata": {
    "cell_style": "split",
    "colab": {},
    "colab_type": "code",
    "id": "H6_ulSI-8mXD",
    "outputId": "af61feda-d86a-479e-e7f0-5f0d8ca5f652"
   },
   "outputs": [
    {
     "data": {
      "text/html": [
       "<div>\n",
       "<style scoped>\n",
       "    .dataframe tbody tr th:only-of-type {\n",
       "        vertical-align: middle;\n",
       "    }\n",
       "\n",
       "    .dataframe tbody tr th {\n",
       "        vertical-align: top;\n",
       "    }\n",
       "\n",
       "    .dataframe thead th {\n",
       "        text-align: right;\n",
       "    }\n",
       "</style>\n",
       "<table border=\"1\" class=\"dataframe\">\n",
       "  <thead>\n",
       "    <tr style=\"text-align: right;\">\n",
       "      <th></th>\n",
       "      <th>C</th>\n",
       "    </tr>\n",
       "  </thead>\n",
       "  <tbody>\n",
       "    <tr>\n",
       "      <th>0</th>\n",
       "      <td>4</td>\n",
       "    </tr>\n",
       "    <tr>\n",
       "      <th>1</th>\n",
       "      <td>5</td>\n",
       "    </tr>\n",
       "    <tr>\n",
       "      <th>2</th>\n",
       "      <td>6</td>\n",
       "    </tr>\n",
       "  </tbody>\n",
       "</table>\n",
       "</div>"
      ],
      "text/plain": [
       "   C\n",
       "0  4\n",
       "1  5\n",
       "2  6"
      ]
     },
     "execution_count": 44,
     "metadata": {
      "tags": []
     },
     "output_type": "execute_result"
    }
   ],
   "source": [
    "df_w_nan.dropna(axis=1)"
   ]
  },
  {
   "cell_type": "markdown",
   "metadata": {
    "colab_type": "text",
    "id": "yivKqJG-8mXG"
   },
   "source": [
    "\n",
    "- [`fillna()`](https://pandas.pydata.org/pandas-docs/stable/reference/api/pandas.DataFrame.fillna.html) returns a copy of the data with missing values filled or imputed:"
   ]
  },
  {
   "cell_type": "code",
   "execution_count": 17,
   "metadata": {},
   "outputs": [],
   "source": [
    "import inspect"
   ]
  },
  {
   "cell_type": "code",
   "execution_count": 0,
   "metadata": {
    "colab": {},
    "colab_type": "code",
    "id": "aEqodRi08mXH",
    "outputId": "efca2dd5-8570-49ee-b8c9-bebfb0b2979f"
   },
   "outputs": [
    {
     "data": {
      "text/plain": [
       "<Signature (value=None, method=None, axis=None, inplace=False, limit=None, downcast=None, **kwargs)>"
      ]
     },
     "execution_count": 36,
     "metadata": {
      "tags": []
     },
     "output_type": "execute_result"
    }
   ],
   "source": [
    "inspect.signature(df_w_nan.fillna)"
   ]
  },
  {
   "cell_type": "code",
   "execution_count": 0,
   "metadata": {
    "colab": {},
    "colab_type": "code",
    "id": "lmVV7bpl8mXI",
    "outputId": "37e383c6-c1a0-4a4f-9671-f5fbd1adab06"
   },
   "outputs": [
    {
     "data": {
      "text/html": [
       "<div>\n",
       "<style scoped>\n",
       "    .dataframe tbody tr th:only-of-type {\n",
       "        vertical-align: middle;\n",
       "    }\n",
       "\n",
       "    .dataframe tbody tr th {\n",
       "        vertical-align: top;\n",
       "    }\n",
       "\n",
       "    .dataframe thead th {\n",
       "        text-align: right;\n",
       "    }\n",
       "</style>\n",
       "<table border=\"1\" class=\"dataframe\">\n",
       "  <thead>\n",
       "    <tr style=\"text-align: right;\">\n",
       "      <th></th>\n",
       "      <th>A</th>\n",
       "      <th>B</th>\n",
       "      <th>C</th>\n",
       "    </tr>\n",
       "  </thead>\n",
       "  <tbody>\n",
       "    <tr>\n",
       "      <th>0</th>\n",
       "      <td>1.0</td>\n",
       "      <td>5.0</td>\n",
       "      <td>4</td>\n",
       "    </tr>\n",
       "    <tr>\n",
       "      <th>1</th>\n",
       "      <td>2.0</td>\n",
       "      <td>NaN</td>\n",
       "      <td>5</td>\n",
       "    </tr>\n",
       "    <tr>\n",
       "      <th>2</th>\n",
       "      <td>NaN</td>\n",
       "      <td>NaN</td>\n",
       "      <td>6</td>\n",
       "    </tr>\n",
       "  </tbody>\n",
       "</table>\n",
       "</div>"
      ],
      "text/plain": [
       "     A    B  C\n",
       "0  1.0  5.0  4\n",
       "1  2.0  NaN  5\n",
       "2  NaN  NaN  6"
      ]
     },
     "execution_count": 46,
     "metadata": {
      "tags": []
     },
     "output_type": "execute_result"
    }
   ],
   "source": [
    "df_w_nan"
   ]
  },
  {
   "cell_type": "code",
   "execution_count": 0,
   "metadata": {
    "cell_style": "split",
    "colab": {},
    "colab_type": "code",
    "id": "YHN9QNRX8mXK",
    "outputId": "4eb26922-515c-4789-b803-9fc39f93721a"
   },
   "outputs": [
    {
     "data": {
      "text/html": [
       "<div>\n",
       "<style scoped>\n",
       "    .dataframe tbody tr th:only-of-type {\n",
       "        vertical-align: middle;\n",
       "    }\n",
       "\n",
       "    .dataframe tbody tr th {\n",
       "        vertical-align: top;\n",
       "    }\n",
       "\n",
       "    .dataframe thead th {\n",
       "        text-align: right;\n",
       "    }\n",
       "</style>\n",
       "<table border=\"1\" class=\"dataframe\">\n",
       "  <thead>\n",
       "    <tr style=\"text-align: right;\">\n",
       "      <th></th>\n",
       "      <th>A</th>\n",
       "      <th>B</th>\n",
       "      <th>C</th>\n",
       "    </tr>\n",
       "  </thead>\n",
       "  <tbody>\n",
       "    <tr>\n",
       "      <th>0</th>\n",
       "      <td>1.0</td>\n",
       "      <td>5.0</td>\n",
       "      <td>4</td>\n",
       "    </tr>\n",
       "    <tr>\n",
       "      <th>1</th>\n",
       "      <td>2.0</td>\n",
       "      <td>0.0</td>\n",
       "      <td>5</td>\n",
       "    </tr>\n",
       "    <tr>\n",
       "      <th>2</th>\n",
       "      <td>0.0</td>\n",
       "      <td>0.0</td>\n",
       "      <td>6</td>\n",
       "    </tr>\n",
       "  </tbody>\n",
       "</table>\n",
       "</div>"
      ],
      "text/plain": [
       "     A    B  C\n",
       "0  1.0  5.0  4\n",
       "1  2.0  0.0  5\n",
       "2  0.0  0.0  6"
      ]
     },
     "execution_count": 45,
     "metadata": {
      "tags": []
     },
     "output_type": "execute_result"
    }
   ],
   "source": [
    "df_w_nan.fillna(0)"
   ]
  },
  {
   "cell_type": "code",
   "execution_count": 20,
   "metadata": {
    "cell_style": "split",
    "colab": {},
    "colab_type": "code",
    "id": "CPDbf5qv8mXL",
    "outputId": "48237281-c908-4286-90cd-833e2bdb3bd1"
   },
   "outputs": [
    {
     "data": {
      "text/html": [
       "<div>\n",
       "<style scoped>\n",
       "    .dataframe tbody tr th:only-of-type {\n",
       "        vertical-align: middle;\n",
       "    }\n",
       "\n",
       "    .dataframe tbody tr th {\n",
       "        vertical-align: top;\n",
       "    }\n",
       "\n",
       "    .dataframe thead th {\n",
       "        text-align: right;\n",
       "    }\n",
       "</style>\n",
       "<table border=\"1\" class=\"dataframe\">\n",
       "  <thead>\n",
       "    <tr style=\"text-align: right;\">\n",
       "      <th></th>\n",
       "      <th>A</th>\n",
       "      <th>B</th>\n",
       "      <th>C</th>\n",
       "    </tr>\n",
       "  </thead>\n",
       "  <tbody>\n",
       "    <tr>\n",
       "      <th>0</th>\n",
       "      <td>1.0</td>\n",
       "      <td>5.0</td>\n",
       "      <td>4</td>\n",
       "    </tr>\n",
       "    <tr>\n",
       "      <th>1</th>\n",
       "      <td>2.0</td>\n",
       "      <td>5.0</td>\n",
       "      <td>5</td>\n",
       "    </tr>\n",
       "    <tr>\n",
       "      <th>2</th>\n",
       "      <td>2.0</td>\n",
       "      <td>5.0</td>\n",
       "      <td>6</td>\n",
       "    </tr>\n",
       "  </tbody>\n",
       "</table>\n",
       "</div>"
      ],
      "text/plain": [
       "     A    B  C\n",
       "0  1.0  5.0  4\n",
       "1  2.0  5.0  5\n",
       "2  2.0  5.0  6"
      ]
     },
     "execution_count": 20,
     "metadata": {},
     "output_type": "execute_result"
    }
   ],
   "source": [
    "df_w_nan.fillna(method='ffill', axis=0)"
   ]
  },
  {
   "cell_type": "markdown",
   "metadata": {
    "colab_type": "text",
    "id": "-38ghGAEdGZH"
   },
   "source": [
    "\n",
    "\n",
    "---\n",
    "\n",
    "## 2.5 Combining Data\n",
    "\n",
    "\n",
    "Some interesting studies require combining different data sources. These operations can involve:\n",
    "\n",
    "- Straightforward concatenation, or\n",
    "- More complicated database-style joins and merges (Optional). \n",
    "\n",
    "\n",
    "---\n",
    "\n",
    "### 2.5.1 Concatenating Data\n",
    "\n",
    "\n",
    "Concatenation of `DataFrame` objects can be done via the [`pd.concat()`](https://pandas.pydata.org/pandas-docs/stable/reference/api/pandas.concat.html) function:"
   ]
  },
  {
   "cell_type": "code",
   "execution_count": 0,
   "metadata": {
    "colab": {},
    "colab_type": "code",
    "id": "9z-QSN7_dGZI",
    "outputId": "6580106d-cd5d-44f6-9f2b-2e8216b4b463"
   },
   "outputs": [
    {
     "data": {
      "text/plain": [
       "<Signature (objs, axis=0, join='outer', join_axes=None, ignore_index=False, keys=None, levels=None, names=None, verify_integrity=False, sort=None, copy=True)>"
      ]
     },
     "execution_count": 135,
     "metadata": {
      "tags": []
     },
     "output_type": "execute_result"
    }
   ],
   "source": [
    "inspect.signature(pd.concat)"
   ]
  },
  {
   "cell_type": "code",
   "execution_count": 0,
   "metadata": {
    "colab": {},
    "colab_type": "code",
    "id": "aDR7IrKBdGZJ",
    "outputId": "fa8f3e5d-311b-4d9a-ebca-2f1e76c62cf4"
   },
   "outputs": [
    {
     "data": {
      "text/html": [
       "<div style=\"float: left; padding: 10px;\">\n",
       "    <p>distr_area_df1</p><div>\n",
       "<style scoped>\n",
       "    .dataframe tbody tr th:only-of-type {\n",
       "        vertical-align: middle;\n",
       "    }\n",
       "\n",
       "    .dataframe tbody tr th {\n",
       "        vertical-align: top;\n",
       "    }\n",
       "\n",
       "    .dataframe thead th {\n",
       "        text-align: right;\n",
       "    }\n",
       "</style>\n",
       "<table border=\"1\" class=\"dataframe\">\n",
       "  <thead>\n",
       "    <tr style=\"text-align: right;\">\n",
       "      <th></th>\n",
       "      <th>District</th>\n",
       "      <th>Area</th>\n",
       "    </tr>\n",
       "  </thead>\n",
       "  <tbody>\n",
       "    <tr>\n",
       "      <th>0</th>\n",
       "      <td>Sai Kung</td>\n",
       "      <td>129.65</td>\n",
       "    </tr>\n",
       "    <tr>\n",
       "      <th>1</th>\n",
       "      <td>North</td>\n",
       "      <td>136.61</td>\n",
       "    </tr>\n",
       "    <tr>\n",
       "      <th>2</th>\n",
       "      <td>Wan Chai</td>\n",
       "      <td>9.83</td>\n",
       "    </tr>\n",
       "    <tr>\n",
       "      <th>3</th>\n",
       "      <td>Sha Tin</td>\n",
       "      <td>68.71</td>\n",
       "    </tr>\n",
       "  </tbody>\n",
       "</table>\n",
       "</div>\n",
       "    </div>\n",
       "<div style=\"float: left; padding: 10px;\">\n",
       "    <p>distr_area_df2</p><div>\n",
       "<style scoped>\n",
       "    .dataframe tbody tr th:only-of-type {\n",
       "        vertical-align: middle;\n",
       "    }\n",
       "\n",
       "    .dataframe tbody tr th {\n",
       "        vertical-align: top;\n",
       "    }\n",
       "\n",
       "    .dataframe thead th {\n",
       "        text-align: right;\n",
       "    }\n",
       "</style>\n",
       "<table border=\"1\" class=\"dataframe\">\n",
       "  <thead>\n",
       "    <tr style=\"text-align: right;\">\n",
       "      <th></th>\n",
       "      <th>Area</th>\n",
       "      <th>District</th>\n",
       "    </tr>\n",
       "  </thead>\n",
       "  <tbody>\n",
       "    <tr>\n",
       "      <th>0</th>\n",
       "      <td>175.12</td>\n",
       "      <td>Islands</td>\n",
       "    </tr>\n",
       "    <tr>\n",
       "      <th>1</th>\n",
       "      <td>136.15</td>\n",
       "      <td>Tai Po</td>\n",
       "    </tr>\n",
       "    <tr>\n",
       "      <th>2</th>\n",
       "      <td>9.83</td>\n",
       "      <td>Wan Chai</td>\n",
       "    </tr>\n",
       "  </tbody>\n",
       "</table>\n",
       "</div>\n",
       "    </div>\n",
       "<div style=\"float: left; padding: 10px;\">\n",
       "    <p>distr_pop_df1</p><div>\n",
       "<style scoped>\n",
       "    .dataframe tbody tr th:only-of-type {\n",
       "        vertical-align: middle;\n",
       "    }\n",
       "\n",
       "    .dataframe tbody tr th {\n",
       "        vertical-align: top;\n",
       "    }\n",
       "\n",
       "    .dataframe thead th {\n",
       "        text-align: right;\n",
       "    }\n",
       "</style>\n",
       "<table border=\"1\" class=\"dataframe\">\n",
       "  <thead>\n",
       "    <tr style=\"text-align: right;\">\n",
       "      <th></th>\n",
       "      <th>District</th>\n",
       "      <th>Population</th>\n",
       "    </tr>\n",
       "  </thead>\n",
       "  <tbody>\n",
       "    <tr>\n",
       "      <th>0</th>\n",
       "      <td>Wan Chai</td>\n",
       "      <td>150900</td>\n",
       "    </tr>\n",
       "    <tr>\n",
       "      <th>1</th>\n",
       "      <td>North</td>\n",
       "      <td>310800</td>\n",
       "    </tr>\n",
       "    <tr>\n",
       "      <th>2</th>\n",
       "      <td>Sai Kung</td>\n",
       "      <td>448600</td>\n",
       "    </tr>\n",
       "    <tr>\n",
       "      <th>3</th>\n",
       "      <td>Sha Tin</td>\n",
       "      <td>648200</td>\n",
       "    </tr>\n",
       "  </tbody>\n",
       "</table>\n",
       "</div>\n",
       "    </div>"
      ],
      "text/plain": [
       "distr_area_df1\n",
       "   District    Area\n",
       "0  Sai Kung  129.65\n",
       "1     North  136.61\n",
       "2  Wan Chai    9.83\n",
       "3   Sha Tin   68.71\n",
       "\n",
       "distr_area_df2\n",
       "     Area  District\n",
       "0  175.12   Islands\n",
       "1  136.15    Tai Po\n",
       "2    9.83  Wan Chai\n",
       "\n",
       "distr_pop_df1\n",
       "   District  Population\n",
       "0  Wan Chai      150900\n",
       "1     North      310800\n",
       "2  Sai Kung      448600\n",
       "3   Sha Tin      648200"
      ]
     },
     "execution_count": 81,
     "metadata": {
      "tags": []
     },
     "output_type": "execute_result"
    }
   ],
   "source": [
    "distr_area_df1 = pd.DataFrame({'District': ['Sai Kung', 'North', 'Wan Chai', 'Sha Tin'], \n",
    "                             'Area': [129.65, 136.61, 9.83, 68.71]})\n",
    "\n",
    "distr_area_df2 = pd.DataFrame({'Area': [175.12, 136.15, 9.83],\n",
    "                               'District': ['Islands',  'Tai Po', 'Wan Chai']})\n",
    "\n",
    "distr_pop_df1 = pd.DataFrame({'District': ['Wan Chai', 'North', 'Sai Kung', 'Sha Tin'], \n",
    "                             'Population': [150900, 310800, 448600, 648200]})\n",
    "\n",
    "display('distr_area_df1', 'distr_area_df2', 'distr_pop_df1')"
   ]
  },
  {
   "cell_type": "markdown",
   "metadata": {
    "colab_type": "text",
    "id": "Yj7Dl2XMdGZM"
   },
   "source": [
    "- By default, the concatenation takes place ***row-wise***, and data alignment will be attempted along the non-concatenation axis:"
   ]
  },
  {
   "cell_type": "code",
   "execution_count": 0,
   "metadata": {
    "colab": {},
    "colab_type": "code",
    "id": "m03zjghRdGZN",
    "outputId": "71d5cb9a-547d-448e-ccaf-efe9e219de23"
   },
   "outputs": [
    {
     "data": {
      "text/html": [
       "<div style=\"float: left; padding: 10px;\">\n",
       "    <p>distr_area_df1</p><div>\n",
       "<style scoped>\n",
       "    .dataframe tbody tr th:only-of-type {\n",
       "        vertical-align: middle;\n",
       "    }\n",
       "\n",
       "    .dataframe tbody tr th {\n",
       "        vertical-align: top;\n",
       "    }\n",
       "\n",
       "    .dataframe thead th {\n",
       "        text-align: right;\n",
       "    }\n",
       "</style>\n",
       "<table border=\"1\" class=\"dataframe\">\n",
       "  <thead>\n",
       "    <tr style=\"text-align: right;\">\n",
       "      <th></th>\n",
       "      <th>District</th>\n",
       "      <th>Area</th>\n",
       "    </tr>\n",
       "  </thead>\n",
       "  <tbody>\n",
       "    <tr>\n",
       "      <th>0</th>\n",
       "      <td>Sai Kung</td>\n",
       "      <td>129.65</td>\n",
       "    </tr>\n",
       "    <tr>\n",
       "      <th>1</th>\n",
       "      <td>North</td>\n",
       "      <td>136.61</td>\n",
       "    </tr>\n",
       "    <tr>\n",
       "      <th>2</th>\n",
       "      <td>Wan Chai</td>\n",
       "      <td>9.83</td>\n",
       "    </tr>\n",
       "    <tr>\n",
       "      <th>3</th>\n",
       "      <td>Sha Tin</td>\n",
       "      <td>68.71</td>\n",
       "    </tr>\n",
       "  </tbody>\n",
       "</table>\n",
       "</div>\n",
       "    </div>\n",
       "<div style=\"float: left; padding: 10px;\">\n",
       "    <p>distr_area_df2</p><div>\n",
       "<style scoped>\n",
       "    .dataframe tbody tr th:only-of-type {\n",
       "        vertical-align: middle;\n",
       "    }\n",
       "\n",
       "    .dataframe tbody tr th {\n",
       "        vertical-align: top;\n",
       "    }\n",
       "\n",
       "    .dataframe thead th {\n",
       "        text-align: right;\n",
       "    }\n",
       "</style>\n",
       "<table border=\"1\" class=\"dataframe\">\n",
       "  <thead>\n",
       "    <tr style=\"text-align: right;\">\n",
       "      <th></th>\n",
       "      <th>Area</th>\n",
       "      <th>District</th>\n",
       "    </tr>\n",
       "  </thead>\n",
       "  <tbody>\n",
       "    <tr>\n",
       "      <th>0</th>\n",
       "      <td>175.12</td>\n",
       "      <td>Islands</td>\n",
       "    </tr>\n",
       "    <tr>\n",
       "      <th>1</th>\n",
       "      <td>136.15</td>\n",
       "      <td>Tai Po</td>\n",
       "    </tr>\n",
       "    <tr>\n",
       "      <th>2</th>\n",
       "      <td>9.83</td>\n",
       "      <td>Wan Chai</td>\n",
       "    </tr>\n",
       "  </tbody>\n",
       "</table>\n",
       "</div>\n",
       "    </div>\n",
       "<div style=\"float: left; padding: 10px;\">\n",
       "    <p>distr_concat1</p><div>\n",
       "<style scoped>\n",
       "    .dataframe tbody tr th:only-of-type {\n",
       "        vertical-align: middle;\n",
       "    }\n",
       "\n",
       "    .dataframe tbody tr th {\n",
       "        vertical-align: top;\n",
       "    }\n",
       "\n",
       "    .dataframe thead th {\n",
       "        text-align: right;\n",
       "    }\n",
       "</style>\n",
       "<table border=\"1\" class=\"dataframe\">\n",
       "  <thead>\n",
       "    <tr style=\"text-align: right;\">\n",
       "      <th></th>\n",
       "      <th>Area</th>\n",
       "      <th>District</th>\n",
       "    </tr>\n",
       "  </thead>\n",
       "  <tbody>\n",
       "    <tr>\n",
       "      <th>0</th>\n",
       "      <td>129.65</td>\n",
       "      <td>Sai Kung</td>\n",
       "    </tr>\n",
       "    <tr>\n",
       "      <th>1</th>\n",
       "      <td>136.61</td>\n",
       "      <td>North</td>\n",
       "    </tr>\n",
       "    <tr>\n",
       "      <th>2</th>\n",
       "      <td>9.83</td>\n",
       "      <td>Wan Chai</td>\n",
       "    </tr>\n",
       "    <tr>\n",
       "      <th>3</th>\n",
       "      <td>68.71</td>\n",
       "      <td>Sha Tin</td>\n",
       "    </tr>\n",
       "    <tr>\n",
       "      <th>0</th>\n",
       "      <td>175.12</td>\n",
       "      <td>Islands</td>\n",
       "    </tr>\n",
       "    <tr>\n",
       "      <th>1</th>\n",
       "      <td>136.15</td>\n",
       "      <td>Tai Po</td>\n",
       "    </tr>\n",
       "    <tr>\n",
       "      <th>2</th>\n",
       "      <td>9.83</td>\n",
       "      <td>Wan Chai</td>\n",
       "    </tr>\n",
       "  </tbody>\n",
       "</table>\n",
       "</div>\n",
       "    </div>"
      ],
      "text/plain": [
       "distr_area_df1\n",
       "   District    Area\n",
       "0  Sai Kung  129.65\n",
       "1     North  136.61\n",
       "2  Wan Chai    9.83\n",
       "3   Sha Tin   68.71\n",
       "\n",
       "distr_area_df2\n",
       "     Area  District\n",
       "0  175.12   Islands\n",
       "1  136.15    Tai Po\n",
       "2    9.83  Wan Chai\n",
       "\n",
       "distr_concat1\n",
       "     Area  District\n",
       "0  129.65  Sai Kung\n",
       "1  136.61     North\n",
       "2    9.83  Wan Chai\n",
       "3   68.71   Sha Tin\n",
       "0  175.12   Islands\n",
       "1  136.15    Tai Po\n",
       "2    9.83  Wan Chai"
      ]
     },
     "execution_count": 32,
     "metadata": {
      "tags": []
     },
     "output_type": "execute_result"
    }
   ],
   "source": [
    "distr_concat1 = pd.concat([distr_area_df1, distr_area_df2], sort=True)\n",
    "display('distr_area_df1', 'distr_area_df2', 'distr_concat1')"
   ]
  },
  {
   "cell_type": "code",
   "execution_count": 0,
   "metadata": {
    "colab": {},
    "colab_type": "code",
    "id": "JcqNuhUNdGZP",
    "outputId": "0a9a16f0-1b2b-4f1f-c36c-a3327c07075d"
   },
   "outputs": [
    {
     "data": {
      "text/html": [
       "<div style=\"float: left; padding: 10px;\">\n",
       "    <p>distr_area_df1</p><div>\n",
       "<style scoped>\n",
       "    .dataframe tbody tr th:only-of-type {\n",
       "        vertical-align: middle;\n",
       "    }\n",
       "\n",
       "    .dataframe tbody tr th {\n",
       "        vertical-align: top;\n",
       "    }\n",
       "\n",
       "    .dataframe thead th {\n",
       "        text-align: right;\n",
       "    }\n",
       "</style>\n",
       "<table border=\"1\" class=\"dataframe\">\n",
       "  <thead>\n",
       "    <tr style=\"text-align: right;\">\n",
       "      <th></th>\n",
       "      <th>District</th>\n",
       "      <th>Area</th>\n",
       "    </tr>\n",
       "  </thead>\n",
       "  <tbody>\n",
       "    <tr>\n",
       "      <th>0</th>\n",
       "      <td>Sai Kung</td>\n",
       "      <td>129.65</td>\n",
       "    </tr>\n",
       "    <tr>\n",
       "      <th>1</th>\n",
       "      <td>North</td>\n",
       "      <td>136.61</td>\n",
       "    </tr>\n",
       "    <tr>\n",
       "      <th>2</th>\n",
       "      <td>Wan Chai</td>\n",
       "      <td>9.83</td>\n",
       "    </tr>\n",
       "    <tr>\n",
       "      <th>3</th>\n",
       "      <td>Sha Tin</td>\n",
       "      <td>68.71</td>\n",
       "    </tr>\n",
       "  </tbody>\n",
       "</table>\n",
       "</div>\n",
       "    </div>\n",
       "<div style=\"float: left; padding: 10px;\">\n",
       "    <p>distr_pop_df1</p><div>\n",
       "<style scoped>\n",
       "    .dataframe tbody tr th:only-of-type {\n",
       "        vertical-align: middle;\n",
       "    }\n",
       "\n",
       "    .dataframe tbody tr th {\n",
       "        vertical-align: top;\n",
       "    }\n",
       "\n",
       "    .dataframe thead th {\n",
       "        text-align: right;\n",
       "    }\n",
       "</style>\n",
       "<table border=\"1\" class=\"dataframe\">\n",
       "  <thead>\n",
       "    <tr style=\"text-align: right;\">\n",
       "      <th></th>\n",
       "      <th>District</th>\n",
       "      <th>Population</th>\n",
       "    </tr>\n",
       "  </thead>\n",
       "  <tbody>\n",
       "    <tr>\n",
       "      <th>0</th>\n",
       "      <td>Wan Chai</td>\n",
       "      <td>150900</td>\n",
       "    </tr>\n",
       "    <tr>\n",
       "      <th>1</th>\n",
       "      <td>North</td>\n",
       "      <td>310800</td>\n",
       "    </tr>\n",
       "    <tr>\n",
       "      <th>2</th>\n",
       "      <td>Sai Kung</td>\n",
       "      <td>448600</td>\n",
       "    </tr>\n",
       "    <tr>\n",
       "      <th>3</th>\n",
       "      <td>Sha Tin</td>\n",
       "      <td>648200</td>\n",
       "    </tr>\n",
       "  </tbody>\n",
       "</table>\n",
       "</div>\n",
       "    </div>\n",
       "<div style=\"float: left; padding: 10px;\">\n",
       "    <p>distr_concat2</p><div>\n",
       "<style scoped>\n",
       "    .dataframe tbody tr th:only-of-type {\n",
       "        vertical-align: middle;\n",
       "    }\n",
       "\n",
       "    .dataframe tbody tr th {\n",
       "        vertical-align: top;\n",
       "    }\n",
       "\n",
       "    .dataframe thead th {\n",
       "        text-align: right;\n",
       "    }\n",
       "</style>\n",
       "<table border=\"1\" class=\"dataframe\">\n",
       "  <thead>\n",
       "    <tr style=\"text-align: right;\">\n",
       "      <th></th>\n",
       "      <th>District</th>\n",
       "      <th>Area</th>\n",
       "      <th>Population</th>\n",
       "    </tr>\n",
       "  </thead>\n",
       "  <tbody>\n",
       "    <tr>\n",
       "      <th>0</th>\n",
       "      <td>Sai Kung</td>\n",
       "      <td>129.65</td>\n",
       "      <td>NaN</td>\n",
       "    </tr>\n",
       "    <tr>\n",
       "      <th>1</th>\n",
       "      <td>North</td>\n",
       "      <td>136.61</td>\n",
       "      <td>NaN</td>\n",
       "    </tr>\n",
       "    <tr>\n",
       "      <th>2</th>\n",
       "      <td>Wan Chai</td>\n",
       "      <td>9.83</td>\n",
       "      <td>NaN</td>\n",
       "    </tr>\n",
       "    <tr>\n",
       "      <th>3</th>\n",
       "      <td>Sha Tin</td>\n",
       "      <td>68.71</td>\n",
       "      <td>NaN</td>\n",
       "    </tr>\n",
       "    <tr>\n",
       "      <th>0</th>\n",
       "      <td>Wan Chai</td>\n",
       "      <td>NaN</td>\n",
       "      <td>150900.0</td>\n",
       "    </tr>\n",
       "    <tr>\n",
       "      <th>1</th>\n",
       "      <td>North</td>\n",
       "      <td>NaN</td>\n",
       "      <td>310800.0</td>\n",
       "    </tr>\n",
       "    <tr>\n",
       "      <th>2</th>\n",
       "      <td>Sai Kung</td>\n",
       "      <td>NaN</td>\n",
       "      <td>448600.0</td>\n",
       "    </tr>\n",
       "    <tr>\n",
       "      <th>3</th>\n",
       "      <td>Sha Tin</td>\n",
       "      <td>NaN</td>\n",
       "      <td>648200.0</td>\n",
       "    </tr>\n",
       "  </tbody>\n",
       "</table>\n",
       "</div>\n",
       "    </div>"
      ],
      "text/plain": [
       "distr_area_df1\n",
       "   District    Area\n",
       "0  Sai Kung  129.65\n",
       "1     North  136.61\n",
       "2  Wan Chai    9.83\n",
       "3   Sha Tin   68.71\n",
       "\n",
       "distr_pop_df1\n",
       "   District  Population\n",
       "0  Wan Chai      150900\n",
       "1     North      310800\n",
       "2  Sai Kung      448600\n",
       "3   Sha Tin      648200\n",
       "\n",
       "distr_concat2\n",
       "   District    Area  Population\n",
       "0  Sai Kung  129.65         NaN\n",
       "1     North  136.61         NaN\n",
       "2  Wan Chai    9.83         NaN\n",
       "3   Sha Tin   68.71         NaN\n",
       "0  Wan Chai     NaN    150900.0\n",
       "1     North     NaN    310800.0\n",
       "2  Sai Kung     NaN    448600.0\n",
       "3   Sha Tin     NaN    648200.0"
      ]
     },
     "execution_count": 33,
     "metadata": {
      "tags": []
     },
     "output_type": "execute_result"
    }
   ],
   "source": [
    "distr_concat2 = pd.concat([distr_area_df1, distr_pop_df1], sort=False)\n",
    "display('distr_area_df1', 'distr_pop_df1', 'distr_concat2')"
   ]
  },
  {
   "cell_type": "markdown",
   "metadata": {
    "colab_type": "text",
    "id": "7txHu8q6dGZR"
   },
   "source": [
    "<div class=\"alert alert-info\">Missing values are filled in with `NaN`. Notice the result has the duplicate indices.</div>\n",
    "\n",
    "With the `ignore_index` flag set to true, the concatenation can create a new integer index:"
   ]
  },
  {
   "cell_type": "code",
   "execution_count": 0,
   "metadata": {
    "colab": {},
    "colab_type": "code",
    "id": "cyx89ZDMdGZS",
    "outputId": "caf6ffd3-feed-4505-bf8d-447f105bc7e7"
   },
   "outputs": [
    {
     "data": {
      "text/html": [
       "<div style=\"float: left; padding: 10px;\">\n",
       "    <p>distr_area_df1</p><div>\n",
       "<style scoped>\n",
       "    .dataframe tbody tr th:only-of-type {\n",
       "        vertical-align: middle;\n",
       "    }\n",
       "\n",
       "    .dataframe tbody tr th {\n",
       "        vertical-align: top;\n",
       "    }\n",
       "\n",
       "    .dataframe thead th {\n",
       "        text-align: right;\n",
       "    }\n",
       "</style>\n",
       "<table border=\"1\" class=\"dataframe\">\n",
       "  <thead>\n",
       "    <tr style=\"text-align: right;\">\n",
       "      <th></th>\n",
       "      <th>District</th>\n",
       "      <th>Area</th>\n",
       "    </tr>\n",
       "  </thead>\n",
       "  <tbody>\n",
       "    <tr>\n",
       "      <th>0</th>\n",
       "      <td>Sai Kung</td>\n",
       "      <td>129.65</td>\n",
       "    </tr>\n",
       "    <tr>\n",
       "      <th>1</th>\n",
       "      <td>North</td>\n",
       "      <td>136.61</td>\n",
       "    </tr>\n",
       "    <tr>\n",
       "      <th>2</th>\n",
       "      <td>Wan Chai</td>\n",
       "      <td>9.83</td>\n",
       "    </tr>\n",
       "    <tr>\n",
       "      <th>3</th>\n",
       "      <td>Sha Tin</td>\n",
       "      <td>68.71</td>\n",
       "    </tr>\n",
       "  </tbody>\n",
       "</table>\n",
       "</div>\n",
       "    </div>\n",
       "<div style=\"float: left; padding: 10px;\">\n",
       "    <p>distr_pop_df1</p><div>\n",
       "<style scoped>\n",
       "    .dataframe tbody tr th:only-of-type {\n",
       "        vertical-align: middle;\n",
       "    }\n",
       "\n",
       "    .dataframe tbody tr th {\n",
       "        vertical-align: top;\n",
       "    }\n",
       "\n",
       "    .dataframe thead th {\n",
       "        text-align: right;\n",
       "    }\n",
       "</style>\n",
       "<table border=\"1\" class=\"dataframe\">\n",
       "  <thead>\n",
       "    <tr style=\"text-align: right;\">\n",
       "      <th></th>\n",
       "      <th>District</th>\n",
       "      <th>Population</th>\n",
       "    </tr>\n",
       "  </thead>\n",
       "  <tbody>\n",
       "    <tr>\n",
       "      <th>0</th>\n",
       "      <td>Wan Chai</td>\n",
       "      <td>150900</td>\n",
       "    </tr>\n",
       "    <tr>\n",
       "      <th>1</th>\n",
       "      <td>North</td>\n",
       "      <td>310800</td>\n",
       "    </tr>\n",
       "    <tr>\n",
       "      <th>2</th>\n",
       "      <td>Sai Kung</td>\n",
       "      <td>448600</td>\n",
       "    </tr>\n",
       "    <tr>\n",
       "      <th>3</th>\n",
       "      <td>Sha Tin</td>\n",
       "      <td>648200</td>\n",
       "    </tr>\n",
       "  </tbody>\n",
       "</table>\n",
       "</div>\n",
       "    </div>\n",
       "<div style=\"float: left; padding: 10px;\">\n",
       "    <p>distr_concat3</p><div>\n",
       "<style scoped>\n",
       "    .dataframe tbody tr th:only-of-type {\n",
       "        vertical-align: middle;\n",
       "    }\n",
       "\n",
       "    .dataframe tbody tr th {\n",
       "        vertical-align: top;\n",
       "    }\n",
       "\n",
       "    .dataframe thead th {\n",
       "        text-align: right;\n",
       "    }\n",
       "</style>\n",
       "<table border=\"1\" class=\"dataframe\">\n",
       "  <thead>\n",
       "    <tr style=\"text-align: right;\">\n",
       "      <th></th>\n",
       "      <th>District</th>\n",
       "      <th>Area</th>\n",
       "      <th>Population</th>\n",
       "    </tr>\n",
       "  </thead>\n",
       "  <tbody>\n",
       "    <tr>\n",
       "      <th>0</th>\n",
       "      <td>Sai Kung</td>\n",
       "      <td>129.65</td>\n",
       "      <td>NaN</td>\n",
       "    </tr>\n",
       "    <tr>\n",
       "      <th>1</th>\n",
       "      <td>North</td>\n",
       "      <td>136.61</td>\n",
       "      <td>NaN</td>\n",
       "    </tr>\n",
       "    <tr>\n",
       "      <th>2</th>\n",
       "      <td>Wan Chai</td>\n",
       "      <td>9.83</td>\n",
       "      <td>NaN</td>\n",
       "    </tr>\n",
       "    <tr>\n",
       "      <th>3</th>\n",
       "      <td>Sha Tin</td>\n",
       "      <td>68.71</td>\n",
       "      <td>NaN</td>\n",
       "    </tr>\n",
       "    <tr>\n",
       "      <th>4</th>\n",
       "      <td>Wan Chai</td>\n",
       "      <td>NaN</td>\n",
       "      <td>150900.0</td>\n",
       "    </tr>\n",
       "    <tr>\n",
       "      <th>5</th>\n",
       "      <td>North</td>\n",
       "      <td>NaN</td>\n",
       "      <td>310800.0</td>\n",
       "    </tr>\n",
       "    <tr>\n",
       "      <th>6</th>\n",
       "      <td>Sai Kung</td>\n",
       "      <td>NaN</td>\n",
       "      <td>448600.0</td>\n",
       "    </tr>\n",
       "    <tr>\n",
       "      <th>7</th>\n",
       "      <td>Sha Tin</td>\n",
       "      <td>NaN</td>\n",
       "      <td>648200.0</td>\n",
       "    </tr>\n",
       "  </tbody>\n",
       "</table>\n",
       "</div>\n",
       "    </div>"
      ],
      "text/plain": [
       "distr_area_df1\n",
       "   District    Area\n",
       "0  Sai Kung  129.65\n",
       "1     North  136.61\n",
       "2  Wan Chai    9.83\n",
       "3   Sha Tin   68.71\n",
       "\n",
       "distr_pop_df1\n",
       "   District  Population\n",
       "0  Wan Chai      150900\n",
       "1     North      310800\n",
       "2  Sai Kung      448600\n",
       "3   Sha Tin      648200\n",
       "\n",
       "distr_concat3\n",
       "   District    Area  Population\n",
       "0  Sai Kung  129.65         NaN\n",
       "1     North  136.61         NaN\n",
       "2  Wan Chai    9.83         NaN\n",
       "3   Sha Tin   68.71         NaN\n",
       "4  Wan Chai     NaN    150900.0\n",
       "5     North     NaN    310800.0\n",
       "6  Sai Kung     NaN    448600.0\n",
       "7   Sha Tin     NaN    648200.0"
      ]
     },
     "execution_count": 34,
     "metadata": {
      "tags": []
     },
     "output_type": "execute_result"
    }
   ],
   "source": [
    "distr_concat3 = pd.concat([distr_area_df1, distr_pop_df1], sort=False, ignore_index=True)\n",
    "display('distr_area_df1', 'distr_pop_df1', 'distr_concat3')"
   ]
  },
  {
   "cell_type": "markdown",
   "metadata": {
    "colab_type": "text",
    "id": "cnvARBnadGZW"
   },
   "source": [
    "Instead of keeping the union of indices on the non-concatenation axis, the concentenation can be instructed to keep the intersection only:"
   ]
  },
  {
   "cell_type": "code",
   "execution_count": 0,
   "metadata": {
    "colab": {},
    "colab_type": "code",
    "id": "7A799rDxdGZX",
    "outputId": "c67f8a5e-08c6-4a06-f847-7a544f1ccfd7"
   },
   "outputs": [
    {
     "data": {
      "text/html": [
       "<div style=\"float: left; padding: 10px;\">\n",
       "    <p>distr_area_df1</p><div>\n",
       "<style scoped>\n",
       "    .dataframe tbody tr th:only-of-type {\n",
       "        vertical-align: middle;\n",
       "    }\n",
       "\n",
       "    .dataframe tbody tr th {\n",
       "        vertical-align: top;\n",
       "    }\n",
       "\n",
       "    .dataframe thead th {\n",
       "        text-align: right;\n",
       "    }\n",
       "</style>\n",
       "<table border=\"1\" class=\"dataframe\">\n",
       "  <thead>\n",
       "    <tr style=\"text-align: right;\">\n",
       "      <th></th>\n",
       "      <th>District</th>\n",
       "      <th>Area</th>\n",
       "    </tr>\n",
       "  </thead>\n",
       "  <tbody>\n",
       "    <tr>\n",
       "      <th>0</th>\n",
       "      <td>Sai Kung</td>\n",
       "      <td>129.65</td>\n",
       "    </tr>\n",
       "    <tr>\n",
       "      <th>1</th>\n",
       "      <td>North</td>\n",
       "      <td>136.61</td>\n",
       "    </tr>\n",
       "    <tr>\n",
       "      <th>2</th>\n",
       "      <td>Wan Chai</td>\n",
       "      <td>9.83</td>\n",
       "    </tr>\n",
       "    <tr>\n",
       "      <th>3</th>\n",
       "      <td>Sha Tin</td>\n",
       "      <td>68.71</td>\n",
       "    </tr>\n",
       "  </tbody>\n",
       "</table>\n",
       "</div>\n",
       "    </div>\n",
       "<div style=\"float: left; padding: 10px;\">\n",
       "    <p>distr_pop_df1</p><div>\n",
       "<style scoped>\n",
       "    .dataframe tbody tr th:only-of-type {\n",
       "        vertical-align: middle;\n",
       "    }\n",
       "\n",
       "    .dataframe tbody tr th {\n",
       "        vertical-align: top;\n",
       "    }\n",
       "\n",
       "    .dataframe thead th {\n",
       "        text-align: right;\n",
       "    }\n",
       "</style>\n",
       "<table border=\"1\" class=\"dataframe\">\n",
       "  <thead>\n",
       "    <tr style=\"text-align: right;\">\n",
       "      <th></th>\n",
       "      <th>District</th>\n",
       "      <th>Population</th>\n",
       "    </tr>\n",
       "  </thead>\n",
       "  <tbody>\n",
       "    <tr>\n",
       "      <th>0</th>\n",
       "      <td>Wan Chai</td>\n",
       "      <td>150900</td>\n",
       "    </tr>\n",
       "    <tr>\n",
       "      <th>1</th>\n",
       "      <td>North</td>\n",
       "      <td>310800</td>\n",
       "    </tr>\n",
       "    <tr>\n",
       "      <th>2</th>\n",
       "      <td>Sai Kung</td>\n",
       "      <td>448600</td>\n",
       "    </tr>\n",
       "    <tr>\n",
       "      <th>3</th>\n",
       "      <td>Sha Tin</td>\n",
       "      <td>648200</td>\n",
       "    </tr>\n",
       "  </tbody>\n",
       "</table>\n",
       "</div>\n",
       "    </div>\n",
       "<div style=\"float: left; padding: 10px;\">\n",
       "    <p>distr_concat4</p><div>\n",
       "<style scoped>\n",
       "    .dataframe tbody tr th:only-of-type {\n",
       "        vertical-align: middle;\n",
       "    }\n",
       "\n",
       "    .dataframe tbody tr th {\n",
       "        vertical-align: top;\n",
       "    }\n",
       "\n",
       "    .dataframe thead th {\n",
       "        text-align: right;\n",
       "    }\n",
       "</style>\n",
       "<table border=\"1\" class=\"dataframe\">\n",
       "  <thead>\n",
       "    <tr style=\"text-align: right;\">\n",
       "      <th></th>\n",
       "      <th>District</th>\n",
       "    </tr>\n",
       "  </thead>\n",
       "  <tbody>\n",
       "    <tr>\n",
       "      <th>0</th>\n",
       "      <td>Sai Kung</td>\n",
       "    </tr>\n",
       "    <tr>\n",
       "      <th>1</th>\n",
       "      <td>North</td>\n",
       "    </tr>\n",
       "    <tr>\n",
       "      <th>2</th>\n",
       "      <td>Wan Chai</td>\n",
       "    </tr>\n",
       "    <tr>\n",
       "      <th>3</th>\n",
       "      <td>Sha Tin</td>\n",
       "    </tr>\n",
       "    <tr>\n",
       "      <th>4</th>\n",
       "      <td>Wan Chai</td>\n",
       "    </tr>\n",
       "    <tr>\n",
       "      <th>5</th>\n",
       "      <td>North</td>\n",
       "    </tr>\n",
       "    <tr>\n",
       "      <th>6</th>\n",
       "      <td>Sai Kung</td>\n",
       "    </tr>\n",
       "    <tr>\n",
       "      <th>7</th>\n",
       "      <td>Sha Tin</td>\n",
       "    </tr>\n",
       "  </tbody>\n",
       "</table>\n",
       "</div>\n",
       "    </div>"
      ],
      "text/plain": [
       "distr_area_df1\n",
       "   District    Area\n",
       "0  Sai Kung  129.65\n",
       "1     North  136.61\n",
       "2  Wan Chai    9.83\n",
       "3   Sha Tin   68.71\n",
       "\n",
       "distr_pop_df1\n",
       "   District  Population\n",
       "0  Wan Chai      150900\n",
       "1     North      310800\n",
       "2  Sai Kung      448600\n",
       "3   Sha Tin      648200\n",
       "\n",
       "distr_concat4\n",
       "   District\n",
       "0  Sai Kung\n",
       "1     North\n",
       "2  Wan Chai\n",
       "3   Sha Tin\n",
       "4  Wan Chai\n",
       "5     North\n",
       "6  Sai Kung\n",
       "7   Sha Tin"
      ]
     },
     "execution_count": 35,
     "metadata": {
      "tags": []
     },
     "output_type": "execute_result"
    }
   ],
   "source": [
    "distr_concat4 = pd.concat([distr_area_df1, distr_pop_df1], join='inner', ignore_index=True)\n",
    "display('distr_area_df1', 'distr_pop_df1', 'distr_concat4')"
   ]
  },
  {
   "cell_type": "markdown",
   "metadata": {
    "colab_type": "text",
    "id": "vxdI6UuqdGZa"
   },
   "source": [
    "\n",
    "\n",
    "- The ***column-wise*** concatenation can be indicated by passing in `axis=1`:"
   ]
  },
  {
   "cell_type": "code",
   "execution_count": 0,
   "metadata": {
    "colab": {},
    "colab_type": "code",
    "id": "mnyJ1K00dGZd",
    "outputId": "a42edb75-c6bf-4731-9de5-e5f59d316dbc",
    "scrolled": false
   },
   "outputs": [
    {
     "data": {
      "text/html": [
       "<div style=\"float: left; padding: 10px;\">\n",
       "    <p>distr_area_df2</p><div>\n",
       "<style scoped>\n",
       "    .dataframe tbody tr th:only-of-type {\n",
       "        vertical-align: middle;\n",
       "    }\n",
       "\n",
       "    .dataframe tbody tr th {\n",
       "        vertical-align: top;\n",
       "    }\n",
       "\n",
       "    .dataframe thead th {\n",
       "        text-align: right;\n",
       "    }\n",
       "</style>\n",
       "<table border=\"1\" class=\"dataframe\">\n",
       "  <thead>\n",
       "    <tr style=\"text-align: right;\">\n",
       "      <th></th>\n",
       "      <th>Area</th>\n",
       "      <th>District</th>\n",
       "    </tr>\n",
       "  </thead>\n",
       "  <tbody>\n",
       "    <tr>\n",
       "      <th>0</th>\n",
       "      <td>175.12</td>\n",
       "      <td>Islands</td>\n",
       "    </tr>\n",
       "    <tr>\n",
       "      <th>1</th>\n",
       "      <td>136.15</td>\n",
       "      <td>Tai Po</td>\n",
       "    </tr>\n",
       "    <tr>\n",
       "      <th>2</th>\n",
       "      <td>9.83</td>\n",
       "      <td>Wan Chai</td>\n",
       "    </tr>\n",
       "  </tbody>\n",
       "</table>\n",
       "</div>\n",
       "    </div>\n",
       "<div style=\"float: left; padding: 10px;\">\n",
       "    <p>distr_pop_df1</p><div>\n",
       "<style scoped>\n",
       "    .dataframe tbody tr th:only-of-type {\n",
       "        vertical-align: middle;\n",
       "    }\n",
       "\n",
       "    .dataframe tbody tr th {\n",
       "        vertical-align: top;\n",
       "    }\n",
       "\n",
       "    .dataframe thead th {\n",
       "        text-align: right;\n",
       "    }\n",
       "</style>\n",
       "<table border=\"1\" class=\"dataframe\">\n",
       "  <thead>\n",
       "    <tr style=\"text-align: right;\">\n",
       "      <th></th>\n",
       "      <th>District</th>\n",
       "      <th>Population</th>\n",
       "    </tr>\n",
       "  </thead>\n",
       "  <tbody>\n",
       "    <tr>\n",
       "      <th>0</th>\n",
       "      <td>Wan Chai</td>\n",
       "      <td>150900</td>\n",
       "    </tr>\n",
       "    <tr>\n",
       "      <th>1</th>\n",
       "      <td>North</td>\n",
       "      <td>310800</td>\n",
       "    </tr>\n",
       "    <tr>\n",
       "      <th>2</th>\n",
       "      <td>Sai Kung</td>\n",
       "      <td>448600</td>\n",
       "    </tr>\n",
       "    <tr>\n",
       "      <th>3</th>\n",
       "      <td>Sha Tin</td>\n",
       "      <td>648200</td>\n",
       "    </tr>\n",
       "  </tbody>\n",
       "</table>\n",
       "</div>\n",
       "    </div>\n",
       "<div style=\"float: left; padding: 10px;\">\n",
       "    <p>distr_concat5</p><div>\n",
       "<style scoped>\n",
       "    .dataframe tbody tr th:only-of-type {\n",
       "        vertical-align: middle;\n",
       "    }\n",
       "\n",
       "    .dataframe tbody tr th {\n",
       "        vertical-align: top;\n",
       "    }\n",
       "\n",
       "    .dataframe thead th {\n",
       "        text-align: right;\n",
       "    }\n",
       "</style>\n",
       "<table border=\"1\" class=\"dataframe\">\n",
       "  <thead>\n",
       "    <tr style=\"text-align: right;\">\n",
       "      <th></th>\n",
       "      <th>Area</th>\n",
       "      <th>District</th>\n",
       "      <th>District</th>\n",
       "      <th>Population</th>\n",
       "    </tr>\n",
       "  </thead>\n",
       "  <tbody>\n",
       "    <tr>\n",
       "      <th>0</th>\n",
       "      <td>175.12</td>\n",
       "      <td>Islands</td>\n",
       "      <td>Wan Chai</td>\n",
       "      <td>150900</td>\n",
       "    </tr>\n",
       "    <tr>\n",
       "      <th>1</th>\n",
       "      <td>136.15</td>\n",
       "      <td>Tai Po</td>\n",
       "      <td>North</td>\n",
       "      <td>310800</td>\n",
       "    </tr>\n",
       "    <tr>\n",
       "      <th>2</th>\n",
       "      <td>9.83</td>\n",
       "      <td>Wan Chai</td>\n",
       "      <td>Sai Kung</td>\n",
       "      <td>448600</td>\n",
       "    </tr>\n",
       "  </tbody>\n",
       "</table>\n",
       "</div>\n",
       "    </div>"
      ],
      "text/plain": [
       "distr_area_df2\n",
       "     Area  District\n",
       "0  175.12   Islands\n",
       "1  136.15    Tai Po\n",
       "2    9.83  Wan Chai\n",
       "\n",
       "distr_pop_df1\n",
       "   District  Population\n",
       "0  Wan Chai      150900\n",
       "1     North      310800\n",
       "2  Sai Kung      448600\n",
       "3   Sha Tin      648200\n",
       "\n",
       "distr_concat5\n",
       "     Area  District  District  Population\n",
       "0  175.12   Islands  Wan Chai      150900\n",
       "1  136.15    Tai Po     North      310800\n",
       "2    9.83  Wan Chai  Sai Kung      448600"
      ]
     },
     "execution_count": 36,
     "metadata": {
      "tags": []
     },
     "output_type": "execute_result"
    }
   ],
   "source": [
    "distr_concat5 = pd.concat([distr_area_df2, distr_pop_df1], axis=1, join='inner')\n",
    "display('distr_area_df2', 'distr_pop_df1', 'distr_concat5')"
   ]
  },
  {
   "cell_type": "markdown",
   "metadata": {
    "colab_type": "text",
    "id": "RH1AZqOSdGZe"
   },
   "source": [
    "\n",
    "---\n",
    "\n",
    "### 2.5.2 Merging Data  (Optional)"
   ]
  },
  {
   "cell_type": "markdown",
   "metadata": {
    "colab_type": "text",
    "id": "1Y57zdQqdGZf"
   },
   "source": [
    "Database-style joins and merges can be done via the [`pd.merge()`](https://pandas.pydata.org/pandas-docs/stable/reference/api/pandas.merge.html) function:"
   ]
  },
  {
   "cell_type": "code",
   "execution_count": 0,
   "metadata": {
    "colab": {},
    "colab_type": "code",
    "id": "opqfGDSidGZf",
    "outputId": "c227860a-28f5-44b6-a2ce-2633ab4d501e"
   },
   "outputs": [
    {
     "data": {
      "text/plain": [
       "<Signature (left, right, how='inner', on=None, left_on=None, right_on=None, left_index=False, right_index=False, sort=False, suffixes=('_x', '_y'), copy=True, indicator=False, validate=None)>"
      ]
     },
     "execution_count": 182,
     "metadata": {
      "tags": []
     },
     "output_type": "execute_result"
    }
   ],
   "source": [
    "inspect.signature(pd.merge)"
   ]
  },
  {
   "cell_type": "code",
   "execution_count": 0,
   "metadata": {
    "colab": {},
    "colab_type": "code",
    "id": "pmcZp32cdGZh",
    "outputId": "8ad1fa68-723f-4f58-c701-afe1bac224de"
   },
   "outputs": [
    {
     "data": {
      "text/html": [
       "<div style=\"float: left; padding: 10px;\">\n",
       "    <p>distr_area_df1</p><div>\n",
       "<style scoped>\n",
       "    .dataframe tbody tr th:only-of-type {\n",
       "        vertical-align: middle;\n",
       "    }\n",
       "\n",
       "    .dataframe tbody tr th {\n",
       "        vertical-align: top;\n",
       "    }\n",
       "\n",
       "    .dataframe thead th {\n",
       "        text-align: right;\n",
       "    }\n",
       "</style>\n",
       "<table border=\"1\" class=\"dataframe\">\n",
       "  <thead>\n",
       "    <tr style=\"text-align: right;\">\n",
       "      <th></th>\n",
       "      <th>District</th>\n",
       "      <th>Area</th>\n",
       "    </tr>\n",
       "  </thead>\n",
       "  <tbody>\n",
       "    <tr>\n",
       "      <th>0</th>\n",
       "      <td>Sai Kung</td>\n",
       "      <td>129.65</td>\n",
       "    </tr>\n",
       "    <tr>\n",
       "      <th>1</th>\n",
       "      <td>North</td>\n",
       "      <td>136.61</td>\n",
       "    </tr>\n",
       "    <tr>\n",
       "      <th>2</th>\n",
       "      <td>Wan Chai</td>\n",
       "      <td>9.83</td>\n",
       "    </tr>\n",
       "    <tr>\n",
       "      <th>3</th>\n",
       "      <td>Sha Tin</td>\n",
       "      <td>68.71</td>\n",
       "    </tr>\n",
       "  </tbody>\n",
       "</table>\n",
       "</div>\n",
       "    </div>\n",
       "<div style=\"float: left; padding: 10px;\">\n",
       "    <p>distr_pop_df1</p><div>\n",
       "<style scoped>\n",
       "    .dataframe tbody tr th:only-of-type {\n",
       "        vertical-align: middle;\n",
       "    }\n",
       "\n",
       "    .dataframe tbody tr th {\n",
       "        vertical-align: top;\n",
       "    }\n",
       "\n",
       "    .dataframe thead th {\n",
       "        text-align: right;\n",
       "    }\n",
       "</style>\n",
       "<table border=\"1\" class=\"dataframe\">\n",
       "  <thead>\n",
       "    <tr style=\"text-align: right;\">\n",
       "      <th></th>\n",
       "      <th>District</th>\n",
       "      <th>Population</th>\n",
       "    </tr>\n",
       "  </thead>\n",
       "  <tbody>\n",
       "    <tr>\n",
       "      <th>0</th>\n",
       "      <td>Wan Chai</td>\n",
       "      <td>150900</td>\n",
       "    </tr>\n",
       "    <tr>\n",
       "      <th>1</th>\n",
       "      <td>North</td>\n",
       "      <td>310800</td>\n",
       "    </tr>\n",
       "    <tr>\n",
       "      <th>2</th>\n",
       "      <td>Sai Kung</td>\n",
       "      <td>448600</td>\n",
       "    </tr>\n",
       "    <tr>\n",
       "      <th>3</th>\n",
       "      <td>Sha Tin</td>\n",
       "      <td>648200</td>\n",
       "    </tr>\n",
       "  </tbody>\n",
       "</table>\n",
       "</div>\n",
       "    </div>"
      ],
      "text/plain": [
       "distr_area_df1\n",
       "   District    Area\n",
       "0  Sai Kung  129.65\n",
       "1     North  136.61\n",
       "2  Wan Chai    9.83\n",
       "3   Sha Tin   68.71\n",
       "\n",
       "distr_pop_df1\n",
       "   District  Population\n",
       "0  Wan Chai      150900\n",
       "1     North      310800\n",
       "2  Sai Kung      448600\n",
       "3   Sha Tin      648200"
      ]
     },
     "execution_count": 37,
     "metadata": {
      "tags": []
     },
     "output_type": "execute_result"
    }
   ],
   "source": [
    "display('distr_area_df1', 'distr_pop_df1')"
   ]
  },
  {
   "cell_type": "markdown",
   "metadata": {
    "colab_type": "text",
    "id": "1t2nos0wdGZi"
   },
   "source": [
    "Recognizing the common column `District`, `pd.merge()` joins the two `DataFrame`s into one by using values in this column as join keys:"
   ]
  },
  {
   "cell_type": "code",
   "execution_count": 0,
   "metadata": {
    "colab": {},
    "colab_type": "code",
    "id": "jK-uz6UPdGZj",
    "outputId": "047cbc0d-2c6e-43a6-979e-3f83d0e72f3f"
   },
   "outputs": [
    {
     "data": {
      "text/html": [
       "<div style=\"float: left; padding: 10px;\">\n",
       "    <p>distr_pop_df1</p><div>\n",
       "<style scoped>\n",
       "    .dataframe tbody tr th:only-of-type {\n",
       "        vertical-align: middle;\n",
       "    }\n",
       "\n",
       "    .dataframe tbody tr th {\n",
       "        vertical-align: top;\n",
       "    }\n",
       "\n",
       "    .dataframe thead th {\n",
       "        text-align: right;\n",
       "    }\n",
       "</style>\n",
       "<table border=\"1\" class=\"dataframe\">\n",
       "  <thead>\n",
       "    <tr style=\"text-align: right;\">\n",
       "      <th></th>\n",
       "      <th>District</th>\n",
       "      <th>Population</th>\n",
       "    </tr>\n",
       "  </thead>\n",
       "  <tbody>\n",
       "    <tr>\n",
       "      <th>0</th>\n",
       "      <td>Wan Chai</td>\n",
       "      <td>150900</td>\n",
       "    </tr>\n",
       "    <tr>\n",
       "      <th>1</th>\n",
       "      <td>North</td>\n",
       "      <td>310800</td>\n",
       "    </tr>\n",
       "    <tr>\n",
       "      <th>2</th>\n",
       "      <td>Sai Kung</td>\n",
       "      <td>448600</td>\n",
       "    </tr>\n",
       "    <tr>\n",
       "      <th>3</th>\n",
       "      <td>Sha Tin</td>\n",
       "      <td>648200</td>\n",
       "    </tr>\n",
       "  </tbody>\n",
       "</table>\n",
       "</div>\n",
       "    </div>\n",
       "<div style=\"float: left; padding: 10px;\">\n",
       "    <p>distr_area_df1</p><div>\n",
       "<style scoped>\n",
       "    .dataframe tbody tr th:only-of-type {\n",
       "        vertical-align: middle;\n",
       "    }\n",
       "\n",
       "    .dataframe tbody tr th {\n",
       "        vertical-align: top;\n",
       "    }\n",
       "\n",
       "    .dataframe thead th {\n",
       "        text-align: right;\n",
       "    }\n",
       "</style>\n",
       "<table border=\"1\" class=\"dataframe\">\n",
       "  <thead>\n",
       "    <tr style=\"text-align: right;\">\n",
       "      <th></th>\n",
       "      <th>District</th>\n",
       "      <th>Area</th>\n",
       "    </tr>\n",
       "  </thead>\n",
       "  <tbody>\n",
       "    <tr>\n",
       "      <th>0</th>\n",
       "      <td>Sai Kung</td>\n",
       "      <td>129.65</td>\n",
       "    </tr>\n",
       "    <tr>\n",
       "      <th>1</th>\n",
       "      <td>North</td>\n",
       "      <td>136.61</td>\n",
       "    </tr>\n",
       "    <tr>\n",
       "      <th>2</th>\n",
       "      <td>Wan Chai</td>\n",
       "      <td>9.83</td>\n",
       "    </tr>\n",
       "    <tr>\n",
       "      <th>3</th>\n",
       "      <td>Sha Tin</td>\n",
       "      <td>68.71</td>\n",
       "    </tr>\n",
       "  </tbody>\n",
       "</table>\n",
       "</div>\n",
       "    </div>\n",
       "<div style=\"float: left; padding: 10px;\">\n",
       "    <p>distr_merge1</p><div>\n",
       "<style scoped>\n",
       "    .dataframe tbody tr th:only-of-type {\n",
       "        vertical-align: middle;\n",
       "    }\n",
       "\n",
       "    .dataframe tbody tr th {\n",
       "        vertical-align: top;\n",
       "    }\n",
       "\n",
       "    .dataframe thead th {\n",
       "        text-align: right;\n",
       "    }\n",
       "</style>\n",
       "<table border=\"1\" class=\"dataframe\">\n",
       "  <thead>\n",
       "    <tr style=\"text-align: right;\">\n",
       "      <th></th>\n",
       "      <th>District</th>\n",
       "      <th>Population</th>\n",
       "      <th>Area</th>\n",
       "    </tr>\n",
       "  </thead>\n",
       "  <tbody>\n",
       "    <tr>\n",
       "      <th>0</th>\n",
       "      <td>Wan Chai</td>\n",
       "      <td>150900</td>\n",
       "      <td>9.83</td>\n",
       "    </tr>\n",
       "    <tr>\n",
       "      <th>1</th>\n",
       "      <td>North</td>\n",
       "      <td>310800</td>\n",
       "      <td>136.61</td>\n",
       "    </tr>\n",
       "    <tr>\n",
       "      <th>2</th>\n",
       "      <td>Sai Kung</td>\n",
       "      <td>448600</td>\n",
       "      <td>129.65</td>\n",
       "    </tr>\n",
       "    <tr>\n",
       "      <th>3</th>\n",
       "      <td>Sha Tin</td>\n",
       "      <td>648200</td>\n",
       "      <td>68.71</td>\n",
       "    </tr>\n",
       "  </tbody>\n",
       "</table>\n",
       "</div>\n",
       "    </div>"
      ],
      "text/plain": [
       "distr_pop_df1\n",
       "   District  Population\n",
       "0  Wan Chai      150900\n",
       "1     North      310800\n",
       "2  Sai Kung      448600\n",
       "3   Sha Tin      648200\n",
       "\n",
       "distr_area_df1\n",
       "   District    Area\n",
       "0  Sai Kung  129.65\n",
       "1     North  136.61\n",
       "2  Wan Chai    9.83\n",
       "3   Sha Tin   68.71\n",
       "\n",
       "distr_merge1\n",
       "   District  Population    Area\n",
       "0  Wan Chai      150900    9.83\n",
       "1     North      310800  136.61\n",
       "2  Sai Kung      448600  129.65\n",
       "3   Sha Tin      648200   68.71"
      ]
     },
     "execution_count": 38,
     "metadata": {
      "tags": []
     },
     "output_type": "execute_result"
    }
   ],
   "source": [
    "distr_merge1 = pd.merge(distr_pop_df1, distr_area_df1)\n",
    "display('distr_pop_df1', 'distr_area_df1', 'distr_merge1')"
   ]
  },
  {
   "cell_type": "code",
   "execution_count": 0,
   "metadata": {
    "colab": {},
    "colab_type": "code",
    "id": "P8aARqJSdGZk",
    "outputId": "09988835-aced-4bfd-b084-3125019f9869"
   },
   "outputs": [
    {
     "data": {
      "text/html": [
       "<div style=\"float: left; padding: 10px;\">\n",
       "    <p>distr_pop_df1</p><div>\n",
       "<style scoped>\n",
       "    .dataframe tbody tr th:only-of-type {\n",
       "        vertical-align: middle;\n",
       "    }\n",
       "\n",
       "    .dataframe tbody tr th {\n",
       "        vertical-align: top;\n",
       "    }\n",
       "\n",
       "    .dataframe thead th {\n",
       "        text-align: right;\n",
       "    }\n",
       "</style>\n",
       "<table border=\"1\" class=\"dataframe\">\n",
       "  <thead>\n",
       "    <tr style=\"text-align: right;\">\n",
       "      <th></th>\n",
       "      <th>District</th>\n",
       "      <th>Population</th>\n",
       "    </tr>\n",
       "  </thead>\n",
       "  <tbody>\n",
       "    <tr>\n",
       "      <th>0</th>\n",
       "      <td>Wan Chai</td>\n",
       "      <td>150900</td>\n",
       "    </tr>\n",
       "    <tr>\n",
       "      <th>1</th>\n",
       "      <td>North</td>\n",
       "      <td>310800</td>\n",
       "    </tr>\n",
       "    <tr>\n",
       "      <th>2</th>\n",
       "      <td>Sai Kung</td>\n",
       "      <td>448600</td>\n",
       "    </tr>\n",
       "    <tr>\n",
       "      <th>3</th>\n",
       "      <td>Sha Tin</td>\n",
       "      <td>648200</td>\n",
       "    </tr>\n",
       "  </tbody>\n",
       "</table>\n",
       "</div>\n",
       "    </div>\n",
       "<div style=\"float: left; padding: 10px;\">\n",
       "    <p>distr_area_df2</p><div>\n",
       "<style scoped>\n",
       "    .dataframe tbody tr th:only-of-type {\n",
       "        vertical-align: middle;\n",
       "    }\n",
       "\n",
       "    .dataframe tbody tr th {\n",
       "        vertical-align: top;\n",
       "    }\n",
       "\n",
       "    .dataframe thead th {\n",
       "        text-align: right;\n",
       "    }\n",
       "</style>\n",
       "<table border=\"1\" class=\"dataframe\">\n",
       "  <thead>\n",
       "    <tr style=\"text-align: right;\">\n",
       "      <th></th>\n",
       "      <th>Area</th>\n",
       "      <th>District</th>\n",
       "    </tr>\n",
       "  </thead>\n",
       "  <tbody>\n",
       "    <tr>\n",
       "      <th>0</th>\n",
       "      <td>175.12</td>\n",
       "      <td>Islands</td>\n",
       "    </tr>\n",
       "    <tr>\n",
       "      <th>1</th>\n",
       "      <td>136.15</td>\n",
       "      <td>Tai Po</td>\n",
       "    </tr>\n",
       "    <tr>\n",
       "      <th>2</th>\n",
       "      <td>9.83</td>\n",
       "      <td>Wan Chai</td>\n",
       "    </tr>\n",
       "  </tbody>\n",
       "</table>\n",
       "</div>\n",
       "    </div>\n",
       "<div style=\"float: left; padding: 10px;\">\n",
       "    <p>distr_merge2</p><div>\n",
       "<style scoped>\n",
       "    .dataframe tbody tr th:only-of-type {\n",
       "        vertical-align: middle;\n",
       "    }\n",
       "\n",
       "    .dataframe tbody tr th {\n",
       "        vertical-align: top;\n",
       "    }\n",
       "\n",
       "    .dataframe thead th {\n",
       "        text-align: right;\n",
       "    }\n",
       "</style>\n",
       "<table border=\"1\" class=\"dataframe\">\n",
       "  <thead>\n",
       "    <tr style=\"text-align: right;\">\n",
       "      <th></th>\n",
       "      <th>District</th>\n",
       "      <th>Population</th>\n",
       "      <th>Area</th>\n",
       "    </tr>\n",
       "  </thead>\n",
       "  <tbody>\n",
       "    <tr>\n",
       "      <th>0</th>\n",
       "      <td>Wan Chai</td>\n",
       "      <td>150900</td>\n",
       "      <td>9.83</td>\n",
       "    </tr>\n",
       "  </tbody>\n",
       "</table>\n",
       "</div>\n",
       "    </div>"
      ],
      "text/plain": [
       "distr_pop_df1\n",
       "   District  Population\n",
       "0  Wan Chai      150900\n",
       "1     North      310800\n",
       "2  Sai Kung      448600\n",
       "3   Sha Tin      648200\n",
       "\n",
       "distr_area_df2\n",
       "     Area  District\n",
       "0  175.12   Islands\n",
       "1  136.15    Tai Po\n",
       "2    9.83  Wan Chai\n",
       "\n",
       "distr_merge2\n",
       "   District  Population  Area\n",
       "0  Wan Chai      150900  9.83"
      ]
     },
     "execution_count": 39,
     "metadata": {
      "tags": []
     },
     "output_type": "execute_result"
    }
   ],
   "source": [
    "distr_merge2 = pd.merge(distr_pop_df1, distr_area_df2)\n",
    "display('distr_pop_df1', 'distr_area_df2', 'distr_merge2')"
   ]
  },
  {
   "cell_type": "markdown",
   "metadata": {
    "colab_type": "text",
    "id": "0GhD6AJ-dGZl"
   },
   "source": [
    "By default, `pd.merge()` uses the intersection of keys from both `DataFrame`s. We can pass in `how='outer'` to use the union of keys:"
   ]
  },
  {
   "cell_type": "code",
   "execution_count": 0,
   "metadata": {
    "colab": {},
    "colab_type": "code",
    "id": "SsefhHxpdGZl",
    "outputId": "84e638c0-5406-490c-fb5f-c57f1c062aea"
   },
   "outputs": [
    {
     "data": {
      "text/html": [
       "<div style=\"float: left; padding: 10px;\">\n",
       "    <p>distr_pop_df1</p><div>\n",
       "<style scoped>\n",
       "    .dataframe tbody tr th:only-of-type {\n",
       "        vertical-align: middle;\n",
       "    }\n",
       "\n",
       "    .dataframe tbody tr th {\n",
       "        vertical-align: top;\n",
       "    }\n",
       "\n",
       "    .dataframe thead th {\n",
       "        text-align: right;\n",
       "    }\n",
       "</style>\n",
       "<table border=\"1\" class=\"dataframe\">\n",
       "  <thead>\n",
       "    <tr style=\"text-align: right;\">\n",
       "      <th></th>\n",
       "      <th>District</th>\n",
       "      <th>Population</th>\n",
       "    </tr>\n",
       "  </thead>\n",
       "  <tbody>\n",
       "    <tr>\n",
       "      <th>0</th>\n",
       "      <td>Wan Chai</td>\n",
       "      <td>150900</td>\n",
       "    </tr>\n",
       "    <tr>\n",
       "      <th>1</th>\n",
       "      <td>North</td>\n",
       "      <td>310800</td>\n",
       "    </tr>\n",
       "    <tr>\n",
       "      <th>2</th>\n",
       "      <td>Sai Kung</td>\n",
       "      <td>448600</td>\n",
       "    </tr>\n",
       "    <tr>\n",
       "      <th>3</th>\n",
       "      <td>Sha Tin</td>\n",
       "      <td>648200</td>\n",
       "    </tr>\n",
       "  </tbody>\n",
       "</table>\n",
       "</div>\n",
       "    </div>\n",
       "<div style=\"float: left; padding: 10px;\">\n",
       "    <p>distr_area_df2</p><div>\n",
       "<style scoped>\n",
       "    .dataframe tbody tr th:only-of-type {\n",
       "        vertical-align: middle;\n",
       "    }\n",
       "\n",
       "    .dataframe tbody tr th {\n",
       "        vertical-align: top;\n",
       "    }\n",
       "\n",
       "    .dataframe thead th {\n",
       "        text-align: right;\n",
       "    }\n",
       "</style>\n",
       "<table border=\"1\" class=\"dataframe\">\n",
       "  <thead>\n",
       "    <tr style=\"text-align: right;\">\n",
       "      <th></th>\n",
       "      <th>Area</th>\n",
       "      <th>District</th>\n",
       "    </tr>\n",
       "  </thead>\n",
       "  <tbody>\n",
       "    <tr>\n",
       "      <th>0</th>\n",
       "      <td>175.12</td>\n",
       "      <td>Islands</td>\n",
       "    </tr>\n",
       "    <tr>\n",
       "      <th>1</th>\n",
       "      <td>136.15</td>\n",
       "      <td>Tai Po</td>\n",
       "    </tr>\n",
       "    <tr>\n",
       "      <th>2</th>\n",
       "      <td>9.83</td>\n",
       "      <td>Wan Chai</td>\n",
       "    </tr>\n",
       "  </tbody>\n",
       "</table>\n",
       "</div>\n",
       "    </div>\n",
       "<div style=\"float: left; padding: 10px;\">\n",
       "    <p>distr_merge3</p><div>\n",
       "<style scoped>\n",
       "    .dataframe tbody tr th:only-of-type {\n",
       "        vertical-align: middle;\n",
       "    }\n",
       "\n",
       "    .dataframe tbody tr th {\n",
       "        vertical-align: top;\n",
       "    }\n",
       "\n",
       "    .dataframe thead th {\n",
       "        text-align: right;\n",
       "    }\n",
       "</style>\n",
       "<table border=\"1\" class=\"dataframe\">\n",
       "  <thead>\n",
       "    <tr style=\"text-align: right;\">\n",
       "      <th></th>\n",
       "      <th>District</th>\n",
       "      <th>Population</th>\n",
       "      <th>Area</th>\n",
       "    </tr>\n",
       "  </thead>\n",
       "  <tbody>\n",
       "    <tr>\n",
       "      <th>0</th>\n",
       "      <td>Wan Chai</td>\n",
       "      <td>150900.0</td>\n",
       "      <td>9.83</td>\n",
       "    </tr>\n",
       "    <tr>\n",
       "      <th>1</th>\n",
       "      <td>North</td>\n",
       "      <td>310800.0</td>\n",
       "      <td>NaN</td>\n",
       "    </tr>\n",
       "    <tr>\n",
       "      <th>2</th>\n",
       "      <td>Sai Kung</td>\n",
       "      <td>448600.0</td>\n",
       "      <td>NaN</td>\n",
       "    </tr>\n",
       "    <tr>\n",
       "      <th>3</th>\n",
       "      <td>Sha Tin</td>\n",
       "      <td>648200.0</td>\n",
       "      <td>NaN</td>\n",
       "    </tr>\n",
       "    <tr>\n",
       "      <th>4</th>\n",
       "      <td>Islands</td>\n",
       "      <td>NaN</td>\n",
       "      <td>175.12</td>\n",
       "    </tr>\n",
       "    <tr>\n",
       "      <th>5</th>\n",
       "      <td>Tai Po</td>\n",
       "      <td>NaN</td>\n",
       "      <td>136.15</td>\n",
       "    </tr>\n",
       "  </tbody>\n",
       "</table>\n",
       "</div>\n",
       "    </div>"
      ],
      "text/plain": [
       "distr_pop_df1\n",
       "   District  Population\n",
       "0  Wan Chai      150900\n",
       "1     North      310800\n",
       "2  Sai Kung      448600\n",
       "3   Sha Tin      648200\n",
       "\n",
       "distr_area_df2\n",
       "     Area  District\n",
       "0  175.12   Islands\n",
       "1  136.15    Tai Po\n",
       "2    9.83  Wan Chai\n",
       "\n",
       "distr_merge3\n",
       "   District  Population    Area\n",
       "0  Wan Chai    150900.0    9.83\n",
       "1     North    310800.0     NaN\n",
       "2  Sai Kung    448600.0     NaN\n",
       "3   Sha Tin    648200.0     NaN\n",
       "4   Islands         NaN  175.12\n",
       "5    Tai Po         NaN  136.15"
      ]
     },
     "execution_count": 40,
     "metadata": {
      "tags": []
     },
     "output_type": "execute_result"
    }
   ],
   "source": [
    "distr_merge3 = pd.merge(distr_pop_df1, distr_area_df2, how='outer')\n",
    "display('distr_pop_df1', 'distr_area_df2', 'distr_merge3')"
   ]
  },
  {
   "cell_type": "markdown",
   "metadata": {
    "colab_type": "text",
    "id": "j0QLPPqhdGZn"
   },
   "source": [
    "or pass in `how='left'` (`how='right'`)  to use only keys from the left (right) `DataFrame`:"
   ]
  },
  {
   "cell_type": "code",
   "execution_count": 0,
   "metadata": {
    "colab": {},
    "colab_type": "code",
    "id": "ypiCZFHhdGZn",
    "outputId": "53d65a78-b974-4fc0-aee0-45e01701c893"
   },
   "outputs": [
    {
     "data": {
      "text/html": [
       "<div style=\"float: left; padding: 10px;\">\n",
       "    <p>distr_pop_df1</p><div>\n",
       "<style scoped>\n",
       "    .dataframe tbody tr th:only-of-type {\n",
       "        vertical-align: middle;\n",
       "    }\n",
       "\n",
       "    .dataframe tbody tr th {\n",
       "        vertical-align: top;\n",
       "    }\n",
       "\n",
       "    .dataframe thead th {\n",
       "        text-align: right;\n",
       "    }\n",
       "</style>\n",
       "<table border=\"1\" class=\"dataframe\">\n",
       "  <thead>\n",
       "    <tr style=\"text-align: right;\">\n",
       "      <th></th>\n",
       "      <th>District</th>\n",
       "      <th>Population</th>\n",
       "    </tr>\n",
       "  </thead>\n",
       "  <tbody>\n",
       "    <tr>\n",
       "      <th>0</th>\n",
       "      <td>Wan Chai</td>\n",
       "      <td>150900</td>\n",
       "    </tr>\n",
       "    <tr>\n",
       "      <th>1</th>\n",
       "      <td>North</td>\n",
       "      <td>310800</td>\n",
       "    </tr>\n",
       "    <tr>\n",
       "      <th>2</th>\n",
       "      <td>Sai Kung</td>\n",
       "      <td>448600</td>\n",
       "    </tr>\n",
       "    <tr>\n",
       "      <th>3</th>\n",
       "      <td>Sha Tin</td>\n",
       "      <td>648200</td>\n",
       "    </tr>\n",
       "  </tbody>\n",
       "</table>\n",
       "</div>\n",
       "    </div>\n",
       "<div style=\"float: left; padding: 10px;\">\n",
       "    <p>distr_area_df2</p><div>\n",
       "<style scoped>\n",
       "    .dataframe tbody tr th:only-of-type {\n",
       "        vertical-align: middle;\n",
       "    }\n",
       "\n",
       "    .dataframe tbody tr th {\n",
       "        vertical-align: top;\n",
       "    }\n",
       "\n",
       "    .dataframe thead th {\n",
       "        text-align: right;\n",
       "    }\n",
       "</style>\n",
       "<table border=\"1\" class=\"dataframe\">\n",
       "  <thead>\n",
       "    <tr style=\"text-align: right;\">\n",
       "      <th></th>\n",
       "      <th>Area</th>\n",
       "      <th>District</th>\n",
       "    </tr>\n",
       "  </thead>\n",
       "  <tbody>\n",
       "    <tr>\n",
       "      <th>0</th>\n",
       "      <td>175.12</td>\n",
       "      <td>Islands</td>\n",
       "    </tr>\n",
       "    <tr>\n",
       "      <th>1</th>\n",
       "      <td>136.15</td>\n",
       "      <td>Tai Po</td>\n",
       "    </tr>\n",
       "    <tr>\n",
       "      <th>2</th>\n",
       "      <td>9.83</td>\n",
       "      <td>Wan Chai</td>\n",
       "    </tr>\n",
       "  </tbody>\n",
       "</table>\n",
       "</div>\n",
       "    </div>\n",
       "<div style=\"float: left; padding: 10px;\">\n",
       "    <p>distr_merge4</p><div>\n",
       "<style scoped>\n",
       "    .dataframe tbody tr th:only-of-type {\n",
       "        vertical-align: middle;\n",
       "    }\n",
       "\n",
       "    .dataframe tbody tr th {\n",
       "        vertical-align: top;\n",
       "    }\n",
       "\n",
       "    .dataframe thead th {\n",
       "        text-align: right;\n",
       "    }\n",
       "</style>\n",
       "<table border=\"1\" class=\"dataframe\">\n",
       "  <thead>\n",
       "    <tr style=\"text-align: right;\">\n",
       "      <th></th>\n",
       "      <th>District</th>\n",
       "      <th>Population</th>\n",
       "      <th>Area</th>\n",
       "    </tr>\n",
       "  </thead>\n",
       "  <tbody>\n",
       "    <tr>\n",
       "      <th>0</th>\n",
       "      <td>Wan Chai</td>\n",
       "      <td>150900</td>\n",
       "      <td>9.83</td>\n",
       "    </tr>\n",
       "    <tr>\n",
       "      <th>1</th>\n",
       "      <td>North</td>\n",
       "      <td>310800</td>\n",
       "      <td>NaN</td>\n",
       "    </tr>\n",
       "    <tr>\n",
       "      <th>2</th>\n",
       "      <td>Sai Kung</td>\n",
       "      <td>448600</td>\n",
       "      <td>NaN</td>\n",
       "    </tr>\n",
       "    <tr>\n",
       "      <th>3</th>\n",
       "      <td>Sha Tin</td>\n",
       "      <td>648200</td>\n",
       "      <td>NaN</td>\n",
       "    </tr>\n",
       "  </tbody>\n",
       "</table>\n",
       "</div>\n",
       "    </div>"
      ],
      "text/plain": [
       "distr_pop_df1\n",
       "   District  Population\n",
       "0  Wan Chai      150900\n",
       "1     North      310800\n",
       "2  Sai Kung      448600\n",
       "3   Sha Tin      648200\n",
       "\n",
       "distr_area_df2\n",
       "     Area  District\n",
       "0  175.12   Islands\n",
       "1  136.15    Tai Po\n",
       "2    9.83  Wan Chai\n",
       "\n",
       "distr_merge4\n",
       "   District  Population  Area\n",
       "0  Wan Chai      150900  9.83\n",
       "1     North      310800   NaN\n",
       "2  Sai Kung      448600   NaN\n",
       "3   Sha Tin      648200   NaN"
      ]
     },
     "execution_count": 41,
     "metadata": {
      "tags": []
     },
     "output_type": "execute_result"
    }
   ],
   "source": [
    "distr_merge4 = pd.merge(distr_pop_df1, distr_area_df2, how='left')  \n",
    "display('distr_pop_df1', 'distr_area_df2', 'distr_merge4')"
   ]
  },
  {
   "cell_type": "code",
   "execution_count": 0,
   "metadata": {
    "colab": {},
    "colab_type": "code",
    "id": "OTLIGry-dGZp",
    "outputId": "2c1c7e9b-8e67-4bff-c518-658ab751136e"
   },
   "outputs": [
    {
     "data": {
      "text/html": [
       "<div style=\"float: left; padding: 10px;\">\n",
       "    <p>distr_income_df</p><div>\n",
       "<style scoped>\n",
       "    .dataframe tbody tr th:only-of-type {\n",
       "        vertical-align: middle;\n",
       "    }\n",
       "\n",
       "    .dataframe tbody tr th {\n",
       "        vertical-align: top;\n",
       "    }\n",
       "\n",
       "    .dataframe thead th {\n",
       "        text-align: right;\n",
       "    }\n",
       "</style>\n",
       "<table border=\"1\" class=\"dataframe\">\n",
       "  <thead>\n",
       "    <tr style=\"text-align: right;\">\n",
       "      <th></th>\n",
       "      <th>Name</th>\n",
       "      <th>Income</th>\n",
       "      <th>Year</th>\n",
       "    </tr>\n",
       "  </thead>\n",
       "  <tbody>\n",
       "    <tr>\n",
       "      <th>0</th>\n",
       "      <td>Sai Kung</td>\n",
       "      <td>20000</td>\n",
       "      <td>2006</td>\n",
       "    </tr>\n",
       "    <tr>\n",
       "      <th>1</th>\n",
       "      <td>Wan Chai</td>\n",
       "      <td>25000</td>\n",
       "      <td>2006</td>\n",
       "    </tr>\n",
       "    <tr>\n",
       "      <th>2</th>\n",
       "      <td>Sai Kung</td>\n",
       "      <td>33500</td>\n",
       "      <td>2017</td>\n",
       "    </tr>\n",
       "    <tr>\n",
       "      <th>3</th>\n",
       "      <td>North</td>\n",
       "      <td>23300</td>\n",
       "      <td>2017</td>\n",
       "    </tr>\n",
       "    <tr>\n",
       "      <th>4</th>\n",
       "      <td>Tai Po</td>\n",
       "      <td>28000</td>\n",
       "      <td>2017</td>\n",
       "    </tr>\n",
       "  </tbody>\n",
       "</table>\n",
       "</div>\n",
       "    </div>\n",
       "<div style=\"float: left; padding: 10px;\">\n",
       "    <p>distr_pop_df2</p><div>\n",
       "<style scoped>\n",
       "    .dataframe tbody tr th:only-of-type {\n",
       "        vertical-align: middle;\n",
       "    }\n",
       "\n",
       "    .dataframe tbody tr th {\n",
       "        vertical-align: top;\n",
       "    }\n",
       "\n",
       "    .dataframe thead th {\n",
       "        text-align: right;\n",
       "    }\n",
       "</style>\n",
       "<table border=\"1\" class=\"dataframe\">\n",
       "  <thead>\n",
       "    <tr style=\"text-align: right;\">\n",
       "      <th></th>\n",
       "      <th>District</th>\n",
       "      <th>Population</th>\n",
       "      <th>Year</th>\n",
       "    </tr>\n",
       "  </thead>\n",
       "  <tbody>\n",
       "    <tr>\n",
       "      <th>0</th>\n",
       "      <td>North</td>\n",
       "      <td>310800</td>\n",
       "      <td>2006</td>\n",
       "    </tr>\n",
       "    <tr>\n",
       "      <th>1</th>\n",
       "      <td>Wan Chai</td>\n",
       "      <td>150900</td>\n",
       "      <td>2006</td>\n",
       "    </tr>\n",
       "    <tr>\n",
       "      <th>2</th>\n",
       "      <td>Sai Kung</td>\n",
       "      <td>448600</td>\n",
       "      <td>2006</td>\n",
       "    </tr>\n",
       "    <tr>\n",
       "      <th>3</th>\n",
       "      <td>North</td>\n",
       "      <td>312700</td>\n",
       "      <td>2017</td>\n",
       "    </tr>\n",
       "    <tr>\n",
       "      <th>4</th>\n",
       "      <td>Wan Chai</td>\n",
       "      <td>179400</td>\n",
       "      <td>2017</td>\n",
       "    </tr>\n",
       "  </tbody>\n",
       "</table>\n",
       "</div>\n",
       "    </div>"
      ],
      "text/plain": [
       "distr_income_df\n",
       "       Name  Income  Year\n",
       "0  Sai Kung   20000  2006\n",
       "1  Wan Chai   25000  2006\n",
       "2  Sai Kung   33500  2017\n",
       "3     North   23300  2017\n",
       "4    Tai Po   28000  2017\n",
       "\n",
       "distr_pop_df2\n",
       "   District  Population  Year\n",
       "0     North      310800  2006\n",
       "1  Wan Chai      150900  2006\n",
       "2  Sai Kung      448600  2006\n",
       "3     North      312700  2017\n",
       "4  Wan Chai      179400  2017"
      ]
     },
     "execution_count": 42,
     "metadata": {
      "tags": []
     },
     "output_type": "execute_result"
    }
   ],
   "source": [
    "distr_income_df = pd.DataFrame({'Name': ['Sai Kung', 'Wan Chai', 'Sai Kung', 'North', 'Tai Po'],\n",
    "                                'Income': [20000, 25000, 33500, 23300, 28000],\n",
    "                                'Year': ['2006', '2006', '2017', '2017', '2017']})\n",
    "\n",
    "distr_pop_df2 = pd.DataFrame({'District': ['North', 'Wan Chai', 'Sai Kung', 'North', 'Wan Chai'], \n",
    "                              'Population': [310800, 150900, 448600, 312700, 179400], \n",
    "                              'Year': ['2006', '2006', '2006', '2017', '2017']})\n",
    "display('distr_income_df', 'distr_pop_df2')"
   ]
  },
  {
   "cell_type": "markdown",
   "metadata": {
    "colab_type": "text",
    "id": "ugE5XDQUdGZs"
   },
   "source": [
    "We can use the `on` keyword to explicitly specify the name(s) of the key column(s):"
   ]
  },
  {
   "cell_type": "code",
   "execution_count": 0,
   "metadata": {
    "colab": {},
    "colab_type": "code",
    "id": "KPbjdZd0dGZs",
    "outputId": "2c0ff5db-ac23-4637-d226-a320d988fddf"
   },
   "outputs": [
    {
     "data": {
      "text/html": [
       "<div style=\"float: left; padding: 10px;\">\n",
       "    <p>distr_income_df</p><div>\n",
       "<style scoped>\n",
       "    .dataframe tbody tr th:only-of-type {\n",
       "        vertical-align: middle;\n",
       "    }\n",
       "\n",
       "    .dataframe tbody tr th {\n",
       "        vertical-align: top;\n",
       "    }\n",
       "\n",
       "    .dataframe thead th {\n",
       "        text-align: right;\n",
       "    }\n",
       "</style>\n",
       "<table border=\"1\" class=\"dataframe\">\n",
       "  <thead>\n",
       "    <tr style=\"text-align: right;\">\n",
       "      <th></th>\n",
       "      <th>Name</th>\n",
       "      <th>Income</th>\n",
       "      <th>Year</th>\n",
       "    </tr>\n",
       "  </thead>\n",
       "  <tbody>\n",
       "    <tr>\n",
       "      <th>0</th>\n",
       "      <td>Sai Kung</td>\n",
       "      <td>20000</td>\n",
       "      <td>2006</td>\n",
       "    </tr>\n",
       "    <tr>\n",
       "      <th>1</th>\n",
       "      <td>Wan Chai</td>\n",
       "      <td>25000</td>\n",
       "      <td>2006</td>\n",
       "    </tr>\n",
       "    <tr>\n",
       "      <th>2</th>\n",
       "      <td>Sai Kung</td>\n",
       "      <td>33500</td>\n",
       "      <td>2017</td>\n",
       "    </tr>\n",
       "    <tr>\n",
       "      <th>3</th>\n",
       "      <td>North</td>\n",
       "      <td>23300</td>\n",
       "      <td>2017</td>\n",
       "    </tr>\n",
       "    <tr>\n",
       "      <th>4</th>\n",
       "      <td>Tai Po</td>\n",
       "      <td>28000</td>\n",
       "      <td>2017</td>\n",
       "    </tr>\n",
       "  </tbody>\n",
       "</table>\n",
       "</div>\n",
       "    </div>\n",
       "<div style=\"float: left; padding: 10px;\">\n",
       "    <p>distr_pop_df2</p><div>\n",
       "<style scoped>\n",
       "    .dataframe tbody tr th:only-of-type {\n",
       "        vertical-align: middle;\n",
       "    }\n",
       "\n",
       "    .dataframe tbody tr th {\n",
       "        vertical-align: top;\n",
       "    }\n",
       "\n",
       "    .dataframe thead th {\n",
       "        text-align: right;\n",
       "    }\n",
       "</style>\n",
       "<table border=\"1\" class=\"dataframe\">\n",
       "  <thead>\n",
       "    <tr style=\"text-align: right;\">\n",
       "      <th></th>\n",
       "      <th>District</th>\n",
       "      <th>Population</th>\n",
       "      <th>Year</th>\n",
       "    </tr>\n",
       "  </thead>\n",
       "  <tbody>\n",
       "    <tr>\n",
       "      <th>0</th>\n",
       "      <td>North</td>\n",
       "      <td>310800</td>\n",
       "      <td>2006</td>\n",
       "    </tr>\n",
       "    <tr>\n",
       "      <th>1</th>\n",
       "      <td>Wan Chai</td>\n",
       "      <td>150900</td>\n",
       "      <td>2006</td>\n",
       "    </tr>\n",
       "    <tr>\n",
       "      <th>2</th>\n",
       "      <td>Sai Kung</td>\n",
       "      <td>448600</td>\n",
       "      <td>2006</td>\n",
       "    </tr>\n",
       "    <tr>\n",
       "      <th>3</th>\n",
       "      <td>North</td>\n",
       "      <td>312700</td>\n",
       "      <td>2017</td>\n",
       "    </tr>\n",
       "    <tr>\n",
       "      <th>4</th>\n",
       "      <td>Wan Chai</td>\n",
       "      <td>179400</td>\n",
       "      <td>2017</td>\n",
       "    </tr>\n",
       "  </tbody>\n",
       "</table>\n",
       "</div>\n",
       "    </div>\n",
       "<div style=\"float: left; padding: 10px;\">\n",
       "    <p>distr_merge5</p><div>\n",
       "<style scoped>\n",
       "    .dataframe tbody tr th:only-of-type {\n",
       "        vertical-align: middle;\n",
       "    }\n",
       "\n",
       "    .dataframe tbody tr th {\n",
       "        vertical-align: top;\n",
       "    }\n",
       "\n",
       "    .dataframe thead th {\n",
       "        text-align: right;\n",
       "    }\n",
       "</style>\n",
       "<table border=\"1\" class=\"dataframe\">\n",
       "  <thead>\n",
       "    <tr style=\"text-align: right;\">\n",
       "      <th></th>\n",
       "      <th>Name</th>\n",
       "      <th>Income</th>\n",
       "      <th>Year</th>\n",
       "      <th>District</th>\n",
       "      <th>Population</th>\n",
       "    </tr>\n",
       "  </thead>\n",
       "  <tbody>\n",
       "    <tr>\n",
       "      <th>0</th>\n",
       "      <td>Sai Kung</td>\n",
       "      <td>20000</td>\n",
       "      <td>2006</td>\n",
       "      <td>North</td>\n",
       "      <td>310800</td>\n",
       "    </tr>\n",
       "    <tr>\n",
       "      <th>1</th>\n",
       "      <td>Sai Kung</td>\n",
       "      <td>20000</td>\n",
       "      <td>2006</td>\n",
       "      <td>Wan Chai</td>\n",
       "      <td>150900</td>\n",
       "    </tr>\n",
       "    <tr>\n",
       "      <th>2</th>\n",
       "      <td>Sai Kung</td>\n",
       "      <td>20000</td>\n",
       "      <td>2006</td>\n",
       "      <td>Sai Kung</td>\n",
       "      <td>448600</td>\n",
       "    </tr>\n",
       "    <tr>\n",
       "      <th>3</th>\n",
       "      <td>Wan Chai</td>\n",
       "      <td>25000</td>\n",
       "      <td>2006</td>\n",
       "      <td>North</td>\n",
       "      <td>310800</td>\n",
       "    </tr>\n",
       "    <tr>\n",
       "      <th>4</th>\n",
       "      <td>Wan Chai</td>\n",
       "      <td>25000</td>\n",
       "      <td>2006</td>\n",
       "      <td>Wan Chai</td>\n",
       "      <td>150900</td>\n",
       "    </tr>\n",
       "    <tr>\n",
       "      <th>...</th>\n",
       "      <td>...</td>\n",
       "      <td>...</td>\n",
       "      <td>...</td>\n",
       "      <td>...</td>\n",
       "      <td>...</td>\n",
       "    </tr>\n",
       "    <tr>\n",
       "      <th>7</th>\n",
       "      <td>Sai Kung</td>\n",
       "      <td>33500</td>\n",
       "      <td>2017</td>\n",
       "      <td>Wan Chai</td>\n",
       "      <td>179400</td>\n",
       "    </tr>\n",
       "    <tr>\n",
       "      <th>8</th>\n",
       "      <td>North</td>\n",
       "      <td>23300</td>\n",
       "      <td>2017</td>\n",
       "      <td>North</td>\n",
       "      <td>312700</td>\n",
       "    </tr>\n",
       "    <tr>\n",
       "      <th>9</th>\n",
       "      <td>North</td>\n",
       "      <td>23300</td>\n",
       "      <td>2017</td>\n",
       "      <td>Wan Chai</td>\n",
       "      <td>179400</td>\n",
       "    </tr>\n",
       "    <tr>\n",
       "      <th>10</th>\n",
       "      <td>Tai Po</td>\n",
       "      <td>28000</td>\n",
       "      <td>2017</td>\n",
       "      <td>North</td>\n",
       "      <td>312700</td>\n",
       "    </tr>\n",
       "    <tr>\n",
       "      <th>11</th>\n",
       "      <td>Tai Po</td>\n",
       "      <td>28000</td>\n",
       "      <td>2017</td>\n",
       "      <td>Wan Chai</td>\n",
       "      <td>179400</td>\n",
       "    </tr>\n",
       "  </tbody>\n",
       "</table>\n",
       "<p>12 rows × 5 columns</p>\n",
       "</div>\n",
       "    </div>"
      ],
      "text/plain": [
       "distr_income_df\n",
       "       Name  Income  Year\n",
       "0  Sai Kung   20000  2006\n",
       "1  Wan Chai   25000  2006\n",
       "2  Sai Kung   33500  2017\n",
       "3     North   23300  2017\n",
       "4    Tai Po   28000  2017\n",
       "\n",
       "distr_pop_df2\n",
       "   District  Population  Year\n",
       "0     North      310800  2006\n",
       "1  Wan Chai      150900  2006\n",
       "2  Sai Kung      448600  2006\n",
       "3     North      312700  2017\n",
       "4  Wan Chai      179400  2017\n",
       "\n",
       "distr_merge5\n",
       "        Name  Income  Year  District  Population\n",
       "0   Sai Kung   20000  2006     North      310800\n",
       "1   Sai Kung   20000  2006  Wan Chai      150900\n",
       "2   Sai Kung   20000  2006  Sai Kung      448600\n",
       "3   Wan Chai   25000  2006     North      310800\n",
       "4   Wan Chai   25000  2006  Wan Chai      150900\n",
       "..       ...     ...   ...       ...         ...\n",
       "7   Sai Kung   33500  2017  Wan Chai      179400\n",
       "8      North   23300  2017     North      312700\n",
       "9      North   23300  2017  Wan Chai      179400\n",
       "10    Tai Po   28000  2017     North      312700\n",
       "11    Tai Po   28000  2017  Wan Chai      179400\n",
       "\n",
       "[12 rows x 5 columns]"
      ]
     },
     "execution_count": 43,
     "metadata": {
      "tags": []
     },
     "output_type": "execute_result"
    }
   ],
   "source": [
    "distr_merge5 = pd.merge(distr_income_df, distr_pop_df2, on='Year')\n",
    "display('distr_income_df', 'distr_pop_df2', 'distr_merge5')"
   ]
  },
  {
   "cell_type": "markdown",
   "metadata": {
    "colab_type": "text",
    "id": "JCbaURnOdGZu"
   },
   "source": [
    "When merging datasets with different column names, we can use the `left_on` and `right_on` keywords to specify the names of the key columns from both sides separately:"
   ]
  },
  {
   "cell_type": "code",
   "execution_count": 0,
   "metadata": {
    "colab": {},
    "colab_type": "code",
    "id": "p_mMPNhLdGZu",
    "outputId": "f8990173-c545-464a-d347-a900f20006ec"
   },
   "outputs": [
    {
     "data": {
      "text/html": [
       "<div style=\"float: left; padding: 10px;\">\n",
       "    <p>distr_income_df</p><div>\n",
       "<style scoped>\n",
       "    .dataframe tbody tr th:only-of-type {\n",
       "        vertical-align: middle;\n",
       "    }\n",
       "\n",
       "    .dataframe tbody tr th {\n",
       "        vertical-align: top;\n",
       "    }\n",
       "\n",
       "    .dataframe thead th {\n",
       "        text-align: right;\n",
       "    }\n",
       "</style>\n",
       "<table border=\"1\" class=\"dataframe\">\n",
       "  <thead>\n",
       "    <tr style=\"text-align: right;\">\n",
       "      <th></th>\n",
       "      <th>Name</th>\n",
       "      <th>Income</th>\n",
       "      <th>Year</th>\n",
       "    </tr>\n",
       "  </thead>\n",
       "  <tbody>\n",
       "    <tr>\n",
       "      <th>0</th>\n",
       "      <td>Sai Kung</td>\n",
       "      <td>20000</td>\n",
       "      <td>2006</td>\n",
       "    </tr>\n",
       "    <tr>\n",
       "      <th>1</th>\n",
       "      <td>Wan Chai</td>\n",
       "      <td>25000</td>\n",
       "      <td>2006</td>\n",
       "    </tr>\n",
       "    <tr>\n",
       "      <th>2</th>\n",
       "      <td>Sai Kung</td>\n",
       "      <td>33500</td>\n",
       "      <td>2017</td>\n",
       "    </tr>\n",
       "    <tr>\n",
       "      <th>3</th>\n",
       "      <td>North</td>\n",
       "      <td>23300</td>\n",
       "      <td>2017</td>\n",
       "    </tr>\n",
       "    <tr>\n",
       "      <th>4</th>\n",
       "      <td>Tai Po</td>\n",
       "      <td>28000</td>\n",
       "      <td>2017</td>\n",
       "    </tr>\n",
       "  </tbody>\n",
       "</table>\n",
       "</div>\n",
       "    </div>\n",
       "<div style=\"float: left; padding: 10px;\">\n",
       "    <p>distr_pop_df2</p><div>\n",
       "<style scoped>\n",
       "    .dataframe tbody tr th:only-of-type {\n",
       "        vertical-align: middle;\n",
       "    }\n",
       "\n",
       "    .dataframe tbody tr th {\n",
       "        vertical-align: top;\n",
       "    }\n",
       "\n",
       "    .dataframe thead th {\n",
       "        text-align: right;\n",
       "    }\n",
       "</style>\n",
       "<table border=\"1\" class=\"dataframe\">\n",
       "  <thead>\n",
       "    <tr style=\"text-align: right;\">\n",
       "      <th></th>\n",
       "      <th>District</th>\n",
       "      <th>Population</th>\n",
       "      <th>Year</th>\n",
       "    </tr>\n",
       "  </thead>\n",
       "  <tbody>\n",
       "    <tr>\n",
       "      <th>0</th>\n",
       "      <td>North</td>\n",
       "      <td>310800</td>\n",
       "      <td>2006</td>\n",
       "    </tr>\n",
       "    <tr>\n",
       "      <th>1</th>\n",
       "      <td>Wan Chai</td>\n",
       "      <td>150900</td>\n",
       "      <td>2006</td>\n",
       "    </tr>\n",
       "    <tr>\n",
       "      <th>2</th>\n",
       "      <td>Sai Kung</td>\n",
       "      <td>448600</td>\n",
       "      <td>2006</td>\n",
       "    </tr>\n",
       "    <tr>\n",
       "      <th>3</th>\n",
       "      <td>North</td>\n",
       "      <td>312700</td>\n",
       "      <td>2017</td>\n",
       "    </tr>\n",
       "    <tr>\n",
       "      <th>4</th>\n",
       "      <td>Wan Chai</td>\n",
       "      <td>179400</td>\n",
       "      <td>2017</td>\n",
       "    </tr>\n",
       "  </tbody>\n",
       "</table>\n",
       "</div>\n",
       "    </div>\n",
       "<div style=\"float: left; padding: 10px;\">\n",
       "    <p>distr_merge6</p><div>\n",
       "<style scoped>\n",
       "    .dataframe tbody tr th:only-of-type {\n",
       "        vertical-align: middle;\n",
       "    }\n",
       "\n",
       "    .dataframe tbody tr th {\n",
       "        vertical-align: top;\n",
       "    }\n",
       "\n",
       "    .dataframe thead th {\n",
       "        text-align: right;\n",
       "    }\n",
       "</style>\n",
       "<table border=\"1\" class=\"dataframe\">\n",
       "  <thead>\n",
       "    <tr style=\"text-align: right;\">\n",
       "      <th></th>\n",
       "      <th>Name</th>\n",
       "      <th>Income</th>\n",
       "      <th>Year</th>\n",
       "      <th>District</th>\n",
       "      <th>Population</th>\n",
       "    </tr>\n",
       "  </thead>\n",
       "  <tbody>\n",
       "    <tr>\n",
       "      <th>0</th>\n",
       "      <td>Sai Kung</td>\n",
       "      <td>20000</td>\n",
       "      <td>2006</td>\n",
       "      <td>Sai Kung</td>\n",
       "      <td>448600</td>\n",
       "    </tr>\n",
       "    <tr>\n",
       "      <th>1</th>\n",
       "      <td>Wan Chai</td>\n",
       "      <td>25000</td>\n",
       "      <td>2006</td>\n",
       "      <td>Wan Chai</td>\n",
       "      <td>150900</td>\n",
       "    </tr>\n",
       "    <tr>\n",
       "      <th>2</th>\n",
       "      <td>North</td>\n",
       "      <td>23300</td>\n",
       "      <td>2017</td>\n",
       "      <td>North</td>\n",
       "      <td>312700</td>\n",
       "    </tr>\n",
       "  </tbody>\n",
       "</table>\n",
       "</div>\n",
       "    </div>"
      ],
      "text/plain": [
       "distr_income_df\n",
       "       Name  Income  Year\n",
       "0  Sai Kung   20000  2006\n",
       "1  Wan Chai   25000  2006\n",
       "2  Sai Kung   33500  2017\n",
       "3     North   23300  2017\n",
       "4    Tai Po   28000  2017\n",
       "\n",
       "distr_pop_df2\n",
       "   District  Population  Year\n",
       "0     North      310800  2006\n",
       "1  Wan Chai      150900  2006\n",
       "2  Sai Kung      448600  2006\n",
       "3     North      312700  2017\n",
       "4  Wan Chai      179400  2017\n",
       "\n",
       "distr_merge6\n",
       "       Name  Income  Year  District  Population\n",
       "0  Sai Kung   20000  2006  Sai Kung      448600\n",
       "1  Wan Chai   25000  2006  Wan Chai      150900\n",
       "2     North   23300  2017     North      312700"
      ]
     },
     "execution_count": 44,
     "metadata": {
      "tags": []
     },
     "output_type": "execute_result"
    }
   ],
   "source": [
    "distr_merge6 = pd.merge(distr_income_df, distr_pop_df2, left_on=['Name',  'Year'], \n",
    "                        right_on=['District', 'Year'])\n",
    "display('distr_income_df', 'distr_pop_df2', 'distr_merge6')"
   ]
  },
  {
   "cell_type": "code",
   "execution_count": 0,
   "metadata": {
    "colab": {},
    "colab_type": "code",
    "id": "-Z6yiL1-dGZw",
    "outputId": "e699e30d-a170-4d71-b4b0-8ad3dde981c7"
   },
   "outputs": [
    {
     "data": {
      "text/html": [
       "<div style=\"float: left; padding: 10px;\">\n",
       "    <p >distr_income_df</p><div>\n",
       "<style scoped>\n",
       "    .dataframe tbody tr th:only-of-type {\n",
       "        vertical-align: middle;\n",
       "    }\n",
       "\n",
       "    .dataframe tbody tr th {\n",
       "        vertical-align: top;\n",
       "    }\n",
       "\n",
       "    .dataframe thead th {\n",
       "        text-align: right;\n",
       "    }\n",
       "</style>\n",
       "<table border=\"1\" class=\"dataframe\">\n",
       "  <thead>\n",
       "    <tr style=\"text-align: right;\">\n",
       "      <th></th>\n",
       "      <th>Name</th>\n",
       "      <th>Income</th>\n",
       "      <th>Year</th>\n",
       "    </tr>\n",
       "  </thead>\n",
       "  <tbody>\n",
       "    <tr>\n",
       "      <th>0</th>\n",
       "      <td>Sai Kung</td>\n",
       "      <td>20000</td>\n",
       "      <td>2006</td>\n",
       "    </tr>\n",
       "    <tr>\n",
       "      <th>1</th>\n",
       "      <td>Wan Chai</td>\n",
       "      <td>25000</td>\n",
       "      <td>2006</td>\n",
       "    </tr>\n",
       "    <tr>\n",
       "      <th>2</th>\n",
       "      <td>Sai Kung</td>\n",
       "      <td>33500</td>\n",
       "      <td>2017</td>\n",
       "    </tr>\n",
       "    <tr>\n",
       "      <th>3</th>\n",
       "      <td>North</td>\n",
       "      <td>23300</td>\n",
       "      <td>2017</td>\n",
       "    </tr>\n",
       "    <tr>\n",
       "      <th>4</th>\n",
       "      <td>Tai Po</td>\n",
       "      <td>28000</td>\n",
       "      <td>2017</td>\n",
       "    </tr>\n",
       "  </tbody>\n",
       "</table>\n",
       "</div>\n",
       "    </div>\n",
       "<div style=\"float: left; padding: 10px;\">\n",
       "    <p >distr_pop_df2</p><div>\n",
       "<style scoped>\n",
       "    .dataframe tbody tr th:only-of-type {\n",
       "        vertical-align: middle;\n",
       "    }\n",
       "\n",
       "    .dataframe tbody tr th {\n",
       "        vertical-align: top;\n",
       "    }\n",
       "\n",
       "    .dataframe thead th {\n",
       "        text-align: right;\n",
       "    }\n",
       "</style>\n",
       "<table border=\"1\" class=\"dataframe\">\n",
       "  <thead>\n",
       "    <tr style=\"text-align: right;\">\n",
       "      <th></th>\n",
       "      <th>District</th>\n",
       "      <th>Population</th>\n",
       "      <th>Year</th>\n",
       "    </tr>\n",
       "  </thead>\n",
       "  <tbody>\n",
       "    <tr>\n",
       "      <th>0</th>\n",
       "      <td>North</td>\n",
       "      <td>310800</td>\n",
       "      <td>2006</td>\n",
       "    </tr>\n",
       "    <tr>\n",
       "      <th>1</th>\n",
       "      <td>Wan Chai</td>\n",
       "      <td>150900</td>\n",
       "      <td>2006</td>\n",
       "    </tr>\n",
       "    <tr>\n",
       "      <th>2</th>\n",
       "      <td>Sai Kung</td>\n",
       "      <td>448600</td>\n",
       "      <td>2006</td>\n",
       "    </tr>\n",
       "    <tr>\n",
       "      <th>3</th>\n",
       "      <td>North</td>\n",
       "      <td>312700</td>\n",
       "      <td>2017</td>\n",
       "    </tr>\n",
       "    <tr>\n",
       "      <th>4</th>\n",
       "      <td>Wan Chai</td>\n",
       "      <td>179400</td>\n",
       "      <td>2017</td>\n",
       "    </tr>\n",
       "  </tbody>\n",
       "</table>\n",
       "</div>\n",
       "    </div>\n",
       "<div style=\"float: left; padding: 10px;\">\n",
       "    <p >distr_merge7</p><div>\n",
       "<style scoped>\n",
       "    .dataframe tbody tr th:only-of-type {\n",
       "        vertical-align: middle;\n",
       "    }\n",
       "\n",
       "    .dataframe tbody tr th {\n",
       "        vertical-align: top;\n",
       "    }\n",
       "\n",
       "    .dataframe thead th {\n",
       "        text-align: right;\n",
       "    }\n",
       "</style>\n",
       "<table border=\"1\" class=\"dataframe\">\n",
       "  <thead>\n",
       "    <tr style=\"text-align: right;\">\n",
       "      <th></th>\n",
       "      <th>Name</th>\n",
       "      <th>Income</th>\n",
       "      <th>Year_x</th>\n",
       "      <th>District</th>\n",
       "      <th>Population</th>\n",
       "      <th>Year_y</th>\n",
       "    </tr>\n",
       "  </thead>\n",
       "  <tbody>\n",
       "    <tr>\n",
       "      <th>0</th>\n",
       "      <td>Sai Kung</td>\n",
       "      <td>20000</td>\n",
       "      <td>2006</td>\n",
       "      <td>Sai Kung</td>\n",
       "      <td>448600</td>\n",
       "      <td>2006</td>\n",
       "    </tr>\n",
       "    <tr>\n",
       "      <th>1</th>\n",
       "      <td>Sai Kung</td>\n",
       "      <td>33500</td>\n",
       "      <td>2017</td>\n",
       "      <td>Sai Kung</td>\n",
       "      <td>448600</td>\n",
       "      <td>2006</td>\n",
       "    </tr>\n",
       "    <tr>\n",
       "      <th>2</th>\n",
       "      <td>Wan Chai</td>\n",
       "      <td>25000</td>\n",
       "      <td>2006</td>\n",
       "      <td>Wan Chai</td>\n",
       "      <td>150900</td>\n",
       "      <td>2006</td>\n",
       "    </tr>\n",
       "    <tr>\n",
       "      <th>3</th>\n",
       "      <td>Wan Chai</td>\n",
       "      <td>25000</td>\n",
       "      <td>2006</td>\n",
       "      <td>Wan Chai</td>\n",
       "      <td>179400</td>\n",
       "      <td>2017</td>\n",
       "    </tr>\n",
       "    <tr>\n",
       "      <th>4</th>\n",
       "      <td>North</td>\n",
       "      <td>23300</td>\n",
       "      <td>2017</td>\n",
       "      <td>North</td>\n",
       "      <td>310800</td>\n",
       "      <td>2006</td>\n",
       "    </tr>\n",
       "    <tr>\n",
       "      <th>5</th>\n",
       "      <td>North</td>\n",
       "      <td>23300</td>\n",
       "      <td>2017</td>\n",
       "      <td>North</td>\n",
       "      <td>312700</td>\n",
       "      <td>2017</td>\n",
       "    </tr>\n",
       "  </tbody>\n",
       "</table>\n",
       "</div>\n",
       "    </div>"
      ],
      "text/plain": [
       "distr_income_df\n",
       "       Name  Income  Year\n",
       "0  Sai Kung   20000  2006\n",
       "1  Wan Chai   25000  2006\n",
       "2  Sai Kung   33500  2017\n",
       "3     North   23300  2017\n",
       "4    Tai Po   28000  2017\n",
       "\n",
       "distr_pop_df2\n",
       "   District  Population  Year\n",
       "0     North      310800  2006\n",
       "1  Wan Chai      150900  2006\n",
       "2  Sai Kung      448600  2006\n",
       "3     North      312700  2017\n",
       "4  Wan Chai      179400  2017\n",
       "\n",
       "distr_merge7\n",
       "       Name  Income Year_x  District  Population Year_y\n",
       "0  Sai Kung   20000   2006  Sai Kung      448600   2006\n",
       "1  Sai Kung   33500   2017  Sai Kung      448600   2006\n",
       "2  Wan Chai   25000   2006  Wan Chai      150900   2006\n",
       "3  Wan Chai   25000   2006  Wan Chai      179400   2017\n",
       "4     North   23300   2017     North      310800   2006\n",
       "5     North   23300   2017     North      312700   2017"
      ]
     },
     "execution_count": 232,
     "metadata": {
      "tags": []
     },
     "output_type": "execute_result"
    }
   ],
   "source": [
    "distr_merge7 = pd.merge(distr_income_df, distr_pop_df2, left_on='Name', right_on='District')\n",
    "display('distr_income_df', 'distr_pop_df2', 'distr_merge7')"
   ]
  },
  {
   "cell_type": "markdown",
   "metadata": {
    "colab_type": "text",
    "id": "gN_jwMl-dGZy"
   },
   "source": [
    "---\n",
    "\n",
    "## 2.6 Importing and Exporting Data\n",
    "\n",
    "Pandas features a number of [functions](https://pandas.pydata.org/pandas-docs/stable/user_guide/io.html) for reading tabular data as a `DataFrame` object. Among them, [`read_csv()`](https://pandas.pydata.org/pandas-docs/stable/reference/api/pandas.read_csv.html) is likely the one we'll use the most:\n"
   ]
  },
  {
   "cell_type": "code",
   "execution_count": 0,
   "metadata": {
    "colab": {},
    "colab_type": "code",
    "id": "_pP6C5E8dGZy",
    "outputId": "56d8d6f8-e442-41dd-eaab-4d89b5e66288"
   },
   "outputs": [
    {
     "data": {
      "text/plain": [
       "<Signature (filepath_or_buffer, sep=',', delimiter=None, header='infer', names=None, index_col=None, usecols=None, squeeze=False, prefix=None, mangle_dupe_cols=True, dtype=None, engine=None, converters=None, true_values=None, false_values=None, skipinitialspace=False, skiprows=None, skipfooter=0, nrows=None, na_values=None, keep_default_na=True, na_filter=True, verbose=False, skip_blank_lines=True, parse_dates=False, infer_datetime_format=False, keep_date_col=False, date_parser=None, dayfirst=False, iterator=False, chunksize=None, compression='infer', thousands=None, decimal=b'.', lineterminator=None, quotechar='\"', quoting=0, doublequote=True, escapechar=None, comment=None, encoding=None, dialect=None, tupleize_cols=None, error_bad_lines=True, warn_bad_lines=True, delim_whitespace=False, low_memory=True, memory_map=False, float_precision=None)>"
      ]
     },
     "execution_count": 233,
     "metadata": {
      "tags": []
     },
     "output_type": "execute_result"
    }
   ],
   "source": [
    "inspect.signature(pd.read_csv)"
   ]
  },
  {
   "cell_type": "code",
   "execution_count": 10,
   "metadata": {
    "colab": {},
    "colab_type": "code",
    "id": "ErVILYHedGZ1",
    "outputId": "2ee3dbe5-f589-4da9-da06-1dca40bcb6fc",
    "scrolled": true
   },
   "outputs": [
    {
     "data": {
      "text/html": [
       "<div>\n",
       "<style scoped>\n",
       "    .dataframe tbody tr th:only-of-type {\n",
       "        vertical-align: middle;\n",
       "    }\n",
       "\n",
       "    .dataframe tbody tr th {\n",
       "        vertical-align: top;\n",
       "    }\n",
       "\n",
       "    .dataframe thead th {\n",
       "        text-align: right;\n",
       "    }\n",
       "</style>\n",
       "<table border=\"1\" class=\"dataframe\">\n",
       "  <thead>\n",
       "    <tr style=\"text-align: right;\">\n",
       "      <th></th>\n",
       "      <th>Date</th>\n",
       "      <th>GOOG</th>\n",
       "      <th>APPL</th>\n",
       "      <th>AMZN</th>\n",
       "    </tr>\n",
       "  </thead>\n",
       "  <tbody>\n",
       "    <tr>\n",
       "      <th>0</th>\n",
       "      <td>2015/5/1</td>\n",
       "      <td>537.900024</td>\n",
       "      <td>120.220688</td>\n",
       "      <td>422.869995</td>\n",
       "    </tr>\n",
       "    <tr>\n",
       "      <th>1</th>\n",
       "      <td>2015/5/4</td>\n",
       "      <td>540.780029</td>\n",
       "      <td>119.987633</td>\n",
       "      <td>423.040009</td>\n",
       "    </tr>\n",
       "    <tr>\n",
       "      <th>2</th>\n",
       "      <td>2015/5/5</td>\n",
       "      <td>530.799988</td>\n",
       "      <td>117.283951</td>\n",
       "      <td>421.190002</td>\n",
       "    </tr>\n",
       "    <tr>\n",
       "      <th>3</th>\n",
       "      <td>2015/5/6</td>\n",
       "      <td>524.219971</td>\n",
       "      <td>116.547424</td>\n",
       "      <td>419.100006</td>\n",
       "    </tr>\n",
       "  </tbody>\n",
       "</table>\n",
       "</div>"
      ],
      "text/plain": [
       "       Date        GOOG        APPL        AMZN\n",
       "0  2015/5/1  537.900024  120.220688  422.869995\n",
       "1  2015/5/4  540.780029  119.987633  423.040009\n",
       "2  2015/5/5  530.799988  117.283951  421.190002\n",
       "3  2015/5/6  524.219971  116.547424  419.100006"
      ]
     },
     "execution_count": 10,
     "metadata": {},
     "output_type": "execute_result"
    }
   ],
   "source": [
    "# ! curl -L -s -o stockprice.csv \"https://drive.google.com/uc?id=11DobPXbTREj9hT1ihUVeQsON4NzF1ao9\"\n",
    "sp = pd.read_csv(\"stockprice.csv\"); sp"
   ]
  },
  {
   "cell_type": "markdown",
   "metadata": {
    "colab_type": "text",
    "id": "BPXlruYGdGZ2"
   },
   "source": [
    "The corresponding writer functions are object methods that are accessed like [`DataFrame.to_csv()`](https://pandas.pydata.org/pandas-docs/stable/reference/api/pandas.DataFrame.to_csv.html):\n",
    "\n",
    "\n"
   ]
  },
  {
   "cell_type": "code",
   "execution_count": 0,
   "metadata": {
    "colab": {},
    "colab_type": "code",
    "id": "MYxqRHxCdGZ3",
    "outputId": "cd94b5d9-961d-4770-f0de-459e63398ca9"
   },
   "outputs": [
    {
     "data": {
      "text/plain": [
       "<Signature (self, path_or_buf=None, sep=',', na_rep='', float_format=None, columns=None, header=True, index=True, index_label=None, mode='w', encoding=None, compression='infer', quoting=None, quotechar='\"', line_terminator=None, chunksize=None, tupleize_cols=None, date_format=None, doublequote=True, escapechar=None, decimal='.')>"
      ]
     },
     "execution_count": 15,
     "metadata": {
      "tags": []
     },
     "output_type": "execute_result"
    }
   ],
   "source": [
    "inspect.signature(pd.DataFrame.to_csv)"
   ]
  },
  {
   "cell_type": "code",
   "execution_count": 0,
   "metadata": {
    "colab": {},
    "colab_type": "code",
    "id": "Hmt1EnUJdGZ5"
   },
   "outputs": [],
   "source": [
    "sp.to_csv(\"stockprice_new.csv\")"
   ]
  },
  {
   "cell_type": "markdown",
   "metadata": {
    "colab_type": "text",
    "id": "v38QUl8udGZ8"
   },
   "source": [
    "\n",
    "---\n",
    "\n",
    "## 2.7 Computing Summary and Descriptive Statistics\n",
    "\n",
    "\n",
    "`DataFrame` objects are equipped with common mathematical and statistical [methods](https://pandas.pydata.org/pandas-docs/stable/reference/frame.html#computations-descriptive-stats) for column-wise computations (or row-wise by setting `axis=1`):\n",
    "\n",
    "- Most of them produce aggregates:\n",
    "\n",
    " \n"
   ]
  },
  {
   "cell_type": "code",
   "execution_count": 0,
   "metadata": {
    "cell_style": "split",
    "colab": {},
    "colab_type": "code",
    "id": "Ke5EX-BYdGZ9",
    "outputId": "1c51a8e1-5dd2-42f5-9619-1d2c2c888b5b"
   },
   "outputs": [
    {
     "data": {
      "text/plain": [
       "GOOG    533.425003\n",
       "APPL    118.509924\n",
       "dtype: float64"
      ]
     },
     "execution_count": 12,
     "metadata": {
      "tags": []
     },
     "output_type": "execute_result"
    }
   ],
   "source": [
    "sp[['GOOG', 'APPL']].mean()"
   ]
  },
  {
   "cell_type": "code",
   "execution_count": 0,
   "metadata": {
    "cell_style": "split",
    "colab": {},
    "colab_type": "code",
    "id": "nBb16pzt8mX3",
    "outputId": "0038ae1c-e44a-487c-81f5-d1af14f5a2b3"
   },
   "outputs": [
    {
     "data": {
      "text/plain": [
       "Date    4\n",
       "APPL    4\n",
       "dtype: int64"
      ]
     },
     "execution_count": 46,
     "metadata": {
      "tags": []
     },
     "output_type": "execute_result"
    }
   ],
   "source": [
    "sp[['Date', 'APPL']].nunique()"
   ]
  },
  {
   "cell_type": "markdown",
   "metadata": {
    "colab_type": "text",
    "id": "NUufnYU-8mX4"
   },
   "source": [
    "The following table summarizes some built-in Pandas aggregations:\n",
    "\n",
    "| Aggregation              | Description                     |\n",
    "|--------------------------|---------------------------------|\n",
    "| ``count()``              | Total number of items           |\n",
    "| ``nunique()``            | Number of distinct items\n",
    "| ``mean()``, ``median()`` | Mean and median                 |\n",
    "| ``min()``, ``max()``     | Minimum and maximum             |\n",
    "| ``std()``, ``var()``     | Standard deviation and variance |\n",
    "| ``mad()``                | Mean absolute deviation         |\n",
    "| ``prod()``               | Product of all items            |\n",
    "| ``sum()``                | Sum of all items                |\n"
   ]
  },
  {
   "cell_type": "markdown",
   "metadata": {
    "colab_type": "text",
    "id": "ZpV-jgcddGZ_"
   },
   "source": [
    "- Some statistics are computed from pairs of columns:"
   ]
  },
  {
   "cell_type": "code",
   "execution_count": 0,
   "metadata": {
    "cell_style": "split",
    "colab": {},
    "colab_type": "code",
    "id": "VBaSjSmDdGaC",
    "outputId": "88bdb977-c443-4e41-9dfb-b22d9d49ea2f"
   },
   "outputs": [
    {
     "data": {
      "text/html": [
       "<div>\n",
       "<style scoped>\n",
       "    .dataframe tbody tr th:only-of-type {\n",
       "        vertical-align: middle;\n",
       "    }\n",
       "\n",
       "    .dataframe tbody tr th {\n",
       "        vertical-align: top;\n",
       "    }\n",
       "\n",
       "    .dataframe thead th {\n",
       "        text-align: right;\n",
       "    }\n",
       "</style>\n",
       "<table border=\"1\" class=\"dataframe\">\n",
       "  <thead>\n",
       "    <tr style=\"text-align: right;\">\n",
       "      <th></th>\n",
       "      <th>APPL</th>\n",
       "      <th>AMZN</th>\n",
       "    </tr>\n",
       "  </thead>\n",
       "  <tbody>\n",
       "    <tr>\n",
       "      <th>APPL</th>\n",
       "      <td>3.488251</td>\n",
       "      <td>3.236487</td>\n",
       "    </tr>\n",
       "    <tr>\n",
       "      <th>AMZN</th>\n",
       "      <td>3.236487</td>\n",
       "      <td>3.364861</td>\n",
       "    </tr>\n",
       "  </tbody>\n",
       "</table>\n",
       "</div>"
      ],
      "text/plain": [
       "          APPL      AMZN\n",
       "APPL  3.488251  3.236487\n",
       "AMZN  3.236487  3.364861"
      ]
     },
     "execution_count": 14,
     "metadata": {
      "tags": []
     },
     "output_type": "execute_result"
    }
   ],
   "source": [
    "sp[['APPL', 'AMZN']].cov()"
   ]
  },
  {
   "cell_type": "code",
   "execution_count": 0,
   "metadata": {
    "cell_style": "split",
    "colab": {},
    "colab_type": "code",
    "id": "K2lEOOAW8mX5",
    "outputId": "df4d2bee-e019-4d50-920e-6387092a364b"
   },
   "outputs": [
    {
     "data": {
      "text/html": [
       "<div>\n",
       "<style scoped>\n",
       "    .dataframe tbody tr th:only-of-type {\n",
       "        vertical-align: middle;\n",
       "    }\n",
       "\n",
       "    .dataframe tbody tr th {\n",
       "        vertical-align: top;\n",
       "    }\n",
       "\n",
       "    .dataframe thead th {\n",
       "        text-align: right;\n",
       "    }\n",
       "</style>\n",
       "<table border=\"1\" class=\"dataframe\">\n",
       "  <thead>\n",
       "    <tr style=\"text-align: right;\">\n",
       "      <th></th>\n",
       "      <th>GOOG</th>\n",
       "      <th>APPL</th>\n",
       "      <th>AMZN</th>\n",
       "    </tr>\n",
       "  </thead>\n",
       "  <tbody>\n",
       "    <tr>\n",
       "      <th>GOOG</th>\n",
       "      <td>55.248513</td>\n",
       "      <td>13.269122</td>\n",
       "      <td>13.454445</td>\n",
       "    </tr>\n",
       "    <tr>\n",
       "      <th>APPL</th>\n",
       "      <td>13.269122</td>\n",
       "      <td>3.488251</td>\n",
       "      <td>3.236487</td>\n",
       "    </tr>\n",
       "    <tr>\n",
       "      <th>AMZN</th>\n",
       "      <td>13.454445</td>\n",
       "      <td>3.236487</td>\n",
       "      <td>3.364861</td>\n",
       "    </tr>\n",
       "  </tbody>\n",
       "</table>\n",
       "</div>"
      ],
      "text/plain": [
       "           GOOG       APPL       AMZN\n",
       "GOOG  55.248513  13.269122  13.454445\n",
       "APPL  13.269122   3.488251   3.236487\n",
       "AMZN  13.454445   3.236487   3.364861"
      ]
     },
     "execution_count": 47,
     "metadata": {
      "tags": []
     },
     "output_type": "execute_result"
    }
   ],
   "source": [
    "sp.cov()"
   ]
  },
  {
   "cell_type": "markdown",
   "metadata": {
    "colab_type": "text",
    "id": "xo3NLs1QdGaD"
   },
   "source": [
    "- Some produce multiple summary statistics in one shot:"
   ]
  },
  {
   "cell_type": "code",
   "execution_count": 0,
   "metadata": {
    "cell_style": "split",
    "colab": {},
    "colab_type": "code",
    "id": "bR30nxwSdGaE",
    "outputId": "35d423b3-3a6b-41c8-bffe-78cd8653a591"
   },
   "outputs": [
    {
     "data": {
      "text/html": [
       "<div>\n",
       "<style scoped>\n",
       "    .dataframe tbody tr th:only-of-type {\n",
       "        vertical-align: middle;\n",
       "    }\n",
       "\n",
       "    .dataframe tbody tr th {\n",
       "        vertical-align: top;\n",
       "    }\n",
       "\n",
       "    .dataframe thead th {\n",
       "        text-align: right;\n",
       "    }\n",
       "</style>\n",
       "<table border=\"1\" class=\"dataframe\">\n",
       "  <thead>\n",
       "    <tr style=\"text-align: right;\">\n",
       "      <th></th>\n",
       "      <th>GOOG</th>\n",
       "      <th>APPL</th>\n",
       "      <th>AMZN</th>\n",
       "    </tr>\n",
       "  </thead>\n",
       "  <tbody>\n",
       "    <tr>\n",
       "      <th>count</th>\n",
       "      <td>4.000000</td>\n",
       "      <td>4.000000</td>\n",
       "      <td>4.000000</td>\n",
       "    </tr>\n",
       "    <tr>\n",
       "      <th>mean</th>\n",
       "      <td>533.425003</td>\n",
       "      <td>118.509924</td>\n",
       "      <td>421.550003</td>\n",
       "    </tr>\n",
       "    <tr>\n",
       "      <th>std</th>\n",
       "      <td>7.432934</td>\n",
       "      <td>1.867686</td>\n",
       "      <td>1.834356</td>\n",
       "    </tr>\n",
       "    <tr>\n",
       "      <th>min</th>\n",
       "      <td>524.219971</td>\n",
       "      <td>116.547424</td>\n",
       "      <td>419.100006</td>\n",
       "    </tr>\n",
       "    <tr>\n",
       "      <th>25%</th>\n",
       "      <td>529.154984</td>\n",
       "      <td>117.099819</td>\n",
       "      <td>420.667503</td>\n",
       "    </tr>\n",
       "    <tr>\n",
       "      <th>50%</th>\n",
       "      <td>534.350006</td>\n",
       "      <td>118.635792</td>\n",
       "      <td>422.029998</td>\n",
       "    </tr>\n",
       "    <tr>\n",
       "      <th>75%</th>\n",
       "      <td>538.620025</td>\n",
       "      <td>120.045897</td>\n",
       "      <td>422.912499</td>\n",
       "    </tr>\n",
       "    <tr>\n",
       "      <th>max</th>\n",
       "      <td>540.780029</td>\n",
       "      <td>120.220688</td>\n",
       "      <td>423.040009</td>\n",
       "    </tr>\n",
       "  </tbody>\n",
       "</table>\n",
       "</div>"
      ],
      "text/plain": [
       "             GOOG        APPL        AMZN\n",
       "count    4.000000    4.000000    4.000000\n",
       "mean   533.425003  118.509924  421.550003\n",
       "std      7.432934    1.867686    1.834356\n",
       "min    524.219971  116.547424  419.100006\n",
       "25%    529.154984  117.099819  420.667503\n",
       "50%    534.350006  118.635792  422.029998\n",
       "75%    538.620025  120.045897  422.912499\n",
       "max    540.780029  120.220688  423.040009"
      ]
     },
     "execution_count": 29,
     "metadata": {
      "tags": []
     },
     "output_type": "execute_result"
    }
   ],
   "source": [
    "# by default, summarize numeric columns only\n",
    "sp.describe()  "
   ]
  },
  {
   "cell_type": "code",
   "execution_count": 0,
   "metadata": {
    "cell_style": "split",
    "colab": {},
    "colab_type": "code",
    "id": "YUv2dmLK8mX8",
    "outputId": "f943b910-3c1a-4801-937d-6200dd5073a4"
   },
   "outputs": [
    {
     "data": {
      "text/html": [
       "<div>\n",
       "<style scoped>\n",
       "    .dataframe tbody tr th:only-of-type {\n",
       "        vertical-align: middle;\n",
       "    }\n",
       "\n",
       "    .dataframe tbody tr th {\n",
       "        vertical-align: top;\n",
       "    }\n",
       "\n",
       "    .dataframe thead th {\n",
       "        text-align: right;\n",
       "    }\n",
       "</style>\n",
       "<table border=\"1\" class=\"dataframe\">\n",
       "  <thead>\n",
       "    <tr style=\"text-align: right;\">\n",
       "      <th></th>\n",
       "      <th>Date</th>\n",
       "    </tr>\n",
       "  </thead>\n",
       "  <tbody>\n",
       "    <tr>\n",
       "      <th>count</th>\n",
       "      <td>4</td>\n",
       "    </tr>\n",
       "    <tr>\n",
       "      <th>unique</th>\n",
       "      <td>4</td>\n",
       "    </tr>\n",
       "    <tr>\n",
       "      <th>top</th>\n",
       "      <td>2015/5/5</td>\n",
       "    </tr>\n",
       "    <tr>\n",
       "      <th>freq</th>\n",
       "      <td>1</td>\n",
       "    </tr>\n",
       "  </tbody>\n",
       "</table>\n",
       "</div>"
      ],
      "text/plain": [
       "            Date\n",
       "count          4\n",
       "unique         4\n",
       "top     2015/5/5\n",
       "freq           1"
      ]
     },
     "execution_count": 84,
     "metadata": {
      "tags": []
     },
     "output_type": "execute_result"
    }
   ],
   "source": [
    "# summarize categorical columns\n",
    "sp.describe(include=['O']) "
   ]
  },
  {
   "cell_type": "code",
   "execution_count": 0,
   "metadata": {
    "cell_style": "split",
    "colab": {},
    "colab_type": "code",
    "id": "ztubCDQ-8mX9",
    "outputId": "52c0041a-1314-413e-f516-1cb8399979d7"
   },
   "outputs": [
    {
     "name": "stdout",
     "output_type": "stream",
     "text": [
      "<class 'pandas.core.frame.DataFrame'>\n",
      "RangeIndex: 4 entries, 0 to 3\n",
      "Data columns (total 4 columns):\n",
      "Date    4 non-null object\n",
      "GOOG    4 non-null float64\n",
      "APPL    4 non-null float64\n",
      "AMZN    4 non-null float64\n",
      "dtypes: float64(3), object(1)\n",
      "memory usage: 256.0+ bytes\n"
     ]
    }
   ],
   "source": [
    "sp.info()"
   ]
  },
  {
   "cell_type": "code",
   "execution_count": 0,
   "metadata": {
    "cell_style": "split",
    "colab": {},
    "colab_type": "code",
    "id": "MYWE7JwVdGaG",
    "outputId": "3fc4ad23-8fce-4365-be55-31489c67fc89",
    "scrolled": true
   },
   "outputs": [
    {
     "data": {
      "text/html": [
       "<div>\n",
       "<style scoped>\n",
       "    .dataframe tbody tr th:only-of-type {\n",
       "        vertical-align: middle;\n",
       "    }\n",
       "\n",
       "    .dataframe tbody tr th {\n",
       "        vertical-align: top;\n",
       "    }\n",
       "\n",
       "    .dataframe thead th {\n",
       "        text-align: right;\n",
       "    }\n",
       "</style>\n",
       "<table border=\"1\" class=\"dataframe\">\n",
       "  <thead>\n",
       "    <tr style=\"text-align: right;\">\n",
       "      <th></th>\n",
       "      <th>GOOG</th>\n",
       "      <th>APPL</th>\n",
       "      <th>AMZN</th>\n",
       "    </tr>\n",
       "  </thead>\n",
       "  <tbody>\n",
       "    <tr>\n",
       "      <th>0.25</th>\n",
       "      <td>529.154984</td>\n",
       "      <td>117.099819</td>\n",
       "      <td>420.667503</td>\n",
       "    </tr>\n",
       "    <tr>\n",
       "      <th>0.50</th>\n",
       "      <td>534.350006</td>\n",
       "      <td>118.635792</td>\n",
       "      <td>422.029998</td>\n",
       "    </tr>\n",
       "    <tr>\n",
       "      <th>0.75</th>\n",
       "      <td>538.620025</td>\n",
       "      <td>120.045897</td>\n",
       "      <td>422.912499</td>\n",
       "    </tr>\n",
       "  </tbody>\n",
       "</table>\n",
       "</div>"
      ],
      "text/plain": [
       "            GOOG        APPL        AMZN\n",
       "0.25  529.154984  117.099819  420.667503\n",
       "0.50  534.350006  118.635792  422.029998\n",
       "0.75  538.620025  120.045897  422.912499"
      ]
     },
     "execution_count": 16,
     "metadata": {
      "tags": []
     },
     "output_type": "execute_result"
    }
   ],
   "source": [
    "sp.quantile([.25, .5, .75])"
   ]
  },
  {
   "cell_type": "markdown",
   "metadata": {
    "colab_type": "text",
    "id": "4yucWwzAdGaI"
   },
   "source": [
    "- There are also methods for accumulations:"
   ]
  },
  {
   "cell_type": "code",
   "execution_count": 0,
   "metadata": {
    "cell_style": "split",
    "colab": {},
    "colab_type": "code",
    "id": "s-9r-iAudGaI",
    "outputId": "ff8b0401-8266-427a-af28-29829c68ac11"
   },
   "outputs": [
    {
     "data": {
      "text/html": [
       "<div>\n",
       "<style scoped>\n",
       "    .dataframe tbody tr th:only-of-type {\n",
       "        vertical-align: middle;\n",
       "    }\n",
       "\n",
       "    .dataframe tbody tr th {\n",
       "        vertical-align: top;\n",
       "    }\n",
       "\n",
       "    .dataframe thead th {\n",
       "        text-align: right;\n",
       "    }\n",
       "</style>\n",
       "<table border=\"1\" class=\"dataframe\">\n",
       "  <thead>\n",
       "    <tr style=\"text-align: right;\">\n",
       "      <th></th>\n",
       "      <th>GOOG</th>\n",
       "      <th>AMZN</th>\n",
       "      <th>APPL</th>\n",
       "    </tr>\n",
       "  </thead>\n",
       "  <tbody>\n",
       "    <tr>\n",
       "      <th>0</th>\n",
       "      <td>537.900024</td>\n",
       "      <td>422.869995</td>\n",
       "      <td>120.220688</td>\n",
       "    </tr>\n",
       "    <tr>\n",
       "      <th>1</th>\n",
       "      <td>1078.680053</td>\n",
       "      <td>845.910004</td>\n",
       "      <td>240.208321</td>\n",
       "    </tr>\n",
       "    <tr>\n",
       "      <th>2</th>\n",
       "      <td>1609.480041</td>\n",
       "      <td>1267.100006</td>\n",
       "      <td>357.492272</td>\n",
       "    </tr>\n",
       "    <tr>\n",
       "      <th>3</th>\n",
       "      <td>2133.700012</td>\n",
       "      <td>1686.200012</td>\n",
       "      <td>474.039696</td>\n",
       "    </tr>\n",
       "  </tbody>\n",
       "</table>\n",
       "</div>"
      ],
      "text/plain": [
       "          GOOG         AMZN        APPL\n",
       "0   537.900024   422.869995  120.220688\n",
       "1  1078.680053   845.910004  240.208321\n",
       "2  1609.480041  1267.100006  357.492272\n",
       "3  2133.700012  1686.200012  474.039696"
      ]
     },
     "execution_count": 20,
     "metadata": {
      "tags": []
     },
     "output_type": "execute_result"
    }
   ],
   "source": [
    "sp[['GOOG', 'AMZN', 'APPL']].cumsum()"
   ]
  },
  {
   "cell_type": "code",
   "execution_count": 0,
   "metadata": {
    "cell_style": "split",
    "colab": {},
    "colab_type": "code",
    "id": "aKfkH_yDdGaJ",
    "outputId": "cf1e2d73-f54a-4a57-91e5-9e0cd3357b40"
   },
   "outputs": [
    {
     "data": {
      "text/html": [
       "<div>\n",
       "<style scoped>\n",
       "    .dataframe tbody tr th:only-of-type {\n",
       "        vertical-align: middle;\n",
       "    }\n",
       "\n",
       "    .dataframe tbody tr th {\n",
       "        vertical-align: top;\n",
       "    }\n",
       "\n",
       "    .dataframe thead th {\n",
       "        text-align: right;\n",
       "    }\n",
       "</style>\n",
       "<table border=\"1\" class=\"dataframe\">\n",
       "  <thead>\n",
       "    <tr style=\"text-align: right;\">\n",
       "      <th></th>\n",
       "      <th>GOOG</th>\n",
       "      <th>AMZN</th>\n",
       "      <th>APPL</th>\n",
       "    </tr>\n",
       "  </thead>\n",
       "  <tbody>\n",
       "    <tr>\n",
       "      <th>0</th>\n",
       "      <td>537.900024</td>\n",
       "      <td>422.869995</td>\n",
       "      <td>120.220688</td>\n",
       "    </tr>\n",
       "    <tr>\n",
       "      <th>1</th>\n",
       "      <td>537.900024</td>\n",
       "      <td>422.869995</td>\n",
       "      <td>119.987633</td>\n",
       "    </tr>\n",
       "    <tr>\n",
       "      <th>2</th>\n",
       "      <td>530.799988</td>\n",
       "      <td>421.190002</td>\n",
       "      <td>117.283951</td>\n",
       "    </tr>\n",
       "    <tr>\n",
       "      <th>3</th>\n",
       "      <td>524.219971</td>\n",
       "      <td>419.100006</td>\n",
       "      <td>116.547424</td>\n",
       "    </tr>\n",
       "  </tbody>\n",
       "</table>\n",
       "</div>"
      ],
      "text/plain": [
       "         GOOG        AMZN        APPL\n",
       "0  537.900024  422.869995  120.220688\n",
       "1  537.900024  422.869995  119.987633\n",
       "2  530.799988  421.190002  117.283951\n",
       "3  524.219971  419.100006  116.547424"
      ]
     },
     "execution_count": 21,
     "metadata": {
      "tags": []
     },
     "output_type": "execute_result"
    }
   ],
   "source": [
    "sp[['GOOG', 'AMZN', 'APPL']].cummin()"
   ]
  },
  {
   "cell_type": "markdown",
   "metadata": {
    "colab_type": "text",
    "id": "P9XHcQ14dGaK"
   },
   "source": [
    "---\n",
    "### Applying Abitrary Functions Column or Row-wise\n",
    "\n",
    "\n",
    "\n",
    "`DataFrame` objects' [`apply()`](https://pandas.pydata.org/pandas-docs/stable/reference/api/pandas.DataFrame.apply.html) method allows arbitrary functions to be applied to each column (or row by setting `axis=1`). Objects passed to the function are individual columns (or rows):"
   ]
  },
  {
   "cell_type": "code",
   "execution_count": 0,
   "metadata": {
    "colab": {},
    "colab_type": "code",
    "id": "DMHX_r0N8mYD",
    "outputId": "2fb9107a-d9b0-4cc0-9a41-91df27266426"
   },
   "outputs": [
    {
     "data": {
      "text/plain": [
       "<Signature (func, axis=0, broadcast=None, raw=False, reduce=None, result_type=None, args=(), **kwds)>"
      ]
     },
     "execution_count": 85,
     "metadata": {
      "tags": []
     },
     "output_type": "execute_result"
    }
   ],
   "source": [
    "inspect.signature(sp[['GOOG', 'AMZN', 'APPL']].apply)"
   ]
  },
  {
   "cell_type": "code",
   "execution_count": 0,
   "metadata": {
    "colab": {},
    "colab_type": "code",
    "id": "MiTGboAKdGaL",
    "outputId": "16aae5b4-02ad-4fb5-96e0-e8458892b4a9"
   },
   "outputs": [
    {
     "data": {
      "text/html": [
       "<div>\n",
       "<style scoped>\n",
       "    .dataframe tbody tr th:only-of-type {\n",
       "        vertical-align: middle;\n",
       "    }\n",
       "\n",
       "    .dataframe tbody tr th {\n",
       "        vertical-align: top;\n",
       "    }\n",
       "\n",
       "    .dataframe thead th {\n",
       "        text-align: right;\n",
       "    }\n",
       "</style>\n",
       "<table border=\"1\" class=\"dataframe\">\n",
       "  <thead>\n",
       "    <tr style=\"text-align: right;\">\n",
       "      <th></th>\n",
       "      <th>GOOG</th>\n",
       "      <th>AMZN</th>\n",
       "      <th>APPL</th>\n",
       "    </tr>\n",
       "  </thead>\n",
       "  <tbody>\n",
       "    <tr>\n",
       "      <th>min</th>\n",
       "      <td>524.219971</td>\n",
       "      <td>419.100006</td>\n",
       "      <td>116.547424</td>\n",
       "    </tr>\n",
       "    <tr>\n",
       "      <th>max</th>\n",
       "      <td>540.780029</td>\n",
       "      <td>423.040009</td>\n",
       "      <td>120.220688</td>\n",
       "    </tr>\n",
       "  </tbody>\n",
       "</table>\n",
       "</div>"
      ],
      "text/plain": [
       "           GOOG        AMZN        APPL\n",
       "min  524.219971  419.100006  116.547424\n",
       "max  540.780029  423.040009  120.220688"
      ]
     },
     "execution_count": 43,
     "metadata": {
      "tags": []
     },
     "output_type": "execute_result"
    }
   ],
   "source": [
    "sp[['GOOG', 'AMZN', 'APPL']].apply(lambda x: pd.Series([x.min(), x.max()], index=['min', 'max']))"
   ]
  },
  {
   "cell_type": "markdown",
   "metadata": {
    "colab_type": "text",
    "id": "HOXf49a-dGaM"
   },
   "source": [
    "---\n",
    "\n",
    "## 2.8 Reshaping Data\n",
    "\n",
    "\n",
    "The same underlying data can be represented in multiple ways. But they are not equally easy to use.\n",
    "\n"
   ]
  },
  {
   "cell_type": "code",
   "execution_count": 11,
   "metadata": {
    "colab": {},
    "colab_type": "code",
    "id": "jl_jpbqg8mYG",
    "outputId": "31916664-1272-4742-c25d-e74c4ac7ac11",
    "scrolled": false
   },
   "outputs": [
    {
     "data": {
      "text/html": [
       "<div style=\"float: left; padding: 10px;\">\n",
       "    <p>sp</p><div>\n",
       "<style scoped>\n",
       "    .dataframe tbody tr th:only-of-type {\n",
       "        vertical-align: middle;\n",
       "    }\n",
       "\n",
       "    .dataframe tbody tr th {\n",
       "        vertical-align: top;\n",
       "    }\n",
       "\n",
       "    .dataframe thead th {\n",
       "        text-align: right;\n",
       "    }\n",
       "</style>\n",
       "<table border=\"1\" class=\"dataframe\">\n",
       "  <thead>\n",
       "    <tr style=\"text-align: right;\">\n",
       "      <th></th>\n",
       "      <th>Date</th>\n",
       "      <th>GOOG</th>\n",
       "      <th>APPL</th>\n",
       "      <th>AMZN</th>\n",
       "    </tr>\n",
       "  </thead>\n",
       "  <tbody>\n",
       "    <tr>\n",
       "      <th>0</th>\n",
       "      <td>2015/5/1</td>\n",
       "      <td>537.900024</td>\n",
       "      <td>120.220688</td>\n",
       "      <td>422.869995</td>\n",
       "    </tr>\n",
       "    <tr>\n",
       "      <th>1</th>\n",
       "      <td>2015/5/4</td>\n",
       "      <td>540.780029</td>\n",
       "      <td>119.987633</td>\n",
       "      <td>423.040009</td>\n",
       "    </tr>\n",
       "    <tr>\n",
       "      <th>2</th>\n",
       "      <td>2015/5/5</td>\n",
       "      <td>530.799988</td>\n",
       "      <td>117.283951</td>\n",
       "      <td>421.190002</td>\n",
       "    </tr>\n",
       "    <tr>\n",
       "      <th>3</th>\n",
       "      <td>2015/5/6</td>\n",
       "      <td>524.219971</td>\n",
       "      <td>116.547424</td>\n",
       "      <td>419.100006</td>\n",
       "    </tr>\n",
       "  </tbody>\n",
       "</table>\n",
       "</div>\n",
       "    </div>\n",
       "<div style=\"float: left; padding: 10px;\">\n",
       "    <p>sp_l</p><div>\n",
       "<style scoped>\n",
       "    .dataframe tbody tr th:only-of-type {\n",
       "        vertical-align: middle;\n",
       "    }\n",
       "\n",
       "    .dataframe tbody tr th {\n",
       "        vertical-align: top;\n",
       "    }\n",
       "\n",
       "    .dataframe thead th {\n",
       "        text-align: right;\n",
       "    }\n",
       "</style>\n",
       "<table border=\"1\" class=\"dataframe\">\n",
       "  <thead>\n",
       "    <tr style=\"text-align: right;\">\n",
       "      <th></th>\n",
       "      <th>Date</th>\n",
       "      <th>Symbol</th>\n",
       "      <th>Price</th>\n",
       "    </tr>\n",
       "  </thead>\n",
       "  <tbody>\n",
       "    <tr>\n",
       "      <th>0</th>\n",
       "      <td>2015/5/1</td>\n",
       "      <td>GOOG</td>\n",
       "      <td>537.900024</td>\n",
       "    </tr>\n",
       "    <tr>\n",
       "      <th>1</th>\n",
       "      <td>2015/5/4</td>\n",
       "      <td>GOOG</td>\n",
       "      <td>540.780029</td>\n",
       "    </tr>\n",
       "    <tr>\n",
       "      <th>2</th>\n",
       "      <td>2015/5/5</td>\n",
       "      <td>GOOG</td>\n",
       "      <td>530.799988</td>\n",
       "    </tr>\n",
       "    <tr>\n",
       "      <th>3</th>\n",
       "      <td>2015/5/6</td>\n",
       "      <td>GOOG</td>\n",
       "      <td>524.219971</td>\n",
       "    </tr>\n",
       "    <tr>\n",
       "      <th>4</th>\n",
       "      <td>2015/5/1</td>\n",
       "      <td>APPL</td>\n",
       "      <td>120.220688</td>\n",
       "    </tr>\n",
       "    <tr>\n",
       "      <th>...</th>\n",
       "      <td>...</td>\n",
       "      <td>...</td>\n",
       "      <td>...</td>\n",
       "    </tr>\n",
       "    <tr>\n",
       "      <th>7</th>\n",
       "      <td>2015/5/6</td>\n",
       "      <td>APPL</td>\n",
       "      <td>116.547424</td>\n",
       "    </tr>\n",
       "    <tr>\n",
       "      <th>8</th>\n",
       "      <td>2015/5/1</td>\n",
       "      <td>AMZN</td>\n",
       "      <td>422.869995</td>\n",
       "    </tr>\n",
       "    <tr>\n",
       "      <th>9</th>\n",
       "      <td>2015/5/4</td>\n",
       "      <td>AMZN</td>\n",
       "      <td>423.040009</td>\n",
       "    </tr>\n",
       "    <tr>\n",
       "      <th>10</th>\n",
       "      <td>2015/5/5</td>\n",
       "      <td>AMZN</td>\n",
       "      <td>421.190002</td>\n",
       "    </tr>\n",
       "    <tr>\n",
       "      <th>11</th>\n",
       "      <td>2015/5/6</td>\n",
       "      <td>AMZN</td>\n",
       "      <td>419.100006</td>\n",
       "    </tr>\n",
       "  </tbody>\n",
       "</table>\n",
       "<p>12 rows × 3 columns</p>\n",
       "</div>\n",
       "    </div>"
      ],
      "text/plain": [
       "sp\n",
       "       Date        GOOG        APPL        AMZN\n",
       "0  2015/5/1  537.900024  120.220688  422.869995\n",
       "1  2015/5/4  540.780029  119.987633  423.040009\n",
       "2  2015/5/5  530.799988  117.283951  421.190002\n",
       "3  2015/5/6  524.219971  116.547424  419.100006\n",
       "\n",
       "sp_l\n",
       "        Date Symbol       Price\n",
       "0   2015/5/1   GOOG  537.900024\n",
       "1   2015/5/4   GOOG  540.780029\n",
       "2   2015/5/5   GOOG  530.799988\n",
       "3   2015/5/6   GOOG  524.219971\n",
       "4   2015/5/1   APPL  120.220688\n",
       "..       ...    ...         ...\n",
       "7   2015/5/6   APPL  116.547424\n",
       "8   2015/5/1   AMZN  422.869995\n",
       "9   2015/5/4   AMZN  423.040009\n",
       "10  2015/5/5   AMZN  421.190002\n",
       "11  2015/5/6   AMZN  419.100006\n",
       "\n",
       "[12 rows x 3 columns]"
      ]
     },
     "execution_count": 11,
     "metadata": {},
     "output_type": "execute_result"
    }
   ],
   "source": [
    "sp_l = pd.melt(sp, id_vars='Date', var_name='Symbol', value_name='Price')\n",
    "display('sp', 'sp_l')"
   ]
  },
  {
   "cell_type": "code",
   "execution_count": 0,
   "metadata": {
    "cell_style": "split",
    "colab": {},
    "colab_type": "code",
    "hide_input": true,
    "id": "X3dl6UJj8mYL",
    "outputId": "99a0c6f8-5929-4ccd-f3a7-203de84ee92f",
    "scrolled": true
   },
   "outputs": [
    {
     "data": {
      "image/png": "[encoded data removed]",
      "text/plain": [
       "<Figure size 360x374.4 with 2 Axes>"
      ]
     },
     "metadata": {
      "image/png": {
       "height": 310,
       "width": 312
      },
      "tags": []
     },
     "output_type": "display_data"
    }
   ],
   "source": [
    "# e.g., sns.heatmap() expects the wide format\n",
    "fig, ax = plt.subplots(figsize=(5, 5.2))\n",
    "sns.heatmap(sp.set_index(\"Date\"), fmt=\".2f\", \n",
    "            cmap=\"Blues\", \n",
    "            linewidth=1, annot = True)\n",
    "ax.set_ylim(len(sp)+0.01, 0) \n",
    "plt.show()"
   ]
  },
  {
   "cell_type": "code",
   "execution_count": 0,
   "metadata": {
    "cell_style": "split",
    "colab": {},
    "colab_type": "code",
    "hide_input": true,
    "id": "qjsh7w018mYM",
    "outputId": "a95d8205-8bca-4296-af25-7da2e00ddcab",
    "scrolled": true
   },
   "outputs": [
    {
     "data": {
      "image/png": "[encoded data removed]",
      "text/plain": [
       "<Figure size 446.4x288 with 1 Axes>"
      ]
     },
     "metadata": {
      "image/png": {
       "height": 258,
       "width": 397
      },
      "needs_background": "light",
      "tags": []
     },
     "output_type": "display_data"
    }
   ],
   "source": [
    "# e.g., sns.lineplot() expects the long format\n",
    "fig, ax = plt.subplots(figsize=(6.2, 4))\n",
    "sns.lineplot('Date', 'Price', \n",
    "             style='Symbol', hue='Symbol',\n",
    "             markers=True, dashes=False, \n",
    "             data=sp_l, ax=ax)\n",
    "plt.show()"
   ]
  },
  {
   "cell_type": "markdown",
   "metadata": {
    "colab_type": "text",
    "id": "SleqGHjo8mYN"
   },
   "source": [
    "---\n",
    " \n",
    "### 2.8.1 Melting Data\n",
    "\n",
    " \n",
    "\n",
    "[`melt()`](https://pandas.pydata.org/pandas-docs/stable/reference/api/pandas.melt.html) (and the corresponding [method](https://pandas.pydata.org/pandas-docs/stable/reference/api/pandas.DataFrame.melt.html)) pushes data that is currently in columns into rows:"
   ]
  },
  {
   "cell_type": "code",
   "execution_count": 0,
   "metadata": {
    "colab": {},
    "colab_type": "code",
    "id": "_MDsJ6ModGaM",
    "outputId": "6d433c55-50c7-4765-c406-ee056f1f04fb"
   },
   "outputs": [
    {
     "data": {
      "text/plain": [
       "<Signature (frame, id_vars=None, value_vars=None, var_name=None, value_name='value', col_level=None)>"
      ]
     },
     "execution_count": 9,
     "metadata": {
      "tags": []
     },
     "output_type": "execute_result"
    }
   ],
   "source": [
    "inspect.signature(pd.melt)"
   ]
  },
  {
   "cell_type": "code",
   "execution_count": 9,
   "metadata": {
    "cell_style": "center",
    "colab": {},
    "colab_type": "code",
    "id": "-gW4V4SBdGaQ",
    "outputId": "9ee35c4d-57ee-49f3-a34c-8a0e6690bdbf",
    "scrolled": false
   },
   "outputs": [
    {
     "data": {
      "text/html": [
       "<div style=\"float: left; padding: 10px;\">\n",
       "    <p>sv</p><div>\n",
       "<style scoped>\n",
       "    .dataframe tbody tr th:only-of-type {\n",
       "        vertical-align: middle;\n",
       "    }\n",
       "\n",
       "    .dataframe tbody tr th {\n",
       "        vertical-align: top;\n",
       "    }\n",
       "\n",
       "    .dataframe thead th {\n",
       "        text-align: right;\n",
       "    }\n",
       "</style>\n",
       "<table border=\"1\" class=\"dataframe\">\n",
       "  <thead>\n",
       "    <tr style=\"text-align: right;\">\n",
       "      <th></th>\n",
       "      <th>Date</th>\n",
       "      <th>GOOG</th>\n",
       "      <th>APPL</th>\n",
       "      <th>AMZN</th>\n",
       "    </tr>\n",
       "  </thead>\n",
       "  <tbody>\n",
       "    <tr>\n",
       "      <th>0</th>\n",
       "      <td>2015/5/1</td>\n",
       "      <td>1768200</td>\n",
       "      <td>58512600</td>\n",
       "      <td>3565800</td>\n",
       "    </tr>\n",
       "    <tr>\n",
       "      <th>1</th>\n",
       "      <td>2015/5/4</td>\n",
       "      <td>1308000</td>\n",
       "      <td>50988300</td>\n",
       "      <td>2270400</td>\n",
       "    </tr>\n",
       "    <tr>\n",
       "      <th>2</th>\n",
       "      <td>2015/5/5</td>\n",
       "      <td>1383100</td>\n",
       "      <td>49271400</td>\n",
       "      <td>2856400</td>\n",
       "    </tr>\n",
       "    <tr>\n",
       "      <th>3</th>\n",
       "      <td>2015/5/6</td>\n",
       "      <td>1567000</td>\n",
       "      <td>72141000</td>\n",
       "      <td>2552500</td>\n",
       "    </tr>\n",
       "  </tbody>\n",
       "</table>\n",
       "</div>\n",
       "    </div>\n",
       "<div style=\"float: left; padding: 10px;\">\n",
       "    <p>sv_l</p><div>\n",
       "<style scoped>\n",
       "    .dataframe tbody tr th:only-of-type {\n",
       "        vertical-align: middle;\n",
       "    }\n",
       "\n",
       "    .dataframe tbody tr th {\n",
       "        vertical-align: top;\n",
       "    }\n",
       "\n",
       "    .dataframe thead th {\n",
       "        text-align: right;\n",
       "    }\n",
       "</style>\n",
       "<table border=\"1\" class=\"dataframe\">\n",
       "  <thead>\n",
       "    <tr style=\"text-align: right;\">\n",
       "      <th></th>\n",
       "      <th>Date</th>\n",
       "      <th>Symbol</th>\n",
       "      <th>Volume</th>\n",
       "    </tr>\n",
       "  </thead>\n",
       "  <tbody>\n",
       "    <tr>\n",
       "      <th>0</th>\n",
       "      <td>2015/5/1</td>\n",
       "      <td>GOOG</td>\n",
       "      <td>1768200</td>\n",
       "    </tr>\n",
       "    <tr>\n",
       "      <th>1</th>\n",
       "      <td>2015/5/4</td>\n",
       "      <td>GOOG</td>\n",
       "      <td>1308000</td>\n",
       "    </tr>\n",
       "    <tr>\n",
       "      <th>2</th>\n",
       "      <td>2015/5/5</td>\n",
       "      <td>GOOG</td>\n",
       "      <td>1383100</td>\n",
       "    </tr>\n",
       "    <tr>\n",
       "      <th>3</th>\n",
       "      <td>2015/5/6</td>\n",
       "      <td>GOOG</td>\n",
       "      <td>1567000</td>\n",
       "    </tr>\n",
       "    <tr>\n",
       "      <th>4</th>\n",
       "      <td>2015/5/1</td>\n",
       "      <td>APPL</td>\n",
       "      <td>58512600</td>\n",
       "    </tr>\n",
       "    <tr>\n",
       "      <th>...</th>\n",
       "      <td>...</td>\n",
       "      <td>...</td>\n",
       "      <td>...</td>\n",
       "    </tr>\n",
       "    <tr>\n",
       "      <th>7</th>\n",
       "      <td>2015/5/6</td>\n",
       "      <td>APPL</td>\n",
       "      <td>72141000</td>\n",
       "    </tr>\n",
       "    <tr>\n",
       "      <th>8</th>\n",
       "      <td>2015/5/1</td>\n",
       "      <td>AMZN</td>\n",
       "      <td>3565800</td>\n",
       "    </tr>\n",
       "    <tr>\n",
       "      <th>9</th>\n",
       "      <td>2015/5/4</td>\n",
       "      <td>AMZN</td>\n",
       "      <td>2270400</td>\n",
       "    </tr>\n",
       "    <tr>\n",
       "      <th>10</th>\n",
       "      <td>2015/5/5</td>\n",
       "      <td>AMZN</td>\n",
       "      <td>2856400</td>\n",
       "    </tr>\n",
       "    <tr>\n",
       "      <th>11</th>\n",
       "      <td>2015/5/6</td>\n",
       "      <td>AMZN</td>\n",
       "      <td>2552500</td>\n",
       "    </tr>\n",
       "  </tbody>\n",
       "</table>\n",
       "<p>12 rows × 3 columns</p>\n",
       "</div>\n",
       "    </div>"
      ],
      "text/plain": [
       "sv\n",
       "       Date     GOOG      APPL     AMZN\n",
       "0  2015/5/1  1768200  58512600  3565800\n",
       "1  2015/5/4  1308000  50988300  2270400\n",
       "2  2015/5/5  1383100  49271400  2856400\n",
       "3  2015/5/6  1567000  72141000  2552500\n",
       "\n",
       "sv_l\n",
       "        Date Symbol    Volume\n",
       "0   2015/5/1   GOOG   1768200\n",
       "1   2015/5/4   GOOG   1308000\n",
       "2   2015/5/5   GOOG   1383100\n",
       "3   2015/5/6   GOOG   1567000\n",
       "4   2015/5/1   APPL  58512600\n",
       "..       ...    ...       ...\n",
       "7   2015/5/6   APPL  72141000\n",
       "8   2015/5/1   AMZN   3565800\n",
       "9   2015/5/4   AMZN   2270400\n",
       "10  2015/5/5   AMZN   2856400\n",
       "11  2015/5/6   AMZN   2552500\n",
       "\n",
       "[12 rows x 3 columns]"
      ]
     },
     "execution_count": 9,
     "metadata": {},
     "output_type": "execute_result"
    }
   ],
   "source": [
    "# !curl -L -s -o stockvolume.csv \"https://drive.google.com/uc?id=14KlRbT6gGpSGoAiiyX8yf65EQK7Xrng0\"\n",
    "sv = pd.read_csv(\"stockvolume.csv\")\n",
    "sv_l = pd.melt(sv, id_vars='Date', var_name='Symbol', value_name='Volume')\n",
    "display('sv', 'sv_l')"
   ]
  },
  {
   "cell_type": "markdown",
   "metadata": {
    "colab_type": "text",
    "id": "LBkecJ_3dGaX"
   },
   "source": [
    "\n",
    "---\n",
    "\n",
    "### 2.8.2 Pivoting Data\n",
    "\n",
    "\n",
    "[`pivot_table()`](https://pandas.pydata.org/pandas-docs/stable/reference/api/pandas.pivot_table.html) (and its [method counterpart](https://pandas.pydata.org/pandas-docs/stable/reference/api/pandas.DataFrame.pivot.html)) can pull the values across rows into their own columns, an operation that is the opposite of `melt()`:"
   ]
  },
  {
   "cell_type": "code",
   "execution_count": 0,
   "metadata": {
    "colab": {},
    "colab_type": "code",
    "id": "Zkb7IDNUdGaX",
    "outputId": "e4fd0b5e-aeba-4045-f827-27ce64371ded"
   },
   "outputs": [
    {
     "data": {
      "text/plain": [
       "<Signature (data, values=None, index=None, columns=None, aggfunc='mean', fill_value=None, margins=False, dropna=True, margins_name='All')>"
      ]
     },
     "execution_count": 13,
     "metadata": {
      "tags": []
     },
     "output_type": "execute_result"
    }
   ],
   "source": [
    "inspect.signature(pd.pivot_table)"
   ]
  },
  {
   "cell_type": "code",
   "execution_count": 12,
   "metadata": {
    "colab": {},
    "colab_type": "code",
    "id": "7Adjsd1pdGaY",
    "outputId": "b236c2bc-f296-44b7-b1d6-bf90b4aad102"
   },
   "outputs": [
    {
     "data": {
      "text/html": [
       "<div style=\"float: left; padding: 10px;\">\n",
       "    <p>sp_l</p><div>\n",
       "<style scoped>\n",
       "    .dataframe tbody tr th:only-of-type {\n",
       "        vertical-align: middle;\n",
       "    }\n",
       "\n",
       "    .dataframe tbody tr th {\n",
       "        vertical-align: top;\n",
       "    }\n",
       "\n",
       "    .dataframe thead th {\n",
       "        text-align: right;\n",
       "    }\n",
       "</style>\n",
       "<table border=\"1\" class=\"dataframe\">\n",
       "  <thead>\n",
       "    <tr style=\"text-align: right;\">\n",
       "      <th></th>\n",
       "      <th>Date</th>\n",
       "      <th>Symbol</th>\n",
       "      <th>Price</th>\n",
       "    </tr>\n",
       "  </thead>\n",
       "  <tbody>\n",
       "    <tr>\n",
       "      <th>0</th>\n",
       "      <td>2015/5/1</td>\n",
       "      <td>GOOG</td>\n",
       "      <td>537.900024</td>\n",
       "    </tr>\n",
       "    <tr>\n",
       "      <th>1</th>\n",
       "      <td>2015/5/4</td>\n",
       "      <td>GOOG</td>\n",
       "      <td>540.780029</td>\n",
       "    </tr>\n",
       "    <tr>\n",
       "      <th>2</th>\n",
       "      <td>2015/5/5</td>\n",
       "      <td>GOOG</td>\n",
       "      <td>530.799988</td>\n",
       "    </tr>\n",
       "    <tr>\n",
       "      <th>3</th>\n",
       "      <td>2015/5/6</td>\n",
       "      <td>GOOG</td>\n",
       "      <td>524.219971</td>\n",
       "    </tr>\n",
       "    <tr>\n",
       "      <th>4</th>\n",
       "      <td>2015/5/1</td>\n",
       "      <td>APPL</td>\n",
       "      <td>120.220688</td>\n",
       "    </tr>\n",
       "    <tr>\n",
       "      <th>...</th>\n",
       "      <td>...</td>\n",
       "      <td>...</td>\n",
       "      <td>...</td>\n",
       "    </tr>\n",
       "    <tr>\n",
       "      <th>7</th>\n",
       "      <td>2015/5/6</td>\n",
       "      <td>APPL</td>\n",
       "      <td>116.547424</td>\n",
       "    </tr>\n",
       "    <tr>\n",
       "      <th>8</th>\n",
       "      <td>2015/5/1</td>\n",
       "      <td>AMZN</td>\n",
       "      <td>422.869995</td>\n",
       "    </tr>\n",
       "    <tr>\n",
       "      <th>9</th>\n",
       "      <td>2015/5/4</td>\n",
       "      <td>AMZN</td>\n",
       "      <td>423.040009</td>\n",
       "    </tr>\n",
       "    <tr>\n",
       "      <th>10</th>\n",
       "      <td>2015/5/5</td>\n",
       "      <td>AMZN</td>\n",
       "      <td>421.190002</td>\n",
       "    </tr>\n",
       "    <tr>\n",
       "      <th>11</th>\n",
       "      <td>2015/5/6</td>\n",
       "      <td>AMZN</td>\n",
       "      <td>419.100006</td>\n",
       "    </tr>\n",
       "  </tbody>\n",
       "</table>\n",
       "<p>12 rows × 3 columns</p>\n",
       "</div>\n",
       "    </div>\n",
       "<div style=\"float: left; padding: 10px;\">\n",
       "    <p>sp_w</p><div>\n",
       "<style scoped>\n",
       "    .dataframe tbody tr th:only-of-type {\n",
       "        vertical-align: middle;\n",
       "    }\n",
       "\n",
       "    .dataframe tbody tr th {\n",
       "        vertical-align: top;\n",
       "    }\n",
       "\n",
       "    .dataframe thead th {\n",
       "        text-align: right;\n",
       "    }\n",
       "</style>\n",
       "<table border=\"1\" class=\"dataframe\">\n",
       "  <thead>\n",
       "    <tr style=\"text-align: right;\">\n",
       "      <th>Date</th>\n",
       "      <th>2015/5/1</th>\n",
       "      <th>2015/5/4</th>\n",
       "      <th>2015/5/5</th>\n",
       "      <th>2015/5/6</th>\n",
       "    </tr>\n",
       "    <tr>\n",
       "      <th>Symbol</th>\n",
       "      <th></th>\n",
       "      <th></th>\n",
       "      <th></th>\n",
       "      <th></th>\n",
       "    </tr>\n",
       "  </thead>\n",
       "  <tbody>\n",
       "    <tr>\n",
       "      <th>AMZN</th>\n",
       "      <td>422.869995</td>\n",
       "      <td>423.040009</td>\n",
       "      <td>421.190002</td>\n",
       "      <td>419.100006</td>\n",
       "    </tr>\n",
       "    <tr>\n",
       "      <th>APPL</th>\n",
       "      <td>120.220688</td>\n",
       "      <td>119.987633</td>\n",
       "      <td>117.283951</td>\n",
       "      <td>116.547424</td>\n",
       "    </tr>\n",
       "    <tr>\n",
       "      <th>GOOG</th>\n",
       "      <td>537.900024</td>\n",
       "      <td>540.780029</td>\n",
       "      <td>530.799988</td>\n",
       "      <td>524.219971</td>\n",
       "    </tr>\n",
       "  </tbody>\n",
       "</table>\n",
       "</div>\n",
       "    </div>"
      ],
      "text/plain": [
       "sp_l\n",
       "        Date Symbol       Price\n",
       "0   2015/5/1   GOOG  537.900024\n",
       "1   2015/5/4   GOOG  540.780029\n",
       "2   2015/5/5   GOOG  530.799988\n",
       "3   2015/5/6   GOOG  524.219971\n",
       "4   2015/5/1   APPL  120.220688\n",
       "..       ...    ...         ...\n",
       "7   2015/5/6   APPL  116.547424\n",
       "8   2015/5/1   AMZN  422.869995\n",
       "9   2015/5/4   AMZN  423.040009\n",
       "10  2015/5/5   AMZN  421.190002\n",
       "11  2015/5/6   AMZN  419.100006\n",
       "\n",
       "[12 rows x 3 columns]\n",
       "\n",
       "sp_w\n",
       "Date      2015/5/1    2015/5/4    2015/5/5    2015/5/6\n",
       "Symbol                                                \n",
       "AMZN    422.869995  423.040009  421.190002  419.100006\n",
       "APPL    120.220688  119.987633  117.283951  116.547424\n",
       "GOOG    537.900024  540.780029  530.799988  524.219971"
      ]
     },
     "execution_count": 12,
     "metadata": {},
     "output_type": "execute_result"
    }
   ],
   "source": [
    "sp_w = pd.pivot_table(sp_l, values='Price', index='Symbol', columns='Date')\n",
    "display('sp_l', 'sp_w')"
   ]
  },
  {
   "cell_type": "markdown",
   "metadata": {
    "colab_type": "text",
    "id": "9IUYp8UzdGaa"
   },
   "source": [
    "`values` specifies the columns from which values are used to fill the the resulting `DataFrame`, while `index` and `columns` specifies the column(s) to be used as its index and column. \n",
    "\n",
    "\n"
   ]
  },
  {
   "cell_type": "code",
   "execution_count": 0,
   "metadata": {
    "colab": {},
    "colab_type": "code",
    "id": "mA1ott9WdGaa",
    "outputId": "1d9a514b-bfca-4a58-ba9d-53ae8b331104"
   },
   "outputs": [
    {
     "data": {
      "text/plain": [
       "(Index(['AMZN', 'APPL', 'GOOG'], dtype='object', name='Symbol'),\n",
       " Index(['2015/5/1', '2015/5/4', '2015/5/5', '2015/5/6'], dtype='object', name='Date'))"
      ]
     },
     "execution_count": 46,
     "metadata": {
      "tags": []
     },
     "output_type": "execute_result"
    }
   ],
   "source": [
    "sp_w.index, sp_w.columns"
   ]
  },
  {
   "cell_type": "markdown",
   "metadata": {
    "colab_type": "text",
    "id": "e6EqINjtdGab"
   },
   "source": [
    "It is often desired to insert the index into a column using [`reset_index()`](https://pandas.pydata.org/pandas-docs/stable/reference/api/pandas.DataFrame.reset_index.html):"
   ]
  },
  {
   "cell_type": "code",
   "execution_count": 0,
   "metadata": {
    "colab": {},
    "colab_type": "code",
    "id": "2VeT0G2F8mYW",
    "outputId": "3c130c2b-cd8c-46d2-bfbe-59474a6be11a"
   },
   "outputs": [
    {
     "data": {
      "text/plain": [
       "<Signature (self, level=None, drop=False, inplace=False, col_level=0, col_fill='')>"
      ]
     },
     "execution_count": 30,
     "metadata": {
      "tags": []
     },
     "output_type": "execute_result"
    }
   ],
   "source": [
    "inspect.signature(pd.DataFrame.reset_index)"
   ]
  },
  {
   "cell_type": "code",
   "execution_count": 0,
   "metadata": {
    "colab": {},
    "colab_type": "code",
    "id": "PW-W8bnKdGac",
    "outputId": "70dc8cd5-e441-46b1-ad37-b1ce2fe81e56"
   },
   "outputs": [
    {
     "data": {
      "text/html": [
       "<div>\n",
       "<style scoped>\n",
       "    .dataframe tbody tr th:only-of-type {\n",
       "        vertical-align: middle;\n",
       "    }\n",
       "\n",
       "    .dataframe tbody tr th {\n",
       "        vertical-align: top;\n",
       "    }\n",
       "\n",
       "    .dataframe thead th {\n",
       "        text-align: right;\n",
       "    }\n",
       "</style>\n",
       "<table border=\"1\" class=\"dataframe\">\n",
       "  <thead>\n",
       "    <tr style=\"text-align: right;\">\n",
       "      <th>Date</th>\n",
       "      <th>Symbol</th>\n",
       "      <th>2015/5/1</th>\n",
       "      <th>2015/5/4</th>\n",
       "      <th>2015/5/5</th>\n",
       "      <th>2015/5/6</th>\n",
       "    </tr>\n",
       "  </thead>\n",
       "  <tbody>\n",
       "    <tr>\n",
       "      <th>0</th>\n",
       "      <td>AMZN</td>\n",
       "      <td>422.869995</td>\n",
       "      <td>423.040009</td>\n",
       "      <td>421.190002</td>\n",
       "      <td>419.100006</td>\n",
       "    </tr>\n",
       "    <tr>\n",
       "      <th>1</th>\n",
       "      <td>APPL</td>\n",
       "      <td>120.220688</td>\n",
       "      <td>119.987633</td>\n",
       "      <td>117.283951</td>\n",
       "      <td>116.547424</td>\n",
       "    </tr>\n",
       "    <tr>\n",
       "      <th>2</th>\n",
       "      <td>GOOG</td>\n",
       "      <td>537.900024</td>\n",
       "      <td>540.780029</td>\n",
       "      <td>530.799988</td>\n",
       "      <td>524.219971</td>\n",
       "    </tr>\n",
       "  </tbody>\n",
       "</table>\n",
       "</div>"
      ],
      "text/plain": [
       "Date Symbol    2015/5/1    2015/5/4    2015/5/5    2015/5/6\n",
       "0      AMZN  422.869995  423.040009  421.190002  419.100006\n",
       "1      APPL  120.220688  119.987633  117.283951  116.547424\n",
       "2      GOOG  537.900024  540.780029  530.799988  524.219971"
      ]
     },
     "execution_count": 12,
     "metadata": {
      "tags": []
     },
     "output_type": "execute_result"
    }
   ],
   "source": [
    "sp_w.reset_index(inplace=True); sp_w"
   ]
  },
  {
   "cell_type": "code",
   "execution_count": 0,
   "metadata": {
    "colab": {},
    "colab_type": "code",
    "id": "zgJSPG678mYX",
    "outputId": "7473759f-7a91-46b8-a842-7a585e4b8442"
   },
   "outputs": [
    {
     "data": {
      "text/html": [
       "<div>\n",
       "<style scoped>\n",
       "    .dataframe tbody tr th:only-of-type {\n",
       "        vertical-align: middle;\n",
       "    }\n",
       "\n",
       "    .dataframe tbody tr th {\n",
       "        vertical-align: top;\n",
       "    }\n",
       "\n",
       "    .dataframe thead th {\n",
       "        text-align: right;\n",
       "    }\n",
       "</style>\n",
       "<table border=\"1\" class=\"dataframe\">\n",
       "  <thead>\n",
       "    <tr style=\"text-align: right;\">\n",
       "      <th></th>\n",
       "      <th>Symbol</th>\n",
       "      <th>2015/5/1</th>\n",
       "      <th>2015/5/4</th>\n",
       "      <th>2015/5/5</th>\n",
       "      <th>2015/5/6</th>\n",
       "    </tr>\n",
       "  </thead>\n",
       "  <tbody>\n",
       "    <tr>\n",
       "      <th>0</th>\n",
       "      <td>AMZN</td>\n",
       "      <td>422.869995</td>\n",
       "      <td>423.040009</td>\n",
       "      <td>421.190002</td>\n",
       "      <td>419.100006</td>\n",
       "    </tr>\n",
       "    <tr>\n",
       "      <th>1</th>\n",
       "      <td>APPL</td>\n",
       "      <td>120.220688</td>\n",
       "      <td>119.987633</td>\n",
       "      <td>117.283951</td>\n",
       "      <td>116.547424</td>\n",
       "    </tr>\n",
       "    <tr>\n",
       "      <th>2</th>\n",
       "      <td>GOOG</td>\n",
       "      <td>537.900024</td>\n",
       "      <td>540.780029</td>\n",
       "      <td>530.799988</td>\n",
       "      <td>524.219971</td>\n",
       "    </tr>\n",
       "  </tbody>\n",
       "</table>\n",
       "</div>"
      ],
      "text/plain": [
       "  Symbol    2015/5/1    2015/5/4    2015/5/5    2015/5/6\n",
       "0   AMZN  422.869995  423.040009  421.190002  419.100006\n",
       "1   APPL  120.220688  119.987633  117.283951  116.547424\n",
       "2   GOOG  537.900024  540.780029  530.799988  524.219971"
      ]
     },
     "execution_count": 13,
     "metadata": {
      "tags": []
     },
     "output_type": "execute_result"
    }
   ],
   "source": [
    "sp_w.columns.name = None; sp_w"
   ]
  },
  {
   "cell_type": "markdown",
   "metadata": {
    "colab_type": "text",
    "id": "fiH2kZyL8mYY"
   },
   "source": [
    "To set a `DataFrame` index using existing columns, use [`set_index()`](https://pandas.pydata.org/pandas-docs/stable/reference/api/pandas.DataFrame.set_index.html), e.g., `sp_w.set_index('Symbol')`."
   ]
  },
  {
   "cell_type": "markdown",
   "metadata": {
    "colab_type": "text",
    "id": "awJLsTQddGae"
   },
   "source": [
    "Beyond transforming data from \"long\" to \"wide\" format, `pivot_table()` also works as a data summarization tool, allowing for pivoting with aggregations of numeric data (defined by `aggfunc` that defaults to [`np.mean()`](https://docs.scipy.org/doc/numpy/reference/generated/numpy.mean.html)) when pivoting results have multiple rows sharing the same key:\n",
    " "
   ]
  },
  {
   "cell_type": "code",
   "execution_count": 13,
   "metadata": {
    "colab": {},
    "colab_type": "code",
    "id": "vfOoj3tQ8mYZ",
    "outputId": "ab18ba38-a282-4bdc-bfe0-b042f4150c84"
   },
   "outputs": [
    {
     "data": {
      "text/html": [
       "<div style=\"float: left; padding: 10px;\">\n",
       "    <p>sp_l</p><div>\n",
       "<style scoped>\n",
       "    .dataframe tbody tr th:only-of-type {\n",
       "        vertical-align: middle;\n",
       "    }\n",
       "\n",
       "    .dataframe tbody tr th {\n",
       "        vertical-align: top;\n",
       "    }\n",
       "\n",
       "    .dataframe thead th {\n",
       "        text-align: right;\n",
       "    }\n",
       "</style>\n",
       "<table border=\"1\" class=\"dataframe\">\n",
       "  <thead>\n",
       "    <tr style=\"text-align: right;\">\n",
       "      <th></th>\n",
       "      <th>Date</th>\n",
       "      <th>Symbol</th>\n",
       "      <th>Price</th>\n",
       "    </tr>\n",
       "  </thead>\n",
       "  <tbody>\n",
       "    <tr>\n",
       "      <th>0</th>\n",
       "      <td>2015/5/1</td>\n",
       "      <td>GOOG</td>\n",
       "      <td>537.900024</td>\n",
       "    </tr>\n",
       "    <tr>\n",
       "      <th>1</th>\n",
       "      <td>2015/5/4</td>\n",
       "      <td>GOOG</td>\n",
       "      <td>540.780029</td>\n",
       "    </tr>\n",
       "    <tr>\n",
       "      <th>2</th>\n",
       "      <td>2015/5/5</td>\n",
       "      <td>GOOG</td>\n",
       "      <td>530.799988</td>\n",
       "    </tr>\n",
       "    <tr>\n",
       "      <th>3</th>\n",
       "      <td>2015/5/6</td>\n",
       "      <td>GOOG</td>\n",
       "      <td>524.219971</td>\n",
       "    </tr>\n",
       "    <tr>\n",
       "      <th>4</th>\n",
       "      <td>2015/5/1</td>\n",
       "      <td>APPL</td>\n",
       "      <td>120.220688</td>\n",
       "    </tr>\n",
       "    <tr>\n",
       "      <th>...</th>\n",
       "      <td>...</td>\n",
       "      <td>...</td>\n",
       "      <td>...</td>\n",
       "    </tr>\n",
       "    <tr>\n",
       "      <th>7</th>\n",
       "      <td>2015/5/6</td>\n",
       "      <td>APPL</td>\n",
       "      <td>116.547424</td>\n",
       "    </tr>\n",
       "    <tr>\n",
       "      <th>8</th>\n",
       "      <td>2015/5/1</td>\n",
       "      <td>AMZN</td>\n",
       "      <td>422.869995</td>\n",
       "    </tr>\n",
       "    <tr>\n",
       "      <th>9</th>\n",
       "      <td>2015/5/4</td>\n",
       "      <td>AMZN</td>\n",
       "      <td>423.040009</td>\n",
       "    </tr>\n",
       "    <tr>\n",
       "      <th>10</th>\n",
       "      <td>2015/5/5</td>\n",
       "      <td>AMZN</td>\n",
       "      <td>421.190002</td>\n",
       "    </tr>\n",
       "    <tr>\n",
       "      <th>11</th>\n",
       "      <td>2015/5/6</td>\n",
       "      <td>AMZN</td>\n",
       "      <td>419.100006</td>\n",
       "    </tr>\n",
       "  </tbody>\n",
       "</table>\n",
       "<p>12 rows × 3 columns</p>\n",
       "</div>\n",
       "    </div>\n",
       "<div style=\"float: left; padding: 10px;\">\n",
       "    <p>sp_s</p><div>\n",
       "<style scoped>\n",
       "    .dataframe tbody tr th:only-of-type {\n",
       "        vertical-align: middle;\n",
       "    }\n",
       "\n",
       "    .dataframe tbody tr th {\n",
       "        vertical-align: top;\n",
       "    }\n",
       "\n",
       "    .dataframe thead th {\n",
       "        text-align: right;\n",
       "    }\n",
       "</style>\n",
       "<table border=\"1\" class=\"dataframe\">\n",
       "  <thead>\n",
       "    <tr style=\"text-align: right;\">\n",
       "      <th></th>\n",
       "      <th>Price</th>\n",
       "    </tr>\n",
       "    <tr>\n",
       "      <th>Symbol</th>\n",
       "      <th></th>\n",
       "    </tr>\n",
       "  </thead>\n",
       "  <tbody>\n",
       "    <tr>\n",
       "      <th>AMZN</th>\n",
       "      <td>421.550003</td>\n",
       "    </tr>\n",
       "    <tr>\n",
       "      <th>APPL</th>\n",
       "      <td>118.509924</td>\n",
       "    </tr>\n",
       "    <tr>\n",
       "      <th>GOOG</th>\n",
       "      <td>533.425003</td>\n",
       "    </tr>\n",
       "  </tbody>\n",
       "</table>\n",
       "</div>\n",
       "    </div>"
      ],
      "text/plain": [
       "sp_l\n",
       "        Date Symbol       Price\n",
       "0   2015/5/1   GOOG  537.900024\n",
       "1   2015/5/4   GOOG  540.780029\n",
       "2   2015/5/5   GOOG  530.799988\n",
       "3   2015/5/6   GOOG  524.219971\n",
       "4   2015/5/1   APPL  120.220688\n",
       "..       ...    ...         ...\n",
       "7   2015/5/6   APPL  116.547424\n",
       "8   2015/5/1   AMZN  422.869995\n",
       "9   2015/5/4   AMZN  423.040009\n",
       "10  2015/5/5   AMZN  421.190002\n",
       "11  2015/5/6   AMZN  419.100006\n",
       "\n",
       "[12 rows x 3 columns]\n",
       "\n",
       "sp_s\n",
       "             Price\n",
       "Symbol            \n",
       "AMZN    421.550003\n",
       "APPL    118.509924\n",
       "GOOG    533.425003"
      ]
     },
     "execution_count": 13,
     "metadata": {},
     "output_type": "execute_result"
    }
   ],
   "source": [
    "sp_s = pd.pivot_table(sp_l, values='Price', index='Symbol')  # aggfunc='mean' takes effect to aggregate multiple values\n",
    "display('sp_l', 'sp_s')"
   ]
  },
  {
   "cell_type": "code",
   "execution_count": 2,
   "metadata": {
    "colab": {},
    "colab_type": "code",
    "id": "zOgJNMui8mYa",
    "outputId": "6edb1c8b-a1e0-4f7f-f072-1586ef050259"
   },
   "outputs": [
    {
     "data": {
      "text/html": [
       "<div>\n",
       "<style scoped>\n",
       "    .dataframe tbody tr th:only-of-type {\n",
       "        vertical-align: middle;\n",
       "    }\n",
       "\n",
       "    .dataframe tbody tr th {\n",
       "        vertical-align: top;\n",
       "    }\n",
       "\n",
       "    .dataframe thead th {\n",
       "        text-align: right;\n",
       "    }\n",
       "</style>\n",
       "<table border=\"1\" class=\"dataframe\">\n",
       "  <thead>\n",
       "    <tr style=\"text-align: right;\">\n",
       "      <th></th>\n",
       "      <th>Date</th>\n",
       "      <th>Symbol</th>\n",
       "      <th>Price</th>\n",
       "      <th>Volume</th>\n",
       "    </tr>\n",
       "  </thead>\n",
       "  <tbody>\n",
       "    <tr>\n",
       "      <th>0</th>\n",
       "      <td>2015/5/1</td>\n",
       "      <td>GOOG</td>\n",
       "      <td>537.900024</td>\n",
       "      <td>1768200</td>\n",
       "    </tr>\n",
       "    <tr>\n",
       "      <th>1</th>\n",
       "      <td>2015/5/4</td>\n",
       "      <td>GOOG</td>\n",
       "      <td>540.780029</td>\n",
       "      <td>1308000</td>\n",
       "    </tr>\n",
       "    <tr>\n",
       "      <th>2</th>\n",
       "      <td>2015/5/5</td>\n",
       "      <td>GOOG</td>\n",
       "      <td>530.799988</td>\n",
       "      <td>1383100</td>\n",
       "    </tr>\n",
       "    <tr>\n",
       "      <th>3</th>\n",
       "      <td>2015/5/6</td>\n",
       "      <td>GOOG</td>\n",
       "      <td>524.219971</td>\n",
       "      <td>1567000</td>\n",
       "    </tr>\n",
       "    <tr>\n",
       "      <th>4</th>\n",
       "      <td>2015/5/1</td>\n",
       "      <td>APPL</td>\n",
       "      <td>120.220688</td>\n",
       "      <td>58512600</td>\n",
       "    </tr>\n",
       "    <tr>\n",
       "      <th>...</th>\n",
       "      <td>...</td>\n",
       "      <td>...</td>\n",
       "      <td>...</td>\n",
       "      <td>...</td>\n",
       "    </tr>\n",
       "    <tr>\n",
       "      <th>7</th>\n",
       "      <td>2015/5/6</td>\n",
       "      <td>APPL</td>\n",
       "      <td>116.547424</td>\n",
       "      <td>72141000</td>\n",
       "    </tr>\n",
       "    <tr>\n",
       "      <th>8</th>\n",
       "      <td>2015/5/1</td>\n",
       "      <td>AMZN</td>\n",
       "      <td>422.869995</td>\n",
       "      <td>3565800</td>\n",
       "    </tr>\n",
       "    <tr>\n",
       "      <th>9</th>\n",
       "      <td>2015/5/4</td>\n",
       "      <td>AMZN</td>\n",
       "      <td>423.040009</td>\n",
       "      <td>2270400</td>\n",
       "    </tr>\n",
       "    <tr>\n",
       "      <th>10</th>\n",
       "      <td>2015/5/5</td>\n",
       "      <td>AMZN</td>\n",
       "      <td>421.190002</td>\n",
       "      <td>2856400</td>\n",
       "    </tr>\n",
       "    <tr>\n",
       "      <th>11</th>\n",
       "      <td>2015/5/6</td>\n",
       "      <td>AMZN</td>\n",
       "      <td>419.100006</td>\n",
       "      <td>2552500</td>\n",
       "    </tr>\n",
       "  </tbody>\n",
       "</table>\n",
       "<p>12 rows × 4 columns</p>\n",
       "</div>"
      ],
      "text/plain": [
       "        Date Symbol       Price    Volume\n",
       "0   2015/5/1   GOOG  537.900024   1768200\n",
       "1   2015/5/4   GOOG  540.780029   1308000\n",
       "2   2015/5/5   GOOG  530.799988   1383100\n",
       "3   2015/5/6   GOOG  524.219971   1567000\n",
       "4   2015/5/1   APPL  120.220688  58512600\n",
       "..       ...    ...         ...       ...\n",
       "7   2015/5/6   APPL  116.547424  72141000\n",
       "8   2015/5/1   AMZN  422.869995   3565800\n",
       "9   2015/5/4   AMZN  423.040009   2270400\n",
       "10  2015/5/5   AMZN  421.190002   2856400\n",
       "11  2015/5/6   AMZN  419.100006   2552500\n",
       "\n",
       "[12 rows x 4 columns]"
      ]
     },
     "execution_count": 2,
     "metadata": {},
     "output_type": "execute_result"
    }
   ],
   "source": [
    "# !curl -L -s -o stockpricevolume.csv \"https://drive.google.com/uc?id=1uTTi9dhZAUow6pRBHfOSz5BuLSbm6-ov\"\n",
    "st = pd.read_csv(\"stockpricevolume.csv\"); st"
   ]
  },
  {
   "cell_type": "code",
   "execution_count": 0,
   "metadata": {
    "colab": {},
    "colab_type": "code",
    "id": "KLJ9xaIGdGae",
    "outputId": "3d526c03-acde-4e77-8d11-61123f450be8"
   },
   "outputs": [
    {
     "data": {
      "text/html": [
       "<div style=\"float: left; padding: 10px;\">\n",
       "    <p>sp_agg1</p><div>\n",
       "<style scoped>\n",
       "    .dataframe tbody tr th:only-of-type {\n",
       "        vertical-align: middle;\n",
       "    }\n",
       "\n",
       "    .dataframe tbody tr th {\n",
       "        vertical-align: top;\n",
       "    }\n",
       "\n",
       "    .dataframe thead th {\n",
       "        text-align: right;\n",
       "    }\n",
       "</style>\n",
       "<table border=\"1\" class=\"dataframe\">\n",
       "  <thead>\n",
       "    <tr style=\"text-align: right;\">\n",
       "      <th></th>\n",
       "      <th>Price</th>\n",
       "    </tr>\n",
       "    <tr>\n",
       "      <th>Symbol</th>\n",
       "      <th></th>\n",
       "    </tr>\n",
       "  </thead>\n",
       "  <tbody>\n",
       "    <tr>\n",
       "      <th>AMZN</th>\n",
       "      <td>421.550003</td>\n",
       "    </tr>\n",
       "    <tr>\n",
       "      <th>APPL</th>\n",
       "      <td>118.509924</td>\n",
       "    </tr>\n",
       "    <tr>\n",
       "      <th>GOOG</th>\n",
       "      <td>533.425003</td>\n",
       "    </tr>\n",
       "  </tbody>\n",
       "</table>\n",
       "</div>\n",
       "    </div>\n",
       "<div style=\"float: left; padding: 10px;\">\n",
       "    <p>st_agg1</p><div>\n",
       "<style scoped>\n",
       "    .dataframe tbody tr th:only-of-type {\n",
       "        vertical-align: middle;\n",
       "    }\n",
       "\n",
       "    .dataframe tbody tr th {\n",
       "        vertical-align: top;\n",
       "    }\n",
       "\n",
       "    .dataframe thead th {\n",
       "        text-align: right;\n",
       "    }\n",
       "</style>\n",
       "<table border=\"1\" class=\"dataframe\">\n",
       "  <thead>\n",
       "    <tr style=\"text-align: right;\">\n",
       "      <th></th>\n",
       "      <th>Price</th>\n",
       "      <th>Volume</th>\n",
       "    </tr>\n",
       "    <tr>\n",
       "      <th>Symbol</th>\n",
       "      <th></th>\n",
       "      <th></th>\n",
       "    </tr>\n",
       "  </thead>\n",
       "  <tbody>\n",
       "    <tr>\n",
       "      <th>AMZN</th>\n",
       "      <td>421.550003</td>\n",
       "      <td>2811275</td>\n",
       "    </tr>\n",
       "    <tr>\n",
       "      <th>APPL</th>\n",
       "      <td>118.509924</td>\n",
       "      <td>57728325</td>\n",
       "    </tr>\n",
       "    <tr>\n",
       "      <th>GOOG</th>\n",
       "      <td>533.425003</td>\n",
       "      <td>1506575</td>\n",
       "    </tr>\n",
       "  </tbody>\n",
       "</table>\n",
       "</div>\n",
       "    </div>"
      ],
      "text/plain": [
       "sp_agg1\n",
       "             Price\n",
       "Symbol            \n",
       "AMZN    421.550003\n",
       "APPL    118.509924\n",
       "GOOG    533.425003\n",
       "\n",
       "st_agg1\n",
       "             Price    Volume\n",
       "Symbol                      \n",
       "AMZN    421.550003   2811275\n",
       "APPL    118.509924  57728325\n",
       "GOOG    533.425003   1506575"
      ]
     },
     "execution_count": 17,
     "metadata": {
      "tags": []
     },
     "output_type": "execute_result"
    }
   ],
   "source": [
    "sp_agg1 = pd.pivot_table(sp_l, values='Price', index='Symbol')\n",
    "st_agg1 = pd.pivot_table(st, values=['Price', 'Volume'], index='Symbol')\n",
    "display('sp_agg1', 'st_agg1')"
   ]
  },
  {
   "cell_type": "markdown",
   "metadata": {
    "colab_type": "text",
    "id": "M7AHu09ZdGah"
   },
   "source": [
    "A string (for functions pandas consider built-in), a function, or a list thereof can be passed to `aggfunc` to indicate the desired aggregations, with all the aggregates computed at once. The resulting `DataFrame` has hierarchical columns whose top level are the function names:"
   ]
  },
  {
   "cell_type": "code",
   "execution_count": 0,
   "metadata": {
    "colab": {},
    "colab_type": "code",
    "id": "dGz278i8dGah",
    "outputId": "8fb68192-45b4-4e5f-ff97-1b36eb3d9e3c"
   },
   "outputs": [
    {
     "data": {
      "text/html": [
       "<div>\n",
       "<style scoped>\n",
       "    .dataframe tbody tr th:only-of-type {\n",
       "        vertical-align: middle;\n",
       "    }\n",
       "\n",
       "    .dataframe tbody tr th {\n",
       "        vertical-align: top;\n",
       "    }\n",
       "\n",
       "    .dataframe thead tr th {\n",
       "        text-align: left;\n",
       "    }\n",
       "\n",
       "    .dataframe thead tr:last-of-type th {\n",
       "        text-align: right;\n",
       "    }\n",
       "</style>\n",
       "<table border=\"1\" class=\"dataframe\">\n",
       "  <thead>\n",
       "    <tr>\n",
       "      <th></th>\n",
       "      <th colspan=\"2\" halign=\"left\">mean</th>\n",
       "      <th colspan=\"2\" halign=\"left\">max</th>\n",
       "      <th colspan=\"2\" halign=\"left\">amin</th>\n",
       "    </tr>\n",
       "    <tr>\n",
       "      <th></th>\n",
       "      <th>Price</th>\n",
       "      <th>Volume</th>\n",
       "      <th>Price</th>\n",
       "      <th>Volume</th>\n",
       "      <th>Price</th>\n",
       "      <th>Volume</th>\n",
       "    </tr>\n",
       "    <tr>\n",
       "      <th>Symbol</th>\n",
       "      <th></th>\n",
       "      <th></th>\n",
       "      <th></th>\n",
       "      <th></th>\n",
       "      <th></th>\n",
       "      <th></th>\n",
       "    </tr>\n",
       "  </thead>\n",
       "  <tbody>\n",
       "    <tr>\n",
       "      <th>AMZN</th>\n",
       "      <td>421.550003</td>\n",
       "      <td>2811275</td>\n",
       "      <td>423.040009</td>\n",
       "      <td>3565800</td>\n",
       "      <td>419.100006</td>\n",
       "      <td>2270400</td>\n",
       "    </tr>\n",
       "    <tr>\n",
       "      <th>APPL</th>\n",
       "      <td>118.509924</td>\n",
       "      <td>57728325</td>\n",
       "      <td>120.220688</td>\n",
       "      <td>72141000</td>\n",
       "      <td>116.547424</td>\n",
       "      <td>49271400</td>\n",
       "    </tr>\n",
       "    <tr>\n",
       "      <th>GOOG</th>\n",
       "      <td>533.425003</td>\n",
       "      <td>1506575</td>\n",
       "      <td>540.780029</td>\n",
       "      <td>1768200</td>\n",
       "      <td>524.219971</td>\n",
       "      <td>1308000</td>\n",
       "    </tr>\n",
       "  </tbody>\n",
       "</table>\n",
       "</div>"
      ],
      "text/plain": [
       "              mean                   max                  amin          \n",
       "             Price    Volume       Price    Volume       Price    Volume\n",
       "Symbol                                                                  \n",
       "AMZN    421.550003   2811275  423.040009   3565800  419.100006   2270400\n",
       "APPL    118.509924  57728325  120.220688  72141000  116.547424  49271400\n",
       "GOOG    533.425003   1506575  540.780029   1768200  524.219971   1308000"
      ]
     },
     "execution_count": 21,
     "metadata": {
      "tags": []
     },
     "output_type": "execute_result"
    }
   ],
   "source": [
    "st_agg2 = pd.pivot_table(st, values=['Price', 'Volume'], index='Symbol', aggfunc=['mean', max, np.min]); st_agg2"
   ]
  },
  {
   "cell_type": "code",
   "execution_count": 0,
   "metadata": {
    "colab": {},
    "colab_type": "code",
    "id": "FBQE2TLZdGaj",
    "outputId": "42084149-1318-41fb-cba4-285991b5a3d7",
    "scrolled": true
   },
   "outputs": [
    {
     "data": {
      "text/plain": [
       "MultiIndex(levels=[['mean', 'max', 'min'], ['Price', 'Volume']],\n",
       "           codes=[[0, 0, 1, 1, 2, 2], [0, 1, 0, 1, 0, 1]])"
      ]
     },
     "execution_count": 39,
     "metadata": {
      "tags": []
     },
     "output_type": "execute_result"
    }
   ],
   "source": [
    "st_agg2.columns"
   ]
  },
  {
   "cell_type": "markdown",
   "metadata": {
    "colab_type": "text",
    "id": "zTkjeR6MdGal"
   },
   "source": [
    "Different operations can be applied to different columns by passing a dictionary mapping column names to operations:"
   ]
  },
  {
   "cell_type": "code",
   "execution_count": 0,
   "metadata": {
    "colab": {},
    "colab_type": "code",
    "id": "hcU6nk3ldGal",
    "outputId": "441f77fa-7766-41a0-d7f8-4d792b77b1b7"
   },
   "outputs": [
    {
     "data": {
      "text/html": [
       "<div>\n",
       "<style scoped>\n",
       "    .dataframe tbody tr th:only-of-type {\n",
       "        vertical-align: middle;\n",
       "    }\n",
       "\n",
       "    .dataframe tbody tr th {\n",
       "        vertical-align: top;\n",
       "    }\n",
       "\n",
       "    .dataframe thead tr th {\n",
       "        text-align: left;\n",
       "    }\n",
       "\n",
       "    .dataframe thead tr:last-of-type th {\n",
       "        text-align: right;\n",
       "    }\n",
       "</style>\n",
       "<table border=\"1\" class=\"dataframe\">\n",
       "  <thead>\n",
       "    <tr>\n",
       "      <th></th>\n",
       "      <th colspan=\"2\" halign=\"left\">Price</th>\n",
       "      <th colspan=\"2\" halign=\"left\">Volume</th>\n",
       "    </tr>\n",
       "    <tr>\n",
       "      <th></th>\n",
       "      <th>max</th>\n",
       "      <th>min</th>\n",
       "      <th>&lt;lambda&gt;</th>\n",
       "      <th>sum</th>\n",
       "    </tr>\n",
       "    <tr>\n",
       "      <th>Symbol</th>\n",
       "      <th></th>\n",
       "      <th></th>\n",
       "      <th></th>\n",
       "      <th></th>\n",
       "    </tr>\n",
       "  </thead>\n",
       "  <tbody>\n",
       "    <tr>\n",
       "      <th>AMZN</th>\n",
       "      <td>423.040009</td>\n",
       "      <td>419.100006</td>\n",
       "      <td>1295400</td>\n",
       "      <td>11245100</td>\n",
       "    </tr>\n",
       "    <tr>\n",
       "      <th>APPL</th>\n",
       "      <td>120.220688</td>\n",
       "      <td>116.547424</td>\n",
       "      <td>22869600</td>\n",
       "      <td>230913300</td>\n",
       "    </tr>\n",
       "    <tr>\n",
       "      <th>GOOG</th>\n",
       "      <td>540.780029</td>\n",
       "      <td>524.219971</td>\n",
       "      <td>460200</td>\n",
       "      <td>6026300</td>\n",
       "    </tr>\n",
       "  </tbody>\n",
       "</table>\n",
       "</div>"
      ],
      "text/plain": [
       "             Price                Volume           \n",
       "               max         min  <lambda>        sum\n",
       "Symbol                                             \n",
       "AMZN    423.040009  419.100006   1295400   11245100\n",
       "APPL    120.220688  116.547424  22869600  230913300\n",
       "GOOG    540.780029  524.219971    460200    6026300"
      ]
     },
     "execution_count": 66,
     "metadata": {
      "tags": []
     },
     "output_type": "execute_result"
    }
   ],
   "source": [
    "st_agg3 = pd.pivot_table(st, values=['Price', 'Volume'], index='Symbol', \n",
    "                         aggfunc={'Price': [max, min], 'Volume': ['sum', lambda x: x.max()-x.min()]})\n",
    "st_agg3"
   ]
  },
  {
   "cell_type": "markdown",
   "metadata": {
    "colab_type": "text",
    "id": "klBztHEOdGao"
   },
   "source": [
    "The column names can be specified by passing a list of `(name, function)` tuples:"
   ]
  },
  {
   "cell_type": "code",
   "execution_count": 0,
   "metadata": {
    "colab": {},
    "colab_type": "code",
    "id": "dAJz2OPSdGao",
    "outputId": "7ab57db6-2fd5-4d3e-fa7f-a9b25235be8f"
   },
   "outputs": [
    {
     "data": {
      "text/html": [
       "<div>\n",
       "<style scoped>\n",
       "    .dataframe tbody tr th:only-of-type {\n",
       "        vertical-align: middle;\n",
       "    }\n",
       "\n",
       "    .dataframe tbody tr th {\n",
       "        vertical-align: top;\n",
       "    }\n",
       "\n",
       "    .dataframe thead tr th {\n",
       "        text-align: left;\n",
       "    }\n",
       "\n",
       "    .dataframe thead tr:last-of-type th {\n",
       "        text-align: right;\n",
       "    }\n",
       "</style>\n",
       "<table border=\"1\" class=\"dataframe\">\n",
       "  <thead>\n",
       "    <tr>\n",
       "      <th></th>\n",
       "      <th colspan=\"2\" halign=\"left\">Price</th>\n",
       "      <th>Volume</th>\n",
       "    </tr>\n",
       "    <tr>\n",
       "      <th></th>\n",
       "      <th>maximum</th>\n",
       "      <th>minimum</th>\n",
       "      <th>difference</th>\n",
       "    </tr>\n",
       "    <tr>\n",
       "      <th>Symbol</th>\n",
       "      <th></th>\n",
       "      <th></th>\n",
       "      <th></th>\n",
       "    </tr>\n",
       "  </thead>\n",
       "  <tbody>\n",
       "    <tr>\n",
       "      <th>AMZN</th>\n",
       "      <td>423.040009</td>\n",
       "      <td>419.100006</td>\n",
       "      <td>1295400</td>\n",
       "    </tr>\n",
       "    <tr>\n",
       "      <th>APPL</th>\n",
       "      <td>120.220688</td>\n",
       "      <td>116.547424</td>\n",
       "      <td>22869600</td>\n",
       "    </tr>\n",
       "    <tr>\n",
       "      <th>GOOG</th>\n",
       "      <td>540.780029</td>\n",
       "      <td>524.219971</td>\n",
       "      <td>460200</td>\n",
       "    </tr>\n",
       "  </tbody>\n",
       "</table>\n",
       "</div>"
      ],
      "text/plain": [
       "             Price                 Volume\n",
       "           maximum     minimum difference\n",
       "Symbol                                   \n",
       "AMZN    423.040009  419.100006    1295400\n",
       "APPL    120.220688  116.547424   22869600\n",
       "GOOG    540.780029  524.219971     460200"
      ]
     },
     "execution_count": 65,
     "metadata": {
      "tags": []
     },
     "output_type": "execute_result"
    }
   ],
   "source": [
    "st_agg4 = pd.pivot_table(st, values=['Price', 'Volume'], index='Symbol', \n",
    "                         aggfunc={'Price': [(\"maximum\", max), ('minimum', min)], \n",
    "                                  'Volume': [('difference', lambda x: x.max()-x.min())]})\n",
    "st_agg4"
   ]
  },
  {
   "cell_type": "markdown",
   "metadata": {
    "colab_type": "text",
    "id": "62sWIkFldGap"
   },
   "source": [
    "---\n",
    "\n",
    "## 2.9 The Split-Apply-Combine Paradigm\n",
    "\n",
    "\n",
    "In many situations, we wish to compute summary statistics for different groups. \n",
    "\n",
    "Categorizing a dataset and applying a function to each group (whether be an aggregation or transformation) is often a critical component of a data analysis workflow.  \n",
    "\n",
    "<img src=\"https://drive.google.com/uc?export=download&id=1USxwseQh7gp-OgAzuaALoozVp8iXGkeE\" width=550 />\n",
    "\n",
    "\n",
    "---\n",
    "\n",
    "### 2.9.1 Splitting Data into Groups\n",
    "\n",
    "\n",
    "Splitting data in a `DataFrame` into groups can be done by calling the `DataFrame`'s [`groupby()`](https://pandas.pydata.org/pandas-docs/stable/reference/api/pandas.DataFrame.groupby.html) method, passing the name of the desired key column:\n",
    "\n",
    " "
   ]
  },
  {
   "cell_type": "code",
   "execution_count": 0,
   "metadata": {
    "colab": {},
    "colab_type": "code",
    "id": "kEvxPv_xdGaq",
    "outputId": "4902c2c2-d0c9-491c-b269-8b7fd10f1038"
   },
   "outputs": [
    {
     "data": {
      "text/plain": [
       "<Signature (self, by=None, axis=0, level=None, as_index=True, sort=True, group_keys=True, squeeze=False, observed=False, **kwargs)>"
      ]
     },
     "execution_count": 45,
     "metadata": {
      "tags": []
     },
     "output_type": "execute_result"
    }
   ],
   "source": [
    "inspect.signature(pd.DataFrame.groupby)"
   ]
  },
  {
   "cell_type": "code",
   "execution_count": 0,
   "metadata": {
    "colab": {},
    "colab_type": "code",
    "id": "ji2znJdbdGa2",
    "outputId": "92bf3af4-afcd-4676-dbf1-0729836943db"
   },
   "outputs": [
    {
     "data": {
      "text/html": [
       "<div style=\"float: left; padding: 10px;\">\n",
       "    <p>sp_l</p><div>\n",
       "<style scoped>\n",
       "    .dataframe tbody tr th:only-of-type {\n",
       "        vertical-align: middle;\n",
       "    }\n",
       "\n",
       "    .dataframe tbody tr th {\n",
       "        vertical-align: top;\n",
       "    }\n",
       "\n",
       "    .dataframe thead th {\n",
       "        text-align: right;\n",
       "    }\n",
       "</style>\n",
       "<table border=\"1\" class=\"dataframe\">\n",
       "  <thead>\n",
       "    <tr style=\"text-align: right;\">\n",
       "      <th></th>\n",
       "      <th>Date</th>\n",
       "      <th>Symbol</th>\n",
       "      <th>Price</th>\n",
       "    </tr>\n",
       "  </thead>\n",
       "  <tbody>\n",
       "    <tr>\n",
       "      <th>0</th>\n",
       "      <td>2015/5/1</td>\n",
       "      <td>GOOG</td>\n",
       "      <td>537.900024</td>\n",
       "    </tr>\n",
       "    <tr>\n",
       "      <th>1</th>\n",
       "      <td>2015/5/4</td>\n",
       "      <td>GOOG</td>\n",
       "      <td>540.780029</td>\n",
       "    </tr>\n",
       "    <tr>\n",
       "      <th>2</th>\n",
       "      <td>2015/5/5</td>\n",
       "      <td>GOOG</td>\n",
       "      <td>530.799988</td>\n",
       "    </tr>\n",
       "    <tr>\n",
       "      <th>3</th>\n",
       "      <td>2015/5/6</td>\n",
       "      <td>GOOG</td>\n",
       "      <td>524.219971</td>\n",
       "    </tr>\n",
       "    <tr>\n",
       "      <th>4</th>\n",
       "      <td>2015/5/1</td>\n",
       "      <td>APPL</td>\n",
       "      <td>120.220688</td>\n",
       "    </tr>\n",
       "    <tr>\n",
       "      <th>...</th>\n",
       "      <td>...</td>\n",
       "      <td>...</td>\n",
       "      <td>...</td>\n",
       "    </tr>\n",
       "    <tr>\n",
       "      <th>7</th>\n",
       "      <td>2015/5/6</td>\n",
       "      <td>APPL</td>\n",
       "      <td>116.547424</td>\n",
       "    </tr>\n",
       "    <tr>\n",
       "      <th>8</th>\n",
       "      <td>2015/5/1</td>\n",
       "      <td>AMZN</td>\n",
       "      <td>422.869995</td>\n",
       "    </tr>\n",
       "    <tr>\n",
       "      <th>9</th>\n",
       "      <td>2015/5/4</td>\n",
       "      <td>AMZN</td>\n",
       "      <td>423.040009</td>\n",
       "    </tr>\n",
       "    <tr>\n",
       "      <th>10</th>\n",
       "      <td>2015/5/5</td>\n",
       "      <td>AMZN</td>\n",
       "      <td>421.190002</td>\n",
       "    </tr>\n",
       "    <tr>\n",
       "      <th>11</th>\n",
       "      <td>2015/5/6</td>\n",
       "      <td>AMZN</td>\n",
       "      <td>419.100006</td>\n",
       "    </tr>\n",
       "  </tbody>\n",
       "</table>\n",
       "<p>12 rows × 3 columns</p>\n",
       "</div>\n",
       "    </div>\n",
       "<div style=\"float: left; padding: 10px;\">\n",
       "    <p>st</p><div>\n",
       "<style scoped>\n",
       "    .dataframe tbody tr th:only-of-type {\n",
       "        vertical-align: middle;\n",
       "    }\n",
       "\n",
       "    .dataframe tbody tr th {\n",
       "        vertical-align: top;\n",
       "    }\n",
       "\n",
       "    .dataframe thead th {\n",
       "        text-align: right;\n",
       "    }\n",
       "</style>\n",
       "<table border=\"1\" class=\"dataframe\">\n",
       "  <thead>\n",
       "    <tr style=\"text-align: right;\">\n",
       "      <th></th>\n",
       "      <th>Date</th>\n",
       "      <th>Symbol</th>\n",
       "      <th>Price</th>\n",
       "      <th>Volume</th>\n",
       "    </tr>\n",
       "  </thead>\n",
       "  <tbody>\n",
       "    <tr>\n",
       "      <th>0</th>\n",
       "      <td>2015/5/1</td>\n",
       "      <td>GOOG</td>\n",
       "      <td>537.900024</td>\n",
       "      <td>1768200</td>\n",
       "    </tr>\n",
       "    <tr>\n",
       "      <th>1</th>\n",
       "      <td>2015/5/4</td>\n",
       "      <td>GOOG</td>\n",
       "      <td>540.780029</td>\n",
       "      <td>1308000</td>\n",
       "    </tr>\n",
       "    <tr>\n",
       "      <th>2</th>\n",
       "      <td>2015/5/5</td>\n",
       "      <td>GOOG</td>\n",
       "      <td>530.799988</td>\n",
       "      <td>1383100</td>\n",
       "    </tr>\n",
       "    <tr>\n",
       "      <th>3</th>\n",
       "      <td>2015/5/6</td>\n",
       "      <td>GOOG</td>\n",
       "      <td>524.219971</td>\n",
       "      <td>1567000</td>\n",
       "    </tr>\n",
       "    <tr>\n",
       "      <th>4</th>\n",
       "      <td>2015/5/1</td>\n",
       "      <td>APPL</td>\n",
       "      <td>120.220688</td>\n",
       "      <td>58512600</td>\n",
       "    </tr>\n",
       "    <tr>\n",
       "      <th>...</th>\n",
       "      <td>...</td>\n",
       "      <td>...</td>\n",
       "      <td>...</td>\n",
       "      <td>...</td>\n",
       "    </tr>\n",
       "    <tr>\n",
       "      <th>7</th>\n",
       "      <td>2015/5/6</td>\n",
       "      <td>APPL</td>\n",
       "      <td>116.547424</td>\n",
       "      <td>72141000</td>\n",
       "    </tr>\n",
       "    <tr>\n",
       "      <th>8</th>\n",
       "      <td>2015/5/1</td>\n",
       "      <td>AMZN</td>\n",
       "      <td>422.869995</td>\n",
       "      <td>3565800</td>\n",
       "    </tr>\n",
       "    <tr>\n",
       "      <th>9</th>\n",
       "      <td>2015/5/4</td>\n",
       "      <td>AMZN</td>\n",
       "      <td>423.040009</td>\n",
       "      <td>2270400</td>\n",
       "    </tr>\n",
       "    <tr>\n",
       "      <th>10</th>\n",
       "      <td>2015/5/5</td>\n",
       "      <td>AMZN</td>\n",
       "      <td>421.190002</td>\n",
       "      <td>2856400</td>\n",
       "    </tr>\n",
       "    <tr>\n",
       "      <th>11</th>\n",
       "      <td>2015/5/6</td>\n",
       "      <td>AMZN</td>\n",
       "      <td>419.100006</td>\n",
       "      <td>2552500</td>\n",
       "    </tr>\n",
       "  </tbody>\n",
       "</table>\n",
       "<p>12 rows × 4 columns</p>\n",
       "</div>\n",
       "    </div>"
      ],
      "text/plain": [
       "sp_l\n",
       "        Date Symbol       Price\n",
       "0   2015/5/1   GOOG  537.900024\n",
       "1   2015/5/4   GOOG  540.780029\n",
       "2   2015/5/5   GOOG  530.799988\n",
       "3   2015/5/6   GOOG  524.219971\n",
       "4   2015/5/1   APPL  120.220688\n",
       "..       ...    ...         ...\n",
       "7   2015/5/6   APPL  116.547424\n",
       "8   2015/5/1   AMZN  422.869995\n",
       "9   2015/5/4   AMZN  423.040009\n",
       "10  2015/5/5   AMZN  421.190002\n",
       "11  2015/5/6   AMZN  419.100006\n",
       "\n",
       "[12 rows x 3 columns]\n",
       "\n",
       "st\n",
       "        Date Symbol       Price    Volume\n",
       "0   2015/5/1   GOOG  537.900024   1768200\n",
       "1   2015/5/4   GOOG  540.780029   1308000\n",
       "2   2015/5/5   GOOG  530.799988   1383100\n",
       "3   2015/5/6   GOOG  524.219971   1567000\n",
       "4   2015/5/1   APPL  120.220688  58512600\n",
       "..       ...    ...         ...       ...\n",
       "7   2015/5/6   APPL  116.547424  72141000\n",
       "8   2015/5/1   AMZN  422.869995   3565800\n",
       "9   2015/5/4   AMZN  423.040009   2270400\n",
       "10  2015/5/5   AMZN  421.190002   2856400\n",
       "11  2015/5/6   AMZN  419.100006   2552500\n",
       "\n",
       "[12 rows x 4 columns]"
      ]
     },
     "execution_count": 25,
     "metadata": {
      "tags": []
     },
     "output_type": "execute_result"
    }
   ],
   "source": [
    "display('sp_l', 'st')"
   ]
  },
  {
   "cell_type": "code",
   "execution_count": 15,
   "metadata": {
    "cell_style": "split",
    "colab": {},
    "colab_type": "code",
    "id": "pu1SX3u8dGa4",
    "outputId": "3db567fd-7eb2-4977-d30a-19dbb8d5156b"
   },
   "outputs": [
    {
     "data": {
      "text/plain": [
       "<pandas.core.groupby.generic.DataFrameGroupBy object at 0x00000209D8DB3E48>"
      ]
     },
     "execution_count": 15,
     "metadata": {},
     "output_type": "execute_result"
    }
   ],
   "source": [
    "sp_grby = sp_l.groupby('Symbol'); sp_grby"
   ]
  },
  {
   "cell_type": "code",
   "execution_count": 3,
   "metadata": {
    "cell_style": "split",
    "colab": {},
    "colab_type": "code",
    "id": "S335A83LdGa6",
    "outputId": "3a9ee65c-66f0-4ee6-c2c1-2cdb7c98e9bc"
   },
   "outputs": [
    {
     "data": {
      "text/plain": [
       "<pandas.core.groupby.generic.DataFrameGroupBy object at 0x0000016547761888>"
      ]
     },
     "execution_count": 3,
     "metadata": {},
     "output_type": "execute_result"
    }
   ],
   "source": [
    "st_grby = st.groupby('Symbol'); st_grby"
   ]
  },
  {
   "cell_type": "markdown",
   "metadata": {
    "colab_type": "text",
    "id": "erc2v5H2dGa7"
   },
   "source": [
    "What is returned is not a set of `DataFrame`s, but a `DataFrameGroupBy` object that we can think of as a special view of the `DataFrame`.\n",
    "\n",
    "\n",
    "The `GroupBy` object supports direct iteration over the groups, generating a sequence consisting of the group name along with the chunk of data:\n",
    "\n",
    "\n"
   ]
  },
  {
   "cell_type": "code",
   "execution_count": 0,
   "metadata": {
    "cell_style": "split",
    "colab": {},
    "colab_type": "code",
    "id": "TW849UVMdGa8",
    "outputId": "bf0a6526-3862-48ec-bbb7-63bb05175e2c"
   },
   "outputs": [
    {
     "name": "stdout",
     "output_type": "stream",
     "text": [
      "AMZN\n",
      "        Date Symbol       Price\n",
      "8   2015/5/1   AMZN  422.869995\n",
      "9   2015/5/4   AMZN  423.040009\n",
      "10  2015/5/5   AMZN  421.190002\n",
      "11  2015/5/6   AMZN  419.100006\n",
      "APPL\n",
      "       Date Symbol       Price\n",
      "4  2015/5/1   APPL  120.220688\n",
      "5  2015/5/4   APPL  119.987633\n",
      "6  2015/5/5   APPL  117.283951\n",
      "7  2015/5/6   APPL  116.547424\n",
      "GOOG\n",
      "       Date Symbol       Price\n",
      "0  2015/5/1   GOOG  537.900024\n",
      "1  2015/5/4   GOOG  540.780029\n",
      "2  2015/5/5   GOOG  530.799988\n",
      "3  2015/5/6   GOOG  524.219971\n"
     ]
    }
   ],
   "source": [
    "for key, group in sp_grby: \n",
    "    print(key)\n",
    "    print(group)"
   ]
  },
  {
   "cell_type": "code",
   "execution_count": 0,
   "metadata": {
    "cell_style": "split",
    "colab": {},
    "colab_type": "code",
    "id": "1IPB3NJSdGa9",
    "outputId": "ad6b4363-b8d0-4960-eb23-0ababa56cc0e"
   },
   "outputs": [
    {
     "name": "stdout",
     "output_type": "stream",
     "text": [
      "AMZN\n",
      "        Date Symbol       Price   Volume\n",
      "8   2015/5/1   AMZN  422.869995  3565800\n",
      "9   2015/5/4   AMZN  423.040009  2270400\n",
      "10  2015/5/5   AMZN  421.190002  2856400\n",
      "11  2015/5/6   AMZN  419.100006  2552500\n",
      "APPL\n",
      "       Date Symbol       Price    Volume\n",
      "4  2015/5/1   APPL  120.220688  58512600\n",
      "5  2015/5/4   APPL  119.987633  50988300\n",
      "6  2015/5/5   APPL  117.283951  49271400\n",
      "7  2015/5/6   APPL  116.547424  72141000\n",
      "GOOG\n",
      "       Date Symbol       Price   Volume\n",
      "0  2015/5/1   GOOG  537.900024  1768200\n",
      "1  2015/5/4   GOOG  540.780029  1308000\n",
      "2  2015/5/5   GOOG  530.799988  1383100\n",
      "3  2015/5/6   GOOG  524.219971  1567000\n"
     ]
    }
   ],
   "source": [
    "for key, group in st_grby: \n",
    "    print(key)\n",
    "    print(group)"
   ]
  },
  {
   "cell_type": "markdown",
   "metadata": {
    "colab_type": "text",
    "id": "813F4vG0dGbA"
   },
   "source": [
    "<div class='alert alert-info'>By default, the group keys are sorted during the groupby() operation, while the order in which observations are sorted within each group is preserved. Sorting groups can be switched off for potential speedups by passing sort=False.</div>\n"
   ]
  },
  {
   "cell_type": "markdown",
   "metadata": {
    "colab_type": "text",
    "id": "WDwA2lHpdGbB"
   },
   "source": [
    "\n",
    "--- \n",
    "\n",
    "### 2.9.2 Aggregating Grouped Data\n",
    "\n",
    "Pandas provides [many common aggregations](https://pandas.pydata.org/pandas-docs/stable/reference/groupby.html#computations-descriptive-stats) that can be applied to `GroupBy` objects and return a scalar per group in the apply/combine steps:"
   ]
  },
  {
   "cell_type": "code",
   "execution_count": 20,
   "metadata": {
    "colab": {},
    "colab_type": "code",
    "id": "eCB8zLYgdGbD",
    "outputId": "17aceb6f-37b6-4176-c8f0-0bad846f4f83"
   },
   "outputs": [
    {
     "data": {
      "text/html": [
       "<div style=\"float: left; padding: 10px;\">\n",
       "    <p>sp_grby.mean()</p><div>\n",
       "<style scoped>\n",
       "    .dataframe tbody tr th:only-of-type {\n",
       "        vertical-align: middle;\n",
       "    }\n",
       "\n",
       "    .dataframe tbody tr th {\n",
       "        vertical-align: top;\n",
       "    }\n",
       "\n",
       "    .dataframe thead th {\n",
       "        text-align: right;\n",
       "    }\n",
       "</style>\n",
       "<table border=\"1\" class=\"dataframe\">\n",
       "  <thead>\n",
       "    <tr style=\"text-align: right;\">\n",
       "      <th></th>\n",
       "      <th>Price</th>\n",
       "    </tr>\n",
       "    <tr>\n",
       "      <th>Symbol</th>\n",
       "      <th></th>\n",
       "    </tr>\n",
       "  </thead>\n",
       "  <tbody>\n",
       "    <tr>\n",
       "      <th>AMZN</th>\n",
       "      <td>421.550003</td>\n",
       "    </tr>\n",
       "    <tr>\n",
       "      <th>APPL</th>\n",
       "      <td>118.509924</td>\n",
       "    </tr>\n",
       "    <tr>\n",
       "      <th>GOOG</th>\n",
       "      <td>533.425003</td>\n",
       "    </tr>\n",
       "  </tbody>\n",
       "</table>\n",
       "</div>\n",
       "    </div>\n",
       "<div style=\"float: left; padding: 10px;\">\n",
       "    <p>st_grby.min()</p><div>\n",
       "<style scoped>\n",
       "    .dataframe tbody tr th:only-of-type {\n",
       "        vertical-align: middle;\n",
       "    }\n",
       "\n",
       "    .dataframe tbody tr th {\n",
       "        vertical-align: top;\n",
       "    }\n",
       "\n",
       "    .dataframe thead th {\n",
       "        text-align: right;\n",
       "    }\n",
       "</style>\n",
       "<table border=\"1\" class=\"dataframe\">\n",
       "  <thead>\n",
       "    <tr style=\"text-align: right;\">\n",
       "      <th></th>\n",
       "      <th>Date</th>\n",
       "      <th>Price</th>\n",
       "      <th>Volume</th>\n",
       "    </tr>\n",
       "    <tr>\n",
       "      <th>Symbol</th>\n",
       "      <th></th>\n",
       "      <th></th>\n",
       "      <th></th>\n",
       "    </tr>\n",
       "  </thead>\n",
       "  <tbody>\n",
       "    <tr>\n",
       "      <th>AMZN</th>\n",
       "      <td>2015/5/1</td>\n",
       "      <td>419.100006</td>\n",
       "      <td>2270400</td>\n",
       "    </tr>\n",
       "    <tr>\n",
       "      <th>APPL</th>\n",
       "      <td>2015/5/1</td>\n",
       "      <td>116.547424</td>\n",
       "      <td>49271400</td>\n",
       "    </tr>\n",
       "    <tr>\n",
       "      <th>GOOG</th>\n",
       "      <td>2015/5/1</td>\n",
       "      <td>524.219971</td>\n",
       "      <td>1308000</td>\n",
       "    </tr>\n",
       "  </tbody>\n",
       "</table>\n",
       "</div>\n",
       "    </div>\n",
       "<div style=\"float: left; padding: 10px;\">\n",
       "    <p>st_grby.first()</p><div>\n",
       "<style scoped>\n",
       "    .dataframe tbody tr th:only-of-type {\n",
       "        vertical-align: middle;\n",
       "    }\n",
       "\n",
       "    .dataframe tbody tr th {\n",
       "        vertical-align: top;\n",
       "    }\n",
       "\n",
       "    .dataframe thead th {\n",
       "        text-align: right;\n",
       "    }\n",
       "</style>\n",
       "<table border=\"1\" class=\"dataframe\">\n",
       "  <thead>\n",
       "    <tr style=\"text-align: right;\">\n",
       "      <th></th>\n",
       "      <th>Date</th>\n",
       "      <th>Price</th>\n",
       "      <th>Volume</th>\n",
       "    </tr>\n",
       "    <tr>\n",
       "      <th>Symbol</th>\n",
       "      <th></th>\n",
       "      <th></th>\n",
       "      <th></th>\n",
       "    </tr>\n",
       "  </thead>\n",
       "  <tbody>\n",
       "    <tr>\n",
       "      <th>AMZN</th>\n",
       "      <td>2015/5/1</td>\n",
       "      <td>422.869995</td>\n",
       "      <td>3565800</td>\n",
       "    </tr>\n",
       "    <tr>\n",
       "      <th>APPL</th>\n",
       "      <td>2015/5/1</td>\n",
       "      <td>120.220688</td>\n",
       "      <td>58512600</td>\n",
       "    </tr>\n",
       "    <tr>\n",
       "      <th>GOOG</th>\n",
       "      <td>2015/5/1</td>\n",
       "      <td>537.900024</td>\n",
       "      <td>1768200</td>\n",
       "    </tr>\n",
       "  </tbody>\n",
       "</table>\n",
       "</div>\n",
       "    </div>"
      ],
      "text/plain": [
       "sp_grby.mean()\n",
       "             Price\n",
       "Symbol            \n",
       "AMZN    421.550003\n",
       "APPL    118.509924\n",
       "GOOG    533.425003\n",
       "\n",
       "st_grby.min()\n",
       "            Date       Price    Volume\n",
       "Symbol                                \n",
       "AMZN    2015/5/1  419.100006   2270400\n",
       "APPL    2015/5/1  116.547424  49271400\n",
       "GOOG    2015/5/1  524.219971   1308000\n",
       "\n",
       "st_grby.first()\n",
       "            Date       Price    Volume\n",
       "Symbol                                \n",
       "AMZN    2015/5/1  422.869995   3565800\n",
       "APPL    2015/5/1  120.220688  58512600\n",
       "GOOG    2015/5/1  537.900024   1768200"
      ]
     },
     "execution_count": 20,
     "metadata": {},
     "output_type": "execute_result"
    }
   ],
   "source": [
    "display('sp_grby.mean()', 'st_grby.min()', 'st_grby.first()')"
   ]
  },
  {
   "cell_type": "markdown",
   "metadata": {
    "colab_type": "text",
    "id": "P7nT1RHQdGbF"
   },
   "source": [
    "The [`aggregate()`](https://pandas.pydata.org/pandas-docs/stable/reference/api/pandas.core.groupby.GroupBy.aggregate.html) or [`agg()`](https://pandas.pydata.org/pandas-docs/stable/reference/api/pandas.core.groupby.GroupBy.agg.html) method computes more flexibile aggregations all at once. \n",
    "\n",
    "The way to specify desired aggregations is similar to the use of the `aggfunc` keyword argument in `pivot_table()`. "
   ]
  },
  {
   "cell_type": "code",
   "execution_count": 0,
   "metadata": {
    "colab": {},
    "colab_type": "code",
    "id": "Q0uGPi7bdGbF",
    "outputId": "c0a26b4e-b292-41da-b5b9-dc585c7ddfeb"
   },
   "outputs": [
    {
     "data": {
      "text/html": [
       "<div>\n",
       "<style scoped>\n",
       "    .dataframe tbody tr th:only-of-type {\n",
       "        vertical-align: middle;\n",
       "    }\n",
       "\n",
       "    .dataframe tbody tr th {\n",
       "        vertical-align: top;\n",
       "    }\n",
       "\n",
       "    .dataframe thead tr th {\n",
       "        text-align: left;\n",
       "    }\n",
       "\n",
       "    .dataframe thead tr:last-of-type th {\n",
       "        text-align: right;\n",
       "    }\n",
       "</style>\n",
       "<table border=\"1\" class=\"dataframe\">\n",
       "  <thead>\n",
       "    <tr>\n",
       "      <th></th>\n",
       "      <th colspan=\"3\" halign=\"left\">Price</th>\n",
       "      <th>Volume</th>\n",
       "    </tr>\n",
       "    <tr>\n",
       "      <th></th>\n",
       "      <th>difference</th>\n",
       "      <th>first</th>\n",
       "      <th>last</th>\n",
       "      <th>total volume</th>\n",
       "    </tr>\n",
       "    <tr>\n",
       "      <th>Symbol</th>\n",
       "      <th></th>\n",
       "      <th></th>\n",
       "      <th></th>\n",
       "      <th></th>\n",
       "    </tr>\n",
       "  </thead>\n",
       "  <tbody>\n",
       "    <tr>\n",
       "      <th>AMZN</th>\n",
       "      <td>3.940003</td>\n",
       "      <td>422.869995</td>\n",
       "      <td>419.100006</td>\n",
       "      <td>11245100</td>\n",
       "    </tr>\n",
       "    <tr>\n",
       "      <th>APPL</th>\n",
       "      <td>3.673264</td>\n",
       "      <td>120.220688</td>\n",
       "      <td>116.547424</td>\n",
       "      <td>230913300</td>\n",
       "    </tr>\n",
       "    <tr>\n",
       "      <th>GOOG</th>\n",
       "      <td>16.560058</td>\n",
       "      <td>537.900024</td>\n",
       "      <td>524.219971</td>\n",
       "      <td>6026300</td>\n",
       "    </tr>\n",
       "  </tbody>\n",
       "</table>\n",
       "</div>"
      ],
      "text/plain": [
       "            Price                               Volume\n",
       "       difference       first        last total volume\n",
       "Symbol                                                \n",
       "AMZN     3.940003  422.869995  419.100006     11245100\n",
       "APPL     3.673264  120.220688  116.547424    230913300\n",
       "GOOG    16.560058  537.900024  524.219971      6026300"
      ]
     },
     "execution_count": 19,
     "metadata": {
      "tags": []
     },
     "output_type": "execute_result"
    }
   ],
   "source": [
    "st_grby.agg({'Price':[('difference', lambda x: x.max()-x.min()), ('first', 'first'),  ('last', 'last')],\n",
    "             'Volume': [('total volume', 'sum')]})                 "
   ]
  },
  {
   "cell_type": "markdown",
   "metadata": {
    "colab_type": "text",
    "id": "Nz6Nb0-GdGbH"
   },
   "source": [
    "To suppress using group keys as indices in the aggregated output, we can pass `as_index=False` to `groupby()` when first creating the `GroupBy` object:"
   ]
  },
  {
   "cell_type": "code",
   "execution_count": 0,
   "metadata": {
    "colab": {},
    "colab_type": "code",
    "id": "x5YRkPy2dGbH",
    "outputId": "89c138b1-d6ca-4662-a91f-377b503e81dd"
   },
   "outputs": [
    {
     "data": {
      "text/html": [
       "<div>\n",
       "<style scoped>\n",
       "    .dataframe tbody tr th:only-of-type {\n",
       "        vertical-align: middle;\n",
       "    }\n",
       "\n",
       "    .dataframe tbody tr th {\n",
       "        vertical-align: top;\n",
       "    }\n",
       "\n",
       "    .dataframe thead tr th {\n",
       "        text-align: left;\n",
       "    }\n",
       "</style>\n",
       "<table border=\"1\" class=\"dataframe\">\n",
       "  <thead>\n",
       "    <tr>\n",
       "      <th></th>\n",
       "      <th>Symbol</th>\n",
       "      <th>Price</th>\n",
       "      <th>Volume</th>\n",
       "    </tr>\n",
       "    <tr>\n",
       "      <th></th>\n",
       "      <th></th>\n",
       "      <th>standard deviation</th>\n",
       "      <th>total volume</th>\n",
       "    </tr>\n",
       "  </thead>\n",
       "  <tbody>\n",
       "    <tr>\n",
       "      <th>0</th>\n",
       "      <td>AMZN</td>\n",
       "      <td>1.834356</td>\n",
       "      <td>11245100</td>\n",
       "    </tr>\n",
       "    <tr>\n",
       "      <th>1</th>\n",
       "      <td>APPL</td>\n",
       "      <td>1.867686</td>\n",
       "      <td>230913300</td>\n",
       "    </tr>\n",
       "    <tr>\n",
       "      <th>2</th>\n",
       "      <td>GOOG</td>\n",
       "      <td>7.432934</td>\n",
       "      <td>6026300</td>\n",
       "    </tr>\n",
       "  </tbody>\n",
       "</table>\n",
       "</div>"
      ],
      "text/plain": [
       "  Symbol              Price       Volume\n",
       "         standard deviation total volume\n",
       "0   AMZN           1.834356     11245100\n",
       "1   APPL           1.867686    230913300\n",
       "2   GOOG           7.432934      6026300"
      ]
     },
     "execution_count": 20,
     "metadata": {
      "tags": []
     },
     "output_type": "execute_result"
    }
   ],
   "source": [
    "st.groupby('Symbol', as_index=False).agg({'Price':[('standard deviation', 'std')],\n",
    "                                          'Volume': [('total volume', 'sum')]})    "
   ]
  },
  {
   "cell_type": "markdown",
   "metadata": {
    "colab_type": "text",
    "id": "v_bQ25QidGbJ"
   },
   "source": [
    "\n",
    "---\n",
    "\n",
    "#### Generic Group-wise Operations\n",
    "\n",
    "\n",
    " \n",
    "\n",
    "\n",
    "`GroupBy` objects' [`apply()` method](https://pandas.pydata.org/pandas-docs/stable/reference/api/pandas.core.groupby.GroupBy.apply.html) allows us to apply an arbitrary function to grouped data and enables more generic group operations (aggregation, transformation, filtering, etc.).\n",
    "\n",
    "\n",
    "The function passed to the `apply()` method should take a `DataFrame` and return either a Pandas object (e.g., `DataFrame`, `Series`) or a scalar.\n",
    "\n",
    "Other inputs to the passed-in function are taken by the `apply()` method as additional arguments.\n",
    "\n",
    "Suppose we want to select the top $n$ prices/volumes by stock. It's straightforward to write a function that selects the rows with the largest values in a particular column:"
   ]
  },
  {
   "cell_type": "code",
   "execution_count": 0,
   "metadata": {
    "colab": {},
    "colab_type": "code",
    "id": "9aDtK06I8mYs",
    "outputId": "3f72f96c-0faa-479c-9a78-e3fa7e652408"
   },
   "outputs": [
    {
     "data": {
      "text/html": [
       "<div>\n",
       "<style scoped>\n",
       "    .dataframe tbody tr th:only-of-type {\n",
       "        vertical-align: middle;\n",
       "    }\n",
       "\n",
       "    .dataframe tbody tr th {\n",
       "        vertical-align: top;\n",
       "    }\n",
       "\n",
       "    .dataframe thead th {\n",
       "        text-align: right;\n",
       "    }\n",
       "</style>\n",
       "<table border=\"1\" class=\"dataframe\">\n",
       "  <thead>\n",
       "    <tr style=\"text-align: right;\">\n",
       "      <th></th>\n",
       "      <th>Date</th>\n",
       "      <th>Symbol</th>\n",
       "      <th>Price</th>\n",
       "    </tr>\n",
       "  </thead>\n",
       "  <tbody>\n",
       "    <tr>\n",
       "      <th>1</th>\n",
       "      <td>2015/5/4</td>\n",
       "      <td>GOOG</td>\n",
       "      <td>540.780029</td>\n",
       "    </tr>\n",
       "    <tr>\n",
       "      <th>0</th>\n",
       "      <td>2015/5/1</td>\n",
       "      <td>GOOG</td>\n",
       "      <td>537.900024</td>\n",
       "    </tr>\n",
       "    <tr>\n",
       "      <th>2</th>\n",
       "      <td>2015/5/5</td>\n",
       "      <td>GOOG</td>\n",
       "      <td>530.799988</td>\n",
       "    </tr>\n",
       "    <tr>\n",
       "      <th>3</th>\n",
       "      <td>2015/5/6</td>\n",
       "      <td>GOOG</td>\n",
       "      <td>524.219971</td>\n",
       "    </tr>\n",
       "    <tr>\n",
       "      <th>9</th>\n",
       "      <td>2015/5/4</td>\n",
       "      <td>AMZN</td>\n",
       "      <td>423.040009</td>\n",
       "    </tr>\n",
       "    <tr>\n",
       "      <th>...</th>\n",
       "      <td>...</td>\n",
       "      <td>...</td>\n",
       "      <td>...</td>\n",
       "    </tr>\n",
       "    <tr>\n",
       "      <th>11</th>\n",
       "      <td>2015/5/6</td>\n",
       "      <td>AMZN</td>\n",
       "      <td>419.100006</td>\n",
       "    </tr>\n",
       "    <tr>\n",
       "      <th>4</th>\n",
       "      <td>2015/5/1</td>\n",
       "      <td>APPL</td>\n",
       "      <td>120.220688</td>\n",
       "    </tr>\n",
       "    <tr>\n",
       "      <th>5</th>\n",
       "      <td>2015/5/4</td>\n",
       "      <td>APPL</td>\n",
       "      <td>119.987633</td>\n",
       "    </tr>\n",
       "    <tr>\n",
       "      <th>6</th>\n",
       "      <td>2015/5/5</td>\n",
       "      <td>APPL</td>\n",
       "      <td>117.283951</td>\n",
       "    </tr>\n",
       "    <tr>\n",
       "      <th>7</th>\n",
       "      <td>2015/5/6</td>\n",
       "      <td>APPL</td>\n",
       "      <td>116.547424</td>\n",
       "    </tr>\n",
       "  </tbody>\n",
       "</table>\n",
       "<p>12 rows × 3 columns</p>\n",
       "</div>"
      ],
      "text/plain": [
       "        Date Symbol       Price\n",
       "1   2015/5/4   GOOG  540.780029\n",
       "0   2015/5/1   GOOG  537.900024\n",
       "2   2015/5/5   GOOG  530.799988\n",
       "3   2015/5/6   GOOG  524.219971\n",
       "9   2015/5/4   AMZN  423.040009\n",
       "..       ...    ...         ...\n",
       "11  2015/5/6   AMZN  419.100006\n",
       "4   2015/5/1   APPL  120.220688\n",
       "5   2015/5/4   APPL  119.987633\n",
       "6   2015/5/5   APPL  117.283951\n",
       "7   2015/5/6   APPL  116.547424\n",
       "\n",
       "[12 rows x 3 columns]"
      ]
     },
     "execution_count": 34,
     "metadata": {
      "tags": []
     },
     "output_type": "execute_result"
    }
   ],
   "source": [
    "sp_l.sort_values(by=\"Price\", ascending=False)"
   ]
  },
  {
   "cell_type": "code",
   "execution_count": 0,
   "metadata": {
    "colab": {},
    "colab_type": "code",
    "id": "weHVBWGVdGbJ"
   },
   "outputs": [],
   "source": [
    "def top(df, n, column):\n",
    "    return df.sort_values(by=column, ascending=False)[:n]"
   ]
  },
  {
   "cell_type": "markdown",
   "metadata": {
    "colab_type": "text",
    "id": "H7_zeE1tdGbK"
   },
   "source": [
    "Calling `apply()` with this function applies it to each group:"
   ]
  },
  {
   "cell_type": "code",
   "execution_count": 0,
   "metadata": {
    "colab": {},
    "colab_type": "code",
    "id": "dxaqSShOdGbK",
    "outputId": "ccb10520-7b59-46df-90f9-33c4e8cee09c"
   },
   "outputs": [
    {
     "data": {
      "text/html": [
       "<div style=\"float: left; padding: 10px;\">\n",
       "    <p>st_grby.apply(top, 2, \"Price\")</p><div>\n",
       "<style scoped>\n",
       "    .dataframe tbody tr th:only-of-type {\n",
       "        vertical-align: middle;\n",
       "    }\n",
       "\n",
       "    .dataframe tbody tr th {\n",
       "        vertical-align: top;\n",
       "    }\n",
       "\n",
       "    .dataframe thead th {\n",
       "        text-align: right;\n",
       "    }\n",
       "</style>\n",
       "<table border=\"1\" class=\"dataframe\">\n",
       "  <thead>\n",
       "    <tr style=\"text-align: right;\">\n",
       "      <th></th>\n",
       "      <th></th>\n",
       "      <th>Date</th>\n",
       "      <th>Price</th>\n",
       "      <th>Volume</th>\n",
       "    </tr>\n",
       "    <tr>\n",
       "      <th>Symbol</th>\n",
       "      <th></th>\n",
       "      <th></th>\n",
       "      <th></th>\n",
       "      <th></th>\n",
       "    </tr>\n",
       "  </thead>\n",
       "  <tbody>\n",
       "    <tr>\n",
       "      <th rowspan=\"2\" valign=\"top\">AMZN</th>\n",
       "      <th>9</th>\n",
       "      <td>2015/5/4</td>\n",
       "      <td>423.040009</td>\n",
       "      <td>2270400</td>\n",
       "    </tr>\n",
       "    <tr>\n",
       "      <th>8</th>\n",
       "      <td>2015/5/1</td>\n",
       "      <td>422.869995</td>\n",
       "      <td>3565800</td>\n",
       "    </tr>\n",
       "    <tr>\n",
       "      <th rowspan=\"2\" valign=\"top\">APPL</th>\n",
       "      <th>4</th>\n",
       "      <td>2015/5/1</td>\n",
       "      <td>120.220688</td>\n",
       "      <td>58512600</td>\n",
       "    </tr>\n",
       "    <tr>\n",
       "      <th>5</th>\n",
       "      <td>2015/5/4</td>\n",
       "      <td>119.987633</td>\n",
       "      <td>50988300</td>\n",
       "    </tr>\n",
       "    <tr>\n",
       "      <th rowspan=\"2\" valign=\"top\">GOOG</th>\n",
       "      <th>1</th>\n",
       "      <td>2015/5/4</td>\n",
       "      <td>540.780029</td>\n",
       "      <td>1308000</td>\n",
       "    </tr>\n",
       "    <tr>\n",
       "      <th>0</th>\n",
       "      <td>2015/5/1</td>\n",
       "      <td>537.900024</td>\n",
       "      <td>1768200</td>\n",
       "    </tr>\n",
       "  </tbody>\n",
       "</table>\n",
       "</div>\n",
       "    </div>\n",
       "<div style=\"float: left; padding: 10px;\">\n",
       "    <p>st_grby.apply(top, 3, \"Volume\")</p><div>\n",
       "<style scoped>\n",
       "    .dataframe tbody tr th:only-of-type {\n",
       "        vertical-align: middle;\n",
       "    }\n",
       "\n",
       "    .dataframe tbody tr th {\n",
       "        vertical-align: top;\n",
       "    }\n",
       "\n",
       "    .dataframe thead th {\n",
       "        text-align: right;\n",
       "    }\n",
       "</style>\n",
       "<table border=\"1\" class=\"dataframe\">\n",
       "  <thead>\n",
       "    <tr style=\"text-align: right;\">\n",
       "      <th></th>\n",
       "      <th></th>\n",
       "      <th>Date</th>\n",
       "      <th>Price</th>\n",
       "      <th>Volume</th>\n",
       "    </tr>\n",
       "    <tr>\n",
       "      <th>Symbol</th>\n",
       "      <th></th>\n",
       "      <th></th>\n",
       "      <th></th>\n",
       "      <th></th>\n",
       "    </tr>\n",
       "  </thead>\n",
       "  <tbody>\n",
       "    <tr>\n",
       "      <th rowspan=\"3\" valign=\"top\">AMZN</th>\n",
       "      <th>8</th>\n",
       "      <td>2015/5/1</td>\n",
       "      <td>422.869995</td>\n",
       "      <td>3565800</td>\n",
       "    </tr>\n",
       "    <tr>\n",
       "      <th>10</th>\n",
       "      <td>2015/5/5</td>\n",
       "      <td>421.190002</td>\n",
       "      <td>2856400</td>\n",
       "    </tr>\n",
       "    <tr>\n",
       "      <th>11</th>\n",
       "      <td>2015/5/6</td>\n",
       "      <td>419.100006</td>\n",
       "      <td>2552500</td>\n",
       "    </tr>\n",
       "    <tr>\n",
       "      <th rowspan=\"3\" valign=\"top\">APPL</th>\n",
       "      <th>7</th>\n",
       "      <td>2015/5/6</td>\n",
       "      <td>116.547424</td>\n",
       "      <td>72141000</td>\n",
       "    </tr>\n",
       "    <tr>\n",
       "      <th>4</th>\n",
       "      <td>2015/5/1</td>\n",
       "      <td>120.220688</td>\n",
       "      <td>58512600</td>\n",
       "    </tr>\n",
       "    <tr>\n",
       "      <th>5</th>\n",
       "      <td>2015/5/4</td>\n",
       "      <td>119.987633</td>\n",
       "      <td>50988300</td>\n",
       "    </tr>\n",
       "    <tr>\n",
       "      <th rowspan=\"3\" valign=\"top\">GOOG</th>\n",
       "      <th>0</th>\n",
       "      <td>2015/5/1</td>\n",
       "      <td>537.900024</td>\n",
       "      <td>1768200</td>\n",
       "    </tr>\n",
       "    <tr>\n",
       "      <th>3</th>\n",
       "      <td>2015/5/6</td>\n",
       "      <td>524.219971</td>\n",
       "      <td>1567000</td>\n",
       "    </tr>\n",
       "    <tr>\n",
       "      <th>2</th>\n",
       "      <td>2015/5/5</td>\n",
       "      <td>530.799988</td>\n",
       "      <td>1383100</td>\n",
       "    </tr>\n",
       "  </tbody>\n",
       "</table>\n",
       "</div>\n",
       "    </div>"
      ],
      "text/plain": [
       "st_grby.apply(top, 2, \"Price\")\n",
       "              Date       Price    Volume\n",
       "Symbol                                  \n",
       "AMZN   9  2015/5/4  423.040009   2270400\n",
       "       8  2015/5/1  422.869995   3565800\n",
       "APPL   4  2015/5/1  120.220688  58512600\n",
       "       5  2015/5/4  119.987633  50988300\n",
       "GOOG   1  2015/5/4  540.780029   1308000\n",
       "       0  2015/5/1  537.900024   1768200\n",
       "\n",
       "st_grby.apply(top, 3, \"Volume\")\n",
       "               Date       Price    Volume\n",
       "Symbol                                   \n",
       "AMZN   8   2015/5/1  422.869995   3565800\n",
       "       10  2015/5/5  421.190002   2856400\n",
       "       11  2015/5/6  419.100006   2552500\n",
       "APPL   7   2015/5/6  116.547424  72141000\n",
       "       4   2015/5/1  120.220688  58512600\n",
       "       5   2015/5/4  119.987633  50988300\n",
       "GOOG   0   2015/5/1  537.900024   1768200\n",
       "       3   2015/5/6  524.219971   1567000\n",
       "       2   2015/5/5  530.799988   1383100"
      ]
     },
     "execution_count": 14,
     "metadata": {
      "tags": []
     },
     "output_type": "execute_result"
    }
   ],
   "source": [
    "display('st_grby.apply(top, 2, \"Price\")', 'st_grby.apply(top, 3, \"Volume\")')"
   ]
  },
  {
   "cell_type": "markdown",
   "metadata": {
    "colab_type": "text",
    "id": "x9NkX5N0dGbM"
   },
   "source": [
    "By default, group keys are added to index with their corresponding columns kept in the output. To suppress this behavior, we can pass `group_keys=False` to `groupby()`:"
   ]
  },
  {
   "cell_type": "code",
   "execution_count": 0,
   "metadata": {
    "colab": {},
    "colab_type": "code",
    "id": "CufpEr_odGbM",
    "outputId": "0c0d7635-299d-4cec-8afa-add19385181d"
   },
   "outputs": [
    {
     "data": {
      "text/html": [
       "<div>\n",
       "<style scoped>\n",
       "    .dataframe tbody tr th:only-of-type {\n",
       "        vertical-align: middle;\n",
       "    }\n",
       "\n",
       "    .dataframe tbody tr th {\n",
       "        vertical-align: top;\n",
       "    }\n",
       "\n",
       "    .dataframe thead th {\n",
       "        text-align: right;\n",
       "    }\n",
       "</style>\n",
       "<table border=\"1\" class=\"dataframe\">\n",
       "  <thead>\n",
       "    <tr style=\"text-align: right;\">\n",
       "      <th></th>\n",
       "      <th>Date</th>\n",
       "      <th>Symbol</th>\n",
       "      <th>Price</th>\n",
       "      <th>Volume</th>\n",
       "    </tr>\n",
       "  </thead>\n",
       "  <tbody>\n",
       "    <tr>\n",
       "      <th>9</th>\n",
       "      <td>2015/5/4</td>\n",
       "      <td>AMZN</td>\n",
       "      <td>423.040009</td>\n",
       "      <td>2270400</td>\n",
       "    </tr>\n",
       "    <tr>\n",
       "      <th>8</th>\n",
       "      <td>2015/5/1</td>\n",
       "      <td>AMZN</td>\n",
       "      <td>422.869995</td>\n",
       "      <td>3565800</td>\n",
       "    </tr>\n",
       "    <tr>\n",
       "      <th>4</th>\n",
       "      <td>2015/5/1</td>\n",
       "      <td>APPL</td>\n",
       "      <td>120.220688</td>\n",
       "      <td>58512600</td>\n",
       "    </tr>\n",
       "    <tr>\n",
       "      <th>5</th>\n",
       "      <td>2015/5/4</td>\n",
       "      <td>APPL</td>\n",
       "      <td>119.987633</td>\n",
       "      <td>50988300</td>\n",
       "    </tr>\n",
       "    <tr>\n",
       "      <th>1</th>\n",
       "      <td>2015/5/4</td>\n",
       "      <td>GOOG</td>\n",
       "      <td>540.780029</td>\n",
       "      <td>1308000</td>\n",
       "    </tr>\n",
       "    <tr>\n",
       "      <th>0</th>\n",
       "      <td>2015/5/1</td>\n",
       "      <td>GOOG</td>\n",
       "      <td>537.900024</td>\n",
       "      <td>1768200</td>\n",
       "    </tr>\n",
       "  </tbody>\n",
       "</table>\n",
       "</div>"
      ],
      "text/plain": [
       "       Date Symbol       Price    Volume\n",
       "9  2015/5/4   AMZN  423.040009   2270400\n",
       "8  2015/5/1   AMZN  422.869995   3565800\n",
       "4  2015/5/1   APPL  120.220688  58512600\n",
       "5  2015/5/4   APPL  119.987633  50988300\n",
       "1  2015/5/4   GOOG  540.780029   1308000\n",
       "0  2015/5/1   GOOG  537.900024   1768200"
      ]
     },
     "execution_count": 29,
     "metadata": {
      "tags": []
     },
     "output_type": "execute_result"
    }
   ],
   "source": [
    "st.groupby('Symbol', group_keys=False).apply(top, 2, \"Price\")"
   ]
  },
  {
   "cell_type": "code",
   "execution_count": 0,
   "metadata": {
    "colab": {},
    "colab_type": "code",
    "id": "uPgGoqea8mYz",
    "outputId": "ebe0611d-e83e-458c-9846-a15b0be84eba"
   },
   "outputs": [
    {
     "data": {
      "text/html": [
       "<div>\n",
       "<style scoped>\n",
       "    .dataframe tbody tr th:only-of-type {\n",
       "        vertical-align: middle;\n",
       "    }\n",
       "\n",
       "    .dataframe tbody tr th {\n",
       "        vertical-align: top;\n",
       "    }\n",
       "\n",
       "    .dataframe thead th {\n",
       "        text-align: right;\n",
       "    }\n",
       "</style>\n",
       "<table border=\"1\" class=\"dataframe\">\n",
       "  <thead>\n",
       "    <tr style=\"text-align: right;\">\n",
       "      <th></th>\n",
       "      <th>Date</th>\n",
       "      <th>Symbol</th>\n",
       "      <th>Price</th>\n",
       "      <th>Volume</th>\n",
       "    </tr>\n",
       "  </thead>\n",
       "  <tbody>\n",
       "    <tr>\n",
       "      <th>0</th>\n",
       "      <td>2015/5/4</td>\n",
       "      <td>AMZN</td>\n",
       "      <td>423.040009</td>\n",
       "      <td>2270400</td>\n",
       "    </tr>\n",
       "    <tr>\n",
       "      <th>1</th>\n",
       "      <td>2015/5/1</td>\n",
       "      <td>AMZN</td>\n",
       "      <td>422.869995</td>\n",
       "      <td>3565800</td>\n",
       "    </tr>\n",
       "    <tr>\n",
       "      <th>2</th>\n",
       "      <td>2015/5/1</td>\n",
       "      <td>APPL</td>\n",
       "      <td>120.220688</td>\n",
       "      <td>58512600</td>\n",
       "    </tr>\n",
       "    <tr>\n",
       "      <th>3</th>\n",
       "      <td>2015/5/4</td>\n",
       "      <td>APPL</td>\n",
       "      <td>119.987633</td>\n",
       "      <td>50988300</td>\n",
       "    </tr>\n",
       "    <tr>\n",
       "      <th>4</th>\n",
       "      <td>2015/5/4</td>\n",
       "      <td>GOOG</td>\n",
       "      <td>540.780029</td>\n",
       "      <td>1308000</td>\n",
       "    </tr>\n",
       "    <tr>\n",
       "      <th>5</th>\n",
       "      <td>2015/5/1</td>\n",
       "      <td>GOOG</td>\n",
       "      <td>537.900024</td>\n",
       "      <td>1768200</td>\n",
       "    </tr>\n",
       "  </tbody>\n",
       "</table>\n",
       "</div>"
      ],
      "text/plain": [
       "       Date Symbol       Price    Volume\n",
       "0  2015/5/4   AMZN  423.040009   2270400\n",
       "1  2015/5/1   AMZN  422.869995   3565800\n",
       "2  2015/5/1   APPL  120.220688  58512600\n",
       "3  2015/5/4   APPL  119.987633  50988300\n",
       "4  2015/5/4   GOOG  540.780029   1308000\n",
       "5  2015/5/1   GOOG  537.900024   1768200"
      ]
     },
     "execution_count": 31,
     "metadata": {
      "tags": []
     },
     "output_type": "execute_result"
    }
   ],
   "source": [
    "st.groupby('Symbol', group_keys=False).apply(top, 2, \"Price\").reset_index(drop=True)"
   ]
  },
  {
   "cell_type": "markdown",
   "metadata": {
    "colab_type": "text",
    "id": "cl75Kw-vdGbN"
   },
   "source": [
    "\n",
    "---\n",
    "\n",
    "### 2.9.3 Filtering Groups\n",
    "\n",
    "`GroupBy` objects' [`filter()`](https://pandas.pydata.org/pandas-docs/stable/reference/api/pandas.core.groupby.DataFrameGroupBy.filter.html) method allows us to form criteria to drop data based on the group properties:\n",
    "\n"
   ]
  },
  {
   "cell_type": "code",
   "execution_count": 4,
   "metadata": {},
   "outputs": [
    {
     "data": {
      "text/plain": [
       "10000000.0"
      ]
     },
     "execution_count": 4,
     "metadata": {},
     "output_type": "execute_result"
    }
   ],
   "source": [
    "1e7"
   ]
  },
  {
   "cell_type": "code",
   "execution_count": 0,
   "metadata": {
    "colab": {},
    "colab_type": "code",
    "id": "HlaqOC6udGbN",
    "outputId": "e04e1bdc-e51c-4bcb-9d24-c3e3fcf7818d"
   },
   "outputs": [
    {
     "data": {
      "text/html": [
       "<div>\n",
       "<style scoped>\n",
       "    .dataframe tbody tr th:only-of-type {\n",
       "        vertical-align: middle;\n",
       "    }\n",
       "\n",
       "    .dataframe tbody tr th {\n",
       "        vertical-align: top;\n",
       "    }\n",
       "\n",
       "    .dataframe thead th {\n",
       "        text-align: right;\n",
       "    }\n",
       "</style>\n",
       "<table border=\"1\" class=\"dataframe\">\n",
       "  <thead>\n",
       "    <tr style=\"text-align: right;\">\n",
       "      <th></th>\n",
       "      <th>Date</th>\n",
       "      <th>Symbol</th>\n",
       "      <th>Price</th>\n",
       "      <th>Volume</th>\n",
       "    </tr>\n",
       "  </thead>\n",
       "  <tbody>\n",
       "    <tr>\n",
       "      <th>4</th>\n",
       "      <td>2015/5/1</td>\n",
       "      <td>APPL</td>\n",
       "      <td>120.220688</td>\n",
       "      <td>58512600</td>\n",
       "    </tr>\n",
       "    <tr>\n",
       "      <th>5</th>\n",
       "      <td>2015/5/4</td>\n",
       "      <td>APPL</td>\n",
       "      <td>119.987633</td>\n",
       "      <td>50988300</td>\n",
       "    </tr>\n",
       "    <tr>\n",
       "      <th>6</th>\n",
       "      <td>2015/5/5</td>\n",
       "      <td>APPL</td>\n",
       "      <td>117.283951</td>\n",
       "      <td>49271400</td>\n",
       "    </tr>\n",
       "    <tr>\n",
       "      <th>7</th>\n",
       "      <td>2015/5/6</td>\n",
       "      <td>APPL</td>\n",
       "      <td>116.547424</td>\n",
       "      <td>72141000</td>\n",
       "    </tr>\n",
       "    <tr>\n",
       "      <th>8</th>\n",
       "      <td>2015/5/1</td>\n",
       "      <td>AMZN</td>\n",
       "      <td>422.869995</td>\n",
       "      <td>3565800</td>\n",
       "    </tr>\n",
       "    <tr>\n",
       "      <th>9</th>\n",
       "      <td>2015/5/4</td>\n",
       "      <td>AMZN</td>\n",
       "      <td>423.040009</td>\n",
       "      <td>2270400</td>\n",
       "    </tr>\n",
       "    <tr>\n",
       "      <th>10</th>\n",
       "      <td>2015/5/5</td>\n",
       "      <td>AMZN</td>\n",
       "      <td>421.190002</td>\n",
       "      <td>2856400</td>\n",
       "    </tr>\n",
       "    <tr>\n",
       "      <th>11</th>\n",
       "      <td>2015/5/6</td>\n",
       "      <td>AMZN</td>\n",
       "      <td>419.100006</td>\n",
       "      <td>2552500</td>\n",
       "    </tr>\n",
       "  </tbody>\n",
       "</table>\n",
       "</div>"
      ],
      "text/plain": [
       "        Date Symbol       Price    Volume\n",
       "4   2015/5/1   APPL  120.220688  58512600\n",
       "5   2015/5/4   APPL  119.987633  50988300\n",
       "6   2015/5/5   APPL  117.283951  49271400\n",
       "7   2015/5/6   APPL  116.547424  72141000\n",
       "8   2015/5/1   AMZN  422.869995   3565800\n",
       "9   2015/5/4   AMZN  423.040009   2270400\n",
       "10  2015/5/5   AMZN  421.190002   2856400\n",
       "11  2015/5/6   AMZN  419.100006   2552500"
      ]
     },
     "execution_count": 24,
     "metadata": {
      "tags": []
     },
     "output_type": "execute_result"
    }
   ],
   "source": [
    "st_grby.filter(lambda x: x['Volume'].sum() > 1e7 )"
   ]
  },
  {
   "cell_type": "markdown",
   "metadata": {
    "colab_type": "text",
    "id": "tY8FGBK0dGbO"
   },
   "source": [
    "---\n",
    "\n",
    "## 2.10 Plotting Data (Optional)\n",
    "\n",
    "\n",
    "\n",
    "A `DataFrame`'s [`plot()`](https://pandas.pydata.org/pandas-docs/stable/reference/api/pandas.DataFrame.plot.html) method (a simple wrapper around the [`plot()`](https://matplotlib.org/api/_as_gen/matplotlib.axes.Axes.plot.html) method in matplotlib) allows us to easily create decent looking plots for data:"
   ]
  },
  {
   "cell_type": "code",
   "execution_count": 0,
   "metadata": {
    "colab": {},
    "colab_type": "code",
    "id": "4VsAMexzdGbP"
   },
   "outputs": [],
   "source": [
    "import matplotlib.pyplot as plt"
   ]
  },
  {
   "cell_type": "code",
   "execution_count": 0,
   "metadata": {
    "colab": {},
    "colab_type": "code",
    "id": "Ah9bhely8mY6",
    "outputId": "5e6b17bc-4f3e-4709-85c9-de5d13af1d1d"
   },
   "outputs": [
    {
     "data": {
      "text/html": [
       "<div>\n",
       "<style scoped>\n",
       "    .dataframe tbody tr th:only-of-type {\n",
       "        vertical-align: middle;\n",
       "    }\n",
       "\n",
       "    .dataframe tbody tr th {\n",
       "        vertical-align: top;\n",
       "    }\n",
       "\n",
       "    .dataframe thead th {\n",
       "        text-align: right;\n",
       "    }\n",
       "</style>\n",
       "<table border=\"1\" class=\"dataframe\">\n",
       "  <thead>\n",
       "    <tr style=\"text-align: right;\">\n",
       "      <th></th>\n",
       "      <th>GOOG</th>\n",
       "      <th>APPL</th>\n",
       "      <th>AMZN</th>\n",
       "    </tr>\n",
       "    <tr>\n",
       "      <th>Date</th>\n",
       "      <th></th>\n",
       "      <th></th>\n",
       "      <th></th>\n",
       "    </tr>\n",
       "  </thead>\n",
       "  <tbody>\n",
       "    <tr>\n",
       "      <th>2015/5/1</th>\n",
       "      <td>537.900024</td>\n",
       "      <td>120.220688</td>\n",
       "      <td>422.869995</td>\n",
       "    </tr>\n",
       "    <tr>\n",
       "      <th>2015/5/4</th>\n",
       "      <td>540.780029</td>\n",
       "      <td>119.987633</td>\n",
       "      <td>423.040009</td>\n",
       "    </tr>\n",
       "    <tr>\n",
       "      <th>2015/5/5</th>\n",
       "      <td>530.799988</td>\n",
       "      <td>117.283951</td>\n",
       "      <td>421.190002</td>\n",
       "    </tr>\n",
       "    <tr>\n",
       "      <th>2015/5/6</th>\n",
       "      <td>524.219971</td>\n",
       "      <td>116.547424</td>\n",
       "      <td>419.100006</td>\n",
       "    </tr>\n",
       "  </tbody>\n",
       "</table>\n",
       "</div>"
      ],
      "text/plain": [
       "                GOOG        APPL        AMZN\n",
       "Date                                        \n",
       "2015/5/1  537.900024  120.220688  422.869995\n",
       "2015/5/4  540.780029  119.987633  423.040009\n",
       "2015/5/5  530.799988  117.283951  421.190002\n",
       "2015/5/6  524.219971  116.547424  419.100006"
      ]
     },
     "execution_count": 19,
     "metadata": {
      "tags": []
     },
     "output_type": "execute_result"
    }
   ],
   "source": [
    "sp.set_index('Date', inplace=True); sp # set the DataFrame index using existing columns"
   ]
  },
  {
   "cell_type": "code",
   "execution_count": 0,
   "metadata": {
    "cell_style": "split",
    "colab": {},
    "colab_type": "code",
    "id": "dXHWxWsf8mY6",
    "outputId": "fff15ce9-87d0-4c8c-fa92-29f6aad90e56"
   },
   "outputs": [
    {
     "data": {
      "image/png": "[encoded data removed]",
      "text/plain": [
       "<Figure size 432x288 with 2 Axes>"
      ]
     },
     "metadata": {
      "image/png": {
       "height": 258,
       "width": 406
      },
      "needs_background": "light",
      "tags": []
     },
     "output_type": "display_data"
    }
   ],
   "source": [
    "sp[['GOOG', 'AMZN']].plot(secondary_y=[\"AMZN\"], \n",
    "                          grid=True)\n",
    "plt.show()"
   ]
  },
  {
   "cell_type": "code",
   "execution_count": 0,
   "metadata": {
    "cell_style": "split",
    "colab": {},
    "colab_type": "code",
    "id": "JoL9JyOUdGbQ",
    "outputId": "1059c253-d4b6-40e3-c0cc-2bb55c3e8213",
    "scrolled": true
   },
   "outputs": [
    {
     "data": {
      "image/png": "[encoded data removed]",
      "text/plain": [
       "<Figure size 432x288 with 2 Axes>"
      ]
     },
     "metadata": {
      "image/png": {
       "height": 258,
       "width": 406
      },
      "needs_background": "light",
      "tags": []
     },
     "output_type": "display_data"
    }
   ],
   "source": [
    "sp[['APPL', 'AMZN']].plot(secondary_y=[\"APPL\"], \n",
    "                          grid=True)\n",
    "plt.show()"
   ]
  },
  {
   "cell_type": "markdown",
   "metadata": {
    "colab_type": "text",
    "id": "ZMHmcVk3dGbS"
   },
   "source": [
    "A more informative and appealing plot can be created by using more sophisticated data visualization tools:"
   ]
  },
  {
   "cell_type": "code",
   "execution_count": 0,
   "metadata": {
    "colab": {},
    "colab_type": "code",
    "id": "nxZyA0GLdGbS",
    "outputId": "95d39b7d-dbf8-45d6-a1f7-5292c2b04ba8"
   },
   "outputs": [
    {
     "data": {
      "image/png": "[encoded data removed]",
      "text/plain": [
       "<Figure size 1080x360 with 3 Axes>"
      ]
     },
     "metadata": {
      "image/png": {
       "height": 343,
       "width": 1066
      },
      "tags": []
     },
     "output_type": "display_data"
    }
   ],
   "source": [
    "import seaborn as sns\n",
    "with plt.style.context('fivethirtyeight'):\n",
    "    p = sns.FacetGrid(sp_l, col=\"Symbol\", hue=\"Symbol\", height=5, sharey=False)\n",
    "    p.map(sns.lineplot, \"Date\", \"Price\")"
   ]
  }
 ],
 "metadata": {
  "colab": {
   "collapsed_sections": [],
   "name": "Topic 6 Data Manipulation.ipynb",
   "provenance": []
  },
  "hide_input": false,
  "kernelspec": {
   "display_name": "Python 3",
   "language": "python",
   "name": "python3"
  },
  "language_info": {
   "codemirror_mode": {
    "name": "ipython",
    "version": 3
   },
   "file_extension": ".py",
   "mimetype": "text/x-python",
   "name": "python",
   "nbconvert_exporter": "python",
   "pygments_lexer": "ipython3",
   "version": "3.8.3"
  },
  "toc": {
   "base_numbering": 1,
   "nav_menu": {},
   "number_sections": false,
   "sideBar": true,
   "skip_h1_title": false,
   "title_cell": "Table of Contents",
   "title_sidebar": "Contents",
   "toc_cell": false,
   "toc_position": {},
   "toc_section_display": true,
   "toc_window_display": false
  }
 },
 "nbformat": 4,
 "nbformat_minor": 1
}
