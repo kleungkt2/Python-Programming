{
 "cells": [
  {
   "cell_type": "markdown",
   "metadata": {
    "colab_type": "text",
    "id": "PR8puyJoMSOF"
   },
   "source": [
    "[What’s Markdown?](https://www.markdownguide.org/getting-started)\n",
    "\n",
    "[Basic Syntax](https://www.markdownguide.org/basic-syntax/)"
   ]
  },
  {
   "cell_type": "markdown",
   "metadata": {
    "colab_type": "text",
    "id": "8lGOtXRFPzth"
   },
   "source": [
    "\n",
    "\n",
    "At their base, programs written in Python are composed of <b>*expressions*</b>, which are \"phrases\" of code Python ***evaluates to produce values***. \n",
    "\n",
    "- Expressions often contains <b>*operators*</b>, a set of special symbols that carry out computations. \n",
    "\n",
    "---\n",
    "\n",
    "# Using Python as a Calculator\n",
    "\n",
    "\n",
    "\n",
    "\n",
    " \n",
    "\n",
    "The <font color='royalblue'><b>*arithmetic operators*</b></font> `+`, `-`, `*`, `/`, and `**` perform addition, subtraction, multiplication, division, and exponentiation:"
   ]
  },
  {
   "cell_type": "code",
   "execution_count": null,
   "metadata": {
    "colab": {},
    "colab_type": "code",
    "id": "RypeFqFAPtDt"
   },
   "outputs": [],
   "source": [
    "1.2 + 2"
   ]
  },
  {
   "cell_type": "code",
   "execution_count": null,
   "metadata": {
    "colab": {},
    "colab_type": "code",
    "id": "QsLURoqWQAzT"
   },
   "outputs": [],
   "source": [
    "5 * 2"
   ]
  },
  {
   "cell_type": "code",
   "execution_count": null,
   "metadata": {
    "colab": {},
    "colab_type": "code",
    "id": "JnpFbh7vQCWC"
   },
   "outputs": [],
   "source": [
    "5 ** 2        # 5 squared"
   ]
  },
  {
   "cell_type": "markdown",
   "metadata": {
    "colab_type": "text",
    "id": "_51XgM37MSOM"
   },
   "source": [
    "<div class=\"alert alert-info\">\n",
    " In computer science, a literal is a notation for representing a fixed value in source code.</div>"
   ]
  },
  {
   "cell_type": "markdown",
   "metadata": {
    "colab_type": "text",
    "id": "XCmg3g_rfYbW"
   },
   "source": [
    "Parentheses (`()`) can be used for grouping:"
   ]
  },
  {
   "cell_type": "code",
   "execution_count": null,
   "metadata": {
    "colab": {},
    "colab_type": "code",
    "id": "avNCWAiGP_Qq"
   },
   "outputs": [],
   "source": [
    "(15 - 10) * 2 / 5"
   ]
  },
  {
   "cell_type": "markdown",
   "metadata": {
    "colab_type": "text",
    "id": "wPt_dVQ6QVmq"
   },
   "source": [
    "The `//` operator performs <font color='royalblue'><b>*integer or floored division*</b></font> that keeps only the integer part of the result, while the `%` operator calculates the remainder:"
   ]
  },
  {
   "cell_type": "code",
   "execution_count": null,
   "metadata": {
    "colab": {},
    "colab_type": "code",
    "id": "SXxA-pIwTvYL"
   },
   "outputs": [],
   "source": [
    "5 * 3 + 2"
   ]
  },
  {
   "cell_type": "code",
   "execution_count": null,
   "metadata": {
    "colab": {},
    "colab_type": "code",
    "id": "YcKk6JkSQj6C"
   },
   "outputs": [],
   "source": [
    "17 / 3    # always return a result with a fractional part"
   ]
  },
  {
   "cell_type": "code",
   "execution_count": null,
   "metadata": {
    "colab": {},
    "colab_type": "code",
    "id": "Cd-L6HR6TFOB"
   },
   "outputs": [],
   "source": [
    "17 // 3   # discard the fractional part"
   ]
  },
  {
   "cell_type": "code",
   "execution_count": null,
   "metadata": {
    "colab": {},
    "colab_type": "code",
    "id": "720mFJnqQlV-"
   },
   "outputs": [],
   "source": [
    "17 % 3    # return the remainder of the division"
   ]
  },
  {
   "cell_type": "markdown",
   "metadata": {
    "colab_type": "text",
    "id": "Ykk2x7UuQxgK"
   },
   "source": [
    "---\n",
    "# Comparing Values\n",
    "\n",
    "<font color='royalblue'><b>*Comparison (relational) operators*</b></font> are used to compare values on either sides of them. It returns either of the two <font color='royalblue'><b>*Boolean*</b></font> values, `True` and `False`.\n",
    "\n"
   ]
  },
  {
   "cell_type": "code",
   "execution_count": null,
   "metadata": {
    "colab": {},
    "colab_type": "code",
    "id": "eqSarpzPWPZM"
   },
   "outputs": [],
   "source": [
    "2 > 5"
   ]
  },
  {
   "cell_type": "code",
   "execution_count": null,
   "metadata": {
    "colab": {},
    "colab_type": "code",
    "id": "vmzrggo7WSjN"
   },
   "outputs": [],
   "source": [
    "# chained in the mathematically obvious way\n",
    "# it can only be written as 2 < 5 and 5 <= 5.0 in other languages\n",
    "2 < 5 <= 5.0  "
   ]
  },
  {
   "cell_type": "markdown",
   "metadata": {
    "colab_type": "text",
    "id": "KanNkLafVKso"
   },
   "source": [
    "The table summarizes comparision operators:\n",
    "\n",
    "| Operator | Meaning |\n",
    "|----|---|\n",
    "| == | Equal to - `True` if both operands are equal |\n",
    "| !=  | Not equal to - `True` if operands are not equal |\n",
    "| < | Less than - `True` if left operand is less than the right |\n",
    "| > | Greater than - `True` if left operand is greater than the right |\n",
    "| <=  | Less than or equal to - `True` if left operand is less than or equal to the right |\n",
    "| >=  | Greater than or equal to - `True` if left operand is greater than or equal to the right |\n",
    "\n"
   ]
  },
  {
   "cell_type": "markdown",
   "metadata": {},
   "source": [
    "---\n",
    "\n",
    "\n",
    "## Boolean Values: `True` and `False`\n",
    "\n",
    "\n",
    "In computer science, the **Boolean data type** (`bool` for short in Python) is a data type that can only take on two truth values, `True` or `False`, intended to represent the truth values of logic and Boolean algebra.\n",
    "\n",
    "\n",
    " \n",
    " <img src=\"https://raw.githubusercontent.com/justinjiajia/img/master/python/truefalse.png\" width=\"300\" /> "
   ]
  },
  {
   "cell_type": "code",
   "execution_count": null,
   "metadata": {
    "cell_style": "split"
   },
   "outputs": [],
   "source": [
    "True           # reserved keywords; in bold"
   ]
  },
  {
   "cell_type": "code",
   "execution_count": null,
   "metadata": {
    "cell_style": "split"
   },
   "outputs": [],
   "source": [
    "False"
   ]
  },
  {
   "cell_type": "markdown",
   "metadata": {
    "colab_type": "text",
    "id": "2vmnOtMUWmA0"
   },
   "source": [
    "----\n",
    "\n",
    "# Logical Operators\n",
    "\n",
    "<font color='royalblue'><b>*Logical (Boolean) operators*</b></font> `and`, `or` and `not` perform Boolean logic upon two Boolean expressions and return Boolean results (`True` or `False`).\n"
   ]
  },
  {
   "cell_type": "code",
   "execution_count": null,
   "metadata": {
    "colab": {},
    "colab_type": "code",
    "id": "PVa40u5bXILc"
   },
   "outputs": [],
   "source": [
    "not True                         # only require one operand"
   ]
  },
  {
   "cell_type": "code",
   "execution_count": null,
   "metadata": {
    "colab": {},
    "colab_type": "code",
    "id": "SNXGO_KSXL4E"
   },
   "outputs": [],
   "source": [
    "True and False"
   ]
  },
  {
   "cell_type": "code",
   "execution_count": null,
   "metadata": {
    "colab": {},
    "colab_type": "code",
    "id": "ERI2aU_-XPgc"
   },
   "outputs": [],
   "source": [
    "2 < 5 and not False"
   ]
  },
  {
   "cell_type": "code",
   "execution_count": null,
   "metadata": {
    "colab": {},
    "colab_type": "code",
    "id": "7HFvKyHUXjn0"
   },
   "outputs": [],
   "source": [
    "2 < 5 and 5 < 5.0 or 5 < 1024"
   ]
  },
  {
   "cell_type": "markdown",
   "metadata": {
    "colab_type": "text",
    "id": "bz1ePYtCXu98"
   },
   "source": [
    "Logical operators in Python are summarized as follows. The order indicates the relative levels of precedence (ordered by descending priority):\n",
    "\n",
    "\n",
    "|Operator|Meaning|\n",
    "|:-- |:-- |\n",
    "|not|True if operand is false (complements the operand)|\n",
    "|and|True if both the operands are true|\n",
    "|or|True if either of the operands is true|\n"
   ]
  },
  {
   "cell_type": "markdown",
   "metadata": {
    "colab_type": "text",
    "id": "MXNENMdEgh03"
   },
   "source": [
    "---\n",
    "# Objects and Their Types\n",
    "\n",
    "Everything in Python is an object, and every object has  an <font color='royalblue'><b>*identity*</b></font>, a <font color='royalblue'><b>*type*</b></font>, and a <font color='royalblue'><b>*value*</b></font>.\n",
    "\n"
   ]
  },
  {
   "cell_type": "markdown",
   "metadata": {
    "colab_type": "text",
    "id": "NWgo3f5KhMKX"
   },
   "source": [
    "The built-in function `type()` returns an object's type:"
   ]
  },
  {
   "cell_type": "code",
   "execution_count": null,
   "metadata": {
    "colab": {},
    "colab_type": "code",
    "id": "ZeDbgQoLhKFw"
   },
   "outputs": [],
   "source": [
    "type(True)"
   ]
  },
  {
   "cell_type": "code",
   "execution_count": null,
   "metadata": {
    "colab": {},
    "colab_type": "code",
    "id": "m7r7GK88hWB_"
   },
   "outputs": [],
   "source": [
    "type(5**2) "
   ]
  },
  {
   "cell_type": "code",
   "execution_count": null,
   "metadata": {
    "colab": {},
    "colab_type": "code",
    "id": "gTz9SEcohd-R"
   },
   "outputs": [],
   "source": [
    "type(2.0)  # with a decimal point"
   ]
  },
  {
   "cell_type": "code",
   "execution_count": null,
   "metadata": {
    "colab": {},
    "colab_type": "code",
    "id": "LgnagsKHhfsR"
   },
   "outputs": [],
   "source": [
    "type(3.8e15)  # with an exponent; base 10"
   ]
  },
  {
   "cell_type": "code",
   "execution_count": null,
   "metadata": {
    "colab": {},
    "colab_type": "code",
    "id": "CuADwWC0Mj3Z"
   },
   "outputs": [],
   "source": [
    "type(15 / 5)"
   ]
  },
  {
   "cell_type": "code",
   "execution_count": null,
   "metadata": {
    "colab": {},
    "colab_type": "code",
    "id": "F2gS5MKFhb1_"
   },
   "outputs": [],
   "source": [
    "type(17 // 3)"
   ]
  },
  {
   "cell_type": "code",
   "execution_count": null,
   "metadata": {
    "colab": {},
    "colab_type": "code",
    "id": "uIz54nHwhmJ3"
   },
   "outputs": [],
   "source": [
    "type(17 % 3)"
   ]
  },
  {
   "cell_type": "markdown",
   "metadata": {
    "colab_type": "text",
    "id": "P3HvJKbIh3qI"
   },
   "source": [
    " ---\n",
    " \n",
    " <img src=\"https://drive.google.com/uc?export=download&id=1Piv8HYgP4AZOFq-l4NE01w03SJHiB9nQ\" width=\"250\"></img>\n",
    " \n",
    " In a computer's memory, everything is **bits**:\n",
    " \n",
    "   <img src=\"https://raw.githubusercontent.com/justinjiajia/img/master/python/code.jpg\" width=\"450\" /> \n",
    "  \n",
    "\n",
    "\n",
    "\n",
    "What a type does is two things:\n",
    "\n",
    "- First, it tells a program, you should be reading these sequences in chunks of, let's say, 32 bits.\n",
    "\n",
    "- Second, it tells what a sequence of bits represent.\n",
    "   - Does `11101000 10110010 10010011` represent \"貓\" or 15250067?\n",
    "\n",
    "\n",
    "\n",
    "<img src=\"https://drive.google.com/uc?id=19zYct-z0nt46oiV3bF-bavFnc-8Pj_yy\" />"
   ]
  },
  {
   "cell_type": "markdown",
   "metadata": {
    "colab_type": "text",
    "id": "5tYQ9MsV_Uxa"
   },
   "source": [
    "\n",
    "\n",
    "\n",
    "An object's  <font color='royalblue'><b>*type*</b></font> determines:\n",
    "\n",
    "- A domain of possible values, e.g.:\n",
    "\n",
    "    - `True` and `False` have type `bool` (short for Boolean values);\n",
    "    - The integer numbers (e.g., `1`, `2`, `-34`, `1024`) have type `int`;\n",
    "    - The numbers with a decimal point or an exponent (or both) (e.g., `2.0`, `3.2`, `.3`, `3.8e15`) have type `float` (short for floating-point numbers).\n",
    "    \n",
    "- A set of possible operations that can be performed on these values (e.g., common integer arithmetic operations are `+`, `-`, `*`, and `/`).\n",
    "\n"
   ]
  },
  {
   "cell_type": "markdown",
   "metadata": {
    "colab_type": "text",
    "id": "6IvwVp2AzfmM"
   },
   "source": [
    "---\n",
    "# Variables\n",
    "\n",
    "One of the most powerful features of a programming language is the ability to manipulate  <font color='royalblue'><b>*variables*</b></font>. In Python, a variable is a name that refers to an object.\n",
    "\n",
    "Using the equal sign (`=`), an assignment statement defines a variable by\n",
    "\n",
    "- Evaluating the expression on the right of `=` to construct a new or retrieve an existing object;\n",
    "\n",
    "- Binding a name on the left of `=` to the object."
   ]
  },
  {
   "cell_type": "code",
   "execution_count": null,
   "metadata": {
    "colab": {},
    "colab_type": "code",
    "id": "SBENOmJyze4n"
   },
   "outputs": [],
   "source": [
    "width = 10"
   ]
  },
  {
   "cell_type": "markdown",
   "metadata": {
    "colab_type": "text",
    "id": "wLgxlKXn_9dn"
   },
   "source": [
    "\n",
    "\n",
    "<img src=\"https://drive.google.com/uc?export=downlad&id=1uheGvQwd1QKA31079wrb00oz69TPBphp\" width=120 />\n",
    "\n",
    "\n",
    "\n"
   ]
  },
  {
   "cell_type": "code",
   "execution_count": null,
   "metadata": {
    "colab": {},
    "colab_type": "code",
    "id": "KFRBAU07z1dP"
   },
   "outputs": [],
   "source": [
    "height = 12"
   ]
  },
  {
   "cell_type": "markdown",
   "metadata": {
    "colab_type": "text",
    "id": "bF5DNkdIATfY"
   },
   "source": [
    "<img src=\"https://drive.google.com/uc?export=download&id=1noQk14W8DapSobdMD42fhPbgNd-v405K\" width=125></img>"
   ]
  },
  {
   "cell_type": "markdown",
   "metadata": {
    "colab_type": "text",
    "id": "AKut-oZOAnJP"
   },
   "source": [
    "When we enter a name in Python, it gives us back the object bound to it:"
   ]
  },
  {
   "cell_type": "code",
   "execution_count": null,
   "metadata": {
    "colab": {},
    "colab_type": "code",
    "id": "kvZtrnqTAmJa"
   },
   "outputs": [],
   "source": [
    "width"
   ]
  },
  {
   "cell_type": "code",
   "execution_count": null,
   "metadata": {
    "colab": {},
    "colab_type": "code",
    "id": "7-cKOPfaAyW7"
   },
   "outputs": [],
   "source": [
    "height"
   ]
  },
  {
   "cell_type": "code",
   "execution_count": null,
   "metadata": {
    "colab": {},
    "colab_type": "code",
    "id": "MjR9TY7XA3cn"
   },
   "outputs": [],
   "source": [
    "area = width * height"
   ]
  },
  {
   "cell_type": "markdown",
   "metadata": {
    "colab_type": "text",
    "id": "tlLM4RJLBC9g"
   },
   "source": [
    "<img src=\"https://drive.google.com/uc?export=download&id=1dVjPAGUcdzucr4NvTkYjgQThUallxHDA\" width=300></img>"
   ]
  },
  {
   "cell_type": "code",
   "execution_count": null,
   "metadata": {
    "colab": {},
    "colab_type": "code",
    "id": "X2j-k9u4BUVd"
   },
   "outputs": [],
   "source": [
    "area"
   ]
  },
  {
   "cell_type": "code",
   "execution_count": null,
   "metadata": {
    "colab": {},
    "colab_type": "code",
    "id": "QikJF5GOBe99"
   },
   "outputs": [],
   "source": [
    "width = width + 5 "
   ]
  },
  {
   "cell_type": "markdown",
   "metadata": {
    "colab_type": "text",
    "id": "irIEx66tBiM5"
   },
   "source": [
    "<img src=\"https://drive.google.com/uc?export=download&id=1P52qb9mI3ZYKExxKmqmmohINoIg6E80L\" width=185></img>"
   ]
  },
  {
   "cell_type": "code",
   "execution_count": null,
   "metadata": {
    "colab": {},
    "colab_type": "code",
    "id": "h6MRm9TPBhZh"
   },
   "outputs": [],
   "source": [
    "width"
   ]
  },
  {
   "cell_type": "markdown",
   "metadata": {
    "colab_type": "text",
    "id": "On_EWQlKB8iD"
   },
   "source": [
    "---\n",
    "\n",
    "## Compound/Augmented Assignment Operators\n",
    "\n",
    "`width = width + 5` examplifies a very common operation. Python provides a shorthand operator, `+=`, to express it more cleanly in \n"
   ]
  },
  {
   "cell_type": "code",
   "execution_count": null,
   "metadata": {
    "colab": {},
    "colab_type": "code",
    "id": "4L5qnWhITmeO"
   },
   "outputs": [],
   "source": [
    "width += 5\n",
    "width"
   ]
  },
  {
   "cell_type": "markdown",
   "metadata": {
    "colab_type": "text",
    "id": "0-4_9z7MTpob"
   },
   "source": [
    "Similar operators (<font color='royalblue'><b>*compound/augmented assignment operators*</b></font>) include `-=`, `*=`,  `%=`, and so on:"
   ]
  },
  {
   "cell_type": "code",
   "execution_count": null,
   "metadata": {
    "colab": {},
    "colab_type": "code",
    "id": "gOXuHqraT8L1"
   },
   "outputs": [],
   "source": [
    "width /= 5; width"
   ]
  },
  {
   "cell_type": "markdown",
   "metadata": {
    "colab_type": "text",
    "id": "cbUTtUiiCrMD"
   },
   "source": [
    "Multiple names can be bound to the same object:"
   ]
  },
  {
   "cell_type": "code",
   "execution_count": null,
   "metadata": {
    "colab": {},
    "colab_type": "code",
    "id": "iygcsJHUBrD1"
   },
   "outputs": [],
   "source": [
    "i = 5; j = i"
   ]
  },
  {
   "cell_type": "markdown",
   "metadata": {
    "colab_type": "text",
    "id": "mwLhoijQ8c0e"
   },
   "source": [
    "\n",
    "<img src=\"https://drive.google.com/uc?export=download&id=1p05AgnyGy0PpSEK1wOC62lwC-QVzOq6l\" width=\"100\"/></img>"
   ]
  },
  {
   "cell_type": "markdown",
   "metadata": {
    "colab_type": "text",
    "id": "Qslo51uDECLy"
   },
   "source": [
    "To see this, we can use the `id()` function to return an integer representing the identity of the object:"
   ]
  },
  {
   "cell_type": "code",
   "execution_count": null,
   "metadata": {
    "colab": {},
    "colab_type": "code",
    "id": "5-wYB2j8EBoC"
   },
   "outputs": [],
   "source": [
    "id(i)"
   ]
  },
  {
   "cell_type": "code",
   "execution_count": null,
   "metadata": {
    "colab": {},
    "colab_type": "code",
    "id": "MYyHOzaAEGMb"
   },
   "outputs": [],
   "source": [
    "id(j)"
   ]
  },
  {
   "cell_type": "markdown",
   "metadata": {
    "colab_type": "text",
    "id": "O7ONE_IvCyxZ"
   },
   "source": [
    "**<font color='steelblue' > Question </font>**: What is the value of `j` after evaluating `i += 7`?"
   ]
  },
  {
   "cell_type": "code",
   "execution_count": null,
   "metadata": {
    "colab": {},
    "colab_type": "code",
    "id": "3QNd-HLeDUDm"
   },
   "outputs": [],
   "source": []
  },
  {
   "cell_type": "code",
   "execution_count": null,
   "metadata": {
    "colab": {},
    "colab_type": "code",
    "id": "LJaUieW0DUbB"
   },
   "outputs": [],
   "source": []
  },
  {
   "cell_type": "markdown",
   "metadata": {
    "colab_type": "text",
    "id": "p3cs5dftIv8n"
   },
   "source": [
    "---\n",
    "\n",
    "## Naming Conventions\n",
    "\n",
    "Python has some rules to follow when forming a variable name:\n",
    "\n",
    "- Can contain both letters (uppercase or lowercase), digits (but cannot start with a number), and the underscore character (_).\n",
    "\n",
    "- Python's keywords cannot be used as variable names, because the Python interpreter uses them to recognize the structure of the program."
   ]
  },
  {
   "cell_type": "code",
   "execution_count": null,
   "metadata": {
    "colab": {},
    "colab_type": "code",
    "id": "_tnr7Se7IzzC"
   },
   "outputs": [],
   "source": [
    "import keyword"
   ]
  },
  {
   "cell_type": "code",
   "execution_count": null,
   "metadata": {
    "colab": {},
    "colab_type": "code",
    "id": "HVb1xRwxI17x"
   },
   "outputs": [],
   "source": [
    "keyword.kwlist"
   ]
  },
  {
   "cell_type": "markdown",
   "metadata": {
    "colab_type": "text",
    "id": "i4CtL_zIJBGl"
   },
   "source": [
    "A good coding style requires a variable name to be  ***descriptive***  and  ***mnemonic***."
   ]
  },
  {
   "cell_type": "code",
   "execution_count": 2,
   "metadata": {},
   "outputs": [],
   "source": [
    "course_code = \"ISOM3400\"\n",
    "course_credit = 3              \n",
    "is_elective = True            "
   ]
  },
  {
   "cell_type": "markdown",
   "metadata": {
    "colab_type": "text",
    "id": "M9I_J0oShEYH"
   },
   "source": [
    "----\n",
    "# Functions"
   ]
  },
  {
   "cell_type": "markdown",
   "metadata": {
    "colab_type": "text",
    "id": "Xro--X1T3eTI"
   },
   "source": [
    "> Programming = Data + Function"
   ]
  },
  {
   "cell_type": "markdown",
   "metadata": {
    "colab_type": "text",
    "id": "u6HfueVZjpKJ"
   },
   "source": [
    "A function is a machine which turns input objects (called the arguments) into an output object (called the return value), according to a definite rule (defined somewhere for this function).\n",
    "\n"
   ]
  },
  {
   "cell_type": "markdown",
   "metadata": {
    "colab_type": "text",
    "id": "JrxKY81ZKC29"
   },
   "source": [
    "\n",
    "\n",
    "We can  draw an analogy of a programming function to a mathematical function. \n",
    "\n",
    "\n",
    "\n",
    "Consider $f(a,b)=a^2+b^2$:\n",
    "\n",
    "- A function definition usually associates a name (i.e., $f$) with a sequence of statements that performs a computation (i.e., $a^2+b^2$).\n",
    "\n",
    "- Once a function is defined, we can \"call\" it by name with necessary inputs provided (i.e., $f(3,5)$).\n",
    "\n",
    "- When a function is called or invoked, Python goes back and looks up its definition, executes the code inside the function definition (i.e., $3^2+5^2$), and return an output (i.e., $34$)."
   ]
  },
  {
   "cell_type": "markdown",
   "metadata": {
    "colab_type": "text",
    "id": "MZQ6tHCEkisI"
   },
   "source": [
    "Python provides a number of [built-in functions](https://docs.python.org/3/library/functions.html) that we can use without needs to provide the function definition as well as import an external module:"
   ]
  },
  {
   "cell_type": "code",
   "execution_count": null,
   "metadata": {
    "colab": {},
    "colab_type": "code",
    "id": "cjNAbpeEkh5T"
   },
   "outputs": [],
   "source": [
    "abs(-5.11)"
   ]
  },
  {
   "cell_type": "code",
   "execution_count": null,
   "metadata": {
    "colab": {},
    "colab_type": "code",
    "id": "0Z041JWGknaS"
   },
   "outputs": [],
   "source": [
    "round(4.55892, 2)"
   ]
  },
  {
   "cell_type": "code",
   "execution_count": null,
   "metadata": {
    "colab": {},
    "colab_type": "code",
    "id": "CSakjCYCkpQw"
   },
   "outputs": [],
   "source": [
    "max(1, 2, 3, 4, 5)"
   ]
  },
  {
   "cell_type": "code",
   "execution_count": null,
   "metadata": {
    "colab": {},
    "colab_type": "code",
    "id": "4DKmmVGZkrGr"
   },
   "outputs": [],
   "source": [
    "min(1, 2, 3, 4, 5)"
   ]
  },
  {
   "cell_type": "code",
   "execution_count": null,
   "metadata": {
    "colab": {},
    "colab_type": "code",
    "id": "f5T9vT-8ks6A"
   },
   "outputs": [],
   "source": [
    "pow(2, 3)"
   ]
  },
  {
   "cell_type": "code",
   "execution_count": null,
   "metadata": {
    "colab": {},
    "colab_type": "code",
    "id": "sDxEWDKoku3I"
   },
   "outputs": [],
   "source": [
    "divmod(9, 2)"
   ]
  },
  {
   "cell_type": "markdown",
   "metadata": {
    "colab_type": "text",
    "id": "V2Rzriz9lTba"
   },
   "source": [
    "Typing a function's name without `()` echos \"the value\" or more precisely the <font color=\"royalblue\">**string representation**</font> of the function:"
   ]
  },
  {
   "cell_type": "code",
   "execution_count": null,
   "metadata": {
    "colab": {},
    "colab_type": "code",
    "id": "qBN9YyLJlT7p"
   },
   "outputs": [],
   "source": [
    "max"
   ]
  },
  {
   "cell_type": "markdown",
   "metadata": {
    "colab_type": "text",
    "id": "MGbmYUX6k6cy"
   },
   "source": [
    "If the usage of a function is unknown, we can call `help()` to print help for the function:"
   ]
  },
  {
   "cell_type": "code",
   "execution_count": null,
   "metadata": {
    "colab": {
     "base_uri": "https://localhost:8080/",
     "height": 202
    },
    "colab_type": "code",
    "id": "ToI27i89k53w",
    "outputId": "518d7698-0ada-48d0-db1b-843e5d114569"
   },
   "outputs": [
    {
     "name": "stdout",
     "output_type": "stream",
     "text": [
      "Help on built-in function max in module builtins:\n",
      "\n",
      "max(...)\n",
      "    max(iterable, *[, default=obj, key=func]) -> value\n",
      "    max(arg1, arg2, *args, *[, key=func]) -> value\n",
      "    \n",
      "    With a single iterable argument, return its biggest item. The\n",
      "    default keyword-only argument specifies an object to return if\n",
      "    the provided iterable is empty.\n",
      "    With two or more arguments, return the largest argument.\n",
      "\n"
     ]
    }
   ],
   "source": [
    "help(max)"
   ]
  },
  {
   "cell_type": "markdown",
   "metadata": {
    "colab_type": "text",
    "id": "QNvvdDDqiwVD"
   },
   "source": [
    "---\n",
    "# Strings\n",
    "\n",
    "Besides numbers and Booleans, Python can also manipulate strings, which are sequences of characters.\n",
    "\n",
    "Strings are constructed by enclosing string literals in single quotes (`'`) or double quotes (`\"`):"
   ]
  },
  {
   "cell_type": "code",
   "execution_count": null,
   "metadata": {
    "colab": {},
    "colab_type": "code",
    "id": "V6Ti7K6MjIgz"
   },
   "outputs": [],
   "source": [
    "'Welcome to Python Programming'"
   ]
  },
  {
   "cell_type": "code",
   "execution_count": null,
   "metadata": {
    "colab": {},
    "colab_type": "code",
    "id": "AfnfgbhzjL-G"
   },
   "outputs": [],
   "source": [
    "\"Welcome to Python Programming\""
   ]
  },
  {
   "cell_type": "code",
   "execution_count": null,
   "metadata": {
    "colab": {},
    "colab_type": "code",
    "id": "Gu6e0xteJmFV"
   },
   "outputs": [],
   "source": [
    "\"Welcome to Python Programming\" is 'Welcome to Python Programming'"
   ]
  },
  {
   "cell_type": "markdown",
   "metadata": {
    "colab_type": "text",
    "id": "F1eHBZnWjbw-"
   },
   "source": [
    " Single quoted strings can contain double quotes, and vice versa"
   ]
  },
  {
   "cell_type": "code",
   "execution_count": null,
   "metadata": {
    "colab": {},
    "colab_type": "code",
    "id": "Ba1AIO3ijbBV"
   },
   "outputs": [],
   "source": [
    "\"Programming isn't hard.\""
   ]
  },
  {
   "cell_type": "code",
   "execution_count": null,
   "metadata": {
    "colab": {},
    "colab_type": "code",
    "id": "9H-jsam6jx62"
   },
   "outputs": [],
   "source": [
    "'\"Yes\", they said.'"
   ]
  },
  {
   "cell_type": "markdown",
   "metadata": {
    "colab_type": "text",
    "id": "c6pInT4pjLMw"
   },
   "source": [
    "What if we have to use single (double) quotes literally in a single(double)-quoted string? Escape their special behaviors with backslashes (`\\`):"
   ]
  },
  {
   "cell_type": "code",
   "execution_count": null,
   "metadata": {
    "colab": {},
    "colab_type": "code",
    "id": "-AwV8aCilKaa"
   },
   "outputs": [],
   "source": [
    "'\"No, it isn\\'t\", they said' "
   ]
  },
  {
   "cell_type": "markdown",
   "metadata": {
    "colab_type": "text",
    "id": "LpMpaBA_oE7M"
   },
   "source": [
    "When we press the <kbd class=\"\">Enter</kbd> key, a <b>*newline character*</b> (`\\n`) is generated to signify the end of a line. Typically, Python uses newlines to delineate statements. \n",
    "\n",
    "We can make a string literal span multiple lines by including a backslash character `\\` at the end of each line to escape the newline (`\\n`):\n"
   ]
  },
  {
   "cell_type": "code",
   "execution_count": null,
   "metadata": {
    "colab": {},
    "colab_type": "code",
    "id": "J4GTuWvnJmFf"
   },
   "outputs": [],
   "source": [
    "'Python Programming \\\n",
    "for Business Analytics'"
   ]
  },
  {
   "cell_type": "markdown",
   "metadata": {
    "colab_type": "text",
    "id": "j5cdIus6oRVt"
   },
   "source": [
    "String literals inside triple quotes, `\"\"\"` or `'''`, can span multiple lines of text. Newlines (`\\n`) are automatically included in the string literal."
   ]
  },
  {
   "cell_type": "code",
   "execution_count": null,
   "metadata": {
    "colab": {},
    "colab_type": "code",
    "id": "kFcOYKooJmFh"
   },
   "outputs": [],
   "source": [
    "'''Python Programming\n",
    "for Business Analytics'''"
   ]
  },
  {
   "cell_type": "markdown",
   "metadata": {
    "colab_type": "text",
    "id": "F0xQ03GJozSo"
   },
   "source": [
    "`print()` is used to display the actual string represented by a string literal:"
   ]
  },
  {
   "cell_type": "code",
   "execution_count": null,
   "metadata": {
    "colab": {},
    "colab_type": "code",
    "id": "IbVBCtkaorVQ"
   },
   "outputs": [],
   "source": [
    "print('ISOM3400\\nPython Programming\\nfor Business Analytics')"
   ]
  },
  {
   "cell_type": "markdown",
   "metadata": {
    "colab_type": "text",
    "id": "3-m8yOGEkIrs"
   },
   "source": [
    "## Escape Sequences\n",
    "\n",
    "An  <font color='royalblue'><b>*escape sequence*</b></font> (of characters) can be used to denote a special character which cannot be typed easily on a keyboard or one which has been reserved for other purposes.\n",
    "\n",
    "Some common escape sequences include:\n",
    "\n",
    "|Sequence|Meaning|\n",
    "|:-- |:-- |\n",
    "|`\\\\`|literal backslash|\n",
    "|`\\'`|single quote|\n",
    "|`\\\"`|double quote|\n",
    "|`\\t`|tab|\n",
    "|`\\n`|newline|"
   ]
  },
  {
   "cell_type": "markdown",
   "metadata": {
    "colab_type": "text",
    "id": "FEdpi9m0qKLV"
   },
   "source": [
    "**<font color='steelblue' > Question </font>**: How to print the following using escape sequences:\n",
    "\n",
    "`I don't think \"a\" is equal to \"A\" in 'Python'`"
   ]
  },
  {
   "cell_type": "code",
   "execution_count": null,
   "metadata": {
    "colab": {},
    "colab_type": "code",
    "id": "wE0BJQ0hjQH7"
   },
   "outputs": [],
   "source": []
  },
  {
   "cell_type": "markdown",
   "metadata": {
    "colab_type": "text",
    "id": "UXt5nK-HGIZF"
   },
   "source": [
    "## Accepting User Inputs\n",
    "\n",
    "Programs often need to obtain data from the user, usually by way of input from the keyboard. The simplest way to accomplish this in Python is with `input()`.\n",
    "\n",
    "`input(prompt)` prompts for and returns input as a string. We can assign what is returned into a variable, to be used later. "
   ]
  },
  {
   "cell_type": "code",
   "execution_count": null,
   "metadata": {
    "colab": {},
    "colab_type": "code",
    "id": "yuDio_wsgSBv"
   },
   "outputs": [],
   "source": [
    "name = input(\"What is your name?\")\n",
    "age =  input(\"What is your age?\")      \n",
    "gender = input(\"What is your gender?\")"
   ]
  },
  {
   "cell_type": "code",
   "execution_count": null,
   "metadata": {
    "colab": {},
    "colab_type": "code",
    "id": "VfyTPxWTjPvx"
   },
   "outputs": [],
   "source": [
    "name"
   ]
  },
  {
   "cell_type": "code",
   "execution_count": null,
   "metadata": {
    "colab": {},
    "colab_type": "code",
    "id": "5PNzVwpKjYRZ"
   },
   "outputs": [],
   "source": [
    "type(name)"
   ]
  },
  {
   "cell_type": "markdown",
   "metadata": {
    "colab_type": "text",
    "id": "NP3gQO8siTNR"
   },
   "source": [
    "To display the contents of these variables, pass them as a comma-separated list of argument to `print()`. By default, `print()` separates the content of each argument by a single space and appends a newline to the end of the output:"
   ]
  },
  {
   "cell_type": "code",
   "execution_count": null,
   "metadata": {
    "colab": {},
    "colab_type": "code",
    "id": "QK2VTWAagSB0"
   },
   "outputs": [],
   "source": [
    "print(name, 'is', gender, 'at', age, 'years old.')"
   ]
  },
  {
   "cell_type": "code",
   "execution_count": null,
   "metadata": {
    "colab": {
     "base_uri": "https://localhost:8080/",
     "height": 218
    },
    "colab_type": "code",
    "id": "i664F9yR4XG1",
    "outputId": "b4e080e7-a61c-4a1a-86c2-e96f31c73bbe"
   },
   "outputs": [
    {
     "name": "stdout",
     "output_type": "stream",
     "text": [
      "Help on built-in function print in module builtins:\n",
      "\n",
      "print(...)\n",
      "    print(value, ..., sep=' ', end='\\n', file=sys.stdout, flush=False)\n",
      "    \n",
      "    Prints the values to a stream, or to sys.stdout by default.\n",
      "    Optional keyword arguments:\n",
      "    file:  a file-like object (stream); defaults to the current sys.stdout.\n",
      "    sep:   string inserted between values, default a space.\n",
      "    end:   string appended after the last value, default a newline.\n",
      "    flush: whether to forcibly flush the stream.\n",
      "\n"
     ]
    }
   ],
   "source": [
    "help(print)"
   ]
  },
  {
   "cell_type": "code",
   "execution_count": null,
   "metadata": {
    "colab": {},
    "colab_type": "code",
    "id": "MXI-_H5V4abh"
   },
   "outputs": [],
   "source": [
    "print(name, 'is', gender, sep='-', end=' ')\n",
    "print('at', age, 'years old.', sep='-')"
   ]
  },
  {
   "cell_type": "markdown",
   "metadata": {
    "colab_type": "text",
    "id": "MzJ4RGl1lMwa"
   },
   "source": [
    "## String Operations\n",
    "\n",
    "In Python, strings have type `str`, which is a special kind of <font color=\"royalblue\"><b>*sequence types*</b></font> (later). String objects support several operations and built-in functions.\n",
    "\n",
    "- The operators `+` and `*` works with strings:"
   ]
  },
  {
   "cell_type": "code",
   "execution_count": null,
   "metadata": {
    "colab": {},
    "colab_type": "code",
    "id": "v8RTOGqalwQW"
   },
   "outputs": [],
   "source": [
    "course = 'Python Programming'"
   ]
  },
  {
   "cell_type": "code",
   "execution_count": null,
   "metadata": {
    "colab": {},
    "colab_type": "code",
    "id": "BKB0xDUultd2"
   },
   "outputs": [],
   "source": [
    "course + ' for Business Analtytics'"
   ]
  },
  {
   "cell_type": "code",
   "execution_count": null,
   "metadata": {
    "colab": {},
    "colab_type": "code",
    "id": "O80E3g01l0Pa"
   },
   "outputs": [],
   "source": [
    "course * 2"
   ]
  },
  {
   "cell_type": "markdown",
   "metadata": {
    "colab_type": "text",
    "id": "pUWnWqHPl3ll"
   },
   "source": [
    "- `-` and `/`, however, are incompatible with the `str` type:"
   ]
  },
  {
   "cell_type": "code",
   "execution_count": null,
   "metadata": {
    "colab": {
     "base_uri": "https://localhost:8080/",
     "height": 162
    },
    "colab_type": "code",
    "id": "q_e3MmS8l3Bb",
    "outputId": "67b19f52-dc81-4a06-eaee-5a872feb075d"
   },
   "outputs": [
    {
     "ename": "TypeError",
     "evalue": "ignored",
     "output_type": "error",
     "traceback": [
      "\u001b[0;31m---------------------------------------------------------------------------\u001b[0m",
      "\u001b[0;31mTypeError\u001b[0m                                 Traceback (most recent call last)",
      "\u001b[0;32m<ipython-input-9-3b8938fac0d1>\u001b[0m in \u001b[0;36m<module>\u001b[0;34m()\u001b[0m\n\u001b[0;32m----> 1\u001b[0;31m \u001b[0mcourse\u001b[0m \u001b[0;34m-\u001b[0m \u001b[0;36m2\u001b[0m\u001b[0;34m\u001b[0m\u001b[0;34m\u001b[0m\u001b[0m\n\u001b[0m",
      "\u001b[0;31mTypeError\u001b[0m: unsupported operand type(s) for -: 'str' and 'int'"
     ]
    }
   ],
   "source": [
    "course - 2"
   ]
  },
  {
   "cell_type": "code",
   "execution_count": null,
   "metadata": {
    "colab": {
     "base_uri": "https://localhost:8080/",
     "height": 162
    },
    "colab_type": "code",
    "id": "fXm_QmKGmCnj",
    "outputId": "4a7e1b7a-ee06-4a69-8fd2-c83520a7f586"
   },
   "outputs": [
    {
     "ename": "TypeError",
     "evalue": "ignored",
     "output_type": "error",
     "traceback": [
      "\u001b[0;31m---------------------------------------------------------------------------\u001b[0m",
      "\u001b[0;31mTypeError\u001b[0m                                 Traceback (most recent call last)",
      "\u001b[0;32m<ipython-input-10-44ec5a0e38f1>\u001b[0m in \u001b[0;36m<module>\u001b[0;34m()\u001b[0m\n\u001b[0;32m----> 1\u001b[0;31m \u001b[0mcourse\u001b[0m \u001b[0;34m/\u001b[0m \u001b[0;36m2\u001b[0m\u001b[0;34m\u001b[0m\u001b[0;34m\u001b[0m\u001b[0m\n\u001b[0m",
      "\u001b[0;31mTypeError\u001b[0m: unsupported operand type(s) for /: 'str' and 'int'"
     ]
    }
   ],
   "source": [
    "course / 2"
   ]
  },
  {
   "cell_type": "markdown",
   "metadata": {
    "colab_type": "text",
    "id": "Tth7Ic6ymM1y"
   },
   "source": [
    "- The  <font color=\"royalblue\"><b>*membership operators*</b></font> `in` and `not in` take two strings and return True if the first appears as a substring in the second:"
   ]
  },
  {
   "cell_type": "code",
   "execution_count": null,
   "metadata": {
    "colab": {},
    "colab_type": "code",
    "id": "7a2vrvYhmjfl"
   },
   "outputs": [],
   "source": [
    "'nan' in 'banana'"
   ]
  },
  {
   "cell_type": "code",
   "execution_count": null,
   "metadata": {
    "colab": {},
    "colab_type": "code",
    "id": "5Hb9ckxummUb"
   },
   "outputs": [],
   "source": [
    "'p' in 'Python Programming'"
   ]
  },
  {
   "cell_type": "markdown",
   "metadata": {
    "colab_type": "text",
    "id": "T2IBxjwtmx48"
   },
   "source": [
    "\n",
    "-  The comparison operators (e.g., `==`, `>`, `<=`) compare strings ***lexigraphically***, the way in which sequences are ordering  based on the <b>*alphabetical order*</b> of their component characters:\n",
    "\n",
    "   - In alphabetical ordering, digits come before letters and capital letters come before lowercase letters.\n",
    "     - i.e., digits (as characters) < uppercase letters < lowercase letters.\n",
    "   - Compare the leftmost characters first, and generate `True` or `False` if their values differ, or continue until a difference is observed."
   ]
  },
  {
   "cell_type": "code",
   "execution_count": null,
   "metadata": {
    "colab": {},
    "colab_type": "code",
    "id": "E-VLsEzgmvbc"
   },
   "outputs": [],
   "source": [
    "'Python Programming' == 'python programming'"
   ]
  },
  {
   "cell_type": "code",
   "execution_count": null,
   "metadata": {
    "colab": {},
    "colab_type": "code",
    "id": "Up93Axsuo_Pi"
   },
   "outputs": [],
   "source": [
    "'Python Programming' < 'python programming'"
   ]
  },
  {
   "cell_type": "code",
   "execution_count": null,
   "metadata": {
    "colab": {},
    "colab_type": "code",
    "id": "KXD159w4pCht"
   },
   "outputs": [],
   "source": [
    "'python programming' < 'python cookbook'"
   ]
  },
  {
   "cell_type": "code",
   "execution_count": null,
   "metadata": {
    "colab": {},
    "colab_type": "code",
    "id": "chPFfcJKByV_"
   },
   "outputs": [],
   "source": [
    "'9999' < 'A'"
   ]
  },
  {
   "cell_type": "markdown",
   "metadata": {
    "colab_type": "text",
    "id": "MM1HpZt5pIw8"
   },
   "source": [
    "- `len()` returns the number of characters in a string:"
   ]
  },
  {
   "cell_type": "code",
   "execution_count": null,
   "metadata": {
    "colab": {},
    "colab_type": "code",
    "id": "jIagmUnFpNnz"
   },
   "outputs": [],
   "source": [
    "len(course)"
   ]
  },
  {
   "cell_type": "code",
   "execution_count": null,
   "metadata": {
    "colab": {
     "base_uri": "https://localhost:8080/",
     "height": 162
    },
    "colab_type": "code",
    "id": "CfSuSowBpPre",
    "outputId": "e3ef9c4e-e04e-45d2-c4e9-a8925f04ec21"
   },
   "outputs": [
    {
     "ename": "TypeError",
     "evalue": "ignored",
     "output_type": "error",
     "traceback": [
      "\u001b[0;31m---------------------------------------------------------------------------\u001b[0m",
      "\u001b[0;31mTypeError\u001b[0m                                 Traceback (most recent call last)",
      "\u001b[0;32m<ipython-input-13-14e6b72253cd>\u001b[0m in \u001b[0;36m<module>\u001b[0;34m()\u001b[0m\n\u001b[0;32m----> 1\u001b[0;31m \u001b[0mlen\u001b[0m\u001b[0;34m(\u001b[0m\u001b[0;36m1024\u001b[0m\u001b[0;34m)\u001b[0m\u001b[0;34m\u001b[0m\u001b[0;34m\u001b[0m\u001b[0m\n\u001b[0m",
      "\u001b[0;31mTypeError\u001b[0m: object of type 'int' has no len()"
     ]
    }
   ],
   "source": [
    "len(1024)"
   ]
  },
  {
   "cell_type": "markdown",
   "metadata": {
    "colab_type": "text",
    "id": "0DV0Hf6HrG_m"
   },
   "source": [
    "## String Indexing\n",
    "\n",
    "A string is a sequence of characters, and is ***reducible*** to the component characters.\n",
    "\n",
    "The characters in a string are indexed by integers (representing positions in the sequence), and can be individually accessed by using the indexing operator (`[]` that encloses an integer).\n",
    "\n",
    "The index set contains the integers 0, 1, …, and `len()-1` (<font color=\"royalblue\"><b>*0-based indexing*</b></font>).\n"
   ]
  },
  {
   "cell_type": "markdown",
   "metadata": {
    "colab_type": "text",
    "id": "t1sYWRLgA8VZ"
   },
   "source": [
    "<img src=\"https://drive.google.com/uc?export=download&id=1EHN00tdfvArl7ci6ulNN2KS9_Or3yzWa\" width=600></img>"
   ]
  },
  {
   "cell_type": "code",
   "execution_count": null,
   "metadata": {
    "colab": {},
    "colab_type": "code",
    "id": "3SnBC8aDCny5"
   },
   "outputs": [],
   "source": [
    "course[2]"
   ]
  },
  {
   "cell_type": "markdown",
   "metadata": {
    "colab_type": "text",
    "id": "diwyoAAKCxL6"
   },
   "source": [
    "Strings can also be  <font color=\"salmon\">***back indexed***</font> using negative integers. Negative indexing counts backward from the end of a sequence and starts from `-1`.\n",
    "- i.e., `-1` refers to the last character, `-2` the second-to-last character, and so on"
   ]
  },
  {
   "cell_type": "code",
   "execution_count": null,
   "metadata": {},
   "outputs": [],
   "source": [
    "course[-3*6]"
   ]
  },
  {
   "cell_type": "markdown",
   "metadata": {
    "colab_type": "text",
    "id": "ndtCWb1sQMGI"
   },
   "source": [
    "Out of range indexing will incur an error:"
   ]
  },
  {
   "cell_type": "code",
   "execution_count": null,
   "metadata": {
    "colab": {
     "base_uri": "https://localhost:8080/",
     "height": 162
    },
    "colab_type": "code",
    "id": "lTu2bU9QQb-n",
    "outputId": "1eceec60-8d9b-4703-d6a2-dfd9fdef5bd8"
   },
   "outputs": [
    {
     "ename": "IndexError",
     "evalue": "ignored",
     "output_type": "error",
     "traceback": [
      "\u001b[0;31m---------------------------------------------------------------------------\u001b[0m",
      "\u001b[0;31mIndexError\u001b[0m                                Traceback (most recent call last)",
      "\u001b[0;32m<ipython-input-23-dbd31bb88304>\u001b[0m in \u001b[0;36m<module>\u001b[0;34m()\u001b[0m\n\u001b[0;32m----> 1\u001b[0;31m \u001b[0mcourse\u001b[0m\u001b[0;34m[\u001b[0m\u001b[0;36m18\u001b[0m\u001b[0;34m]\u001b[0m\u001b[0;34m\u001b[0m\u001b[0;34m\u001b[0m\u001b[0m\n\u001b[0m",
      "\u001b[0;31mIndexError\u001b[0m: string index out of range"
     ]
    }
   ],
   "source": [
    "course[18]"
   ]
  },
  {
   "cell_type": "markdown",
   "metadata": {
    "colab_type": "text",
    "id": "5fE62rTfO9Jt"
   },
   "source": [
    "---\n",
    "\n",
    "## String Slicing\n",
    "\n",
    "Slicing is an operation that extracts a segment of a string (called a slice).\n",
    "\n",
    "The slicing operator `[i:j]` returns the part of the sequence from the element indexed by `i` to the element indexed by `j`, including the first but excluding the last:"
   ]
  },
  {
   "cell_type": "code",
   "execution_count": null,
   "metadata": {
    "colab": {},
    "colab_type": "code",
    "id": "LLMrEmXCRLI8"
   },
   "outputs": [],
   "source": [
    "course[0:6]"
   ]
  },
  {
   "cell_type": "code",
   "execution_count": null,
   "metadata": {
    "colab": {},
    "colab_type": "code",
    "id": "47o8_yyjUca6"
   },
   "outputs": [],
   "source": [
    "course[-18:-12]"
   ]
  },
  {
   "cell_type": "code",
   "execution_count": null,
   "metadata": {
    "colab": {},
    "colab_type": "code",
    "id": "meEP5G3xRjj0"
   },
   "outputs": [],
   "source": [
    "course[0:-12]"
   ]
  },
  {
   "cell_type": "code",
   "execution_count": null,
   "metadata": {
    "colab": {},
    "colab_type": "code",
    "id": "MC7HeYP6RNPa"
   },
   "outputs": [],
   "source": [
    "course[-11:18] "
   ]
  },
  {
   "cell_type": "markdown",
   "metadata": {
    "colab_type": "text",
    "id": "SFsh-4VFV0Rj"
   },
   "source": [
    "If the 1st argument is omitted, the slice starts at the beginning of the string; if the 2nd argument is omitted, the slice goes to the end of the string:"
   ]
  },
  {
   "cell_type": "code",
   "execution_count": null,
   "metadata": {
    "colab": {},
    "colab_type": "code",
    "id": "K2IzqPlNV5KT"
   },
   "outputs": [],
   "source": [
    "course[-11:]"
   ]
  },
  {
   "cell_type": "code",
   "execution_count": null,
   "metadata": {
    "colab": {},
    "colab_type": "code",
    "id": "1ZKhrUPjV33Q"
   },
   "outputs": [],
   "source": [
    "course[:-12]"
   ]
  },
  {
   "cell_type": "markdown",
   "metadata": {
    "colab_type": "text",
    "id": "moEM01K1WHCE"
   },
   "source": [
    "---\n",
    "\n",
    "## Optional: Extended Slicing\n",
    "\n",
    "Strings support extended slicing with a third step argument supplied in the operator `[]` as in `[i:j:k]`. \n",
    "\n",
    "\n",
    "`[i:j:k]` first extracts the element indexed by $i$,  and counts either forward or backward (depending on the sign of $k$) with step size $|k|$ to find the second element. This search repeats until it goes beyond the element indexed by $j-1$."
   ]
  },
  {
   "cell_type": "code",
   "execution_count": null,
   "metadata": {
    "colab": {},
    "colab_type": "code",
    "id": "AKoFqx4UWWVS"
   },
   "outputs": [],
   "source": [
    "course[-11:18:2] "
   ]
  },
  {
   "cell_type": "code",
   "execution_count": null,
   "metadata": {
    "colab": {},
    "colab_type": "code",
    "id": "GDcbwosBW-Cr"
   },
   "outputs": [],
   "source": [
    "# Because the step size is negative, \n",
    "# the character referred to by the 1st argument should succeed that referred to by the 2nd \n",
    "course[17:0:-1] "
   ]
  },
  {
   "cell_type": "code",
   "execution_count": null,
   "metadata": {
    "colab": {},
    "colab_type": "code",
    "id": "iwX9D3htd01N"
   },
   "outputs": [],
   "source": [
    "course[-13::-2]"
   ]
  },
  {
   "cell_type": "code",
   "execution_count": null,
   "metadata": {
    "colab": {},
    "colab_type": "code",
    "id": "8xiWyJNWfIpN"
   },
   "outputs": [],
   "source": [
    "course[::-3]"
   ]
  },
  {
   "cell_type": "markdown",
   "metadata": {
    "colab_type": "text",
    "id": "uvVMv0Mwe3sc"
   },
   "source": [
    "---\n",
    "\n",
    "## Strings are Immutable\n",
    "\n",
    "Strings in Python is  <font color=\"salmon\">***immutable***</font>. That is, the value of string objects cannot change:"
   ]
  },
  {
   "cell_type": "code",
   "execution_count": null,
   "metadata": {
    "colab": {
     "base_uri": "https://localhost:8080/",
     "height": 162
    },
    "colab_type": "code",
    "id": "BD3Abf4xhtM4",
    "outputId": "386afd6c-a60e-452a-d5d9-a38032e29c24"
   },
   "outputs": [
    {
     "ename": "TypeError",
     "evalue": "ignored",
     "output_type": "error",
     "traceback": [
      "\u001b[0;31m---------------------------------------------------------------------------\u001b[0m",
      "\u001b[0;31mTypeError\u001b[0m                                 Traceback (most recent call last)",
      "\u001b[0;32m<ipython-input-8-c18cc7006df3>\u001b[0m in \u001b[0;36m<module>\u001b[0;34m()\u001b[0m\n\u001b[0;32m----> 1\u001b[0;31m \u001b[0mcourse\u001b[0m\u001b[0;34m[\u001b[0m\u001b[0;36m7\u001b[0m\u001b[0;34m]\u001b[0m \u001b[0;34m=\u001b[0m \u001b[0;34m'p'\u001b[0m  \u001b[0;31m# Modifying characters isn't allowed.\u001b[0m\u001b[0;34m\u001b[0m\u001b[0;34m\u001b[0m\u001b[0m\n\u001b[0m",
      "\u001b[0;31mTypeError\u001b[0m: 'str' object does not support item assignment"
     ]
    }
   ],
   "source": [
    "course[7] = 'p'  # Modifying characters isn't allowed."
   ]
  },
  {
   "cell_type": "markdown",
   "metadata": {
    "colab_type": "text",
    "id": "Rj09Me6XhvyW"
   },
   "source": [
    "However, this does not mean that we can't change the value of a variable (more precisely, the object that a name refers to). We can assign the variable a new string:"
   ]
  },
  {
   "cell_type": "code",
   "execution_count": null,
   "metadata": {
    "colab": {},
    "colab_type": "code",
    "id": "xuucYPjOh_ZG"
   },
   "outputs": [],
   "source": [
    "course = 'ISOM 3400'"
   ]
  },
  {
   "cell_type": "markdown",
   "metadata": {
    "colab_type": "text",
    "id": "zXE6tyWoh90n"
   },
   "source": [
    "<img src=\"https://drive.google.com/uc?export=download&id=1jh0OdfUOwEy8EUT96aPUfVvmBAG_v5gZ\" width=700></img>\n",
    "\n",
    "An object's <font color=\"royalblue\"><b>*mutability*</b></font> is determined by its type. Numbers and Booleans are also immutable (we will see some mutable data types later)."
   ]
  },
  {
   "cell_type": "markdown",
   "metadata": {
    "colab_type": "text",
    "id": "e7hSEzRM1xBw"
   },
   "source": [
    "## String Formatting\n",
    "\n",
    "\n",
    "`print() ` supports ouput formatting that is rudimentary at best.  In many cases, we'll need more precise control over the appearance of data destined for display. \n",
    "\n",
    "Python provides several ways to format output string data.  "
   ]
  },
  {
   "cell_type": "code",
   "execution_count": null,
   "metadata": {
    "colab": {},
    "colab_type": "code",
    "id": "WhDJ3QT9yqBh"
   },
   "outputs": [],
   "source": [
    "shares = 3.2; stock = 'Apple'; price = 443.05"
   ]
  },
  {
   "cell_type": "code",
   "execution_count": null,
   "metadata": {
    "colab": {},
    "colab_type": "code",
    "id": "WMnTWYah6tME"
   },
   "outputs": [],
   "source": [
    "'purchase %d shares of %s at $ %.0f per share' % (shares, stock, price)"
   ]
  },
  {
   "cell_type": "code",
   "execution_count": null,
   "metadata": {
    "colab": {},
    "colab_type": "code",
    "id": "W2pmGLPW7DRe"
   },
   "outputs": [],
   "source": [
    "'purchase {} shares of {} at $ {:.1f} per share'.format(shares, stock, price)"
   ]
  },
  {
   "cell_type": "markdown",
   "metadata": {
    "colab_type": "text",
    "id": "u0m6hhSg7YU7"
   },
   "source": [
    "### \"Old Style\": The `%` Operator\n",
    "\n",
    "Using `%`, known as the ***interpolation operator***, with a string lets us do simple positional formatting easily. \n",
    "\n",
    "It takes the  <font color=\"salmon\">***conversion specifiers***</font> (starting with `%`) on the left and the values on the right, producing a formatted string:"
   ]
  },
  {
   "cell_type": "markdown",
   "metadata": {
    "colab_type": "text",
    "id": "7xZkTDYU4v-h"
   },
   "source": [
    "<img src=\"https://drive.google.com/uc?export=download&id=1h2heHfSZQ69Xtihh2NaMfQZatLS4Hl1Z\" width=550/>\n",
    "\n",
    "- In addition to representing the string interpolation operation, the `%` character also denotes the conversion specifiers, e.g., `%d`, `%s`, and `%.0f`, and the replacement fields in a format string.\n",
    "- Each value is converted to a string value with the specified format and inserted into the format string in place of the corresponding replacement field (matched by position)."
   ]
  },
  {
   "cell_type": "markdown",
   "metadata": {
    "colab_type": "text",
    "id": "QaC72Tn46WXl"
   },
   "source": [
    "---\n",
    "\n",
    "#### Optional: Conversion Specifiers\n"
   ]
  },
  {
   "cell_type": "markdown",
   "metadata": {
    "colab_type": "text",
    "id": "tLvJZgEE6YKM"
   },
   "source": [
    "A conversion specifier contains 2 (% and a letter specifying conversion type; required) or more (optional) characters (allowing for more fine-grained control over how values are printed) to determine how values are formatted when they’re inserted:\n",
    "\n",
    "The constructs of a conversion specifier is structured as follows:\n",
    "\n",
    "`%[<flags>][<width>][.<precision>]<type>`\n",
    "\n",
    "\n",
    "|Component|Meaning|Possible Values|\n",
    "|:-- |:-- |:--|\n",
    "|`%`|Introduces the conversion specifier|\n",
    "|`<type>`|Indicates the type of conversion to be performed|`d` for decimal integers <br>`f` for floating point numbers <br>`e` for exponential numbers <br> `s` for strings\n",
    "|`.<precision>`|Determines the length and precision of floating point, exponential,  <br>or string outputs|\n",
    "|`<width>`|Specifies the minimum width of the formatted result|\n",
    "|`<flags>`|Indicates one or more flags that exert finer control over formatting|`0` for padding of values<br>`-` for justification of values\n",
    "\n",
    "\n",
    "<br>\n",
    "\n",
    "<div class=\"alert alert-info\">More details on format specifications can be found <a href=\"https://docs.python.org/3/library/stdtypes.html#printf-style-string-formatting\">here</a>.</div>\n",
    "\n"
   ]
  },
  {
   "cell_type": "code",
   "execution_count": null,
   "metadata": {
    "colab": {},
    "colab_type": "code",
    "id": "yfazLbxRC6UU"
   },
   "outputs": [],
   "source": [
    "'purchase %d shares of %s at $ %f per share' % (shares, stock, price)  # The default precision of 'f' is 6."
   ]
  },
  {
   "cell_type": "code",
   "execution_count": null,
   "metadata": {
    "colab": {},
    "colab_type": "code",
    "id": "SD1hR-pSJmHA"
   },
   "outputs": [],
   "source": [
    "'purchase %06d shares of %.3s at $ %.0f per share' % (shares, stock, price)"
   ]
  },
  {
   "cell_type": "code",
   "execution_count": null,
   "metadata": {
    "colab": {},
    "colab_type": "code",
    "id": "43W_wADzJmHC"
   },
   "outputs": [],
   "source": [
    "'purchase %-6d shares of %-10s at $ %.2e per share' % (shares, stock, price)"
   ]
  },
  {
   "cell_type": "markdown",
   "metadata": {
    "colab_type": "text",
    "id": "lK2w-VQABHbZ"
   },
   "source": [
    "To insert a literal `%` character into the output, specify two consecutive `%` characters in the format string:"
   ]
  },
  {
   "cell_type": "code",
   "execution_count": null,
   "metadata": {
    "colab": {},
    "colab_type": "code",
    "id": "QdAMo1B9HHhI"
   },
   "outputs": [],
   "source": [
    "\"%s's stock is trading %.0f%% off of %d-week highs\" % ('Google', 0.1845 * 100, 52.5)"
   ]
  },
  {
   "cell_type": "markdown",
   "metadata": {
    "colab_type": "text",
    "id": "Amq06mGJIxHy"
   },
   "source": [
    "\n",
    "---\n",
    "\n",
    "### \"New Style\": `str.format()`\n",
    "\n",
    "\n",
    " This \"new style\" string formatting gets rid of the `%` operator special syntax and makes the syntax for string formatting more regular. Formatting is now handled by calling `.format()` on a string object.\n",
    " \n",
    "We can do simple positional formatting, just like we could with \"old style\" formatting, with replacement fields denoted by `{}`:"
   ]
  },
  {
   "cell_type": "code",
   "execution_count": null,
   "metadata": {
    "colab": {},
    "colab_type": "code",
    "id": "xeYfahm4Iwdb"
   },
   "outputs": [],
   "source": [
    "'purchase {} shares of {} at $ {} per share'.format(shares, stock, price)"
   ]
  },
  {
   "cell_type": "markdown",
   "metadata": {
    "colab_type": "text",
    "id": "MbhsALN3WJDa"
   },
   "source": [
    "The syntax allows for rearranging the order of display (and interpolating values into multiple places) by referring to the positions of the arguments (base-0 indexing):"
   ]
  },
  {
   "cell_type": "code",
   "execution_count": null,
   "metadata": {
    "colab": {},
    "colab_type": "code",
    "id": "0D1owWVKWIXq"
   },
   "outputs": [],
   "source": [
    "'purchase {2} shares of {0} at $ {1} per share'.format('Google', 203.83, 11.4)"
   ]
  },
  {
   "cell_type": "code",
   "execution_count": null,
   "metadata": {
    "colab": {},
    "colab_type": "code",
    "id": "sa1b5XRZdDmr"
   },
   "outputs": [],
   "source": [
    "'{1}    {0:.1f}    {1}    {0:.0f}'.format(price, stock)"
   ]
  },
  {
   "cell_type": "markdown",
   "metadata": {
    "colab_type": "text",
    "id": "53y_8cFmVY4c"
   },
   "source": [
    "We can also refer to the value substitutions by name and use them in any order:"
   ]
  },
  {
   "cell_type": "code",
   "execution_count": null,
   "metadata": {
    "colab": {},
    "colab_type": "code",
    "id": "_7Gawa7PJOqO"
   },
   "outputs": [],
   "source": [
    "'purchase {shares} shares of {stock} at $ {price} per share'.format(stock='Google', price=203.83, shares=11.4)"
   ]
  },
  {
   "cell_type": "markdown",
   "metadata": {
    "colab_type": "text",
    "id": "lYmP0xZza9xy"
   },
   "source": [
    "---\n",
    "\n",
    "#### Optional: Format Specifications\n",
    "\n",
    "The new style of string formatting also allows us to specify how individual values are presented in the format string. The structure of a format specification is shown as follows:\n",
    "\n",
    "\n",
    "` [[<fill>]<align>][<sign>][#][0][<width>][<grouping_option>][.<precision>][<type>]`\n",
    "\n",
    "```\n",
    "fill            :  <any character>\n",
    "align           :  \"<\" | \">\" | \"=\" | \"^\"\n",
    "sign            :  \"+\" | \"-\" | \" \"\n",
    "width           :  digit+\n",
    "grouping_option :  \"_\" | \",\"\n",
    "precision       :  digit+\n",
    "type            :  \"b\" | \"c\" | \"d\" | \"e\" | \"E\" | \"f\" | \"F\" | \"g\" | \"G\" | \"n\" | \"o\" | \"s\" | \"x\" | \"X\" | \"%\"\n",
    "```\n",
    "\n",
    "\n",
    "A format specficiation is introduced by a colon `:` that optionally follows the name or position of the argument to be assigned to the replacement field:"
   ]
  },
  {
   "cell_type": "code",
   "execution_count": null,
   "metadata": {
    "colab": {},
    "colab_type": "code",
    "id": "syLyVOpLf40K"
   },
   "outputs": [],
   "source": [
    "'purchase {2:.0f} shares of {0:_^12} at $ {1:+} per share'.format('Google', 203.83, 11.4)"
   ]
  },
  {
   "cell_type": "code",
   "execution_count": null,
   "metadata": {
    "colab": {
     "base_uri": "https://localhost:8080/",
     "height": 35
    },
    "colab_type": "code",
    "executionInfo": {
     "elapsed": 682,
     "status": "ok",
     "timestamp": 1569400904416,
     "user": {
      "displayName": "Jia Jia",
      "photoUrl": "https://lh3.googleusercontent.com/a-/AAuE7mDmMGOrgBsXPA9SAmja5GwsLrWIE2dOBXsuhOBkQQ=s64",
      "userId": "00290786141877693274"
     },
     "user_tz": -480
    },
    "id": "oJg3VYQvh30g",
    "outputId": "a8611b3c-a71c-49f1-c158-01451cb65b00"
   },
   "outputs": [
    {
     "data": {
      "text/plain": [
       "\"Googleeeeeee's stock is trading 18.4% off of 52-week highs\""
      ]
     },
     "execution_count": 5,
     "metadata": {
      "tags": []
     },
     "output_type": "execute_result"
    }
   ],
   "source": [
    "\"{:e<12}'s stock is trading {:.1%} off of {:.0f}-week highs\".format('Google', 0.1845, 52.5)"
   ]
  },
  {
   "cell_type": "markdown",
   "metadata": {
    "colab_type": "text",
    "id": "qmT_lGX9JOH_"
   },
   "source": [
    "<div class=\"alert alert-info\">More details on the new-style string formatting syntax can be found <a href=\"https://docs.python.org/3/library/string.html#format-string-syntax\">here</a>.</div>"
   ]
  },
  {
   "cell_type": "markdown",
   "metadata": {
    "colab_type": "text",
    "id": "-y3szpkbksKJ"
   },
   "source": [
    "The eligible presentation types are dependent on the type of the value to format. Contrary to the old stype of string formatting, there's no conversion from one type to another: "
   ]
  },
  {
   "cell_type": "code",
   "execution_count": null,
   "metadata": {
    "colab": {},
    "colab_type": "code",
    "id": "HaWN1FGPlgcF"
   },
   "outputs": [],
   "source": [
    "\"{:e<12}'s stock is trading {:s} off of {:d}-week highs\".format('Google', 0.1845, 52.5)"
   ]
  },
  {
   "cell_type": "markdown",
   "metadata": {
    "colab_type": "text",
    "id": "j2ss7sSGxdhb"
   },
   "source": [
    "If we want to present a floating point number as an integer,   `int()` should be used to convert the floating point number to an integer before formatting."
   ]
  },
  {
   "cell_type": "markdown",
   "metadata": {
    "colab_type": "text",
    "id": "jqxjuXfZmDAp"
   },
   "source": [
    "---\n",
    "# Type Conversion\n",
    "\n",
    "\n",
    "Built-in functions like `str()`,  `int()`, `bool()`, and `float()` will try to convert anything to their respective types:"
   ]
  },
  {
   "cell_type": "code",
   "execution_count": null,
   "metadata": {
    "colab": {
     "base_uri": "https://localhost:8080/",
     "height": 162
    },
    "colab_type": "code",
    "id": "Qo02se6s4HpG",
    "outputId": "93daa00d-af8e-48b0-a1d7-2434efa90dbc"
   },
   "outputs": [
    {
     "ename": "TypeError",
     "evalue": "ignored",
     "output_type": "error",
     "traceback": [
      "\u001b[0;31m---------------------------------------------------------------------------\u001b[0m",
      "\u001b[0;31mTypeError\u001b[0m                                 Traceback (most recent call last)",
      "\u001b[0;32m<ipython-input-65-92e19d165eda>\u001b[0m in \u001b[0;36m<module>\u001b[0;34m()\u001b[0m\n\u001b[0;32m----> 1\u001b[0;31m \u001b[0;36m3\u001b[0m \u001b[0;34m+\u001b[0m \u001b[0;34m'0.4'\u001b[0m  \u001b[0;31m# add or concatenate?\u001b[0m\u001b[0;34m\u001b[0m\u001b[0;34m\u001b[0m\u001b[0m\n\u001b[0m",
      "\u001b[0;31mTypeError\u001b[0m: unsupported operand type(s) for +: 'int' and 'str'"
     ]
    }
   ],
   "source": [
    "3 + '0.4'  # add or concatenate? "
   ]
  },
  {
   "cell_type": "code",
   "execution_count": null,
   "metadata": {
    "colab": {},
    "colab_type": "code",
    "id": "nBtWRCxK3hUQ"
   },
   "outputs": [],
   "source": [
    "int(\"3\") + 4               # Now the ambiguity is cleared up"
   ]
  },
  {
   "cell_type": "code",
   "execution_count": null,
   "metadata": {
    "colab": {},
    "colab_type": "code",
    "id": "e0nSEUwe3jId"
   },
   "outputs": [],
   "source": [
    "'3.' + str(4)"
   ]
  },
  {
   "cell_type": "code",
   "execution_count": null,
   "metadata": {
    "colab": {},
    "colab_type": "code",
    "id": "o4yuMTQj3rlD"
   },
   "outputs": [],
   "source": [
    "float('3.%d' % 4)"
   ]
  },
  {
   "cell_type": "code",
   "execution_count": null,
   "metadata": {
    "colab": {},
    "colab_type": "code",
    "id": "2b4YlOk43tm9"
   },
   "outputs": [],
   "source": [
    "int(float(\"3.4\"))"
   ]
  },
  {
   "cell_type": "code",
   "execution_count": null,
   "metadata": {
    "colab": {},
    "colab_type": "code",
    "id": "rkL5i1893u-7"
   },
   "outputs": [],
   "source": [
    "bool(0)"
   ]
  },
  {
   "cell_type": "code",
   "execution_count": null,
   "metadata": {
    "colab": {},
    "colab_type": "code",
    "id": "N08Txf-_4CiT"
   },
   "outputs": [],
   "source": [
    "bool(3.4)"
   ]
  },
  {
   "cell_type": "code",
   "execution_count": null,
   "metadata": {
    "colab": {},
    "colab_type": "code",
    "id": "OseDYKl73w9j"
   },
   "outputs": [],
   "source": [
    "bool(\"\")                   # An empty string is falsy"
   ]
  },
  {
   "cell_type": "code",
   "execution_count": null,
   "metadata": {
    "colab": {},
    "colab_type": "code",
    "id": "E0xNGUkS3-N8"
   },
   "outputs": [],
   "source": [
    "bool(\"False\")              # A non-empty string counts as True"
   ]
  },
  {
   "cell_type": "code",
   "execution_count": null,
   "metadata": {
    "colab": {
     "base_uri": "https://localhost:8080/",
     "height": 162
    },
    "colab_type": "code",
    "id": "Xb3oDNHE4CF3",
    "outputId": "14a49821-744a-4fd5-8960-5083d1fde781"
   },
   "outputs": [
    {
     "ename": "ValueError",
     "evalue": "ignored",
     "output_type": "error",
     "traceback": [
      "\u001b[0;31m---------------------------------------------------------------------------\u001b[0m",
      "\u001b[0;31mValueError\u001b[0m                                Traceback (most recent call last)",
      "\u001b[0;32m<ipython-input-66-35a09d6249bc>\u001b[0m in \u001b[0;36m<module>\u001b[0;34m()\u001b[0m\n\u001b[0;32m----> 1\u001b[0;31m \u001b[0mint\u001b[0m\u001b[0;34m(\u001b[0m\u001b[0;34m'I have $3.8 in my pocket'\u001b[0m\u001b[0;34m)\u001b[0m  \u001b[0;31m# nonsensical conversion\u001b[0m\u001b[0;34m\u001b[0m\u001b[0;34m\u001b[0m\u001b[0m\n\u001b[0m",
      "\u001b[0;31mValueError\u001b[0m: invalid literal for int() with base 10: 'I have $3.8 in my pocket'"
     ]
    }
   ],
   "source": [
    "int('I have $3.8 in my pocket')  # nonsensical conversion"
   ]
  },
  {
   "cell_type": "markdown",
   "metadata": {
    "colab_type": "text",
    "id": "qtIERvN0VEYy"
   },
   "source": [
    "---\n",
    "# Methods\n",
    "\n",
    "A method is an <font color=\"salmon\">***object-oriented***</font> programming term, and refers to a function that is attached to and act upon a specific object (thereby considered an attribute of the object).\n",
    "\n",
    "Like functions, methods are triggered with a call expression. \n",
    "\n",
    "A method call requires the <font color=\"royalblue\"><b>*attribute reference*</b></font> notation, i.e., a dot (`.`) between the invocation target and the method name:"
   ]
  },
  {
   "cell_type": "code",
   "execution_count": null,
   "metadata": {
    "colab": {},
    "colab_type": "code",
    "id": "8bL385TVWXkS"
   },
   "outputs": [],
   "source": [
    "course = 'Python Programming'"
   ]
  },
  {
   "cell_type": "code",
   "execution_count": null,
   "metadata": {
    "colab": {},
    "colab_type": "code",
    "id": "aGwvhbZcWPR9"
   },
   "outputs": [],
   "source": [
    "course.lower()           # produces a new string"
   ]
  },
  {
   "cell_type": "code",
   "execution_count": null,
   "metadata": {
    "colab": {},
    "colab_type": "code",
    "id": "D2gABWF7Wa27"
   },
   "outputs": [],
   "source": [
    "(12.0).is_integer()      # E.g., 12.3 is not"
   ]
  },
  {
   "cell_type": "markdown",
   "metadata": {
    "colab_type": "text",
    "id": "F5-PW7ZapFJj"
   },
   "source": [
    " Any name following a dot can be called an <font color=\"royalblue\"><b>*attribute*</b></font>.\n",
    " \n",
    " \n",
    " As a rule of thumb, Python's toolset is  <font color=\"salmon\">***layered***</font>:\n",
    "\n",
    "- Generic operations that span multiple types show up as built-in functions or expressions (e.g., `len(x)`,  `x[0]`);\n",
    "\n",
    "- Type-specific operations are implemented as method calls."
   ]
  },
  {
   "cell_type": "markdown",
   "metadata": {
    "colab_type": "text",
    "id": "zbBoEpy5W0bo"
   },
   "source": [
    "---\n",
    "\n",
    "## Examples of Built-in String Methods\n",
    "\n",
    "Here present some commonly used string methods in Python:\n",
    "- `str.find(sub[, start[, end]])` searches the target string for a given substring and returns index of the first occurrence of `sub` in `str` (at or after index `start` and before index `end`):"
   ]
  },
  {
   "cell_type": "code",
   "execution_count": null,
   "metadata": {
    "colab": {},
    "colab_type": "code",
    "id": "w8g7v8mbXMpX"
   },
   "outputs": [],
   "source": [
    "('ISOM 3400' * 2).find('ISOM', 3)"
   ]
  },
  {
   "cell_type": "code",
   "execution_count": null,
   "metadata": {
    "colab": {},
    "colab_type": "code",
    "id": "1D5xBDzOXQYW"
   },
   "outputs": [],
   "source": [
    "('ISOM 3400' * 2).find('ISOM', 0, 3)"
   ]
  },
  {
   "cell_type": "markdown",
   "metadata": {
    "colab_type": "text",
    "id": "TTYgrmPkXU_-"
   },
   "source": [
    "- `str.count(sub[, start[, end]])` returns the total number of non-overlapping occurrences of `sub` in `str`:"
   ]
  },
  {
   "cell_type": "code",
   "execution_count": null,
   "metadata": {
    "colab": {},
    "colab_type": "code",
    "id": "e8E3ZZmGXgA-"
   },
   "outputs": [],
   "source": [
    "('ISOM 3400' * 2).count('ISOM', 2)"
   ]
  },
  {
   "cell_type": "code",
   "execution_count": null,
   "metadata": {
    "colab": {},
    "colab_type": "code",
    "id": "1Se8onstXiDe"
   },
   "outputs": [],
   "source": [
    "'abababa'.count('aba')"
   ]
  },
  {
   "cell_type": "markdown",
   "metadata": {
    "colab_type": "text",
    "id": "WBHyDQt9XoJD"
   },
   "source": [
    "---\n",
    "\n",
    "## Getting Help on Methods\n",
    "\n",
    "We can use the built-in function `dir(object)` to retrieve a list of all the attributes (including methods, which are <font color=\"royalblue\"><b>*function attributes*</b></font>) available for any object passed to it:"
   ]
  },
  {
   "cell_type": "code",
   "execution_count": null,
   "metadata": {
    "colab": {
     "base_uri": "https://localhost:8080/",
     "height": 1000
    },
    "colab_type": "code",
    "id": "g-Qrmd_zYE8N",
    "outputId": "caf81f3c-21ee-4899-d830-6775bb88f9c4"
   },
   "outputs": [
    {
     "data": {
      "text/plain": [
       "['__add__',\n",
       " '__class__',\n",
       " '__contains__',\n",
       " '__delattr__',\n",
       " '__dir__',\n",
       " '__doc__',\n",
       " '__eq__',\n",
       " '__format__',\n",
       " '__ge__',\n",
       " '__getattribute__',\n",
       " '__getitem__',\n",
       " '__getnewargs__',\n",
       " '__gt__',\n",
       " '__hash__',\n",
       " '__init__',\n",
       " '__init_subclass__',\n",
       " '__iter__',\n",
       " '__le__',\n",
       " '__len__',\n",
       " '__lt__',\n",
       " '__mod__',\n",
       " '__mul__',\n",
       " '__ne__',\n",
       " '__new__',\n",
       " '__reduce__',\n",
       " '__reduce_ex__',\n",
       " '__repr__',\n",
       " '__rmod__',\n",
       " '__rmul__',\n",
       " '__setattr__',\n",
       " '__sizeof__',\n",
       " '__str__',\n",
       " '__subclasshook__',\n",
       " 'capitalize',\n",
       " 'casefold',\n",
       " 'center',\n",
       " 'count',\n",
       " 'encode',\n",
       " 'endswith',\n",
       " 'expandtabs',\n",
       " 'find',\n",
       " 'format',\n",
       " 'format_map',\n",
       " 'index',\n",
       " 'isalnum',\n",
       " 'isalpha',\n",
       " 'isdecimal',\n",
       " 'isdigit',\n",
       " 'isidentifier',\n",
       " 'islower',\n",
       " 'isnumeric',\n",
       " 'isprintable',\n",
       " 'isspace',\n",
       " 'istitle',\n",
       " 'isupper',\n",
       " 'join',\n",
       " 'ljust',\n",
       " 'lower',\n",
       " 'lstrip',\n",
       " 'maketrans',\n",
       " 'partition',\n",
       " 'replace',\n",
       " 'rfind',\n",
       " 'rindex',\n",
       " 'rjust',\n",
       " 'rpartition',\n",
       " 'rsplit',\n",
       " 'rstrip',\n",
       " 'split',\n",
       " 'splitlines',\n",
       " 'startswith',\n",
       " 'strip',\n",
       " 'swapcase',\n",
       " 'title',\n",
       " 'translate',\n",
       " 'upper',\n",
       " 'zfill']"
      ]
     },
     "execution_count": 76,
     "metadata": {
      "tags": []
     },
     "output_type": "execute_result"
    }
   ],
   "source": [
    "dir(course)"
   ]
  },
  {
   "cell_type": "markdown",
   "metadata": {
    "colab_type": "text",
    "id": "Z6FSGhkpYQBh"
   },
   "source": [
    "To learn about each method, we can pass them to the `help()` function:"
   ]
  },
  {
   "cell_type": "code",
   "execution_count": null,
   "metadata": {
    "colab": {
     "base_uri": "https://localhost:8080/",
     "height": 202
    },
    "colab_type": "code",
    "id": "-E5dE4XYYPVK",
    "outputId": "71aabbc5-44f3-451f-8417-41c646dca868"
   },
   "outputs": [
    {
     "name": "stdout",
     "output_type": "stream",
     "text": [
      "Help on built-in function split:\n",
      "\n",
      "split(...) method of builtins.str instance\n",
      "    S.split(sep=None, maxsplit=-1) -> list of strings\n",
      "    \n",
      "    Return a list of the words in S, using sep as the\n",
      "    delimiter string.  If maxsplit is given, at most maxsplit\n",
      "    splits are done. If sep is not specified or is None, any\n",
      "    whitespace string is a separator and empty strings are\n",
      "    removed from the result.\n",
      "\n"
     ]
    }
   ],
   "source": [
    "help(course.split)"
   ]
  },
  {
   "cell_type": "markdown",
   "metadata": {
    "colab_type": "text",
    "id": "_A1EVluSYfRd"
   },
   "source": [
    "Again, typing a method's name without adding `()` echos the string representation of the method:"
   ]
  },
  {
   "cell_type": "code",
   "execution_count": null,
   "metadata": {
    "colab": {},
    "colab_type": "code",
    "id": "FndDveaeYj33"
   },
   "outputs": [],
   "source": [
    "course.split"
   ]
  },
  {
   "cell_type": "markdown",
   "metadata": {
    "colab_type": "text",
    "id": "KmMYRvsjKOgV"
   },
   "source": [
    "---\n",
    "# Namespaces\n",
    "\n",
    "A <font color=\"royalblue\"><b>*namespace*</b></font> is a <font color=\"royalblue\"><b>*mapping from names to objects*</b></font> in a specific programming context, and can be conceptualized as an \"invisible dictionary\".\n",
    "\n",
    "The built-in function `dir()`,  when called without arguments,\n",
    "returns the list of all the names (functions and variables) belonging to the namespace from where it is called. \n",
    "\n",
    "Running `dir()` (in a lightweight command-line interface) should return the following:\n",
    "\n",
    "```\n",
    "['__annotations__', '__builtins__', '__doc__', '__loader__', '__name__', '__package__', '__spec__', 'age', 'area', 'course', 'gender', 'height', 'i', 'j', 'keyword', 'name', 'price', 'shares', 'stock', 'width', 'x1', 'y1']\n",
    "```"
   ]
  },
  {
   "cell_type": "markdown",
   "metadata": {
    "colab_type": "text",
    "id": "Es2CpRk1pfA3"
   },
   "source": [
    "Deleting a name using [the `del` statement](https://docs.python.org/3/reference/simple_stmts.html#del) removes the name from the namespace:"
   ]
  },
  {
   "cell_type": "code",
   "execution_count": null,
   "metadata": {
    "colab": {},
    "colab_type": "code",
    "id": "GUQ9DH8rpjgH"
   },
   "outputs": [],
   "source": [
    "del x1"
   ]
  },
  {
   "cell_type": "code",
   "execution_count": null,
   "metadata": {
    "colab": {},
    "colab_type": "code",
    "id": "euHag_VlqBiV"
   },
   "outputs": [],
   "source": [
    "dir()"
   ]
  },
  {
   "cell_type": "markdown",
   "metadata": {
    "colab_type": "text",
    "id": "8W6wvIN-prau"
   },
   "source": [
    "\n",
    "Running `dir()` again should find `x1` being removed:\n",
    "```\n",
    "['__annotations__', '__builtins__', '__doc__', '__loader__', '__name__', '__package__', '__spec__', 'age', 'area', 'course', 'gender', 'height', 'i', 'j', 'keyword', 'name', 'price', 'shares', 'stock', 'width', 'y1']\n",
    "```\n",
    "\n"
   ]
  },
  {
   "cell_type": "code",
   "execution_count": null,
   "metadata": {
    "colab": {
     "base_uri": "https://localhost:8080/",
     "height": 162
    },
    "colab_type": "code",
    "id": "8vHCh0IhqHnu",
    "outputId": "0ab51c4c-0f26-4082-f614-ade216eac2a2"
   },
   "outputs": [
    {
     "ename": "NameError",
     "evalue": "ignored",
     "output_type": "error",
     "traceback": [
      "\u001b[0;31m---------------------------------------------------------------------------\u001b[0m",
      "\u001b[0;31mNameError\u001b[0m                                 Traceback (most recent call last)",
      "\u001b[0;32m<ipython-input-84-04358ba4b61b>\u001b[0m in \u001b[0;36m<module>\u001b[0;34m()\u001b[0m\n\u001b[0;32m----> 1\u001b[0;31m \u001b[0mx1\u001b[0m\u001b[0;34m\u001b[0m\u001b[0;34m\u001b[0m\u001b[0m\n\u001b[0m",
      "\u001b[0;31mNameError\u001b[0m: name 'x1' is not defined"
     ]
    }
   ],
   "source": [
    "x1"
   ]
  },
  {
   "cell_type": "markdown",
   "metadata": {
    "colab_type": "text",
    "id": "UrBXNrXAqJVg"
   },
   "source": [
    "When objects become unreachable, they can be garbage-collected."
   ]
  },
  {
   "cell_type": "markdown",
   "metadata": {
    "colab_type": "text",
    "id": "7mrijKs8Z4sw"
   },
   "source": [
    "---\n",
    "# Modules\n",
    "\n",
    "Most of the functionality in Python is provided by **modules**, which typically correspond to Python program files (or extensions coded in external languages such as C/C++ and Java) that define names we want to import to use.\n",
    "\n",
    "\n",
    "Let's look at a .py file that contains the following code (you can download it from Canvas):\n",
    "\n",
    "```\n",
    "name = \"ISOM 3400\"\n",
    "array = [1, 2, 3]\n",
    "\n",
    "def foo(arg):\n",
    "    print('arg = {}'.format(arg) )\n",
    "```    \n",
    "\n",
    "It can be read in as a module using [the `import` statement](https://docs.python.org/3/reference/simple_stmts.html#import):\n"
   ]
  },
  {
   "cell_type": "code",
   "execution_count": null,
   "metadata": {
    "colab": {},
    "colab_type": "code",
    "id": "i2FqANduMSSG"
   },
   "outputs": [],
   "source": [
    "import mod"
   ]
  },
  {
   "cell_type": "markdown",
   "metadata": {
    "colab_type": "text",
    "id": "4z5sXyVgMSSH"
   },
   "source": [
    "\n",
    "Using `dir()`, we can find the name `mod` imported to the current namespace:\n",
    "\n",
    "```\n",
    "['__annotations__', '__builtins__', '__doc__', '__loader__', '__name__', '__package__', '__spec__', 'age', 'area', 'course', 'gender', 'height', 'i', 'j', 'keyword', 'mod' 'name', 'price', 'shares', 'stock', 'width', 'y1']\n",
    "```\n",
    "\n",
    "The first time a module is imported, Python creates a module object, which is a wrapper of a namespace, and executes the statements in the module file one after another. \n",
    "\n",
    "***Top-level*** assignments create module attributes that populate the new namespace:\n",
    "\n",
    "<br>\n",
    "\n",
    "<img src=\"https://drive.google.com/uc?export=download&id=13n4DxX_E6NG7dRv-GdFIi5gnuDcBs0B3\" width=400 />"
   ]
  },
  {
   "cell_type": "code",
   "execution_count": null,
   "metadata": {
    "colab": {},
    "colab_type": "code",
    "id": "-RqJmwcJMSSH",
    "outputId": "d76fa342-6ee4-4487-92c6-0df0c17bb75d",
    "scrolled": true
   },
   "outputs": [
    {
     "data": {
      "text/plain": [
       "['__builtins__',\n",
       " '__cached__',\n",
       " '__doc__',\n",
       " '__file__',\n",
       " '__loader__',\n",
       " '__name__',\n",
       " '__package__',\n",
       " '__spec__',\n",
       " 'array',\n",
       " 'foo',\n",
       " 'name']"
      ]
     },
     "execution_count": 12,
     "metadata": {
      "tags": []
     },
     "output_type": "execute_result"
    }
   ],
   "source": [
    "dir(mod)  "
   ]
  },
  {
   "cell_type": "markdown",
   "metadata": {
    "colab_type": "text",
    "id": "HohMk_GT7IQ0"
   },
   "source": [
    "These names are now available for use, and the dot notation is used to refer to them:"
   ]
  },
  {
   "cell_type": "code",
   "execution_count": null,
   "metadata": {
    "colab": {},
    "colab_type": "code",
    "id": "3ydFDxA6MSSJ"
   },
   "outputs": [],
   "source": [
    "mod.name"
   ]
  },
  {
   "cell_type": "markdown",
   "metadata": {
    "colab_type": "text",
    "id": "vwvr50KNMSSK"
   },
   "source": [
    "\n",
    "\n",
    "<div class=\"alert alert-info\">Normally, module namespaces last until the interpreter quits.</div>"
   ]
  },
  {
   "cell_type": "markdown",
   "metadata": {
    "colab_type": "text",
    "id": "IYNU-r1sMSSK"
   },
   "source": [
    "\n",
    "Useful modules that form the [standard library](https://docs.python.org/3/library/) include `os`, `sys`, `math`, `random`, `shutil`, and so on."
   ]
  },
  {
   "cell_type": "code",
   "execution_count": null,
   "metadata": {
    "colab": {},
    "colab_type": "code",
    "id": "Cqc561sLxEPz"
   },
   "outputs": [],
   "source": [
    "import random"
   ]
  },
  {
   "cell_type": "code",
   "execution_count": null,
   "metadata": {
    "colab": {
     "base_uri": "https://localhost:8080/",
     "height": 35
    },
    "colab_type": "code",
    "id": "gLR427M20wL5",
    "outputId": "4c78161b-7c6d-4c03-e964-9bf7eb09ccaf"
   },
   "outputs": [
    {
     "data": {
      "text/plain": [
       "<module 'random' from '/usr/lib/python3.6/random.py'>"
      ]
     },
     "execution_count": 3,
     "metadata": {
      "tags": []
     },
     "output_type": "execute_result"
    }
   ],
   "source": [
    "random"
   ]
  },
  {
   "cell_type": "code",
   "execution_count": null,
   "metadata": {
    "colab": {},
    "colab_type": "code",
    "id": "QzMtHOldMSSL"
   },
   "outputs": [],
   "source": [
    "dir(random)  # random.py"
   ]
  },
  {
   "cell_type": "code",
   "execution_count": null,
   "metadata": {
    "colab": {},
    "colab_type": "code",
    "id": "ZXUsJ1dE7HWQ"
   },
   "outputs": [],
   "source": [
    "random.randint(0, 10)"
   ]
  },
  {
   "cell_type": "markdown",
   "metadata": {
    "colab_type": "text",
    "id": "-TjIpMyO7QTV"
   },
   "source": [
    "Using `help()` gives a description of this function:"
   ]
  },
  {
   "cell_type": "code",
   "execution_count": null,
   "metadata": {
    "colab": {},
    "colab_type": "code",
    "id": "gnnxEoo37Wsw"
   },
   "outputs": [],
   "source": [
    "help(random.randint)"
   ]
  },
  {
   "cell_type": "markdown",
   "metadata": {
    "colab_type": "text",
    "id": "h8XKNCqw7c_A"
   },
   "source": [
    "The module's `__file__` attribute gives the location where the module was found in the file system:"
   ]
  },
  {
   "cell_type": "code",
   "execution_count": null,
   "metadata": {
    "colab": {
     "base_uri": "https://localhost:8080/",
     "height": 35
    },
    "colab_type": "code",
    "executionInfo": {
     "elapsed": 689,
     "status": "ok",
     "timestamp": 1568614648421,
     "user": {
      "displayName": "Jia Jia",
      "photoUrl": "https://lh3.googleusercontent.com/a-/AAuE7mDmMGOrgBsXPA9SAmja5GwsLrWIE2dOBXsuhOBkQQ=s64",
      "userId": "00290786141877693274"
     },
     "user_tz": -480
    },
    "id": "7sAr-IhR7geW",
    "outputId": "d8c73fd8-86cb-490b-9c66-3e13cd35fb27"
   },
   "outputs": [
    {
     "data": {
      "text/plain": [
       "'/usr/lib/python3.6/random.py'"
      ]
     },
     "execution_count": 2,
     "metadata": {
      "tags": []
     },
     "output_type": "execute_result"
    }
   ],
   "source": [
    "random.__file__"
   ]
  },
  {
   "cell_type": "markdown",
   "metadata": {
    "colab_type": "text",
    "id": "wC35N2nM7vJ9"
   },
   "source": [
    "Alternatively, we can import all names in a module to the current namespace using the `from` form of the `import` statement:"
   ]
  },
  {
   "cell_type": "code",
   "execution_count": null,
   "metadata": {
    "colab": {},
    "colab_type": "code",
    "id": "dKwMljvF7ywQ"
   },
   "outputs": [],
   "source": [
    "from random import *"
   ]
  },
  {
   "cell_type": "markdown",
   "metadata": {
    "colab_type": "text",
    "id": "3lHQXYs-8BEa"
   },
   "source": [
    "Using `dir()` finds all names from `random` imported to the current namespace:\n",
    "\n",
    "```\n",
    "['Random', 'SystemRandom', '__annotations__', '__builtins__', '__doc__', '__loader__', '__name__', '__package__', '__spec__', 'age', 'area', 'betavariate', 'choice', 'choices', 'course', 'expovariate', 'gammavariate', 'gauss', 'gender', 'getrandbits', 'getstate', 'height', 'i', 'j', 'keyword', 'lognormvariate', 'mod', 'name', 'normalvariate', 'paretovariate', 'price', 'randint', 'random', 'randrange', 'sample', 'seed', 'setstate', 'shares', 'shuffle', 'stock', 'triangular', 'uniform', 'vonmisesvariate', 'weibullvariate', 'width', 'y1']\n",
    "```\n",
    "Then we don't need to use the prefix every time we use something from it:\n"
   ]
  },
  {
   "cell_type": "code",
   "execution_count": null,
   "metadata": {
    "colab": {},
    "colab_type": "code",
    "id": "pi7GSbj18eDv"
   },
   "outputs": [],
   "source": [
    "randint(0, 10)"
   ]
  },
  {
   "cell_type": "markdown",
   "metadata": {
    "colab_type": "text",
    "id": "gPc8Ul-c8ouA"
   },
   "source": [
    "However, this should be used with caution, as it would potentially create <b>*name collisions*</b>:"
   ]
  },
  {
   "cell_type": "code",
   "execution_count": null,
   "metadata": {
    "colab": {},
    "colab_type": "code",
    "id": "fzSy6Jpe8riI"
   },
   "outputs": [],
   "source": [
    "randint = 2; randint(0, 10)"
   ]
  },
  {
   "cell_type": "markdown",
   "metadata": {
    "colab_type": "text",
    "id": "fWFSqe9V8xFX"
   },
   "source": [
    "As a third alternative, we can import only a few selected names from a module by explicitly listing them:"
   ]
  },
  {
   "cell_type": "code",
   "execution_count": null,
   "metadata": {
    "colab": {},
    "colab_type": "code",
    "id": "i82ePuMB8zdK"
   },
   "outputs": [],
   "source": [
    "from random import randint, sample"
   ]
  },
  {
   "cell_type": "code",
   "execution_count": null,
   "metadata": {
    "colab": {},
    "colab_type": "code",
    "id": "lTwfBNKN815J"
   },
   "outputs": [],
   "source": [
    "randint(0, 10)"
   ]
  },
  {
   "cell_type": "code",
   "execution_count": null,
   "metadata": {
    "colab": {},
    "colab_type": "code",
    "id": "YUS2ARV684MW"
   },
   "outputs": [],
   "source": [
    "sample(range(100), 20)"
   ]
  },
  {
   "cell_type": "markdown",
   "metadata": {
    "colab_type": "text",
    "id": "-lkTNHkt6M1y"
   },
   "source": [
    "## Optional: The `__builtins__` Module\n",
    "\n"
   ]
  },
  {
   "cell_type": "code",
   "execution_count": null,
   "metadata": {
    "colab": {
     "base_uri": "https://localhost:8080/",
     "height": 235
    },
    "colab_type": "code",
    "id": "y2VrKv1KTI2O",
    "outputId": "6ec23c66-e5bb-4168-8031-fdfdb6730c6b"
   },
   "outputs": [
    {
     "name": "stdout",
     "output_type": "stream",
     "text": [
      "Help on built-in function print in module builtins:\n",
      "\n",
      "print(...)\n",
      "    print(value, ..., sep=' ', end='\\n', file=sys.stdout, flush=False)\n",
      "    \n",
      "    Prints the values to a stream, or to sys.stdout by default.\n",
      "    Optional keyword arguments:\n",
      "    file:  a file-like object (stream); defaults to the current sys.stdout.\n",
      "    sep:   string inserted between values, default a space.\n",
      "    end:   string appended after the last value, default a newline.\n",
      "    flush: whether to forcibly flush the stream.\n",
      "\n"
     ]
    }
   ],
   "source": [
    "help(print)"
   ]
  },
  {
   "cell_type": "markdown",
   "metadata": {
    "colab_type": "text",
    "id": "pRr3f-iwTS1W"
   },
   "source": [
    "All built-in objects are attributes of a preloaded module named `builtins`. \n",
    "\n",
    "The current global namespace (the namespace associated with a module called `__main__`; the statements executed by the ***top-level*** invocation of the interpreter are considered part of the `__main__` module) automatically gets an\n",
    "extra attribute named `__builtins__` that refers to the `builtins` module:"
   ]
  },
  {
   "cell_type": "code",
   "execution_count": null,
   "metadata": {
    "colab": {},
    "colab_type": "code",
    "id": "Nm9RTPWxt6h-"
   },
   "outputs": [],
   "source": [
    "__builtins__"
   ]
  },
  {
   "cell_type": "markdown",
   "metadata": {
    "colab_type": "text",
    "id": "RjfJuWDrvC9S"
   },
   "source": [
    "When we access a name not found in the current global namespace, Python looks for the identifier in the `__builtins__` module, which is a wrapper of its own namespace:"
   ]
  },
  {
   "cell_type": "code",
   "execution_count": null,
   "metadata": {
    "colab": {},
    "colab_type": "code",
    "id": "PkvXDIhVvU3b"
   },
   "outputs": [],
   "source": [
    "dir(__builtins__)"
   ]
  },
  {
   "cell_type": "markdown",
   "metadata": {
    "colab_type": "text",
    "id": "kIn7gGVk9KPZ"
   },
   "source": [
    "Many familiar names such as `abs`, `max`, `round`, and `len` can be found in its namespace"
   ]
  },
  {
   "cell_type": "markdown",
   "metadata": {
    "colab_type": "text",
    "id": "9xq3jrsO99g9"
   },
   "source": [
    "---\n",
    "\n",
    "# Appendix: Operator Precedence\n",
    "\n",
    "Python evaluates expressions from left to right. The following table summarizes the <font color=\"royalblue\"><b>*operator precedence*</b></font> for all the operators we have seen so far, from highest precedence to lowest precedence:\n",
    "\n",
    "\n",
    "\n",
    "|Operator|Meaning|\n",
    "|:-- |:-- |\n",
    "|`()`|Grouping|\n",
    "|`x[i], x[i:j:k], x(...), x.attr`|Indexing, slicing, call, attribute reference|\n",
    "|`**`|Exponentiation|\n",
    "|`+x, -x`|identity, negatition|\n",
    "|`*, /, //, %`|Multiplication (repetition), division, integer division, remainder (format)|\n",
    "|`+, -`|Addition (concatenation), substraction|\n",
    "|`<, <=, >, >=, ==, !=, in, not in, is, is not`|Comparisons, including membership tests and identity tests|\n",
    "|`not`|Logical negation|\n",
    "|`and`|Logical AND|\n",
    "|`or`|Logical OR|"
   ]
  }
 ],
 "metadata": {
  "colab": {
   "collapsed_sections": [],
   "name": "Topic 1 Python Basics.ipynb",
   "provenance": []
  },
  "kernelspec": {
   "display_name": "Python 3",
   "language": "python",
   "name": "python3"
  },
  "language_info": {
   "codemirror_mode": {
    "name": "ipython",
    "version": 3
   },
   "file_extension": ".py",
   "mimetype": "text/x-python",
   "name": "python",
   "nbconvert_exporter": "python",
   "pygments_lexer": "ipython3",
   "version": "3.8.7"
  }
 },
 "nbformat": 4,
 "nbformat_minor": 1
}
