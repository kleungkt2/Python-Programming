{
 "cells": [
  {
   "cell_type": "markdown",
   "metadata": {
    "colab_type": "text",
    "id": "L-IWldJT1QF_"
   },
   "source": [
    "---\n",
    "\n",
    "# Python Expressions and  Statements\n",
    "\n",
    "\n",
    "A combination of objects and operators that evaluates to a value/object (by itself a simple expression):\n",
    "\n",
    "\n",
    "|Expression|Meaning|\n",
    "|:-- |:-- |\n",
    "|`(...)`, `[...]`, `{key: value...}`, `{...}`|Grouping, list display, dictionary display, set display (comprehension) |\n",
    "|`x[index]`, `x[index:index]`, `x(arguements...)`, `x.attribute`|Indexing, slicing, call, attribute reference|\n",
    "|`x ** y`|Exponentiation|\n",
    "|`+x`, `-x`|Identity, negatition|\n",
    "|`x * y`, `x / y`, `x // y`, `x % y`|Multiplication (repetition), division, integer division, remainder (format)|\n",
    "|`x + y`, `x - y`|Addition (concatenation), substraction|\n",
    "|`x < y`, `x <= y`, `x > y`, `x >= y`, `x == y`, `x != y`, <br>`x in y`, `x not in y`, `x is y`,  `x is not y`|Comparisons, membership tests, identity tests|\n",
    "|`not x`|Logical negation|\n",
    "|`x and y`|Logical AND|\n",
    "|`x or y`|Logical OR|\n",
    "|`x if y else z`| Conditional selection |\n",
    "|`lambda arguments: expression`|Anonymous function generation|\n",
    "\n",
    "\n",
    "Python expressions cannot span multiple lines."
   ]
  },
  {
   "cell_type": "markdown",
   "metadata": {
    "colab_type": "text",
    "id": "HG-Ei5nq1QGB"
   },
   "source": [
    "---\n",
    "\n",
    "**Statements** (typically one per line) are the larger logic of a program's operation, and the **basic units of instruction** that the Python interpreter parses and processes. \n",
    "\n",
    "Statements use and direct (thereby embed) expressions to process objects.\n",
    "\n",
    "\n",
    "|Statement|Role|Example\n",
    "|:-- |:-- |:-- |\n",
    "|Assignment: `=`|Creating and assigning references|`a, b = 'good', 'bad'` <br> `ls = [1, 5]; ls[1] = 2; ls[2:2] = [3, 4]`   |\n",
    "|Augmented assignment: <br>`+=`, `-=`, `*=`, `/=`,  `%=`, etc.| Combining a binary operation and <br> an assignment statement|`a *= 2` <br> `a += b` |\n",
    "|`del`|Deleting references|`del variable` <br> `del object.attribute` <br> `del data[index]` <br> `del data[index:index]`|\n",
    "\n",
    " \n",
    "\n",
    "\n"
   ]
  },
  {
   "cell_type": "code",
   "execution_count": 1,
   "metadata": {},
   "outputs": [],
   "source": [
    "x = 7 % 3                # statements use expressions"
   ]
  },
  {
   "cell_type": "code",
   "execution_count": 2,
   "metadata": {},
   "outputs": [
    {
     "ename": "SyntaxError",
     "evalue": "invalid syntax (<ipython-input-2-443cd3beb46b>, line 1)",
     "output_type": "error",
     "traceback": [
      "\u001b[1;36m  File \u001b[1;32m\"<ipython-input-2-443cd3beb46b>\"\u001b[1;36m, line \u001b[1;32m1\u001b[0m\n\u001b[1;33m    (x = 7) % 3              # but not the other way around!\u001b[0m\n\u001b[1;37m       ^\u001b[0m\n\u001b[1;31mSyntaxError\u001b[0m\u001b[1;31m:\u001b[0m invalid syntax\n"
     ]
    }
   ],
   "source": [
    "(x = 7) % 3              # but not the other way around!"
   ]
  },
  {
   "cell_type": "markdown",
   "metadata": {},
   "source": [
    "\n",
    "In general, the interpreter executes statements ***sequentially***, one after the next as it encounters them."
   ]
  },
  {
   "cell_type": "code",
   "execution_count": 3,
   "metadata": {
    "colab": {},
    "colab_type": "code",
    "id": "ZQ42saP61QGF"
   },
   "outputs": [
    {
     "name": "stdout",
     "output_type": "stream",
     "text": [
      "What is your name? \n",
      "What is your age? 3\n",
      "What is your gender? 3\n",
      " is a 3 at 3 years old.\n"
     ]
    }
   ],
   "source": [
    "name = input(\"What is your name? \")\n",
    "age =  input(\"What is your age? \")      \n",
    "gender = input(\"What is your gender? \")\n",
    "print(name, 'is a', gender, 'at', age, 'years old.')"
   ]
  },
  {
   "cell_type": "markdown",
   "metadata": {
    "colab_type": "text",
    "id": "iGR4TpSs1QGO"
   },
   "source": [
    "\n",
    "\n",
    "---\n",
    "\n",
    "# How to implement logic into your code?\n",
    "\n",
    "\n",
    "In many cases, we want programs to have behaviors other than **sequential execution** of statements.\n",
    "\n",
    "For a bank to consider whether or not to offer someone a loan:\n"
   ]
  },
  {
   "cell_type": "markdown",
   "metadata": {
    "cell_style": "center",
    "colab_type": "text",
    "id": "ODb6fCqo1QGR"
   },
   "source": [
    "\n",
    "| Name |  Income | Decision |\n",
    "|-----|-----|-----|\n",
    "| Amy | 27 | ? |\n",
    "\n",
    "<img src=\"https://raw.githubusercontent.com/justinjiajia/img/master/python/1dt.png\" width=500   style=\"float: left; \"  />\n",
    "\n",
    "Pseudo code:\n",
    "\n",
    "<pre>\n",
    "\n",
    "<span style=\"color:#2767C5\";>if</span> <span style=\"color:#BB2F29\";>income >= 30</span> <span style=\"color:#2767C5\";>=></span> approve\n",
    "\n",
    "<span style=\"color:#2767C5\";>else</span> <span style=\"color:#2767C5\";>=></span> reject\n",
    "\n",
    "</pre>"
   ]
  },
  {
   "cell_type": "markdown",
   "metadata": {
    "colab_type": "text",
    "id": "NQEKyquU1QGT"
   },
   "source": [
    "---\n",
    "\n",
    "# Control Structures\n",
    "\n",
    "\n",
    "\n",
    "**Control structures** direct the order of execution of the statements and allow programmers to put some \"logic\" into their python code. \n",
    "\n",
    "Two groups of **control flow statements**:\n",
    "\n",
    "- Conditionals:\n",
    "\n",
    "    - `if` statements\n",
    "\n",
    "- Loops:\n",
    "    - `for` statements (***definite*** loops)\n",
    "    - `while` statements (***indefinite*** loops)\n",
    "    \n",
    "These statements contain (groups of) other statements (spanning multiple lines), and are called **compound statements**. "
   ]
  },
  {
   "cell_type": "markdown",
   "metadata": {
    "colab_type": "text",
    "id": "PBxb2kWC1QGU"
   },
   "source": [
    "---\n",
    "\n",
    "# The `if` Statement\n",
    "\n",
    "\n",
    "The `if` statement tests a condition and acts on it depending on whether it's ***true*** or ***false***. \n",
    "\n",
    "The simplest form is as follows:\n",
    "\n",
    "\n",
    "\n"
   ]
  },
  {
   "cell_type": "markdown",
   "metadata": {
    "colab_type": "text",
    "id": "IAuAa2O31QGV"
   },
   "source": [
    "\n",
    "<pre class=\"lang-python\">\n",
    "<span style=\"color:#2767C5\";>if</span> <span style=\"color:#BB2F29\";>&lt;condition&gt;</span>:             <span style=\"font-style: italic; color:dark teal;\"># The colon (:) is required</span>\n",
    "                            <span style=\"font-style: italic; color:dark teal;\"># Indentation is used to define a group of statements.</span>\n",
    "<div style=\" border-left: 6px solid red; background-color: #e8e9ea;\">  statement 1               \n",
    "  statement 2                  \n",
    "  ...\n",
    "  statement N</div>    \n",
    "following statement(s) \n",
    "</pre>"
   ]
  },
  {
   "cell_type": "markdown",
   "metadata": {
    "colab_type": "text",
    "id": "qB7_cJvu1QGW"
   },
   "source": [
    "- `<condition>` is an expression that evaluates to a **Boolean value**.\n",
    "\n",
    "- Contiguous statements ***at the matching indentation level*** are considered part of the same group. They are executed (***sequentially***) only if `<condition>` is `True`.\n",
    "\n",
    "- If `<condition>` is `False`, the entire group is skipped over and not executed.\n",
    "\n",
    "\n",
    "\n",
    "\n",
    "\n",
    "---\n",
    "\n",
    "Non-Boolean values can be used in place of `<condition>`. Rules for deciding the truthiness or falsehood of a non-Boolean value:\n",
    "\n",
    "- All ***non-zero*** numbers and all ***non-empty*** strings are truthy;\n",
    "\n",
    "- `0` and the ***empty*** string (`\"\"`) are falsy;\n",
    "\n",
    "- Other built-in data types that can be considered to be ***empty*** or ***not empty*** follow the same pattern."
   ]
  },
  {
   "cell_type": "code",
   "execution_count": 4,
   "metadata": {},
   "outputs": [],
   "source": [
    "name = 'Amy'\n",
    "if []:                \n",
    "    print(\"Hello, %s!\" % name)"
   ]
  },
  {
   "cell_type": "markdown",
   "metadata": {
    "colab_type": "text",
    "id": "N2hykHOI1QGc"
   },
   "source": [
    "---\n",
    "Indentation is part of Python's syntax. It defines the grouping of statements. "
   ]
  },
  {
   "cell_type": "code",
   "execution_count": 30,
   "metadata": {},
   "outputs": [
    {
     "name": "stdout",
     "output_type": "stream",
     "text": [
      "The customer's monthly income is 50K\n",
      "Approve\n"
     ]
    }
   ],
   "source": [
    "income = 50\n",
    "if income >= 30:                              # check if the condition is met or not\n",
    "    print(\"The customer's monthly income is {}K\".format(income))\n",
    "    print(\"Approve\")"
   ]
  },
  {
   "cell_type": "code",
   "execution_count": 34,
   "metadata": {},
   "outputs": [],
   "source": [
    "# What if the income is lower than 30? \n",
    "income = 27\n",
    "\n",
    "if income >= 30:\n",
    "    print(\"The customer's monthly income is {}K\".format(income))\n",
    "    print(\"Approve\")"
   ]
  },
  {
   "cell_type": "markdown",
   "metadata": {
    "colab_type": "text",
    "id": "SHHwL2X71QGg"
   },
   "source": [
    "---\n",
    "\n",
    "It is permissible to condense the clause header and the entire group on one line with `;` separating them:"
   ]
  },
  {
   "cell_type": "markdown",
   "metadata": {
    "colab_type": "text",
    "id": "fPfEDXTa1QGh"
   },
   "source": [
    "\n",
    "\n",
    "<pre class=\"lang-python\">\n",
    "<span style=\"color:#2767C5\";>if</span> <span style=\"color:#BB2F29\";>&lt;condition&gt;</span>: statement 1; statement 2, ...; statement N</pre>\n",
    "\n"
   ]
  },
  {
   "cell_type": "markdown",
   "metadata": {},
   "source": [
    "---\n",
    "\n",
    "\n",
    "## Multiway Branching: The `else` and `elif` Clauses\n",
    "\n",
    "\n",
    " \n",
    "\n",
    "The optional `else` clause is the first step towards branch execution:\n",
    "\n",
    "<pre class=\"lang-python\">\n",
    "<span style=\"color:#2767C5\";>if</span> <span style=\"color:#BB2F29; \";>&lt;condition 1&gt;</span>:\n",
    "   statement(s)         \n",
    "<span style=\"color:#2767C5\";>else</span>:                      <span style=\"font-style: italic; color:dark teal;\"># The clause header must be at the same indentation level as the if header.</span>\n",
    "   statement(s)\n",
    "\n",
    "following statement(s) \n",
    "</pre>\n",
    "<br>\n",
    "\n",
    "\n",
    "\n"
   ]
  },
  {
   "cell_type": "code",
   "execution_count": 35,
   "metadata": {},
   "outputs": [
    {
     "name": "stdout",
     "output_type": "stream",
     "text": [
      "The customer's monthly income is 27K\n",
      "Reject\n"
     ]
    }
   ],
   "source": [
    "income = 27\n",
    "\n",
    "if income >= 30:\n",
    "    print(\"The customer's monthly income is {}K\".format(income))\n",
    "    print(\"Approve\")\n",
    "else:\n",
    "    print(\"The customer's monthly income is {}K\".format(income))\n",
    "    print(\"Reject\")"
   ]
  },
  {
   "cell_type": "markdown",
   "metadata": {},
   "source": [
    "---\n",
    "\n",
    "The optional `elif` (short for *else if*) clause allows branch execution to be based on several alternatives.\n",
    "\n",
    "<img src=\"https://raw.githubusercontent.com/justinjiajia/img/master/python/4dt.png\" width=500 style=\"float: left; margin-top: 1.5em; \" />\n"
   ]
  },
  {
   "cell_type": "code",
   "execution_count": null,
   "metadata": {},
   "outputs": [],
   "source": [
    "income = 50\n",
    "\n",
    "print(\"The customer's monthly income is {}K\".format(income))\n",
    "\n",
    "if income >= 70:\n",
    "    print(\"Approve\")\n",
    "elif income >= 30:                       # why not 30 <= income < 70\n",
    "    print(\"Collect more information\")\n",
    "else:\n",
    "    print(\"Reject\")\n",
    "    \n",
    "# following statements ..."
   ]
  },
  {
   "cell_type": "markdown",
   "metadata": {},
   "source": [
    "<img src=\"https://raw.githubusercontent.com/justinjiajia/img/master/python/5dt.png\" width=500 style=\"float: left; margin-top: 1.5em; \" />"
   ]
  },
  {
   "cell_type": "code",
   "execution_count": null,
   "metadata": {},
   "outputs": [],
   "source": [
    "income = 50\n",
    "\n",
    "if income >= 70:\n",
    "    print(\"Approve\")\n",
    "elif income >= 50:\n",
    "    print(\"Conditionally approve\")\n",
    "elif income >= 30:\n",
    "    print(\"Collect more information\")\n",
    "else:\n",
    "    print(\"Reject\")\n",
    "    \n",
    "print(\"Done\")"
   ]
  },
  {
   "cell_type": "markdown",
   "metadata": {},
   "source": [
    "---\n",
    "\n",
    "Here is a code skeleton that shows the full potention of an `if` statement:\n",
    "\n",
    "<pre class=\"lang-python\">\n",
    "<span style=\"color:#2767C5\";>if</span> <span style=\"color:#BB2F29\";>&lt;condition 1&gt;</span>:\n",
    "   statement(s)         \n",
    "\n",
    "<span style=\"color:#2767C5\";>elif</span> <span style=\"color:#BB2F29\";>&lt;condition 2&gt;</span>:\n",
    "   statement(s)\n",
    "   \n",
    "   ...\n",
    "\n",
    "<span style=\"color:#2767C5\";>elif</span> <span style=\"color:#BB2F29\";>&lt;condition N&gt;</span>:\n",
    "   statement(s)   \n",
    "\n",
    "<span style=\"color:#2767C5\";>else</span>:                      <span style=\"font-style: italic; color:dark teal;\"># All clause headers are all at the same indentation level.</span>\n",
    "   statement(s)\n",
    "\n",
    "following statement(s) \n",
    "</pre>\n",
    "\n",
    "<br>\n",
    "\n",
    "- An arbitrary number of `elif` clauses can be specified. Conditions are evaluated in turn and the block corresponding to the first that is `True` is executed.\n",
    "    \n",
    "- Once one of the expressions is `True` and its block is executed, none of the remaining expressions are tested.\n",
    "\n",
    "- If none of the expressions are `True`, and the group of an ***optional*** `else` clause is executed if specified.\n",
    "\n",
    "    - There can be only one `else` clause, and it must be specified last.\n",
    "    \n",
    "    \n",
    "\n",
    "    \n",
    " \n",
    "---\n",
    "\n",
    " \n",
    " ## Nested `if` statements\n",
    " \n",
    " \n",
    "An `if` statement enclosed inside another `if` statement is called a ***nested*** `if` statement.\n",
    "\n",
    "\n",
    " `if` statements can nest (***to arbitrary depth***) to formulate more complicated conditionals.\n",
    " \n",
    "\n",
    " \n",
    " | Name |  Income  | Criminal | Decision |\n",
    "|-----|-----|-----|-----|\n",
    "| Amy | 27 | No | ? |\n",
    "\n",
    "\n",
    "<img src=\"https://raw.githubusercontent.com/justinjiajia/img/master/python/2dt.png\" width=500 style=\"float: left;\" />\n",
    "\n",
    "\n",
    "\n",
    "Pseudo code:\n",
    "\n",
    "<pre>\n",
    "\n",
    "<span style=\"color:#2767C5\";>if</span> <span style=\"color:#BB2F29\";>income >= 30</span> <span style=\"color:#2767C5\";>=></span> approve\n",
    "\n",
    "<span style=\"color:#2767C5\";>else</span> => \n",
    "     <span style=\"color:#2767C5\";>if</span> <span style=\"color:#BB2F29\";>criminal == No</span> <span style=\"color:#2767C5\";>=></span> approve\n",
    "     <span style=\"color:#2767C5\";>else</span> <span style=\"color:#2767C5\";>=></span> reject\n",
    "\n",
    "</pre>\n"
   ]
  },
  {
   "cell_type": "code",
   "execution_count": 96,
   "metadata": {},
   "outputs": [
    {
     "name": "stdout",
     "output_type": "stream",
     "text": [
      "Approve\n"
     ]
    }
   ],
   "source": [
    "income = 27\n",
    "criminal = \"No\"\n",
    "\n",
    "if income >= 30: \n",
    "    print('Approve')\n",
    "else:\n",
    "    if criminal == \"No\":\n",
    "        print('Approve')\n",
    "    else: \n",
    "        print('Reject')"
   ]
  },
  {
   "cell_type": "markdown",
   "metadata": {},
   "source": [
    "\n",
    "---\n",
    "\n",
    "**<font color='steelblue' > Question</font>**: Write code to describe the decision rules represented by the following tree: \n",
    "\n",
    "| Name |  Income | Years | Criminal | Decision |\n",
    "|-----|-----|-----|-----|-----|\n",
    "| Amy | 27 |4.2 |  No | ? |\n",
    "| Sam | 32 |1.5 |  No | ? |\n",
    "\n",
    "\n",
    "<img src=\"https://raw.githubusercontent.com/justinjiajia/img/master/python/3dt.png\" width=500 style=\"float: left; margin-top: 1.5em; \" />\n",
    "\n",
    "\n",
    "\n",
    "\n",
    "Pseudo code:\n",
    "\n",
    "<pre>\n",
    "\n",
    "<span style=\"color:#2767C5\";>if</span> <span style=\"color:#BB2F29\";>income >= 70</span> <span style=\"color:#2767C5\";>=></span> approve\n",
    "\n",
    "<span style=\"color:#2767C5\";>else if</span> <span style=\"color:#BB2F29\";>30 <= income < 70</span> <span style=\"color:#2767C5\";>=></span>\n",
    "     <span style=\"color:#2767C5\";>if</span> <span style=\"color:#BB2F29\";>years <= 2</span> <span style=\"color:#2767C5\";>=></span> reject\n",
    "     <span style=\"color:#2767C5\";>else</span> <span style=\"color:#2767C5\";>=></span> approve\n",
    "     \n",
    "<span style=\"color:#2767C5\";>else</span> <span style=\"color:#2767C5\";>=></span> \n",
    "     <span style=\"color:#2767C5\";>if</span> <span style=\"color:#BB2F29\";>criminal == No</span> <span style=\"color:#2767C5\";>=></span> approve\n",
    "     <span style=\"color:#2767C5\";>else</span> <span style=\"color:#2767C5\";>=></span> reject\n",
    "\n",
    "\n",
    "</pre>\n",
    " "
   ]
  },
  {
   "cell_type": "code",
   "execution_count": 1,
   "metadata": {},
   "outputs": [],
   "source": [
    "# try to write code for it by yourself\n",
    "\n"
   ]
  },
  {
   "cell_type": "markdown",
   "metadata": {
    "colab_type": "text",
    "id": "9327fVBG1QHE"
   },
   "source": [
    "---\n",
    "\n",
    "## Conditional Expressions\n",
    "\n",
    "Python supports an additional decision-making entity called a **conditional expression**.\n",
    "\n",
    "The **conditional operator** has 3 operands. The syntax is as follows:\n",
    "\n",
    "<br>\n",
    "\n",
    "<pre class=\"lang-python\"><span style=\"color:#BB2F29\";>&lt;expression 1&gt;</span> <span style=\"color:#2767C5\";>if</span> <span style=\"color:#BB2F29\";>&lt;condition&gt;</span> <span style=\"color:#2767C5\";>else</span> <span style=\"color:#BB2F29\";>&lt;expression 2&gt;</span>   <span style=\"font-style:italic; color:dark teal;\";># The else part is mandatory</span></pre>\n",
    " \n",
    "\n",
    "<br>\n",
    "\n",
    "- `<condition>` is evaluated first: \n",
    "\n",
    "    - if `True`, the expression evaluates to `<expression 1>`; \n",
    "    \n",
    "    - otherwise, the expression evaluates to `<expression 2>`.\n",
    "\n",
    "\n",
    "<br>\n",
    "\n",
    "The conditional operator provides a syntactic shorthand for the normal `if` statement.\n",
    "\n",
    "\n",
    "    \n",
    "<pre class=\"lang-python\">\n",
    "<span style=\"color:#2767C5\";>if</span> a < b: \n",
    "   print('a is less than b')\n",
    "<span style=\"color:#2767C5\";>else</span>:\n",
    "   print('a is greater than or equal to b')\n",
    "\n",
    "</pre>\n",
    "\n",
    "<pre class=\"lang-python\">\n",
    "print('a is less than b') <span style=\"color:#2767C5\";>if</span> a < b <span style=\"color:#2767C5\";>else</span> print('a is greater than or equal to b')\n",
    "\n",
    "</pre>\n",
    "\n",
    "<div class=\"alert alert-info\">See a <a href=\"https://drive.google.com/open?id=13l1JKJIeJ6OdEntjRlLH2yJkkXX_JCfj\" target=\"_blank\">widget</a> that shows the equivalence of the two forms of conditional logic.</div>\n",
    " "
   ]
  },
  {
   "cell_type": "markdown",
   "metadata": {
    "colab_type": "text",
    "id": "fAF-4XgW1QHF"
   },
   "source": [
    "**<font color='steelblue' > Question</font>**: consider the following conditional statement, what would be the equivalent conditional expression?\n",
    "\n",
    "<pre>\n",
    "if a < b: \n",
    "   print('a is less than b')\n",
    "elif a == b:\n",
    "   print('a is equal to b')\n",
    "else:\n",
    "   print('a is greater than b')"
   ]
  },
  {
   "cell_type": "code",
   "execution_count": 0,
   "metadata": {
    "colab": {},
    "colab_type": "code",
    "id": "m4yflJgF1QHH"
   },
   "outputs": [],
   "source": []
  },
  {
   "cell_type": "markdown",
   "metadata": {
    "colab_type": "text",
    "id": "oGIdrvxn1QHL"
   },
   "source": [
    "The conditional expression has lower precedence than virtually all the other operators:"
   ]
  },
  {
   "cell_type": "code",
   "execution_count": 48,
   "metadata": {
    "colab": {},
    "colab_type": "code",
    "id": "7zifmINa1QHM"
   },
   "outputs": [],
   "source": [
    "x = y = 1"
   ]
  },
  {
   "cell_type": "code",
   "execution_count": 49,
   "metadata": {
    "cell_style": "split",
    "colab": {},
    "colab_type": "code",
    "id": "DXlZ6Z1x1QHQ"
   },
   "outputs": [
    {
     "data": {
      "text/plain": [
       "16"
      ]
     },
     "execution_count": 49,
     "metadata": {},
     "output_type": "execute_result"
    }
   ],
   "source": [
    "5 + (x if x >= y else y) + 10"
   ]
  },
  {
   "cell_type": "code",
   "execution_count": 50,
   "metadata": {
    "cell_style": "split",
    "colab": {},
    "colab_type": "code",
    "id": "WHv32Lvn1QHh"
   },
   "outputs": [
    {
     "data": {
      "text/plain": [
       "6"
      ]
     },
     "execution_count": 50,
     "metadata": {},
     "output_type": "execute_result"
    }
   ],
   "source": [
    "5 + x if x >= y else y + 10 "
   ]
  },
  {
   "cell_type": "markdown",
   "metadata": {},
   "source": [
    "---\n"
   ]
  },
  {
   "cell_type": "markdown",
   "metadata": {
    "cell_style": "split"
   },
   "source": [
    "| Name |  Income | Years | Criminal | Decision |\n",
    "|-----|-----|-----|-----|-----|\n",
    "| Amy | 27 |4.2 |  No | ? |\n",
    "| Sam | 32 |1.5 |  No | ? |\n",
    "|...|\n",
    "\n",
    "\n",
    "<img src=\"https://raw.githubusercontent.com/justinjiajia/img/master/python/3dt.png\" width=500 style=\"float: left; margin-top: 1.5em; \" />\n"
   ]
  },
  {
   "cell_type": "code",
   "execution_count": 88,
   "metadata": {
    "cell_style": "split"
   },
   "outputs": [],
   "source": [
    "customer_1 = {'name': 'Amy', 'income': 27, \n",
    "              'years': 4.2, 'criminal': 'No'}\n",
    "customer_2 = {'name': 'Sam', 'income': 32, \n",
    "              'years': 1.5, 'criminal': 'No'}"
   ]
  },
  {
   "cell_type": "code",
   "execution_count": 99,
   "metadata": {
    "cell_style": "split"
   },
   "outputs": [
    {
     "name": "stdout",
     "output_type": "stream",
     "text": [
      "Reject\n"
     ]
    }
   ],
   "source": [
    "# code that implements the decision rule\n",
    "\n",
    "if customer_2['income'] >= 70: \n",
    "    print('Approve')\n",
    "    \n",
    "elif customer_2['income'] >= 30:\n",
    "    if customer_2['years'] >= 2:\n",
    "        print(\"Approve\")\n",
    "    else:\n",
    "        print(\"Reject\")\n",
    "        \n",
    "else:\n",
    "    if customer_2['criminal'] == \"No\":\n",
    "        print('Approve')\n",
    "    else: \n",
    "        print('Reject')"
   ]
  },
  {
   "cell_type": "markdown",
   "metadata": {
    "colab_type": "text",
    "id": "BTDWrrrl1QHk"
   },
   "source": [
    "---\n",
    "\n",
    "# The `while` Statement\n",
    "\n",
    "A `while` loop repeats a sequence of statements until a particular condition is no longer satisfied. \n",
    "\n",
    "The simplest form of a `while` loop is shown below:\n",
    "\n",
    "<br>\n",
    "\n",
    "<pre class=\"lang-python\"><span style=\"color:#2767C5\";>while</span> <span style=\"color:#BB2F29\";>&lt;condition&gt;</span>:            <span style=\"font-style: italic; color:dark teal;\"># The colon (:) is required</span>\n",
    "                              <span style=\"font-style: italic; color:dark teal;\"># Again, indentation is used for grouping</span>\n",
    "<div style=\" border-left: 6px solid red; background-color: #e8e9ea;\">  statement 1               \n",
    "  statement 2                  \n",
    "  ...\n",
    "  statement N</div>  \n",
    "following statement(s) \n",
    "</pre>\n",
    "\n",
    "<br>\n",
    "\n",
    "- When a `while` loop is encountered, `<condition>` is first evaluated to return a **Boolean value**.\n",
    "\n",
    "  - `<condition>` is typically formulated with a variable (called a *counter*) whose value changes with iterations.\n",
    "\n",
    "- Statements ***indented to the same level*** are referred to as the **loop body** and executed if `<condition>` is `True`.\n",
    "        \n",
    "- `<condition>` is then checked again.\n",
    "    \n",
    "- Execution repeats these two steps until `<condition>` becomes `False`.\n"
   ]
  },
  {
   "cell_type": "code",
   "execution_count": 111,
   "metadata": {},
   "outputs": [
    {
     "data": {
      "text/plain": [
       "False"
      ]
     },
     "execution_count": 111,
     "metadata": {},
     "output_type": "execute_result"
    }
   ],
   "source": [
    "'abc' == 'ab'"
   ]
  },
  {
   "cell_type": "code",
   "execution_count": 0,
   "metadata": {
    "colab": {},
    "colab_type": "code",
    "id": "xY5vf-4O1QHk",
    "outputId": "b7fe4496-8fa6-4abc-ac2f-7a87cd689b16",
    "scrolled": true
   },
   "outputs": [
    {
     "name": "stdout",
     "output_type": "stream",
     "text": [
      "5\t4\t3\t2\t1\t"
     ]
    }
   ],
   "source": [
    "n = 5\n",
    "while n > 0:              # n is the counter; equivalently n\n",
    "    print(n, end='\\t')   \n",
    "    n = n - 1                # modify the value of the counter in every iteration"
   ]
  },
  {
   "cell_type": "code",
   "execution_count": null,
   "metadata": {},
   "outputs": [],
   "source": [
    "n = 'spam'\n",
    "while n:                  # while n is not empty; more concise than x != ''\n",
    "    print(x, end='\\t')\n",
    "    n = n[1:] "
   ]
  },
  {
   "cell_type": "markdown",
   "metadata": {
    "colab_type": "text",
    "id": "tHaW8ECh1QHn"
   },
   "source": [
    "\n",
    "- `while` loops can be nested to arbitrary depth.\n",
    "\n",
    "- A `while` loop can also be specified on one line:\n",
    "\n",
    "<br>\n",
    "\n",
    "<pre class=\"lang-python\"><span style=\"color:#2767C5\";>while</span> <span style=\"color:#BB2F29\";>&lt;condition&gt;</span>: statement 1; statement 2, ...; statement N</pre>\n",
    "\n",
    "<br>\n",
    "\n",
    "\n",
    "- `while` loops can be nested inside `if` statements, and vice versa.\n",
    "\n"
   ]
  },
  {
   "cell_type": "code",
   "execution_count": 91,
   "metadata": {
    "colab": {},
    "colab_type": "code",
    "id": "-zqowxik1QHn",
    "outputId": "ab0d4c0f-bb42-4abf-b6f5-0903fa262cfc"
   },
   "outputs": [
    {
     "name": "stdout",
     "output_type": "stream",
     "text": [
      "4\t2\t"
     ]
    }
   ],
   "source": [
    "n = 5\n",
    "while n:  \n",
    "    if n % 2 == 0: \n",
    "        print(n, end='\\t')\n",
    "    n = n - 1"
   ]
  },
  {
   "cell_type": "markdown",
   "metadata": {
    "colab_type": "text",
    "id": "0261MrhZ1QHr"
   },
   "source": [
    "- If we accidentally write a `while` loop that theoretically never ends, the code can be terminated by click <kbd>Interrupt</kbd> in the <kbd>Kernel</kbd> menu or pressing <kbd>I</kbd> twice to generates an interrupt from the keyboard.\n"
   ]
  },
  {
   "cell_type": "code",
   "execution_count": 101,
   "metadata": {},
   "outputs": [
    {
     "ename": "KeyboardInterrupt",
     "evalue": "",
     "output_type": "error",
     "traceback": [
      "\u001b[1;31m---------------------------------------------------------------------------\u001b[0m",
      "\u001b[1;31mKeyboardInterrupt\u001b[0m                         Traceback (most recent call last)",
      "\u001b[1;32m<ipython-input-101-18eb50e41d0e>\u001b[0m in \u001b[0;36m<module>\u001b[1;34m\u001b[0m\n\u001b[0;32m      1\u001b[0m \u001b[0mn\u001b[0m \u001b[1;33m=\u001b[0m \u001b[1;36m5\u001b[0m\u001b[1;33m\u001b[0m\u001b[1;33m\u001b[0m\u001b[0m\n\u001b[1;32m----> 2\u001b[1;33m \u001b[1;32mwhile\u001b[0m \u001b[0mn\u001b[0m\u001b[1;33m:\u001b[0m\u001b[1;33m\u001b[0m\u001b[1;33m\u001b[0m\u001b[0m\n\u001b[0m\u001b[0;32m      3\u001b[0m     \u001b[1;32mif\u001b[0m \u001b[0mn\u001b[0m \u001b[1;33m%\u001b[0m \u001b[1;36m2\u001b[0m \u001b[1;33m==\u001b[0m \u001b[1;36m0\u001b[0m\u001b[1;33m:\u001b[0m\u001b[1;33m\u001b[0m\u001b[1;33m\u001b[0m\u001b[0m\n\u001b[0;32m      4\u001b[0m         \u001b[0mprint\u001b[0m\u001b[1;33m(\u001b[0m\u001b[0mn\u001b[0m\u001b[1;33m,\u001b[0m \u001b[0mend\u001b[0m\u001b[1;33m=\u001b[0m\u001b[1;34m'\\t'\u001b[0m\u001b[1;33m)\u001b[0m\u001b[1;33m\u001b[0m\u001b[1;33m\u001b[0m\u001b[0m\n\u001b[0;32m      5\u001b[0m      \u001b[1;31m# n -= 1\u001b[0m\u001b[1;33m\u001b[0m\u001b[1;33m\u001b[0m\u001b[1;33m\u001b[0m\u001b[0m\n",
      "\u001b[1;31mKeyboardInterrupt\u001b[0m: "
     ]
    }
   ],
   "source": [
    "n = 5\n",
    "while n:                \n",
    "    if n % 2 == 0: \n",
    "        print(n, end='\\t')\n",
    "     # n = n - 1    "
   ]
  },
  {
   "cell_type": "markdown",
   "metadata": {
    "colab_type": "text",
    "id": "f_aLYDlN1QHu"
   },
   "source": [
    "---\n",
    "\n",
    "\n",
    "## Interrupting Loops\n",
    "\n",
    "Python provides two keywords `break` and `continue` that terminate a loop prematurely:\n"
   ]
  },
  {
   "cell_type": "markdown",
   "metadata": {
    "colab_type": "text",
    "id": "0rRygy8v1QHv"
   },
   "source": [
    "\n",
    "<pre class=\"lang-python\">\n",
    "<span style=\"color:#2767C5\";>while</span> <span style=\"color:#BB2F29\";>&lt;condition&gt;</span>:  \n",
    "        <div style=\" border-left: 6px solid red; background-color: #e8e9ea;\">    statement(s)\n",
    "    \n",
    "    <span style=\"color:#2767C5\";>if</span> <span style=\"color:#BB2F29\";>&lt;condition&gt;</span>:     <span style=\"font-style: italic; color:dark teal;\"># execution steps into the block containing continue or break if True </span>\n",
    "       statement(s)\n",
    "       <span style=\"color:#2767C5\";>continue</span> or <span style=\"color:#2767C5\";>break</span>   \n",
    "    \n",
    "    statement(s)        <span style=\"font-style: italic; color:dark teal;\"># skipped over if continue or break is reached </span></div>\n",
    "following statement(s) </pre>\n",
    "\n"
   ]
  },
  {
   "cell_type": "markdown",
   "metadata": {
    "colab_type": "text",
    "id": "kJ9uTIQ81QHw"
   },
   "source": [
    "\n",
    "- The `break` and `continue` statements are usually further nested in an `if` test to take action in response to some `<condition>`.\n",
    "\n",
    "    - The `continue` statement terminates the ***current*** iteration immediately.\n",
    "    \n",
    "    - The `break` statement immediately terminates a loop ***entirely***."
   ]
  },
  {
   "cell_type": "code",
   "execution_count": 71,
   "metadata": {
    "colab": {},
    "colab_type": "code",
    "id": "xpeXvRCP1QHw"
   },
   "outputs": [],
   "source": [
    "gradebook = [95, 92, 89, 100, 71, 67, 59, 82, 75, 29]"
   ]
  },
  {
   "cell_type": "code",
   "execution_count": 72,
   "metadata": {
    "cell_style": "center",
    "colab": {},
    "colab_type": "code",
    "id": "U0f5NBIA1QHy",
    "outputId": "55787ebd-e43a-490a-ab2e-2e8e5e637c39"
   },
   "outputs": [
    {
     "data": {
      "text/plain": [
       "(3, 10)"
      ]
     },
     "execution_count": 72,
     "metadata": {},
     "output_type": "execute_result"
    }
   ],
   "source": [
    "# find how many students have earned scores above 90 points\n",
    "\n",
    "i = 0\n",
    "count_above = 0\n",
    "\n",
    "while i < len(gradebook):\n",
    "    \n",
    "    i = i + 1    \n",
    "    if gradebook[i-1] <= 90: \n",
    "        continue        \n",
    "    count_above += 1\n",
    "    \n",
    "    \n",
    "count_above, i     "
   ]
  },
  {
   "cell_type": "markdown",
   "metadata": {
    "colab_type": "text",
    "id": "3bLSfQzF1QH1"
   },
   "source": [
    "**<font color='steelblue' > Question</font>**: figure out a way to accomplish the conditional processing above without using `continue`?"
   ]
  },
  {
   "cell_type": "code",
   "execution_count": null,
   "metadata": {
    "colab": {},
    "colab_type": "code",
    "id": "qvPuxFOi1QH1",
    "outputId": "cac05a5b-3117-4e00-b776-6e62a3e1815a"
   },
   "outputs": [],
   "source": [
    "   "
   ]
  },
  {
   "cell_type": "markdown",
   "metadata": {},
   "source": [
    "---\n"
   ]
  },
  {
   "cell_type": "code",
   "execution_count": 73,
   "metadata": {
    "colab": {},
    "colab_type": "code",
    "id": "zbf67I931QH6",
    "outputId": "64efde4a-739b-45dd-ede7-2b0648d42c3a"
   },
   "outputs": [
    {
     "data": {
      "text/plain": [
       "[100, 95, 92, 89, 82, 75, 71, 67, 59, 29]"
      ]
     },
     "execution_count": 73,
     "metadata": {},
     "output_type": "execute_result"
    }
   ],
   "source": [
    "gradebook_sorted = sorted(gradebook, reverse=True); gradebook_sorted"
   ]
  },
  {
   "cell_type": "code",
   "execution_count": 82,
   "metadata": {
    "colab": {},
    "colab_type": "code",
    "id": "IZejEOCh1QIA",
    "outputId": "817db941-0bb3-4de5-89db-f91eb764e3b2"
   },
   "outputs": [
    {
     "data": {
      "text/plain": [
       "(3, 4)"
      ]
     },
     "execution_count": 82,
     "metadata": {},
     "output_type": "execute_result"
    }
   ],
   "source": [
    "i = 0\n",
    "count_above = 0\n",
    "\n",
    "while i < len(gradebook_sorted):\n",
    "    i += 1\n",
    "    if gradebook_sorted[i-1] <= 90: \n",
    "        break\n",
    "    count_above += 1\n",
    "    \n",
    "count_above, i"
   ]
  },
  {
   "cell_type": "markdown",
   "metadata": {
    "colab_type": "text",
    "id": "KDltpy0o1QID"
   },
   "source": [
    "- A `break` or `continue` statement in **nested loops** applies to the ***nearest*** enclosing loop.\n",
    "\n",
    "<br>\n",
    "\n",
    " \n",
    "<pre class=\"lang-python\">\n",
    "<span style=\"color:#2767C5\";>while</span> <span style=\"color:#BB2F29\";>&lt;condition&gt;</span>:  \n",
    "\n",
    "    statement(s)   \n",
    "\n",
    "    <span style=\"color:#2767C5\";>while</span> <span style=\"color:#BB2F29\";>&lt;condition&gt;</span>:\n",
    "        statement(s)  \n",
    "        <span style=\"color:#2767C5\";>continue</span> or <span style=\"color:#2767C5\";>break</span>              <span style=\"font-style: italic; color:dark teal;\"># apply to the inner loop</span>\n",
    "\n",
    "    <span style=\"color:#2767C5\";>continue</span> or <span style=\"color:#2767C5\";>break</span>                  <span style=\"font-style: italic; color:dark teal;\"># apply to the outer loop</span></pre>  \n",
    "\n",
    " "
   ]
  },
  {
   "cell_type": "code",
   "execution_count": 0,
   "metadata": {
    "colab": {},
    "colab_type": "code",
    "id": "hSqkiZCX1QID",
    "outputId": "8d827367-1cbd-4e9e-9ce8-e82e9eca59cc"
   },
   "outputs": [
    {
     "data": {
      "text/plain": [
       "[100, 95, 92, 89, 82, 75, 71, 67, 59, 29]"
      ]
     },
     "execution_count": 29,
     "metadata": {
      "tags": []
     },
     "output_type": "execute_result"
    }
   ],
   "source": [
    "gradebook_sorted"
   ]
  },
  {
   "cell_type": "code",
   "execution_count": 79,
   "metadata": {},
   "outputs": [
    {
     "name": "stdout",
     "output_type": "stream",
     "text": [
      "3 students have earned scores of 91 to 100 points\n",
      "2 students have earned scores of 81 to 90 points\n",
      "2 students have earned scores of 71 to 80 points\n",
      "1 students have earned scores of 61 to 70 points\n",
      "1 students have earned scores of 51 to 60 points\n",
      "0 students have earned scores of 41 to 50 points\n",
      "0 students have earned scores of 31 to 40 points\n",
      "1 students have earned scores of 21 to 30 points\n",
      "0 students have earned scores of 11 to 20 points\n",
      "0 students have earned scores of 1 to 10 points\n"
     ]
    }
   ],
   "source": [
    "i = 0\n",
    "threshold = 90\n",
    "\n",
    "while threshold >= 0:\n",
    "    count = 0\n",
    "    \n",
    "    while i < len(gradebook_sorted):   \n",
    "        if gradebook_sorted[i] <= threshold: \n",
    "            break\n",
    "        count += 1\n",
    "        i += 1\n",
    "    \n",
    "    print('{} students have earned scores of {} to {} points'.format(count, threshold+1, threshold+10))\n",
    "    threshold -= 10    "
   ]
  },
  {
   "cell_type": "markdown",
   "metadata": {
    "colab_type": "text",
    "id": "3wYJAE7H1QIW"
   },
   "source": [
    "\n",
    "---\n",
    "\n",
    "# The `for` Statement\n",
    "\n",
    "\n",
    "A `for` statement allows for looping over sequences, processing them one item at a time.\n",
    "\n",
    "The simple form of a `for` loop is as follows:\n",
    "\n",
    "\n",
    " <br>\n",
    "\n",
    "<pre class=\"lang-python\">\n",
    "<span style=\"color:#2767C5\";>for</span> <span style=\"color:#BB2F29\";>&lt;variable&gt;</span> <span style=\"color:#2767C5\";>in</span> <span style=\"color:#BB2F29\";>&lt;iterable&gt;</span>:  \n",
    "\n",
    "    statement(s)                 <span style=\"font-style: italic; color:dark teal;\"># The break and continue statements also work the same here</span>\n",
    "\n",
    "following statements</pre>\n",
    "\n",
    "      \n",
    "<br>\n",
    "\n",
    "\n",
    "<img src=\"https://raw.githubusercontent.com/justinjiajia/img/master/python/forloop.png\" width=600/> \n",
    "\n",
    "\n",
    "\n",
    "\n"
   ]
  },
  {
   "cell_type": "code",
   "execution_count": 2,
   "metadata": {},
   "outputs": [
    {
     "name": "stdout",
     "output_type": "stream",
     "text": [
      "1\n",
      "4\n",
      "9\n",
      "16\n",
      "25\n"
     ]
    }
   ],
   "source": [
    "for num in [1, 2, 3, 4, 5]:\n",
    "    print(num**2)"
   ]
  },
  {
   "cell_type": "markdown",
   "metadata": {},
   "source": [
    "\n",
    "- When a `for` loop is encountered, execution starts to step through the elements in `<iterable>` ***in turn***. \n",
    "    \n",
    "    - `statement(s)` often operate on the element which `<variable>` currently refers to.\n",
    "    \n",
    "    - When `<iterable>` is not exhausted, the next element is assigned to `<variable>` when control returns to the top. \n",
    "\n",
    "- The loop exits once all elements in `<iterable>` have been visited.\n",
    "\n",
    "- `<iterable>` are something capable of returining its members one at a time (or over which we can iterate), including a list, a string, a tuple, a dictionary view, etc."
   ]
  },
  {
   "cell_type": "code",
   "execution_count": 0,
   "metadata": {
    "colab": {},
    "colab_type": "code",
    "id": "EjfkIYt91QIW",
    "outputId": "b3f21280-3cab-4d92-c3bc-1dd53083a514"
   },
   "outputs": [
    {
     "name": "stdout",
     "output_type": "stream",
     "text": [
      "P y t h o n   P r o g r a m m i n g "
     ]
    }
   ],
   "source": [
    "for letter in \"Python Programming\":\n",
    "    print(letter, end=' ')"
   ]
  },
  {
   "cell_type": "markdown",
   "metadata": {
    "colab_type": "text",
    "id": "gZgXma561QIY"
   },
   "source": [
    "Comparing the counter-based `while` loops, `for` loops handle the details of the iteration automatically:"
   ]
  },
  {
   "cell_type": "code",
   "execution_count": 0,
   "metadata": {
    "colab": {},
    "colab_type": "code",
    "id": "yDEXIZFg1QIZ",
    "outputId": "d5d6afb9-aa18-44c0-a79c-3f42f4e42663"
   },
   "outputs": [
    {
     "data": {
      "text/plain": [
       "[95, 92, 89, 100, 71, 67, 59, 82, 75, 29]"
      ]
     },
     "execution_count": 2,
     "metadata": {
      "tags": []
     },
     "output_type": "execute_result"
    }
   ],
   "source": [
    "gradebook"
   ]
  },
  {
   "cell_type": "code",
   "execution_count": 112,
   "metadata": {
    "cell_style": "split"
   },
   "outputs": [
    {
     "data": {
      "text/plain": [
       "3"
      ]
     },
     "execution_count": 112,
     "metadata": {},
     "output_type": "execute_result"
    }
   ],
   "source": [
    "i = 0\n",
    "count_above = 0\n",
    "\n",
    "while i < len(gradebook):\n",
    "    \n",
    "    i = i + 1    \n",
    "    if gradebook[i-1] <= 90: \n",
    "        continue        \n",
    "    count_above += 1\n",
    "    \n",
    "    \n",
    "count_above"
   ]
  },
  {
   "cell_type": "code",
   "execution_count": 0,
   "metadata": {
    "cell_style": "split",
    "colab": {},
    "colab_type": "code",
    "id": "rlVQ6yWk1QIb",
    "outputId": "00e67fda-3c09-4991-ba8e-9ed63efff4cd"
   },
   "outputs": [
    {
     "data": {
      "text/plain": [
       "3"
      ]
     },
     "execution_count": 47,
     "metadata": {
      "tags": []
     },
     "output_type": "execute_result"
    }
   ],
   "source": [
    "count_above = 0\n",
    "\n",
    "for score in gradebook:\n",
    "    if score <= 90: \n",
    "        continue\n",
    "    count_above += 1           \n",
    "    \n",
    "count_above   "
   ]
  },
  {
   "cell_type": "markdown",
   "metadata": {
    "colab_type": "text",
    "id": "9V_sPhST1QIe"
   },
   "source": [
    "\n",
    "- `for` loops can also nest arbitrarily deeply: "
   ]
  },
  {
   "cell_type": "code",
   "execution_count": 0,
   "metadata": {
    "colab": {},
    "colab_type": "code",
    "id": "CMM5uqsV1QIf"
   },
   "outputs": [],
   "source": [
    "gradebooks = [[95, 92], [89, 100, 59]]"
   ]
  },
  {
   "cell_type": "code",
   "execution_count": 0,
   "metadata": {
    "colab": {},
    "colab_type": "code",
    "id": "_YIsf8O-1QIj",
    "outputId": "9c62359b-ba4c-40a5-f937-a3091b201a91"
   },
   "outputs": [
    {
     "name": "stdout",
     "output_type": "stream",
     "text": [
      "Course 1:\n",
      "95\t92\t\n",
      "Course 2:\n",
      "89\t100\t59\t\n"
     ]
    }
   ],
   "source": [
    "i = 1\n",
    "for gradebook in gradebooks:\n",
    "    print('Course {}:'.format(i))\n",
    "    for score in gradebook:\n",
    "        print(score, end ='\\t') \n",
    "    i += 1\n",
    "    print()    "
   ]
  },
  {
   "cell_type": "markdown",
   "metadata": {
    "colab_type": "text",
    "id": "ZFkHCls81QIm"
   },
   "source": [
    "- **Sequence unpacking** is applicable when elements are themselves **sequences** of the same pattern:"
   ]
  },
  {
   "cell_type": "code",
   "execution_count": 0,
   "metadata": {
    "colab": {},
    "colab_type": "code",
    "id": "ZexzzvZY1QIn"
   },
   "outputs": [],
   "source": [
    "gradebooks = [[['Alice', 95], ['Troy', 92]], [['James', 89], ['Charles', 100], ['Bryn', 59]]]"
   ]
  },
  {
   "cell_type": "code",
   "execution_count": 0,
   "metadata": {
    "colab": {},
    "colab_type": "code",
    "id": "lrkdp9tb1QIr",
    "outputId": "d4f078d0-6a33-429a-c897-f421914e69cd"
   },
   "outputs": [
    {
     "name": "stdout",
     "output_type": "stream",
     "text": [
      "Course 1:\n",
      "Alice:95\tTroy:92\t\n",
      "Course 2:\n",
      "James:89\tCharles:100\tBryn:59\t\n"
     ]
    }
   ],
   "source": [
    "i = 1\n",
    "for gradebook in gradebooks:\n",
    "    print('Course {}:'.format(i))\n",
    "    for person, score in gradebook:                     \n",
    "        print('{}:{}'.format(person, score), end ='\\t') \n",
    "    i += 1\n",
    "    print()  "
   ]
  },
  {
   "cell_type": "markdown",
   "metadata": {
    "colab_type": "text",
    "id": "nwLu8shs1QIt"
   },
   "source": [
    "---\n",
    "\n",
    "## Counter-style `for` Loops: Ranges\n",
    "\n",
    "\n",
    "\n"
   ]
  },
  {
   "cell_type": "markdown",
   "metadata": {},
   "source": [
    "```python\n",
    "records = ['Amy', 1400, 'Yes', False, 'Jane', 1355, 'No', False, 'Brian', 2000, 'Yes', True]\n",
    "```\n",
    "\n",
    "```\n",
    "Amy at position 1\n",
    "Jane at position 5\n",
    "Brian at position 9\n",
    "\n",
    "```\n",
    "\n",
    "\n",
    "\n",
    "To generate indices to iterate through on demand in a `for` loop, we can use [`range()`](https://docs.python.org/3/library/stdtypes.html#range) (the constructor for an immutable sequence of integers) to create a **range** object:\n"
   ]
  },
  {
   "cell_type": "code",
   "execution_count": 21,
   "metadata": {
    "colab": {},
    "colab_type": "code",
    "id": "Z7fOjl1P1QIu"
   },
   "outputs": [
    {
     "data": {
      "text/plain": [
       "range(0, 5)"
      ]
     },
     "execution_count": 21,
     "metadata": {},
     "output_type": "execute_result"
    }
   ],
   "source": [
    "range(5)"
   ]
  },
  {
   "cell_type": "markdown",
   "metadata": {
    "colab_type": "text",
    "id": "3BiAtrF_1QIx"
   },
   "source": [
    "The content of a range object can be displayed by a list call:"
   ]
  },
  {
   "cell_type": "code",
   "execution_count": 22,
   "metadata": {
    "cell_style": "center",
    "colab": {},
    "colab_type": "code",
    "id": "9PclUvTd1QIy"
   },
   "outputs": [
    {
     "data": {
      "text/plain": [
       "[0, 1, 2, 3, 4]"
      ]
     },
     "execution_count": 22,
     "metadata": {},
     "output_type": "execute_result"
    }
   ],
   "source": [
    "list(range(5))     # start defaults to 0"
   ]
  },
  {
   "cell_type": "code",
   "execution_count": 23,
   "metadata": {
    "cell_style": "center",
    "colab": {},
    "colab_type": "code",
    "id": "1Tc45o_y1QI4"
   },
   "outputs": [
    {
     "data": {
      "text/plain": [
       "[2, 3, 4, 5, 6]"
      ]
     },
     "execution_count": 23,
     "metadata": {},
     "output_type": "execute_result"
    }
   ],
   "source": [
    "list(range(2, 7))  # step defaults to 1"
   ]
  },
  {
   "cell_type": "code",
   "execution_count": 24,
   "metadata": {
    "cell_style": "center",
    "colab": {},
    "colab_type": "code",
    "id": "-t-dB7ly1QI7"
   },
   "outputs": [
    {
     "data": {
      "text/plain": [
       "[0, 3, 6]"
      ]
     },
     "execution_count": 24,
     "metadata": {},
     "output_type": "execute_result"
    }
   ],
   "source": [
    "list(range(0, 7, 3))"
   ]
  },
  {
   "cell_type": "markdown",
   "metadata": {
    "colab_type": "text",
    "id": "O8eY1AcY1QI_"
   },
   "source": [
    "The content is a sequence of integers in arithmetic progression between the start (***inclusive***) and the stop (***exclusive***):\n",
    "\n",
    "$[start, start + step, start+2 \\times step, \\dots, start+i \\times step, \\dots ]$\n"
   ]
  },
  {
   "cell_type": "code",
   "execution_count": 26,
   "metadata": {},
   "outputs": [
    {
     "name": "stdout",
     "output_type": "stream",
     "text": [
      "0\n",
      "1\n",
      "2\n",
      "3\n",
      "4\n"
     ]
    }
   ],
   "source": [
    "for i in range(5):\n",
    "    print(i)"
   ]
  },
  {
   "cell_type": "markdown",
   "metadata": {
    "colab_type": "text",
    "id": "s0qJR1DZ1QJA"
   },
   "source": [
    "We can do more specialized sorts of traversals when using range objects in a `for` loop:"
   ]
  },
  {
   "cell_type": "code",
   "execution_count": 114,
   "metadata": {
    "colab": {},
    "colab_type": "code",
    "id": "PAn6sBvz1QJB",
    "outputId": "f2445ab1-c2cf-4a25-c4c0-6150f6c26033"
   },
   "outputs": [
    {
     "name": "stdout",
     "output_type": "stream",
     "text": [
      "Amy at position 1\n",
      "Jane at position 5\n",
      "Brian at position 9\n"
     ]
    }
   ],
   "source": [
    "records = ['Amy', 1400, 'Yes', False, 'Jane', 1355, 'No', False, 'Brian', 2000, 'Yes', True]\n",
    "\n",
    "for i in range(0, len(records), 4):\n",
    "    print(records[i], 'at position', i+1)"
   ]
  },
  {
   "cell_type": "markdown",
   "metadata": {
    "colab_type": "text",
    "id": "tBCNON631QJF"
   },
   "source": [
    "---\n",
    "\n",
    "## Generating Both Indicies and Items with **`enumerate()`**\n",
    "\n",
    "The [`enumerate()`](https://docs.python.org/3/library/functions.html#enumerate) funcition provides a simpler way to generate both indices and items for a loop."
   ]
  },
  {
   "cell_type": "code",
   "execution_count": 14,
   "metadata": {
    "colab": {},
    "colab_type": "code",
    "id": "4vzI4VhU1QJF",
    "outputId": "879bab55-a3db-48aa-c18b-905c6bbcbfce"
   },
   "outputs": [
    {
     "data": {
      "text/plain": [
       "<enumerate at 0x27bc57f6800>"
      ]
     },
     "execution_count": 14,
     "metadata": {},
     "output_type": "execute_result"
    }
   ],
   "source": [
    "enum = enumerate('python')\n",
    "enum"
   ]
  },
  {
   "cell_type": "code",
   "execution_count": 15,
   "metadata": {
    "colab": {},
    "colab_type": "code",
    "id": "fYtCZKGs1QJJ",
    "outputId": "7f78add7-b5cd-417f-f23f-6423abfde66b"
   },
   "outputs": [
    {
     "data": {
      "text/plain": [
       "[(0, 'p'), (1, 'y'), (2, 't'), (3, 'h'), (4, 'o'), (5, 'n')]"
      ]
     },
     "execution_count": 15,
     "metadata": {},
     "output_type": "execute_result"
    }
   ],
   "source": [
    "list(enum)     #  the content can also be displayed by a list call"
   ]
  },
  {
   "cell_type": "code",
   "execution_count": 0,
   "metadata": {
    "colab": {},
    "colab_type": "code",
    "id": "FgKAXHpq1QJM",
    "outputId": "29fc31ab-50a0-47b8-e3aa-6767ea3936c8"
   },
   "outputs": [
    {
     "name": "stdout",
     "output_type": "stream",
     "text": [
      "p appears at position 0\n",
      "y appears at position 1\n",
      "t appears at position 2\n",
      "h appears at position 3\n",
      "o appears at position 4\n",
      "n appears at position 5\n"
     ]
    }
   ],
   "source": [
    "for index, item in enumerate('python'):\n",
    "    print(item, 'appears at position', index)"
   ]
  },
  {
   "cell_type": "markdown",
   "metadata": {
    "colab_type": "text",
    "id": "5X_CzNhm1QJO"
   },
   "source": [
    "---\n",
    "\n",
    "## Parallel Traversals with **`zip()`**\n",
    "\n",
    "\n",
    "```python\n",
    "\n",
    "names = ['John', 'Danny', 'Tyrion', 'Sam']\n",
    "balances = [20, 10, 5, 40]\n",
    "students = ['Yes', 'No', 'Yes', 'No']\n",
    "outcomes = [False, False, True, True]\n",
    "```\n",
    "\n",
    "```\n",
    "John : False\n",
    "Danny : False\n",
    "Tyrion : True\n",
    "Sam : True\n",
    "```\n",
    "\n",
    "The built-in [`zip()`](https://docs.python.org/3/library/functions.html#zip) function allows us to use `for` loops to visit multiple sequences ***in parallel***.\n",
    "\n",
    "\n",
    "`zip()` takes one or more sequences as arguments and returns a series of tuples that pair up parallel items taken from those sequences:\n",
    "\n",
    "<img src=\"https://raw.githubusercontent.com/justinjiajia/img/master/python/zip1.svg\" width=500/>\n",
    "\n",
    "\n",
    "\n"
   ]
  },
  {
   "cell_type": "code",
   "execution_count": 116,
   "metadata": {
    "cell_style": "center",
    "colab": {},
    "colab_type": "code",
    "id": "3t73kol61QJT",
    "outputId": "2800d214-1087-4322-c34a-9c21638b5202"
   },
   "outputs": [
    {
     "data": {
      "text/plain": [
       "<zip at 0x27bc5832ec0>"
      ]
     },
     "execution_count": 116,
     "metadata": {},
     "output_type": "execute_result"
    }
   ],
   "source": [
    "names = ['John', 'Danny', 'Tyrion', 'Sam']\n",
    "balances = [20, 10, 5, 40]\n",
    "students = ['Yes', 'No', 'Yes', 'No']\n",
    "outcomes = [False, False, True, True]\n",
    "\n",
    "zipped = zip(names, balances, students, outcomes)\n",
    "zipped"
   ]
  },
  {
   "cell_type": "code",
   "execution_count": 11,
   "metadata": {
    "colab": {},
    "colab_type": "code",
    "id": "ZY6trgg_1QJX",
    "outputId": "764fb127-e6a8-4eac-a36a-f0b30cf2b7e1"
   },
   "outputs": [
    {
     "data": {
      "text/plain": [
       "[('John', 20, 'Yes', False),\n",
       " ('Danny', 10, 'No', False),\n",
       " ('Tyrion', 5, 'Yes', True),\n",
       " ('Sam', 40, 'No', True)]"
      ]
     },
     "execution_count": 11,
     "metadata": {},
     "output_type": "execute_result"
    }
   ],
   "source": [
    "list(zipped)     "
   ]
  },
  {
   "cell_type": "markdown",
   "metadata": {
    "colab_type": "text",
    "id": "cUQnhp9I1QJZ"
   },
   "source": [
    "Now, we can step over elements from multiple lists within a single `for` loop:"
   ]
  },
  {
   "cell_type": "code",
   "execution_count": 115,
   "metadata": {
    "colab": {},
    "colab_type": "code",
    "id": "QmyoOOqy1QJb"
   },
   "outputs": [
    {
     "name": "stdout",
     "output_type": "stream",
     "text": [
      "John : False\n",
      "Danny : False\n",
      "Tyrion : True\n",
      "Sam : True\n"
     ]
    }
   ],
   "source": [
    "for name, *others, outcome in zip(names, balances, students, outcomes):  # use sequence unpacking\n",
    "    print(name, ':', outcome)"
   ]
  },
  {
   "cell_type": "markdown",
   "metadata": {
    "colab_type": "text",
    "id": "w9O-uH7J1QJh"
   },
   "source": [
    "`zip()` truncates results at the length of the shortest sequence when the argument lengths differ:"
   ]
  },
  {
   "cell_type": "code",
   "execution_count": 7,
   "metadata": {
    "colab": {},
    "colab_type": "code",
    "id": "k5-0efOA1QJi"
   },
   "outputs": [
    {
     "data": {
      "text/plain": [
       "[('a', 'x'), ('b', 'y'), ('c', 'z')]"
      ]
     },
     "execution_count": 7,
     "metadata": {},
     "output_type": "execute_result"
    }
   ],
   "source": [
    "list(zip('abc', 'xyz123'))"
   ]
  },
  {
   "cell_type": "markdown",
   "metadata": {
    "colab_type": "text",
    "id": "X8ExSsBU1QJw"
   },
   "source": [
    "---\n",
    "\n",
    "## Nested Comprehensions"
   ]
  },
  {
   "cell_type": "code",
   "execution_count": 0,
   "metadata": {
    "colab": {},
    "colab_type": "code",
    "id": "XcPCJ37_1QJx"
   },
   "outputs": [],
   "source": [
    "a_list = [1, '4', 9, 'a', 4]"
   ]
  },
  {
   "cell_type": "code",
   "execution_count": 0,
   "metadata": {
    "colab": {},
    "colab_type": "code",
    "id": "f3fbCdQ71QJ4"
   },
   "outputs": [],
   "source": [
    "[e ** 2 for e in a_list if isinstance(e, int)]"
   ]
  },
  {
   "cell_type": "markdown",
   "metadata": {
    "colab_type": "text",
    "id": "lwNDSm8v1QJ-"
   },
   "source": [
    "<img src=\"https://raw.githubusercontent.com/justinjiajia/img/master/python/comprehension.png\" width=500/> "
   ]
  },
  {
   "cell_type": "code",
   "execution_count": 0,
   "metadata": {
    "colab": {},
    "colab_type": "code",
    "id": "l0lJdJmO1QKB",
    "outputId": "eba02661-b681-4003-888f-6a1d6f23517d"
   },
   "outputs": [
    {
     "data": {
      "text/plain": [
       "[[['Alice', 95], ['Troy', 92]],\n",
       " [['James', 89], ['Charles', 100], ['Bryn', 59]]]"
      ]
     },
     "execution_count": 55,
     "metadata": {
      "tags": []
     },
     "output_type": "execute_result"
    }
   ],
   "source": [
    "gradebooks"
   ]
  },
  {
   "cell_type": "code",
   "execution_count": 9,
   "metadata": {},
   "outputs": [
    {
     "data": {
      "text/plain": [
       "[95, 92, 89, 100, 59]"
      ]
     },
     "execution_count": 9,
     "metadata": {},
     "output_type": "execute_result"
    }
   ],
   "source": [
    "gradebooks = [[['Alice', 95], ['Troy', 92]], [['James', 89], ['Charles', 100], ['Bryn', 59]]]\n",
    "score_list = []\n",
    "\n",
    "for course in gradebooks:\n",
    "    for name, score in course:\n",
    "        score_list.append(score)\n",
    "        \n",
    "score_list        "
   ]
  },
  {
   "cell_type": "markdown",
   "metadata": {
    "colab_type": "text",
    "id": "4RNnEZdE1QKE"
   },
   "source": [
    "To pull out data on scores only, we can code ***nested*** `for` loops, each removing one level of nesting:"
   ]
  },
  {
   "cell_type": "code",
   "execution_count": 0,
   "metadata": {
    "colab": {},
    "colab_type": "code",
    "id": "ckdva-CL1QKF",
    "outputId": "e2e17855-bae4-4e4f-c532-b392f862e108",
    "scrolled": true
   },
   "outputs": [
    {
     "data": {
      "text/plain": [
       "[95, 92, 89, 100, 59]"
      ]
     },
     "execution_count": 50,
     "metadata": {
      "tags": []
     },
     "output_type": "execute_result"
    }
   ],
   "source": [
    "[score for course in gradebooks for name, score in course]  \n",
    "# sequence unpacking is also used here; so we only need a 2-level loop to remove 3 levels of nesting"
   ]
  },
  {
   "cell_type": "markdown",
   "metadata": {
    "colab_type": "text",
    "id": "vIb9SWk81QKH"
   },
   "source": [
    "The general structure of comprehensions looks like this:\n",
    "\n",
    "<pre>[ expression <span style=\"color:#2767C5\";>for</span> target_1 <span style=\"color:#2767C5\";>in</span> iterable_1 [<span style=\"color:#2767C5\";>if</span> <span style=\"color:#BB2F29\";>&lt;condition_1&gt;</span>]\n",
    "             <span style=\"color:#2767C5\";>for</span> target_2 <span style=\"color:#2767C5\";>in</span> iterable_2 [<span style=\"color:#2767C5\";>if</span> <span style=\"color:#BB2F29\";>&lt;condition_2&gt;</span>] ...\n",
    "             <span style=\"color:#2767C5\";>for</span> target_N <span style=\"color:#2767C5\";>in</span> iterable_N [<span style=\"color:#2767C5\";>if</span> <span style=\"color:#BB2F29\";>&lt;condition_N&gt;</span>] ]</pre>\n",
    "             \n",
    "             \n",
    "We can nest a comprehension in the output expression to retain the existing nesting and produce grouped data:             "
   ]
  },
  {
   "cell_type": "code",
   "execution_count": 0,
   "metadata": {
    "colab": {},
    "colab_type": "code",
    "id": "pyu9Wzj71QKI",
    "outputId": "3c72f2b2-6101-4623-b13e-f176f09f1030"
   },
   "outputs": [
    {
     "data": {
      "text/plain": [
       "[[95, 92], [89, 100, 59]]"
      ]
     },
     "execution_count": 51,
     "metadata": {
      "tags": []
     },
     "output_type": "execute_result"
    }
   ],
   "source": [
    "[[score for name, score in course] for course in gradebooks]"
   ]
  },
  {
   "cell_type": "code",
   "execution_count": 11,
   "metadata": {},
   "outputs": [
    {
     "data": {
      "text/plain": [
       "[[95, 92], [89, 100, 59]]"
      ]
     },
     "execution_count": 11,
     "metadata": {},
     "output_type": "execute_result"
    }
   ],
   "source": [
    "gradebooks = [[['Alice', 95], ['Troy', 92]], [['James', 89], ['Charles', 100], ['Bryn', 59]]]\n",
    "course_list = []\n",
    "\n",
    "for course in gradebooks:\n",
    "    score_list = []\n",
    "    for name, score in course:\n",
    "        score_list.append(score)\n",
    "    course_list.append(score_list)    \n",
    "\n",
    "course_list    "
   ]
  },
  {
   "cell_type": "markdown",
   "metadata": {
    "colab_type": "text",
    "id": "NjDit7qC1QKK"
   },
   "source": [
    "Sublists produced by the inner comprehension can be further fed into some aggregation functions, like `max()`, `sum()`, etc., to yield group statistics:"
   ]
  },
  {
   "cell_type": "code",
   "execution_count": 16,
   "metadata": {
    "colab": {},
    "colab_type": "code",
    "id": "7amz5Hb31QKL",
    "outputId": "3149f73c-4f7d-4540-da16-c26ec804fe05"
   },
   "outputs": [
    {
     "data": {
      "text/plain": [
       "[95, 100]"
      ]
     },
     "execution_count": 16,
     "metadata": {},
     "output_type": "execute_result"
    }
   ],
   "source": [
    "[max([score for name, score in course]) for course in gradebooks]"
   ]
  },
  {
   "cell_type": "markdown",
   "metadata": {
    "colab_type": "text",
    "id": "Ka9oT09s1QKN"
   },
   "source": [
    "---\n",
    "\n",
    "# Appendix: Python Statements\n",
    "\n",
    "\n",
    "\n",
    "\n",
    "|Statement|Role|Example\n",
    "|:-- |:-- |:-- |\n",
    "|Assignment: `=`|Creating and assigning references|`a, b = 'good', 'bad'` <br> `ls = [1, 5]; ls[1] = 2; ls[2:2] = [3, 4]`   |\n",
    "|Augmented assignment: <br>`+=`, `-=`, `*=`, `/=`,  `%=`, etc.| Combining a binary operation and <br> an assignment statement|`a *= 2` <br> `a += b` |\n",
    "|`del`|Deleting references|`del variable` <br> `del object.attribute` <br> `del data[index]` <br> `del data[index:index]`|\n",
    "|`if/elif/else`| Selecting actions|`if \"python\":` <br> &nbsp; &nbsp; `print(\"programming\")` |\n",
    "|`for`| Definite loops |`for x in \"python\":` <br> &nbsp; &nbsp;  &nbsp;`print(x)` |\n",
    "|`while`| Indefinite/general loops |`while x > 0:` <br> &nbsp; &nbsp; &nbsp; &nbsp;    `print(\"positive\")` |\n",
    "|`break`| Loop exit |`while True:` <br> &nbsp; &nbsp; &nbsp; &nbsp;    `if exittest(): break` |\n",
    "|`continue`| Loop continue |`while True:` <br> &nbsp; &nbsp; &nbsp; &nbsp;    `if skiptest(): continue` |\n"
   ]
  }
 ],
 "metadata": {
  "colab": {
   "collapsed_sections": [],
   "name": "Topic 3 Control Structures.ipynb",
   "provenance": []
  },
  "hide_input": false,
  "kernelspec": {
   "display_name": "Python 3",
   "language": "python",
   "name": "python3"
  },
  "language_info": {
   "codemirror_mode": {
    "name": "ipython",
    "version": 3
   },
   "file_extension": ".py",
   "mimetype": "text/x-python",
   "name": "python",
   "nbconvert_exporter": "python",
   "pygments_lexer": "ipython3",
   "version": "3.8.7"
  },
  "toc": {
   "base_numbering": 1,
   "nav_menu": {},
   "number_sections": false,
   "sideBar": true,
   "skip_h1_title": false,
   "title_cell": "Table of Contents",
   "title_sidebar": "Contents",
   "toc_cell": false,
   "toc_position": {},
   "toc_section_display": true,
   "toc_window_display": false
  }
 },
 "nbformat": 4,
 "nbformat_minor": 1
}
