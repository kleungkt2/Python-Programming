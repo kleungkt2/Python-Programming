{
 "cells": [
  {
   "cell_type": "markdown",
   "metadata": {},
   "source": [
    "# Data Structures\n",
    "\n",
    "<img src=\"https://upload.wikimedia.org/wikipedia/commons/thumb/1/1c/MAERSK_MC_KINNEY_M%C3%96LLER_%26_MARSEILLE_MAERSK_%2848694054418%29.jpg/800px-MAERSK_MC_KINNEY_M%C3%96LLER_%26_MARSEILLE_MAERSK_%2848694054418%29.jpg\" width=600/>\n",
    "\n",
    "\n",
    "<br>\n",
    "\n",
    "Most of the data types we have encountered so far are **atomic types** (except strings).\n",
    "\n",
    "\n",
    "\n",
    "In many applications, data is related in some way, and should be organized in some structure that mirrors the semantics of data:\n",
    "\n",
    "\n"
   ]
  },
  {
   "cell_type": "markdown",
   "metadata": {
    "cell_style": "split",
    "colab_type": "text",
    "id": "6T83x0VPhhFu"
   },
   "source": [
    "- A shopping cart of items\n",
    "\n",
    "- A gradebook for a class\n",
    "\n",
    "- A person's demographic characteristics\n",
    "\n",
    "- Members of an online community\n",
    "\n",
    "- Districts of Hong Kong\n",
    "\n",
    "- Pixels of an image\n",
    "\n",
    "……\n"
   ]
  },
  {
   "cell_type": "markdown",
   "metadata": {
    "cell_style": "split",
    "colab_type": "text",
    "id": "NqZiuIKLhhFv"
   },
   "source": [
    "\n",
    "<img src=\"https://raw.githubusercontent.com/justinjiajia/img/master/python/sample-matrix.gif\" width=500/>\n",
    "\n"
   ]
  },
  {
   "cell_type": "markdown",
   "metadata": {
    "colab_type": "text",
    "id": "_5wCvr4bhhFw"
   },
   "source": [
    "In programming, we use **data structures** to pack related data together.\n",
    "\n",
    "In simple terms, a data structure refers to a **container** that organizes a **collection** of data in a particular structure.\n",
    "\n",
    "In Python, the four common data structures are:\n",
    "\n",
    "- Lists and tuples (sequential containers)\n",
    "- Dictionaries (associative containers)\n",
    "- Sets (set containers; optional)\n",
    "\n",
    "Like numbers, strings, and Booleans, they are built-in data types in Python. \n",
    "\n",
    "<br>\n",
    "\n",
    "\n",
    "> A large part of performant programming is understanding what questions we are trying to ask of our data and picking a data structure that can answer these questions quickly."
   ]
  },
  {
   "cell_type": "markdown",
   "metadata": {
    "colab_type": "text",
    "id": "WB8fjyIFsmkJ"
   },
   "source": [
    "---\n",
    "\n",
    "# Lists and Tuples\n",
    "\n",
    "Both lists and tuples are data structures containing a **sequence** (an **ordered collection**) of objects (of any type), and can be created with a construct known as a **list**/**tuple display**:"
   ]
  },
  {
   "cell_type": "code",
   "execution_count": 13,
   "metadata": {
    "colab": {},
    "colab_type": "code",
    "id": "vWIrm62usmkK",
    "outputId": "49d20816-1b2b-4a3c-f67d-d84670f2dcb9"
   },
   "outputs": [
    {
     "data": {
      "text/plain": [
       "['apple', 'orange', 'banana', 'mango']"
      ]
     },
     "execution_count": 13,
     "metadata": {},
     "output_type": "execute_result"
    }
   ],
   "source": [
    "fruits = ['apple', 'orange', 'banana', 'mango']\n",
    "fruits"
   ]
  },
  {
   "cell_type": "code",
   "execution_count": 0,
   "metadata": {
    "cell_style": "center",
    "colab": {},
    "colab_type": "code",
    "id": "x1VQ5fhahhFz",
    "outputId": "d289e281-841c-4e07-cefd-ca254c3d17c6"
   },
   "outputs": [
    {
     "data": {
      "text/plain": [
       "list"
      ]
     },
     "execution_count": 5,
     "metadata": {
      "tags": []
     },
     "output_type": "execute_result"
    }
   ],
   "source": [
    "type(fruits)"
   ]
  },
  {
   "cell_type": "code",
   "execution_count": 8,
   "metadata": {
    "cell_style": "center",
    "colab": {},
    "colab_type": "code",
    "id": "ehC3qi82smkR",
    "outputId": "e228b5c7-ea64-457f-cd7a-95232f7c8910"
   },
   "outputs": [
    {
     "data": {
      "text/plain": [
       "(1, 4, 9, 16, 25)"
      ]
     },
     "execution_count": 8,
     "metadata": {},
     "output_type": "execute_result"
    }
   ],
   "source": [
    "squares = (1, 4, 9, 16, 25) # Paratheses can be dropped; squares = 1, 4, 9, 16, 25\n",
    "squares"
   ]
  },
  {
   "cell_type": "code",
   "execution_count": 0,
   "metadata": {
    "colab": {},
    "colab_type": "code",
    "id": "qN4-FpWGsmkZ",
    "outputId": "0aec99bf-2a74-4d28-b0ad-a25a23238824"
   },
   "outputs": [
    {
     "data": {
      "text/plain": [
       "tuple"
      ]
     },
     "execution_count": 7,
     "metadata": {
      "tags": []
     },
     "output_type": "execute_result"
    }
   ],
   "source": [
    "type(squares)"
   ]
  },
  {
   "cell_type": "markdown",
   "metadata": {
    "colab_type": "text",
    "id": "3dtDT246smkd"
   },
   "source": [
    "The physical content of a list or a tuple consists of **object references** rather than actual objects:\n",
    "\n",
    "\n",
    "<img src=\"https://raw.githubusercontent.com/justinjiajia/img/master/python/list.png\" width=300 style=\"float: left; margin-bottom: 1.5em; margin-top: 1.5em; margin-right: 10%; \" /><img src=\"https://raw.githubusercontent.com/justinjiajia/img/master/python/tuple.png\" width=300 style=\"float: left; margin-top: 1.5em;\"/>"
   ]
  },
  {
   "cell_type": "markdown",
   "metadata": {
    "colab_type": "text",
    "id": "QFrNiiiesmkf"
   },
   "source": [
    "The elements of a list or a tuple can be of varying types:"
   ]
  },
  {
   "cell_type": "code",
   "execution_count": 0,
   "metadata": {
    "cell_style": "split",
    "colab": {},
    "colab_type": "code",
    "id": "Hn1NS5YOsmkf"
   },
   "outputs": [],
   "source": [
    "mixed_list = ['Mike', 1.83, True]"
   ]
  },
  {
   "cell_type": "code",
   "execution_count": 0,
   "metadata": {
    "cell_style": "split",
    "colab": {},
    "colab_type": "code",
    "id": "29MXB2h-hhGA"
   },
   "outputs": [],
   "source": [
    "mixed_tuple = ('spam', 2, False) "
   ]
  },
  {
   "cell_type": "markdown",
   "metadata": {
    "colab_type": "text",
    "id": "YTWf6R8psmkj"
   },
   "source": [
    "Both lists and tuples are ***nestable***:"
   ]
  },
  {
   "cell_type": "code",
   "execution_count": 4,
   "metadata": {
    "cell_style": "split"
   },
   "outputs": [
    {
     "data": {
      "text/plain": [
       "[['apple', 'orange', 'banana', 'mango'], [2.0, True]]"
      ]
     },
     "execution_count": 4,
     "metadata": {},
     "output_type": "execute_result"
    }
   ],
   "source": [
    "nested_list = [fruits, [2.0,  True]]\n",
    "nested_list"
   ]
  },
  {
   "cell_type": "code",
   "execution_count": 9,
   "metadata": {
    "cell_style": "split"
   },
   "outputs": [
    {
     "data": {
      "text/plain": [
       "((1, 4, 9, 16, 25), ('spam', 5), True)"
      ]
     },
     "execution_count": 9,
     "metadata": {},
     "output_type": "execute_result"
    }
   ],
   "source": [
    "nested_tuple = squares, ('spam', 5), True\n",
    "nested_tuple"
   ]
  },
  {
   "cell_type": "markdown",
   "metadata": {
    "colab_type": "text",
    "id": "z0H3Uk7Ysmkq"
   },
   "source": [
    "\n",
    "\n",
    "<img src=\"https://raw.githubusercontent.com/justinjiajia/img/master/python/nested_list.png\" width=320 style=\"float: left; margin-bottom: 1.5em; margin-top: 1.5em; margin-right: 10%; \"/><img src=\"https://raw.githubusercontent.com/justinjiajia/img/master/python/nested_tuple.png\" width=355 style=\"float: left; margin-top: 1.5em;\"/>"
   ]
  },
  {
   "cell_type": "markdown",
   "metadata": {
    "colab_type": "text",
    "id": "ze1Ovz_lsmk1"
   },
   "source": [
    "---\n",
    "## Indexing\n",
    "\n",
    "The elements of a list or a tuple can be indexed positionally in the same way as the characters in a string:"
   ]
  },
  {
   "cell_type": "code",
   "execution_count": 0,
   "metadata": {
    "cell_style": "center",
    "colab": {},
    "colab_type": "code",
    "id": "vcqYdEwtsmk2",
    "outputId": "f487737c-e64c-47fb-e097-fe4fe1a6cc2e"
   },
   "outputs": [
    {
     "data": {
      "text/plain": [
       "['apple', 'orange', 'banana', 'mango']"
      ]
     },
     "execution_count": 13,
     "metadata": {
      "tags": []
     },
     "output_type": "execute_result"
    }
   ],
   "source": [
    "fruits"
   ]
  },
  {
   "cell_type": "code",
   "execution_count": 14,
   "metadata": {},
   "outputs": [
    {
     "data": {
      "text/plain": [
       "'banana'"
      ]
     },
     "execution_count": 14,
     "metadata": {},
     "output_type": "execute_result"
    }
   ],
   "source": [
    "fruits[2]"
   ]
  },
  {
   "cell_type": "code",
   "execution_count": 0,
   "metadata": {
    "cell_style": "center",
    "colab": {},
    "colab_type": "code",
    "id": "H79kQ1Hqsmk-",
    "outputId": "c9c7b984-1e68-4039-e593-c637910c1a95"
   },
   "outputs": [
    {
     "data": {
      "text/plain": [
       "(1, 4, 9, 16, 25)"
      ]
     },
     "execution_count": 15,
     "metadata": {
      "tags": []
     },
     "output_type": "execute_result"
    }
   ],
   "source": [
    "squares"
   ]
  },
  {
   "cell_type": "code",
   "execution_count": 15,
   "metadata": {
    "cell_style": "split"
   },
   "outputs": [
    {
     "data": {
      "text/plain": [
       "16"
      ]
     },
     "execution_count": 15,
     "metadata": {},
     "output_type": "execute_result"
    }
   ],
   "source": [
    "squares[3]"
   ]
  },
  {
   "cell_type": "code",
   "execution_count": 16,
   "metadata": {
    "cell_style": "split"
   },
   "outputs": [
    {
     "data": {
      "text/plain": [
       "25"
      ]
     },
     "execution_count": 16,
     "metadata": {},
     "output_type": "execute_result"
    }
   ],
   "source": [
    "squares[-1]"
   ]
  },
  {
   "cell_type": "markdown",
   "metadata": {
    "colab_type": "text",
    "id": "csWHd3_vsmlS"
   },
   "source": [
    "Accessing items in a subsequence can be done by simply appending additional indicies:"
   ]
  },
  {
   "cell_type": "code",
   "execution_count": 0,
   "metadata": {
    "colab": {},
    "colab_type": "code",
    "id": "WraxiKVHsmlS",
    "outputId": "612d5743-5700-4588-a064-1c3de474f241"
   },
   "outputs": [
    {
     "data": {
      "text/plain": [
       "[['apple', 'orange', 'banana', 'mango'], [2.0, True]]"
      ]
     },
     "execution_count": 18,
     "metadata": {
      "tags": []
     },
     "output_type": "execute_result"
    }
   ],
   "source": [
    "nested_list"
   ]
  },
  {
   "cell_type": "code",
   "execution_count": 5,
   "metadata": {
    "cell_style": "split"
   },
   "outputs": [
    {
     "data": {
      "text/plain": [
       "['apple', 'orange', 'banana', 'mango']"
      ]
     },
     "execution_count": 5,
     "metadata": {},
     "output_type": "execute_result"
    }
   ],
   "source": [
    "nested_list[-2]"
   ]
  },
  {
   "cell_type": "code",
   "execution_count": 6,
   "metadata": {
    "cell_style": "split"
   },
   "outputs": [
    {
     "data": {
      "text/plain": [
       "'apple'"
      ]
     },
     "execution_count": 6,
     "metadata": {},
     "output_type": "execute_result"
    }
   ],
   "source": [
    "nested_list[-2][0]"
   ]
  },
  {
   "cell_type": "code",
   "execution_count": 10,
   "metadata": {
    "colab": {},
    "colab_type": "code",
    "id": "8Smo4Fx0smlb",
    "outputId": "d7eae647-b6ec-48b4-be38-3ceabce4fb7f"
   },
   "outputs": [
    {
     "data": {
      "text/plain": [
       "((1, 4, 9, 16, 25), ('spam', 5), True)"
      ]
     },
     "execution_count": 10,
     "metadata": {},
     "output_type": "execute_result"
    }
   ],
   "source": [
    "nested_tuple"
   ]
  },
  {
   "cell_type": "code",
   "execution_count": 17,
   "metadata": {
    "cell_style": "split"
   },
   "outputs": [
    {
     "data": {
      "text/plain": [
       "'spam'"
      ]
     },
     "execution_count": 17,
     "metadata": {},
     "output_type": "execute_result"
    }
   ],
   "source": [
    "nested_tuple[1][-2]"
   ]
  },
  {
   "cell_type": "code",
   "execution_count": null,
   "metadata": {
    "cell_style": "split"
   },
   "outputs": [],
   "source": [
    "nested_tuple[1][-2][3]"
   ]
  },
  {
   "cell_type": "markdown",
   "metadata": {
    "colab_type": "text",
    "id": "aoY4Si2gsmlr"
   },
   "source": [
    "**<font color='steelblue' > Question</font>**: What will be the result of `fruits[-2][3]`?"
   ]
  },
  {
   "cell_type": "code",
   "execution_count": null,
   "metadata": {},
   "outputs": [],
   "source": []
  },
  {
   "cell_type": "code",
   "execution_count": null,
   "metadata": {},
   "outputs": [],
   "source": []
  },
  {
   "cell_type": "markdown",
   "metadata": {
    "colab_type": "text",
    "id": "rZYCQRNfsmlx"
   },
   "source": [
    "---\n",
    "## Slicing"
   ]
  },
  {
   "cell_type": "markdown",
   "metadata": {
    "colab_type": "text",
    "id": "587E7kRZsmly"
   },
   "source": [
    "The slice operator also works with lists and tuples as it does with strings:"
   ]
  },
  {
   "cell_type": "code",
   "execution_count": 0,
   "metadata": {
    "cell_style": "split",
    "colab": {},
    "colab_type": "code",
    "id": "YPn1zK2RhhGq"
   },
   "outputs": [],
   "source": [
    "fruits[1:4]"
   ]
  },
  {
   "cell_type": "code",
   "execution_count": 0,
   "metadata": {
    "cell_style": "split",
    "colab": {},
    "colab_type": "code",
    "id": "B4E-L_eusml1"
   },
   "outputs": [],
   "source": [
    "fruits[:2]  # The slice starts at the beginning"
   ]
  },
  {
   "cell_type": "code",
   "execution_count": 0,
   "metadata": {
    "cell_style": "split",
    "colab": {},
    "colab_type": "code",
    "id": "nX8Fw3Q-sml6"
   },
   "outputs": [],
   "source": [
    "squares[-3:-2]"
   ]
  },
  {
   "cell_type": "code",
   "execution_count": 0,
   "metadata": {
    "cell_style": "split",
    "colab": {},
    "colab_type": "code",
    "id": "k9YODAiysml9"
   },
   "outputs": [],
   "source": [
    "squares[:]  # The slice goes to the end"
   ]
  },
  {
   "cell_type": "markdown",
   "metadata": {
    "colab_type": "text",
    "id": "TZhnqGj7smmB"
   },
   "source": [
    "---\n",
    "\n",
    "## Operations on a List or a Tuple\n",
    "\n",
    "Several Python operators and built-in functions can also be used with lists and tuples (in ways analogous to strings):\n",
    "\n",
    "- The `+` operator concatenates lists or tuples, while the `*` operator repeats a list or a tuple a given number of times:"
   ]
  },
  {
   "cell_type": "code",
   "execution_count": 0,
   "metadata": {
    "cell_style": "split",
    "colab": {},
    "colab_type": "code",
    "id": "hc8xrHnfsmmC",
    "outputId": "6a5e0aaf-0b99-44a5-aa50-17ea7663cbb8"
   },
   "outputs": [
    {
     "data": {
      "text/plain": [
       "['apple', 'orange', 'banana', 'mango', True]"
      ]
     },
     "execution_count": 27,
     "metadata": {
      "tags": []
     },
     "output_type": "execute_result"
    }
   ],
   "source": [
    "fruits + [True]"
   ]
  },
  {
   "cell_type": "code",
   "execution_count": 0,
   "metadata": {
    "cell_style": "split",
    "colab": {},
    "colab_type": "code",
    "id": "FFtynsAqsmmD",
    "outputId": "eb4b626e-2f86-4dbc-ac80-cf3e5de6397e"
   },
   "outputs": [
    {
     "data": {
      "text/plain": [
       "(1, 4, 9, 16, 25, 30, False)"
      ]
     },
     "execution_count": 28,
     "metadata": {
      "tags": []
     },
     "output_type": "execute_result"
    }
   ],
   "source": [
    "squares + (30, False)"
   ]
  },
  {
   "cell_type": "code",
   "execution_count": 80,
   "metadata": {
    "cell_style": "split",
    "colab": {},
    "colab_type": "code",
    "id": "32rTfa49smmF"
   },
   "outputs": [
    {
     "data": {
      "text/plain": [
       "[1, 2, 3, 1, 2, 3, 1, 2, 3]"
      ]
     },
     "execution_count": 80,
     "metadata": {},
     "output_type": "execute_result"
    }
   ],
   "source": [
    "[1, 2, 3] * 3"
   ]
  },
  {
   "cell_type": "code",
   "execution_count": 81,
   "metadata": {
    "cell_style": "split",
    "colab": {},
    "colab_type": "code",
    "id": "AHXuQLBzsmmH"
   },
   "outputs": [
    {
     "data": {
      "text/plain": [
       "('spam', 2, True, 'spam', 2, True)"
      ]
     },
     "execution_count": 81,
     "metadata": {},
     "output_type": "execute_result"
    }
   ],
   "source": [
    "('spam', 2, True) * 2"
   ]
  },
  {
   "cell_type": "markdown",
   "metadata": {
    "colab_type": "text",
    "id": "yLZuU-PSsmmJ"
   },
   "source": [
    "- The operators `in` and `not in` do membership tests and return `True` or `False`:"
   ]
  },
  {
   "cell_type": "code",
   "execution_count": 134,
   "metadata": {},
   "outputs": [
    {
     "data": {
      "text/plain": [
       "False"
      ]
     },
     "execution_count": 134,
     "metadata": {},
     "output_type": "execute_result"
    }
   ],
   "source": [
    "'spa' not in 'spam'"
   ]
  },
  {
   "cell_type": "code",
   "execution_count": 82,
   "metadata": {
    "cell_style": "split",
    "colab": {},
    "colab_type": "code",
    "id": "BQePVG6EsmmL"
   },
   "outputs": [
    {
     "data": {
      "text/plain": [
       "False"
      ]
     },
     "execution_count": 82,
     "metadata": {},
     "output_type": "execute_result"
    }
   ],
   "source": [
    "30 in fruits"
   ]
  },
  {
   "cell_type": "code",
   "execution_count": 0,
   "metadata": {
    "cell_style": "split",
    "colab": {},
    "colab_type": "code",
    "id": "btHhs599smmM"
   },
   "outputs": [],
   "source": [
    "'spa' not in ('spam', 2, True)"
   ]
  },
  {
   "cell_type": "markdown",
   "metadata": {
    "colab_type": "text",
    "id": "3Qg617cLsmmO"
   },
   "source": [
    "- These two sequence types also support comparisons (using `<`, `>`, `==`, `>=`, `<=`, and `!=`). In particular,  lists and tuples are compared lexicographically using comparison of corresponding elements:"
   ]
  },
  {
   "cell_type": "code",
   "execution_count": 0,
   "metadata": {
    "cell_style": "split",
    "colab": {},
    "colab_type": "code",
    "id": "Y9OrMvtesmmP",
    "outputId": "e26f24e1-ef23-48d4-aa6f-8370eaed24a2"
   },
   "outputs": [
    {
     "data": {
      "text/plain": [
       "False"
      ]
     },
     "execution_count": 30,
     "metadata": {
      "tags": []
     },
     "output_type": "execute_result"
    }
   ],
   "source": [
    "['Mike', 1.83, True] <= ['Mike', 1.80, False]"
   ]
  },
  {
   "cell_type": "code",
   "execution_count": 0,
   "metadata": {
    "cell_style": "split",
    "colab": {},
    "colab_type": "code",
    "id": "2X1sJUDfsmmS",
    "outputId": "85c9b196-01e8-41d6-8df3-a968321b6361"
   },
   "outputs": [
    {
     "data": {
      "text/plain": [
       "True"
      ]
     },
     "execution_count": 31,
     "metadata": {
      "tags": []
     },
     "output_type": "execute_result"
    }
   ],
   "source": [
    "('spam', 2, False) <= ('spam', 2, True)"
   ]
  },
  {
   "cell_type": "code",
   "execution_count": 0,
   "metadata": {
    "cell_style": "center",
    "colab": {},
    "colab_type": "code",
    "id": "fYIDLf5FsmmV",
    "outputId": "7994f8e1-cb5f-43f9-92fd-2fd83b736954"
   },
   "outputs": [
    {
     "data": {
      "text/plain": [
       "False"
      ]
     },
     "execution_count": 32,
     "metadata": {
      "tags": []
     },
     "output_type": "execute_result"
    }
   ],
   "source": [
    "['Mike', 1.83, True] <= ['Mike', 1.80]"
   ]
  },
  {
   "cell_type": "code",
   "execution_count": 0,
   "metadata": {
    "colab": {},
    "colab_type": "code",
    "id": "Imh00eHcsmmY",
    "outputId": "e33fdbfb-d61c-4ad8-9b30-9c9c9f13ba47"
   },
   "outputs": [
    {
     "ename": "TypeError",
     "evalue": "'<=' not supported between instances of 'int' and 'str'",
     "output_type": "error",
     "traceback": [
      "\u001b[1;31m---------------------------------------------------------------------------\u001b[0m",
      "\u001b[1;31mTypeError\u001b[0m                                 Traceback (most recent call last)",
      "\u001b[1;32m<ipython-input-40-2b55e777019b>\u001b[0m in \u001b[0;36m<module>\u001b[1;34m\u001b[0m\n\u001b[1;32m----> 1\u001b[1;33m \u001b[1;33m(\u001b[0m\u001b[1;34m'spam'\u001b[0m\u001b[1;33m,\u001b[0m \u001b[1;36m2\u001b[0m\u001b[1;33m,\u001b[0m \u001b[1;32mFalse\u001b[0m\u001b[1;33m)\u001b[0m \u001b[1;33m<=\u001b[0m \u001b[1;33m(\u001b[0m\u001b[1;34m'spam'\u001b[0m\u001b[1;33m,\u001b[0m \u001b[1;34m'2'\u001b[0m\u001b[1;33m,\u001b[0m \u001b[1;32mTrue\u001b[0m\u001b[1;33m)\u001b[0m\u001b[1;33m\u001b[0m\u001b[1;33m\u001b[0m\u001b[0m\n\u001b[0m",
      "\u001b[1;31mTypeError\u001b[0m: '<=' not supported between instances of 'int' and 'str'"
     ]
    }
   ],
   "source": [
    "('spam', 2, False) <= ('spam', '2', True)"
   ]
  },
  {
   "cell_type": "markdown",
   "metadata": {
    "colab_type": "text",
    "id": "ljaSPUeFsmmp"
   },
   "source": [
    "---\n",
    "## Built-in Functions\n",
    "\n",
    "- [`len()`](https://docs.python.org/3/library/functions.html#len) returns the number of elements in a list or a tuple:"
   ]
  },
  {
   "cell_type": "code",
   "execution_count": 0,
   "metadata": {
    "cell_style": "split",
    "colab": {},
    "colab_type": "code",
    "id": "COjAprS7smmq",
    "outputId": "adc1b95f-0a81-4d3f-9fec-abfd11dd7ba9"
   },
   "outputs": [
    {
     "data": {
      "text/plain": [
       "4"
      ]
     },
     "execution_count": 39,
     "metadata": {
      "tags": []
     },
     "output_type": "execute_result"
    }
   ],
   "source": [
    "len(fruits)"
   ]
  },
  {
   "cell_type": "code",
   "execution_count": 0,
   "metadata": {
    "cell_style": "split",
    "colab": {},
    "colab_type": "code",
    "id": "rBXAHpsfsmmt",
    "outputId": "b7e8b6ec-f44c-4ca2-89d8-f8a55e57501b"
   },
   "outputs": [
    {
     "data": {
      "text/plain": [
       "5"
      ]
     },
     "execution_count": 40,
     "metadata": {
      "tags": []
     },
     "output_type": "execute_result"
    }
   ],
   "source": [
    "len(squares)"
   ]
  },
  {
   "cell_type": "code",
   "execution_count": 0,
   "metadata": {
    "cell_style": "split",
    "colab": {},
    "colab_type": "code",
    "id": "oHxGJ5HFRWEn",
    "outputId": "60dc370a-782d-46c4-84de-f4f9ea7d62da"
   },
   "outputs": [
    {
     "data": {
      "text/plain": [
       "[['apple', 'orange', 'banana', 'mango'], [2.0, True]]"
      ]
     },
     "execution_count": 41,
     "metadata": {
      "tags": []
     },
     "output_type": "execute_result"
    }
   ],
   "source": [
    "nested_list"
   ]
  },
  {
   "cell_type": "code",
   "execution_count": 0,
   "metadata": {
    "cell_style": "split",
    "colab": {},
    "colab_type": "code",
    "id": "H7zrNw9fRWEp",
    "outputId": "137b30a4-ae3f-41dd-ecb6-4aacca9f34f1"
   },
   "outputs": [
    {
     "data": {
      "text/plain": [
       "((1, 4, 9, 16, 25), ('spam', 5), True)"
      ]
     },
     "execution_count": 43,
     "metadata": {
      "tags": []
     },
     "output_type": "execute_result"
    }
   ],
   "source": [
    "nested_tuple"
   ]
  },
  {
   "cell_type": "code",
   "execution_count": null,
   "metadata": {
    "cell_style": "split"
   },
   "outputs": [],
   "source": [
    "len(nested_list)"
   ]
  },
  {
   "cell_type": "code",
   "execution_count": null,
   "metadata": {
    "cell_style": "split"
   },
   "outputs": [],
   "source": [
    "len(nested_tuple)"
   ]
  },
  {
   "cell_type": "markdown",
   "metadata": {
    "colab_type": "text",
    "id": "_r8H9gbmsmmx"
   },
   "source": [
    "- [`max()`](https://docs.python.org/3/library/functions.html#max) ([`min()`](https://docs.python.org/3/library/functions.html#min)) returns the largest (smallest) element. Can work with elements of comparable types:"
   ]
  },
  {
   "cell_type": "code",
   "execution_count": 84,
   "metadata": {},
   "outputs": [
    {
     "data": {
      "text/plain": [
       "['apple', 'orange', 'banana', 'mango']"
      ]
     },
     "execution_count": 84,
     "metadata": {},
     "output_type": "execute_result"
    }
   ],
   "source": [
    "fruits"
   ]
  },
  {
   "cell_type": "code",
   "execution_count": 85,
   "metadata": {},
   "outputs": [
    {
     "data": {
      "text/plain": [
       "(1, 4, 9, 16, 25)"
      ]
     },
     "execution_count": 85,
     "metadata": {},
     "output_type": "execute_result"
    }
   ],
   "source": [
    "squares"
   ]
  },
  {
   "cell_type": "code",
   "execution_count": 18,
   "metadata": {
    "cell_style": "split",
    "colab": {},
    "colab_type": "code",
    "id": "JKqf-UzZsmmy",
    "outputId": "dab7bd15-c8b5-46e3-b5a0-81c305fda78a"
   },
   "outputs": [
    {
     "data": {
      "text/plain": [
       "'orange'"
      ]
     },
     "execution_count": 18,
     "metadata": {},
     "output_type": "execute_result"
    }
   ],
   "source": [
    "max(fruits)  # based on lexicographic order"
   ]
  },
  {
   "cell_type": "code",
   "execution_count": 0,
   "metadata": {
    "cell_style": "split",
    "colab": {},
    "colab_type": "code",
    "id": "T83bKfwAsmm0",
    "outputId": "f8ea3bd8-1b5a-4813-c4f4-6f19201a5faa"
   },
   "outputs": [
    {
     "data": {
      "text/plain": [
       "1"
      ]
     },
     "execution_count": 45,
     "metadata": {
      "tags": []
     },
     "output_type": "execute_result"
    }
   ],
   "source": [
    "min(squares)"
   ]
  },
  {
   "cell_type": "markdown",
   "metadata": {
    "colab_type": "text",
    "id": "1eKJ2S9Tsmm2"
   },
   "source": [
    "- [`sum()`](https://docs.python.org/3/library/functions.html#sum) returns the sum of all elements in a sequence. Can only work with numeric elements:"
   ]
  },
  {
   "cell_type": "code",
   "execution_count": 0,
   "metadata": {
    "cell_style": "split",
    "colab": {},
    "colab_type": "code",
    "id": "Ib2WG_0qsmm2",
    "outputId": "9df2ef8a-74d8-4a8d-b40a-e43a6afe498a"
   },
   "outputs": [
    {
     "data": {
      "text/plain": [
       "55"
      ]
     },
     "execution_count": 46,
     "metadata": {
      "tags": []
     },
     "output_type": "execute_result"
    }
   ],
   "source": [
    "sum(squares)"
   ]
  },
  {
   "cell_type": "code",
   "execution_count": 0,
   "metadata": {
    "cell_style": "split",
    "colab": {},
    "colab_type": "code",
    "id": "7TL7PE1esmm4",
    "outputId": "648393db-4e8f-43f4-b8bc-bae5ff30437d"
   },
   "outputs": [
    {
     "ename": "TypeError",
     "evalue": "unsupported operand type(s) for +: 'int' and 'str'",
     "output_type": "error",
     "traceback": [
      "\u001b[1;31m---------------------------------------------------------------------------\u001b[0m",
      "\u001b[1;31mTypeError\u001b[0m                                 Traceback (most recent call last)",
      "\u001b[1;32m<ipython-input-47-42ba78dc6ca7>\u001b[0m in \u001b[0;36m<module>\u001b[1;34m\u001b[0m\n\u001b[1;32m----> 1\u001b[1;33m \u001b[0msum\u001b[0m\u001b[1;33m(\u001b[0m\u001b[0mfruits\u001b[0m\u001b[1;33m)\u001b[0m\u001b[1;33m\u001b[0m\u001b[1;33m\u001b[0m\u001b[0m\n\u001b[0m",
      "\u001b[1;31mTypeError\u001b[0m: unsupported operand type(s) for +: 'int' and 'str'"
     ]
    }
   ],
   "source": [
    "sum(fruits)"
   ]
  },
  {
   "cell_type": "markdown",
   "metadata": {
    "colab_type": "text",
    "id": "0OAW-rrpsmnA"
   },
   "source": [
    "\n",
    "---\n",
    "## Built-in Methods\n",
    "\n",
    "- `s.index(x[, i[, j]])` returns index of the first occurrence of `x` in `s` (at or after index `i` and before index `j`):"
   ]
  },
  {
   "cell_type": "code",
   "execution_count": 86,
   "metadata": {
    "cell_style": "split",
    "colab": {},
    "colab_type": "code",
    "id": "Gp60RjjpsmnB",
    "outputId": "bb1c268f-234a-4503-cc23-46ad509eb34c"
   },
   "outputs": [
    {
     "data": {
      "text/plain": [
       "['Mike', 1.83, True, 'Mike', 1.83, True]"
      ]
     },
     "execution_count": 86,
     "metadata": {},
     "output_type": "execute_result"
    }
   ],
   "source": [
    "repeated_list = ['Mike', 1.83, True] * 2\n",
    "repeated_list"
   ]
  },
  {
   "cell_type": "code",
   "execution_count": 89,
   "metadata": {
    "cell_style": "split",
    "colab": {},
    "colab_type": "code",
    "id": "KDAWbqFGsmnD",
    "outputId": "bc31610a-3b49-4de4-e5c9-a6b518c741c2"
   },
   "outputs": [
    {
     "data": {
      "text/plain": [
       "('spam', 2, True, 'spam', 2, True, 'spam', 2, True)"
      ]
     },
     "execution_count": 89,
     "metadata": {},
     "output_type": "execute_result"
    }
   ],
   "source": [
    "repeated_tuple = ('spam', 2, True) * 3\n",
    "repeated_tuple"
   ]
  },
  {
   "cell_type": "code",
   "execution_count": 0,
   "metadata": {
    "cell_style": "split",
    "colab": {},
    "colab_type": "code",
    "id": "AMSdOJjdsmnC"
   },
   "outputs": [],
   "source": [
    "repeated_list.index(True, 3)"
   ]
  },
  {
   "cell_type": "code",
   "execution_count": 0,
   "metadata": {
    "cell_style": "split",
    "colab": {},
    "colab_type": "code",
    "id": "dHso_HLZsmnE"
   },
   "outputs": [],
   "source": [
    "repeated_tuple.index('spam', 1, 4)"
   ]
  },
  {
   "cell_type": "markdown",
   "metadata": {
    "colab_type": "text",
    "id": "5x8cgt8lsmnH"
   },
   "source": [
    "- `s.count(x)` returns the total number of occurrences of `x` in `s`:"
   ]
  },
  {
   "cell_type": "code",
   "execution_count": 87,
   "metadata": {
    "cell_style": "split",
    "colab": {},
    "colab_type": "code",
    "id": "Mcz91bqtsmnH"
   },
   "outputs": [
    {
     "data": {
      "text/plain": [
       "2"
      ]
     },
     "execution_count": 87,
     "metadata": {},
     "output_type": "execute_result"
    }
   ],
   "source": [
    "repeated_list.count(True)"
   ]
  },
  {
   "cell_type": "code",
   "execution_count": 90,
   "metadata": {
    "cell_style": "split",
    "colab": {},
    "colab_type": "code",
    "id": "ucU9eHnPlV2K"
   },
   "outputs": [
    {
     "data": {
      "text/plain": [
       "3"
      ]
     },
     "execution_count": 90,
     "metadata": {},
     "output_type": "execute_result"
    }
   ],
   "source": [
    "repeated_tuple.count('spam')"
   ]
  },
  {
   "cell_type": "markdown",
   "metadata": {
    "colab_type": "text",
    "id": "IENczqRvsmnM"
   },
   "source": [
    "- Use `dir()` to display all the names accessible to a list or a tuple:"
   ]
  },
  {
   "cell_type": "code",
   "execution_count": 0,
   "metadata": {
    "cell_style": "split",
    "colab": {},
    "colab_type": "code",
    "id": "ncU4VkdUsmnO",
    "outputId": "02316637-3c75-4c00-9701-cd1f7108441a"
   },
   "outputs": [
    {
     "data": {
      "text/plain": [
       "['__add__',\n",
       " '__class__',\n",
       " '__contains__',\n",
       " '__delattr__',\n",
       " '__delitem__',\n",
       " '__dir__',\n",
       " '__doc__',\n",
       " '__eq__',\n",
       " '__format__',\n",
       " '__ge__',\n",
       " '__getattribute__',\n",
       " '__getitem__',\n",
       " '__gt__',\n",
       " '__hash__',\n",
       " '__iadd__',\n",
       " '__imul__',\n",
       " '__init__',\n",
       " '__init_subclass__',\n",
       " '__iter__',\n",
       " '__le__',\n",
       " '__len__',\n",
       " '__lt__',\n",
       " '__mul__',\n",
       " '__ne__',\n",
       " '__new__',\n",
       " '__reduce__',\n",
       " '__reduce_ex__',\n",
       " '__repr__',\n",
       " '__reversed__',\n",
       " '__rmul__',\n",
       " '__setattr__',\n",
       " '__setitem__',\n",
       " '__sizeof__',\n",
       " '__str__',\n",
       " '__subclasshook__',\n",
       " 'append',\n",
       " 'clear',\n",
       " 'copy',\n",
       " 'count',\n",
       " 'extend',\n",
       " 'index',\n",
       " 'insert',\n",
       " 'pop',\n",
       " 'remove',\n",
       " 'reverse',\n",
       " 'sort']"
      ]
     },
     "execution_count": 48,
     "metadata": {
      "tags": []
     },
     "output_type": "execute_result"
    }
   ],
   "source": [
    "dir(repeated_list)"
   ]
  },
  {
   "cell_type": "code",
   "execution_count": 0,
   "metadata": {
    "cell_style": "split",
    "colab": {},
    "colab_type": "code",
    "id": "gqBPp6GrsmnQ",
    "outputId": "33dd581b-0072-4e13-ecaf-4893e22cf400"
   },
   "outputs": [
    {
     "data": {
      "text/plain": [
       "['__add__',\n",
       " '__class__',\n",
       " '__contains__',\n",
       " '__delattr__',\n",
       " '__dir__',\n",
       " '__doc__',\n",
       " '__eq__',\n",
       " '__format__',\n",
       " '__ge__',\n",
       " '__getattribute__',\n",
       " '__getitem__',\n",
       " '__getnewargs__',\n",
       " '__gt__',\n",
       " '__hash__',\n",
       " '__init__',\n",
       " '__init_subclass__',\n",
       " '__iter__',\n",
       " '__le__',\n",
       " '__len__',\n",
       " '__lt__',\n",
       " '__mul__',\n",
       " '__ne__',\n",
       " '__new__',\n",
       " '__reduce__',\n",
       " '__reduce_ex__',\n",
       " '__repr__',\n",
       " '__rmul__',\n",
       " '__setattr__',\n",
       " '__sizeof__',\n",
       " '__str__',\n",
       " '__subclasshook__',\n",
       " 'count',\n",
       " 'index']"
      ]
     },
     "execution_count": 49,
     "metadata": {
      "tags": []
     },
     "output_type": "execute_result"
    }
   ],
   "source": [
    "dir(repeated_tuple)"
   ]
  },
  {
   "cell_type": "markdown",
   "metadata": {
    "colab_type": "text",
    "id": "0EL2_EU3smnS"
   },
   "source": [
    "---\n",
    "## Lists are Mutable\n",
    "\n",
    "Once a list is created, elements can be added, deleted, shifted, and moved around at will. \n",
    "\n",
    "We can use indexing or slicing on the left side of an assignment to identify the elements to be modified:"
   ]
  },
  {
   "cell_type": "code",
   "execution_count": 91,
   "metadata": {
    "colab": {},
    "colab_type": "code",
    "id": "2RPSofPXsmnS",
    "outputId": "ae50167b-9486-4cf2-a111-76a01f37fd36"
   },
   "outputs": [
    {
     "data": {
      "text/plain": [
       "['apple', 'orange', 'banana', 'mango']"
      ]
     },
     "execution_count": 91,
     "metadata": {},
     "output_type": "execute_result"
    }
   ],
   "source": [
    "fruits = ['apple', 'orange', 'banana', 'mango']\n",
    "fruits "
   ]
  },
  {
   "cell_type": "code",
   "execution_count": 92,
   "metadata": {
    "colab": {},
    "colab_type": "code",
    "id": "8RtdapZTsmnU",
    "outputId": "ad198130-c6a9-4362-ad66-93dece7e289c"
   },
   "outputs": [
    {
     "data": {
      "text/plain": [
       "['apple', 'melon', 'banana', 'mango']"
      ]
     },
     "execution_count": 92,
     "metadata": {},
     "output_type": "execute_result"
    }
   ],
   "source": [
    "fruits[1] = 'melon'                 # item assignment\n",
    "fruits"
   ]
  },
  {
   "cell_type": "markdown",
   "metadata": {
    "colab_type": "text",
    "id": "v7YAXktSsmnX"
   },
   "source": [
    "<img src=\"https://raw.githubusercontent.com/justinjiajia/img/master/python/list_v1.png\" width=280/>"
   ]
  },
  {
   "cell_type": "code",
   "execution_count": 26,
   "metadata": {},
   "outputs": [
    {
     "data": {
      "text/plain": [
       "['apple', 'orange', 'strawberry', 'mango']"
      ]
     },
     "execution_count": 26,
     "metadata": {},
     "output_type": "execute_result"
    }
   ],
   "source": [
    "fruits[1:3] = ['orange', 'strawberry']   # slice assignment\n",
    "fruits"
   ]
  },
  {
   "cell_type": "markdown",
   "metadata": {},
   "source": [
    "The number of elements inserted need not be equal to the number replaced. Python just grows or shrinks the list as needed. "
   ]
  },
  {
   "cell_type": "code",
   "execution_count": 28,
   "metadata": {},
   "outputs": [
    {
     "data": {
      "text/plain": [
       "['apple', 'melon', 'banana', 'pear', 'strawberry', 'mango']"
      ]
     },
     "execution_count": 28,
     "metadata": {},
     "output_type": "execute_result"
    }
   ],
   "source": [
    "fruits[1:2] = ['melon', 'banana', 'pear']    \n",
    "fruits"
   ]
  },
  {
   "cell_type": "markdown",
   "metadata": {},
   "source": [
    " We can delete elements out of the list by assigning an empty list to an appropriate slice:"
   ]
  },
  {
   "cell_type": "code",
   "execution_count": 29,
   "metadata": {},
   "outputs": [
    {
     "data": {
      "text/plain": [
       "['apple', 'melon', 'banana', 'mango']"
      ]
     },
     "execution_count": 29,
     "metadata": {},
     "output_type": "execute_result"
    }
   ],
   "source": [
    "fruits[3:5] = []\n",
    "fruits"
   ]
  },
  {
   "cell_type": "markdown",
   "metadata": {
    "colab_type": "text",
    "id": "ReXqoLWzsmnX"
   },
   "source": [
    "\n",
    "\n",
    "Consider the following **slice assignment**:"
   ]
  },
  {
   "cell_type": "code",
   "execution_count": 159,
   "metadata": {},
   "outputs": [
    {
     "data": {
      "text/plain": [
       "[]"
      ]
     },
     "execution_count": 159,
     "metadata": {},
     "output_type": "execute_result"
    }
   ],
   "source": [
    "fruits[1:1]      # extract a zero-length slice right before the 2nd element"
   ]
  },
  {
   "cell_type": "code",
   "execution_count": 93,
   "metadata": {},
   "outputs": [
    {
     "data": {
      "text/plain": [
       "['apple', 'peach', 'lemon', 'melon', 'banana', 'mango']"
      ]
     },
     "execution_count": 93,
     "metadata": {},
     "output_type": "execute_result"
    }
   ],
   "source": [
    "# replace this zero-length slice with a new sequence; no actual replacement takes place\n",
    "fruits[1:1] = ['peach', 'lemon']    \n",
    "fruits  "
   ]
  },
  {
   "cell_type": "markdown",
   "metadata": {},
   "source": [
    "<img src=\"https://raw.githubusercontent.com/justinjiajia/img/master/python/slice_assignment.png\" width=620/>\n",
    "\n"
   ]
  },
  {
   "cell_type": "markdown",
   "metadata": {
    "colab_type": "text",
    "id": "Qc687JeHsmnv"
   },
   "source": [
    "List elements can also be deleted with [the `del` statement](https://docs.python.org/3/reference/simple_stmts.html#del):"
   ]
  },
  {
   "cell_type": "code",
   "execution_count": 94,
   "metadata": {
    "colab": {},
    "colab_type": "code",
    "id": "LNrXQbj5smnw"
   },
   "outputs": [],
   "source": [
    "del fruits[2:] "
   ]
  },
  {
   "cell_type": "code",
   "execution_count": 95,
   "metadata": {
    "colab": {},
    "colab_type": "code",
    "id": "8Xjzu9GDRWFt"
   },
   "outputs": [
    {
     "data": {
      "text/plain": [
       "['apple', 'peach']"
      ]
     },
     "execution_count": 95,
     "metadata": {},
     "output_type": "execute_result"
    }
   ],
   "source": [
    "fruits"
   ]
  },
  {
   "cell_type": "code",
   "execution_count": 96,
   "metadata": {},
   "outputs": [
    {
     "data": {
      "text/plain": [
       "['apple', ['cherry', 'plum']]"
      ]
     },
     "execution_count": 96,
     "metadata": {},
     "output_type": "execute_result"
    }
   ],
   "source": [
    "# slot a sequence into a single position; it is kept as a subsquence in the result\n",
    "fruits[-1] = ['cherry', 'plum']   \n",
    "fruits"
   ]
  },
  {
   "cell_type": "markdown",
   "metadata": {
    "colab_type": "text",
    "id": "pTMyUNaPsmny"
   },
   "source": [
    "---\n",
    "## Tuples are Immutable"
   ]
  },
  {
   "cell_type": "code",
   "execution_count": 0,
   "metadata": {
    "colab": {},
    "colab_type": "code",
    "id": "NJOSNasCsmny",
    "outputId": "e3ecee7a-236a-4c72-9a92-79ddc85aadda",
    "scrolled": true
   },
   "outputs": [
    {
     "ename": "TypeError",
     "evalue": "'tuple' object does not support item assignment",
     "output_type": "error",
     "traceback": [
      "\u001b[1;31m---------------------------------------------------------------------------\u001b[0m",
      "\u001b[1;31mTypeError\u001b[0m                                 Traceback (most recent call last)",
      "\u001b[1;32m<ipython-input-58-4891aef20299>\u001b[0m in \u001b[0;36m<module>\u001b[1;34m\u001b[0m\n\u001b[1;32m----> 1\u001b[1;33m \u001b[0msquares\u001b[0m\u001b[1;33m[\u001b[0m\u001b[1;36m2\u001b[0m\u001b[1;33m]\u001b[0m \u001b[1;33m=\u001b[0m \u001b[1;36m3\u001b[0m\u001b[1;33m\u001b[0m\u001b[1;33m\u001b[0m\u001b[0m\n\u001b[0m",
      "\u001b[1;31mTypeError\u001b[0m: 'tuple' object does not support item assignment"
     ]
    }
   ],
   "source": [
    "squares[2] = 3"
   ]
  },
  {
   "cell_type": "markdown",
   "metadata": {
    "colab_type": "text",
    "id": "28PTFjVAsmn5"
   },
   "source": [
    "---\n",
    "## What is Immutable, Really?"
   ]
  },
  {
   "cell_type": "code",
   "execution_count": 97,
   "metadata": {
    "colab": {},
    "colab_type": "code",
    "id": "0G_CCmuJsmn5"
   },
   "outputs": [],
   "source": [
    "student = ('Bob', 19, ['R', 'VBA', 'SQL'])"
   ]
  },
  {
   "cell_type": "code",
   "execution_count": 98,
   "metadata": {
    "colab": {},
    "colab_type": "code",
    "id": "pinf3nu1smn7"
   },
   "outputs": [],
   "source": [
    "skills = student[2]"
   ]
  },
  {
   "cell_type": "code",
   "execution_count": 99,
   "metadata": {
    "colab": {},
    "colab_type": "code",
    "id": "_NtNkXDvsmn8"
   },
   "outputs": [],
   "source": [
    "skills[3:] = ['Python']  # The value of the list changes"
   ]
  },
  {
   "cell_type": "code",
   "execution_count": 135,
   "metadata": {},
   "outputs": [
    {
     "data": {
      "text/plain": [
       "('Bob', 19, ['R', 'VBA', 'SQL', 'Python'])"
      ]
     },
     "execution_count": 135,
     "metadata": {},
     "output_type": "execute_result"
    }
   ],
   "source": [
    "student        # The value of the tuple changes accordingly. Isn't a tuple immutable?"
   ]
  },
  {
   "cell_type": "markdown",
   "metadata": {},
   "source": [
    "If any comparison fails, the entire sort will fail:"
   ]
  },
  {
   "cell_type": "markdown",
   "metadata": {
    "colab_type": "text",
    "id": "82j96YMXsmn_"
   },
   "source": [
    "<div style=\"float: left; margin-right: 5%; margin-left: 1%;\">Stage 1:<br>                                                         \n",
    "<img src=\"https://raw.githubusercontent.com/justinjiajia/img/master/python/immutable_tuple_v1.png\" width=320 />\n",
    "</div>\n",
    "<div style=\"float: left;\">Stage 2: <br>\n",
    "<img src=\"https://raw.githubusercontent.com/justinjiajia/img/master/python/immutable_tuple_v2.png\" width=337 /></div>\n",
    "\n",
    " \n",
    "\n"
   ]
  },
  {
   "cell_type": "markdown",
   "metadata": {},
   "source": [
    "What is immutable is the physical content of a tuple, consisting of the **object references** only.\n",
    "\n",
    "\n",
    "---\n",
    "## Conversions\n",
    "\n",
    "We can convert between the different sequence types easily by using the type functions (e.g., `list()` and `tuple()`) to cast sequences to the desired types:"
   ]
  },
  {
   "cell_type": "code",
   "execution_count": 103,
   "metadata": {
    "cell_style": "split",
    "colab": {},
    "colab_type": "code",
    "id": "JG8OCZoJsmpJ"
   },
   "outputs": [
    {
     "data": {
      "text/plain": [
       "[1, 4, 9, 16, 25]"
      ]
     },
     "execution_count": 103,
     "metadata": {},
     "output_type": "execute_result"
    }
   ],
   "source": [
    "list((1, 4, 9, 16, 25))"
   ]
  },
  {
   "cell_type": "code",
   "execution_count": 104,
   "metadata": {
    "cell_style": "split",
    "colab": {},
    "colab_type": "code",
    "id": "vrngCHCQsmpK"
   },
   "outputs": [
    {
     "data": {
      "text/plain": [
       "['s', 't', 'r', 'i', 'n', 'g']"
      ]
     },
     "execution_count": 104,
     "metadata": {},
     "output_type": "execute_result"
    }
   ],
   "source": [
    "list('string')"
   ]
  },
  {
   "cell_type": "code",
   "execution_count": 105,
   "metadata": {
    "cell_style": "split",
    "colab": {},
    "colab_type": "code",
    "id": "3MCjdaRSsmpL"
   },
   "outputs": [
    {
     "data": {
      "text/plain": [
       "('apple', 'orange', 'banana', 'mango')"
      ]
     },
     "execution_count": 105,
     "metadata": {},
     "output_type": "execute_result"
    }
   ],
   "source": [
    "tuple(['apple', 'orange', 'banana', 'mango'])"
   ]
  },
  {
   "cell_type": "code",
   "execution_count": 106,
   "metadata": {
    "cell_style": "split",
    "colab": {},
    "colab_type": "code",
    "id": "rzYFzfK1smpM"
   },
   "outputs": [
    {
     "data": {
      "text/plain": [
       "('P', 'y', 't', 'h', 'o', 'n')"
      ]
     },
     "execution_count": 106,
     "metadata": {},
     "output_type": "execute_result"
    }
   ],
   "source": [
    "tuple('Python')"
   ]
  },
  {
   "cell_type": "markdown",
   "metadata": {
    "colab_type": "text",
    "id": "iW6GH28LsmpN"
   },
   "source": [
    "<div class='alert alert-info'>Type functions are actually constructors of objects of the corresponding types, and are also called factory functions.</div>\n",
    "\n",
    "Calling a type function without an argument constructs an empty object of the corresponding type:"
   ]
  },
  {
   "cell_type": "code",
   "execution_count": 107,
   "metadata": {
    "cell_style": "split",
    "colab": {},
    "colab_type": "code",
    "id": "ABF1zwFzsmpP"
   },
   "outputs": [
    {
     "data": {
      "text/plain": [
       "[]"
      ]
     },
     "execution_count": 107,
     "metadata": {},
     "output_type": "execute_result"
    }
   ],
   "source": [
    "list()"
   ]
  },
  {
   "cell_type": "code",
   "execution_count": 108,
   "metadata": {
    "cell_style": "split",
    "colab": {},
    "colab_type": "code",
    "id": "eqFZ52SLsmpP"
   },
   "outputs": [
    {
     "data": {
      "text/plain": [
       "()"
      ]
     },
     "execution_count": 108,
     "metadata": {},
     "output_type": "execute_result"
    }
   ],
   "source": [
    "tuple()"
   ]
  },
  {
   "cell_type": "markdown",
   "metadata": {
    "colab_type": "text",
    "id": "hvy1lI7tsmoA"
   },
   "source": [
    "\n",
    "---\n",
    "## Methods That Modify a List\n",
    "\n",
    "Python provides several built-in methods that can be used to modify lists:\n",
    "\n",
    "- `pop(index=-1)` takes the index of an element, and remove the element from the list. It returns the element that was removed:\n"
   ]
  },
  {
   "cell_type": "code",
   "execution_count": 138,
   "metadata": {},
   "outputs": [],
   "source": [
    "fruits = ['apple', 'peach', 'lemon', 'melon']"
   ]
  },
  {
   "cell_type": "code",
   "execution_count": 139,
   "metadata": {
    "colab": {},
    "colab_type": "code",
    "id": "yu2QefxzRWGE",
    "outputId": "a87facca-2ce4-4ef0-ae18-e7ba860cfdcc"
   },
   "outputs": [
    {
     "data": {
      "text/plain": [
       "'lemon'"
      ]
     },
     "execution_count": 139,
     "metadata": {},
     "output_type": "execute_result"
    }
   ],
   "source": [
    "fruits.pop(2)  # can be assigned to a variable"
   ]
  },
  {
   "cell_type": "code",
   "execution_count": 140,
   "metadata": {
    "cell_style": "center",
    "colab": {},
    "colab_type": "code",
    "id": "nSM1wKu-smoE",
    "outputId": "3ac8ec86-0168-4d3f-bc56-c25719009c00"
   },
   "outputs": [
    {
     "data": {
      "text/plain": [
       "['apple', 'peach', 'melon']"
      ]
     },
     "execution_count": 140,
     "metadata": {},
     "output_type": "execute_result"
    }
   ],
   "source": [
    "fruits"
   ]
  },
  {
   "cell_type": "code",
   "execution_count": 141,
   "metadata": {
    "colab": {},
    "colab_type": "code",
    "id": "WlcJ7yMKRWGH",
    "outputId": "aee3af44-561c-4c52-c4f9-16ea7e4a9666"
   },
   "outputs": [],
   "source": [
    "apple = fruits.pop(-3)"
   ]
  },
  {
   "cell_type": "code",
   "execution_count": 142,
   "metadata": {},
   "outputs": [
    {
     "data": {
      "text/plain": [
       "'apple'"
      ]
     },
     "execution_count": 142,
     "metadata": {},
     "output_type": "execute_result"
    }
   ],
   "source": [
    "apple"
   ]
  },
  {
   "cell_type": "code",
   "execution_count": 143,
   "metadata": {
    "cell_style": "center",
    "colab": {},
    "colab_type": "code",
    "id": "wEz2HmLdsmoH",
    "outputId": "2af8595e-68c0-438b-a5c4-3ec9234471f7"
   },
   "outputs": [
    {
     "data": {
      "text/plain": [
       "['peach', 'melon']"
      ]
     },
     "execution_count": 143,
     "metadata": {},
     "output_type": "execute_result"
    }
   ],
   "source": [
    "fruits"
   ]
  },
  {
   "cell_type": "markdown",
   "metadata": {
    "colab_type": "text",
    "id": "Oj8EpH73smoI"
   },
   "source": [
    "**<font color='steelblue' >Question</font>**: How can we achieve the same goal by using item/slice assignments instead?"
   ]
  },
  {
   "cell_type": "code",
   "execution_count": 0,
   "metadata": {
    "colab": {},
    "colab_type": "code",
    "id": "P_IqRLDERWGK"
   },
   "outputs": [],
   "source": [
    "fruits = ['apple', 'peach', 'lemon', 'melon']"
   ]
  },
  {
   "cell_type": "code",
   "execution_count": 0,
   "metadata": {
    "colab": {},
    "colab_type": "code",
    "id": "L8P2NTvDsmoJ"
   },
   "outputs": [],
   "source": [
    "    "
   ]
  },
  {
   "cell_type": "markdown",
   "metadata": {
    "colab_type": "text",
    "id": "hiifCfV7smoJ"
   },
   "source": [
    "- `insert(index, object)` takes an element and insert it at a particular index. The return value is `None` (this applies to all following methods unless explicitly mentioned):"
   ]
  },
  {
   "cell_type": "code",
   "execution_count": 146,
   "metadata": {},
   "outputs": [],
   "source": [
    "fruits = ['peach', 'melon']"
   ]
  },
  {
   "cell_type": "code",
   "execution_count": 147,
   "metadata": {},
   "outputs": [],
   "source": [
    "fruits.insert(2, 'peach')"
   ]
  },
  {
   "cell_type": "code",
   "execution_count": 148,
   "metadata": {},
   "outputs": [
    {
     "data": {
      "text/plain": [
       "['peach', 'melon', 'peach']"
      ]
     },
     "execution_count": 148,
     "metadata": {},
     "output_type": "execute_result"
    }
   ],
   "source": [
    "fruits"
   ]
  },
  {
   "cell_type": "code",
   "execution_count": 149,
   "metadata": {},
   "outputs": [
    {
     "data": {
      "text/plain": [
       "['peach', 'melon', ['olive', 'banana'], 'peach']"
      ]
     },
     "execution_count": 149,
     "metadata": {},
     "output_type": "execute_result"
    }
   ],
   "source": [
    "fruits.insert(2, ['olive', 'banana']); fruits"
   ]
  },
  {
   "cell_type": "markdown",
   "metadata": {
    "colab_type": "text",
    "id": "1tjmxN0CsmoO"
   },
   "source": [
    "- `remove(value)` takes an element and remove its 1st occurence:"
   ]
  },
  {
   "cell_type": "code",
   "execution_count": 150,
   "metadata": {
    "colab": {},
    "colab_type": "code",
    "id": "uF7SnWnYsmoP",
    "outputId": "eff328fd-9778-4ef0-9893-558dc0d737e2"
   },
   "outputs": [],
   "source": [
    "fruits.remove('peach');"
   ]
  },
  {
   "cell_type": "code",
   "execution_count": 151,
   "metadata": {},
   "outputs": [
    {
     "data": {
      "text/plain": [
       "['melon', ['olive', 'banana'], 'peach']"
      ]
     },
     "execution_count": 151,
     "metadata": {},
     "output_type": "execute_result"
    }
   ],
   "source": [
    " fruits"
   ]
  },
  {
   "cell_type": "code",
   "execution_count": 152,
   "metadata": {
    "colab": {},
    "colab_type": "code",
    "id": "g3eE6exgsmoP",
    "outputId": "61535c01-0c6f-4d20-be75-f99df4713b17"
   },
   "outputs": [
    {
     "data": {
      "text/plain": [
       "['melon', 'peach']"
      ]
     },
     "execution_count": 152,
     "metadata": {},
     "output_type": "execute_result"
    }
   ],
   "source": [
    "fruits.remove(['olive', 'banana']); fruits"
   ]
  },
  {
   "cell_type": "code",
   "execution_count": 153,
   "metadata": {
    "colab": {},
    "colab_type": "code",
    "id": "uymKme7hsmoQ",
    "outputId": "f7201232-3458-4900-b532-1c5111b23b6a",
    "scrolled": true
   },
   "outputs": [
    {
     "ename": "ValueError",
     "evalue": "list.remove(x): x not in list",
     "output_type": "error",
     "traceback": [
      "\u001b[1;31m---------------------------------------------------------------------------\u001b[0m",
      "\u001b[1;31mValueError\u001b[0m                                Traceback (most recent call last)",
      "\u001b[1;32m<ipython-input-153-92fac548c4f5>\u001b[0m in \u001b[0;36m<module>\u001b[1;34m\u001b[0m\n\u001b[1;32m----> 1\u001b[1;33m \u001b[0mfruits\u001b[0m\u001b[1;33m.\u001b[0m\u001b[0mremove\u001b[0m\u001b[1;33m(\u001b[0m\u001b[1;34m'strawberry'\u001b[0m\u001b[1;33m)\u001b[0m  \u001b[1;31m# Removing a non-existing elememt throws an error\u001b[0m\u001b[1;33m\u001b[0m\u001b[1;33m\u001b[0m\u001b[0m\n\u001b[0m",
      "\u001b[1;31mValueError\u001b[0m: list.remove(x): x not in list"
     ]
    }
   ],
   "source": [
    "fruits.remove('strawberry')  # Removing a non-existing elememt throws an error"
   ]
  },
  {
   "cell_type": "markdown",
   "metadata": {
    "colab_type": "text",
    "id": "bJnGg1yHsmoS"
   },
   "source": [
    "- `append(object)` takes an element and adds it to the end of a list:"
   ]
  },
  {
   "cell_type": "code",
   "execution_count": 53,
   "metadata": {
    "colab": {},
    "colab_type": "code",
    "id": "uy-RHLUZsmoS",
    "outputId": "d74e968b-cf22-4be0-b866-8a328e9e899c"
   },
   "outputs": [
    {
     "data": {
      "text/plain": [
       "['melon', 'peach', 'plum']"
      ]
     },
     "execution_count": 53,
     "metadata": {},
     "output_type": "execute_result"
    }
   ],
   "source": [
    "fruits.append('plum'); fruits"
   ]
  },
  {
   "cell_type": "code",
   "execution_count": 54,
   "metadata": {
    "colab": {},
    "colab_type": "code",
    "id": "odLc1XYVsmoU",
    "outputId": "e1816e81-f4b1-4c82-e734-3f1445f1f3cb"
   },
   "outputs": [
    {
     "data": {
      "text/plain": [
       "['melon', 'peach', 'plum', ['litchi', 'banana']]"
      ]
     },
     "execution_count": 54,
     "metadata": {},
     "output_type": "execute_result"
    }
   ],
   "source": [
    "fruits.append(['litchi', 'banana']); fruits"
   ]
  },
  {
   "cell_type": "markdown",
   "metadata": {
    "colab_type": "text",
    "id": "uXODNIHEsmoW"
   },
   "source": [
    "- `extend(iterable)` takes an iterable and appends all of its elements:"
   ]
  },
  {
   "cell_type": "code",
   "execution_count": 40,
   "metadata": {
    "colab": {},
    "colab_type": "code",
    "id": "_iNN8MNgsmoW",
    "outputId": "fa430782-1294-4aef-e93c-7e258455818a"
   },
   "outputs": [
    {
     "data": {
      "text/plain": [
       "['apple', 'peach', 'plum', ['litchi', 'banana'], 'orange', 'mango']"
      ]
     },
     "execution_count": 40,
     "metadata": {},
     "output_type": "execute_result"
    }
   ],
   "source": [
    "fruits.extend(['orange', 'mango'])  # equivalent to fruits = fruits + ['orange', 'mango']\n",
    "fruits"
   ]
  },
  {
   "cell_type": "code",
   "execution_count": null,
   "metadata": {},
   "outputs": [],
   "source": [
    "fruits.extend('pear'); fruits"
   ]
  },
  {
   "cell_type": "markdown",
   "metadata": {
    "colab_type": "text",
    "id": "Uqbbk0QIsmob"
   },
   "source": [
    "- `reverse()` reverses the elements of the list ***in place***:"
   ]
  },
  {
   "cell_type": "code",
   "execution_count": 0,
   "metadata": {
    "colab": {},
    "colab_type": "code",
    "id": "4zWVjiD0smob"
   },
   "outputs": [],
   "source": [
    "fruits.reverse(); fruits"
   ]
  },
  {
   "cell_type": "markdown",
   "metadata": {
    "colab_type": "text",
    "id": "uTCnaCITsmoc"
   },
   "source": [
    "- `clear()` removes all elements from the list:"
   ]
  },
  {
   "cell_type": "code",
   "execution_count": 0,
   "metadata": {
    "colab": {},
    "colab_type": "code",
    "id": "wwQgXuLbsmoc",
    "outputId": "8653d468-e515-4a0c-a127-22dfa12c49dd"
   },
   "outputs": [
    {
     "data": {
      "text/plain": [
       "[]"
      ]
     },
     "execution_count": 42,
     "metadata": {
      "tags": []
     },
     "output_type": "execute_result"
    }
   ],
   "source": [
    "fruits.clear(); fruits"
   ]
  },
  {
   "cell_type": "markdown",
   "metadata": {
    "colab_type": "text",
    "id": "fRzTKJzjsmoe"
   },
   "source": [
    "- [`sort(key=None, reverse=False)`](https://docs.python.org/3/library/stdtypes.html#list.sort) sorts the list in ascending order ***in place***:"
   ]
  },
  {
   "cell_type": "code",
   "execution_count": 154,
   "metadata": {
    "colab": {},
    "colab_type": "code",
    "id": "grBplHk-smoe"
   },
   "outputs": [],
   "source": [
    "fruits = ['apple', 'orange', 'banana', 'mango']\n",
    "fruits.sort()"
   ]
  },
  {
   "cell_type": "code",
   "execution_count": 155,
   "metadata": {
    "colab": {},
    "colab_type": "code",
    "id": "XXC4eDOysmog",
    "outputId": "d41a12b9-dbfb-43b3-c8dc-9a935c7dbda8"
   },
   "outputs": [
    {
     "data": {
      "text/plain": [
       "['apple', 'banana', 'mango', 'orange']"
      ]
     },
     "execution_count": 155,
     "metadata": {},
     "output_type": "execute_result"
    }
   ],
   "source": [
    "fruits"
   ]
  },
  {
   "cell_type": "markdown",
   "metadata": {
    "colab_type": "text",
    "id": "Dp8XqRW_smol"
   },
   "source": [
    "If `reverse` is set to `True`, the list elements are sorted as if each comparison were reversed:"
   ]
  },
  {
   "cell_type": "code",
   "execution_count": 133,
   "metadata": {
    "colab": {},
    "colab_type": "code",
    "id": "-8_MZ7lEsmom",
    "outputId": "720fcfc5-3661-4aa1-a232-878910cd45c8"
   },
   "outputs": [
    {
     "data": {
      "text/plain": [
       "['orange', 'mango', 'banana', 'apple']"
      ]
     },
     "execution_count": 133,
     "metadata": {},
     "output_type": "execute_result"
    }
   ],
   "source": [
    "fruits.sort(reverse=True); fruits"
   ]
  },
  {
   "cell_type": "markdown",
   "metadata": {},
   "source": [
    "If any comparison fails, the entire sort will fail:"
   ]
  },
  {
   "cell_type": "code",
   "execution_count": 0,
   "metadata": {
    "colab": {},
    "colab_type": "code",
    "id": "MiF8LGT2smoh",
    "outputId": "18bd3c60-ece3-42bf-fa11-bb555291084d",
    "scrolled": true
   },
   "outputs": [
    {
     "ename": "TypeError",
     "evalue": "'<' not supported between instances of 'int' and 'str'",
     "output_type": "error",
     "traceback": [
      "\u001b[1;31m---------------------------------------------------------------------------\u001b[0m",
      "\u001b[1;31mTypeError\u001b[0m                                 Traceback (most recent call last)",
      "\u001b[1;32m<ipython-input-45-93da8e74689a>\u001b[0m in \u001b[0;36m<module>\u001b[1;34m\u001b[0m\n\u001b[0;32m      1\u001b[0m \u001b[0memployee\u001b[0m \u001b[1;33m=\u001b[0m \u001b[1;33m[\u001b[0m\u001b[1;34m'Charles'\u001b[0m\u001b[1;33m,\u001b[0m \u001b[1;34m'Business Analyst'\u001b[0m\u001b[1;33m,\u001b[0m \u001b[1;36m9\u001b[0m\u001b[1;33m,\u001b[0m \u001b[1;32mTrue\u001b[0m\u001b[1;33m]\u001b[0m\u001b[1;33m\u001b[0m\u001b[1;33m\u001b[0m\u001b[0m\n\u001b[1;32m----> 2\u001b[1;33m \u001b[0memployee\u001b[0m\u001b[1;33m.\u001b[0m\u001b[0msort\u001b[0m\u001b[1;33m(\u001b[0m\u001b[1;33m)\u001b[0m\u001b[1;33m\u001b[0m\u001b[1;33m\u001b[0m\u001b[0m\n\u001b[0m",
      "\u001b[1;31mTypeError\u001b[0m: '<' not supported between instances of 'int' and 'str'"
     ]
    }
   ],
   "source": [
    "employee = ['Charles', 'Business Analyst', 9, True]\n",
    "employee.sort()"
   ]
  },
  {
   "cell_type": "markdown",
   "metadata": {
    "colab_type": "text",
    "id": "6v_1z0uVsmon"
   },
   "source": [
    "We can change the rule for comparison by specifying the comparison `key`:"
   ]
  },
  {
   "cell_type": "code",
   "execution_count": 0,
   "metadata": {
    "colab": {},
    "colab_type": "code",
    "id": "OL2GlFA-smon",
    "outputId": "b135a77f-46cb-45f7-dc79-061ff7ce663d"
   },
   "outputs": [
    {
     "data": {
      "text/plain": [
       "[9, 'Business Analyst', 'Charles', True]"
      ]
     },
     "execution_count": 47,
     "metadata": {
      "tags": []
     },
     "output_type": "execute_result"
    }
   ],
   "source": [
    "employee.sort(key=str); employee"
   ]
  },
  {
   "cell_type": "markdown",
   "metadata": {
    "colab_type": "text",
    "id": "g2n4fU68smop"
   },
   "source": [
    "`key` specifies the name of a ***1-argument*** function (e.g., `len`) to use to extract a comparison `key` from each element.\n",
    "\n"
   ]
  },
  {
   "cell_type": "code",
   "execution_count": 69,
   "metadata": {},
   "outputs": [
    {
     "data": {
      "text/plain": [
       "['c', 'ee', 'ddd', 'bbbb', 'aaaaa']"
      ]
     },
     "execution_count": 69,
     "metadata": {},
     "output_type": "execute_result"
    }
   ],
   "source": [
    "repeated_letters = ['aaaaa', 'bbbb', 'c', 'ddd', 'ee']\n",
    "repeated_letters.sort(key=len)\n",
    "repeated_letters"
   ]
  },
  {
   "cell_type": "code",
   "execution_count": 73,
   "metadata": {},
   "outputs": [
    {
     "data": {
      "text/plain": [
       "[1.234, 0.89, 2.3, 1.56, 3, 2.678]"
      ]
     },
     "execution_count": 73,
     "metadata": {},
     "output_type": "execute_result"
    }
   ],
   "source": [
    "small_floats = [1.234, 2.3, 3, 2.678, 1.56, 0.89]\n",
    "small_floats.sort(key=round)\n",
    "small_floats"
   ]
  },
  {
   "cell_type": "code",
   "execution_count": 156,
   "metadata": {},
   "outputs": [
    {
     "data": {
      "text/plain": [
       "(3, 2)"
      ]
     },
     "execution_count": 156,
     "metadata": {},
     "output_type": "execute_result"
    }
   ],
   "source": [
    "divmod(11, 3)"
   ]
  },
  {
   "cell_type": "markdown",
   "metadata": {},
   "source": [
    "There is a built-in function, `sorted()`, that does the same thing but returns a new sorted list rather than modifying the original one in place:"
   ]
  },
  {
   "cell_type": "code",
   "execution_count": 0,
   "metadata": {
    "colab": {},
    "colab_type": "code",
    "id": "XCto7bMnsmop",
    "outputId": "f6cdb0f8-8163-4bb2-a7be-8603fec57850"
   },
   "outputs": [
    {
     "name": "stdout",
     "output_type": "stream",
     "text": [
      "Help on built-in function sorted in module builtins:\n",
      "\n",
      "sorted(iterable, /, *, key=None, reverse=False)\n",
      "    Return a new list containing all items from the iterable in ascending order.\n",
      "    \n",
      "    A custom key function can be supplied to customize the sort order, and the\n",
      "    reverse flag can be set to request the result in descending order.\n",
      "\n"
     ]
    }
   ],
   "source": [
    "help(sorted)"
   ]
  },
  {
   "cell_type": "code",
   "execution_count": 157,
   "metadata": {
    "colab": {},
    "colab_type": "code",
    "id": "pm1oU8lFsmox",
    "outputId": "e24b5a4b-0e9c-450e-d1d0-1cb38b837ecd"
   },
   "outputs": [
    {
     "data": {
      "text/plain": [
       "['apple', 'banana', 'mango', 'orange']"
      ]
     },
     "execution_count": 157,
     "metadata": {},
     "output_type": "execute_result"
    }
   ],
   "source": [
    "sorted(fruits)"
   ]
  },
  {
   "cell_type": "code",
   "execution_count": 158,
   "metadata": {
    "colab": {},
    "colab_type": "code",
    "id": "RX1KzUE_smox",
    "outputId": "23691457-be74-4325-8543-e769848066de"
   },
   "outputs": [
    {
     "data": {
      "text/plain": [
       "['apple', 'banana', 'mango', 'orange']"
      ]
     },
     "execution_count": 158,
     "metadata": {},
     "output_type": "execute_result"
    }
   ],
   "source": [
    "fruits"
   ]
  },
  {
   "cell_type": "markdown",
   "metadata": {
    "colab_type": "text",
    "id": "qpeu6kEVsmoy"
   },
   "source": [
    "---\n",
    "## Unpacking Containers\n",
    "\n",
    "Python has a very powerful assignment feature, called **sequence unpacking**, that allows a sequence of variables on the left of an assignment to be assigned values from a sequence on the right of the assignment:"
   ]
  },
  {
   "cell_type": "code",
   "execution_count": 186,
   "metadata": {
    "colab": {},
    "colab_type": "code",
    "id": "sKaykWy6smoy"
   },
   "outputs": [],
   "source": [
    "student = 'Bob', 19, 'Finance'\n",
    "name, age, studies = student  "
   ]
  },
  {
   "cell_type": "code",
   "execution_count": 187,
   "metadata": {
    "cell_style": "split",
    "colab": {},
    "colab_type": "code",
    "id": "f7I4-flusmoz",
    "outputId": "9683b27b-e6c2-47d0-9894-473c6e38135f"
   },
   "outputs": [
    {
     "data": {
      "text/plain": [
       "'Bob'"
      ]
     },
     "execution_count": 187,
     "metadata": {},
     "output_type": "execute_result"
    }
   ],
   "source": [
    "name"
   ]
  },
  {
   "cell_type": "code",
   "execution_count": 188,
   "metadata": {
    "cell_style": "split",
    "colab": {},
    "colab_type": "code",
    "id": "Xz8vK7Mesmo0",
    "outputId": "cfe1b5f7-82c1-4e56-9a84-e0e792cd3101"
   },
   "outputs": [
    {
     "data": {
      "text/plain": [
       "'Finance'"
      ]
     },
     "execution_count": 188,
     "metadata": {},
     "output_type": "execute_result"
    }
   ],
   "source": [
    "studies"
   ]
  },
  {
   "cell_type": "markdown",
   "metadata": {
    "colab_type": "text",
    "id": "EA1NXFOZsmo2"
   },
   "source": [
    "This does the equivalent of several assignment statements, all on one easy line.\n",
    "\n",
    "When unpacking, the number of variables on the left must match the number of values in the sequence:"
   ]
  },
  {
   "cell_type": "code",
   "execution_count": 2,
   "metadata": {
    "colab": {},
    "colab_type": "code",
    "id": "ncDxsDXIsmo4",
    "outputId": "d3c17f08-3d41-44b7-a725-8f8f1e5a08c5"
   },
   "outputs": [
    {
     "ename": "ValueError",
     "evalue": "too many values to unpack (expected 2)",
     "output_type": "error",
     "traceback": [
      "\u001b[1;31m---------------------------------------------------------------------------\u001b[0m",
      "\u001b[1;31mValueError\u001b[0m                                Traceback (most recent call last)",
      "\u001b[1;32m<ipython-input-2-655ea365627f>\u001b[0m in \u001b[0;36m<module>\u001b[1;34m\u001b[0m\n\u001b[1;32m----> 1\u001b[1;33m \u001b[0mname\u001b[0m\u001b[1;33m,\u001b[0m \u001b[0mage\u001b[0m \u001b[1;33m=\u001b[0m \u001b[0mstudent\u001b[0m\u001b[1;33m\u001b[0m\u001b[1;33m\u001b[0m\u001b[0m\n\u001b[0m",
      "\u001b[1;31mValueError\u001b[0m: too many values to unpack (expected 2)"
     ]
    }
   ],
   "source": [
    "name, age = student"
   ]
  },
  {
   "cell_type": "markdown",
   "metadata": {
    "colab_type": "text",
    "id": "Iyi4djvYsmo6"
   },
   "source": [
    "Unpacking is also useful to swap the values of multiple variables:"
   ]
  },
  {
   "cell_type": "code",
   "execution_count": 190,
   "metadata": {
    "colab": {},
    "colab_type": "code",
    "id": "KcvYkvpJsmo6"
   },
   "outputs": [],
   "source": [
    "name, age, studies = age, studies, name"
   ]
  },
  {
   "cell_type": "code",
   "execution_count": 192,
   "metadata": {
    "colab": {},
    "colab_type": "code",
    "id": "OSbup1SRsmo9",
    "outputId": "52d8426d-4ebb-4d84-8376-225e706665e0"
   },
   "outputs": [
    {
     "data": {
      "text/plain": [
       "(19, 'Finance')"
      ]
     },
     "execution_count": 192,
     "metadata": {},
     "output_type": "execute_result"
    }
   ],
   "source": [
    "name, age"
   ]
  },
  {
   "cell_type": "markdown",
   "metadata": {
    "colab_type": "text",
    "id": "elLvgxrismo_"
   },
   "source": [
    "Unpacking can be done ***deeply***:"
   ]
  },
  {
   "cell_type": "code",
   "execution_count": 175,
   "metadata": {
    "colab": {},
    "colab_type": "code",
    "id": "idhsHMA-smpA"
   },
   "outputs": [],
   "source": [
    "(color, (coord_x, coord_y, coord_z)) = ('red', (1.2, 2.0, 3.9))"
   ]
  },
  {
   "cell_type": "code",
   "execution_count": 176,
   "metadata": {
    "colab": {},
    "colab_type": "code",
    "id": "jOiDNps-smpC",
    "outputId": "e91a2947-6831-42f2-fe22-3911451a2eaa"
   },
   "outputs": [
    {
     "data": {
      "text/plain": [
       "('red', 2.0)"
      ]
     },
     "execution_count": 176,
     "metadata": {},
     "output_type": "execute_result"
    }
   ],
   "source": [
    "color, coord_y"
   ]
  },
  {
   "cell_type": "markdown",
   "metadata": {
    "colab_type": "text",
    "id": "VCBeppbGsmpD"
   },
   "source": [
    "\n",
    "---\n",
    "# The `*` Operator\n",
    "\n",
    "In Python, the `*` character is not only used for **multiplication** and **replication**, but also for unpacking/packing.\n",
    "\n",
    "Instead of ensuring that the number of values matches exactly, we can gather up any superfluous elements using it during unpacking:"
   ]
  },
  {
   "cell_type": "code",
   "execution_count": 193,
   "metadata": {
    "colab": {},
    "colab_type": "code",
    "id": "IlhRHnposmpD"
   },
   "outputs": [],
   "source": [
    "numbers = (1, 2, 3, 4, 5)\n",
    "first, *rest = numbers"
   ]
  },
  {
   "cell_type": "code",
   "execution_count": 194,
   "metadata": {
    "colab": {},
    "colab_type": "code",
    "id": "nqhd3R5qRWG_",
    "outputId": "d706c026-0c7f-406e-e44f-d915b9ce6d60"
   },
   "outputs": [
    {
     "data": {
      "text/plain": [
       "1"
      ]
     },
     "execution_count": 194,
     "metadata": {},
     "output_type": "execute_result"
    }
   ],
   "source": [
    "first"
   ]
  },
  {
   "cell_type": "code",
   "execution_count": 195,
   "metadata": {
    "colab": {},
    "colab_type": "code",
    "id": "vkuiL8fDRWHC",
    "outputId": "041d3cb1-66d9-4c7a-defd-a1c2a8d8a95f"
   },
   "outputs": [
    {
     "data": {
      "text/plain": [
       "[2, 3, 4, 5]"
      ]
     },
     "execution_count": 195,
     "metadata": {},
     "output_type": "execute_result"
    }
   ],
   "source": [
    "rest"
   ]
  },
  {
   "cell_type": "code",
   "execution_count": 75,
   "metadata": {},
   "outputs": [
    {
     "data": {
      "text/plain": [
       "[2, 3, 4]"
      ]
     },
     "execution_count": 75,
     "metadata": {},
     "output_type": "execute_result"
    }
   ],
   "source": [
    "first, *middle, last = numbers\n",
    "middle"
   ]
  },
  {
   "cell_type": "code",
   "execution_count": 0,
   "metadata": {
    "colab": {},
    "colab_type": "code",
    "id": "DIFslb7ZsmpE",
    "outputId": "acf64989-eb02-4ce0-9ad0-28cfa95842ec"
   },
   "outputs": [
    {
     "data": {
      "text/plain": [
       "('a', ['b'], 'c')"
      ]
     },
     "execution_count": 69,
     "metadata": {
      "tags": []
     },
     "output_type": "execute_result"
    }
   ],
   "source": [
    "head, *body, tail = 'abc' \n",
    "head, body, tail"
   ]
  },
  {
   "cell_type": "markdown",
   "metadata": {
    "colab_type": "text",
    "id": "ksMYBWCHsmpG"
   },
   "source": [
    "The starred variable always ends up ***containing a list***.\n",
    "\n",
    "The same kind of gathering can also be used before function parameters (later).\n",
    "\n",
    "**<font color='steelblue' >Question</font>**: What does `first` hold after evaluating the following:\n",
    "\n",
    "<pre>\n",
    "((first, *remaining), *others) = fruits\n",
    "</pre>"
   ]
  },
  {
   "cell_type": "code",
   "execution_count": 0,
   "metadata": {
    "colab": {},
    "colab_type": "code",
    "id": "3nBJUyDhRWHE"
   },
   "outputs": [],
   "source": []
  },
  {
   "cell_type": "markdown",
   "metadata": {
    "colab_type": "text",
    "id": "F19zAUc6lV4L"
   },
   "source": [
    "\n",
    "---\n",
    "\n",
    "## List Comprehensions\n",
    "\n",
    "As **expressions** that implement iteration protocol in Python, **comprehensions** allow a collection to be built from another collection by\n",
    "\n",
    "- iterating over the items in the source collection in turn;\n",
    "- in each iteration, dispensing one item from the source collection and running the item (that passes the test specified by the predicate) through the output expression;\n",
    "- and collecting all the results to form the new collection. \n",
    "\n",
    "<br>\n",
    "\n"
   ]
  },
  {
   "cell_type": "code",
   "execution_count": 179,
   "metadata": {
    "colab": {},
    "colab_type": "code",
    "id": "reypB2y0lV4M"
   },
   "outputs": [],
   "source": [
    "a_list = [1, '4', 9, 'a', 4]"
   ]
  },
  {
   "cell_type": "code",
   "execution_count": 197,
   "metadata": {},
   "outputs": [
    {
     "data": {
      "text/plain": [
       "True"
      ]
     },
     "execution_count": 197,
     "metadata": {},
     "output_type": "execute_result"
    }
   ],
   "source": [
    "isinstance(1, int)"
   ]
  },
  {
   "cell_type": "code",
   "execution_count": 200,
   "metadata": {
    "colab": {},
    "colab_type": "code",
    "id": "BR9yhdSbRWHd"
   },
   "outputs": [
    {
     "data": {
      "text/plain": [
       "[1, 81, 16]"
      ]
     },
     "execution_count": 200,
     "metadata": {},
     "output_type": "execute_result"
    }
   ],
   "source": [
    "[e ** 2 for e in a_list if isinstance(e, int)]"
   ]
  },
  {
   "cell_type": "markdown",
   "metadata": {
    "colab_type": "text",
    "id": "Oqv-axMaRWHe"
   },
   "source": [
    "<img src=\"https://raw.githubusercontent.com/justinjiajia/img/master/python/comprehension.png\" width=500/> "
   ]
  },
  {
   "cell_type": "code",
   "execution_count": 181,
   "metadata": {
    "cell_style": "center",
    "colab": {},
    "colab_type": "code",
    "id": "ayE9FQjNRWHe"
   },
   "outputs": [
    {
     "data": {
      "text/plain": [
       "[2, '44', 18, 'aa', 8]"
      ]
     },
     "execution_count": 181,
     "metadata": {},
     "output_type": "execute_result"
    }
   ],
   "source": [
    "[e * 2 for e in a_list]"
   ]
  },
  {
   "cell_type": "markdown",
   "metadata": {
    "colab_type": "text",
    "id": "hVVD5_IshhJj"
   },
   "source": [
    "<div class='alert alert-info'> Objects that are capable of returining its members one at a time (or over which we can iterate) is called iterables</div>"
   ]
  },
  {
   "cell_type": "markdown",
   "metadata": {
    "colab_type": "text",
    "id": "8WCmC0LzlV4P"
   },
   "source": [
    "\n",
    "\n",
    "\n",
    "The assignment of each item  to the **loop variable** can leverage sequence unpacking to make the handling of nested data easier:\n",
    "\n",
    "\n",
    "\n",
    "\n"
   ]
  },
  {
   "cell_type": "code",
   "execution_count": 182,
   "metadata": {
    "colab": {},
    "colab_type": "code",
    "id": "ERs8VdXUlV4Q",
    "scrolled": true
   },
   "outputs": [
    {
     "data": {
      "text/plain": [
       "[95, 92, 89, 100, 59]"
      ]
     },
     "execution_count": 182,
     "metadata": {},
     "output_type": "execute_result"
    }
   ],
   "source": [
    "gradebook = [['Alice', 95], ['Troy', 92], ['James', 89], ['Charles', 100], ['Bryn', 59]]\n",
    "[score for name, score in gradebook]"
   ]
  },
  {
   "cell_type": "code",
   "execution_count": 202,
   "metadata": {},
   "outputs": [
    {
     "data": {
      "text/plain": [
       "3"
      ]
     },
     "execution_count": 202,
     "metadata": {},
     "output_type": "execute_result"
    }
   ],
   "source": [
    "score_only = [score for name, score in gradebook]\n",
    "score_only.index(max(score_only))"
   ]
  },
  {
   "cell_type": "code",
   "execution_count": null,
   "metadata": {},
   "outputs": [],
   "source": [
    "name, score = ['Alice', 95]"
   ]
  },
  {
   "cell_type": "code",
   "execution_count": 201,
   "metadata": {
    "colab": {},
    "colab_type": "code",
    "id": "-FKTmVUQlV4T"
   },
   "outputs": [
    {
     "data": {
      "text/plain": [
       "[95, 92, 100]"
      ]
     },
     "execution_count": 201,
     "metadata": {},
     "output_type": "execute_result"
    }
   ],
   "source": [
    "[score for name, score in gradebook if score > 90]"
   ]
  },
  {
   "cell_type": "markdown",
   "metadata": {
    "colab_type": "text",
    "id": "wyBuwQWnlV4U"
   },
   "source": [
    "Comprehensions also work with other collections (e.g., **dictionaries**, **sets**, etc.) as we will see."
   ]
  },
  {
   "cell_type": "markdown",
   "metadata": {
    "colab_type": "text",
    "id": "YgHyLb35smpR"
   },
   "source": [
    "---\n",
    "\n",
    "# Dictionaries\n",
    "\n",
    "\n",
    "| Name |  Income | Years | Criminal | \n",
    "|-----|-----|-----|-----| \n",
    "| Amy | 27 |4.2 |  No |  \n",
    "| Sam | 32 |1.5 |  No | \n",
    "|         ...         | \n",
    "\n"
   ]
  },
  {
   "cell_type": "code",
   "execution_count": null,
   "metadata": {},
   "outputs": [],
   "source": [
    "customer_1 = ['Amy', 27, 4.2, 'No']\n",
    "customer_2 = ['Sam', 32, 1.5, 'No']"
   ]
  },
  {
   "cell_type": "markdown",
   "metadata": {},
   "source": [
    "But why not attach labels to individual items to reflect the meaning of our data:"
   ]
  },
  {
   "cell_type": "code",
   "execution_count": null,
   "metadata": {},
   "outputs": [],
   "source": [
    "customer_1 = {'name': 'Amy', 'income': 27, 'years': 4.2, 'criminal': 'No'}\n",
    "customer_2 = {'name': 'Sam', 'income': 32, 'years': 1.5, 'criminal': 'No'}"
   ]
  },
  {
   "cell_type": "markdown",
   "metadata": {},
   "source": [
    "It leads to a new data structure supported by Python, called **dictionaries**.\n",
    "\n",
    "A dictionary is a container that maps a set of labels called **keys** to a set of values. The dictionary is the first compound type that we've seen that is not a **sequence**.\n",
    "\n",
    "The association of a key and a value is called a **key-value pair**, and a dictionary can be defined by using the `{key: value}` syntax:"
   ]
  },
  {
   "cell_type": "code",
   "execution_count": 205,
   "metadata": {
    "colab": {},
    "colab_type": "code",
    "id": "XEASBFL2smpR",
    "outputId": "d7b07f3d-0638-4808-e801-5e353b8a2d70"
   },
   "outputs": [
    {
     "data": {
      "text/plain": [
       "{'Alice': 95, 'Troy': 92, 'James': 89}"
      ]
     },
     "execution_count": 205,
     "metadata": {},
     "output_type": "execute_result"
    }
   ],
   "source": [
    "gradebook = {'Alice': 95, 'Troy': 92, 'James': 89}; gradebook"
   ]
  },
  {
   "cell_type": "code",
   "execution_count": 213,
   "metadata": {
    "colab": {},
    "colab_type": "code",
    "id": "oIBhNHCHsmpS"
   },
   "outputs": [
    {
     "data": {
      "text/plain": [
       "dict"
      ]
     },
     "execution_count": 213,
     "metadata": {},
     "output_type": "execute_result"
    }
   ],
   "source": [
    "type(gradebook)"
   ]
  },
  {
   "cell_type": "markdown",
   "metadata": {
    "colab_type": "text",
    "id": "0Lwd1biFRWHo"
   },
   "source": [
    "<div class='alert alert-info'> Dictionary entires could have a different order when this display runs on Google Colab. It is because Google Colab uses an older Python version (Python 3.6) than Jupyter Notebook in the latest Anaconda distribution (Python 3.7). Python is a language that keeps evolving. Python dictionaries have started preserving the order of insertion of keys since Python 3.7. </div>"
   ]
  },
  {
   "cell_type": "markdown",
   "metadata": {
    "colab_type": "text",
    "id": "ZTL_-UVVsmpT"
   },
   "source": [
    "Dictionary keys are ***unique*** and can be any ***immutable*** data type (e.g., numbers, strings, Booleans, tuples containing only immutable elements):"
   ]
  },
  {
   "cell_type": "code",
   "execution_count": 214,
   "metadata": {
    "colab": {},
    "colab_type": "code",
    "id": "XO-Iy4KwsmpU",
    "outputId": "5104afd6-f32c-4633-868c-d1b3a4a369d3",
    "scrolled": true
   },
   "outputs": [
    {
     "data": {
      "text/plain": [
       "{1: 'one', 2: 'dos', 3: 'tres'}"
      ]
     },
     "execution_count": 214,
     "metadata": {},
     "output_type": "execute_result"
    }
   ],
   "source": [
    "spnum = {1: 'uno', 2: 'dos', 3: 'tres', 1: 'one'}; spnum"
   ]
  },
  {
   "cell_type": "code",
   "execution_count": 204,
   "metadata": {},
   "outputs": [
    {
     "ename": "TypeError",
     "evalue": "unhashable type: 'list'",
     "output_type": "error",
     "traceback": [
      "\u001b[1;31m---------------------------------------------------------------------------\u001b[0m",
      "\u001b[1;31mTypeError\u001b[0m                                 Traceback (most recent call last)",
      "\u001b[1;32m<ipython-input-204-1badf3fd8cbd>\u001b[0m in \u001b[0;36m<module>\u001b[1;34m\u001b[0m\n\u001b[1;32m----> 1\u001b[1;33m \u001b[1;33m{\u001b[0m\u001b[1;33m[\u001b[0m\u001b[1;36m1\u001b[0m\u001b[1;33m]\u001b[0m\u001b[1;33m:\u001b[0m \u001b[1;34m'uno'\u001b[0m\u001b[1;33m,\u001b[0m \u001b[1;36m2\u001b[0m\u001b[1;33m:\u001b[0m \u001b[1;34m'dos'\u001b[0m\u001b[1;33m,\u001b[0m \u001b[1;36m3\u001b[0m\u001b[1;33m:\u001b[0m \u001b[1;34m'tres'\u001b[0m\u001b[1;33m}\u001b[0m\u001b[1;33m\u001b[0m\u001b[1;33m\u001b[0m\u001b[0m\n\u001b[0m",
      "\u001b[1;31mTypeError\u001b[0m: unhashable type: 'list'"
     ]
    }
   ],
   "source": [
    "{[1]: 'uno', 2: 'dos', 3: 'tres'}"
   ]
  },
  {
   "cell_type": "markdown",
   "metadata": {
    "colab_type": "text",
    "id": "DM33a9uQsmpY"
   },
   "source": [
    "Unlike **sequences**, which are indexed by a range of integers, dictionaries are ***indexed by keys***:"
   ]
  },
  {
   "cell_type": "code",
   "execution_count": 215,
   "metadata": {
    "cell_style": "split",
    "colab": {},
    "colab_type": "code",
    "id": "WGIQX2kNsmpZ"
   },
   "outputs": [
    {
     "data": {
      "text/plain": [
       "89"
      ]
     },
     "execution_count": 215,
     "metadata": {},
     "output_type": "execute_result"
    }
   ],
   "source": [
    "# values can be accessed via keys\n",
    "gradebook['James']"
   ]
  },
  {
   "cell_type": "code",
   "execution_count": 216,
   "metadata": {
    "cell_style": "split",
    "colab": {},
    "colab_type": "code",
    "id": "yOPvz80fsmpa",
    "outputId": "bbf35380-fcbb-4b25-cfcd-8f21f0bf82cd",
    "scrolled": true
   },
   "outputs": [
    {
     "ename": "KeyError",
     "evalue": "2",
     "output_type": "error",
     "traceback": [
      "\u001b[1;31m---------------------------------------------------------------------------\u001b[0m",
      "\u001b[1;31mKeyError\u001b[0m                                  Traceback (most recent call last)",
      "\u001b[1;32m<ipython-input-216-2cf68b8537dc>\u001b[0m in \u001b[0;36m<module>\u001b[1;34m\u001b[0m\n\u001b[0;32m      1\u001b[0m \u001b[1;31m# cannot be accessed by position\u001b[0m\u001b[1;33m\u001b[0m\u001b[1;33m\u001b[0m\u001b[1;33m\u001b[0m\u001b[0m\n\u001b[1;32m----> 2\u001b[1;33m \u001b[0mgradebook\u001b[0m\u001b[1;33m[\u001b[0m\u001b[1;36m2\u001b[0m\u001b[1;33m]\u001b[0m\u001b[1;33m\u001b[0m\u001b[1;33m\u001b[0m\u001b[0m\n\u001b[0m",
      "\u001b[1;31mKeyError\u001b[0m: 2"
     ]
    }
   ],
   "source": [
    "# cannot be accessed by position\n",
    "gradebook[2] "
   ]
  },
  {
   "cell_type": "markdown",
   "metadata": {
    "colab_type": "text",
    "id": "41iAr2i3RWHr"
   },
   "source": [
    "Dictionaries don't support slicing:"
   ]
  },
  {
   "cell_type": "code",
   "execution_count": 0,
   "metadata": {
    "colab": {},
    "colab_type": "code",
    "id": "8mzJFiSqRWHr",
    "outputId": "a96a045c-df36-49ff-c0f4-2a19cbbb31e2"
   },
   "outputs": [
    {
     "ename": "TypeError",
     "evalue": "unhashable type: 'slice'",
     "output_type": "error",
     "traceback": [
      "\u001b[1;31m---------------------------------------------------------------------------\u001b[0m",
      "\u001b[1;31mTypeError\u001b[0m                                 Traceback (most recent call last)",
      "\u001b[1;32m<ipython-input-10-696b1e2544b5>\u001b[0m in \u001b[0;36m<module>\u001b[1;34m\u001b[0m\n\u001b[1;32m----> 1\u001b[1;33m \u001b[0mgradebook\u001b[0m\u001b[1;33m[\u001b[0m\u001b[1;34m'Alice'\u001b[0m\u001b[1;33m:\u001b[0m\u001b[1;34m'James'\u001b[0m\u001b[1;33m]\u001b[0m\u001b[1;33m\u001b[0m\u001b[1;33m\u001b[0m\u001b[0m\n\u001b[0m",
      "\u001b[1;31mTypeError\u001b[0m: unhashable type: 'slice'"
     ]
    }
   ],
   "source": [
    "gradebook['Alice':'James']"
   ]
  },
  {
   "cell_type": "markdown",
   "metadata": {
    "colab_type": "text",
    "id": "Nvh6eGjHsmpb"
   },
   "source": [
    "Similar to lists, dictionaries (more accurately, dictionary values) are ***mutable*** and can grow and shrink as needed. \n",
    "\n",
    "Assigning a new value to an existing key updates an entry:"
   ]
  },
  {
   "cell_type": "code",
   "execution_count": null,
   "metadata": {},
   "outputs": [],
   "source": [
    "gradebook"
   ]
  },
  {
   "cell_type": "code",
   "execution_count": null,
   "metadata": {
    "cell_style": "split",
    "colab": {},
    "colab_type": "code",
    "id": "eRVOhjOnsmpd"
   },
   "outputs": [],
   "source": [
    "gradebook['Troy'] = 59; gradebook"
   ]
  },
  {
   "cell_type": "code",
   "execution_count": null,
   "metadata": {
    "cell_style": "split",
    "colab": {},
    "colab_type": "code",
    "id": "8GmjBbZ1hhJv"
   },
   "outputs": [],
   "source": [
    "spnum[1] = 'uno'; spnum"
   ]
  },
  {
   "cell_type": "markdown",
   "metadata": {},
   "source": [
    "Assigning a new key and value adds an entry:"
   ]
  },
  {
   "cell_type": "code",
   "execution_count": null,
   "metadata": {
    "cell_style": "split",
    "colab": {},
    "colab_type": "code",
    "id": "pnRQC7jJsmpb"
   },
   "outputs": [],
   "source": [
    "gradebook['Charles'] = 100; gradebook"
   ]
  },
  {
   "cell_type": "code",
   "execution_count": 0,
   "metadata": {
    "cell_style": "split",
    "colab": {},
    "colab_type": "code",
    "id": "mAN3T2HHhhJt"
   },
   "outputs": [],
   "source": [
    "spnum[4] = 'cuatro'; spnum"
   ]
  },
  {
   "cell_type": "markdown",
   "metadata": {
    "colab_type": "text",
    "id": "FH7T2mb9smpf"
   },
   "source": [
    "Use the `del` statement with the key specified to delete an entry:"
   ]
  },
  {
   "cell_type": "code",
   "execution_count": 221,
   "metadata": {
    "cell_style": "split",
    "colab": {},
    "colab_type": "code",
    "id": "sf8QmdYfsmpf"
   },
   "outputs": [
    {
     "data": {
      "text/plain": [
       "{'Alice': 95, 'Troy': 59, 'James': 89}"
      ]
     },
     "execution_count": 221,
     "metadata": {},
     "output_type": "execute_result"
    }
   ],
   "source": [
    "del gradebook['Charles']; gradebook"
   ]
  },
  {
   "cell_type": "code",
   "execution_count": 0,
   "metadata": {
    "cell_style": "split",
    "colab": {},
    "colab_type": "code",
    "id": "VhusMz9IhhJx"
   },
   "outputs": [],
   "source": [
    "del spnum[4]; spnum"
   ]
  },
  {
   "cell_type": "markdown",
   "metadata": {
    "colab_type": "text",
    "id": "PHXi052tsmph"
   },
   "source": [
    "Python dictionaries are nestable and versatile:"
   ]
  },
  {
   "cell_type": "code",
   "execution_count": 0,
   "metadata": {
    "colab": {},
    "colab_type": "code",
    "id": "s7wUyV4Fsmph"
   },
   "outputs": [],
   "source": [
    "person = {'fname': 'Joe', 'lname': 'Fonebone', 'age': 51, 'spouse': 'Edna', 'children': ['Ralph', 'Betty', 'Joey'], \n",
    "          'pets': {'dog': {'name': 'Fido', True: ['healthy', 'lovely']}, 'cat': 'Sox'}, \n",
    "          ('email', 'mobile'): 'contact info'}\n",
    "person"
   ]
  },
  {
   "cell_type": "markdown",
   "metadata": {
    "colab_type": "text",
    "id": "25BJ69hBsmpk"
   },
   "source": [
    "Simply append additional indicies or keys to retrieve values in a sublsequence or subdictionary:"
   ]
  },
  {
   "cell_type": "code",
   "execution_count": 0,
   "metadata": {
    "colab": {},
    "colab_type": "code",
    "id": "ia7oPYt1smpl"
   },
   "outputs": [],
   "source": [
    "person['pets']['dog'][True][1]"
   ]
  },
  {
   "cell_type": "markdown",
   "metadata": {
    "colab_type": "text",
    "id": "yE6-9QyMsmpq"
   },
   "source": [
    "---\n",
    "## Operators and Built-in Functions"
   ]
  },
  {
   "cell_type": "markdown",
   "metadata": {
    "colab_type": "text",
    "id": "KSQfY3YUsmpq"
   },
   "source": [
    "Many of the operators and built-in functions that can be used with sequences work with dictionaries as well. But they operate ***primarily on keys of dictionaries***:\n",
    "\n",
    "- The membership operator:"
   ]
  },
  {
   "cell_type": "code",
   "execution_count": 0,
   "metadata": {
    "cell_style": "split",
    "colab": {},
    "colab_type": "code",
    "id": "mD4eAJXBsmpq",
    "outputId": "7ff1536d-229a-4d43-c39e-caba0ad432cc"
   },
   "outputs": [
    {
     "data": {
      "text/plain": [
       "{'Alice': 95, 'Troy': 92, 'James': 89}"
      ]
     },
     "execution_count": 11,
     "metadata": {
      "tags": []
     },
     "output_type": "execute_result"
    }
   ],
   "source": [
    "gradebook"
   ]
  },
  {
   "cell_type": "code",
   "execution_count": 0,
   "metadata": {
    "cell_style": "split",
    "colab": {},
    "colab_type": "code",
    "id": "OZANsgxyhhJ4",
    "outputId": "0c9f5378-5229-48c2-fccc-740a7e9c5ee7"
   },
   "outputs": [
    {
     "data": {
      "text/plain": [
       "{1: 'uno', 2: 'dos', 3: 'tres'}"
      ]
     },
     "execution_count": 12,
     "metadata": {
      "tags": []
     },
     "output_type": "execute_result"
    }
   ],
   "source": [
    "spnum"
   ]
  },
  {
   "cell_type": "code",
   "execution_count": 222,
   "metadata": {
    "cell_style": "split",
    "colab": {},
    "colab_type": "code",
    "id": "93FPtWKDsmpr"
   },
   "outputs": [
    {
     "data": {
      "text/plain": [
       "True"
      ]
     },
     "execution_count": 222,
     "metadata": {},
     "output_type": "execute_result"
    }
   ],
   "source": [
    "'Troy' in gradebook"
   ]
  },
  {
   "cell_type": "code",
   "execution_count": 223,
   "metadata": {
    "cell_style": "split",
    "colab": {},
    "colab_type": "code",
    "id": "zesbqCHmsmpu"
   },
   "outputs": [
    {
     "data": {
      "text/plain": [
       "True"
      ]
     },
     "execution_count": 223,
     "metadata": {},
     "output_type": "execute_result"
    }
   ],
   "source": [
    "'dos' not in spnum"
   ]
  },
  {
   "cell_type": "markdown",
   "metadata": {
    "colab_type": "text",
    "id": "smFX60K_smpu"
   },
   "source": [
    "- The `*` operator:"
   ]
  },
  {
   "cell_type": "code",
   "execution_count": 224,
   "metadata": {
    "cell_style": "split",
    "colab": {},
    "colab_type": "code",
    "id": "UOmvcShzsmpv",
    "scrolled": true
   },
   "outputs": [
    {
     "data": {
      "text/plain": [
       "('Alice', ['Troy'], 'James')"
      ]
     },
     "execution_count": 224,
     "metadata": {},
     "output_type": "execute_result"
    }
   ],
   "source": [
    "head, *middle, tail = gradebook\n",
    "head, middle, tail"
   ]
  },
  {
   "cell_type": "code",
   "execution_count": 225,
   "metadata": {
    "cell_style": "split",
    "colab": {},
    "colab_type": "code",
    "id": "ZqxHc4lthhJ7"
   },
   "outputs": [
    {
     "data": {
      "text/plain": [
       "(1, [2, 3])"
      ]
     },
     "execution_count": 225,
     "metadata": {},
     "output_type": "execute_result"
    }
   ],
   "source": [
    "first, *rest = spnum\n",
    "first, rest"
   ]
  },
  {
   "cell_type": "markdown",
   "metadata": {
    "colab_type": "text",
    "id": "1QjonRsXsmpy"
   },
   "source": [
    "- The following show the effects of common built-in fucntions when working with dictionaries:"
   ]
  },
  {
   "cell_type": "code",
   "execution_count": 226,
   "metadata": {
    "cell_style": "split",
    "colab": {},
    "colab_type": "code",
    "id": "e8QJnTKIsmpy"
   },
   "outputs": [
    {
     "data": {
      "text/plain": [
       "'Troy'"
      ]
     },
     "execution_count": 226,
     "metadata": {},
     "output_type": "execute_result"
    }
   ],
   "source": [
    "max(gradebook)"
   ]
  },
  {
   "cell_type": "code",
   "execution_count": 227,
   "metadata": {
    "cell_style": "split",
    "colab": {},
    "colab_type": "code",
    "id": "80HODaL8smpy"
   },
   "outputs": [
    {
     "data": {
      "text/plain": [
       "1"
      ]
     },
     "execution_count": 227,
     "metadata": {},
     "output_type": "execute_result"
    }
   ],
   "source": [
    "min(spnum)"
   ]
  },
  {
   "cell_type": "code",
   "execution_count": 228,
   "metadata": {
    "cell_style": "split",
    "colab": {},
    "colab_type": "code",
    "id": "ii_AhqQ2smpz"
   },
   "outputs": [
    {
     "data": {
      "text/plain": [
       "['Alice', 'James', 'Troy']"
      ]
     },
     "execution_count": 228,
     "metadata": {},
     "output_type": "execute_result"
    }
   ],
   "source": [
    "sorted(gradebook)"
   ]
  },
  {
   "cell_type": "code",
   "execution_count": 229,
   "metadata": {
    "cell_style": "split",
    "colab": {},
    "colab_type": "code",
    "id": "tPGTMV-tsmpz"
   },
   "outputs": [
    {
     "data": {
      "text/plain": [
       "3"
      ]
     },
     "execution_count": 229,
     "metadata": {},
     "output_type": "execute_result"
    }
   ],
   "source": [
    "len(spnum)"
   ]
  },
  {
   "cell_type": "markdown",
   "metadata": {
    "colab_type": "text",
    "id": "dG-Ayd3-smp1"
   },
   "source": [
    "---\n",
    "## Dictionary Methods"
   ]
  },
  {
   "cell_type": "markdown",
   "metadata": {
    "colab_type": "text",
    "id": "erZstCWBsmp2"
   },
   "source": [
    "As with lists and tuples, there are several built-in methods that can be invoked on dictionaries. Call `dir()` to list all the names available for a dictionary object:"
   ]
  },
  {
   "cell_type": "code",
   "execution_count": 0,
   "metadata": {
    "colab": {},
    "colab_type": "code",
    "id": "mS6mWsD5smp2",
    "outputId": "d737f5ce-1a78-4010-e595-f0dc2183d355"
   },
   "outputs": [
    {
     "data": {
      "text/plain": [
       "['__class__',\n",
       " '__contains__',\n",
       " '__delattr__',\n",
       " '__delitem__',\n",
       " '__dir__',\n",
       " '__doc__',\n",
       " '__eq__',\n",
       " '__format__',\n",
       " '__ge__',\n",
       " '__getattribute__',\n",
       " '__getitem__',\n",
       " '__gt__',\n",
       " '__hash__',\n",
       " '__init__',\n",
       " '__init_subclass__',\n",
       " '__iter__',\n",
       " '__le__',\n",
       " '__len__',\n",
       " '__lt__',\n",
       " '__ne__',\n",
       " '__new__',\n",
       " '__reduce__',\n",
       " '__reduce_ex__',\n",
       " '__repr__',\n",
       " '__setattr__',\n",
       " '__setitem__',\n",
       " '__sizeof__',\n",
       " '__str__',\n",
       " '__subclasshook__',\n",
       " 'clear',\n",
       " 'copy',\n",
       " 'fromkeys',\n",
       " 'get',\n",
       " 'items',\n",
       " 'keys',\n",
       " 'pop',\n",
       " 'popitem',\n",
       " 'setdefault',\n",
       " 'update',\n",
       " 'values']"
      ]
     },
     "execution_count": 5,
     "metadata": {
      "tags": []
     },
     "output_type": "execute_result"
    }
   ],
   "source": [
    "dir(gradebook)"
   ]
  },
  {
   "cell_type": "markdown",
   "metadata": {
    "colab_type": "text",
    "id": "RfN5bPM6RWIH"
   },
   "source": [
    "---\n",
    "\n",
    "### Methods for Dictionary Traversals\n",
    "\n",
    "We'll often be in situations where we want to traverse the keys and values of a dictionary separately.\n"
   ]
  },
  {
   "cell_type": "markdown",
   "metadata": {
    "colab_type": "text",
    "id": "woXSa_OPsmqP"
   },
   "source": [
    "- [`values()`](https://docs.python.org/3/library/stdtypes.html#dict.keys) ([`keys()`](https://docs.python.org/3/library/stdtypes.html#dict.keys)) returns a **dictionary view** consisting of only `value`s (`key`s):"
   ]
  },
  {
   "cell_type": "code",
   "execution_count": 230,
   "metadata": {
    "cell_style": "split",
    "colab": {},
    "colab_type": "code",
    "id": "CRdErOAXsmqP"
   },
   "outputs": [
    {
     "data": {
      "text/plain": [
       "dict_values(['uno', 'dos', 'tres'])"
      ]
     },
     "execution_count": 230,
     "metadata": {},
     "output_type": "execute_result"
    }
   ],
   "source": [
    "spnum.values()   # a dictionary view object"
   ]
  },
  {
   "cell_type": "code",
   "execution_count": 231,
   "metadata": {
    "cell_style": "split",
    "colab": {},
    "colab_type": "code",
    "id": "JAa3uScHsmqP"
   },
   "outputs": [
    {
     "data": {
      "text/plain": [
       "dict_keys([1, 2, 3])"
      ]
     },
     "execution_count": 231,
     "metadata": {},
     "output_type": "execute_result"
    }
   ],
   "source": [
    "spnum.keys()"
   ]
  },
  {
   "cell_type": "markdown",
   "metadata": {
    "colab_type": "text",
    "id": "IyIF53FPRWIM"
   },
   "source": [
    "<div class=\"alert alert-info\">Dictionary views are read-only and dynamic. They will be updated when we modify the dictionary from which they are derived.</div>"
   ]
  },
  {
   "cell_type": "markdown",
   "metadata": {
    "colab_type": "text",
    "id": "1asuTyS8smqL"
   },
   "source": [
    "- [`items()`](https://docs.python.org/3/library/stdtypes.html#dict.items) returns a **dictionary view** consisting of `(key, value)` pairs:"
   ]
  },
  {
   "cell_type": "code",
   "execution_count": 232,
   "metadata": {
    "cell_style": "split",
    "colab": {},
    "colab_type": "code",
    "id": "R8QULhAlRWIJ",
    "outputId": "f7f78bb7-46a3-46f7-b049-926904ed9bb4"
   },
   "outputs": [
    {
     "data": {
      "text/plain": [
       "dict_items([('Alice', 95), ('Troy', 59), ('James', 89)])"
      ]
     },
     "execution_count": 232,
     "metadata": {},
     "output_type": "execute_result"
    }
   ],
   "source": [
    "gradebook.items() "
   ]
  },
  {
   "cell_type": "code",
   "execution_count": 233,
   "metadata": {
    "cell_style": "split",
    "colab": {},
    "colab_type": "code",
    "id": "cSImmHVzsmqL"
   },
   "outputs": [
    {
     "data": {
      "text/plain": [
       "dict_items([(1, 'uno'), (2, 'dos'), (3, 'tres')])"
      ]
     },
     "execution_count": 233,
     "metadata": {},
     "output_type": "execute_result"
    }
   ],
   "source": [
    "spnum.items() "
   ]
  },
  {
   "cell_type": "markdown",
   "metadata": {
    "colab_type": "text",
    "id": "7eZDyPcmRWIM"
   },
   "source": [
    "Dictionary views can be iterated over to yield their respective data:"
   ]
  },
  {
   "cell_type": "code",
   "execution_count": 234,
   "metadata": {
    "colab": {},
    "colab_type": "code",
    "id": "gTYdQV_0RWIM",
    "outputId": "65b8eba7-441b-4379-8131-23b0a2181a30"
   },
   "outputs": [
    {
     "data": {
      "text/plain": [
       "[('Alice', 100), ('Troy', 64), ('James', 94)]"
      ]
     },
     "execution_count": 234,
     "metadata": {},
     "output_type": "execute_result"
    }
   ],
   "source": [
    "[(name, score + 5) for name, score in gradebook.items()]"
   ]
  },
  {
   "cell_type": "markdown",
   "metadata": {
    "colab_type": "text",
    "id": "0EDgCykfRWIN"
   },
   "source": [
    "We can use the dictionary-like syntax in comprehensions (**dictionary comprehensions**) to construct new dictionaries:"
   ]
  },
  {
   "cell_type": "code",
   "execution_count": 0,
   "metadata": {
    "colab": {},
    "colab_type": "code",
    "id": "Y2iPoaB6RWIN",
    "outputId": "f97f2b93-0f80-4ed7-b881-1a6c4d40a8fd"
   },
   "outputs": [
    {
     "data": {
      "text/plain": [
       "{'Alice': 100, 'Troy': 97, 'James': 94}"
      ]
     },
     "execution_count": 9,
     "metadata": {
      "tags": []
     },
     "output_type": "execute_result"
    }
   ],
   "source": [
    "{name: score + 5 for name, score in gradebook.items()}"
   ]
  },
  {
   "cell_type": "markdown",
   "metadata": {
    "colab_type": "text",
    "id": "f0jHHAEBRWIQ"
   },
   "source": [
    "**<font color='steelblue' >Question</font>**: let's assume that dictionaries preserve the order of insertion. \n",
    "\n",
    "Write code to mimic the slice operation on the following dictionary:\n",
    "\n",
    "<pre>\n",
    "students = {'Tom': 90, 'Kitty': 89, 'Jessie': 94, 'Chester': 86, 'Curie': 82, 'Nancy': 97, 'Turing': 93}\n",
    "</pre>\n",
    "\n",
    "For example, try to extract the segment starting from the 2nd entry and ending at the 4th one. \n",
    "\n",
    "The result should look like:\n",
    "\n",
    "<pre>\n",
    "{'Kitty': 89, 'Jessie': 94, 'Chester': 86}\n",
    "</pre>"
   ]
  },
  {
   "cell_type": "code",
   "execution_count": 0,
   "metadata": {
    "colab": {},
    "colab_type": "code",
    "id": "NDzN_iyXRWIR"
   },
   "outputs": [],
   "source": [
    "{name: score for name, score in students.items() if name in list(students)[1:4]}  # this works with Python 3.7"
   ]
  },
  {
   "cell_type": "markdown",
   "metadata": {
    "colab_type": "text",
    "id": "RALfTHposmp3"
   },
   "source": [
    "---\n",
    "\n",
    "### Optional: Other Noteworthy `dict` Methods\n",
    "\n",
    "\n",
    "- [`get(<key>[, <default>])`](https://docs.python.org/3/library/stdtypes.html#dict.get) returns the value for `key` if `key` is present, else `default` (defaulting to `None`):"
   ]
  },
  {
   "cell_type": "code",
   "execution_count": 0,
   "metadata": {
    "colab": {},
    "colab_type": "code",
    "id": "FXyYsHPtsmp3",
    "scrolled": true
   },
   "outputs": [],
   "source": [
    "gradebook.get('Alice')"
   ]
  },
  {
   "cell_type": "code",
   "execution_count": 0,
   "metadata": {
    "cell_style": "split",
    "colab": {},
    "colab_type": "code",
    "id": "h-r_AYuAsmp3"
   },
   "outputs": [],
   "source": [
    "gradebook.get('Bryn')"
   ]
  },
  {
   "cell_type": "code",
   "execution_count": 0,
   "metadata": {
    "cell_style": "split",
    "colab": {},
    "colab_type": "code",
    "id": "dVa2J9zWsmp4"
   },
   "outputs": [],
   "source": [
    "gradebook.get('Bryn', -1)"
   ]
  },
  {
   "cell_type": "markdown",
   "metadata": {
    "colab_type": "text",
    "id": "14w035Nssmp5"
   },
   "source": [
    "- [`dict.pop(key[, default])`](https://docs.python.org/3/library/stdtypes.html#dict.pop) removes the corresponding entry and return its value if `key` is present, else return `default`:"
   ]
  },
  {
   "cell_type": "code",
   "execution_count": 0,
   "metadata": {
    "colab": {},
    "colab_type": "code",
    "id": "2v4sBdsqsmp5"
   },
   "outputs": [],
   "source": [
    "gradebook.pop('Alice')"
   ]
  },
  {
   "cell_type": "code",
   "execution_count": 0,
   "metadata": {
    "colab": {},
    "colab_type": "code",
    "id": "D_hK1Q47smqA"
   },
   "outputs": [],
   "source": [
    "gradebook"
   ]
  },
  {
   "cell_type": "code",
   "execution_count": 0,
   "metadata": {
    "colab": {},
    "colab_type": "code",
    "id": "DCM5MKCJsmqB",
    "outputId": "f97cb842-3e4c-40c2-d1f6-e80bc029a7c4"
   },
   "outputs": [
    {
     "ename": "KeyError",
     "evalue": "'Bryn'",
     "output_type": "error",
     "traceback": [
      "\u001b[1;31m---------------------------------------------------------------------------\u001b[0m",
      "\u001b[1;31mKeyError\u001b[0m                                  Traceback (most recent call last)",
      "\u001b[1;32m<ipython-input-27-e48079193cb2>\u001b[0m in \u001b[0;36m<module>\u001b[1;34m\u001b[0m\n\u001b[1;32m----> 1\u001b[1;33m \u001b[0mgradebook\u001b[0m\u001b[1;33m.\u001b[0m\u001b[0mpop\u001b[0m\u001b[1;33m(\u001b[0m\u001b[1;34m'Bryn'\u001b[0m\u001b[1;33m)\u001b[0m  \u001b[1;31m# raises a KeyError\u001b[0m\u001b[1;33m\u001b[0m\u001b[1;33m\u001b[0m\u001b[0m\n\u001b[0m",
      "\u001b[1;31mKeyError\u001b[0m: 'Bryn'"
     ]
    }
   ],
   "source": [
    "gradebook.pop('Bryn')  # raise a KeyError"
   ]
  },
  {
   "cell_type": "code",
   "execution_count": 0,
   "metadata": {
    "colab": {},
    "colab_type": "code",
    "id": "KfOHUWk8smqD"
   },
   "outputs": [],
   "source": [
    "gradebook.pop('Bryn', -1)  # No error is raised"
   ]
  },
  {
   "cell_type": "markdown",
   "metadata": {
    "colab_type": "text",
    "id": "K7I34F7qsmqE"
   },
   "source": [
    "- [`dict.popitem()`](https://docs.python.org/3/library/stdtypes.html#dict.popitem) removes the ***last*** key-value pair from a dictionary (guaranteed since Python 3.7) and returns it as a tuple (`(key, value)`). It raises a `KeyError` exception when the dictionary is empty:"
   ]
  },
  {
   "cell_type": "code",
   "execution_count": 0,
   "metadata": {
    "colab": {},
    "colab_type": "code",
    "id": "zqtRBRjLsmqE"
   },
   "outputs": [],
   "source": [
    "gradebook.popitem()"
   ]
  },
  {
   "cell_type": "code",
   "execution_count": 0,
   "metadata": {
    "colab": {},
    "colab_type": "code",
    "id": "wMH1qKXysmqF"
   },
   "outputs": [],
   "source": [
    "gradebook"
   ]
  },
  {
   "cell_type": "markdown",
   "metadata": {
    "colab_type": "text",
    "id": "w1b8ft4tsmqG"
   },
   "source": [
    "- [`dict.update(<other>)`](https://docs.python.org/3/library/stdtypes.html#dict.update) merges a dictionary with\n",
    "\n",
    "    - another dictionary;\n",
    "    - an object that can produce pairs of keys and values (e.g., a list of tuples that represent key-value pairs);\n",
    "    - or the values specified as a list of <b>*keyword arguments*</b>:"
   ]
  },
  {
   "cell_type": "code",
   "execution_count": 0,
   "metadata": {
    "colab": {},
    "colab_type": "code",
    "id": "C4yUqgYQsmqG"
   },
   "outputs": [],
   "source": [
    "gradebook.update(spnum); gradebook"
   ]
  },
  {
   "cell_type": "code",
   "execution_count": 0,
   "metadata": {
    "colab": {},
    "colab_type": "code",
    "id": "1EcG1NcLsmqH"
   },
   "outputs": [],
   "source": [
    "spnum.update({1: 'one', 4: 'four'}); spnum"
   ]
  },
  {
   "cell_type": "code",
   "execution_count": 0,
   "metadata": {
    "colab": {},
    "colab_type": "code",
    "id": "MlsSnKtgsmqI"
   },
   "outputs": [],
   "source": [
    "spnum.update([(1, 'uno'), (4, 'cuatro')]); spnum # or [[1, 'uno'], [4, 'cuatro']]"
   ]
  },
  {
   "cell_type": "code",
   "execution_count": 0,
   "metadata": {
    "colab": {},
    "colab_type": "code",
    "id": "JyxxyoowsmqI"
   },
   "outputs": [],
   "source": [
    "gradebook.update(Amy = 77); gradebook"
   ]
  },
  {
   "cell_type": "code",
   "execution_count": 0,
   "metadata": {
    "colab": {},
    "colab_type": "code",
    "id": "2C6lGuugsmqJ",
    "outputId": "314777fd-ccd5-48f2-fda4-2c98b33e7b3f",
    "scrolled": true
   },
   "outputs": [
    {
     "ename": "SyntaxError",
     "evalue": "keyword can't be an expression (<ipython-input-12-241fce533113>, line 1)",
     "output_type": "error",
     "traceback": [
      "\u001b[1;36m  File \u001b[1;32m\"<ipython-input-12-241fce533113>\"\u001b[1;36m, line \u001b[1;32m1\u001b[0m\n\u001b[1;33m    spnum.update(5 = 'cinco'); spnum\u001b[0m\n\u001b[1;37m                ^\u001b[0m\n\u001b[1;31mSyntaxError\u001b[0m\u001b[1;31m:\u001b[0m keyword can't be an expression\n"
     ]
    }
   ],
   "source": [
    "spnum.update(5 = 'cinco'); spnum"
   ]
  },
  {
   "cell_type": "code",
   "execution_count": 0,
   "metadata": {
    "colab": {},
    "colab_type": "code",
    "id": "rQlc_rkTsmqK"
   },
   "outputs": [],
   "source": [
    "spnum.update([[2, 'dos'], [4, 'cuatro']]); spnum"
   ]
  },
  {
   "cell_type": "markdown",
   "metadata": {
    "colab_type": "text",
    "id": "l88aW2dcsmqR"
   },
   "source": [
    "\n",
    "\n",
    "\n",
    "---\n",
    "## Conversions\n",
    "\n",
    "\n",
    "A dictionary can also be constructed by casting a collection of key-value pairs to the `dict` type with the `dict()` function:"
   ]
  },
  {
   "cell_type": "code",
   "execution_count": 235,
   "metadata": {
    "cell_style": "center",
    "colab": {},
    "colab_type": "code",
    "id": "0ZnVvVaqsmqR"
   },
   "outputs": [
    {
     "data": {
      "text/plain": [
       "{'red': 34, 'green': 30, 'brown': 31}"
      ]
     },
     "execution_count": 235,
     "metadata": {},
     "output_type": "execute_result"
    }
   ],
   "source": [
    "dict([(\"red\", 34), (\"green\", 30), (\"brown\", 31)])  # or dict(((\"red\", 34), (\"green\", 30), (\"brown\", 31)))"
   ]
  },
  {
   "cell_type": "markdown",
   "metadata": {
    "colab_type": "text",
    "id": "9RMCmL0ssmqS"
   },
   "source": [
    "We have to be more careful when converting a dictionary to a collection of other types: "
   ]
  },
  {
   "cell_type": "code",
   "execution_count": 237,
   "metadata": {
    "colab": {},
    "colab_type": "code",
    "id": "ck_LCtnQsmqS"
   },
   "outputs": [
    {
     "data": {
      "text/plain": [
       "{'red': 34, 'green': 30, 'brown': 31}"
      ]
     },
     "execution_count": 237,
     "metadata": {},
     "output_type": "execute_result"
    }
   ],
   "source": [
    "marbles = dict([(\"red\", 34), (\"green\", 30), (\"brown\", 31)])\n",
    "marbles"
   ]
  },
  {
   "cell_type": "code",
   "execution_count": 238,
   "metadata": {
    "colab": {},
    "colab_type": "code",
    "id": "EAuly_C1smqT"
   },
   "outputs": [
    {
     "data": {
      "text/plain": [
       "['red', 'green', 'brown']"
      ]
     },
     "execution_count": 238,
     "metadata": {},
     "output_type": "execute_result"
    }
   ],
   "source": [
    "list(marbles)           # the keys will be used by default"
   ]
  },
  {
   "cell_type": "code",
   "execution_count": 0,
   "metadata": {
    "cell_style": "split",
    "colab": {},
    "colab_type": "code",
    "id": "HYFEWGLSsmqU"
   },
   "outputs": [],
   "source": [
    "# use a view to get the values\n",
    "tuple(marbles.values()) "
   ]
  },
  {
   "cell_type": "code",
   "execution_count": 239,
   "metadata": {
    "cell_style": "split",
    "colab": {},
    "colab_type": "code",
    "id": "HFwi3xc4smqU",
    "scrolled": true
   },
   "outputs": [
    {
     "data": {
      "text/plain": [
       "[('red', 34), ('green', 30), ('brown', 31)]"
      ]
     },
     "execution_count": 239,
     "metadata": {},
     "output_type": "execute_result"
    }
   ],
   "source": [
    "# or the key-value pairs\n",
    "list(marbles.items()) "
   ]
  },
  {
   "cell_type": "markdown",
   "metadata": {
    "colab_type": "text",
    "id": "BtEc5PLNsmqZ"
   },
   "source": [
    "---\n",
    "\n",
    "# Optional: Sets\n",
    "\n",
    "A set is an ***unordered***, ***mutable*** collection of ***distinct immutable*** elements.\n",
    "\n",
    "***Non-empty*** sets can be created by using the curly brace notation (`{}`):\n"
   ]
  },
  {
   "cell_type": "code",
   "execution_count": null,
   "metadata": {},
   "outputs": [],
   "source": [
    "integers = {5, 2, 3, 1, 4, 2}; integers # The duplicate will be eliminated"
   ]
  },
  {
   "cell_type": "code",
   "execution_count": 0,
   "metadata": {
    "colab": {},
    "colab_type": "code",
    "id": "7VMI_oEnsmqa"
   },
   "outputs": [],
   "source": [
    "type(integers)"
   ]
  },
  {
   "cell_type": "code",
   "execution_count": null,
   "metadata": {},
   "outputs": [],
   "source": [
    "mammals = {'cat', 'dog', 'rabbit', 'pig', 'cat'}; mammals  # Sets do not record element position"
   ]
  },
  {
   "cell_type": "markdown",
   "metadata": {
    "colab_type": "text",
    "id": "SSOOhg9Csmqc"
   },
   "source": [
    "An ***empty*** set can only be defined with the `set()` function.\n",
    "\n",
    "\n",
    "The elements in a set can be objects of different types. But they must be ***immutable***:"
   ]
  },
  {
   "cell_type": "code",
   "execution_count": 0,
   "metadata": {
    "cell_style": "split",
    "colab": {},
    "colab_type": "code",
    "id": "Kpy77DVssmqc"
   },
   "outputs": [],
   "source": [
    "{42, 'ham', 3.14159, None, ('Amy', True)}"
   ]
  },
  {
   "cell_type": "code",
   "execution_count": 0,
   "metadata": {
    "cell_style": "split",
    "colab": {},
    "colab_type": "code",
    "id": "QhEcHsiosmqd",
    "outputId": "dad6a3c7-6ce6-43e0-fdad-5402e50cecc3"
   },
   "outputs": [
    {
     "ename": "TypeError",
     "evalue": "unhashable type: 'list'",
     "output_type": "error",
     "traceback": [
      "\u001b[1;31m---------------------------------------------------------------------------\u001b[0m",
      "\u001b[1;31mTypeError\u001b[0m                                 Traceback (most recent call last)",
      "\u001b[1;32m<ipython-input-81-750c418d71e9>\u001b[0m in \u001b[0;36m<module>\u001b[1;34m\u001b[0m\n\u001b[1;32m----> 1\u001b[1;33m \u001b[1;33m{\u001b[0m\u001b[1;36m42\u001b[0m\u001b[1;33m,\u001b[0m \u001b[1;34m'ham'\u001b[0m\u001b[1;33m,\u001b[0m \u001b[1;36m3.14159\u001b[0m\u001b[1;33m,\u001b[0m \u001b[1;32mNone\u001b[0m\u001b[1;33m,\u001b[0m \u001b[1;33m[\u001b[0m\u001b[1;34m'Amy'\u001b[0m\u001b[1;33m,\u001b[0m \u001b[1;32mTrue\u001b[0m\u001b[1;33m]\u001b[0m\u001b[1;33m}\u001b[0m\u001b[1;33m\u001b[0m\u001b[1;33m\u001b[0m\u001b[0m\n\u001b[0m",
      "\u001b[1;31mTypeError\u001b[0m: unhashable type: 'list'"
     ]
    }
   ],
   "source": [
    "{42, 'ham', 3.14159, None, ['Amy', True]}"
   ]
  },
  {
   "cell_type": "markdown",
   "metadata": {
    "colab_type": "text",
    "id": "iuPE67Nosmqe"
   },
   "source": [
    "## Operations on Sets\n",
    "\n",
    "Like other collections, sets support `x in set` and `len(set)`:\n"
   ]
  },
  {
   "cell_type": "code",
   "execution_count": 0,
   "metadata": {
    "cell_style": "split",
    "colab": {},
    "colab_type": "code",
    "id": "3j19HYzzsmqe"
   },
   "outputs": [],
   "source": [
    "len(integers) "
   ]
  },
  {
   "cell_type": "code",
   "execution_count": 0,
   "metadata": {
    "cell_style": "split",
    "colab": {},
    "colab_type": "code",
    "id": "EX0Z4_6lsmqf"
   },
   "outputs": [],
   "source": [
    "'parrot' not in mammals"
   ]
  },
  {
   "cell_type": "markdown",
   "metadata": {
    "colab_type": "text",
    "id": "r6_V3Kxmsmqf"
   },
   "source": [
    "However, sets do not support indexing, slicing, or other ***sequence-like*** behavior, because they do not record element position or order of insertion."
   ]
  },
  {
   "cell_type": "code",
   "execution_count": 0,
   "metadata": {
    "colab": {},
    "colab_type": "code",
    "id": "AqXmc0Qzsmqf",
    "outputId": "5db59c6a-5b49-4e4c-fe55-ad2b54682ffc"
   },
   "outputs": [
    {
     "data": {
      "text/plain": [
       "['__and__',\n",
       " '__class__',\n",
       " '__contains__',\n",
       " '__delattr__',\n",
       " '__dir__',\n",
       " '__doc__',\n",
       " '__eq__',\n",
       " '__format__',\n",
       " '__ge__',\n",
       " '__getattribute__',\n",
       " '__gt__',\n",
       " '__hash__',\n",
       " '__iand__',\n",
       " '__init__',\n",
       " '__init_subclass__',\n",
       " '__ior__',\n",
       " '__isub__',\n",
       " '__iter__',\n",
       " '__ixor__',\n",
       " '__le__',\n",
       " '__len__',\n",
       " '__lt__',\n",
       " '__ne__',\n",
       " '__new__',\n",
       " '__or__',\n",
       " '__rand__',\n",
       " '__reduce__',\n",
       " '__reduce_ex__',\n",
       " '__repr__',\n",
       " '__ror__',\n",
       " '__rsub__',\n",
       " '__rxor__',\n",
       " '__setattr__',\n",
       " '__sizeof__',\n",
       " '__str__',\n",
       " '__sub__',\n",
       " '__subclasshook__',\n",
       " '__xor__',\n",
       " 'add',\n",
       " 'clear',\n",
       " 'copy',\n",
       " 'difference',\n",
       " 'difference_update',\n",
       " 'discard',\n",
       " 'intersection',\n",
       " 'intersection_update',\n",
       " 'isdisjoint',\n",
       " 'issubset',\n",
       " 'issuperset',\n",
       " 'pop',\n",
       " 'remove',\n",
       " 'symmetric_difference',\n",
       " 'symmetric_difference_update',\n",
       " 'union',\n",
       " 'update']"
      ]
     },
     "execution_count": 82,
     "metadata": {
      "tags": []
     },
     "output_type": "execute_result"
    }
   ],
   "source": [
    "dir(integers)"
   ]
  },
  {
   "cell_type": "code",
   "execution_count": 0,
   "metadata": {
    "colab": {
     "base_uri": "https://localhost:8080/",
     "height": 121
    },
    "colab_type": "code",
    "id": "BlTH-fwh3w4G",
    "outputId": "2fff006a-a281-4cb9-dbe8-035dc19a0ce0"
   },
   "outputs": [
    {
     "name": "stdout",
     "output_type": "stream",
     "text": [
      "Help on built-in function pop:\n",
      "\n",
      "pop(...) method of builtins.set instance\n",
      "    Remove and return an arbitrary set element.\n",
      "    Raises KeyError if the set is empty.\n",
      "\n"
     ]
    }
   ],
   "source": [
    "help(integers.pop)"
   ]
  },
  {
   "cell_type": "markdown",
   "metadata": {
    "colab_type": "text",
    "id": "yEmRc5eXsmqg"
   },
   "source": [
    "### Set Operations\n",
    "\n",
    "Many operations on set objects generally mimic the operations that are defined for <b>*mathematical sets*</b>. They can be performed either ***by operator*** (operands must be sets) or ***by method*** (taking any collection as an argument): \n",
    "\n",
    "- `union(*others)` or `set | other | ...`: return a new set with elements from the set and all others.\n",
    "\n",
    "- `intersection(*others)` or `set & other & ...`: return a new set with elements common to the set and all others.\n",
    "\n",
    "- `difference(*others)` or `set - other - ...`: return a new set with elements in the set that are not in the others.\n",
    "\n",
    "- `symmetric_difference(other)` or `set ^ other ^ ...`: return a new set with elements in either the set or other but not both."
   ]
  },
  {
   "cell_type": "code",
   "execution_count": 0,
   "metadata": {
    "colab": {},
    "colab_type": "code",
    "id": "mC0mWZrvsmqg"
   },
   "outputs": [],
   "source": [
    "group1 = {'Amy', 'Sam', 'Oliver', 'Emma'}\n",
    "group2 = {'Faye', 'Emma', 'Jay', 'Sam'}\n",
    "group3 = {'Emma', 'Alan', 'Amy', 'Jay'}"
   ]
  },
  {
   "cell_type": "markdown",
   "metadata": {
    "colab_type": "text",
    "id": "f74x285Xsmqh"
   },
   "source": [
    "<img src=\"https://drive.google.com/uc?export=download&id=1gBZ_QTewEKEVQYM3tFSQ7ZLHdNGVGZV6\" width=300 />"
   ]
  },
  {
   "cell_type": "code",
   "execution_count": 0,
   "metadata": {
    "colab": {},
    "colab_type": "code",
    "id": "rHcSz_zfsmqh"
   },
   "outputs": [],
   "source": [
    "group1 | group2"
   ]
  },
  {
   "cell_type": "code",
   "execution_count": 0,
   "metadata": {
    "colab": {},
    "colab_type": "code",
    "id": "D7cmvtCUsmqh",
    "scrolled": true
   },
   "outputs": [],
   "source": [
    "group1.union('Ben')"
   ]
  },
  {
   "cell_type": "code",
   "execution_count": 0,
   "metadata": {
    "colab": {},
    "colab_type": "code",
    "id": "T-Tnoj9fsmqi"
   },
   "outputs": [],
   "source": [
    "group1 & group2 & group3"
   ]
  },
  {
   "cell_type": "code",
   "execution_count": 0,
   "metadata": {
    "colab": {},
    "colab_type": "code",
    "id": "DIaT_tEQsmqj",
    "scrolled": true
   },
   "outputs": [],
   "source": [
    "group2.intersection((2, 3), (1, 3))"
   ]
  },
  {
   "cell_type": "code",
   "execution_count": 0,
   "metadata": {
    "colab": {},
    "colab_type": "code",
    "id": "Nob5geiCsmqk"
   },
   "outputs": [],
   "source": [
    "group1.difference(group2)"
   ]
  },
  {
   "cell_type": "code",
   "execution_count": 0,
   "metadata": {
    "colab": {},
    "colab_type": "code",
    "id": "NTVpKam4smqk"
   },
   "outputs": [],
   "source": [
    "group1 - group2 - group3  # evaluated from left to right"
   ]
  },
  {
   "cell_type": "code",
   "execution_count": 0,
   "metadata": {
    "colab": {},
    "colab_type": "code",
    "id": "BKc6HCivsmql"
   },
   "outputs": [],
   "source": [
    "group1.symmetric_difference(group2)"
   ]
  },
  {
   "cell_type": "code",
   "execution_count": 0,
   "metadata": {
    "colab": {},
    "colab_type": "code",
    "id": "BbK4tE2nsmqm",
    "scrolled": true
   },
   "outputs": [],
   "source": [
    "group1 ^ group2 ^ group3  # evaluated from left to right"
   ]
  },
  {
   "cell_type": "markdown",
   "metadata": {
    "colab_type": "text",
    "id": "Xaka5TGwsmqq"
   },
   "source": [
    "- [`isdisjoint(<other>)`](https://docs.python.org/3/library/stdtypes.html#frozenset.isdisjoint) method determines whether or not two sets have any elements in common:"
   ]
  },
  {
   "cell_type": "code",
   "execution_count": 0,
   "metadata": {
    "cell_style": "split",
    "colab": {},
    "colab_type": "code",
    "id": "GIh-5bO8smqq"
   },
   "outputs": [],
   "source": [
    "group1.isdisjoint(group2)"
   ]
  },
  {
   "cell_type": "code",
   "execution_count": 0,
   "metadata": {
    "cell_style": "split",
    "colab": {},
    "colab_type": "code",
    "id": "mKsq8thWsmqq"
   },
   "outputs": [],
   "source": [
    "group1.isdisjoint('Amy')"
   ]
  },
  {
   "cell_type": "markdown",
   "metadata": {
    "colab_type": "text",
    "id": "cmwKvZazsmqr"
   },
   "source": [
    "- The `<=` (`<`) operator or [`issubset(other)`](https://docs.python.org/3/library/stdtypes.html#frozenset.issubset) method determines whether one set is a (***proper***) subset of the other. By contrast, the `>=` (`>`) operator or [`issuperset(other)`](https://docs.python.org/3/library/stdtypes.html#frozenset.issubset) method determines whether one set is a (***proper***) superset of the other:"
   ]
  },
  {
   "cell_type": "code",
   "execution_count": 0,
   "metadata": {
    "colab": {},
    "colab_type": "code",
    "id": "XnR8rnY8smqr"
   },
   "outputs": [],
   "source": [
    "group1 - group2 <= group1"
   ]
  },
  {
   "cell_type": "code",
   "execution_count": 0,
   "metadata": {
    "colab": {},
    "colab_type": "code",
    "id": "FsKXBw_ysmqr"
   },
   "outputs": [],
   "source": [
    "group3 < group3"
   ]
  },
  {
   "cell_type": "code",
   "execution_count": 0,
   "metadata": {
    "colab": {},
    "colab_type": "code",
    "id": "hK30PSmasmqs"
   },
   "outputs": [],
   "source": [
    "group1 | group2 > group1 "
   ]
  },
  {
   "cell_type": "markdown",
   "metadata": {
    "colab_type": "text",
    "id": "khpFzMmmsmqs"
   },
   "source": [
    "---\n",
    "## Methods That Modifying a Set\n",
    "\n",
    "We can grow and shrink a set as needed by using a mix of operators and methods:\n",
    "\n",
    "\n",
    "\n",
    "- [`update(others)`](https://docs.python.org/3/library/stdtypes.html#frozenset.update) or `set |= other | ...` modifies a set by union.\n",
    "\n",
    "\n",
    "\n",
    "- [`intersection_update(others)`](https://docs.python.org/3/library/stdtypes.html#frozenset.intersection_update) or `set &= other & ...` modifies a set by intersection.\n",
    "\n",
    "\n",
    "- [`difference_update(others)`](https://docs.python.org/3/library/stdtypes.html#frozenset.difference_update) or `set -= other | ...` modifies a set by by difference.\n",
    "\n",
    "\n",
    "- [`symmetric_difference_update(other)`](https://docs.python.org/3/library/stdtypes.html#frozenset.symmetric_difference_update) or `set ^= other` modifies a set by symmetric difference.\n",
    "\n",
    "\n",
    "- [`add(elem)`](https://docs.python.org/3/library/stdtypes.html#frozenset.add) adds a single immutable object to a set.\n",
    "\n",
    "\n",
    "\n",
    "- [`remove(elem)`](https://docs.python.org/3/library/stdtypes.html#frozenset.remove) or [`discard(elem)`](https://docs.python.org/3/library/stdtypes.html#frozenset.discard) removes an element from a set. They differ in whether to raise an exception if the element is not in the set.\n",
    "\n",
    "- [`pop()`](https://docs.python.org/3/library/stdtypes.html#frozenset.pop) removes and returns a random element from a set. Raise an exception if the set is empty."
   ]
  },
  {
   "cell_type": "markdown",
   "metadata": {
    "colab_type": "text",
    "id": "95qyt3LSsmqs"
   },
   "source": [
    "---\n",
    "## How to Define a Set of Sets?\n",
    "\n",
    " "
   ]
  },
  {
   "cell_type": "code",
   "execution_count": 0,
   "metadata": {
    "cell_style": "split",
    "colab": {},
    "colab_type": "code",
    "id": "5QOr2598smqt"
   },
   "outputs": [],
   "source": [
    "odd_numbers = set([1, 3, 5])"
   ]
  },
  {
   "cell_type": "code",
   "execution_count": 0,
   "metadata": {
    "cell_style": "split",
    "colab": {},
    "colab_type": "code",
    "id": "zWFukNttsmqt"
   },
   "outputs": [],
   "source": [
    "even_numbers = set([2, 4, 6])"
   ]
  },
  {
   "cell_type": "code",
   "execution_count": 0,
   "metadata": {
    "colab": {},
    "colab_type": "code",
    "id": "nuhBG_p6smqt",
    "outputId": "db90619c-508d-4e92-b84a-532cc45c60c8",
    "scrolled": true
   },
   "outputs": [
    {
     "ename": "TypeError",
     "evalue": "unhashable type: 'set'",
     "output_type": "error",
     "traceback": [
      "\u001b[1;31m---------------------------------------------------------------------------\u001b[0m",
      "\u001b[1;31mTypeError\u001b[0m                                 Traceback (most recent call last)",
      "\u001b[1;32m<ipython-input-102-aaedbb4e075c>\u001b[0m in \u001b[0;36m<module>\u001b[1;34m\u001b[0m\n\u001b[1;32m----> 1\u001b[1;33m \u001b[0mintegers\u001b[0m \u001b[1;33m=\u001b[0m \u001b[1;33m{\u001b[0m\u001b[0modd_numbers\u001b[0m\u001b[1;33m,\u001b[0m \u001b[0meven_numbers\u001b[0m\u001b[1;33m}\u001b[0m\u001b[1;33m\u001b[0m\u001b[1;33m\u001b[0m\u001b[0m\n\u001b[0m",
      "\u001b[1;31mTypeError\u001b[0m: unhashable type: 'set'"
     ]
    }
   ],
   "source": [
    "integers = {odd_numbers, even_numbers}"
   ]
  },
  {
   "cell_type": "markdown",
   "metadata": {
    "colab_type": "text",
    "id": "j63PRt0qsmqv"
   },
   "source": [
    "Python provides another built-in type called a **frozenset**, which is in all respects exactly like a set, except that a frozenset is ***immutable***. "
   ]
  },
  {
   "cell_type": "code",
   "execution_count": 0,
   "metadata": {
    "cell_style": "split",
    "colab": {},
    "colab_type": "code",
    "id": "NITGRkW-smqv"
   },
   "outputs": [],
   "source": [
    "odd_numbers = frozenset([1, 3, 5])"
   ]
  },
  {
   "cell_type": "code",
   "execution_count": 0,
   "metadata": {
    "cell_style": "split",
    "colab": {},
    "colab_type": "code",
    "id": "Ygf54HSBsmqw"
   },
   "outputs": [],
   "source": [
    "even_numbers = frozenset([2, 4, 6])"
   ]
  },
  {
   "cell_type": "code",
   "execution_count": 0,
   "metadata": {
    "colab": {},
    "colab_type": "code",
    "id": "Y58ng7Zksmqw"
   },
   "outputs": [],
   "source": [
    "integers = {odd_numbers, even_numbers}\n",
    "integers"
   ]
  }
 ],
 "metadata": {
  "colab": {
   "collapsed_sections": [
    "khpFzMmmsmqs"
   ],
   "name": "Topic 2 Data Structures.ipynb",
   "provenance": []
  },
  "hide_input": false,
  "kernelspec": {
   "display_name": "Python 3",
   "language": "python",
   "name": "python3"
  },
  "language_info": {
   "codemirror_mode": {
    "name": "ipython",
    "version": 3
   },
   "file_extension": ".py",
   "mimetype": "text/x-python",
   "name": "python",
   "nbconvert_exporter": "python",
   "pygments_lexer": "ipython3",
   "version": "3.8.7"
  },
  "toc": {
   "base_numbering": 1,
   "nav_menu": {},
   "number_sections": false,
   "sideBar": true,
   "skip_h1_title": false,
   "title_cell": "Table of Contents",
   "title_sidebar": "Contents",
   "toc_cell": false,
   "toc_position": {},
   "toc_section_display": true,
   "toc_window_display": false
  }
 },
 "nbformat": 4,
 "nbformat_minor": 1
}
