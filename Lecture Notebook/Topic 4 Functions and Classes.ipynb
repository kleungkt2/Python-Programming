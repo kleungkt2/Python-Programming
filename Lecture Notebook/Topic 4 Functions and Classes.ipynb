{
 "cells": [
  {
   "cell_type": "markdown",
   "metadata": {
    "colab_type": "text",
    "id": "LZRm-tkN4vyA"
   },
   "source": [
    "---\n",
    "\n",
    "# The Loan Approval Example\n",
    "\n",
    "For a bank to consider whether or not to offer someone a loan:\n",
    "\n",
    "\n",
    "\n",
    "\n",
    "\n",
    "| Name |  Income | Years | Criminal | Decision |\n",
    "|-----|-----|-----|-----|-----|\n",
    "| Amy | 27 |4.2 |  No | ? |\n",
    "| Sam | 32 |1.5 |  No | ? |\n",
    "| Jane | 55 | 3.5  | Yes | ? |\n",
    "|...|\n",
    "\n"
   ]
  },
  {
   "cell_type": "code",
   "execution_count": 4,
   "metadata": {
    "colab": {},
    "colab_type": "code",
    "id": "TzytERd8AiKQ"
   },
   "outputs": [],
   "source": [
    "customer_1 = {'name': 'Amy', 'income': 27, 'years': 4.2, 'criminal': 'No'}"
   ]
  },
  {
   "cell_type": "markdown",
   "metadata": {
    "cell_style": "split",
    "colab_type": "text",
    "id": "jgxMndyHAiKb"
   },
   "source": [
    "<img src=\"https://raw.githubusercontent.com/justinjiajia/img/master/python/3dt.png\" width=500  />\n"
   ]
  },
  {
   "cell_type": "code",
   "execution_count": 5,
   "metadata": {
    "cell_style": "split",
    "colab": {},
    "colab_type": "code",
    "id": "eWNutezz4vyD",
    "outputId": "b213f130-0cd0-4c54-c3aa-10a1bb87d3c8",
    "scrolled": false
   },
   "outputs": [
    {
     "name": "stdout",
     "output_type": "stream",
     "text": [
      "Approve\n"
     ]
    }
   ],
   "source": [
    "if customer_1['income'] >= 70: \n",
    "    print('Approve')\n",
    "    \n",
    "elif customer_1['income'] >= 30:\n",
    "    if customer_1['years'] >= 2:\n",
    "        print(\"Approve\")\n",
    "    else:\n",
    "        print(\"Reject\")\n",
    "        \n",
    "else:\n",
    "    if customer_1['criminal'] == \"No\":\n",
    "        print('Approve')\n",
    "    else: \n",
    "        print('Reject')"
   ]
  },
  {
   "cell_type": "markdown",
   "metadata": {
    "colab_type": "text",
    "id": "nDQYB9924vyF"
   },
   "source": [
    "What if we want to make a decsion for a different customer, say `customer_2`:"
   ]
  },
  {
   "cell_type": "code",
   "execution_count": 6,
   "metadata": {
    "colab": {},
    "colab_type": "code",
    "id": "OcDbDCLE4vyG"
   },
   "outputs": [],
   "source": [
    "customer_2 = {'name': 'Sam', 'income': 32, 'years': 1.5, 'criminal': 'No'}"
   ]
  },
  {
   "cell_type": "markdown",
   "metadata": {
    "cell_style": "split",
    "colab_type": "text",
    "id": "Ss-Syjt74vyH"
   },
   "source": [
    "- Copy and paste this block of code;\n",
    "\n",
    "- Change every `customer_1` to `customer_2` and execute the code again."
   ]
  },
  {
   "cell_type": "code",
   "execution_count": 7,
   "metadata": {
    "cell_style": "split",
    "colab": {},
    "colab_type": "code",
    "id": "6phOIAQv4vyI",
    "outputId": "e0c357b8-d409-4b6b-9a6e-52ffee53aca8"
   },
   "outputs": [
    {
     "name": "stdout",
     "output_type": "stream",
     "text": [
      "Reject\n"
     ]
    }
   ],
   "source": [
    "if customer_2['income'] >= 70: \n",
    "    print('Approve')\n",
    "    \n",
    "elif customer_2['income'] >= 30:\n",
    "    if customer_2['years'] >= 2:\n",
    "        print(\"Approve\")\n",
    "    else:\n",
    "        print(\"Reject\")\n",
    "        \n",
    "else:\n",
    "    if customer_2['criminal'] == \"No\":\n",
    "        print('Approve')\n",
    "    else: \n",
    "        print('Reject')"
   ]
  },
  {
   "cell_type": "markdown",
   "metadata": {
    "colab_type": "text",
    "id": "gwix827d4vyK"
   },
   "source": [
    "There's a chance of making incidental mistakes.\n",
    "\n",
    "We should consider writing a function whenever we've copied and pasted a block of code more than twice.\n",
    "\n",
    "---\n",
    "\n",
    "# 1 Functions\n",
    "\n",
    "Python provides a number of important **built-in functions** as we've seen, e.g., `type()`, `str()`, `sum()`, `len()`, etc. \n",
    "\n",
    "A function is a named sequence of statements that:\n",
    "\n",
    "- takes input\n",
    "- does something with that input\n",
    "- and, in many cases, also returns the result\n",
    "\n",
    "\n",
    "User-defined functions are needed when we want to automate certain tasks that we have to repeat over and over, often ***with varying inputs***.\n",
    "\n",
    "\n",
    "\n",
    " \n",
    "\n",
    "\n",
    " \n",
    "\n",
    "\n",
    "\n",
    "   "
   ]
  },
  {
   "cell_type": "markdown",
   "metadata": {},
   "source": [
    "\n",
    "---\n",
    "\n",
    "## 1.1 Defining a Function\n",
    "\n",
    "\n",
    "[The `def` statement](https://docs.python.org/3.7/reference/compound_stmts.html#function-definitions) creates a function object and assigns it to a name. "
   ]
  },
  {
   "cell_type": "code",
   "execution_count": 1,
   "metadata": {
    "cell_style": "split",
    "colab": {},
    "colab_type": "code",
    "id": "BbgTmQvBAiLl"
   },
   "outputs": [],
   "source": [
    "def add_1(a, b):\n",
    "    '''implement an addition operation'''\n",
    "    \n",
    "    c = a + b\n",
    "    return c"
   ]
  },
  {
   "cell_type": "markdown",
   "metadata": {
    "cell_style": "split",
    "colab_type": "text",
    "id": "WoXX_UKyAiLu"
   },
   "source": [
    "<img src=\"https://raw.githubusercontent.com/justinjiajia/img/master/python/function.png\" width=280 />"
   ]
  },
  {
   "cell_type": "code",
   "execution_count": 2,
   "metadata": {},
   "outputs": [
    {
     "name": "stdout",
     "output_type": "stream",
     "text": [
      "['In', 'Out', '_', '__', '___', '__builtin__', '__builtins__', '__doc__', '__loader__', '__name__', '__package__', '__spec__', '_dh', '_i', '_i1', '_i2', '_ih', '_ii', '_iii', '_oh', 'add_1', 'exit', 'get_ipython', 'quit']\n"
     ]
    }
   ],
   "source": [
    "print(dir())"
   ]
  },
  {
   "cell_type": "markdown",
   "metadata": {},
   "source": [
    "The `def` statement consists of a header line (starting with the `def` keyword) followed by a block of statements:"
   ]
  },
  {
   "cell_type": "markdown",
   "metadata": {
    "colab_type": "text",
    "id": "h5blFhWiAiL3"
   },
   "source": [
    "<pre class=\"lang-python\">\n",
    "<span style=\"color:#2767C5\";>def</span> <span style=\"color:#BB2F29\";>&lt;function name&gt;</span>(<span style=\"color:#BB2F29\";>&lt;parameter 1&gt;</span>, <span style=\"color:#BB2F29\";>&lt;parameter 2&gt;</span>, ...):\n",
    "    <span style=\"color:#469C63\";>'''documentation string that can span multiple lines'''</span>\n",
    "    \n",
    "<div style=\" border-left: 6px solid red; background-color: #e8e9ea;\">   statement 1               \n",
    "   statement 2                  \n",
    "   ...\n",
    "   statement N\n",
    "   <span style=\"color:#2767C5\";>return</span> <span style=\"color:#BB2F29\";>&lt;object&gt;</span></div></pre>"
   ]
  },
  {
   "cell_type": "markdown",
   "metadata": {
    "colab_type": "text",
    "id": "lC8nkMnkAiL7"
   },
   "source": [
    "<p>   <p>\n",
    "\n",
    " \n",
    "\n",
    "\n",
    "\n",
    "- The `def` header line specifies a function name that is assigned the function object, along with a list of zero or more parameters (separated by comma) in parentheses (`()`) .\n",
    "   \n",
    "   - Like a variable name, a function name is used to refer to the function later. \n",
    "   \n",
    "   -  The function parameters are a special kind of variables that refer to objects provided as input to the function ***at the point of call***. \n",
    "   \n",
    "  "
   ]
  },
  {
   "cell_type": "code",
   "execution_count": 0,
   "metadata": {
    "colab": {},
    "colab_type": "code",
    "id": "joqQEo50AiL-",
    "outputId": "424d034e-b177-4f1f-944a-0319c05d1feb"
   },
   "outputs": [
    {
     "data": {
      "text/plain": [
       "21"
      ]
     },
     "execution_count": 5,
     "metadata": {
      "tags": []
     },
     "output_type": "execute_result"
    }
   ],
   "source": [
    "add_1(a=10, b=11)"
   ]
  },
  {
   "cell_type": "markdown",
   "metadata": {
    "colab_type": "text",
    "id": "S8s-PBXe4vyO"
   },
   "source": [
    "   - The function parameters collectively form a specification known as the function's **signature**, defining the ways in which we can call the function.  "
   ]
  },
  {
   "cell_type": "code",
   "execution_count": 0,
   "metadata": {
    "cell_style": "center",
    "colab": {},
    "colab_type": "code",
    "id": "du9_S9cKAiMP",
    "outputId": "b0ea167e-5785-4bb6-838f-75ca8f0c56cd"
   },
   "outputs": [
    {
     "name": "stdout",
     "output_type": "stream",
     "text": [
      "Help on function add_1 in module __main__:\n",
      "\n",
      "add_1(a, b)\n",
      "    implement an addition operation\n",
      "\n"
     ]
    }
   ],
   "source": [
    "help(add_1)"
   ]
  },
  {
   "cell_type": "markdown",
   "metadata": {
    "colab_type": "text",
    "id": "ElBi-HFh4vyR"
   },
   "source": [
    "- Following a colon (`:`), everything that starts at the next line and is ***indented*** thereafter is the **function body**.\n",
    "\n",
    "\n",
    "- Function bodies often contain an ***optional*** [`return` statement](https://docs.python.org/3.7/reference/simple_stmts.html#the-return-statement). `return` triggers the function to return the specified object.\n",
    "\n",
    "\n",
    "\n",
    "- Typing the function name alone returns its string representation:\n"
   ]
  },
  {
   "cell_type": "code",
   "execution_count": 0,
   "metadata": {
    "colab": {},
    "colab_type": "code",
    "id": "v752cgWt4vyX",
    "outputId": "cef86a48-5fd8-4a5d-f429-21c1f3d43adb"
   },
   "outputs": [
    {
     "data": {
      "text/plain": [
       "<function __main__.add_1(a, b)>"
      ]
     },
     "execution_count": 3,
     "metadata": {
      "tags": []
     },
     "output_type": "execute_result"
    }
   ],
   "source": [
    "add_1"
   ]
  },
  {
   "cell_type": "markdown",
   "metadata": {
    "colab_type": "text",
    "id": "NpaNGWHN4vyZ"
   },
   "source": [
    "\n",
    "\n",
    "---\n",
    "\n",
    "## 1.2 Calling a Function\n",
    "\n",
    "\n",
    "To run a function's body, we use the function's name followed by `()` to <b>*call*/*invoke the function*</b>. \n",
    "\n",
    " - If any parameters were specified in the function definition, the function call should also send objects as inputs (known as the <b>*arguments*</b>) that match the parameters:\n",
    "\n",
    "<p>"
   ]
  },
  {
   "cell_type": "code",
   "execution_count": 0,
   "metadata": {
    "cell_style": "split",
    "colab": {},
    "colab_type": "code",
    "id": "gy0n2bI24vya"
   },
   "outputs": [],
   "source": [
    "add_1(2, 4)  # positional matching"
   ]
  },
  {
   "cell_type": "code",
   "execution_count": 0,
   "metadata": {
    "cell_style": "split",
    "colab": {},
    "colab_type": "code",
    "id": "WmF4nlTJ4vyb"
   },
   "outputs": [],
   "source": [
    "add_1(b=100, a=5.0)  # matching by name"
   ]
  },
  {
   "cell_type": "markdown",
   "metadata": {
    "colab_type": "text",
    "id": "dzPhkIyH4vyd"
   },
   "source": [
    "- The **parameters** are a property of the function, whereas the **arguments** can vary each time we call the function.\n"
   ]
  },
  {
   "cell_type": "markdown",
   "metadata": {
    "colab_type": "text",
    "id": "0DfnVD6W4vye"
   },
   "source": [
    "Argument passing involves automatically assigning **object references** to variable names ***local to the function***, and are just another instance of Python assignment at work."
   ]
  },
  {
   "cell_type": "code",
   "execution_count": 22,
   "metadata": {
    "colab": {},
    "colab_type": "code",
    "id": "ZlT42nYu4vye",
    "outputId": "43d74088-de2d-45da-95a9-0978de479300"
   },
   "outputs": [
    {
     "data": {
      "text/plain": [
       "6"
      ]
     },
     "execution_count": 22,
     "metadata": {},
     "output_type": "execute_result"
    }
   ],
   "source": [
    "x = add_1(2, 4)\n",
    "x"
   ]
  },
  {
   "cell_type": "markdown",
   "metadata": {
    "colab_type": "text",
    "id": "rgDtYeGr4vyg"
   },
   "source": [
    "\n",
    "\n",
    "\n",
    "\n",
    "<img src=\"https://raw.githubusercontent.com/justinjiajia/img/master/python/functioncall.png\" width=800/>\n",
    "\n",
    "- All the names assigned when a function runs live in a **local namespace**. They will only be accessible inside the function being called.\n",
    "\n",
    "\n"
   ]
  },
  {
   "cell_type": "code",
   "execution_count": 23,
   "metadata": {
    "colab": {},
    "colab_type": "code",
    "id": "Fvky_aPCAiNH",
    "outputId": "b493d5f5-65dd-488f-c1df-79e8ec54a5cc"
   },
   "outputs": [
    {
     "ename": "NameError",
     "evalue": "name 'c' is not defined",
     "output_type": "error",
     "traceback": [
      "\u001b[1;31m---------------------------------------------------------------------------\u001b[0m",
      "\u001b[1;31mNameError\u001b[0m                                 Traceback (most recent call last)",
      "\u001b[1;32m<ipython-input-23-2b66fd261ee5>\u001b[0m in \u001b[0;36m<module>\u001b[1;34m\u001b[0m\n\u001b[1;32m----> 1\u001b[1;33m \u001b[0mc\u001b[0m\u001b[1;33m\u001b[0m\u001b[1;33m\u001b[0m\u001b[0m\n\u001b[0m",
      "\u001b[1;31mNameError\u001b[0m: name 'c' is not defined"
     ]
    }
   ],
   "source": [
    "c"
   ]
  },
  {
   "cell_type": "markdown",
   "metadata": {
    "colab_type": "text",
    "id": "v01hI1P5AiNL"
   },
   "source": [
    "\n",
    "- Every time we call a function, a new local namespace is created and exists only while the function runs. The local namespace is a mechanism to deal with possible **name collisions**.\n",
    "\n",
    "- After a call, the execution returns to the place where the function was called.\n",
    "\n"
   ]
  },
  {
   "cell_type": "markdown",
   "metadata": {
    "colab_type": "text",
    "id": "aEDICXE74vyi"
   },
   "source": [
    "---\n",
    "\n",
    "\n",
    "## 1.3 Specifying Return Values\n",
    "\n",
    "\n",
    "Output which is returned from a function is called a **return value**, which can be defined by [the **`return`** statement](https://docs.python.org/3.7/reference/simple_stmts.html#grammar-token-return-stmt):"
   ]
  },
  {
   "cell_type": "code",
   "execution_count": 24,
   "metadata": {
    "colab": {},
    "colab_type": "code",
    "id": "FJSUPVIh4vyj"
   },
   "outputs": [],
   "source": [
    "def add_2(a, b):\n",
    "    print(a + b)"
   ]
  },
  {
   "cell_type": "code",
   "execution_count": 25,
   "metadata": {
    "colab": {},
    "colab_type": "code",
    "id": "iXPdvH5L4vym",
    "outputId": "54156001-ba29-488e-882f-8dabcae1a26f"
   },
   "outputs": [
    {
     "name": "stdout",
     "output_type": "stream",
     "text": [
      "6\n"
     ]
    }
   ],
   "source": [
    "result_2 = add_2(2, 4) "
   ]
  },
  {
   "cell_type": "code",
   "execution_count": 26,
   "metadata": {
    "colab": {},
    "colab_type": "code",
    "id": "BdHraNdL4vyp"
   },
   "outputs": [],
   "source": [
    "result_2"
   ]
  },
  {
   "cell_type": "code",
   "execution_count": 27,
   "metadata": {},
   "outputs": [
    {
     "data": {
      "text/plain": [
       "NoneType"
      ]
     },
     "execution_count": 27,
     "metadata": {},
     "output_type": "execute_result"
    }
   ],
   "source": [
    "type(None)"
   ]
  },
  {
   "cell_type": "markdown",
   "metadata": {},
   "source": [
    "What was returned is `None`, which is a special value ***which means \"nothing\"***. "
   ]
  },
  {
   "cell_type": "code",
   "execution_count": 28,
   "metadata": {
    "colab": {},
    "colab_type": "code",
    "id": "U1-Vdrxh4vys"
   },
   "outputs": [],
   "source": [
    "def add_3(a, b):\n",
    "    return a + b"
   ]
  },
  {
   "cell_type": "code",
   "execution_count": 29,
   "metadata": {
    "colab": {},
    "colab_type": "code",
    "id": "0qsFvsuo4vyu"
   },
   "outputs": [],
   "source": [
    "result_3 = add_3(2, 4)"
   ]
  },
  {
   "cell_type": "code",
   "execution_count": 30,
   "metadata": {
    "colab": {},
    "colab_type": "code",
    "id": "NAXt3S774vyw",
    "outputId": "eb6030ee-4796-4f0b-b3d0-d921f7eb7d14"
   },
   "outputs": [
    {
     "data": {
      "text/plain": [
       "6"
      ]
     },
     "execution_count": 30,
     "metadata": {},
     "output_type": "execute_result"
    }
   ],
   "source": [
    "result_3"
   ]
  },
  {
   "cell_type": "markdown",
   "metadata": {
    "colab_type": "text",
    "id": "Ig8TR_Uz4vyy"
   },
   "source": [
    "A function can only have a ***single*** return value, which can be a **compound object**:"
   ]
  },
  {
   "cell_type": "code",
   "execution_count": 31,
   "metadata": {
    "colab": {},
    "colab_type": "code",
    "id": "lQGm4yQi4vyz"
   },
   "outputs": [],
   "source": [
    "def divide(dividend, divisor):        # our own way to implement divmod()\n",
    "    quotient = dividend // divisor\n",
    "    remainder = dividend % divisor\n",
    "    return (quotient, remainder)"
   ]
  },
  {
   "cell_type": "code",
   "execution_count": 32,
   "metadata": {
    "colab": {},
    "colab_type": "code",
    "id": "qJfMjyjK4vy1",
    "outputId": "ac92bc5b-fc7d-402d-db74-901ba803e931"
   },
   "outputs": [
    {
     "data": {
      "text/plain": [
       "(8, 3)"
      ]
     },
     "execution_count": 32,
     "metadata": {},
     "output_type": "execute_result"
    }
   ],
   "source": [
    "divide(35, 4)"
   ]
  },
  {
   "cell_type": "markdown",
   "metadata": {
    "colab_type": "text",
    "id": "THs8LwJI4vzA"
   },
   "source": [
    "---\n",
    "\n",
    "\n",
    "\n",
    "We can specify more than one `return` statement within a function. When a `return` statement is reached, the flow of control exits the function immediately:\n"
   ]
  },
  {
   "cell_type": "code",
   "execution_count": 37,
   "metadata": {
    "colab": {},
    "colab_type": "code",
    "id": "seo3-oiK4vzB"
   },
   "outputs": [],
   "source": [
    "def divide(dividend, divisor):\n",
    "    if not divisor:\n",
    "        print('The divisor cannot be zero!')\n",
    "        return None                     # None can be dropped here\n",
    "\n",
    "    quotient = dividend // divisor\n",
    "    remainder = dividend % divisor\n",
    "    return quotient, remainder"
   ]
  },
  {
   "cell_type": "code",
   "execution_count": 34,
   "metadata": {
    "colab": {},
    "colab_type": "code",
    "id": "oxQV6aqk4vzC"
   },
   "outputs": [
    {
     "data": {
      "text/plain": [
       "(5, 3)"
      ]
     },
     "execution_count": 34,
     "metadata": {},
     "output_type": "execute_result"
    }
   ],
   "source": [
    "divide(28, 5)"
   ]
  },
  {
   "cell_type": "code",
   "execution_count": 38,
   "metadata": {},
   "outputs": [
    {
     "name": "stdout",
     "output_type": "stream",
     "text": [
      "The divisor cannot be zero!\n"
     ]
    }
   ],
   "source": [
    "divide(28, 0)"
   ]
  },
  {
   "cell_type": "markdown",
   "metadata": {
    "colab_type": "text",
    "id": "RtEd9m1Z4vzE"
   },
   "source": [
    "---\n",
    "\n",
    "Extracting repeated code out into a function provides us a more powerful and general way than copying and pasting:"
   ]
  },
  {
   "cell_type": "code",
   "execution_count": 39,
   "metadata": {
    "colab": {},
    "colab_type": "code",
    "id": "lEvQxGtF4vzE"
   },
   "outputs": [],
   "source": [
    "def approve_loan(customer):\n",
    "    \n",
    "    if customer['income'] >= 70: print('Approve')\n",
    "    \n",
    "    elif customer['income'] >= 30:\n",
    "        if customer['years'] >= 2: print(\"Approve\")\n",
    "        else:print(\"Reject\")\n",
    "            \n",
    "    else:\n",
    "        if customer['criminal'] == \"No\": print('Approve')\n",
    "        else: print('Reject')"
   ]
  },
  {
   "cell_type": "markdown",
   "metadata": {
    "colab_type": "text",
    "id": "tAZzuO4G4vzH"
   },
   "source": [
    "Then we call the function `approve_loan` with `customer_1` and `customer_2`, respectively:"
   ]
  },
  {
   "cell_type": "code",
   "execution_count": 40,
   "metadata": {
    "cell_style": "split",
    "colab": {},
    "colab_type": "code",
    "id": "uCcBeBuM4vzI",
    "outputId": "038ecc16-3923-4f0d-d67c-fa9c8c8beb17"
   },
   "outputs": [
    {
     "name": "stdout",
     "output_type": "stream",
     "text": [
      "Approve\n"
     ]
    }
   ],
   "source": [
    "approve_loan(customer_1)"
   ]
  },
  {
   "cell_type": "code",
   "execution_count": 41,
   "metadata": {
    "cell_style": "split",
    "colab": {},
    "colab_type": "code",
    "id": "QgvA-V-m4vzK",
    "outputId": "2f5584fb-f235-4ea4-fe35-3363adedd84c"
   },
   "outputs": [
    {
     "name": "stdout",
     "output_type": "stream",
     "text": [
      "Reject\n"
     ]
    }
   ],
   "source": [
    "approve_loan(customer_2)"
   ]
  },
  {
   "cell_type": "code",
   "execution_count": 7,
   "metadata": {
    "colab": {},
    "colab_type": "code",
    "id": "dAJWRI854vzN",
    "outputId": "7b36cfac-26ad-4f23-df97-77eddc7101f2"
   },
   "outputs": [
    {
     "name": "stdout",
     "output_type": "stream",
     "text": [
      "customer 1: Approve\n",
      "customer 2: Reject\n"
     ]
    }
   ],
   "source": [
    "customers = {'customer 1': customer_1, 'customer 2': customer_2}\n",
    "\n",
    "for label, data in customers.items():\n",
    "    print(label, ':', sep='', end=' ')\n",
    "    approve_loan(data)"
   ]
  },
  {
   "cell_type": "markdown",
   "metadata": {
    "colab_type": "text",
    "id": "euHm8bBp4vzO"
   },
   "source": [
    "\n",
    "---\n",
    "\n",
    "## 1.4 Argument Passing\n",
    "\n",
    "\n",
    "\n",
    "Arguments are passed by assigning **object references**  to **local names** during a call. \n",
    "\n",
    "\n",
    "As a result, functions can change **mutable objects** referred to by input variables (in contrast, **immutable objects** such as `int`s, `float`s, and `str`s, cannot be changed by a function):\n",
    "\n",
    "\n",
    "\n",
    "\n"
   ]
  },
  {
   "cell_type": "code",
   "execution_count": 42,
   "metadata": {
    "colab": {},
    "colab_type": "code",
    "id": "_H714Da5AiOt"
   },
   "outputs": [
    {
     "data": {
      "text/plain": [
       "['feed dog']"
      ]
     },
     "execution_count": 42,
     "metadata": {},
     "output_type": "execute_result"
    }
   ],
   "source": [
    "b = ['feed dog', 'wash dishes']\n",
    "\n",
    "def do_chores(a):\n",
    "    a.pop()\n",
    "    \n",
    "do_chores(b)\n",
    "b"
   ]
  },
  {
   "cell_type": "markdown",
   "metadata": {
    "colab_type": "text",
    "id": "dJr5KUqeAiOw"
   },
   "source": [
    "\n",
    "During argument passing, two maching schemes determine how the argument objects in the call are paired with parameter names in the header."
   ]
  },
  {
   "cell_type": "markdown",
   "metadata": {
    "colab_type": "text",
    "id": "AXRhZVKhAiOw"
   },
   "source": [
    "---\n",
    "\n",
    "### 1.4.1 Positional Matching\n",
    "\n",
    "By default, argument objects get assigned to the parameter names ***according to their position***.\n",
    "\n",
    "For example, consider the function that finds the roots of a quadratic equation:\n",
    "\n",
    "$$\n",
    "ax^2+bx+c=0\n",
    "$$"
   ]
  },
  {
   "cell_type": "code",
   "execution_count": 0,
   "metadata": {
    "colab": {},
    "colab_type": "code",
    "id": "ZwIifFOR4vzQ"
   },
   "outputs": [],
   "source": [
    "def quad_1(a, b, c):\n",
    "    x1 = -b / (2 * a)\n",
    "    x2 = (b ** 2 - 4 * a * c) ** 0.5 / (2 * a)\n",
    "    return (x1 + x2), (x1 - x2)"
   ]
  },
  {
   "cell_type": "code",
   "execution_count": 0,
   "metadata": {
    "colab": {},
    "colab_type": "code",
    "id": "KOSP2bER4vzS",
    "outputId": "dc09c043-c5f9-47ff-bbc1-bc39c27c7db2"
   },
   "outputs": [
    {
     "data": {
      "text/plain": [
       "(-1.0, -2.0)"
      ]
     },
     "execution_count": 12,
     "metadata": {
      "tags": []
     },
     "output_type": "execute_result"
    }
   ],
   "source": [
    "quad_1(1, 3, 2)"
   ]
  },
  {
   "cell_type": "markdown",
   "metadata": {
    "colab_type": "text",
    "id": "Bvpj4qwm4vzV"
   },
   "source": [
    "\n",
    "---\n",
    "\n",
    "### 1.4.2 Keyword Matching\n",
    "\n",
    "Python allows us to alter the way of argument matching by specifying matches by name  explicitly. The consequent arguments are called **named**/**keyword arguments**: \n",
    "\n",
    "- Arguments are associated with names/keywords for matching parameters during a call. \n",
    "\n",
    "- When we call functions in this way, the order (position) of the arguments can be changed. "
   ]
  },
  {
   "cell_type": "code",
   "execution_count": 0,
   "metadata": {
    "cell_style": "split",
    "colab": {},
    "colab_type": "code",
    "id": "r7i4Q4mm4vzV"
   },
   "outputs": [],
   "source": [
    "quad_1(c=2, a=1, b=3)"
   ]
  },
  {
   "cell_type": "code",
   "execution_count": 0,
   "metadata": {
    "cell_style": "split",
    "colab": {},
    "colab_type": "code",
    "id": "dnpgBthS4vzY"
   },
   "outputs": [],
   "source": [
    "quad_1(1, c=2, b=3)"
   ]
  },
  {
   "cell_type": "markdown",
   "metadata": {
    "colab_type": "text",
    "id": "xrbbhagr4vzb"
   },
   "source": [
    "\n",
    "---\n",
    "\n",
    "**Positional matching** and **keyword matching** (matching by name) can be mixed during a function call. But arguments using **positional matching** must precede arguments using **keyword matching**."
   ]
  },
  {
   "cell_type": "code",
   "execution_count": 0,
   "metadata": {
    "cell_style": "split",
    "colab": {},
    "colab_type": "code",
    "id": "ZENy3Wf_4vzb",
    "outputId": "04addd8e-2d11-4cb0-e3b3-e9aa6a93dccb"
   },
   "outputs": [
    {
     "ename": "SyntaxError",
     "evalue": "positional argument follows keyword argument (<ipython-input-65-9da4fdbd6c10>, line 1)",
     "output_type": "error",
     "traceback": [
      "\u001b[1;36m  File \u001b[1;32m\"<ipython-input-65-9da4fdbd6c10>\"\u001b[1;36m, line \u001b[1;32m1\u001b[0m\n\u001b[1;33m    quad(1, c=2 , 3)\u001b[0m\n\u001b[1;37m                 ^\u001b[0m\n\u001b[1;31mSyntaxError\u001b[0m\u001b[1;31m:\u001b[0m positional argument follows keyword argument\n"
     ]
    }
   ],
   "source": [
    "quad_1(1, c=2, 3)"
   ]
  },
  {
   "cell_type": "code",
   "execution_count": 0,
   "metadata": {
    "cell_style": "split",
    "colab": {},
    "colab_type": "code",
    "id": "yVHj780I4vzc",
    "outputId": "f932e883-d32e-4543-e7bd-be107c9e8cbf",
    "scrolled": true
   },
   "outputs": [
    {
     "ename": "TypeError",
     "evalue": "quad() got multiple values for argument 'a'",
     "output_type": "error",
     "traceback": [
      "\u001b[1;31m---------------------------------------------------------------------------\u001b[0m",
      "\u001b[1;31mTypeError\u001b[0m                                 Traceback (most recent call last)",
      "\u001b[1;32m<ipython-input-66-b9bd1bfd38ad>\u001b[0m in \u001b[0;36m<module>\u001b[1;34m\u001b[0m\n\u001b[1;32m----> 1\u001b[1;33m \u001b[0mquad\u001b[0m\u001b[1;33m(\u001b[0m\u001b[1;36m2\u001b[0m\u001b[1;33m,\u001b[0m \u001b[0mb\u001b[0m\u001b[1;33m=\u001b[0m\u001b[1;36m3\u001b[0m\u001b[1;33m,\u001b[0m \u001b[0ma\u001b[0m\u001b[1;33m=\u001b[0m\u001b[1;36m1\u001b[0m\u001b[1;33m)\u001b[0m\u001b[1;33m\u001b[0m\u001b[1;33m\u001b[0m\u001b[0m\n\u001b[0m",
      "\u001b[1;31mTypeError\u001b[0m: quad() got multiple values for argument 'a'"
     ]
    }
   ],
   "source": [
    "quad_1(2, b=3, a=1)"
   ]
  },
  {
   "cell_type": "markdown",
   "metadata": {
    "colab_type": "text",
    "id": "xWm_0yAU4vze"
   },
   "source": [
    "---\n",
    "\n",
    "## 1.5 Specifying Parameters\n",
    "\n",
    "\n",
    "### 1.5.1 Default Parameter Values\n",
    "\n",
    "A function is said to have default parameter values when one or more parameters have the form `parameter = expression`:"
   ]
  },
  {
   "cell_type": "code",
   "execution_count": 8,
   "metadata": {
    "colab": {},
    "colab_type": "code",
    "id": "oaLPDcuU4vzf"
   },
   "outputs": [],
   "source": [
    "def quad_2(b, c, a=1):      # parameters with default values must follow those without default values\n",
    "    x1 = -b / (2 * a)\n",
    "    x2 = (b ** 2 - 4 * a * c) ** 0.5 / (2 * a)\n",
    "    return (x1 + x2), (x1 - x2)"
   ]
  },
  {
   "cell_type": "markdown",
   "metadata": {
    "colab_type": "text",
    "id": "t_iIgEXC4vzh"
   },
   "source": [
    "For a parameter with a default value, the corresponding argument is ***optional***:"
   ]
  },
  {
   "cell_type": "code",
   "execution_count": 9,
   "metadata": {
    "colab": {},
    "colab_type": "code",
    "id": "p9Tmsui_4vzi",
    "outputId": "811c3db6-8a64-4dca-8d64-f971a9584579"
   },
   "outputs": [
    {
     "data": {
      "text/plain": [
       "(-1.0, -2.0)"
      ]
     },
     "execution_count": 9,
     "metadata": {},
     "output_type": "execute_result"
    }
   ],
   "source": [
    "quad_2(3, 2)"
   ]
  },
  {
   "cell_type": "markdown",
   "metadata": {
    "colab_type": "text",
    "id": "ZLPMmzJM4vzk"
   },
   "source": [
    "But the default value can be overriden by providing an argument during a call:"
   ]
  },
  {
   "cell_type": "code",
   "execution_count": 0,
   "metadata": {
    "colab": {},
    "colab_type": "code",
    "id": "2FUzfpHS4vzk",
    "outputId": "de3c4fae-efcd-4dee-e4a9-5842b9172172"
   },
   "outputs": [
    {
     "data": {
      "text/plain": [
       "(-0.5, -3.0)"
      ]
     },
     "execution_count": 10,
     "metadata": {
      "tags": []
     },
     "output_type": "execute_result"
    }
   ],
   "source": [
    "quad_2(7, 3, 2)"
   ]
  },
  {
   "cell_type": "markdown",
   "metadata": {
    "colab_type": "text",
    "id": "1UMt3Q2e4vzm"
   },
   "source": [
    "Python computes each default value and saves the reference to it precisely ***once***, when the `def` statement evaluates (rather than each time the function gets called). \n",
    "\n",
    "Things can be tricky when the default value is a ***mutable*** object and the function body alters the default value."
   ]
  },
  {
   "cell_type": "code",
   "execution_count": 27,
   "metadata": {
    "colab": {},
    "colab_type": "code",
    "id": "Su7fV8CO4vzm"
   },
   "outputs": [],
   "source": [
    "def add_to_list(pet, pets=[]):\n",
    "    pets.append(pet)\n",
    "    return pets"
   ]
  },
  {
   "cell_type": "code",
   "execution_count": 28,
   "metadata": {},
   "outputs": [
    {
     "data": {
      "text/plain": [
       "['cat']"
      ]
     },
     "execution_count": 28,
     "metadata": {},
     "output_type": "execute_result"
    }
   ],
   "source": [
    "add_to_list('cat')"
   ]
  },
  {
   "cell_type": "code",
   "execution_count": 29,
   "metadata": {},
   "outputs": [
    {
     "data": {
      "text/plain": [
       "['cat', 'dog']"
      ]
     },
     "execution_count": 29,
     "metadata": {},
     "output_type": "execute_result"
    }
   ],
   "source": [
    "add_to_list('dog')  "
   ]
  },
  {
   "cell_type": "markdown",
   "metadata": {
    "colab_type": "text",
    "id": "4tG_W7f04vzr"
   },
   "source": [
    "<img src='https://raw.githubusercontent.com/justinjiajia/img/master/python/default_value.png' width=800/>"
   ]
  },
  {
   "cell_type": "markdown",
   "metadata": {
    "colab_type": "text",
    "id": "wUoRbVYV4vzr"
   },
   "source": [
    "But a function's output should not depend on how many times it has been called (functions should be ***non-stateful***).\n",
    "\n",
    "\n",
    "Instead, we use the following idiom to create an empty list inside the function body:"
   ]
  },
  {
   "cell_type": "code",
   "execution_count": 15,
   "metadata": {
    "colab": {},
    "colab_type": "code",
    "id": "Bd0AAAjN4vzr"
   },
   "outputs": [],
   "source": [
    "def add_to_list(pet, pets=None):    \n",
    "    if pets == None: \n",
    "        pets = []\n",
    "    pets.append(pet)\n",
    "    return pets"
   ]
  },
  {
   "cell_type": "code",
   "execution_count": null,
   "metadata": {},
   "outputs": [],
   "source": [
    "add_to_list('dog')"
   ]
  },
  {
   "cell_type": "code",
   "execution_count": null,
   "metadata": {},
   "outputs": [],
   "source": [
    "add_to_list('cat')"
   ]
  },
  {
   "cell_type": "code",
   "execution_count": null,
   "metadata": {},
   "outputs": [],
   "source": [
    "add_to_list('dog', ['duck'])"
   ]
  },
  {
   "cell_type": "markdown",
   "metadata": {
    "colab_type": "text",
    "id": "3lR3W6HG4vzt"
   },
   "source": [
    "---\n",
    "\n",
    "### 1.5.2 Allowing for an Arbitrary Number of Arguments\n",
    "\n",
    "\n",
    "Python allows us to pass an arbitrary number of positional or keyword arguments to a function.\n",
    "\n",
    "\n",
    "\n"
   ]
  },
  {
   "cell_type": "code",
   "execution_count": 17,
   "metadata": {
    "colab": {},
    "colab_type": "code",
    "id": "R803NGRuAiQI",
    "outputId": "0d3f57b3-ec6f-43a2-e175-07360f28ded9"
   },
   "outputs": [
    {
     "data": {
      "text/plain": [
       "[2, 3, 4]"
      ]
     },
     "execution_count": 17,
     "metadata": {},
     "output_type": "execute_result"
    }
   ],
   "source": [
    "first, *remaining = 1, 2, 3, 4    # recall the use of * to gather excess items in sequence unpacking\n",
    "remaining"
   ]
  },
  {
   "cell_type": "markdown",
   "metadata": {
    "colab_type": "text",
    "id": "0GtPlI_KAiQL"
   },
   "source": [
    "\n",
    "We can put `*` before a parameter name to indicate that it can take a ***variable*** sequence of *positional arguments* and pack them ***into a tuple***, which is then assigned to the variable:"
   ]
  },
  {
   "cell_type": "code",
   "execution_count": 18,
   "metadata": {
    "colab": {},
    "colab_type": "code",
    "id": "hsb3jLFc4vzt"
   },
   "outputs": [],
   "source": [
    "def mean_v1(*elems):    # Positional arguments are packed into a tuple and referenced by elems\n",
    "    print(elems)\n",
    "    if not elems: return 0\n",
    "    sumOfElems = 0; countOfElems = 0\n",
    "    for elem in elems: \n",
    "        sumOfElems += elem\n",
    "        countOfElems += 1\n",
    "    return sumOfElems / countOfElems"
   ]
  },
  {
   "cell_type": "code",
   "execution_count": 32,
   "metadata": {
    "cell_style": "split",
    "colab": {},
    "colab_type": "code",
    "id": "FCrdPQl64vzy",
    "outputId": "ce52c15a-e3be-4b2a-8ab0-1ca267a90d48"
   },
   "outputs": [
    {
     "name": "stdout",
     "output_type": "stream",
     "text": [
      "(1, 2, 3, 4, 5, 6)\n"
     ]
    },
    {
     "data": {
      "text/plain": [
       "3.5"
      ]
     },
     "execution_count": 32,
     "metadata": {},
     "output_type": "execute_result"
    }
   ],
   "source": [
    "mean_v1(1, 2, 3, 4, 5, 6)"
   ]
  },
  {
   "cell_type": "code",
   "execution_count": 0,
   "metadata": {
    "cell_style": "split",
    "colab": {},
    "colab_type": "code",
    "id": "i9-JdSTwAiQb",
    "outputId": "1d4e0aaf-cfd6-4a2f-9962-b97d6863b31f"
   },
   "outputs": [
    {
     "name": "stdout",
     "output_type": "stream",
     "text": [
      "()\n"
     ]
    },
    {
     "data": {
      "text/plain": [
       "0"
      ]
     },
     "execution_count": 9,
     "metadata": {
      "tags": []
     },
     "output_type": "execute_result"
    }
   ],
   "source": [
    "mean_v1()  "
   ]
  },
  {
   "cell_type": "markdown",
   "metadata": {},
   "source": [
    "`*` used in a call unpacks a sequence into individual positional arguments:"
   ]
  },
  {
   "cell_type": "code",
   "execution_count": 36,
   "metadata": {},
   "outputs": [
    {
     "name": "stdout",
     "output_type": "stream",
     "text": [
      "1 2 3 4 5 6\n"
     ]
    }
   ],
   "source": [
    "print(1, 2, 3, 4, 5, 6)"
   ]
  },
  {
   "cell_type": "code",
   "execution_count": 38,
   "metadata": {
    "scrolled": true
   },
   "outputs": [
    {
     "name": "stdout",
     "output_type": "stream",
     "text": [
      "1 2 3 4 5 6\n"
     ]
    }
   ],
   "source": [
    "print(*[1, 2, 3, 4, 5, 6])"
   ]
  },
  {
   "cell_type": "code",
   "execution_count": 35,
   "metadata": {
    "colab": {},
    "colab_type": "code",
    "id": "0TkR8jMP4vz3",
    "outputId": "9bedfffa-651d-4b4a-a150-c5e07172fe25",
    "scrolled": false
   },
   "outputs": [
    {
     "name": "stdout",
     "output_type": "stream",
     "text": [
      "(1, 2, 3, 4, 5)\n"
     ]
    },
    {
     "data": {
      "text/plain": [
       "3.0"
      ]
     },
     "execution_count": 35,
     "metadata": {},
     "output_type": "execute_result"
    }
   ],
   "source": [
    "listOfNums = [1, 2, 3, 4, 5]   # what if we pass in a collection instead of individual elements?\n",
    "mean_v1(*listOfNums)"
   ]
  },
  {
   "cell_type": "markdown",
   "metadata": {
    "colab_type": "text",
    "id": "YNEigZau4vz4"
   },
   "source": [
    "`**` is used to indicate that a parameter can take a ***variable*** sequence of *keyword*/*named arguments*, and pack them ***into a dictionary***:\n"
   ]
  },
  {
   "cell_type": "code",
   "execution_count": 0,
   "metadata": {
    "colab": {},
    "colab_type": "code",
    "id": "boPLmxNJ4vz5"
   },
   "outputs": [],
   "source": [
    "def update_detail(**info): \n",
    "    print(info)\n",
    "    for k, v in info.items(): print(\"%s: %s\" % (k, v))"
   ]
  },
  {
   "cell_type": "code",
   "execution_count": 0,
   "metadata": {
    "colab": {},
    "colab_type": "code",
    "id": "PAbGiIGn4vz6",
    "outputId": "07c89d7d-ea5f-4e79-c44d-9048213f1135"
   },
   "outputs": [
    {
     "name": "stdout",
     "output_type": "stream",
     "text": [
      "{'name': 'Sam', 'id': '1902034'}\n",
      "name: Sam\n",
      "id: 1902034\n"
     ]
    }
   ],
   "source": [
    "update_detail(name='Sam', id='1902034')"
   ]
  },
  {
   "cell_type": "markdown",
   "metadata": {},
   "source": [
    "Similarly, `**` used in a call unpacks a mapping into individual keyword arguments:"
   ]
  },
  {
   "cell_type": "code",
   "execution_count": 0,
   "metadata": {
    "colab": {},
    "colab_type": "code",
    "id": "A8mhJQ_T4vz8",
    "outputId": "bed181b7-ea36-46c8-80c2-ab03cb521218",
    "scrolled": true
   },
   "outputs": [
    {
     "name": "stdout",
     "output_type": "stream",
     "text": [
      "{'name': 'Sam', 'id': '1902034', 'major': 'IS', 'year': 3}\n",
      "name: Sam\n",
      "id: 1902034\n",
      "major: IS\n",
      "year: 3\n"
     ]
    }
   ],
   "source": [
    "details = {'name': 'Sam', 'id': '1902034', 'major': 'IS', 'year': 3}\n",
    "update_detail(**details)   "
   ]
  },
  {
   "cell_type": "markdown",
   "metadata": {
    "colab_type": "text",
    "id": "nZtEYeVZ4vz9"
   },
   "source": [
    "---\n",
    "\n",
    "### 1.5.3 Parameter Ordering \n",
    "\n",
    "We can mix ordinary parameters, `*args` and `**kwargs` in a parameter specification. But they need to occur in a particular order:\n",
    "\n",
    "- Parameters for positional matching > `*args` > parameters for keyword matching > `**kwargs`"
   ]
  },
  {
   "cell_type": "code",
   "execution_count": 29,
   "metadata": {
    "colab": {},
    "colab_type": "code",
    "id": "33hIRfA64vz-"
   },
   "outputs": [],
   "source": [
    "def print_all_args(x1, x2='python', *args, y1='business', y2, **kwargs):\n",
    "    print(\"x1 is: \", x1)\n",
    "    print(\"x2 is: \", x2)\n",
    "    print(\"y1 is: \", y1)\n",
    "    print(\"y2 is: \", y2)\n",
    "    print(\"args is: \", args)\n",
    "    print(\"kwargs is: \", kwargs)   "
   ]
  },
  {
   "cell_type": "markdown",
   "metadata": {
    "colab_type": "text",
    "id": "G8MxeYl64vz_"
   },
   "source": [
    "<div class=\"alert alert-info\">Keyword arguments are not required to have a default value.</div>"
   ]
  },
  {
   "cell_type": "code",
   "execution_count": 30,
   "metadata": {},
   "outputs": [
    {
     "name": "stdout",
     "output_type": "stream",
     "text": [
      "x1 is:  Ann\n",
      "x2 is:  cat\n",
      "y1 is:  business\n",
      "y2 is:  2019\n",
      "args is:  ('dog', 'pig')\n",
      "kwargs is:  {'day': 'Monday', 'date': 'May 6'}\n"
     ]
    }
   ],
   "source": [
    "print_all_args('Ann', 'cat', 'dog', 'pig', y2='2019', day='Monday', date='May 6')"
   ]
  },
  {
   "cell_type": "code",
   "execution_count": 0,
   "metadata": {
    "colab": {},
    "colab_type": "code",
    "id": "2QuqehxfAiQ2"
   },
   "outputs": [],
   "source": [
    "import inspect    # a useful tool to inspect a function's signature"
   ]
  },
  {
   "cell_type": "code",
   "execution_count": 0,
   "metadata": {
    "cell_style": "split",
    "colab": {},
    "colab_type": "code",
    "id": "xk_AxHZn4vz_",
    "outputId": "9f1ad3c7-149c-4acb-841c-67b535ecb810"
   },
   "outputs": [
    {
     "data": {
      "text/plain": [
       "<Signature (x1, x2='python', *args, y1='business', y2, **kwargs)>"
      ]
     },
     "execution_count": 36,
     "metadata": {
      "tags": []
     },
     "output_type": "execute_result"
    }
   ],
   "source": [
    "inspect.signature(print_all_args)"
   ]
  },
  {
   "cell_type": "code",
   "execution_count": 0,
   "metadata": {
    "cell_style": "split",
    "colab": {},
    "colab_type": "code",
    "id": "LpqtgWgl4v0A",
    "outputId": "8c9e91e0-0d4d-4ee3-aefc-58a2cac57379"
   },
   "outputs": [
    {
     "data": {
      "text/plain": [
       "FullArgSpec(args=['x1', 'x2'], varargs='args', varkw='kwargs', defaults=('python',), kwonlyargs=['y1', 'y2'], kwonlydefaults={'y1': 'business'}, annotations={})"
      ]
     },
     "execution_count": 11,
     "metadata": {
      "tags": []
     },
     "output_type": "execute_result"
    }
   ],
   "source": [
    "inspect.getfullargspec(print_all_args)"
   ]
  },
  {
   "cell_type": "markdown",
   "metadata": {
    "colab_type": "text",
    "id": "6k1J8nzO4v0L"
   },
   "source": [
    "---\n",
    "#### Enforcing Keyword-Only Arguments (Optional)\n",
    "\n",
    "If we want to enforce keyword-only arguments without accepting any number of positional arguments, we can use a `*` without anything after it:"
   ]
  },
  {
   "cell_type": "code",
   "execution_count": 0,
   "metadata": {
    "colab": {},
    "colab_type": "code",
    "id": "HnNW8Fux4v0L"
   },
   "outputs": [],
   "source": [
    "def mean_v2(*, elems):\n",
    "    if not elems: return 0\n",
    "    sumOfElems = 0; countOfElems = 0\n",
    "    for elem in elems: \n",
    "        sumOfElems += elem\n",
    "        countOfElems += 1\n",
    "    return sumOfElems / countOfElems"
   ]
  },
  {
   "cell_type": "code",
   "execution_count": 0,
   "metadata": {
    "colab": {},
    "colab_type": "code",
    "id": "gRbComy94v0N",
    "outputId": "de7d3e94-0804-4fcc-83ae-1448311bca8d"
   },
   "outputs": [
    {
     "data": {
      "text/plain": [
       "FullArgSpec(args=[], varargs=None, varkw=None, defaults=None, kwonlyargs=['elems'], kwonlydefaults=None, annotations={})"
      ]
     },
     "execution_count": 12,
     "metadata": {
      "tags": []
     },
     "output_type": "execute_result"
    }
   ],
   "source": [
    "inspect.getfullargspec(mean_v2)"
   ]
  },
  {
   "cell_type": "code",
   "execution_count": 0,
   "metadata": {
    "colab": {},
    "colab_type": "code",
    "id": "oYCCLJJB4v0O",
    "outputId": "73526f4a-ca73-40dd-f91f-570cd2136084",
    "scrolled": true
   },
   "outputs": [
    {
     "ename": "TypeError",
     "evalue": "mean_v2() takes 0 positional arguments but 5 were given",
     "output_type": "error",
     "traceback": [
      "\u001b[1;31m---------------------------------------------------------------------------\u001b[0m",
      "\u001b[1;31mTypeError\u001b[0m                                 Traceback (most recent call last)",
      "\u001b[1;32m<ipython-input-106-23148ef55f77>\u001b[0m in \u001b[0;36m<module>\u001b[1;34m\u001b[0m\n\u001b[1;32m----> 1\u001b[1;33m \u001b[0mmean_v2\u001b[0m\u001b[1;33m(\u001b[0m\u001b[1;33m*\u001b[0m\u001b[0mlistOfNums\u001b[0m\u001b[1;33m)\u001b[0m\u001b[1;33m\u001b[0m\u001b[1;33m\u001b[0m\u001b[0m\n\u001b[0m",
      "\u001b[1;31mTypeError\u001b[0m: mean_v2() takes 0 positional arguments but 5 were given"
     ]
    }
   ],
   "source": [
    "mean_v2(*listOfNums)"
   ]
  },
  {
   "cell_type": "code",
   "execution_count": 0,
   "metadata": {
    "colab": {},
    "colab_type": "code",
    "id": "6uWpsS-X4v0P"
   },
   "outputs": [],
   "source": [
    "mean_v2(elems=listOfNums)"
   ]
  },
  {
   "cell_type": "markdown",
   "metadata": {
    "colab_type": "text",
    "id": "uiK-Eka74v0T"
   },
   "source": [
    "Some functions in Python force arguments to be named even when they could have been unambiguously specified positionally."
   ]
  },
  {
   "cell_type": "code",
   "execution_count": 0,
   "metadata": {
    "colab": {},
    "colab_type": "code",
    "id": "J7huFMH84v0T",
    "outputId": "682697c8-6b81-4cbf-b6fd-09cb7341f0bc"
   },
   "outputs": [
    {
     "data": {
      "text/plain": [
       "<Signature (iterable, /, *, key=None, reverse=False)>"
      ]
     },
     "execution_count": 93,
     "metadata": {
      "tags": []
     },
     "output_type": "execute_result"
    }
   ],
   "source": [
    "inpect.signature(sorted)"
   ]
  },
  {
   "cell_type": "code",
   "execution_count": 0,
   "metadata": {
    "colab": {},
    "colab_type": "code",
    "id": "ngMUSRnQ4v0V",
    "outputId": "e1ce6b8e-41d2-42e7-f867-375ddfd5a29f"
   },
   "outputs": [
    {
     "data": {
      "text/plain": [
       "FullArgSpec(args=['iterable'], varargs=None, varkw=None, defaults=None, kwonlyargs=['key', 'reverse'], kwonlydefaults={'key': None, 'reverse': False}, annotations={})"
      ]
     },
     "execution_count": 13,
     "metadata": {
      "tags": []
     },
     "output_type": "execute_result"
    }
   ],
   "source": [
    "inspect.getfullargspec(sorted)"
   ]
  },
  {
   "cell_type": "code",
   "execution_count": 0,
   "metadata": {
    "colab": {},
    "colab_type": "code",
    "id": "gC2AACC24v0W",
    "outputId": "9dd59224-0923-42cd-913e-8a8ebb3c3969"
   },
   "outputs": [
    {
     "ename": "TypeError",
     "evalue": "sorted expected 1 arguments, got 2",
     "output_type": "error",
     "traceback": [
      "\u001b[1;31m---------------------------------------------------------------------------\u001b[0m",
      "\u001b[1;31mTypeError\u001b[0m                                 Traceback (most recent call last)",
      "\u001b[1;32m<ipython-input-110-df275d739b06>\u001b[0m in \u001b[0;36m<module>\u001b[1;34m\u001b[0m\n\u001b[1;32m----> 1\u001b[1;33m \u001b[0msorted\u001b[0m\u001b[1;33m(\u001b[0m\u001b[1;33m[\u001b[0m\u001b[1;34m'python'\u001b[0m\u001b[1;33m,\u001b[0m \u001b[1;34m'programming'\u001b[0m\u001b[1;33m]\u001b[0m\u001b[1;33m,\u001b[0m \u001b[0mlen\u001b[0m\u001b[1;33m)\u001b[0m\u001b[1;33m\u001b[0m\u001b[1;33m\u001b[0m\u001b[0m\n\u001b[0m",
      "\u001b[1;31mTypeError\u001b[0m: sorted expected 1 arguments, got 2"
     ]
    }
   ],
   "source": [
    "sorted(['python', 'programming'], len)"
   ]
  },
  {
   "cell_type": "markdown",
   "metadata": {
    "colab_type": "text",
    "id": "VpqpyDvo4v0X"
   },
   "source": [
    "`/` signifies the end of the ***positional only*** parameters, which we cannot use to take keyword arguments."
   ]
  },
  {
   "cell_type": "code",
   "execution_count": 0,
   "metadata": {
    "colab": {},
    "colab_type": "code",
    "id": "nkdjkFSt4v0Y",
    "outputId": "d814f1eb-5aa0-4897-9bda-b10e19604b90"
   },
   "outputs": [
    {
     "ename": "TypeError",
     "evalue": "sorted expected 1 arguments, got 0",
     "output_type": "error",
     "traceback": [
      "\u001b[1;31m---------------------------------------------------------------------------\u001b[0m",
      "\u001b[1;31mTypeError\u001b[0m                                 Traceback (most recent call last)",
      "\u001b[1;32m<ipython-input-109-aceab58afbd5>\u001b[0m in \u001b[0;36m<module>\u001b[1;34m\u001b[0m\n\u001b[1;32m----> 1\u001b[1;33m \u001b[0msorted\u001b[0m\u001b[1;33m(\u001b[0m\u001b[0miterable\u001b[0m\u001b[1;33m=\u001b[0m\u001b[1;33m[\u001b[0m\u001b[1;34m'python'\u001b[0m\u001b[1;33m,\u001b[0m \u001b[1;34m'programming'\u001b[0m\u001b[1;33m]\u001b[0m\u001b[1;33m)\u001b[0m\u001b[1;33m\u001b[0m\u001b[1;33m\u001b[0m\u001b[0m\n\u001b[0m",
      "\u001b[1;31mTypeError\u001b[0m: sorted expected 1 arguments, got 0"
     ]
    }
   ],
   "source": [
    "sorted(iterable=['python', 'programming'])"
   ]
  },
  {
   "cell_type": "markdown",
   "metadata": {
    "colab_type": "text",
    "id": "y1s-HBl-4v0Z"
   },
   "source": [
    "---\n",
    "\n",
    "## 1.6 Writing a Function's Docstring\n",
    "\n",
    "A function definition can include a **docstring** (short for **documentation string**) to describe what the function does and how it works.\n",
    "\n",
    "Function docstrings are placed immediately after the function header and between triple quotation marks:\n"
   ]
  },
  {
   "cell_type": "code",
   "execution_count": 0,
   "metadata": {
    "colab": {},
    "colab_type": "code",
    "id": "E3LpMEIj4v0Z"
   },
   "outputs": [],
   "source": [
    "def mean_v2(*elems):\n",
    "    '''Return the mean of a sequence of values.'''\n",
    "    if not elems: return 0\n",
    "    sumOfElems = 0; countOfElems = 0\n",
    "    for elem in elems: \n",
    "        sumOfElems += elem\n",
    "        countOfElems += 1\n",
    "    return sumOfElems / countOfElems"
   ]
  },
  {
   "cell_type": "markdown",
   "metadata": {
    "colab_type": "text",
    "id": "ZJtP-WLW4v0a"
   },
   "source": [
    "A function's docstring can be accessed using `help()`:"
   ]
  },
  {
   "cell_type": "code",
   "execution_count": 0,
   "metadata": {
    "colab": {},
    "colab_type": "code",
    "id": "wCuvkiLP4v0a",
    "outputId": "550691ba-b506-43fa-d5fd-69575d6d93e5"
   },
   "outputs": [
    {
     "name": "stdout",
     "output_type": "stream",
     "text": [
      "Help on function mean_v2 in module __main__:\n",
      "\n",
      "mean_v2(*elems)\n",
      "    Return the mean of a sequence of values.\n",
      "\n"
     ]
    }
   ],
   "source": [
    "help(mean_v2)"
   ]
  },
  {
   "cell_type": "markdown",
   "metadata": {
    "colab_type": "text",
    "id": "XC90zdxn4v0j"
   },
   "source": [
    "\n",
    "---\n",
    "## 1.7 `lambda` Expressions: \n",
    "\n",
    "\n",
    "Besides the `def` statement, Python provides an expression form to generate function objects, known as [`lambda` expressions](https://docs.python.org/3/reference/expressions.html#lambdas). \n",
    "\n",
    "`Lambda`s can be considered a degenerate kind of functions, which don't have a name and carry only a ***single*** expression whose result is returned: \n",
    "\n",
    " \n",
    "<pre class='lang-python'>\n",
    "<span style=\"color:#2767C5\";>lambda</span> <span style=\"color:#BB2F29\";>&lt;parameter 1&gt;</span>, <span style=\"color:#BB2F29\";>&lt;parameter 2&gt;</span>, ...: <span style=\"color:#BB2F29\";>&lt;a single expression using parameters&gt;</span>\n",
    "</pre>"
   ]
  },
  {
   "cell_type": "code",
   "execution_count": 23,
   "metadata": {
    "cell_style": "split",
    "colab": {},
    "colab_type": "code",
    "id": "UzhYzsPS4v0j"
   },
   "outputs": [],
   "source": [
    "def multiply_v1(x, y=1): \n",
    "    return x * y"
   ]
  },
  {
   "cell_type": "code",
   "execution_count": 24,
   "metadata": {
    "cell_style": "split",
    "colab": {},
    "colab_type": "code",
    "id": "5QRwUNw5AiR4",
    "outputId": "cc994015-3c3f-4013-a709-368385556188",
    "scrolled": true
   },
   "outputs": [
    {
     "data": {
      "text/plain": [
       "<function __main__.<lambda>(x, y=1)>"
      ]
     },
     "execution_count": 24,
     "metadata": {},
     "output_type": "execute_result"
    }
   ],
   "source": [
    "lambda x, y=1: x * y "
   ]
  },
  {
   "cell_type": "code",
   "execution_count": 0,
   "metadata": {
    "colab": {},
    "colab_type": "code",
    "id": "JI_RfYLo4v0l",
    "outputId": "d790af71-7bf0-4ff3-aafa-de9625d559fa"
   },
   "outputs": [
    {
     "data": {
      "text/plain": [
       "function"
      ]
     },
     "execution_count": 15,
     "metadata": {
      "tags": []
     },
     "output_type": "execute_result"
    }
   ],
   "source": [
    "type(lambda x, y=1: x * y)  "
   ]
  },
  {
   "cell_type": "code",
   "execution_count": 45,
   "metadata": {
    "colab": {},
    "colab_type": "code",
    "id": "dCwxQeMQ4v0m"
   },
   "outputs": [],
   "source": [
    "multiply_v2 = lambda x, y=1: x * y  # can be embedded in an assignment statement to create a name for the function object"
   ]
  },
  {
   "cell_type": "code",
   "execution_count": 47,
   "metadata": {
    "colab": {},
    "colab_type": "code",
    "id": "5qhsN1MX4v0n"
   },
   "outputs": [
    {
     "data": {
      "text/plain": [
       "3"
      ]
     },
     "execution_count": 47,
     "metadata": {},
     "output_type": "execute_result"
    }
   ],
   "source": [
    "multiply_v2(3)"
   ]
  },
  {
   "cell_type": "markdown",
   "metadata": {
    "colab_type": "text",
    "id": "p2fqAppFAiR-"
   },
   "source": [
    "\n",
    "**<font color='steelblue' > Question</font>**: Use `lambda` to implement the following formula:\n",
    "\n",
    "$$\n",
    "f(x) = x^2 + x + 5\n",
    "$$\n",
    "\n",
    "- Assign the resultant function to `f`;\n",
    "\n",
    "- Test the lambda function with the following inputs: `f(4)`, `f(5)` and `f(7)`."
   ]
  },
  {
   "cell_type": "code",
   "execution_count": 48,
   "metadata": {
    "colab": {},
    "colab_type": "code",
    "id": "Y96VLfu7AiR_"
   },
   "outputs": [],
   "source": []
  },
  {
   "cell_type": "markdown",
   "metadata": {
    "colab_type": "text",
    "id": "Nh0q9vTu4v0q"
   },
   "source": [
    "The `lambda` expression is most useful as a shorthand for `def`, when we need to stuff small pieces of code into places where statements are syntactically illegal.\n",
    "\n",
    "Given a nested list representing a gradebook:"
   ]
  },
  {
   "cell_type": "code",
   "execution_count": 22,
   "metadata": {
    "colab": {},
    "colab_type": "code",
    "id": "R1QqtD0G4v0r"
   },
   "outputs": [],
   "source": [
    "gradebook = [['Troy', 92], ['Alice', 95], ['James', 89], ['Charles', 100], ['Bryn', 59]]"
   ]
  },
  {
   "cell_type": "markdown",
   "metadata": {
    "colab_type": "text",
    "id": "JYiah2w04v0t"
   },
   "source": [
    "If we want to use `sorted()` to implement some sophisticated sorting, we can do so by defining a `lambda` function and passing it into a function call as the argument to `key`. "
   ]
  },
  {
   "cell_type": "code",
   "execution_count": 0,
   "metadata": {
    "colab": {},
    "colab_type": "code",
    "id": "jwPNInmE4v0w",
    "outputId": "c76235d1-75a5-45b9-db3a-f2ccbeedfd65",
    "scrolled": true
   },
   "outputs": [
    {
     "data": {
      "text/plain": [
       "[['Bryn', 59], ['James', 89], ['Troy', 92], ['Alice', 95], ['Charles', 100]]"
      ]
     },
     "execution_count": 19,
     "metadata": {
      "tags": []
     },
     "output_type": "execute_result"
    }
   ],
   "source": [
    "sorted(gradebook, key=lambda x: x[1])        # sort sublists by their second elements"
   ]
  },
  {
   "cell_type": "markdown",
   "metadata": {},
   "source": [
    "\n",
    "**<font color='steelblue' > Question</font>**:\n",
    "\n",
    "Given a nested list representing gradebooks of different courses:\n",
    "```python\n",
    "gradebooks = [[['Troy', 92], ['Alice', 95]], [['James', 89], ['Charles', 100], ['Bryn', 59]]]\n",
    "```\n",
    "\n",
    "- Using the builtin `sorted()` function, write code to sort courses by course mean. The expected output is\n",
    "\n",
    "```python\n",
    "[[['James', 89], ['Charles', 100], ['Bryn', 59]], [['Troy', 92], ['Alice', 95]]]\n",
    "```\n",
    "- Using the builtin `sorted()` function, write code to sort students of each course by score in descending order. The expected output is\n",
    "\n",
    "```python\n",
    "[[['Alice', 95], ['Troy', 92]], [['Charles', 100], ['James', 89], ['Bryn', 59]]]\n",
    "```"
   ]
  },
  {
   "cell_type": "code",
   "execution_count": null,
   "metadata": {},
   "outputs": [],
   "source": []
  },
  {
   "cell_type": "markdown",
   "metadata": {
    "colab_type": "text",
    "id": "fs4ZxPTx4v1M"
   },
   "source": [
    "\n",
    "---\n",
    "\n",
    "# 2 Classes\n",
    "\n",
    "We've seen various types of objects, such as the `int`, `str`, `list`, `tuple`, and `dict`:"
   ]
  },
  {
   "cell_type": "code",
   "execution_count": 15,
   "metadata": {
    "cell_style": "split"
   },
   "outputs": [
    {
     "data": {
      "text/plain": [
       "int"
      ]
     },
     "execution_count": 15,
     "metadata": {},
     "output_type": "execute_result"
    }
   ],
   "source": [
    "type(1)"
   ]
  },
  {
   "cell_type": "code",
   "execution_count": 16,
   "metadata": {
    "cell_style": "split"
   },
   "outputs": [
    {
     "data": {
      "text/plain": [
       "str"
      ]
     },
     "execution_count": 16,
     "metadata": {},
     "output_type": "execute_result"
    }
   ],
   "source": [
    "type('cat')"
   ]
  },
  {
   "cell_type": "code",
   "execution_count": 27,
   "metadata": {
    "colab": {},
    "colab_type": "code",
    "id": "2AP8XJ2Y4v1M"
   },
   "outputs": [],
   "source": [
    "a = list()            # create a list object that is empty\n",
    "b = list('abc')       # create a list object that is empty containing 'a', 'b', and 'c'\n",
    "c = tuple('xyz')      # create a tuple object containing 'x', 'y', and 'z'\n",
    "d = 'abc'"
   ]
  },
  {
   "cell_type": "markdown",
   "metadata": {
    "colab_type": "text",
    "id": "-qJrnjpY4v1O"
   },
   "source": [
    "We've seen that the same type of objects share common behaviors realized through methods:"
   ]
  },
  {
   "cell_type": "code",
   "execution_count": 18,
   "metadata": {
    "cell_style": "split",
    "colab": {},
    "colab_type": "code",
    "id": "TEcKLrgi4v1O"
   },
   "outputs": [],
   "source": [
    "a.append(1)"
   ]
  },
  {
   "cell_type": "code",
   "execution_count": 0,
   "metadata": {
    "cell_style": "split",
    "colab": {},
    "colab_type": "code",
    "id": "EwFFZP-V4v1R"
   },
   "outputs": [],
   "source": [
    "b.append(2)"
   ]
  },
  {
   "cell_type": "code",
   "execution_count": 0,
   "metadata": {
    "cell_style": "split",
    "colab": {},
    "colab_type": "code",
    "id": "QL_DFjnu4v1S"
   },
   "outputs": [],
   "source": [
    "d.capitalize()"
   ]
  },
  {
   "cell_type": "code",
   "execution_count": 0,
   "metadata": {
    "cell_style": "split",
    "colab": {},
    "colab_type": "code",
    "id": "E4DftKRO4v1T"
   },
   "outputs": [],
   "source": [
    "'xyz'.capitalize()"
   ]
  },
  {
   "cell_type": "code",
   "execution_count": 28,
   "metadata": {},
   "outputs": [
    {
     "ename": "AttributeError",
     "evalue": "'list' object has no attribute 'capitalize'",
     "output_type": "error",
     "traceback": [
      "\u001b[1;31m---------------------------------------------------------------------------\u001b[0m",
      "\u001b[1;31mAttributeError\u001b[0m                            Traceback (most recent call last)",
      "\u001b[1;32m<ipython-input-28-9b95db23867e>\u001b[0m in \u001b[0;36m<module>\u001b[1;34m\u001b[0m\n\u001b[1;32m----> 1\u001b[1;33m \u001b[0ma\u001b[0m\u001b[1;33m.\u001b[0m\u001b[0mcapitalize\u001b[0m\u001b[1;33m(\u001b[0m\u001b[1;33m)\u001b[0m\u001b[1;33m\u001b[0m\u001b[1;33m\u001b[0m\u001b[0m\n\u001b[0m",
      "\u001b[1;31mAttributeError\u001b[0m: 'list' object has no attribute 'capitalize'"
     ]
    }
   ],
   "source": [
    "a.capitalize()"
   ]
  },
  {
   "cell_type": "markdown",
   "metadata": {
    "colab_type": "text",
    "id": "un42Ul5A4v1U"
   },
   "source": [
    "> When I see a bird that walks like a duck and swims like a duck and quacks like a duck, I call that bird a duck.\n",
    "\n",
    "\n",
    "What if we want to create new types of objects that possess certain **properties** and **behaviors**?\n",
    "\n",
    "For example, rectangles on a coordinate plane with all edges parallel to the axes:\n",
    "\n",
    "\n",
    "<img src=\"https://raw.githubusercontent.com/justinjiajia/img/master/python/rect.png\" width=350 style=\"float: left; margin-bottom: 1.5em; margin-top: 1.5em; margin-right: 10%;\"/>\n",
    "\n",
    "\n",
    "\n",
    "Each can be identified by its location and size.\n",
    "\n",
    "Operations that can perform with them include:\n",
    "\n",
    "   - Compute the area;\n",
    "   - Compute the length of the diagonal line;\n",
    "   - Compute the coordinates of the corners of this rectangle;\n",
    "   - ...\n",
    "\n",
    "<br><Br>\n",
    "\n",
    "Python provides a coding structure and device known as the *class* to define new types of objects.\n",
    "\n",
    "Just like functions and modules, Python classes are another compartment ***for packaging logic and data***.\n",
    "\n",
    "**Classes** are Python's main ***object-oriented programming*** (OOP) tool.\n",
    "\n",
    "\n",
    "---\n",
    "\n",
    "## 2.1 Defining a Class\n",
    "\n",
    "\n",
    "[The `class` statement](https://docs.python.org/3.7/reference/compound_stmts.html#class-definitions) creates a class object and assigns it a name. \n",
    "\n",
    "The body of a class is where we specify the attributes of the class, including both function and data attributes.\n",
    " "
   ]
  },
  {
   "cell_type": "code",
   "execution_count": 1,
   "metadata": {
    "colab": {},
    "colab_type": "code",
    "id": "umYVV0l54v1U"
   },
   "outputs": [],
   "source": [
    "class Rectangle:                               # for axis-parallel rectangles\n",
    "                                               # names for user-defined classes begin with uppercase letters by convention\n",
    "    '''A class for axis-parallel rectangles on a plane.'''\n",
    "    \n",
    "    description = 'class for rectangles'                                    # a data attribute\n",
    "    \n",
    "    def __init__(self, width, height, center=(0, 0)):                       # a function attribute\n",
    "        '''populates the attributes of a particular rectangle'''\n",
    "        self.width = width\n",
    "        self.height = height\n",
    "        self.center = center\n",
    "    \n",
    "    def find_vertices(self):                                               \n",
    "        '''finds the coordinates for the bottom-left and the top-right corners'''\n",
    "        bottomleft = self.center[0]-self.width/2, self.center[1]-self.height/2\n",
    "        topright = self.center[0]+self.width/2, self.center[1]+self.height/2\n",
    "        return bottomleft, topright\n",
    "    \n",
    "    def compute_area(self):\n",
    "        '''computes the area of a rectangle'''\n",
    "        return self.width * self.height"
   ]
  },
  {
   "cell_type": "markdown",
   "metadata": {
    "colab_type": "text",
    "id": "Cx1Y4ukC4v1V"
   },
   "source": [
    "\n",
    "Classes define new namespaces:\n",
    "\n",
    "- When a class definition is entered, a **class namespace** is created;\n",
    "- When it is left, a **class object** is created, which is basically a wrapper around the namespace.\n",
    "\n",
    "<br>\n",
    "\n",
    "<img src=\"https://raw.githubusercontent.com/justinjiajia/img/master/python/class.png\" width=600/>\n",
    "\n",
    "Attribute names in a class's namespace can be exposed by the built-in `__dict__` attribute:\n",
    "\n",
    "\n",
    "\n"
   ]
  },
  {
   "cell_type": "code",
   "execution_count": null,
   "metadata": {},
   "outputs": [],
   "source": [
    "dunder"
   ]
  },
  {
   "cell_type": "code",
   "execution_count": 20,
   "metadata": {
    "colab": {},
    "colab_type": "code",
    "id": "9oKjsa4eAiS1",
    "outputId": "60cd3b5c-6ff9-4634-f02b-290cec10309d"
   },
   "outputs": [
    {
     "data": {
      "text/plain": [
       "mappingproxy({'__module__': '__main__',\n",
       "              '__doc__': 'A class for rectangles on a plane.',\n",
       "              'description': 'class for rectangles',\n",
       "              '__init__': <function __main__.Rectangle.__init__(self, width, height, center=(0, 0))>,\n",
       "              'find_vertices': <function __main__.Rectangle.find_vertices(self)>,\n",
       "              'compute_area': <function __main__.Rectangle.compute_area(self)>,\n",
       "              '__dict__': <attribute '__dict__' of 'Rectangle' objects>,\n",
       "              '__weakref__': <attribute '__weakref__' of 'Rectangle' objects>})"
      ]
     },
     "execution_count": 20,
     "metadata": {},
     "output_type": "execute_result"
    }
   ],
   "source": [
    "Rectangle.__dict__           # it supports .keys()"
   ]
  },
  {
   "cell_type": "code",
   "execution_count": 21,
   "metadata": {
    "cell_style": "split",
    "colab": {},
    "colab_type": "code",
    "id": "qqvXBduD4v1X",
    "outputId": "a0052e45-edde-4687-ad9a-74075d366b52"
   },
   "outputs": [
    {
     "data": {
      "text/plain": [
       "'class for rectangles'"
      ]
     },
     "execution_count": 21,
     "metadata": {},
     "output_type": "execute_result"
    }
   ],
   "source": [
    "Rectangle.description  # a data attribute    "
   ]
  },
  {
   "cell_type": "code",
   "execution_count": 22,
   "metadata": {
    "cell_style": "split",
    "colab": {},
    "colab_type": "code",
    "id": "y94Lmx9G4v1Y",
    "outputId": "e4b0b938-290c-4727-9290-e47d6cbc6213"
   },
   "outputs": [
    {
     "data": {
      "text/plain": [
       "<function __main__.Rectangle.compute_area(self)>"
      ]
     },
     "execution_count": 22,
     "metadata": {},
     "output_type": "execute_result"
    }
   ],
   "source": [
    "Rectangle.compute_area  # a function attribute"
   ]
  },
  {
   "cell_type": "markdown",
   "metadata": {
    "colab_type": "text",
    "id": "fgzVNwt24v1Z"
   },
   "source": [
    "---\n",
    "\n",
    "## 2.2 Instantiating a Class\n",
    "\n",
    "A class provides the specification of a user-defined type, and serves as the template from which instances of this type can be created (or the factory to create instances).\n",
    "\n",
    "\n",
    "<img src=\"https://raw.githubusercontent.com/justinjiajia/img/master/python/classcar.png\" width=500/>\n",
    "\n",
    "\n",
    "Calling a **class object** like a function makes a new **instance object**:"
   ]
  },
  {
   "cell_type": "code",
   "execution_count": 16,
   "metadata": {
    "cell_style": "split",
    "colab": {},
    "colab_type": "code",
    "id": "L7wJRKaN4v1a"
   },
   "outputs": [],
   "source": [
    "rect1 = Rectangle(4, 10, (2, 3)) \n",
    "# __init__() is invoked to initialize the instance"
   ]
  },
  {
   "cell_type": "code",
   "execution_count": 17,
   "metadata": {
    "cell_style": "split",
    "colab": {},
    "colab_type": "code",
    "id": "TFoPOw99AiTL"
   },
   "outputs": [],
   "source": [
    "rect2 = Rectangle(10, 15)\n",
    "# __init__() is invoked to initialize the instance"
   ]
  },
  {
   "cell_type": "code",
   "execution_count": 18,
   "metadata": {
    "cell_style": "split",
    "colab": {},
    "colab_type": "code",
    "id": "76GixK1Q4v1b",
    "outputId": "c4493c3b-50f9-4f6f-c40f-4e7e68761d9f"
   },
   "outputs": [
    {
     "data": {
      "text/plain": [
       "<__main__.Rectangle at 0x1ccc67e4760>"
      ]
     },
     "execution_count": 18,
     "metadata": {},
     "output_type": "execute_result"
    }
   ],
   "source": [
    "rect1"
   ]
  },
  {
   "cell_type": "code",
   "execution_count": 6,
   "metadata": {
    "cell_style": "split",
    "colab": {},
    "colab_type": "code",
    "id": "0UVYjKF54v1c",
    "outputId": "d2b087db-4891-42ac-a791-972c838f92bd"
   },
   "outputs": [
    {
     "data": {
      "text/plain": [
       "__main__.Rectangle"
      ]
     },
     "execution_count": 6,
     "metadata": {},
     "output_type": "execute_result"
    }
   ],
   "source": [
    "type(rect2)"
   ]
  },
  {
   "cell_type": "markdown",
   "metadata": {
    "colab_type": "text",
    "id": "je41oq_R4v1f"
   },
   "source": [
    "- The instantiation operation first creates an empty **instance object** of the class. \n",
    "\n",
    "- Then the empty instance, together with the arguments we provided (e.g., `Rectangle(4, 10, (2, 3))`), is passed to the [`__init__()`](https://docs.python.org/3/reference/datamodel.html#object.__init__) method \n",
    "to initialize it to a specific **initial state**.\n",
    "\n",
    "    - `new_instance.__init__(4, 10, (2, 3))`\n",
    "    \n",
    "    -  The 1st parameter (named `self` by convention) is special and used to take the instance from which the corresponding method is being called.  \n",
    "\n",
    "\n",
    "\n",
    "<pre class=\"lang-python\">\n",
    "  \n",
    "<span style=\"color: #007c00\";>def</span> <span style=\"color:#0b13ff\">__init__</span>(self, width, height, center<span style=\"color: #a827fe\">=</span>(<span style=\"color:#007c00\";>0</span><span style=\"color:#555555;\">,</span> <span style=\"color:#007c00\";>0</span><span style=\"color:#555555;\">)):</span>\n",
    "     <span style=\"color:#c44f49\";>'''populates the attributes of a particular instance'''</span>\n",
    "     \n",
    "     <span style=\"color:#555555;\">self.width <span style=\"color: #a827fe\">=</span> width</span>\n",
    "     <span style=\"color:#555555;\">self.height <span style=\"color: #a827fe\">=</span> height</span>\n",
    "     <span style=\"color:#555555;\">self.center <span style=\"color: #a827fe\">=</span> center</span>\n",
    "</pre>\n",
    "\n",
    "\n",
    "\n",
    "\n",
    "     \n"
   ]
  },
  {
   "cell_type": "markdown",
   "metadata": {},
   "source": [
    " \n",
    " \n",
    "  \n",
    "<div class=\"alert alert-info\">__init__() (called the initializer) is one of <a href=\"https://docs.python.org/3/reference/datamodel.html#special-method-names\">special methods</a> reserved by Python, and called automatically each time an instance is created. Special method names (begin and end with __ pronounced as \"dunder\") are ubiquitous in Python, and used for certain operations that are invoked by special syntax. </div>\n",
    "  \n",
    "- Each instance object created from a class gets its own namespace.\n",
    "\n",
    "    - Assignments to attributes of `self` create ***instance-level*** attributes (differ from instance to instance).\n",
    " "
   ]
  },
  {
   "cell_type": "code",
   "execution_count": 7,
   "metadata": {
    "cell_style": "split",
    "colab": {},
    "colab_type": "code",
    "id": "_CC9jzAeAiTQ"
   },
   "outputs": [
    {
     "data": {
      "text/plain": [
       "{'width': 4, 'height': 10, 'center': (2, 3)}"
      ]
     },
     "execution_count": 7,
     "metadata": {},
     "output_type": "execute_result"
    }
   ],
   "source": [
    "rect1.__dict__"
   ]
  },
  {
   "cell_type": "code",
   "execution_count": 8,
   "metadata": {
    "cell_style": "split",
    "colab": {},
    "colab_type": "code",
    "id": "Aal-GysVAiTU"
   },
   "outputs": [
    {
     "data": {
      "text/plain": [
       "{'width': 10, 'height': 15, 'center': (0, 0)}"
      ]
     },
     "execution_count": 8,
     "metadata": {},
     "output_type": "execute_result"
    }
   ],
   "source": [
    "rect2.__dict__"
   ]
  },
  {
   "cell_type": "code",
   "execution_count": 9,
   "metadata": {
    "cell_style": "split",
    "colab": {},
    "colab_type": "code",
    "id": "TrTqqHSCAiTW"
   },
   "outputs": [
    {
     "data": {
      "text/plain": [
       "(4, 10, (2, 3))"
      ]
     },
     "execution_count": 9,
     "metadata": {},
     "output_type": "execute_result"
    }
   ],
   "source": [
    "rect1.width, rect1.height, rect1.center"
   ]
  },
  {
   "cell_type": "code",
   "execution_count": 0,
   "metadata": {
    "cell_style": "split",
    "colab": {},
    "colab_type": "code",
    "id": "RFLsooll4v1l"
   },
   "outputs": [],
   "source": [
    "rect2.width, rect2.height, rect2.center"
   ]
  },
  {
   "cell_type": "markdown",
   "metadata": {
    "colab_type": "text",
    "id": "RJY7RN484v1m"
   },
   "source": [
    "<img src=\"https://raw.githubusercontent.com/justinjiajia/img/master/python/instance.png\" width=600/>\n",
    "\n",
    "\n",
    "- Instance objects also inherit attributes that live in the class objects from which they were generated.\n"
   ]
  },
  {
   "cell_type": "code",
   "execution_count": 10,
   "metadata": {
    "cell_style": "split",
    "colab": {},
    "colab_type": "code",
    "id": "5jL-u5hA4v1m"
   },
   "outputs": [
    {
     "data": {
      "text/plain": [
       "'class for rectangles'"
      ]
     },
     "execution_count": 10,
     "metadata": {},
     "output_type": "execute_result"
    }
   ],
   "source": [
    "rect1.description"
   ]
  },
  {
   "cell_type": "code",
   "execution_count": 11,
   "metadata": {
    "cell_style": "split",
    "colab": {},
    "colab_type": "code",
    "id": "JGUPlb2nAiTd"
   },
   "outputs": [
    {
     "data": {
      "text/plain": [
       "'class for rectangles'"
      ]
     },
     "execution_count": 11,
     "metadata": {},
     "output_type": "execute_result"
    }
   ],
   "source": [
    "rect2.description"
   ]
  },
  {
   "cell_type": "code",
   "execution_count": 12,
   "metadata": {
    "colab": {},
    "colab_type": "code",
    "id": "PH6y-AJE4v1n"
   },
   "outputs": [
    {
     "data": {
      "text/plain": [
       "'A class for rectangles on a plane.'"
      ]
     },
     "execution_count": 12,
     "metadata": {},
     "output_type": "execute_result"
    }
   ],
   "source": [
    "rect1.__doc__  # the documentation string"
   ]
  },
  {
   "cell_type": "code",
   "execution_count": 6,
   "metadata": {},
   "outputs": [
    {
     "data": {
      "text/plain": [
       "0"
      ]
     },
     "execution_count": 6,
     "metadata": {},
     "output_type": "execute_result"
    }
   ],
   "source": [
    "[1,2,3,4].count(5)"
   ]
  },
  {
   "cell_type": "markdown",
   "metadata": {
    "colab_type": "text",
    "id": "9ZXhByRD4v1o"
   },
   "source": [
    "\n",
    "---\n",
    "### 2.2.1 Class Attributes vs. Instance Attributes\n",
    "\n",
    "Generally speaking, instance attributes are for data unique to each instance and class attributes are for things shared by all instances of the class:\n",
    "\n",
    "Let's create a new class attribute on the fly via an assignment with attribute reference:"
   ]
  },
  {
   "cell_type": "code",
   "execution_count": 13,
   "metadata": {
    "colab": {},
    "colab_type": "code",
    "id": "aMPqTH0C4v1p"
   },
   "outputs": [],
   "source": [
    "Rectangle.notation = '▭'"
   ]
  },
  {
   "cell_type": "code",
   "execution_count": 14,
   "metadata": {
    "colab": {},
    "colab_type": "code",
    "id": "KLxnIx9sAiTo"
   },
   "outputs": [
    {
     "data": {
      "text/plain": [
       "mappingproxy({'__module__': '__main__',\n",
       "              '__doc__': 'A class for rectangles on a plane.',\n",
       "              'description': 'class for rectangles',\n",
       "              '__init__': <function __main__.Rectangle.__init__(self, width, height, center=(0, 0))>,\n",
       "              'find_vertices': <function __main__.Rectangle.find_vertices(self)>,\n",
       "              'compute_area': <function __main__.Rectangle.compute_area(self)>,\n",
       "              '__dict__': <attribute '__dict__' of 'Rectangle' objects>,\n",
       "              '__weakref__': <attribute '__weakref__' of 'Rectangle' objects>,\n",
       "              'notation': '▭'})"
      ]
     },
     "execution_count": 14,
     "metadata": {},
     "output_type": "execute_result"
    }
   ],
   "source": [
    "Rectangle.__dict__"
   ]
  },
  {
   "cell_type": "code",
   "execution_count": 15,
   "metadata": {
    "colab": {},
    "colab_type": "code",
    "id": "5_sVRh1i4v1q"
   },
   "outputs": [
    {
     "data": {
      "text/plain": [
       "('▭', '▭')"
      ]
     },
     "execution_count": 15,
     "metadata": {},
     "output_type": "execute_result"
    }
   ],
   "source": [
    "rect1.notation, rect2.notation"
   ]
  },
  {
   "cell_type": "markdown",
   "metadata": {
    "colab_type": "text",
    "id": "C2Dak_rX4v1r"
   },
   "source": [
    "\n",
    "---\n",
    "\n",
    "### 2.2.2 Class Functions vs. Instance Methods\n",
    "\n",
    "Instance objects also inherit behaviors defined in the class objects from which they were generated.\n",
    "\n",
    "\n",
    "All class attributes ***that are function objects*** define corresponding **methods** of its instances.  \n"
   ]
  },
  {
   "cell_type": "code",
   "execution_count": 4,
   "metadata": {
    "cell_style": "split",
    "colab": {},
    "colab_type": "code",
    "id": "hcZL8p6C4v1r"
   },
   "outputs": [
    {
     "data": {
      "text/plain": [
       "function"
      ]
     },
     "execution_count": 4,
     "metadata": {},
     "output_type": "execute_result"
    }
   ],
   "source": [
    "type(Rectangle.compute_area)"
   ]
  },
  {
   "cell_type": "code",
   "execution_count": 9,
   "metadata": {
    "cell_style": "split",
    "colab": {},
    "colab_type": "code",
    "id": "t04HxsbD4v1t"
   },
   "outputs": [
    {
     "data": {
      "text/plain": [
       "method"
      ]
     },
     "execution_count": 9,
     "metadata": {},
     "output_type": "execute_result"
    }
   ],
   "source": [
    "# rect1.compute_area.__self__\n",
    "type(rect1.compute_area)"
   ]
  },
  {
   "cell_type": "markdown",
   "metadata": {
    "colab_type": "text",
    "id": "1XgSDu9s4v1t"
   },
   "source": [
    "\n",
    "\n",
    "\n",
    "We can invoke `compute_area()` in the function call notation:"
   ]
  },
  {
   "cell_type": "code",
   "execution_count": 0,
   "metadata": {
    "colab": {},
    "colab_type": "code",
    "id": "hGrH-ldu4v1u"
   },
   "outputs": [],
   "source": [
    "Rectangle.compute_area(rect1) "
   ]
  },
  {
   "cell_type": "markdown",
   "metadata": {
    "colab_type": "text",
    "id": "E1bUT0X44v1w"
   },
   "source": [
    "We can also invoke a method call through an instance of the class:"
   ]
  },
  {
   "cell_type": "code",
   "execution_count": 0,
   "metadata": {
    "colab": {},
    "colab_type": "code",
    "id": "oNgbaw-a4v1y"
   },
   "outputs": [],
   "source": [
    "rect1.compute_area()"
   ]
  },
  {
   "cell_type": "markdown",
   "metadata": {
    "colab_type": "text",
    "id": "afeSsLO94v1z"
   },
   "source": [
    "Behind the scene, Python automatically maps instance method calls `instance.method(args...)` to class function calls  `class.function(instance, args...)`.\n",
    "\n"
   ]
  },
  {
   "cell_type": "markdown",
   "metadata": {
    "colab_type": "text",
    "id": "YDLd63Dp4v1z"
   },
   "source": [
    "---\n",
    "\n",
    "## 2.3 Operator Overloading (Optional)\n",
    "\n",
    "\n",
    "Running `dir(rect1)` shows some `__X__()` methods are available to `rect1` (inherited from somewhere)."
   ]
  },
  {
   "cell_type": "code",
   "execution_count": 0,
   "metadata": {
    "colab": {},
    "colab_type": "code",
    "id": "9M-RS1XE4v10"
   },
   "outputs": [],
   "source": [
    "dir(rect1)"
   ]
  },
  {
   "cell_type": "markdown",
   "metadata": {
    "colab_type": "text",
    "id": "VvCiZBrl4v11"
   },
   "source": [
    "Specially named methods overload operators: let instances of user-defined classes respond to built-in operations (e.g., `+`, `==`, `<`, `>=`, `[:]`, `print()`, `len()`, etc.).\n",
    "\n",
    "---\n",
    "\n",
    "### `__repr__()`\n",
    "\n",
    "\n",
    "Typing the name directly into the interpreter prints out its string representation:"
   ]
  },
  {
   "cell_type": "code",
   "execution_count": 0,
   "metadata": {
    "colab": {},
    "colab_type": "code",
    "id": "x8acvDcB4v12"
   },
   "outputs": [],
   "source": [
    "rect1"
   ]
  },
  {
   "cell_type": "markdown",
   "metadata": {
    "colab_type": "text",
    "id": "JEYpFUlg4v13"
   },
   "source": [
    "Behind the scene, the [`__repr__()`](https://docs.python.org/3/reference/datamodel.html#object.__repr__) special method is invoked to provide the string representation: \n"
   ]
  },
  {
   "cell_type": "code",
   "execution_count": 0,
   "metadata": {
    "colab": {},
    "colab_type": "code",
    "id": "y_wLIowQ4v13"
   },
   "outputs": [],
   "source": [
    "rect1.__repr__"
   ]
  },
  {
   "cell_type": "markdown",
   "metadata": {
    "colab_type": "text",
    "id": "xUiRkf9C4v14"
   },
   "source": [
    "We override the default `__repr__()` display overload to produce a more readable string representation:"
   ]
  },
  {
   "cell_type": "code",
   "execution_count": 0,
   "metadata": {
    "colab": {},
    "colab_type": "code",
    "id": "L-lXi12q4v15"
   },
   "outputs": [],
   "source": [
    "class Rectangle_1:                        \n",
    "    \n",
    "    description = 'class for rectangles'                                    \n",
    "    \n",
    "    def __init__(self, width, height, center=(0, 0)):\n",
    "        '''populates the attributes of a particular rectangle'''\n",
    "        self.width = width\n",
    "        self.height = height\n",
    "        self.center = center\n",
    "        \n",
    "    def __repr__(self):\n",
    "        '''defines a printable representation of a given instance'''\n",
    "        vertices = self.find_vertices()\n",
    "        return \"%s: {bottomleft = %s, topright = %s}\" % (self.__class__.__name__, vertices[0], vertices[1])\n",
    "    \n",
    "    def find_vertices(self):                                               \n",
    "        '''finds the coordinates for the bottom-left and the top-right corners'''\n",
    "        bottomleft = self.center[0]-self.width/2, self.center[1]-self.height/2\n",
    "        topright = self.center[0]+self.width/2, self.center[1]+self.height/2\n",
    "        return bottomleft, topright\n",
    "    \n",
    "    def compute_area(self):\n",
    "        '''computes the area of a rectangle'''\n",
    "        return self.width * self.height"
   ]
  },
  {
   "cell_type": "code",
   "execution_count": 0,
   "metadata": {
    "colab": {},
    "colab_type": "code",
    "id": "NbICRih44v15"
   },
   "outputs": [],
   "source": [
    "rect3 = Rectangle_1(4, 10)"
   ]
  },
  {
   "cell_type": "code",
   "execution_count": 0,
   "metadata": {
    "colab": {},
    "colab_type": "code",
    "id": "SwtQTBUz4v16",
    "scrolled": true
   },
   "outputs": [],
   "source": [
    "rect3"
   ]
  },
  {
   "cell_type": "markdown",
   "metadata": {
    "colab_type": "text",
    "id": "Y53dWby74v17"
   },
   "source": [
    "\n",
    "---\n",
    "###  `__add__()`\n",
    "\n",
    "`__X__()` methods for most commonly used operations are not provided by default. The corresponding operations are thereby not supported for the class's instances.\n",
    "\n",
    "Consider the following expression:"
   ]
  },
  {
   "cell_type": "code",
   "execution_count": 0,
   "metadata": {
    "colab": {},
    "colab_type": "code",
    "id": "m51ycYIC4v17",
    "outputId": "fd76b258-54d0-41e8-c464-9580a2695b0b"
   },
   "outputs": [
    {
     "ename": "TypeError",
     "evalue": "unsupported operand type(s) for +: 'Rectangle' and 'Rectangle'",
     "output_type": "error",
     "traceback": [
      "\u001b[1;31m---------------------------------------------------------------------------\u001b[0m",
      "\u001b[1;31mTypeError\u001b[0m                                 Traceback (most recent call last)",
      "\u001b[1;32m<ipython-input-95-358ccaf0af47>\u001b[0m in \u001b[0;36m<module>\u001b[1;34m\u001b[0m\n\u001b[1;32m----> 1\u001b[1;33m \u001b[0mrect1\u001b[0m \u001b[1;33m+\u001b[0m \u001b[0mrect2\u001b[0m\u001b[1;33m\u001b[0m\u001b[1;33m\u001b[0m\u001b[0m\n\u001b[0m",
      "\u001b[1;31mTypeError\u001b[0m: unsupported operand type(s) for +: 'Rectangle' and 'Rectangle'"
     ]
    }
   ],
   "source": [
    "rect1 + rect2"
   ]
  },
  {
   "cell_type": "markdown",
   "metadata": {
    "colab_type": "text",
    "id": "OH3apT3d4v18"
   },
   "source": [
    "\n",
    "To instruct the instances of this user-defined class to respond to `+`, we define [`__add__()`](https://docs.python.org/3/reference/datamodel.html#object.__add__) as follows:"
   ]
  },
  {
   "cell_type": "code",
   "execution_count": 0,
   "metadata": {
    "colab": {},
    "colab_type": "code",
    "id": "WLy-gtnf4v18"
   },
   "outputs": [],
   "source": [
    "class Rectangle_2:                         \n",
    "    \n",
    "    description = 'class for rectangles'                                    \n",
    "    \n",
    "    def __init__(self, width, height, center=(0, 0)):\n",
    "        '''populates the attributes of a particular rectangle'''\n",
    "        self.width = width\n",
    "        self.height = height\n",
    "        self.center = center\n",
    "        \n",
    "    def __repr__(self):\n",
    "        '''defines a printable representation of a given instance'''\n",
    "        vertices = self.find_vertices()\n",
    "        return \"%s: {bottomleft = %s, topright = %s}\" % (self.__class__.__name__, vertices[0], vertices[1])\n",
    "    \n",
    "    def __add__(self, other):\n",
    "        '''defines addition for rectangles'''\n",
    "        width = self.width + other.width\n",
    "        height = self.height + other.height\n",
    "        center = (self.center[0] + other.center[0])/2, (self.center[1] + other.center[1])/2\n",
    "        return Rectangle_2(width, height, center)\n",
    "    \n",
    "    def find_vertices(self):                                               \n",
    "        '''finds the coordinates for the bottom-left and the top-right corners'''\n",
    "        bottomleft = self.center[0]-self.width/2, self.center[1]-self.height/2\n",
    "        topright = self.center[0]+self.width/2, self.center[1]+self.height/2\n",
    "        return bottomleft, topright\n",
    "    \n",
    "    def compute_area(self):\n",
    "        '''computes the area of a rectangle'''\n",
    "        return self.width * self.height"
   ]
  },
  {
   "cell_type": "code",
   "execution_count": 0,
   "metadata": {
    "colab": {},
    "colab_type": "code",
    "id": "hTZQ13rM4v1-"
   },
   "outputs": [],
   "source": [
    "rect4 = Rectangle_2(4, 5, (2, 6)); rect5 = Rectangle_2(2, 3)"
   ]
  },
  {
   "cell_type": "code",
   "execution_count": 0,
   "metadata": {
    "colab": {},
    "colab_type": "code",
    "id": "YQJZhrD84v1_"
   },
   "outputs": [],
   "source": [
    "rect4 + rect5"
   ]
  },
  {
   "cell_type": "markdown",
   "metadata": {
    "colab_type": "text",
    "id": "mGCIulFX4v2A"
   },
   "source": [
    "Special **operator overloading methods** exist for nearly every operation available for built-in types. The mapping from each of these operations to a specially named method is ***fixed*** and ***unchangeable***.\n",
    "\n",
    "- E.g., `__lt__()` to `<`, `__le__()` to `<=`, `__eq__()` to `==`, `__ne__()` to `!=`, and so on.\n",
    "\n",
    "\n"
   ]
  },
  {
   "cell_type": "markdown",
   "metadata": {
    "colab_type": "text",
    "id": "tA67DyPk4v2A"
   },
   "source": [
    "\n",
    "---\n",
    "\n",
    "\n",
    "## 2.4 Defining a Derived Class (Optional)\n",
    "\n",
    "\n",
    "\n",
    "Python allows us to form a **derived class** (**subclass**) from one or more than one **base class** (**superclass**) to specialize behaviors while reusing existing code.\n",
    "\n",
    "To create a subclass, we just list the base class in parentheses in the `class` statement's header (seperated by `,`) :"
   ]
  },
  {
   "cell_type": "code",
   "execution_count": 4,
   "metadata": {
    "colab": {},
    "colab_type": "code",
    "id": "rsNNNIPz4v2B"
   },
   "outputs": [],
   "source": [
    "class Rectangle_3(Rectangle):                         \n",
    "    '''A derived class for rectangles on a plane.''' \n",
    "        \n",
    "    def __repr__(self):\n",
    "        '''defines a printable representation of a given instance'''\n",
    "        vertices = self.find_vertices()\n",
    "        return \"%s: {bottomleft = %s, topright = %s}\" % (self.__class__.__name__, vertices[0], vertices[1])\n",
    "    \n",
    "    def __add__(self, other):\n",
    "        '''defines addition for rectangles'''\n",
    "        width = self.width + other.width\n",
    "        height = self.height + other.height\n",
    "        center = (self.center[0] + other.center[0])/2, (self.center[1] + other.center[1])/2\n",
    "        return Rectangle_3(width, height, center)\n",
    "    "
   ]
  },
  {
   "cell_type": "code",
   "execution_count": 5,
   "metadata": {
    "colab": {},
    "colab_type": "code",
    "id": "DHEdiHjD4v2C",
    "outputId": "a32fc38e-806a-49fe-ff29-8a3bf9661d5b"
   },
   "outputs": [
    {
     "data": {
      "text/plain": [
       "mappingproxy({'__module__': '__main__',\n",
       "              '__doc__': 'A derived class for non-axis-parallel rectangles on a plane.',\n",
       "              '__init__': <function __main__.Rectangle_3.__init__(self, width, height, bottom_left=(0, 0), rotation=0)>})"
      ]
     },
     "execution_count": 5,
     "metadata": {},
     "output_type": "execute_result"
    }
   ],
   "source": [
    "Rectangle_3.__dict__"
   ]
  },
  {
   "cell_type": "code",
   "execution_count": 0,
   "metadata": {
    "colab": {},
    "colab_type": "code",
    "id": "6gumBj0B4v2D"
   },
   "outputs": [],
   "source": [
    "rect6 = Rectangle_3(4, 2, (2, 3)); rect7 = Rectangle_3(2, 6)"
   ]
  },
  {
   "cell_type": "code",
   "execution_count": 0,
   "metadata": {
    "colab": {},
    "colab_type": "code",
    "id": "Vif4GGQX4v2D",
    "outputId": "674eb010-36f7-49cd-9419-607c70b4007b"
   },
   "outputs": [
    {
     "data": {
      "text/plain": [
       "Rectangle_3: {bottomleft = (-2.0, -2.5), topright = (4.0, 5.5)}"
      ]
     },
     "execution_count": 125,
     "metadata": {
      "tags": []
     },
     "output_type": "execute_result"
    }
   ],
   "source": [
    "rect6 + rect7"
   ]
  },
  {
   "cell_type": "markdown",
   "metadata": {
    "colab_type": "text",
    "id": "TM-P1e104v2F"
   },
   "source": [
    "Each instance inherits names from the class it's generated from, as well as all of that class's superclasses:"
   ]
  },
  {
   "cell_type": "code",
   "execution_count": 26,
   "metadata": {
    "colab": {},
    "colab_type": "code",
    "id": "kLdKCIxp4v2F",
    "outputId": "faa60ce4-5750-4ddb-d4b5-cdecaf4270d6"
   },
   "outputs": [
    {
     "name": "stdout",
     "output_type": "stream",
     "text": [
      "['__add__', '__class__', '__delattr__', '__dict__', '__dir__', '__doc__', '__eq__', '__format__', '__ge__', '__getattribute__', '__gt__', '__hash__', '__init__', '__init_subclass__', '__le__', '__lt__', '__module__', '__ne__', '__new__', '__reduce__', '__reduce_ex__', '__repr__', '__setattr__', '__sizeof__', '__str__', '__subclasshook__', '__weakref__', 'compute_area', 'description', 'find_vertices']\n"
     ]
    }
   ],
   "source": [
    "print(dir(Rectangle_3))"
   ]
  },
  {
   "cell_type": "code",
   "execution_count": 0,
   "metadata": {
    "colab": {},
    "colab_type": "code",
    "id": "Ai2LYzfw4v2G"
   },
   "outputs": [],
   "source": [
    "rect6.notation"
   ]
  },
  {
   "cell_type": "code",
   "execution_count": 0,
   "metadata": {
    "colab": {},
    "colab_type": "code",
    "id": "YbtdL0y_4v2H"
   },
   "outputs": [],
   "source": [
    "rect7.compute_area()"
   ]
  },
  {
   "cell_type": "markdown",
   "metadata": {
    "colab_type": "text",
    "id": "xqfqpGy24v2H"
   },
   "source": [
    "To resolve attribute references, Python goes through the following steps:\n",
    "\n",
    "1. The search first checks the instance's namespace and then its class's namespace. \n",
    "2. If a requested attribute is not found in the class's namespace, the search proceeds to look in the most recent superclass. \n",
    "3. This rule is applied ***recursively*** upward through a **hirerarchy of classes** until all superclasses are searched.\n",
    "\n",
    "Searches stop at the first appearance of the attribute name that it finds."
   ]
  },
  {
   "cell_type": "markdown",
   "metadata": {
    "colab_type": "text",
    "id": "RQS99iqy4v2H"
   },
   "source": [
    "---\n",
    "\n",
    "## 2.5 Inheritance (Optional)\n",
    "\n",
    "\n",
    "A language feature would not be worthy of the name **\"class\"** without supporting **inheritance**. \n",
    "\n",
    "Inheritance provides:\n",
    "\n",
    "- Factoring operations into a single, shared implementation to minimize code redundancy;\n",
    "\n",
    "- Customizing what already exists, rather than changing it in place or starting from scratch.\n",
    "\n",
    "In Python, instances inherit from classes, and classes inherit from superclasses in the **hierarchy of classes**. \n"
   ]
  },
  {
   "cell_type": "code",
   "execution_count": 0,
   "metadata": {
    "cell_style": "split",
    "colab": {},
    "colab_type": "code",
    "id": "hf6CrsLP4v2I"
   },
   "outputs": [],
   "source": [
    "class A: \n",
    "    pass\n",
    "\n",
    "class B: \n",
    "    pass\n",
    "\n",
    "class C(A): \n",
    "    pass\n",
    "\n",
    "class D(B): \n",
    "    pass\n",
    "\n",
    "class MyClass(C, D):  # C precedes D\n",
    "    pass "
   ]
  },
  {
   "cell_type": "markdown",
   "metadata": {
    "cell_style": "split",
    "colab_type": "text",
    "id": "VIgZckQ44v2I"
   },
   "source": [
    "<img src='https://raw.githubusercontent.com/justinjiajia/img/master/python/mro.png' width=200/>\n",
    "\n"
   ]
  },
  {
   "cell_type": "markdown",
   "metadata": {
    "colab_type": "text",
    "id": "ZJ9lBrcSAiUS"
   },
   "source": [
    "<div class=\"alert alert-info\">\n",
    "Class object is added automatically in class trees. In Python's object model, all types are directly or indirectly subclasses of object.</div>\n",
    "\n",
    "The  `__mro__` attribute of a class object returns inheritance search order (a.k.a method resolution order) a class uses:"
   ]
  },
  {
   "cell_type": "code",
   "execution_count": 0,
   "metadata": {
    "colab": {},
    "colab_type": "code",
    "id": "4UnYlL5x4v2I",
    "outputId": "cf88a15f-d2c3-4f4a-a37e-ae77fce2f2b4"
   },
   "outputs": [
    {
     "data": {
      "text/plain": [
       "(__main__.MyClass, __main__.C, __main__.A, __main__.D, __main__.B, object)"
      ]
     },
     "execution_count": 140,
     "metadata": {
      "tags": []
     },
     "output_type": "execute_result"
    }
   ],
   "source": [
    "MyClass.__mro__   "
   ]
  },
  {
   "cell_type": "markdown",
   "metadata": {
    "colab_type": "text",
    "id": "99mM9eJj4v2J"
   },
   "source": [
    "---\n",
    "\n",
    "# Appendix: Python Statements (Updated)\n",
    "\n",
    "\n",
    "\n",
    "\n",
    "|Statement|Role|Example\n",
    "|:-- |:-- |:-- |\n",
    "|Assignment: `=`|Creating and assigning references|`a, b = 'good', 'bad'` <br> `ls = [1, 5]; ls[1] = 2; ls[2:2] = [3, 4]`   |\n",
    "|Augmented assignment: <br>`+=`, `-=`, `*=`, `/=`,  `%=`, etc.| Combining a binary operation and <br> an assignment statement|`a *= 2` <br> `a += b` |\n",
    "|`del`|Deleting references|`del variable` <br> `del object.attribute` <br> `del data[index]` <br> `del data[index:index]`|\n",
    "|`if/elif/else`| Selecting actions|`if \"python\":` <br> &nbsp; &nbsp; `print(\"programming\")` |\n",
    "|`for`| Definite loops |`for x in \"python\":` <br> &nbsp; &nbsp;  &nbsp;`print(x)` |\n",
    "|`while`| Indefinite/general loops |`while x > 0:` <br> &nbsp; &nbsp; &nbsp; &nbsp;    `print(\"positive\")` |\n",
    "|`break`| Loop exit |`while True:` <br> &nbsp; &nbsp; &nbsp; &nbsp;    `if exittest(): break` |\n",
    "|`continue`| Loop continue |`while True:` <br> &nbsp; &nbsp; &nbsp; &nbsp;    `if skiptest(): continue` |\n",
    "|`def`| Creating functions |`def f(a, b, c=1, *d):`<br> &nbsp; &nbsp; &nbsp; &nbsp;  ` print(a+b+c+d[0])` |\n",
    "|`return`| Specifying return values |`def f(a, b, c=1, *d):`<br> &nbsp; &nbsp; &nbsp; &nbsp;  ` return a+b+c+d[0]` |\n",
    "|`class`| Creating classes |`class Subclass(Superclass):`<br> <br> &nbsp;&nbsp;&nbsp;&nbsp;&nbsp; &nbsp; &nbsp; &nbsp; `data_attr = []`<br><br> &nbsp;&nbsp;&nbsp;&nbsp;&nbsp; &nbsp; &nbsp; &nbsp; `def fun_attr(self):` <br> &nbsp;&nbsp;&nbsp;&nbsp; &nbsp;&nbsp; &nbsp; &nbsp; &nbsp; &nbsp; &nbsp; &nbsp; &nbsp;`pass` |\n",
    "\n",
    "\n",
    "\n",
    "\n"
   ]
  }
 ],
 "metadata": {
  "colab": {
   "collapsed_sections": [],
   "name": "Topic 4 Functions and classes.ipynb",
   "provenance": []
  },
  "hide_input": false,
  "kernelspec": {
   "display_name": "Python 3",
   "language": "python",
   "name": "python3"
  },
  "language_info": {
   "codemirror_mode": {
    "name": "ipython",
    "version": 3
   },
   "file_extension": ".py",
   "mimetype": "text/x-python",
   "name": "python",
   "nbconvert_exporter": "python",
   "pygments_lexer": "ipython3",
   "version": "3.8.3"
  },
  "toc": {
   "base_numbering": 1,
   "nav_menu": {},
   "number_sections": false,
   "sideBar": true,
   "skip_h1_title": false,
   "title_cell": "Table of Contents",
   "title_sidebar": "Contents",
   "toc_cell": false,
   "toc_position": {},
   "toc_section_display": true,
   "toc_window_display": false
  }
 },
 "nbformat": 4,
 "nbformat_minor": 1
}
