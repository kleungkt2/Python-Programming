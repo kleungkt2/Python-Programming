{
 "cells": [
  {
   "cell_type": "markdown",
   "metadata": {
    "colab_type": "text",
    "id": "LpFkimaMSE-_"
   },
   "source": [
    "## Practice Questions on Python Basics\n",
    "\n",
    "For each question below, please write the corresponding code, and then run the code to show the output. "
   ]
  },
  {
   "cell_type": "markdown",
   "metadata": {
    "colab_type": "text",
    "id": "pvxGcKDTSE_D"
   },
   "source": [
    "1) Write code that would assign value 2 to x, and value 3 to y."
   ]
  },
  {
   "cell_type": "markdown",
   "metadata": {
    "colab_type": "text",
    "id": "RhmTuSjhSE_E"
   },
   "source": [
    "2) What will be the result of `x == y`? "
   ]
  },
  {
   "cell_type": "markdown",
   "metadata": {
    "colab_type": "text",
    "id": "HeDhJGMGSE_F"
   },
   "source": [
    "3) What will be the result of `x < y`?"
   ]
  },
  {
   "cell_type": "markdown",
   "metadata": {
    "colab_type": "text",
    "id": "TibxjDw0SE_H"
   },
   "source": [
    "4) Do a regular division, a floor divison, and then get the remainer of 11 divided by 3."
   ]
  },
  {
   "cell_type": "markdown",
   "metadata": {
    "colab_type": "text",
    "id": "o8N4oPk4SE_I"
   },
   "source": [
    "5) Assign square of 12 to a variable `q`, and then print `q`."
   ]
  },
  {
   "cell_type": "markdown",
   "metadata": {
    "colab_type": "text",
    "id": "FP6fOgEsSE_I"
   },
   "source": [
    "6) Assign `True` to `a` and `False` to `b`, then find out the value of `a or b`."
   ]
  },
  {
   "cell_type": "markdown",
   "metadata": {
    "colab_type": "text",
    "id": "cbRCYcE-SE_J"
   },
   "source": [
    "7) What will be the result of `not a and not b`? "
   ]
  },
  {
   "cell_type": "markdown",
   "metadata": {
    "colab_type": "text",
    "id": "uHCmPvZySE_N"
   },
   "source": [
    "8) Use a proper mathmatical function to find the maximum value among 23, 14, 108, and -5.  "
   ]
  },
  {
   "cell_type": "markdown",
   "metadata": {
    "colab_type": "text",
    "id": "hvtoZgBZSE_P"
   },
   "source": [
    "9) Convert integer 5 to a `float`"
   ]
  },
  {
   "cell_type": "markdown",
   "metadata": {
    "colab_type": "text",
    "id": "AIjlgYFxSE_Q"
   },
   "source": [
    "10) What if I want to convert 4.555 to 5? "
   ]
  },
  {
   "cell_type": "markdown",
   "metadata": {
    "colab_type": "text",
    "id": "Kg5GuOiDSE_Q"
   },
   "source": [
    "11) Write code that would ask users to input a course number, assign it to a variable called `course_no`, and then print the value of this variable. Run the code you wrote, and input \"ISOM3400\" as the course number. "
   ]
  },
  {
   "cell_type": "markdown",
   "metadata": {
    "colab_type": "text",
    "id": "kU8q6M1jUTaf"
   },
   "source": [
    "12) Assign `'a'` to `str1`, `'b'` to `str2`, and `'c'` to `str3`. Then print `abc` (with no space in between)"
   ]
  },
  {
   "cell_type": "markdown",
   "metadata": {
    "colab_type": "text",
    "id": "ZL9IKpa6Uh5Z"
   },
   "source": [
    "13) Use `str1`, `str2`, and `str3`, as well as the `sep` and `end` keyword arguments parameters to print the following output `.a|b|c.`"
   ]
  },
  {
   "cell_type": "markdown",
   "metadata": {
    "colab_type": "text",
    "id": "wDT8vhISUzD0"
   },
   "source": [
    "14) Use `str1`, `str2`, and `str3` to print `aaabbbccc`."
   ]
  },
  {
   "cell_type": "markdown",
   "metadata": {
    "colab_type": "text",
    "id": "qA6-gM6NU93t"
   },
   "source": [
    "15) Write code to check if letter A is in the sentence: \"She is a great badminton player\". The test should return a value of `True` or `False`. "
   ]
  },
  {
   "cell_type": "markdown",
   "metadata": {
    "colab_type": "text",
    "id": "dQmmy6ZwVPEf"
   },
   "source": [
    "16) Assign a string `\"Super Mario\"` to a variable called `game`, use the slice operation to print `\"Super\"` from variable `game`."
   ]
  },
  {
   "cell_type": "markdown",
   "metadata": {
    "colab_type": "text",
    "id": "Jsh_xkHfVe9q"
   },
   "source": [
    "17) Following the previous question, write code to print `\"Mario\"` from variable `game` using positive indexing first, and then using negative indexing. "
   ]
  },
  {
   "cell_type": "markdown",
   "metadata": {
    "colab_type": "text",
    "id": "ABVJ0i43Vr4L"
   },
   "source": [
    "18) Write code to get the first two and the last two characters of `game`. The output should be: `Suio`"
   ]
  },
  {
   "cell_type": "markdown",
   "metadata": {
    "colab_type": "text",
    "id": "KyG9VIIiV1od"
   },
   "source": [
    "19) Write code to find the index position of the space in variable `game`."
   ]
  },
  {
   "cell_type": "markdown",
   "metadata": {
    "colab_type": "text",
    "id": "McmhKjpzV8MB"
   },
   "source": [
    "20) Print the value of `game` without the space. "
   ]
  },
  {
   "cell_type": "markdown",
   "metadata": {
    "colab_type": "text",
    "id": "ENgih8RSWRDW"
   },
   "source": [
    "21) Use variable `game`, print the following: `SUPER mario` "
   ]
  },
  {
   "cell_type": "markdown",
   "metadata": {
    "colab_type": "text",
    "id": "Ou8It7u2WWgv"
   },
   "source": [
    "22) Use string formatting to print the following based on variable `game`:\n",
    "\n",
    "`The length of 'Super Mario' is 11 characters`"
   ]
  },
  {
   "cell_type": "markdown",
   "metadata": {
    "colab_type": "text",
    "id": "yMyNbwc3Wic1"
   },
   "source": [
    "23) Write code that will only return `True` if a string has 'A' and 'B' and 'C' in it. Define `game2` as \"Apple Bee Cat\". And test your code on both `game` and `game2`. The result should be `False` for `game`, and `True` for `game2`. "
   ]
  },
  {
   "cell_type": "markdown",
   "metadata": {
    "colab_type": "text",
    "id": "EAy286jYWx0i"
   },
   "source": [
    "24) Kathy has improved her score from 78 to 92. Please calculate her percentage of grade increase and print the following: \n",
    "\n",
    "```\n",
    "Kathy's grade was improved from 78 to 92, which is an increase of 17.95%\n",
    "``` \n",
    "\n",
    "(round the percentage to 2 decimal places)"
   ]
  },
  {
   "cell_type": "markdown",
   "metadata": {
    "colab_type": "text",
    "id": "vjBo_b8SW-di"
   },
   "source": [
    "25) Assume that you have a string of digits `\"1234\"`. Write code that would print the sum of squares of each digit in that string. \n",
    "(hint: the output is `30`)"
   ]
  },
  {
   "cell_type": "markdown",
   "metadata": {
    "colab_type": "text",
    "id": "LeehYrRfXN8c"
   },
   "source": [
    "26) Given a string `\"abcdbcdcdd\"`, count how many times each character appears in the string, and produce the following output: \n",
    "\n",
    "```\n",
    "'abcdbcdcdd' has 1 'a's, 2 'b's, 3 'c's, and 4 'd's.\n",
    "```"
   ]
  },
  {
   "cell_type": "markdown",
   "metadata": {
    "colab_type": "text",
    "id": "4g5D1S0IXjw3"
   },
   "source": [
    "27) Write code to check your own Body Mass Index (BMI), which is a simple calculation using a person's height and weight. The formula is $BMI = kg/m^{2}$ where $kg$ is a person's weight in kilograms and $m^{2}$ is their height in metres squared. A BMI of 25.0 or more is overweight, while the healthy range is 18.5 to 24.9. Height and weight shall be user inputs, so that your code can be reused to check other people's BMI as well. Round BMI to two decimal points when printing. "
   ]
  }
 ],
 "metadata": {
  "colab": {
   "collapsed_sections": [],
   "name": "Extra Exercies on Python Basics.ipynb",
   "provenance": []
  },
  "kernelspec": {
   "display_name": "Python 3",
   "language": "python",
   "name": "python3"
  },
  "language_info": {
   "codemirror_mode": {
    "name": "ipython",
    "version": 3
   },
   "file_extension": ".py",
   "mimetype": "text/x-python",
   "name": "python",
   "nbconvert_exporter": "python",
   "pygments_lexer": "ipython3",
   "version": "3.8.3"
  }
 },
 "nbformat": 4,
 "nbformat_minor": 1
}
