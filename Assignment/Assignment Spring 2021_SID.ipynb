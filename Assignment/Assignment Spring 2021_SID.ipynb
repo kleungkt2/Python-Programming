{
 "cells": [
  {
   "cell_type": "markdown",
   "metadata": {
    "id": "Vq4oHro1mb7r"
   },
   "source": [
    "# Assignment (100 pts)\n",
    "\n",
    "## Due Date & Time: 22-Apr-2021 (09:00 HKT)\n",
    "\n",
    "\n",
    "\n",
    "\n",
    "\n",
    "- [ ] *Honor Pledge: I certify that this assignment is my own work, based on my personal study and/or research, and that I have not copied in part or whole or otherwise plagiarised the work of other students and/or persons.*"
   ]
  },
  {
   "cell_type": "markdown",
   "metadata": {},
   "source": [
    "## Question 1. (15 pts)\n",
    "\n",
    "Student A wants to select gifts for student B. Student A uses two dictionaries to record two types of ratings for options s/he considers: a dictionary that records the rating of how good a gift would be for student B (on a scale of 1-5), and a dictionary that records the rating of how much student B wants the gift (on a scale of 1-5). The rating of a gift that is not in either of the dictionaries is considered to be 0.\n",
    "\n",
    "Student A wants to select the gifts with the maximal possible combined rating, where the combined rating is the sum of the rating of how good the gift would be for the student and the rating of how much the student wants the gift.\n",
    "\n",
    "For example, the dictionaries can be:\n",
    "\n",
    "```python\n",
    "\n",
    "good_ratings = {\"Python textbook\": 5, \"iPhone\": 1, \"iPad\": 4, \"AirPods\": 4}\n",
    "want_ratings = {\"iPhone\": 5, \"A+ in ISOM3400\": 5, \"Python textbook\": 3, \"AirPods\": 4, \"Xbox\": 5}\n",
    "```\n",
    "\n",
    "Here, the gifts student A wants to select are \"Python textbook\" and \"AirPods\", since the combined rating for them is 5+3=4+4=8, larger than any other one. The combined rating of \"Xbox\" is 5+0=5.\n",
    "\n",
    "\n",
    "Write a function with the signature `select_gifts(good_ratings, want_ratings)` that returns a list\n",
    "of all the gifts which have the highest combined rating of all the gifts, sorted in alphabetical order.\n",
    "\n",
    "\n",
    "For example, for `good_ratings` and `want_ratings` as defined above,\n",
    "`select_gifts(good_ratings, want_ratings)` should return `['AirPods', 'Python textbook']`."
   ]
  },
  {
   "cell_type": "code",
   "execution_count": null,
   "metadata": {},
   "outputs": [],
   "source": [
    "# write your code below\n",
    "\n",
    "\n",
    "\n"
   ]
  },
  {
   "cell_type": "markdown",
   "metadata": {
    "id": "v_qVT604owXX"
   },
   "source": [
    "---\n",
    "\n",
    "\n",
    "## Question 2. Data Assignment (10 pts)\n",
    "\n",
    "This problem presents a common data analysis task that assigns data into differet groups based on the grouping defined by a list of integers. \n",
    "\n",
    "Suppose we have a list of students:\n",
    "\n",
    "```python\n",
    "students = ['Tommy', 'Kitty', 'Jessie', 'Chester', 'Curie', 'Darwing', 'Nancy', 'Sue', \n",
    "            'Peter', 'Andrew', 'Karren', 'Charles', 'Nikhil', 'Justin', 'Astha', 'Victor', \n",
    "            'Samuel', 'Olivia', 'Tony']\n",
    "```\n",
    "\n",
    "We are going to assign them into 4 groups. The group identity of each student is specified by the integer at the same index position in a list named `assignment`:\n",
    "\n",
    "```python\n",
    "assignment = [2, 3, 3, 4, 1, 3, 2, 4, 3, 1, 1, 1, 2, 1, 3, 2, 4, 2, 4]\n",
    "```\n",
    "\n",
    "This list represents a grouping rule that assigns `'Tommy'` to group 2, `'Kitty'` to group 3, `'Jessie'` to group 3, and so on.\n",
    "\n",
    "Write a comprehension to produce a dictionary whose values are each a list that contains all students assigned to the corresponding group.\n",
    "\n",
    "The expected output is \n",
    "\n",
    "```python \n",
    "{'Group 1': ['Curie', 'Andrew', 'Karren', 'Charles', 'Justin'],\n",
    " 'Group 2': ['Tommy', 'Nancy', 'Nikhil', 'Victor', 'Olivia'],\n",
    " 'Group 3': ['Kitty', 'Jessie', 'Darwing', 'Peter', 'Astha'],\n",
    " 'Group 4': ['Chester', 'Sue', 'Samuel', 'Tony']}\n",
    "```\n",
    "<font color='red'>*Hint:*</font>\n",
    "- <font color='red'>*`zip()` can help us pair up elements at the same index positions from the two lists.*</font>\n",
    "\n",
    "- <font color='red'>*Each value is an output of a list comprehension with filtering (so the `if` part is needed). The filtering only keeps the students assigned to the current group (e.g., `Group 1`).*</font>\n",
    "\n",
    "- <font color='red'>*The keys, i.e., `'Group 1'`, `'Group 2'`, and `'Group 3'`, can be composed by string formatting with the group identity incrementally increasing across iterations.*</font>\n",
    "\n",
    "- <font color='red'>*Use `range()` to create the desired sequence of group identifiers.*</font>\n",
    "\n",
    "\n"
   ]
  },
  {
   "cell_type": "code",
   "execution_count": null,
   "metadata": {},
   "outputs": [],
   "source": [
    "students = ['Tommy', 'Kitty', 'Jessie', 'Chester', 'Curie', 'Darwing', 'Nancy', 'Sue', \n",
    "            'Peter', 'Andrew', 'Karren', 'Charles', 'Nikhil', 'Justin', 'Astha', 'Victor', \n",
    "            'Samuel', 'Olivia', 'Tony']\n",
    "\n",
    "assignment = [2, 3, 3, 4, 1, 3, 2, 4, 3, 1, 1, 1, 2, 1, 3, 2, 4, 2, 4]\n",
    "\n",
    "# write your code (a single comprehension) below\n",
    "\n",
    "\n",
    "\n"
   ]
  },
  {
   "cell_type": "markdown",
   "metadata": {
    "id": "e3D5qxoFoQIP"
   },
   "source": [
    "---\n",
    "\n",
    "## Question 3. Sorting Nested Data (15 pts)\n",
    "\n",
    "\n",
    "Suppose we use a Python dictionary to store gradebooks of multiple courses.\n",
    "\n",
    "```python\n",
    "\n",
    "gradebooks = {'Course 1': [['Troy', 92], ['Alice', 95]], \n",
    "              'Course 2': [['James', 89], ['Charles', 100], ['Bryn', 59]],\n",
    "              'Course 3': [['Jack', 74], ['Karren', 97], ['Astha', 92], ['Nancy', 96]]}\n",
    "```              \n",
    "Use the builtin `sorted` function with appropriate programming constructs (e.g., `lambda`s, comprehensions, etc.) to complete the following tasks:\n",
    "\n",
    "- Write a single expression to create a new list named `gradebooks_a`, with students of each course being sorted by score in descending order. The expected result is:\n",
    "```python\n",
    "[[['Alice', 95], ['Troy', 92]],\n",
    "   [['Charles', 100], ['James', 89], ['Bryn', 59]],\n",
    "   [['Karren', 97], ['Nancy', 96], ['Astha', 92], ['Jack', 74]]]\n",
    "```\n",
    "<font color=\"red\">*Hint: You may refer to Question 1.3 of the 3rd in-class exercise for an idea of sorting nested data.*</font>"
   ]
  },
  {
   "cell_type": "code",
   "execution_count": null,
   "metadata": {},
   "outputs": [],
   "source": [
    "gradebooks = {'Course 1': [['Troy', 92], ['Alice', 95]], \n",
    "              'Course 2': [['James', 89], ['Charles', 100], ['Bryn', 59]],\n",
    "              'Course 3': [['Jack', 74], ['Karren', 97], ['Astha', 92], ['Nancy', 96]]}\n",
    "\n",
    "# write your code (a single expression) below\n",
    "\n",
    "\n",
    "\n"
   ]
  },
  {
   "cell_type": "markdown",
   "metadata": {
    "id": "wY84YRMrTm1L"
   },
   "source": [
    "- Based on `gradebooks_a`, write a single expression to create a list named `gradebooks_b`, with courses being sorted by number of scores above 90. The expected result is:\n",
    "```python\n",
    "[[['Charles', 100], ['James', 89], ['Bryn', 59]],                # only 1 score above 90\n",
    "   [['Alice', 95], ['Troy', 92]],                                  # 2 scores above 90\n",
    "   [['Karren', 97], ['Nancy', 96], ['Astha', 92], ['Jack', 74]]]   # 3 score above 90\n",
    "``` \n",
    "<font color=\"red\">*Hint: You may refer to Question 1.3 of the 3rd in-class exercise for an idea of sorting nested data.*</font>"
   ]
  },
  {
   "cell_type": "code",
   "execution_count": 5,
   "metadata": {
    "id": "brFM_EAUToVQ"
   },
   "outputs": [],
   "source": [
    "# write your code (a single expression) below\n",
    "\n"
   ]
  },
  {
   "cell_type": "markdown",
   "metadata": {
    "id": "EuVWs-NWJw41"
   },
   "source": [
    "\n",
    "---\n",
    "\n",
    "## Question 4. Word Prediction (30 pts)\n",
    "\n",
    "Tablets and smartphones rely on a virtual keyboard. But typing on a virtual keyboard is much slower than a physical keyboard and error prone. The solution is to suggest options for the next word as you type text and allow for the insertion of the next word into the text stream by tapping a suggested word. \n",
    "\n",
    "A simple implementation of the word suggestion feature relies on creating a data structure that stores information about what words are likely to follow a given word. This data structure is typically created by processing a collection of text documents (a.k.a. a corpus).\n",
    "\n",
    "Suppose the corpus we are using is a tiny one consisting of the following string:\n",
    "\n",
    "```python\n",
    "wordstring = 'it was the best of times it was the worst of times it was the age of wisdom it was the age of foolishness'\n",
    "```\n",
    "\n",
    "- Implement a function `get_pair_freq` that computes the frequencies of pairs of consecutive words in a given string (e.g., `wordstring` is taken as the argument). The output of calling `get_pair_freq(wordstring)` should be a dictionary where keys are pairs of words and values are the number of occurrences of each pair. The expected output is:\n",
    "```python\n",
    "{('it', 'was'): 4, ('was', 'the'): 4, ('the', 'best'): 1, ('best', 'of'): 1, ('of', 'times'): 2, ('times', 'it'): 2, ('the', 'worst'): 1, ('worst', 'of'): 1, ('the', 'age'): 2, ('age', 'of'): 2, ('of', 'wisdom'): 1, ('wisdom', 'it'): 1, ('of', 'foolishness'): 1}\n",
    "```\n",
    "<font color='red'>*Hint: Recall the use of the `split` method of a string object and the way of dictionary updates.*</font>\n"
   ]
  },
  {
   "cell_type": "code",
   "execution_count": 6,
   "metadata": {
    "colab": {
     "base_uri": "https://localhost:8080/",
     "height": 55
    },
    "id": "YnPOkTURmzOw",
    "outputId": "a0610aa2-e8cb-45d4-daa7-0e9d6aa93832"
   },
   "outputs": [],
   "source": [
    "wordstring = 'it was the best of times it was the worst of times \\\n",
    "it was the age of wisdom it was the age of foolishness'\n",
    "\n",
    "# write your code below\n",
    "\n",
    "\n",
    "\n",
    "\n"
   ]
  },
  {
   "cell_type": "markdown",
   "metadata": {
    "id": "Ua91RTEjUF2m"
   },
   "source": [
    "\n",
    "- Process the dictionary above to output a new dictionary that stores information about what words are likely to follow each preceding word. The expected output is \n",
    "```python\n",
    "{'it': [('was', 4)], 'was': [('the', 4)], 'the': [('best', 1), ('worst', 1), ('age', 2)], 'best': [('of', 1)], 'of': [('times', 2), ('wisdom', 1), ('foolishness', 1)], 'times': [('it', 2)], 'worst': [('of', 1)], 'age': [('of', 2)], 'wisdom': [('it', 1)]}\n",
    "```\n",
    "where the values are each a list of tuples representing how often a word follows the given key.\n",
    "<br><font color='red'>*Hint: You can update dictionary entries in much the same way as you did for the question above. But now the values are lists themselves, requiring the use of some list method to update them.*</font>\n"
   ]
  },
  {
   "cell_type": "code",
   "execution_count": null,
   "metadata": {},
   "outputs": [],
   "source": [
    "# write your code below\n",
    "\n",
    "\n"
   ]
  },
  {
   "cell_type": "markdown",
   "metadata": {
    "id": "OsfRmKw4UJUG"
   },
   "source": [
    "- Sort the successive word(s) in each value by frequency (the 2nd element of innermost tuples) in a dictionary comprehension so that for a given word input from the virtual keyboard, we can quickly generate a list of suggested words in descending order by frequency using dictionary indexing. The expected output is \n",
    "```python\n",
    "{'it': ['was'], 'was': ['the'], 'the': ['age', 'best', 'worst'], 'best': ['of'], 'of': ['times', 'wisdom', 'foolishness'], 'times': ['it'], 'worst': ['of'], 'age': ['of'], 'wisdom': ['it']}\n",
    "```\n",
    "<font color=\"red\">*Hint:\n",
    "Each value is an output of a list comprehension, which processes a sorted list of (word, frequency) tuples.*</font>"
   ]
  },
  {
   "cell_type": "code",
   "execution_count": 30,
   "metadata": {
    "id": "ka2HsHrsULmV"
   },
   "outputs": [],
   "source": [
    "# write your code (a single comprehension) below\n",
    "\n",
    "\n",
    "\n"
   ]
  },
  {
   "cell_type": "markdown",
   "metadata": {},
   "source": [
    "\n",
    "---\n",
    "\n",
    "##  Question 5.  Scraping IMDB Reviews (30 pts)\n",
    "\n",
    "Write code to drive a browser to visit the imdb [review page](https://www.imdb.com/title/tt1856010/reviews) for *House of Cards* and tick the checkbox to hide spoilers. The content then rendered on this page would look like the following:\n",
    "\n",
    "\n",
    "<img src=\"movie_reviews.png\"  width=\"500\"  /> \n",
    "\n",
    "<br>\n",
    "\n",
    "Initially, only 25 reviews are presented on the page. But if you scroll down to the bottom of the page, you will find a load-more button. Clicking it every time will load 25 additional reviews on the fly into the result.\n",
    "\n",
    "\n",
    "\n"
   ]
  },
  {
   "cell_type": "markdown",
   "metadata": {},
   "source": [
    "Write code to simulate the clicking on the load-more button and scrape the data about **at least 50 reviews**.\n",
    "\n",
    "The pieces of information you need to extract for each review include **the title, the review text, the ID of the user who gave it, the review date, and the numerical rating (a number out of 10; some reviews have this piece of information missing)**.\n",
    "\n",
    "You can use different Python lists to maintain different pieces of information about individual reviews.\n",
    "\n",
    "If you print the lists that maintian the information on review titles and ratings, the outputs should look like the following (suppose you scraped data for 50 reviews):\n",
    "\n",
    "\n",
    "Titles:\n",
    "\n",
    "```python\n",
    "['Season 6 Disaster', 'SEASON 6 :JUST TERRIBLE: THE LEGACY KILLER', 'NO KEVIN, NO SHOW!!', 'Simply not worth it anymore after Kevin Spacey left...', \"There's no reason to watch without Kevin Spacey.\", 'Season 6 is a terrible watch', 'What IDIOTS! Legacy destroyed!', '5 Seasons Of Highly Addictive Political Drama And Darkly Funny Satire', 'Nothing without Spacey', 'Netflix, masters at watering down content!', 'Pioneering Perfection', 'Disappointing Drivel', 'Season 6', 'Season 6 is boring as hell', 'WTF WAS THAT!? Terrible Season 6', 'An American Twist on a British Classic', 'HOC is nothing without Kevin', 'If not for season 6, it would have been a 9', 'Season 6 ruined it..', \"The series ended with Spacey's departure\", \"Netflix's Foray into Original Programming is off to a Promising Start\", 'Excellent!', 'No Spacey no show', 'As good as the original', 'Season 6 Review', 'S1-S5 10/10, S6 1/10', 'Breathtakingly good show', 'season 6 is really bad damage control season', 'Worse and worse every season..', 'The worst season one could only imagine', 'Why Do So Many People Like this Show?', 'Last season ruins the entire show.', 'Series Three Sucks', 'Delicious plot, cast, and design', 'Pathetic!', 'Stood firm for four seasons, collapsed completely in Season 5', '3rd season is a big failure', 'Best political drama since the West Wing', 'It is gone to a low quality mess', 'Used to be good', 'Great start for the earlier seasons only to collapse in the final season', 'review from a captive audience', 'NOT FOR THE THINKER. Plots are obvious, people are too stupid.', 'Season 6 sinks like a rock in water, and with less excitement than watching a rock sink.', 'Too predictable.', 'Season 3 is hideously disappointing', 'Needs to end', 'The show was a 10 while Kevin Spacey was there', 'Watch 5 seasons only', \"Spacey's revenge\"]\n",
    "```\n",
    "\n",
    "Ratings:\n",
    "\n",
    "```python\n",
    "['1', '1', '1', '6', '7', None, '1', None, '1', '2', '10', '7', '5', '1', '1', '10', '1', '5', '1', '10', '8', '9', '1', '10', '1', '1', '9', '2', '6', '3', '1', '7', '2', '8', '1', '7', '3', '10', '2', '1', '7', '1', '2', None, '1', '2', '4', '1', '1', '1']\n",
    "```\n",
    "\n",
    "\n",
    "\n",
    " \n",
    "\n",
    "<font color=\"red\">*Hint: use `None` to represent a missing rating.*</font>"
   ]
  },
  {
   "cell_type": "code",
   "execution_count": null,
   "metadata": {},
   "outputs": [],
   "source": [
    "# Load necessary packages and write your code below\n",
    "\n",
    "\n",
    "\n"
   ]
  }
 ],
 "metadata": {
  "colab": {
   "collapsed_sections": [],
   "name": "solution assignment 1 Fall2019.ipynb",
   "provenance": []
  },
  "kernelspec": {
   "display_name": "Python 3",
   "language": "python",
   "name": "python3"
  },
  "language_info": {
   "codemirror_mode": {
    "name": "ipython",
    "version": 3
   },
   "file_extension": ".py",
   "mimetype": "text/x-python",
   "name": "python",
   "nbconvert_exporter": "python",
   "pygments_lexer": "ipython3",
   "version": "3.8.5"
  }
 },
 "nbformat": 4,
 "nbformat_minor": 1
}
