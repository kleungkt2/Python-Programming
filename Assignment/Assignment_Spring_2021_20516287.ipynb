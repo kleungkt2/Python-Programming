{
  "nbformat": 4,
  "nbformat_minor": 0,
  "metadata": {
    "colab": {
      "name": "Assignment Spring 2021_20516287.ipynb",
      "provenance": [],
      "collapsed_sections": [],
      "toc_visible": true
    },
    "kernelspec": {
      "display_name": "Python 3",
      "language": "python",
      "name": "python3"
    },
    "language_info": {
      "codemirror_mode": {
        "name": "ipython",
        "version": 3
      },
      "file_extension": ".py",
      "mimetype": "text/x-python",
      "name": "python",
      "nbconvert_exporter": "python",
      "pygments_lexer": "ipython3",
      "version": "3.8.5"
    }
  },
  "cells": [
    {
      "cell_type": "markdown",
      "metadata": {
        "id": "Vq4oHro1mb7r"
      },
      "source": [
        "# Assignment (100 pts)\n",
        "\n",
        "## Due Date & Time: 22-Apr-2021 (09:00 HKT)\n",
        "\n",
        "## STUDENT ITSC: ktleungai\n",
        "\n",
        "## STUDENT ID: 20516287\n",
        "\n",
        "\n",
        "\n",
        "- [X] *Honor Pledge: I certify that this assignment is my own work, based on my personal study and/or research, and that I have not copied in part or whole or otherwise plagiarised the work of other students and/or persons.*"
      ]
    },
    {
      "cell_type": "markdown",
      "metadata": {
        "id": "TTu7cpfeIKTX"
      },
      "source": [
        "## Question 1. (15 pts)\n",
        "\n",
        "Student A wants to select gifts for student B. Student A uses two dictionaries to record two types of ratings for options s/he considers: a dictionary that records the rating of how good a gift would be for student B (on a scale of 1-5), and a dictionary that records the rating of how much student B wants the gift (on a scale of 1-5). The rating of a gift that is not in either of the dictionaries is considered to be 0.\n",
        "\n",
        "Student A wants to select the gifts with the maximal possible combined rating, where the combined rating is the sum of the rating of how good the gift would be for the student and the rating of how much the student wants the gift.\n",
        "\n",
        "For example, the dictionaries can be:\n",
        "\n",
        "```python\n",
        "\n",
        "good_ratings = {\"Python textbook\": 5, \"iPhone\": 1, \"iPad\": 4, \"AirPods\": 4}\n",
        "want_ratings = {\"iPhone\": 5, \"A+ in ISOM3400\": 5, \"Python textbook\": 3, \"AirPods\": 4, \"Xbox\": 5}\n",
        "```\n",
        "\n",
        "Here, the gifts student A wants to select are \"Python textbook\" and \"AirPods\", since the combined rating for them is 5+3=4+4=8, larger than any other one. The combined rating of \"Xbox\" is 5+0=5.\n",
        "\n",
        "\n",
        "Write a function with the signature `select_gifts(good_ratings, want_ratings)` that returns a list\n",
        "of all the gifts which have the highest combined rating of all the gifts, sorted in alphabetical order.\n",
        "\n",
        "\n",
        "For example, for `good_ratings` and `want_ratings` as defined above,\n",
        "`select_gifts(good_ratings, want_ratings)` should return `['AirPods', 'Python textbook']`."
      ]
    },
    {
      "cell_type": "code",
      "metadata": {
        "id": "3LRVHKMHIKTZ"
      },
      "source": [
        "# write your code below\n",
        "def select_gifts(good_ratings, want_ratings):\n",
        "  item_dict = {}\n",
        "  highest_rating = 0\n",
        "  for item in good_ratings.keys():\n",
        "    if item in want_ratings.keys():\n",
        "      item_dict[item] = good_ratings[item] + want_ratings[item] #for common item, add up their ratings\n",
        "      highest_rating = max(highest_rating, item_dict[item]) #at the same time, maintain a variable to record the highest rating score\n",
        "    else:\n",
        "      item_dict[item] = good_ratings[item] #for item only in good_ratings, then the score will only be good_rating[item] \n",
        "      highest_rating = max(highest_rating, item_dict[item])\n",
        "  #after a scan in good_ratings, we scan want_ratings to check if there is any item only in want_ratings but not good_ratings\n",
        "  for item in want_ratings.keys():\n",
        "    if item not in item_dict.keys():\n",
        "      item_dict[item] = want_ratings[item]\n",
        "      highest_rating = max(highest_rating, item_dict[item])\n",
        "  return sorted([k for k,v in item_dict.items() if v == highest_rating]) #find the item with highest ratings and sort by alphabetical order\n",
        "\n",
        "\n"
      ],
      "execution_count": 1,
      "outputs": []
    },
    {
      "cell_type": "code",
      "metadata": {
        "colab": {
          "base_uri": "https://localhost:8080/"
        },
        "id": "M_eGyk38eQJW",
        "outputId": "10989d6c-b789-4f69-f3e3-4e2fd996fd47"
      },
      "source": [
        "good_ratings = {\"Python textbook\": 5, \"iPhone\": 1, \"iPad\": 4, \"AirPods\": 4}\n",
        "want_ratings = {\"iPhone\": 5, \"A+ in ISOM3400\": 5, \"Python textbook\": 3, \"AirPods\": 4, \"Xbox\": 5}\n",
        "select_gifts(good_ratings, want_ratings)"
      ],
      "execution_count": 2,
      "outputs": [
        {
          "output_type": "execute_result",
          "data": {
            "text/plain": [
              "['AirPods', 'Python textbook']"
            ]
          },
          "metadata": {
            "tags": []
          },
          "execution_count": 2
        }
      ]
    },
    {
      "cell_type": "markdown",
      "metadata": {
        "id": "v_qVT604owXX"
      },
      "source": [
        "---\n",
        "\n",
        "\n",
        "## Question 2. Data Assignment (10 pts)\n",
        "\n",
        "This problem presents a common data analysis task that assigns data into differet groups based on the grouping defined by a list of integers. \n",
        "\n",
        "Suppose we have a list of students:\n",
        "\n",
        "```python\n",
        "students = ['Tommy', 'Kitty', 'Jessie', 'Chester', 'Curie', 'Darwing', 'Nancy', 'Sue', \n",
        "            'Peter', 'Andrew', 'Karren', 'Charles', 'Nikhil', 'Justin', 'Astha', 'Victor', \n",
        "            'Samuel', 'Olivia', 'Tony']\n",
        "```\n",
        "\n",
        "We are going to assign them into 4 groups. The group identity of each student is specified by the integer at the same index position in a list named `assignment`:\n",
        "\n",
        "```python\n",
        "assignment = [2, 3, 3, 4, 1, 3, 2, 4, 3, 1, 1, 1, 2, 1, 3, 2, 4, 2, 4]\n",
        "```\n",
        "\n",
        "This list represents a grouping rule that assigns `'Tommy'` to group 2, `'Kitty'` to group 3, `'Jessie'` to group 3, and so on.\n",
        "\n",
        "Write a comprehension to produce a dictionary whose values are each a list that contains all students assigned to the corresponding group.\n",
        "\n",
        "The expected output is \n",
        "\n",
        "```python \n",
        "{'Group 1': ['Curie', 'Andrew', 'Karren', 'Charles', 'Justin'],\n",
        " 'Group 2': ['Tommy', 'Nancy', 'Nikhil', 'Victor', 'Olivia'],\n",
        " 'Group 3': ['Kitty', 'Jessie', 'Darwing', 'Peter', 'Astha'],\n",
        " 'Group 4': ['Chester', 'Sue', 'Samuel', 'Tony']}\n",
        "```\n",
        "<font color='red'>*Hint:*</font>\n",
        "- <font color='red'>*`zip()` can help us pair up elements at the same index positions from the two lists.*</font>\n",
        "\n",
        "- <font color='red'>*Each value is an output of a list comprehension with filtering (so the `if` part is needed). The filtering only keeps the students assigned to the current group (e.g., `Group 1`).*</font>\n",
        "\n",
        "- <font color='red'>*The keys, i.e., `'Group 1'`, `'Group 2'`, and `'Group 3'`, can be composed by string formatting with the group identity incrementally increasing across iterations.*</font>\n",
        "\n",
        "- <font color='red'>*Use `range()` to create the desired sequence of group identifiers.*</font>\n",
        "\n",
        "\n"
      ]
    },
    {
      "cell_type": "code",
      "metadata": {
        "colab": {
          "base_uri": "https://localhost:8080/"
        },
        "id": "90buMSUxIKTb",
        "outputId": "2b4e25f9-2577-4778-a7dd-8b68979b0c5b"
      },
      "source": [
        "students = ['Tommy', 'Kitty', 'Jessie', 'Chester', 'Curie', 'Darwing', 'Nancy', 'Sue', \n",
        "            'Peter', 'Andrew', 'Karren', 'Charles', 'Nikhil', 'Justin', 'Astha', 'Victor', \n",
        "            'Samuel', 'Olivia', 'Tony']\n",
        "\n",
        "assignment = [2, 3, 3, 4, 1, 3, 2, 4, 3, 1, 1, 1, 2, 1, 3, 2, 4, 2, 4]\n",
        "\n",
        "# write your code (a single comprehension) below\n",
        "{'Group ' + str(gp) : [stu for stu, val in list(zip(students, assignment)) if val == gp] for gp in range(1, max(assignment) + 1)}\n",
        "\n"
      ],
      "execution_count": 3,
      "outputs": [
        {
          "output_type": "execute_result",
          "data": {
            "text/plain": [
              "{'Group 1': ['Curie', 'Andrew', 'Karren', 'Charles', 'Justin'],\n",
              " 'Group 2': ['Tommy', 'Nancy', 'Nikhil', 'Victor', 'Olivia'],\n",
              " 'Group 3': ['Kitty', 'Jessie', 'Darwing', 'Peter', 'Astha'],\n",
              " 'Group 4': ['Chester', 'Sue', 'Samuel', 'Tony']}"
            ]
          },
          "metadata": {
            "tags": []
          },
          "execution_count": 3
        }
      ]
    },
    {
      "cell_type": "markdown",
      "metadata": {
        "id": "e3D5qxoFoQIP"
      },
      "source": [
        "---\n",
        "\n",
        "## Question 3. Sorting Nested Data (15 pts)\n",
        "\n",
        "\n",
        "Suppose we use a Python dictionary to store gradebooks of multiple courses.\n",
        "\n",
        "```python\n",
        "\n",
        "gradebooks = {'Course 1': [['Troy', 92], ['Alice', 95]], \n",
        "              'Course 2': [['James', 89], ['Charles', 100], ['Bryn', 59]],\n",
        "              'Course 3': [['Jack', 74], ['Karren', 97], ['Astha', 92], ['Nancy', 96]]}\n",
        "```              \n",
        "Use the builtin `sorted` function with appropriate programming constructs (e.g., `lambda`s, comprehensions, etc.) to complete the following tasks:\n",
        "\n",
        "- Write a single expression to create a new list named `gradebooks_a`, with students of each course being sorted by score in descending order. The expected result is:\n",
        "```python\n",
        "[[['Alice', 95], ['Troy', 92]],\n",
        "   [['Charles', 100], ['James', 89], ['Bryn', 59]],\n",
        "   [['Karren', 97], ['Nancy', 96], ['Astha', 92], ['Jack', 74]]]\n",
        "```\n",
        "<font color=\"red\">*Hint: You may refer to Question 1.3 of the 3rd in-class exercise for an idea of sorting nested data.*</font>"
      ]
    },
    {
      "cell_type": "code",
      "metadata": {
        "colab": {
          "base_uri": "https://localhost:8080/"
        },
        "id": "5r-40vXFIKTc",
        "outputId": "650c38d1-3c51-4f64-c952-12953f05ed11"
      },
      "source": [
        "gradebooks = {'Course 1': [['Troy', 92], ['Alice', 95]], \n",
        "              'Course 2': [['James', 89], ['Charles', 100], ['Bryn', 59]],\n",
        "              'Course 3': [['Jack', 74], ['Karren', 97], ['Astha', 92], ['Nancy', 96]]}\n",
        "\n",
        "# write your code (a single expression) below\n",
        "gradebooks_a = [sorted(v, key = lambda item:item[1], reverse = True) for k,v in gradebooks.items()]\n",
        "gradebooks_a\n",
        "\n",
        "\n"
      ],
      "execution_count": 4,
      "outputs": [
        {
          "output_type": "execute_result",
          "data": {
            "text/plain": [
              "[[['Alice', 95], ['Troy', 92]],\n",
              " [['Charles', 100], ['James', 89], ['Bryn', 59]],\n",
              " [['Karren', 97], ['Nancy', 96], ['Astha', 92], ['Jack', 74]]]"
            ]
          },
          "metadata": {
            "tags": []
          },
          "execution_count": 4
        }
      ]
    },
    {
      "cell_type": "markdown",
      "metadata": {
        "id": "wY84YRMrTm1L"
      },
      "source": [
        "- Based on `gradebooks_a`, write a single expression to create a list named `gradebooks_b`, with courses being sorted by number of scores above 90. The expected result is:\n",
        "```python\n",
        "[[['Charles', 100], ['James', 89], ['Bryn', 59]],                # only 1 score above 90\n",
        "   [['Alice', 95], ['Troy', 92]],                                  # 2 scores above 90\n",
        "   [['Karren', 97], ['Nancy', 96], ['Astha', 92], ['Jack', 74]]]   # 3 score above 90\n",
        "``` \n",
        "<font color=\"red\">*Hint: You may refer to Question 1.3 of the 3rd in-class exercise for an idea of sorting nested data.*</font>"
      ]
    },
    {
      "cell_type": "code",
      "metadata": {
        "id": "brFM_EAUToVQ",
        "colab": {
          "base_uri": "https://localhost:8080/"
        },
        "outputId": "fe65189c-2fd3-4edf-e43a-1253f32834df"
      },
      "source": [
        "# write your code (a single expression) below\n",
        "gradebooks_b = sorted(gradebooks_a, key = lambda l: len([score for name, score in l if score > 90]))\n",
        "gradebooks_b\n"
      ],
      "execution_count": 5,
      "outputs": [
        {
          "output_type": "execute_result",
          "data": {
            "text/plain": [
              "[[['Charles', 100], ['James', 89], ['Bryn', 59]],\n",
              " [['Alice', 95], ['Troy', 92]],\n",
              " [['Karren', 97], ['Nancy', 96], ['Astha', 92], ['Jack', 74]]]"
            ]
          },
          "metadata": {
            "tags": []
          },
          "execution_count": 5
        }
      ]
    },
    {
      "cell_type": "markdown",
      "metadata": {
        "id": "EuVWs-NWJw41"
      },
      "source": [
        "\n",
        "---\n",
        "\n",
        "## Question 4. Word Prediction (30 pts)\n",
        "\n",
        "Tablets and smartphones rely on a virtual keyboard. But typing on a virtual keyboard is much slower than a physical keyboard and error prone. The solution is to suggest options for the next word as you type text and allow for the insertion of the next word into the text stream by tapping a suggested word. \n",
        "\n",
        "A simple implementation of the word suggestion feature relies on creating a data structure that stores information about what words are likely to follow a given word. This data structure is typically created by processing a collection of text documents (a.k.a. a corpus).\n",
        "\n",
        "Suppose the corpus we are using is a tiny one consisting of the following string:\n",
        "\n",
        "```python\n",
        "wordstring = 'it was the best of times it was the worst of times it was the age of wisdom it was the age of foolishness'\n",
        "```\n",
        "\n",
        "- Implement a function `get_pair_freq` that computes the frequencies of pairs of consecutive words in a given string (e.g., `wordstring` is taken as the argument). The output of calling `get_pair_freq(wordstring)` should be a dictionary where keys are pairs of words and values are the number of occurrences of each pair. The expected output is:\n",
        "```python\n",
        "{('it', 'was'): 4, ('was', 'the'): 4, ('the', 'best'): 1, ('best', 'of'): 1, ('of', 'times'): 2, ('times', 'it'): 2, ('the', 'worst'): 1, ('worst', 'of'): 1, ('the', 'age'): 2, ('age', 'of'): 2, ('of', 'wisdom'): 1, ('wisdom', 'it'): 1, ('of', 'foolishness'): 1}\n",
        "```\n",
        "<font color='red'>*Hint: Recall the use of the `split` method of a string object and the way of dictionary updates.*</font>\n"
      ]
    },
    {
      "cell_type": "code",
      "metadata": {
        "colab": {
          "base_uri": "https://localhost:8080/"
        },
        "id": "YnPOkTURmzOw",
        "outputId": "0993901d-4c5a-4ec3-a889-b49d648b0f07"
      },
      "source": [
        "wordstring = 'it was the best of times it was the worst of times \\\n",
        "it was the age of wisdom it was the age of foolishness'\n",
        "\n",
        "# write your code below\n",
        "\n",
        "def get_pair_freq(wordstring):\n",
        "  result_dict = {}\n",
        "  word_list = wordstring.split(' ')\n",
        "  for i in range(len(word_list) - 1):\n",
        "    if (word_list[i], word_list[i+1]) not in result_dict:\n",
        "      result_dict[(word_list[i], word_list[i+1])] = 1\n",
        "    else:\n",
        "      result_dict[(word_list[i], word_list[i+1])] += 1\n",
        "  return result_dict\n",
        "print(get_pair_freq(wordstring))\n",
        "\n",
        "\n",
        "\n",
        "\n"
      ],
      "execution_count": 6,
      "outputs": [
        {
          "output_type": "stream",
          "text": [
            "{('it', 'was'): 4, ('was', 'the'): 4, ('the', 'best'): 1, ('best', 'of'): 1, ('of', 'times'): 2, ('times', 'it'): 2, ('the', 'worst'): 1, ('worst', 'of'): 1, ('the', 'age'): 2, ('age', 'of'): 2, ('of', 'wisdom'): 1, ('wisdom', 'it'): 1, ('of', 'foolishness'): 1}\n"
          ],
          "name": "stdout"
        }
      ]
    },
    {
      "cell_type": "markdown",
      "metadata": {
        "id": "Ua91RTEjUF2m"
      },
      "source": [
        "\n",
        "- Process the dictionary above to output a new dictionary that stores information about what words are likely to follow each preceding word. The expected output is \n",
        "```python\n",
        "{'it': [('was', 4)], 'was': [('the', 4)], 'the': [('best', 1), ('worst', 1), ('age', 2)], 'best': [('of', 1)], 'of': [('times', 2), ('wisdom', 1), ('foolishness', 1)], 'times': [('it', 2)], 'worst': [('of', 1)], 'age': [('of', 2)], 'wisdom': [('it', 1)]}\n",
        "```\n",
        "where the values are each a list of tuples representing how often a word follows the given key.\n",
        "<br><font color='red'>*Hint: You can update dictionary entries in much the same way as you did for the question above. But now the values are lists themselves, requiring the use of some list method to update them.*</font>\n"
      ]
    },
    {
      "cell_type": "code",
      "metadata": {
        "id": "J_hR8rCLIKTf",
        "colab": {
          "base_uri": "https://localhost:8080/"
        },
        "outputId": "9a1d2bfb-5f32-4461-f68c-008c5c8cd06a"
      },
      "source": [
        "# write your code below\n",
        "result_dict_b={}\n",
        "for (key0, key1), value in get_pair_freq(wordstring).items():\n",
        "  if key0 not in result_dict_b:\n",
        "    result_dict_b[key0] = [(key1, value)]\n",
        "  else:\n",
        "    result_dict_b[key0].append((key1, value))\n",
        "print(result_dict_b)\n",
        "\n"
      ],
      "execution_count": 7,
      "outputs": [
        {
          "output_type": "stream",
          "text": [
            "{'it': [('was', 4)], 'was': [('the', 4)], 'the': [('best', 1), ('worst', 1), ('age', 2)], 'best': [('of', 1)], 'of': [('times', 2), ('wisdom', 1), ('foolishness', 1)], 'times': [('it', 2)], 'worst': [('of', 1)], 'age': [('of', 2)], 'wisdom': [('it', 1)]}\n"
          ],
          "name": "stdout"
        }
      ]
    },
    {
      "cell_type": "markdown",
      "metadata": {
        "id": "OsfRmKw4UJUG"
      },
      "source": [
        "- Sort the successive word(s) in each value by frequency (the 2nd element of innermost tuples) in a dictionary comprehension so that for a given word input from the virtual keyboard, we can quickly generate a list of suggested words in descending order by frequency using dictionary indexing. The expected output is \n",
        "```python\n",
        "{'it': ['was'], 'was': ['the'], 'the': ['age', 'best', 'worst'], 'best': ['of'], 'of': ['times', 'wisdom', 'foolishness'], 'times': ['it'], 'worst': ['of'], 'age': ['of'], 'wisdom': ['it']}\n",
        "```\n",
        "<font color=\"red\">*Hint:\n",
        "Each value is an output of a list comprehension, which processes a sorted list of (word, frequency) tuples.*</font>"
      ]
    },
    {
      "cell_type": "code",
      "metadata": {
        "id": "ka2HsHrsULmV",
        "colab": {
          "base_uri": "https://localhost:8080/"
        },
        "outputId": "f3e6765f-5db6-4484-fca7-719f94c91263"
      },
      "source": [
        "# write your code (a single comprehension) below\n",
        "print({k: [word for word,freq in sorted(v, key= lambda item:item[1], reverse = True)] for k,v in result_dict_b.items()})\n"
      ],
      "execution_count": 8,
      "outputs": [
        {
          "output_type": "stream",
          "text": [
            "{'it': ['was'], 'was': ['the'], 'the': ['age', 'best', 'worst'], 'best': ['of'], 'of': ['times', 'wisdom', 'foolishness'], 'times': ['it'], 'worst': ['of'], 'age': ['of'], 'wisdom': ['it']}\n"
          ],
          "name": "stdout"
        }
      ]
    },
    {
      "cell_type": "markdown",
      "metadata": {
        "id": "iZzhmvMiIKTg"
      },
      "source": [
        "\n",
        "---\n",
        "\n",
        "##  Question **5**.  Scraping IMDB Reviews (30 pts)\n",
        "\n",
        "Write code to drive a browser to visit the imdb [review page](https://www.imdb.com/title/tt1856010/reviews) for *House of Cards* and tick the checkbox to hide spoilers. The content then rendered on this page would look like the following:\n",
        "\n",
        "\n",
        "<img src=\"movie_reviews.png\"  width=\"500\"  /> \n",
        "\n",
        "<br>\n",
        "\n",
        "Initially, only 25 reviews are presented on the page. But if you scroll down to the bottom of the page, you will find a load-more button. Clicking it every time will load 25 additional reviews on the fly into the result.\n",
        "\n",
        "\n",
        "\n"
      ]
    },
    {
      "cell_type": "markdown",
      "metadata": {
        "id": "_vIIDfhyIKTg"
      },
      "source": [
        "Write code to simulate the clicking on the load-more button and scrape the data about **at least 50 reviews**.\n",
        "\n",
        "The pieces of information you need to extract for each review include **the title, the review text, the ID of the user who gave it, the review date, and the numerical rating (a number out of 10; some reviews have this piece of information missing)**.\n",
        "\n",
        "You can use different Python lists to maintain different pieces of information about individual reviews.\n",
        "\n",
        "If you print the lists that maintian the information on review titles and ratings, the outputs should look like the following (suppose you scraped data for 50 reviews):\n",
        "\n",
        "\n",
        "Titles:\n",
        "\n",
        "```python\n",
        "['Season 6 Disaster', 'SEASON 6 :JUST TERRIBLE: THE LEGACY KILLER', 'NO KEVIN, NO SHOW!!', 'Simply not worth it anymore after Kevin Spacey left...', \"There's no reason to watch without Kevin Spacey.\", 'Season 6 is a terrible watch', 'What IDIOTS! Legacy destroyed!', '5 Seasons Of Highly Addictive Political Drama And Darkly Funny Satire', 'Nothing without Spacey', 'Netflix, masters at watering down content!', 'Pioneering Perfection', 'Disappointing Drivel', 'Season 6', 'Season 6 is boring as hell', 'WTF WAS THAT!? Terrible Season 6', 'An American Twist on a British Classic', 'HOC is nothing without Kevin', 'If not for season 6, it would have been a 9', 'Season 6 ruined it..', \"The series ended with Spacey's departure\", \"Netflix's Foray into Original Programming is off to a Promising Start\", 'Excellent!', 'No Spacey no show', 'As good as the original', 'Season 6 Review', 'S1-S5 10/10, S6 1/10', 'Breathtakingly good show', 'season 6 is really bad damage control season', 'Worse and worse every season..', 'The worst season one could only imagine', 'Why Do So Many People Like this Show?', 'Last season ruins the entire show.', 'Series Three Sucks', 'Delicious plot, cast, and design', 'Pathetic!', 'Stood firm for four seasons, collapsed completely in Season 5', '3rd season is a big failure', 'Best political drama since the West Wing', 'It is gone to a low quality mess', 'Used to be good', 'Great start for the earlier seasons only to collapse in the final season', 'review from a captive audience', 'NOT FOR THE THINKER. Plots are obvious, people are too stupid.', 'Season 6 sinks like a rock in water, and with less excitement than watching a rock sink.', 'Too predictable.', 'Season 3 is hideously disappointing', 'Needs to end', 'The show was a 10 while Kevin Spacey was there', 'Watch 5 seasons only', \"Spacey's revenge\"]\n",
        "```\n",
        "\n",
        "Ratings:\n",
        "\n",
        "```python\n",
        "['1', '1', '1', '6', '7', None, '1', None, '1', '2', '10', '7', '5', '1', '1', '10', '1', '5', '1', '10', '8', '9', '1', '10', '1', '1', '9', '2', '6', '3', '1', '7', '2', '8', '1', '7', '3', '10', '2', '1', '7', '1', '2', None, '1', '2', '4', '1', '1', '1']\n",
        "```\n",
        "\n",
        "\n",
        "\n",
        " \n",
        "\n",
        "<font color=\"red\">*Hint: use `None` to represent a missing rating.*</font>"
      ]
    },
    {
      "cell_type": "code",
      "metadata": {
        "id": "oeixCnPwIKTi",
        "colab": {
          "base_uri": "https://localhost:8080/"
        },
        "outputId": "ae031b9a-a32c-43ff-aae8-271bc3e51fcf"
      },
      "source": [
        "# Load necessary packages and write your code below\n",
        "#My environment = google colab\n",
        "#The following codes are required to install selenium and chrome driver in google colab \n",
        "!pip install selenium\n",
        "!apt install chromium-chromedriver\n",
        "!cp /usr/lib/chromium-browser/chromedriver /usr/bin\n",
        "import sys\n",
        "sys.path.insert(0,'/usr/lib/chromium-browser/chromedriver')\n",
        "from selenium import webdriver\n",
        "from bs4 import BeautifulSoup\n",
        "from selenium.webdriver import Chrome\n",
        "from selenium.webdriver.common.keys import Keys\n",
        "#these options need to be added in order to run in colab\n",
        "chrome_options = webdriver.ChromeOptions()\n",
        "chrome_options.add_argument('--headless')\n",
        "chrome_options.add_argument('--no-sandbox')\n",
        "chrome_options.add_argument('--disable-dev-shm-usage')\n",
        "\n",
        "\n",
        "\n"
      ],
      "execution_count": 9,
      "outputs": [
        {
          "output_type": "stream",
          "text": [
            "Requirement already satisfied: selenium in /usr/local/lib/python3.7/dist-packages (3.141.0)\n",
            "Requirement already satisfied: urllib3 in /usr/local/lib/python3.7/dist-packages (from selenium) (1.24.3)\n",
            "Reading package lists... Done\n",
            "Building dependency tree       \n",
            "Reading state information... Done\n",
            "chromium-chromedriver is already the newest version (90.0.4430.72-0ubuntu0.18.04.1).\n",
            "0 upgraded, 0 newly installed, 0 to remove and 79 not upgraded.\n",
            "cp: '/usr/lib/chromium-browser/chromedriver' and '/usr/bin/chromedriver' are the same file\n"
          ],
          "name": "stdout"
        }
      ]
    },
    {
      "cell_type": "code",
      "metadata": {
        "colab": {
          "base_uri": "https://localhost:8080/"
        },
        "id": "IKrg6ghDRJS2",
        "outputId": "a33035cb-26ef-4c1f-f413-f8719553f5c4"
      },
      "source": [
        "wd = webdriver.Chrome('chromedriver',options=chrome_options)\n",
        "wd.get(\"https://www.imdb.com/title/tt1856010/reviews\")\n",
        "review_results = BeautifulSoup(wd.page_source, 'html.parser')\n",
        "result_table = review_results.find_all('div', {'class' : 'imdb-user-review'})\n",
        "checkbox = wd.find_element_by_css_selector(\"span.lister-checkbox\")\n",
        "checkbox.click()\n",
        "##checkbox for hide spoiler is clicked\n",
        "while True:\n",
        "  review_results = BeautifulSoup(wd.page_source, 'html.parser')\n",
        "  if review_results.find(\"span\",{'class':\"spoiler-warning\"}) is None:  # wait until the page is loaded\n",
        "    break\n",
        "button = wd.find_element_by_css_selector(\"button.ipl-load-more__button\")\n",
        "button.click() #click loadMore button\n",
        "\n",
        "while len(result_table) < 50: #wait until at least 50 items are loaded\n",
        "  review_results = BeautifulSoup(wd.page_source, 'html.parser')\n",
        "  result_table = review_results.find_all('div', {'class' : 'imdb-user-review'}) \n",
        "\n",
        "titles = []\n",
        "ratings = []\n",
        "user_ids = []\n",
        "dates = []\n",
        "review_texts = []\n",
        "for review in result_table:\n",
        "  titles.append(review.find('a', {'class': 'title'}).get_text(strip = True))\n",
        "  ratings_element = review.find('span', {'class':'rating-other-user-rating'})\n",
        "  if ratings_element is not None:\n",
        "    ratings.append(ratings_element.find('span').text)\n",
        "  else:\n",
        "    ratings.append(None)\n",
        "  user_ids.append(review.find('span', {'class':\"display-name-link\"}).text)\n",
        "  dates.append(review.find('span', {'class': 'review-date'}).text)\n",
        "  review_texts.append(review.find('div', {'class' : 'text'}).get_text(strip = True))\n",
        "\n",
        "print(titles)\n",
        "print(ratings)\n",
        "print(user_ids)\n",
        "print(dates)\n",
        "print(review_texts)"
      ],
      "execution_count": 10,
      "outputs": [
        {
          "output_type": "stream",
          "text": [
            "['Season 6 Disaster', 'SEASON 6 :JUST TERRIBLE: THE LEGACY KILLER', 'NO KEVIN, NO SHOW!!', \"There's no reason to watch without Kevin Spacey.\", 'Season 6 is a terrible watch', 'What IDIOTS! Legacy destroyed!', '5 Seasons Of Highly Addictive Political Drama And Darkly Funny Satire', 'Simply not worth it anymore after Kevin Spacey left...', 'Nothing without Spacey', 'Netflix, masters at watering down content!', 'Pioneering Perfection', 'Disappointing Drivel', 'Season 6', 'Season 6 is boring as hell', 'WTF WAS THAT!? Terrible Season 6', 'An American Twist on a British Classic', 'HOC is nothing without Kevin', 'If not for season 6, it would have been a 9', 'Season 6 ruined it..', \"The series ended with Spacey's departure\", 'No Spacey no show', \"Netflix's Foray into Original Programming is off to a Promising Start\", 'Excellent!', 'As good as the original', 'Season 6 Review', 'S1-S5 10/10, S6 1/10', 'season 6 is really bad damage control season', 'Breathtakingly good show', 'The worst season one could only imagine', 'Worse and worse every season..', 'Why Do So Many People Like this Show?', 'Last season ruins the entire show.', 'Series Three Sucks', 'Delicious plot, cast, and design', 'Pathetic!', 'Stood firm for four seasons, collapsed completely in Season 5', '3rd season is a big failure', 'Best political drama since the West Wing', 'It is gone to a low quality mess', 'Used to be good', 'Great start for the earlier seasons only to collapse in the final season', 'review from a captive audience', 'NOT FOR THE THINKER. Plots are obvious, people are too stupid.', 'Season 6 sinks like a rock in water, and with less excitement than watching a rock sink.', 'Too predictable.', 'Season 3 is hideously disappointing', 'Needs to end', 'The show was a 10 while Kevin Spacey was there', 'Watch 5 seasons only', \"Spacey's revenge\"]\n",
            "['1', '1', '1', '7', None, '1', None, '6', '1', '2', '10', '7', '5', '1', '1', '10', '1', '5', '1', '10', '1', '8', '9', '10', '1', '1', '2', '9', '3', '6', '1', '7', '2', '8', '1', '7', '3', '10', '2', '1', '7', '1', '2', None, '1', '2', '4', '1', '1', '1']\n",
            "['sshesley', 'anandtheertha', 'unrivaledraj', 'hdraytemur', 'bosco-caldeira', 'Bigkingp007', 'gogoschka-1', 'armastusmaitse', 'larrytate-927-656516', 'dumpaccount-66849', 'me-589-145643', 'HHTurkish', 'hortonk-86311', 'chuz-chuz', 'contactgrod', 'geekster-6', 'drkhadijakhan', 'allanwallace-171-669345', 'evanbirchfield', 'zero_error', 'noskins-23349', 'Caterpillar_City', 'ryanbutler-262-213149', 'howard-88', 'itsallshankster', 'real-rebel', 'herderps', 'mflynn-4', 'jgd8', 'bigyellow-1', 'jjcomet', 'juanjoalcazar', 'mikehdtv', 'markers-2', 'Theo-ZA', 'TheLittleSongbird', 'philippdolbin', 'njwaldera19', 'christiank7', 'robin-954-785327', 'gavin-thelordofthefu-48-460297', 'kinseydude', 'peterk727', 'williams-62296', 'SimonHeide', 'UncleTantra', 'tylersierrakayla', 'eharmony-01041', 'nekoval', 'ronaurora']\n",
            "['29 November 2018', '12 December 2018', '24 October 2018', '2 November 2018', '3 November 2018', '16 November 2018', '6 December 2015', '9 July 2020', '4 November 2018', '4 June 2017', '2 February 2013', '5 November 2018', '5 November 2018', '16 November 2018', '17 November 2018', '1 February 2013', '4 November 2018', '6 November 2018', '4 November 2018', '6 July 2018', '10 January 2019', '1 February 2013', '1 February 2013', '2 February 2013', '4 November 2018', '4 November 2018', '2 November 2018', '2 February 2013', '1 March 2015', '2 July 2017', '16 October 2015', '28 January 2020', '7 March 2015', '3 February 2013', '26 September 2018', '15 November 2017', '5 March 2015', '2 February 2013', '3 November 2018', '11 January 2019', '31 August 2020', '4 October 2014', '5 March 2015', '5 November 2018', '12 March 2014', '1 March 2015', '7 July 2017', '8 October 2018', '27 September 2018', '16 November 2018']\n",
            "['I cannot recall ever watching a series ending in such a horrible manner. The plot was confusing and the entire storyline was ridiculous. How they drew this nonsense on for eight shows was amazing. The annoying background music throughout the entire series may the watching of this disaster even worse. My advice, watch Seasons 1-5 and then walk away.', 'Hoc season 1-5 is one of the best series .cleverly crafted and a strong screenplay, s6 just looses the lustre and is just putting an end together to make some money and get decent ratings. Just pass over sixth season , make sure to watch the season 1-5 for a dramatic supershow .', \"This show deserves a 10 and that's because what Kevin Spacey brings, such a portrayal of character , no one and that is no one, could have done justice to Frank Underwood, and he is the reason this show is so amazing, otherwise it would have been an average show with a rating of 7. Kevin is what this show is today. Brilliant acting, some bullseye dialogue delivery and that hunger for power that he shows is just unbelievable that someone can be such brilliant actor.\\nAnd I'm rating it 1 just to show my disappointment upon Kevin's removal, and the show went to dogs. I hated it so much that I wouldn't even watch the final season.\", \"Claire's character is being portrayed as an important figure from the beginning of the show. But the writers couldn't do it. Claire is the most empty and predictable character in the show. After the fourth season, Kevin Spacey was the only reason I watched it. Now, there's no Kevin Spacey so there's no point in watching it.\", \"I enjoyed every bit of HOC 1-5.. Both the lead actors and the supporting cast were excellent.. Season 6 is Dull as Ditchwater.. A painful watch.. If they did this so that the hundreds of workers on the show wouldn't lose their jobs that's sad.. The show which IMHO was the shining star of the Netflix stable has crashed and burned.. Robin Wright is a great actress but without Kevin Spacey, her acting is insipid and boring to say the least.. For HOC fans, stay with the happy memories of Seasons 1-5.this leaves a bitter aftertaste\", \"How do you go from 10 to zero in sixty seconds? Kevin Spacey WAS the show. You should have just cancelled if you wouldn't bring him back! So I guess he really wasn't acting after all?\", \"I love spectacular TV-shows with amazing production values like Game of Thrones or The Walking Dead, but I have to say: although House of Cards has little interest in jaw-dropping images or gruesome make-up effects, it delivers just as many dark thrills to keep you glued to your seat as the action-heavy flagships of HBO and AMC. It's a testament to the writers', directors' and actors' talents that a show which mostly consists of people talking is as much a prime candidate for binge- watching as the shows I've mentioned before, so for those of you who haven't started watching it yet, be warned: House of Cards is highly addictive.The show is based on the acclaimed BBC mini-series of the same name from 1990, but while the original show focused on the inner workings of British politics, the remake is entirely US based and concentrates on the rise of power-hungry congressman Francis Underwood who is played by Kevin Spacey. On the surface, the show might appear to be a political drama - which it certainly is - but it's also so much more than that. House of Cards combines a vast number of genres; it's a thriller, a love story, a black comedy and a satire - and a very interesting lesson in US politics, which, given creator Beau Willimon's profound knowledge on the subject (he used to work as a campaign aid for Hillary Clinton, Bill Bradley and Howard Dean), is probably a lot more accurate than what we would like to believe.It's also worth mentioning that House of Cards was heavily inspired by certain works of William Shakespeare. The character of Francis Underwood is a combination of Richard III and Macbeth, and in true Shakespeare manner, he often addresses the audience directly to inform us of his evil schemes. As in the bard's two famous plays, the villain is also the protagonist and - to a certain degree - the person you root for. And what makes him so much fun and so compelling to watch here, is - regardless what you think of him as a person - Kevin Spacey's performance. Spacey's portrayal of a charming but deadly predator is simply perfect; despite the character's obvious willingness to go to extreme lengths to get what he wants, Spacey always keeps him believable and avoids the temptation of making him appear like a caricature or as over-the-top as Richard III in the play. But many of his co-stars are just as impressive; some of them actually downright outshine the famous oscar-winner, and especially Robin Wright gives an amazing performance as Underwood's equally ambitious wife and partner in crime (yes, season 6 is a let-down, especially the final episode, but that's not Wright's fault).To sum up my overall impressions: Under the guidance of David Fincher (who serves as an executive producer on the show and also directed the first couple of episodes), Beau Willimon has developed one of the smartest and most entertaining TV-shows - with one of the most impressive casts - contemporary television has to offer. Seasons 1-5 are highly recommended.Favorite films: http://www.IMDb.com/list/mkjOKvqlSBs/Lesser-Known Masterpieces: http://www.imdb.com/list/ls070242495/Favorite TV-Shows reviewed: http://www.imdb.com/list/ls075552387/Favorite Low-Budget and B-Movies: http://www.imdb.com/list/ls054808375/\", 'Simply not worth it anymore after Kevin Spacey left... the series lost all heart and soul...', 'House of Cards Seasons 1-5 was one of the best series ever produced however season 6 was utterly ridiculous, the decent writers either walked out due to the network punitive action towards Spacey or they wrote nonsense in protest.One has to question on what basis does any employer or other employees believe that they have the right to decide guilt and administer punishment of another employee regarding any issue outside of the actual field of employment?Keven Spacey is one of the greatest actors of our age and for his own industry to treat him like a leper is a serious form of abuse in itself, utterly appalling example of political correctness gone way to far. We have institutions in place for investigating allegations, courts to decide guilt and dispense justice these are NOT functions that should be performed by self appointed kangaroo courts in the workplace or social media.As the saying goes, let he who is without sin cast the first stone.Robin Wright is a great actress and the chemistry between her and Kevin Spacey was incredible viewing but sadly the show deteriorated into a farce once that chemistry was lost and the show turned into some kind of perverse feminist activism vehicle. Such a shame.', 'Netflix has managed to ruin two great shows that I used to love, House of Cards and Orange is the New black. It seems as Netflix shows have gotten very popular lately they have gone into \"safe\" mode and started watering down their content.Season 5 of House of cards is the perfect example (as well as Orange is the new Black). I could not believe how utterly bored I was watching this, I felt like I was watching a drama on USA network. The new mantra at Netflix must be \"lets tame our content down a notch to please our sponsors and the masses\".No longer is this show edgy or gritty or even remotely interesting, no longer does it dare push the envelope. Let me sum up season 5 for you. NOTHING HAPPENS! Too bad as this was my favorite show. Time to move on folks.', \"I firmly believe that one of the major aspects of what makes House of Cards so good is the ability to watch all the episodes back-to-back with no commercials or programming schedules to get in the way. This small but hugely significant idea will be an industry game changer and I am certain that this is just the beginningTo me, the biggest advantage that this idea contributes to House of Cards is that it frees up significant time during episodes because it makes things like flashbacks or repeats of events almost completely redundant. There's simply no need for them because everything is so fresh in your mind, which leaves all that extra time for more story, more action, more conspiracy, more drama, more of the stuff that viewers really want to see. However it must be said that it does take a few episodes to get used to this, and you have to be really switched on and completely focused to ensure you don't miss a beat, because you really will pay a price if you do because what's said is never repeated, only referenced further down the trackAs for the show itself, I can't sum it up any better than by saying it's incredibly good to watch. The one aspect of the show I enjoy the most is the monologue, or removal of the fourth wall, between the viewer and Underwood. It's an incredibly effective method of storytelling as well as the expression of emotion or opinion, and Kevin Spacey does a superb job at pulling it off, along with every other aspect of his complex and intriguing character.The quality of writing, directing, and storytelling is as good as you'll ever see on the best shows in the world right now. Underwood has a massive ship to steer, and it is fascinating watching how he does it, through manipulation, blackmail, greed and determination. Each and every character has a critical role to play - there's no characters you could cast aside as being irrelevant or unnecessary to the story. That is a very difficult feat to achieve, and House of Cards easily passes that testIf you're going to pioneer something, like Netflix have with how viewers can watch House of Cards, you have to do it well. Everything has to be perfect, otherwise it will flop. A top quality show in House of Cards coupled with the worlds best internet streaming service is a very very good place to start. Netflix and the House of Cards team deserve a huge round of applause for daring to go places where no one has gone before. The $100 million gamble has definitely paid off, and I cannot wait for moreNeedless to say, House of Cards earns a 10/10 rating, and an absolute must-watch from me\", \"No way around it, Season 6 was awful ...in every respect that the first few seasons excelled this fseason 6 failed.. Preposterous and confusing storylines, awful script, poor directing, the episodes had a soap opera like energy, as the saga provided empty thrills, and culminated in the most bizarre and ridiculous finale I've ever witnessed on television.... The first few seasons were great and deserved the highest of ratings; unfortunately Season 6 was a complete waste of time.\", 'Enjoyed watching the first four seasons. Season 5 was bearable. Season 6, unbearable. Boring.', \"Terrible, I'm speechless. This show without Kevin Spacey is just dull\", \"Forgot a rating -I demand my 8 hours back! I want Netflix to formally apologize for torchering me through this. I would have happily preferred to be water boarded than to watch this complete cluster duck. And I don't mean duck.\", \"When I thought about Francis Urquhart of the original House of Cards series, I could not help but imagine Kevin Spacey in a way that was similar but a role of his own making. Spacey's role of Francis Underwood, in Netflix's original series, is nothing short of a tour de force. The convenience of being able to watch the whole season right away is also something to mention as a new, fresh and exciting method of television excellence. No longer do we have to wait and be fed slowly the episodes as we wonder what might happen and find ourselves somewhat disappointed -- now we can be swept away. And that's exactly what will happen to you when you sit down to watch this. 13/10.\", 'House of cards just collapsed coz of its season 6.i really hate how Netflix try to push through with a female centered White House in there.', \"I was fairly intrigued to see how it would work without Spacey, but rather unsurprisingly, it simply doesn't. For one reason or another most shows do go downhill a bit as they head into the final seasons, this one has nose dived off a cliff, and we all know the reason why. Whether or not the allegations against him prove true, one thing certainly is, Spacey was the life and soul of the show, it was his portrayal of Frank that kept us gripped, without him it simply doesn't work\", \"Seasons 1-5 is 10/10Season 6 made me give it 1/10. I understand the reason why, but the show just should've been canceled. Nice attempt, but horribly boring season. You remove the main character, and this is what you get. Bad.\", \"This is one of the best shows; excellent story, good script, exceptional acting by everyone, and good cinematography. The fifth season was a bit slow, but, what's disappointing is Spacey's departure (removal, rather) from the show. No matter how good the others were, Spacey is what made this show perfect. Without him, there is no way the show can survive. The series has ended for me.\", \"Don't watch it at all. These propagandas have ruined a great great show.. garbage without Spacey..\\nDon't say I didn't warn you.\\nCheers :)\", \"Fans of David Fincher and Kevin Spacey have been eagerly looking forward to House of Cards. Not only is this an opportunity to see an elite Hollywood director and actor take on a new medium, but it represents Netflix's first attempt at original programming (I guess Lilyhammer came first, but House of Cards is a much bigger investment for Netflix). The CEO of Netflix has said that House of Cards is meant to be a show on the quality level of the top cable stations, such as HBO, and the final product delivers on this promise.House of Cards follows several characters involved in the political scene in Washington D.C., including politicians of various rank and influence (Kevin Spacey is a House Majority Whip in the House of Representatives) and an upcoming reporter played brilliantly by Kate Mara, who you may recognize from the first season of American Horror Story. The cast in uniformly excellent and thrives under Fincher's direction. Occasionally, Kevin Spacey's character will talk directly to the camera and offer some narration, which is the only area where the show stumbles, but it isn't too distracting. Speaking of Fincher's direction, it shouldn't come as any surprise to know that House of Cards looks great. The atmosphere is moody and resembles a tone somewhere between The Game and The Social Network. The music is equally good, complementing the mood of the show without becoming overbearing.Being a political drama, one could be understandably weary of taking the plunge into a 13 episode season if they don't find politics interesting, but that shouldn't be a concern. The writing is sharp, engaging and clear, and the characters are interesting and well developed. The editing helps: it is tight and keeps the plot moving briskly, making the political intrigue both exciting and easy to follow.Netflix has really created something impressive with House of Cards. When hearing that an online streaming service was creating an original show, some may have been concerned that it would be cheap looking and generally not on par with what AMC, FX, Showtime, and HBO are offering. Well, Netflix got some talented people and gave them the money to make something good, and the product speaks for itself. House of Cards comes highly recommended.\", \"Just watched the first episode. It is outstanding in every sense of the word. Fist of all I'd like to say, Kevin Spacey is amazing. He's not the dull politician we're used to seeing, he's a deeply written character with nuances to his actions and speaking. You can definitely see Fincher's style in the first episode, at least. It contains some of the similar themes he has tackled before in his film and adds to those. He crafts the story very tightly woven and complex. Kate Mara is also great, she adds to the list of modern Fincher characters. I love the points of satire in Spacey's character and some of the symbolism used. The show is outstanding in every aspect, unlike a lot of other political dramas on TV, can't wait to watch the next episodes.Definitely a must watch for any fan of TV or Fincher or anyone interested in this.\", 'I was so looking forward to this, having been a big fan of the original BBC series, with its masterful central performance by Ian Richardson. In fact when I logged in to Netflix (like a lot of people, this show is my sign-up moment), I realised that my expectation level was really high.Within the first 30 seconds, Kevin Spacey\\'s character Frank Underwood has killed something- in this case dispatching an unfortunate dog which has been hit by a hit and run driver. And as the political intrigue starts to develop around him, Spacey just fills the screen. By the end of the first episode, it isn\\'t so much that you have forgotten Ian Richardson as Urqhuart, Underwood\\'s British cousin, but realised that Spacey is taking us somewhere different.With Francis Urqhuart you got the impression he was always a psychopath, waiting for the trigger to start his Macchiavellian and murderous rise. Underwood seems to be just a more clever, more ruthless and less hypocritical politician than those around him. The fundamentals of the show - the scorned and bitter political back room fixer, the Lady Macbeth figure of Francis\\' wife, the ambitious young woman journalist, but all updated.Mrs Underwood is no Tory wife, waiting \"in the country\" while her husband charts his rise to power. She is the one giving him the backbone to do it. And as we see her brutally wielding the axe at the charity in which she works, it becomes clear she is no slouch in the ruthlessness stakes herself.The character of Zoe Barnes, the young reporter, is in a lot of ways more rounded than Matty Storin in the British version. Here she is ballsy, ambitious and a bit ruthless herself. While she retains the innocence of the character, she gives the impression she thinks she knows what she is doing. Which will make later episodes much more juicy as she realises she is way over her head.The show is shot beautifully, as you\\'d expect from the calibre of the team behind it, and the production values are excellent. Supporting roles are great. It looks like a movie or The West Wing before they ran out of money.But the undisputed joy of this series is Spacey, who is a more world-weary, more cynical Francis, and who is setting about his task of revenge and ambition much like he destroyed the unlucky dog at the start of episode 1: its an unpleasant task but someone has to do it.Spacey is every bit as good as Ian Richardson in this show and Netflix\\'s big gamble deserves to pay off.', \"Season 6 was absolute nonsense with typical Hollywood pandering to the left. Thank god this nitghmare of a season is over and there's no more. Kevin spacey made the 1st 5 seasons amazing.\", \"Without Kevin Spacey, there isn't any reason to watch S6.\", \"It's good up until season 6 where they kill francis offscreen and then make the series about his wife. It's jarring, I don't like her character at all, no charisma, and the writing is worse than designated survivor somehow. The whole season is damage control and I do not approve of netflix ruining a good show to virtue signal.\", \"From the start, Kevin Spacey captivates & impresses with his his portrayal as the Machiavellian chief whip. The dialogue is superb, the editing tight, & the plot moves at just the right pace.I'm 7 episodes in at the moment & so far it hasn't missed a beat. I remember the original house of cards on the BBC in the early 90's, & at first hearing there would be a US remake, had some concerns, how would they ever match up to the quality & acting, would they still do the Jacobean theatre style breaking of the 4th wall speaking directly to the audience? I needn't have worried, Kevin Spacey handles the role with aplomb, although Ian Richardson originally had a hint of a twinkle in his eye when about to pull peoples strings, Kevin Spacey is far more emotionless, cold blooded & menacing. Both work equally for the part.Launching on Netflix was a brave move & I really appreciate being able to binge on episode after episode, of this exciting intelligent new drama.\", \"It's the worst season ever!Such a disappointment and wasted hours of my life.Shame on the producers and scriptwriters for ruining a great project.I was such a devoted fan of the first two seasons. I love the cast so much. And now I feel like I've been cheated.They ruined the characters, the main and the secondary story-lines. They filled the script with lies and speculations about the other countries.It turned out to be the most boring and predictable show ever. I wish I didn't know the season 3 of House of Cards existed.I won't watching a minute of this worthless chewing gum any more!\", 'After a couple of great season, the show is too boring to watch.I hope the writers want to show how evil Underwoods (politics) are, but after watching the show, my feeling is Underwoods have to win.Because their opponents are way too weak： no hardworking, no team work, no loyalty, no strategy, so coward and easily be intimidated, manipulated and believe the known lies, often doing stupid things and misjudgment when the story need they behave like that.I rate 6 only because of some fine soliloquies.', \"I am struggling through the third season of House of Cards and frankly am hanging on solely because I've invested so much time in it up to now, but I am just about to bail. I can suspend disbelief to enjoy a show, but there needs to be at least a scintilla of reality to hold my interest in a show that is not supposed to be a complete fantasy. Every plot twist hangs on the most ridiculously unbelievable premises and the characters are such caricatures they are almost allegorical. Kevin Spacey and Robin Wright mug their way through the show playing cardboard personifications of evil duplicity. None of the main characters are likable and most of the foils to them are dupes who have no idea what the President and First Lady are up to even though any viewer with two brain cells to rub together can see the developments coming from a mile away. Having watched the West Wing and its pretty spot-on portrayal of what back room politics in White House is REALLY like, House of Cards is almost laughable in its ham-handed attempt to paint Washington as a den of intrigue. The large number of overwhelmingly favorable reviews is a sad commentary on how little it takes to entertain the average TV viewer.\", 'It was great until last season. Bad way of ending a great series.', \"What happened to series three? Even though the personnel on the masthead were the same, it looks like they turned the writing over to the interns without any kind of editorial or thematic direction. The principal characters have fallen apart. This Frank Underwood appears to be more virtuous and caring than recent presidents Clinton, Bush, or Jarrett. In fact almost any period from their White House tenures would be more eventful, devious, and exciting than the crap we saw in this series. This was a massive disappointment. I get the sense that the actors were as impressed by the writing as I was because it looked like they were phoning in their performances. I'd be amazed if they go for a serious four after this fiasco.\", 'As I was describing the show to a friend, I couldn\\'t help but use the adjective \"delicious.\" The characters are so strong, manipulative, and persuasive. Viewers come to \"House of Cards\" for political thrills, for back-door deals, and for machinations, and the series feeds your appetite.Spacey\\'s performance is, of course, phenomenal. I was particularly impressed by Wright, I found her character the most intriguing of the series.The series is filmed beautifully, each scene screams production value, and this is perfect.The series has some occasional and blatant product placement that definitely ruined the tone; however, if these infrequent advertisements enabled the creation of the series: advertise away.', 'When a man, an excellent actor, is written out of his part because of unsubstantiated allegations it is absolutely appalling!Had he been found guilty in a real court of law and sent to jail so he is not available to play his part it would be understandable but this situation is unbearable! Since when are people guilty without proof? Whether we agree with his lifestyle or not, Spacey\\'s talent is well noted.This action means I for one will not watch the latest season without Spacey. There will many other feeling the same! This world has become atrocious and the skewed SJWs are even more atrocious, always \"looking\" for a cause but in reality causing more damage to the world and never do anything good!', '\\'House of Cards\\' much of the time was one of the most compelling shows. Sadly, it has also become one of the most frustrating. Not since \\'Once Upon a Time\\' and \\'The Walking Dead\\', and before that \\'Lost\\' has such a brilliant show of great promise declined so rapidly.Lets start with the many great things first. For the first four seasons, \\'House of Cards\\' was seriously addictive, must-watch television and very quickly became one of my favourite shows. Throughout its run, it\\'s one of the most stylish and most atmospheric shows personally seen, with cinematic-quality photography and production design. The direction was smart and intelligent, especially the first two episodes with David Fincher\\'s, to me one of the better directors of the last twenty five or so years, involvement (the first episode earning Fincher a Primetime Emmy) and the music knew when to have presence and when to tone things down to let the dialogue and characters properly speak.Also smart is the writing. Biting, thought-provoking and tightly structured, the writing in Seasons 1 to 4 was an example to all television. The political elements were intriguing and not heavy-handed, a problem so common in film but avoided in \\'House of Cards\\'. The stories didn\\'t go at a \"fast\" pace but it never dragged in the show\\'s prime days, and they were also very layered, had variety and were suitably complex without being convoluted.The characters engaged and intrigued, Frank being another example of one of contemporary television\\'s most fascinating lead characters. \\'House of Cards\\' throughout has been so strongly acted, with Kevin Spacey on tour-De-force form and Robin Wright giving career-best work.So it just feels incredibly frustrating that a show of such brilliance in its prime declined so rapidly in Season 5, to the extent that it feels like a completely different show altogether. The production values and acting have remained top notch, but even they can\\'t save the show being the complete anti-thesis of what it used to be.Pace became incredibly draggy, thanks to flabby writing, simplistic characterisation that is suggestive of the writers not knowing what to do to progress the characters and stories that have become repetitive, both devoid of complexity and confused, ridiculous and like the writers have run out of ideas.It to me was no surprise when it was announced that Season 6 would be \\'House of Cards\\' last season, but it is somewhat saddening that production has now been suspended/cancelled following the Kevin Spacey sexual assault allegations that have now cost Spacey his future on the show (and done serious damage to his career). Season 5 cried out for another season, so that the show has ended on an incomplete note because of the controversy is a real pity, despite Season 5 being such a disappointment \\'House of Cards\\' as an overall show deserves better than that.Overall, brilliant for the first four seasons but Season 5 was so disappointing, enough to bring down the rating considerably. 7/10 Bethany Cox', 'Unexpexted failure all of the 3rd season. Totally based on feelings that never appear before. Surprise how easily one of the best serials become total bullshit. In case of Russian president - OK, no question let him be like this, but sensitivity of main characters and decisions made not based on politics but on human being - its out of question in political world. Very bad, and very upset. Gay scene between president and a writer ?? Oh please. Senator changed mind due to children ? Nightmare. President wife sleeping in a Russian jail(yeah it looks like 3 star hotel) and speaking hours with some delusional idiot who made suicide after ? Looks like an idiot makes scenario. Not sure about waiting for season 4.', \"Outstanding! Outstanding!After watching the first episode I had to continue watching all the episodes. It's edgy, sexy and with a bit of dark humor. Francis Underwood is the first democrat I would ever vote for. The characters are well developed and extremely well casted. Robin Wright and Kevin Spacey are phenomenal and the supporting cast keeps the show moving smoothly and with no drop in continuity. With only a minor amount of policy discussed, it is easy to follow for the non political enthusiasts. Congrats Netflix and I hope there's more like this to come.\", 'What was once a great bit of TV entertainment with some seriously great moments is now a tepid and lost attempt to get one more series out there for profit. Carrie Underwood character is falling and failing. The direction of this last series is pathetic an the script writers all went to sleep. What are you people thinking? This is so lacking in density and quality compared to the series that came before and the final thing is --- WE ARE DEFINITIVELY MISSING FRANCIS.\\nSpacey made the show and they wrote him out over whatever reasons. Pathetic.', 'First season was brilliant, the ending was very good... The other seasons was good too. But... Kevin Spacey WAS the show, he alone carried this. So stupid to make a new season without him. Who cares if someone blames him for something that has happened long time ago, at least wait until it is settled in court! He is (as far as I know) not convicted of anything.', \"After being denied the position as Secretary of State, a congressman named Frank Underwood and his wife Claire Underwood work for each other in the white house in order for him to be elected as President of the United States. At the same time, he exacts revenge on other people who betrayed him.It's been 7 years since it became the first show on Netflix. Back at 2013, it became one of the most popular shows until Orange Is The New Black.Upon learning of the show's history back at 2018, the same year the final season came out (I'll get to that in a moment), I checked out the show and from what I've gotten so far, it was really good. It's not as strong as Stranger Things, Umbrella Academy, The Dark Crystal: Age of Resistance, Trollhunters, and Voltron: Legendary Defender, but it's a very thought-provoking show that tackles the political subject matter very well.Let's start with the positives. Seasons 1-4 were very good. Not only did it provide a political edge, but it does contain drama that doesn't feel mawkish or shoe-horned and some nail-biting suspense. The characters are very interesting mostly Frank and Claire Underwood and the other side characters including Doug Stamper, Zoe, and Rachel, the cinematography is well shot, the pacing is very brisk, and the music score is suitably haunting. And most of all, the acting from everyone involved is great with Kevin Spacey and Robin Wright giving some of their best career performances in any show on history.Unfortunately, it's not without it's faults as the show did decline in quality over the years. Season 5, while not exactly terrible and is actually decent, isn't quite as strong as the earlier seasons with some subplots that don't go anywhere and the writing feeling quite formulaic. Season 6, on the other hand, is where the show collapsed after Kevin Spacey's sexual allegations which got him booted off from the show. The story and writing (which had some new showrunners) is either poor or mediocre, the characters aren't exactly as interesting as they were even Claire Underwood, the pacing drags, and the music score isn't as memorable. The only good things about Season 6 was the decent cinematography and Michael Kelly who was the only actor trying with his character Doug Stamper even though he was used better in the earlier seasons.Overall, House of Cards is a good Netflix show that had potential, but sadly fell apart. This show is only worth watching for it's subject matter and the performances from everyone involved.\", \"Help! My partner is making us watch this show episode by episode, and he can tell I actually spend most of the hour looking away from the screen and scowling. I just wait for it to be over from the second he presses play.It's just not healthy for me to keep watching a show when I wish terrorists would break in and kill the protagonist at every moment. I don't want Frank Underwood to succeed. I don't want to know what he's up to next. I don't want any of his friends to support him. I would hate to think anyone in actual government is like this man. Where is Brutus when you need him? Seriously, someone please stab Kevin Spacey's character to death sometime soon, so this travesty won't have to continue.This show leaves me with no one to root for, and no outcome to events that I actually want to see come about. It forces us to listen to Kevin Spacey periodically talking to the audience, when we've long since ceased giving a damn what he's thinking or how he'll justify his next move. One wants to take a shower after every episode, and were it not for my partner's insistence, I would have stopped watching this after the first three or so episodes. There are no spoiler alerts here because I just don't care anymore how it turns out. I wish I had the freedom to stop watching it. Don't waste as much mental energy as I have wasted in hating this character and everyone involved in bringing him to our television sets!\", \"We started watching Season 1 and by Episode 6 were disgusted with the main characters. Everyone is just plain stupid except for the two main characters played by Kevin Spacey and Robin Wright. You can see every setup a mile away. Yet as noted those who are caught in the cross hairs are portrayed as being complete imbeciles who never see it. And best of all there is NEVER any investigation into anything, apparently the media, law enforcement, and related characters just assume everything is real. In one particular scene, a Secret Service agent, who BTW was also a former trained police officer, was so stupid that he fired his weapon in a residential neighborhood during what was a non-life threatening situation. I thought I only saw stupid thing like this network TV but apparently the same writers are here too. What BS they expect you to believe. It's bad enough to see Kevin Spacey's character, Frank Underwood, as a self-centered ego maniac, but then to add Robin Wright as his power hungry slutty wife who will do anything she needs to for her benefit or Kevin's, it's way too much for those looking for some form of reality. BOTTOM LINE: If you like seeing stupid people up against bad guys who while not overly clever always win, only through the sheer stupidity of those they interact with this show is for one. For those with an IQ over 85 who prefer seeing a plot that is not so obvious, this show is one to avoid.\", \"HOC was one of my all time faverites. The writting, plots, acting, all left the viewer craveing for the next season. However, season 6, a year and a half wait seemed more like a production team forced by a contract to turn out a product with no focus on the art being a celabration to the end of something special, rather, the tittle should read 101 loose ends, never to surface with a conclusion. The ending, seem more like what happens when the budget for a project runs out and someone comes up with a last moment plan to just end it, say contract fullfilled, give me the final check and it's I'm out of here.\", \"Well I join the choir of people who express deep resentment watching this show.To engage yourself in a story don't you have to empathize with some of the characters...? Well....?Maybe I am supposed to be intrigued and fascinated with Mister Underwoods excellent skills at playing deceitful and turning the tide of events in the political system to serve his purpose again and again - but I don't.The theme of deceit is simply too easily identified and can be predicted in such a way, after watching two or three episodes, that you know more or less which structure the rest of the episodes are built around.Every single person has given up any kind of personal integrity. They can the threatened or bought to do whatever Underwood wants.The only happy end I can imagine would be if the Whole place blew up.Regards Simonps. This series has an average vote of 9 from the users of IMDb!PPs. When you read reviews that gives max score check to see if the user has made more than one review. If not consider the possibility of a lobbyist.\", \"The show degenerated into a soap opera, and one with characters who are so consistently icky and so consistently...uh...consistent that I found myself not only uninterested in them, but unable to care what they were doing or what happened to them.The whole thing just made me sad that in a few months I have to watch this whole scenario play itself out in real life, with characters just as icky. The American political scene is so corrupt and so beyond redemption that making a soap opera like this one out of it reveals only how boring it's all become.Save your money and watch the original British series. The characters aren't any less icky, but ant least they're more interesting.\", 'Show was great first couple seasons, but as with many other shows, dragging out far too long for (ie Prison Break). Last 2 seasons turning into \"seriously?!\". It\\'s turning into a bad Hollywood movie, but unfortunately unlike a movie it keeps going. Just gets boring and old. Wrap it up and make the Underwoods pay, otherwise you\\'re just insulting our intelligence.', 'I have watched since the pilot, but without Kevin Spacey, I am not interested.', \"Sorry, folks, but you cannot make it work without Spacey.Despite Robin Wright's incredible performance for 5 seasons, she cannot handle it alone. Netflix just relentlessly dropped the main character and still hoping it works somehow. No, it doesn't. I'm not going to watch this blatantly twisted final season.\", \"Season 6 was the absent Spacey's revenge on those that decided that political correctness reigns - even on this show!\"]\n"
          ],
          "name": "stdout"
        }
      ]
    }
  ]
}